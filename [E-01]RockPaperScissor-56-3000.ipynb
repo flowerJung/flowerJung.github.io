{
 "cells": [
  {
   "cell_type": "markdown",
   "id": "7e926d54",
   "metadata": {},
   "source": [
    "# 가위바위보 분류기를 만들기"
   ]
  },
  {
   "cell_type": "markdown",
   "id": "f5409e28",
   "metadata": {},
   "source": [
    "## 1. 필요한 라이브러리 가져오기\n",
    "\n",
    "#### 1) 인공신경망 \n",
    "- import tensorflow as tf\n",
    "- from tensorflow import keras \n",
    "\n",
    "#### 2) numpy배열\n",
    "- import numpy as np\n",
    "\n",
    "#### 3) 특정 확장자를 가져오기 \n",
    "- import glob\n",
    "\n",
    "#### 4) 환경변수(운영체제에서 설정한 변수) 가져오기\n",
    "- import os\n",
    "\n",
    "#### 5) image 처리(resize)\n",
    "- from PIL import Image\n",
    "\n",
    "#### 6) 이미지 불러오기, 그래프 그리기\n",
    "- import matplotlib.pyplot as plt\n",
    "\n",
    "#### 7) 훈련세트, 테스트세트 나누기\n",
    "- from sklearn.model_selection import train_test_split"
   ]
  },
  {
   "cell_type": "code",
   "execution_count": 27,
   "id": "bfdbab62",
   "metadata": {},
   "outputs": [],
   "source": [
    "import tensorflow as tf\n",
    "from tensorflow import keras\n",
    "\n",
    "import numpy as np\n",
    "\n",
    "import glob\n",
    "import os\n",
    "\n",
    "\n",
    "from PIL import Image\n",
    "import matplotlib.pyplot as plt\n",
    "\n",
    "from sklearn.model_selection import train_test_split"
   ]
  },
  {
   "cell_type": "markdown",
   "id": "3d9ca227",
   "metadata": {},
   "source": [
    "## 2. 이미지 사이즈 변경하기"
   ]
  },
  {
   "cell_type": "markdown",
   "id": "af29e0ae",
   "metadata": {},
   "source": [
    "### 1) 가위 이미지 사이즈 변경하기"
   ]
  },
  {
   "cell_type": "code",
   "execution_count": 2,
   "id": "52c8d775",
   "metadata": {},
   "outputs": [
    {
     "name": "stdout",
     "output_type": "stream",
     "text": [
      "3000  images to be resized.\n",
      "3000  images resized.\n",
      "가위 이미지 resize 완료!\n"
     ]
    }
   ],
   "source": [
    "def resize_images(img_path):\n",
    "\timages=glob.glob(img_path + \"/*.jpg\")  \n",
    "    \n",
    "\tprint(len(images), \" images to be resized.\")\n",
    "\n",
    "    # 파일마다 모두 56x56 사이즈로 바꾸어 저장합니다.\n",
    "\ttarget_size=(56,56)\n",
    "\tfor img in images:\n",
    "\t\told_img=Image.open(img)\n",
    "\t\tnew_img=old_img.resize(target_size,Image.ANTIALIAS)\n",
    "\t\tnew_img.save(img, \"JPEG\")\n",
    "    \n",
    "\tprint(len(images), \" images resized.\")\n",
    "\t\n",
    "# 가위 이미지가 저장된 디렉토리 아래의 모든 jpg 파일을 읽어들여서\n",
    "image_dir_path = os.getenv(\"HOME\") + \"/aiffel/rock_scissor_paper/scissor\"\n",
    "resize_images(image_dir_path)\n",
    "\n",
    "print(\"가위 이미지 resize 완료!\")"
   ]
  },
  {
   "cell_type": "markdown",
   "id": "55e98475",
   "metadata": {},
   "source": [
    "### 2) 바위 이미지 사이즈 변경하기"
   ]
  },
  {
   "cell_type": "code",
   "execution_count": 3,
   "id": "c4fae395",
   "metadata": {},
   "outputs": [
    {
     "name": "stdout",
     "output_type": "stream",
     "text": [
      "3000  images to be resized.\n",
      "3000  images resized.\n",
      "바위 이미지 resize 완료!\n"
     ]
    }
   ],
   "source": [
    "def resize_images(img_path):\n",
    "\timages=glob.glob(img_path + \"/*.jpg\")  \n",
    "    \n",
    "\tprint(len(images), \" images to be resized.\")\n",
    "\n",
    "    # 파일마다 모두 56x56 사이즈로 바꾸어 저장합니다.\n",
    "\ttarget_size=(56,56)\n",
    "\tfor img in images:\n",
    "\t\told_img=Image.open(img)\n",
    "\t\tnew_img=old_img.resize(target_size,Image.ANTIALIAS)\n",
    "\t\tnew_img.save(img, \"JPEG\")\n",
    "    \n",
    "\tprint(len(images), \" images resized.\")\n",
    "\t\n",
    "# 바위 이미지가 저장된 디렉토리 아래의 모든 jpg 파일을 읽어들여서\n",
    "image_dir_path = os.getenv(\"HOME\") + \"/aiffel/rock_scissor_paper/rock\"\n",
    "resize_images(image_dir_path)\n",
    "\n",
    "print(\"바위 이미지 resize 완료!\")"
   ]
  },
  {
   "cell_type": "markdown",
   "id": "32441043",
   "metadata": {},
   "source": [
    "### 3) 보 이미지 사이즈 변경하기"
   ]
  },
  {
   "cell_type": "code",
   "execution_count": 4,
   "id": "a5220f1e",
   "metadata": {
    "scrolled": true
   },
   "outputs": [
    {
     "name": "stdout",
     "output_type": "stream",
     "text": [
      "3000  images to be resized.\n",
      "3000  images resized.\n",
      "보 이미지 resize 완료!\n"
     ]
    }
   ],
   "source": [
    "def resize_images(img_path):\n",
    "\timages=glob.glob(img_path + \"/*.jpg\")  \n",
    "    \n",
    "\tprint(len(images), \" images to be resized.\")\n",
    "\n",
    "    # 파일마다 모두 56x56 사이즈로 바꾸어 저장합니다.\n",
    "\ttarget_size=(56,56)\n",
    "\tfor img in images:\n",
    "\t\told_img=Image.open(img)\n",
    "\t\tnew_img=old_img.resize(target_size,Image.ANTIALIAS)\n",
    "\t\tnew_img.save(img, \"JPEG\")\n",
    "    \n",
    "\tprint(len(images), \" images resized.\")\n",
    "\t\n",
    "# 보 이미지가 저장된 디렉토리 아래의 모든 jpg 파일을 읽어들여서\n",
    "image_dir_path = os.getenv(\"HOME\") + \"/aiffel/rock_scissor_paper/paper\"\n",
    "resize_images(image_dir_path)\n",
    "\n",
    "print(\"보 이미지 resize 완료!\")"
   ]
  },
  {
   "cell_type": "markdown",
   "id": "2d2a04b5",
   "metadata": {},
   "source": [
    "## 3. 가위바위보의 경우 3개의 클래스 -> 가위: 0, 바위: 1, 보: 2 로 라벨링"
   ]
  },
  {
   "cell_type": "code",
   "execution_count": 28,
   "id": "57fbd358",
   "metadata": {},
   "outputs": [],
   "source": [
    "\n",
    "def load_data(img_path, number_of_data=9000):  # 가위바위보 이미지 개수 총합에 주의하세요.\n",
    "    # 가위 : 0, 바위 : 1, 보 : 2\n",
    "    img_size=56\n",
    "    color=3\n",
    "    #이미지 데이터와 라벨(가위 : 0, 바위 : 1, 보 : 2) 데이터를 담을 행렬(matrix) 영역을 생성합니다.\n",
    "    imgs=np.zeros(number_of_data*img_size*img_size*color,dtype=np.int32).reshape(number_of_data,img_size,img_size,color)\n",
    "    labels=np.zeros(number_of_data,dtype=np.int32)\n",
    "\n",
    "    idx=0\n",
    "    for file in glob.iglob(img_path+'/scissor/*.jpg'):\n",
    "        img = np.array(Image.open(file),dtype=np.int32)\n",
    "        imgs[idx,:,:,:]=img    # 데이터 영역에 이미지 행렬을 복사\n",
    "        labels[idx]=0   # 가위 : 0\n",
    "        idx=idx+1\n",
    "\n",
    "    for file in glob.iglob(img_path+'/rock/*.jpg'):\n",
    "        img = np.array(Image.open(file),dtype=np.int32)\n",
    "        imgs[idx,:,:,:]=img    # 데이터 영역에 이미지 행렬을 복사\n",
    "        labels[idx]=1   # 바위 : 1\n",
    "        idx=idx+1  \n",
    "    \n",
    "    for file in glob.iglob(img_path+'/paper/*.jpg'):\n",
    "        img = np.array(Image.open(file),dtype=np.int32)\n",
    "        imgs[idx,:,:,:]=img    # 데이터 영역에 이미지 행렬을 복사\n",
    "        labels[idx]=2   # 보 : 2\n",
    "        idx=idx+1\n",
    "        \n",
    "    print(\"학습데이터(x_train)의 이미지 개수는\", idx,\"입니다.\")\n",
    "    return imgs, labels\n"
   ]
  },
  {
   "cell_type": "markdown",
   "id": "a01690e4",
   "metadata": {},
   "source": [
    "## 4. 이미지 정규화 - 0 ~ 1사이의 값 만들기"
   ]
  },
  {
   "cell_type": "code",
   "execution_count": 29,
   "id": "a200ed6d",
   "metadata": {},
   "outputs": [
    {
     "name": "stdout",
     "output_type": "stream",
     "text": [
      "학습데이터(x_train)의 이미지 개수는 9000 입니다.\n",
      "x_train shape: (9000, 56, 56, 3)\n",
      "y_train shape: (9000,)\n"
     ]
    }
   ],
   "source": [
    "image_dir_path = os.getenv(\"HOME\") + \"/aiffel/rock_scissor_paper\"\n",
    "(x_train, y_train)=load_data(image_dir_path)\n",
    "\n",
    "# 정규화\n",
    "x_train_norm = x_train / 255.0   \n",
    "\n",
    "print(\"x_train shape: {}\".format(x_train.shape))\n",
    "print(\"y_train shape: {}\".format(y_train.shape))"
   ]
  },
  {
   "cell_type": "markdown",
   "id": "2774fdf1",
   "metadata": {},
   "source": [
    "## 5. train_test_split를 이용해서 훈련세트, 검증세트, 테스트세트로 나누기\n",
    "\n",
    "- 훈련(80%), 검증(20%), 테스트(20%) 나누기"
   ]
  },
  {
   "cell_type": "code",
   "execution_count": 30,
   "id": "ee77be40",
   "metadata": {},
   "outputs": [
    {
     "name": "stdout",
     "output_type": "stream",
     "text": [
      "X_train 배열구조 : (5400, 56, 56, 3), Y_train 배열구조 : (5400,)\n",
      "x_val 배열구조 : (1800, 56, 56, 3), x_val 배열구조 : (1800, 56, 56, 3)\n"
     ]
    }
   ],
   "source": [
    "# 훈련세트:80%, 테스트세트:20%\n",
    "x_train, X_test, yy_train, Y_test = train_test_split(x_train_norm, y_train, test_size=0.2, random_state=42) \n",
    "\n",
    "# 훈련세트에서 훈련세트, 검증세트 나누기\n",
    "X_train, x_val, Y_train, y_val = train_test_split(x_train, yy_train, test_size=0.25, random_state=42)\n",
    "\n",
    "print(f\"X_train 배열구조 : {X_train.shape}, Y_train 배열구조 : {Y_train.shape}\")\n",
    "print(f\"x_val 배열구조 : {x_val.shape}, x_val 배열구조 : {x_val.shape}\")"
   ]
  },
  {
   "cell_type": "markdown",
   "id": "0c2974b0",
   "metadata": {},
   "source": [
    "## 6.이미지, 라벨링 확인하기"
   ]
  },
  {
   "cell_type": "code",
   "execution_count": 36,
   "id": "79042f6f",
   "metadata": {
    "scrolled": true
   },
   "outputs": [
    {
     "data": {
      "image/png": "[encoded data removed]",
      "text/plain": [
       "<Figure size 720x720 with 10 Axes>"
      ]
     },
     "metadata": {
      "needs_background": "light"
     },
     "output_type": "display_data"
    },
    {
     "name": "stdout",
     "output_type": "stream",
     "text": [
      "Y_train 라벨 : [1, 2, 1, 1, 2, 2, 2, 0, 1, 1]\n"
     ]
    }
   ],
   "source": [
    "fig, axs = plt.subplots(1, 10, figsize=(10,10))\n",
    "for i in range(10):\n",
    "    axs[i].imshow(X_train[i])\n",
    "    axs[i].axis('off')\n",
    "plt.show()\n",
    "\n",
    "print(\"Y_train 라벨 :\", [Y_train[i] for i in range(10)])"
   ]
  },
  {
   "cell_type": "markdown",
   "id": "4eae1eb0",
   "metadata": {},
   "source": [
    "## 7.딥러닝 모델 설계하기"
   ]
  },
  {
   "cell_type": "code",
   "execution_count": 37,
   "id": "d7583b00",
   "metadata": {},
   "outputs": [
    {
     "name": "stdout",
     "output_type": "stream",
     "text": [
      "Model에 추가된 Layer 개수:  12\n",
      "Model: \"sequential_3\"\n",
      "_________________________________________________________________\n",
      "Layer (type)                 Output Shape              Param #   \n",
      "=================================================================\n",
      "conv2d_9 (Conv2D)            (None, 54, 54, 32)        896       \n",
      "_________________________________________________________________\n",
      "max_pooling2d_9 (MaxPooling2 (None, 27, 27, 32)        0         \n",
      "_________________________________________________________________\n",
      "conv2d_10 (Conv2D)           (None, 25, 25, 64)        18496     \n",
      "_________________________________________________________________\n",
      "max_pooling2d_10 (MaxPooling (None, 12, 12, 64)        0         \n",
      "_________________________________________________________________\n",
      "conv2d_11 (Conv2D)           (None, 10, 10, 128)       73856     \n",
      "_________________________________________________________________\n",
      "max_pooling2d_11 (MaxPooling (None, 5, 5, 128)         0         \n",
      "_________________________________________________________________\n",
      "flatten_3 (Flatten)          (None, 3200)              0         \n",
      "_________________________________________________________________\n",
      "dense_9 (Dense)              (None, 500)               1600500   \n",
      "_________________________________________________________________\n",
      "dropout_6 (Dropout)          (None, 500)               0         \n",
      "_________________________________________________________________\n",
      "dense_10 (Dense)             (None, 100)               50100     \n",
      "_________________________________________________________________\n",
      "dropout_7 (Dropout)          (None, 100)               0         \n",
      "_________________________________________________________________\n",
      "dense_11 (Dense)             (None, 3)                 303       \n",
      "=================================================================\n",
      "Total params: 1,744,151\n",
      "Trainable params: 1,744,151\n",
      "Non-trainable params: 0\n",
      "_________________________________________________________________\n"
     ]
    }
   ],
   "source": [
    "model=keras.models.Sequential()\n",
    "model.add(keras.layers.Conv2D(32, (3,3), activation='relu', input_shape=(56,56,3)))\n",
    "model.add(keras.layers.MaxPool2D(2,2))\n",
    "model.add(keras.layers.Conv2D(64, (3,3), activation='relu'))\n",
    "model.add(keras.layers.MaxPooling2D((2,2)))\n",
    "model.add(keras.layers.Conv2D(128, (3,3), activation='relu'))\n",
    "model.add(keras.layers.MaxPooling2D((2,2)))\n",
    "model.add(keras.layers.Flatten())\n",
    "model.add(keras.layers.Dense(500, activation='relu'))\n",
    "model.add(keras.layers.Dropout(0.5))\n",
    "model.add(keras.layers.Dense(100, activation='relu'))\n",
    "model.add(keras.layers.Dropout(0.4))\n",
    "model.add(keras.layers.Dense(3, activation='softmax'))\n",
    "\n",
    "print('Model에 추가된 Layer 개수: ', len(model.layers))\n",
    "model.summary()"
   ]
  },
  {
   "cell_type": "markdown",
   "id": "aeabe092",
   "metadata": {},
   "source": [
    "## 8.딥러닝 모델 학습시키기"
   ]
  },
  {
   "cell_type": "code",
   "execution_count": 38,
   "id": "dd804c94",
   "metadata": {},
   "outputs": [
    {
     "name": "stdout",
     "output_type": "stream",
     "text": [
      "Epoch 1/10\n",
      "169/169 [==============================] - 1s 5ms/step - loss: 1.0041 - accuracy: 0.4533\n",
      "Epoch 2/10\n",
      "169/169 [==============================] - 1s 5ms/step - loss: 0.6090 - accuracy: 0.7443\n",
      "Epoch 3/10\n",
      "169/169 [==============================] - 1s 5ms/step - loss: 0.2421 - accuracy: 0.9163\n",
      "Epoch 4/10\n",
      "169/169 [==============================] - 1s 5ms/step - loss: 0.1129 - accuracy: 0.9611\n",
      "Epoch 5/10\n",
      "169/169 [==============================] - 1s 5ms/step - loss: 0.0686 - accuracy: 0.9759\n",
      "Epoch 6/10\n",
      "169/169 [==============================] - 1s 5ms/step - loss: 0.0446 - accuracy: 0.9837\n",
      "Epoch 7/10\n",
      "169/169 [==============================] - 1s 5ms/step - loss: 0.0465 - accuracy: 0.9854\n",
      "Epoch 8/10\n",
      "169/169 [==============================] - 1s 5ms/step - loss: 0.0305 - accuracy: 0.9900\n",
      "Epoch 9/10\n",
      "169/169 [==============================] - 1s 5ms/step - loss: 0.0157 - accuracy: 0.9950\n",
      "Epoch 10/10\n",
      "169/169 [==============================] - 1s 5ms/step - loss: 0.0039 - accuracy: 0.9991\n"
     ]
    },
    {
     "data": {
      "text/plain": [
       "<keras.callbacks.History at 0x7fef3660f700>"
      ]
     },
     "execution_count": 38,
     "metadata": {},
     "output_type": "execute_result"
    }
   ],
   "source": [
    "model.compile(optimizer='adam',\n",
    "             loss='sparse_categorical_crossentropy',\n",
    "             metrics=['accuracy'])\n",
    "\n",
    "model.fit(X_train, Y_train, epochs=10)"
   ]
  },
  {
   "cell_type": "markdown",
   "id": "2790a826",
   "metadata": {},
   "source": [
    "## 9. 검증용 테이터 정확도 확인"
   ]
  },
  {
   "cell_type": "code",
   "execution_count": 39,
   "id": "c866a268",
   "metadata": {
    "scrolled": true
   },
   "outputs": [
    {
     "name": "stdout",
     "output_type": "stream",
     "text": [
      "57/57 - 0s - loss: 0.0287 - accuracy: 0.9939\n",
      "val_loss: 0.028735343366861343 \n",
      "val_accuracy: 0.9938889145851135\n"
     ]
    }
   ],
   "source": [
    "# 검증용 데이터(xval)를 가지고 확인\n",
    "test_loss, test_accuracy = model.evaluate(x_val, y_val, verbose=2)\n",
    "print(\"val_loss: {} \".format(test_loss))\n",
    "print(\"val_accuracy: {}\".format(test_accuracy))"
   ]
  },
  {
   "cell_type": "markdown",
   "id": "f8e8b07b",
   "metadata": {},
   "source": [
    "## 10. 테스트용 정확도 확인"
   ]
  },
  {
   "cell_type": "code",
   "execution_count": 40,
   "id": "01279fd7",
   "metadata": {},
   "outputs": [
    {
     "name": "stdout",
     "output_type": "stream",
     "text": [
      "57/57 - 0s - loss: 0.0308 - accuracy: 0.9911\n",
      "test_loss: 0.030808543786406517 \n",
      "test_accuracy: 0.9911110997200012\n"
     ]
    }
   ],
   "source": [
    "# 시험용 데이터(x_test)를 가지고 확인\n",
    "test_loss, test_accuracy = model.evaluate(X_test, Y_test, verbose=2)\n",
    "print(\"test_loss: {} \".format(test_loss))\n",
    "print(\"test_accuracy: {}\".format(test_accuracy))"
   ]
  },
  {
   "attachments": {
    "image-2.png": {
     "image/png": "[encoded data removed]"
    },
    "image-3.png": {
     "image/png": "[encoded data removed]"
    },
    "image-4.png": {
     "image/png": "[encoded data removed]"
    },
    "image-5.png": {
     "image/png": "[encoded data removed]"
    },
    "image-6.png": {
     "image/png": "[encoded data removed]"
    },
    "image-7.png": {
     "image/png": "[encoded data removed]"
    },
    "image.png": {
     "image/png": "[encoded data removed]"
    }
   },
   "cell_type": "markdown",
   "id": "ffedf830",
   "metadata": {},
   "source": [
    "\n",
    "# 회고\n",
    "\n",
    "## 어려웠던 점\n",
    "- 데이터의 수가 적으니 다른 방법을 찾아야 하는 데, 아직 구글링이 부족해서.. 찾아도 눈팅만 한다.\n",
    "   - 이유는 파이썬이 아직 잘 안된다.. .ㅡ.ㅡ\n",
    "   \n",
    "\n",
    "## 프로젝트를 진행하면서 알아낸 점 혹은 아직 모호한 점\n",
    "- 알아낸 것 \n",
    "   - os, glob의 사용법, verbose파라미터\n",
    "- 모호한 점\n",
    "   - 컬러이미지는 교차검증을 할 수 없나?\n",
    "   - 컬러이미지를 흑백으로 어떻게 바꾸지??\n",
    "   \n",
    "\n",
    "## 루브릭 평가 지표를 맞추기 위해 시도한 것들\n",
    "\" 많은 시행 착오가 있었다..\"\n",
    "\n",
    "### 1. 예제처럼 28*28, 전체 300장으로 훈련하고, 다른 멤버들의 데이터로 테스트하니 정확도가 0.3 근처로 나왔다..\n",
    "![image.png](attachment:image.png)\n",
    "\n",
    "아~~ 좌절!!!\n",
    "\n",
    "### 2. 사진 화질이 좋지 않으가 보다.. 사진들을 다시 지우고 80*80으로 리사이즈 후 훈련...\n",
    "![image-2.png](attachment:image-2.png)\n",
    "0.1 상승 아직 멀었다....\n",
    "\n",
    "### 3. 조금 올라갔으니 조금 더 키워볼까?? 사진들을 다시 지우고 100*100으로 리사이즈 후 훈련...\n",
    "![image-3.png](attachment:image-3.png)\n",
    "0.4까지 갔다.. 더 이상 오르지는 않는다. ㅡ.ㅡ\n",
    "\n",
    "### 4. 데이터의 수를 3600으로 늘이자.. 다신 사진 지우고 다시 알집을 풀었다.\n",
    "![image-4.png](attachment:image-4.png)\n",
    "오호~~ 0.6 근처다.. 고지가 보여...\n",
    "\n",
    "### 5. 하지만  0.6을 넘기지 못한다.. 그래서 모델을 손보자.. dropout을 해서 과적합을 줄일까??\n",
    "![image-5.png](attachment:image-5.png)\n",
    "![image-6.png](attachment:image-6.png)\n",
    "다시 원상복구하넹... 데이터가 작고, 이미지 사이즈가 작아서 인가보다...\n",
    "\n",
    "### 6. (56,56), 4500장을 훈련하고, (56,56) 600장을 테스트 했다..\n",
    "![image-7.png](attachment:image-7.png)\n",
    "정확도가 정신이 없다.. 너무나 편차가 심하다..\n",
    "모델 돌리고 정확도 보고 ctrl+enter하기도 너무 귀찮다... ㅜ.ㅜ\n",
    "\n",
    "### 7. 그래서 찾아보았다. 작은 데이터를 가지고 정확도를 올릴 수 있는 방법을..\n",
    "- 이미지증강 : 파이썬이 어려워 쳐다보기만 했는 데.. 마감일이 다됐다.. 작은 데이터로 도전해 볼 예정이다.. 예정만..\n",
    "- 검증 세트 만들기  \n",
    "    - 내가 만들고 싶었던 것은 교차검증이었는 데, 교차검증은 채널수의 제한이 있나? 흑백이미지로 어떻게 바꾸지?? -> 찾지 못함.\n",
    "- 차원축소 : 차원을 줄이면 좀 괜찮을까?? 아~ 이것도 일요일 12시 넘어서... ㅜ.ㅜ 포기\n",
    "\n",
    "## 1~7은 훈련, 테스트 데이터를 따로 만들어서 전혀 다른 데이터로 했더니 정확도가 정신이 없다.. \n",
    "\n",
    "\n",
    "### 8. 다른 분들의 조언을 들으니 훈련데이터에서 검증, 테스트 데이터를 하니 정확도가 올라간다..\n",
    "\n",
    "물론, 사진들을 다 지우고 다시 세팅하고.... 이번에는 9000장에서 3:1:!비율로 데이터를 나눴다..<br>\n",
    "정확도가 너무 좋다.. ㅎㅎㅎ<br>\n",
    "모델을 건드린 것은 여기 서버는 좋으니 용량이 넘쳐나도 잘 될거야~~ !! ㅎㅎㅎ\n",
    "\n",
    "\n",
    "## 자기다짐\n",
    "- 주말에 이미지 증강을 해 보자!! 처음에 내가 생각했던 대로 전혀 다른 이미지로... ㅎㅎㅎ\n",
    "- 파이썬 공부도 좀 해야징!!\n"
   ]
  },
  {
   "cell_type": "code",
   "execution_count": null,
   "id": "bb03adde",
   "metadata": {},
   "outputs": [],
   "source": []
  },
  {
   "cell_type": "code",
   "execution_count": null,
   "id": "7f55aa87",
   "metadata": {},
   "outputs": [],
   "source": []
  },
  {
   "cell_type": "code",
   "execution_count": null,
   "id": "bd86e90a",
   "metadata": {},
   "outputs": [],
   "source": []
  },
  {
   "cell_type": "code",
   "execution_count": null,
   "id": "73d0f0d8",
   "metadata": {},
   "outputs": [],
   "source": []
  }
 ],
 "metadata": {
  "kernelspec": {
   "display_name": "Python 3 (ipykernel)",
   "language": "python",
   "name": "python3"
  },
  "language_info": {
   "codemirror_mode": {
    "name": "ipython",
    "version": 3
   },
   "file_extension": ".py",
   "mimetype": "text/x-python",
   "name": "python",
   "nbconvert_exporter": "python",
   "pygments_lexer": "ipython3",
   "version": "3.9.7"
  }
 },
 "nbformat": 4,
 "nbformat_minor": 5
}
