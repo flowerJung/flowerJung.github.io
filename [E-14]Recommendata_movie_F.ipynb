{
 "cells": [
  {
   "cell_type": "markdown",
   "id": "f68d7ca7",
   "metadata": {},
   "source": [
    "# [E-14] Recommendata Movie\n",
    "\n",
    "### **활용할 데이터셋은 추천 시스템의 MNIST라고 부를만한 `Movielens` 데이터입니다.**\n",
    "\n",
    "- **유저가 영화에 대해 평점을 매긴 데이터가 데이터 크기 별로 있습니다. `MovieLens 1M Dataset` 사용을 권장합니다.**\n",
    "- **별점 데이터는 대표적인 explicit(명백한) 데이터입니다. 하지만 implicit(절대적) 데이터로 간주하고 테스트해 볼 수 있습니다.**\n",
    "- **별점을 시청횟수로 해석**\n",
    "- **또한 유저가 3점 미만으로 준 데이터는 선호하지 않는다고 가정하고 제외**"
   ]
  },
  {
   "cell_type": "markdown",
   "id": "26bcd1f5",
   "metadata": {},
   "source": [
    "## Step 1 데이터 준비와 전처리\n",
    "\n",
    "Movielens 데이터는 'rating.dat' 안에 이미 인덱싱까지 완료된 사용자-영화-평점 데이터가 깔끔하게 정리되어 있다.\n",
    "\n",
    "1.1 데이터 가져오기"
   ]
  },
  {
   "cell_type": "code",
   "execution_count": 1,
   "id": "e4998e47",
   "metadata": {},
   "outputs": [],
   "source": [
    "import os\n",
    "import pandas as pd"
   ]
  },
  {
   "cell_type": "code",
   "execution_count": 2,
   "id": "3d32fcdb",
   "metadata": {
    "scrolled": true
   },
   "outputs": [
    {
     "data": {
      "text/html": [
       "<div>\n",
       "<style scoped>\n",
       "    .dataframe tbody tr th:only-of-type {\n",
       "        vertical-align: middle;\n",
       "    }\n",
       "\n",
       "    .dataframe tbody tr th {\n",
       "        vertical-align: top;\n",
       "    }\n",
       "\n",
       "    .dataframe thead th {\n",
       "        text-align: right;\n",
       "    }\n",
       "</style>\n",
       "<table border=\"1\" class=\"dataframe\">\n",
       "  <thead>\n",
       "    <tr style=\"text-align: right;\">\n",
       "      <th></th>\n",
       "      <th>user_id</th>\n",
       "      <th>movie_id</th>\n",
       "      <th>ratings</th>\n",
       "      <th>timestamp</th>\n",
       "    </tr>\n",
       "  </thead>\n",
       "  <tbody>\n",
       "    <tr>\n",
       "      <th>0</th>\n",
       "      <td>1</td>\n",
       "      <td>1193</td>\n",
       "      <td>5</td>\n",
       "      <td>978300760</td>\n",
       "    </tr>\n",
       "    <tr>\n",
       "      <th>1</th>\n",
       "      <td>1</td>\n",
       "      <td>661</td>\n",
       "      <td>3</td>\n",
       "      <td>978302109</td>\n",
       "    </tr>\n",
       "    <tr>\n",
       "      <th>2</th>\n",
       "      <td>1</td>\n",
       "      <td>914</td>\n",
       "      <td>3</td>\n",
       "      <td>978301968</td>\n",
       "    </tr>\n",
       "    <tr>\n",
       "      <th>3</th>\n",
       "      <td>1</td>\n",
       "      <td>3408</td>\n",
       "      <td>4</td>\n",
       "      <td>978300275</td>\n",
       "    </tr>\n",
       "    <tr>\n",
       "      <th>4</th>\n",
       "      <td>1</td>\n",
       "      <td>2355</td>\n",
       "      <td>5</td>\n",
       "      <td>978824291</td>\n",
       "    </tr>\n",
       "  </tbody>\n",
       "</table>\n",
       "</div>"
      ],
      "text/plain": [
       "   user_id  movie_id  ratings  timestamp\n",
       "0        1      1193        5  978300760\n",
       "1        1       661        3  978302109\n",
       "2        1       914        3  978301968\n",
       "3        1      3408        4  978300275\n",
       "4        1      2355        5  978824291"
      ]
     },
     "execution_count": 2,
     "metadata": {},
     "output_type": "execute_result"
    }
   ],
   "source": [
    "# 데이터 가져와서 보기\n",
    "rating_file_path=os.getenv('HOME') + '/aiffel/recommendata_iu/data/ml-1m/ratings.dat'\n",
    "ratings_cols = ['user_id', 'movie_id', 'ratings', 'timestamp']\n",
    "ratings = pd.read_csv(rating_file_path, sep='::', names=ratings_cols, engine='python', encoding = \"ISO-8859-1\")\n",
    "orginal_data_size = len(ratings)\n",
    "ratings.head()"
   ]
  },
  {
   "cell_type": "code",
   "execution_count": 3,
   "id": "58db5312",
   "metadata": {},
   "outputs": [
    {
     "data": {
      "text/html": [
       "<div>\n",
       "<style scoped>\n",
       "    .dataframe tbody tr th:only-of-type {\n",
       "        vertical-align: middle;\n",
       "    }\n",
       "\n",
       "    .dataframe tbody tr th {\n",
       "        vertical-align: top;\n",
       "    }\n",
       "\n",
       "    .dataframe thead th {\n",
       "        text-align: right;\n",
       "    }\n",
       "</style>\n",
       "<table border=\"1\" class=\"dataframe\">\n",
       "  <thead>\n",
       "    <tr style=\"text-align: right;\">\n",
       "      <th></th>\n",
       "      <th>user_id</th>\n",
       "      <th>movie_id</th>\n",
       "      <th>ratings</th>\n",
       "    </tr>\n",
       "  </thead>\n",
       "  <tbody>\n",
       "    <tr>\n",
       "      <th>0</th>\n",
       "      <td>1</td>\n",
       "      <td>1193</td>\n",
       "      <td>5</td>\n",
       "    </tr>\n",
       "    <tr>\n",
       "      <th>1</th>\n",
       "      <td>1</td>\n",
       "      <td>661</td>\n",
       "      <td>3</td>\n",
       "    </tr>\n",
       "    <tr>\n",
       "      <th>2</th>\n",
       "      <td>1</td>\n",
       "      <td>914</td>\n",
       "      <td>3</td>\n",
       "    </tr>\n",
       "    <tr>\n",
       "      <th>3</th>\n",
       "      <td>1</td>\n",
       "      <td>3408</td>\n",
       "      <td>4</td>\n",
       "    </tr>\n",
       "    <tr>\n",
       "      <th>4</th>\n",
       "      <td>1</td>\n",
       "      <td>2355</td>\n",
       "      <td>5</td>\n",
       "    </tr>\n",
       "  </tbody>\n",
       "</table>\n",
       "</div>"
      ],
      "text/plain": [
       "   user_id  movie_id  ratings\n",
       "0        1      1193        5\n",
       "1        1       661        3\n",
       "2        1       914        3\n",
       "3        1      3408        4\n",
       "4        1      2355        5"
      ]
     },
     "execution_count": 3,
     "metadata": {},
     "output_type": "execute_result"
    }
   ],
   "source": [
    "ratings.drop('timestamp', axis=1, inplace=True)\n",
    "ratings.head()"
   ]
  },
  {
   "cell_type": "code",
   "execution_count": 4,
   "id": "4f389a8e",
   "metadata": {},
   "outputs": [
    {
     "name": "stdout",
     "output_type": "stream",
     "text": [
      "<class 'pandas.core.frame.DataFrame'>\n",
      "RangeIndex: 1000209 entries, 0 to 1000208\n",
      "Data columns (total 3 columns):\n",
      " #   Column    Non-Null Count    Dtype\n",
      "---  ------    --------------    -----\n",
      " 0   user_id   1000209 non-null  int64\n",
      " 1   movie_id  1000209 non-null  int64\n",
      " 2   ratings   1000209 non-null  int64\n",
      "dtypes: int64(3)\n",
      "memory usage: 22.9 MB\n"
     ]
    }
   ],
   "source": [
    "ratings.info()"
   ]
  },
  {
   "cell_type": "code",
   "execution_count": 5,
   "id": "b54b3772",
   "metadata": {},
   "outputs": [
    {
     "name": "stdout",
     "output_type": "stream",
     "text": [
      "orginal_data_size: 1000209, filtered_data_size: 836478\n",
      "Ratio of Remaining Data is 83.63%\n"
     ]
    }
   ],
   "source": [
    "# 평점 3점 이상만 남기기\n",
    "ratings = ratings[ratings['ratings']>=3]\n",
    "filtered_data_size = len(ratings)\n",
    "\n",
    "print(f'orginal_data_size: {orginal_data_size}, filtered_data_size: {filtered_data_size}')\n",
    "print(f'Ratio of Remaining Data is {filtered_data_size / orginal_data_size:.2%}')"
   ]
  },
  {
   "cell_type": "code",
   "execution_count": 6,
   "id": "42c225cf",
   "metadata": {},
   "outputs": [
    {
     "data": {
      "text/html": [
       "<div>\n",
       "<style scoped>\n",
       "    .dataframe tbody tr th:only-of-type {\n",
       "        vertical-align: middle;\n",
       "    }\n",
       "\n",
       "    .dataframe tbody tr th {\n",
       "        vertical-align: top;\n",
       "    }\n",
       "\n",
       "    .dataframe thead th {\n",
       "        text-align: right;\n",
       "    }\n",
       "</style>\n",
       "<table border=\"1\" class=\"dataframe\">\n",
       "  <thead>\n",
       "    <tr style=\"text-align: right;\">\n",
       "      <th></th>\n",
       "      <th>user_id</th>\n",
       "      <th>movie_id</th>\n",
       "      <th>counts</th>\n",
       "    </tr>\n",
       "  </thead>\n",
       "  <tbody>\n",
       "    <tr>\n",
       "      <th>0</th>\n",
       "      <td>1</td>\n",
       "      <td>1193</td>\n",
       "      <td>5</td>\n",
       "    </tr>\n",
       "    <tr>\n",
       "      <th>1</th>\n",
       "      <td>1</td>\n",
       "      <td>661</td>\n",
       "      <td>3</td>\n",
       "    </tr>\n",
       "    <tr>\n",
       "      <th>2</th>\n",
       "      <td>1</td>\n",
       "      <td>914</td>\n",
       "      <td>3</td>\n",
       "    </tr>\n",
       "    <tr>\n",
       "      <th>3</th>\n",
       "      <td>1</td>\n",
       "      <td>3408</td>\n",
       "      <td>4</td>\n",
       "    </tr>\n",
       "    <tr>\n",
       "      <th>4</th>\n",
       "      <td>1</td>\n",
       "      <td>2355</td>\n",
       "      <td>5</td>\n",
       "    </tr>\n",
       "  </tbody>\n",
       "</table>\n",
       "</div>"
      ],
      "text/plain": [
       "   user_id  movie_id  counts\n",
       "0        1      1193       5\n",
       "1        1       661       3\n",
       "2        1       914       3\n",
       "3        1      3408       4\n",
       "4        1      2355       5"
      ]
     },
     "execution_count": 6,
     "metadata": {},
     "output_type": "execute_result"
    }
   ],
   "source": [
    "# ratings 컬럼의 이름을 counts로 바꾸기\n",
    "ratings.rename(columns={'ratings':'counts'}, inplace=True)\n",
    "ratings.head()"
   ]
  },
  {
   "cell_type": "markdown",
   "id": "94702800",
   "metadata": {},
   "source": [
    "1.2 영화 제목을 보기 위해 movies 데이터 가져와서 보기"
   ]
  },
  {
   "cell_type": "code",
   "execution_count": 7,
   "id": "bb6faf2f",
   "metadata": {},
   "outputs": [
    {
     "data": {
      "text/html": [
       "<div>\n",
       "<style scoped>\n",
       "    .dataframe tbody tr th:only-of-type {\n",
       "        vertical-align: middle;\n",
       "    }\n",
       "\n",
       "    .dataframe tbody tr th {\n",
       "        vertical-align: top;\n",
       "    }\n",
       "\n",
       "    .dataframe thead th {\n",
       "        text-align: right;\n",
       "    }\n",
       "</style>\n",
       "<table border=\"1\" class=\"dataframe\">\n",
       "  <thead>\n",
       "    <tr style=\"text-align: right;\">\n",
       "      <th></th>\n",
       "      <th>movie_id</th>\n",
       "      <th>title</th>\n",
       "      <th>genre</th>\n",
       "    </tr>\n",
       "  </thead>\n",
       "  <tbody>\n",
       "    <tr>\n",
       "      <th>0</th>\n",
       "      <td>1</td>\n",
       "      <td>Toy Story (1995)</td>\n",
       "      <td>Animation|Children's|Comedy</td>\n",
       "    </tr>\n",
       "    <tr>\n",
       "      <th>1</th>\n",
       "      <td>2</td>\n",
       "      <td>Jumanji (1995)</td>\n",
       "      <td>Adventure|Children's|Fantasy</td>\n",
       "    </tr>\n",
       "    <tr>\n",
       "      <th>2</th>\n",
       "      <td>3</td>\n",
       "      <td>Grumpier Old Men (1995)</td>\n",
       "      <td>Comedy|Romance</td>\n",
       "    </tr>\n",
       "    <tr>\n",
       "      <th>3</th>\n",
       "      <td>4</td>\n",
       "      <td>Waiting to Exhale (1995)</td>\n",
       "      <td>Comedy|Drama</td>\n",
       "    </tr>\n",
       "    <tr>\n",
       "      <th>4</th>\n",
       "      <td>5</td>\n",
       "      <td>Father of the Bride Part II (1995)</td>\n",
       "      <td>Comedy</td>\n",
       "    </tr>\n",
       "    <tr>\n",
       "      <th>5</th>\n",
       "      <td>6</td>\n",
       "      <td>Heat (1995)</td>\n",
       "      <td>Action|Crime|Thriller</td>\n",
       "    </tr>\n",
       "    <tr>\n",
       "      <th>6</th>\n",
       "      <td>7</td>\n",
       "      <td>Sabrina (1995)</td>\n",
       "      <td>Comedy|Romance</td>\n",
       "    </tr>\n",
       "    <tr>\n",
       "      <th>7</th>\n",
       "      <td>8</td>\n",
       "      <td>Tom and Huck (1995)</td>\n",
       "      <td>Adventure|Children's</td>\n",
       "    </tr>\n",
       "    <tr>\n",
       "      <th>8</th>\n",
       "      <td>9</td>\n",
       "      <td>Sudden Death (1995)</td>\n",
       "      <td>Action</td>\n",
       "    </tr>\n",
       "    <tr>\n",
       "      <th>9</th>\n",
       "      <td>10</td>\n",
       "      <td>GoldenEye (1995)</td>\n",
       "      <td>Action|Adventure|Thriller</td>\n",
       "    </tr>\n",
       "  </tbody>\n",
       "</table>\n",
       "</div>"
      ],
      "text/plain": [
       "   movie_id                               title                         genre\n",
       "0         1                    Toy Story (1995)   Animation|Children's|Comedy\n",
       "1         2                      Jumanji (1995)  Adventure|Children's|Fantasy\n",
       "2         3             Grumpier Old Men (1995)                Comedy|Romance\n",
       "3         4            Waiting to Exhale (1995)                  Comedy|Drama\n",
       "4         5  Father of the Bride Part II (1995)                        Comedy\n",
       "5         6                         Heat (1995)         Action|Crime|Thriller\n",
       "6         7                      Sabrina (1995)                Comedy|Romance\n",
       "7         8                 Tom and Huck (1995)          Adventure|Children's\n",
       "8         9                 Sudden Death (1995)                        Action\n",
       "9        10                    GoldenEye (1995)     Action|Adventure|Thriller"
      ]
     },
     "execution_count": 7,
     "metadata": {},
     "output_type": "execute_result"
    }
   ],
   "source": [
    "# 영화 제목을 보기 위해 movies 데이터 가져와서 보기\n",
    "movie_file_path=os.getenv('HOME') + '/aiffel/recommendata_iu/data/ml-1m/movies.dat'\n",
    "cols = ['movie_id', 'title', 'genre'] \n",
    "movies = pd.read_csv(movie_file_path, sep='::', names=cols, engine='python', encoding='ISO-8859-1')\n",
    "movies.head(10)"
   ]
  },
  {
   "cell_type": "code",
   "execution_count": 8,
   "id": "200628f8",
   "metadata": {
    "scrolled": true
   },
   "outputs": [
    {
     "name": "stdout",
     "output_type": "stream",
     "text": [
      "<class 'pandas.core.frame.DataFrame'>\n",
      "RangeIndex: 3883 entries, 0 to 3882\n",
      "Data columns (total 3 columns):\n",
      " #   Column    Non-Null Count  Dtype \n",
      "---  ------    --------------  ----- \n",
      " 0   movie_id  3883 non-null   int64 \n",
      " 1   title     3883 non-null   object\n",
      " 2   genre     3883 non-null   object\n",
      "dtypes: int64(1), object(2)\n",
      "memory usage: 91.1+ KB\n"
     ]
    }
   ],
   "source": [
    "movies.info()"
   ]
  },
  {
   "cell_type": "code",
   "execution_count": 9,
   "id": "0ad528ca",
   "metadata": {},
   "outputs": [
    {
     "data": {
      "text/plain": [
       "6039"
      ]
     },
     "execution_count": 9,
     "metadata": {},
     "output_type": "execute_result"
    }
   ],
   "source": [
    "ratings['user_id'].nunique()"
   ]
  },
  {
   "cell_type": "markdown",
   "id": "d6e650cd",
   "metadata": {},
   "source": [
    "## Step 2 분석하기\n",
    "\n",
    "### 2.1 ratings, movies를 movid_id로 병합해서 통합 data를 만들기\n",
    "\n",
    "- **data에 있는 유니크한 영화 개수**\n",
    "- **data에 있는 유니크한 사용자 수**\n",
    "- **가장 인기 있는 영화 30개(인기순)**"
   ]
  },
  {
   "cell_type": "code",
   "execution_count": 10,
   "id": "cb8027cd",
   "metadata": {
    "scrolled": true
   },
   "outputs": [
    {
     "data": {
      "text/html": [
       "<div>\n",
       "<style scoped>\n",
       "    .dataframe tbody tr th:only-of-type {\n",
       "        vertical-align: middle;\n",
       "    }\n",
       "\n",
       "    .dataframe tbody tr th {\n",
       "        vertical-align: top;\n",
       "    }\n",
       "\n",
       "    .dataframe thead th {\n",
       "        text-align: right;\n",
       "    }\n",
       "</style>\n",
       "<table border=\"1\" class=\"dataframe\">\n",
       "  <thead>\n",
       "    <tr style=\"text-align: right;\">\n",
       "      <th></th>\n",
       "      <th>user_id</th>\n",
       "      <th>movie_id</th>\n",
       "      <th>counts</th>\n",
       "      <th>title</th>\n",
       "      <th>genre</th>\n",
       "    </tr>\n",
       "  </thead>\n",
       "  <tbody>\n",
       "    <tr>\n",
       "      <th>354734</th>\n",
       "      <td>1078</td>\n",
       "      <td>2125</td>\n",
       "      <td>4</td>\n",
       "      <td>Ever After: A Cinderella Story (1998)</td>\n",
       "      <td>Drama|Romance</td>\n",
       "    </tr>\n",
       "    <tr>\n",
       "      <th>655387</th>\n",
       "      <td>2753</td>\n",
       "      <td>3730</td>\n",
       "      <td>4</td>\n",
       "      <td>Conversation, The (1974)</td>\n",
       "      <td>Drama|Mystery</td>\n",
       "    </tr>\n",
       "    <tr>\n",
       "      <th>239592</th>\n",
       "      <td>2106</td>\n",
       "      <td>2890</td>\n",
       "      <td>4</td>\n",
       "      <td>Three Kings (1999)</td>\n",
       "      <td>Drama|War</td>\n",
       "    </tr>\n",
       "    <tr>\n",
       "      <th>501806</th>\n",
       "      <td>198</td>\n",
       "      <td>3461</td>\n",
       "      <td>3</td>\n",
       "      <td>Lord of the Flies (1963)</td>\n",
       "      <td>Adventure|Drama|Thriller</td>\n",
       "    </tr>\n",
       "    <tr>\n",
       "      <th>148572</th>\n",
       "      <td>534</td>\n",
       "      <td>2006</td>\n",
       "      <td>4</td>\n",
       "      <td>Mask of Zorro, The (1998)</td>\n",
       "      <td>Action|Adventure|Romance</td>\n",
       "    </tr>\n",
       "    <tr>\n",
       "      <th>691610</th>\n",
       "      <td>1603</td>\n",
       "      <td>3060</td>\n",
       "      <td>5</td>\n",
       "      <td>Commitments, The (1991)</td>\n",
       "      <td>Comedy|Drama</td>\n",
       "    </tr>\n",
       "    <tr>\n",
       "      <th>595571</th>\n",
       "      <td>869</td>\n",
       "      <td>2792</td>\n",
       "      <td>4</td>\n",
       "      <td>Airplane II: The Sequel (1982)</td>\n",
       "      <td>Comedy</td>\n",
       "    </tr>\n",
       "    <tr>\n",
       "      <th>247661</th>\n",
       "      <td>1616</td>\n",
       "      <td>1732</td>\n",
       "      <td>4</td>\n",
       "      <td>Big Lebowski, The (1998)</td>\n",
       "      <td>Comedy|Crime|Mystery|Thriller</td>\n",
       "    </tr>\n",
       "    <tr>\n",
       "      <th>554949</th>\n",
       "      <td>4399</td>\n",
       "      <td>3396</td>\n",
       "      <td>4</td>\n",
       "      <td>Muppet Movie, The (1979)</td>\n",
       "      <td>Children's|Comedy</td>\n",
       "    </tr>\n",
       "    <tr>\n",
       "      <th>232881</th>\n",
       "      <td>1552</td>\n",
       "      <td>2599</td>\n",
       "      <td>5</td>\n",
       "      <td>Election (1999)</td>\n",
       "      <td>Comedy</td>\n",
       "    </tr>\n",
       "  </tbody>\n",
       "</table>\n",
       "</div>"
      ],
      "text/plain": [
       "        user_id  movie_id  counts                                  title  \\\n",
       "354734     1078      2125       4  Ever After: A Cinderella Story (1998)   \n",
       "655387     2753      3730       4               Conversation, The (1974)   \n",
       "239592     2106      2890       4                     Three Kings (1999)   \n",
       "501806      198      3461       3               Lord of the Flies (1963)   \n",
       "148572      534      2006       4              Mask of Zorro, The (1998)   \n",
       "691610     1603      3060       5                Commitments, The (1991)   \n",
       "595571      869      2792       4         Airplane II: The Sequel (1982)   \n",
       "247661     1616      1732       4               Big Lebowski, The (1998)   \n",
       "554949     4399      3396       4               Muppet Movie, The (1979)   \n",
       "232881     1552      2599       5                        Election (1999)   \n",
       "\n",
       "                                genre  \n",
       "354734                  Drama|Romance  \n",
       "655387                  Drama|Mystery  \n",
       "239592                      Drama|War  \n",
       "501806       Adventure|Drama|Thriller  \n",
       "148572       Action|Adventure|Romance  \n",
       "691610                   Comedy|Drama  \n",
       "595571                         Comedy  \n",
       "247661  Comedy|Crime|Mystery|Thriller  \n",
       "554949              Children's|Comedy  \n",
       "232881                         Comedy  "
      ]
     },
     "execution_count": 10,
     "metadata": {},
     "output_type": "execute_result"
    }
   ],
   "source": [
    "data = pd.merge(ratings, movies)\n",
    "data.sample(10)"
   ]
  },
  {
   "cell_type": "code",
   "execution_count": 11,
   "id": "a72a86ff",
   "metadata": {
    "scrolled": true
   },
   "outputs": [
    {
     "name": "stdout",
     "output_type": "stream",
     "text": [
      "원래 유저의 수 : 6039 \n",
      "병합 후 유저 수 : 6039\n"
     ]
    }
   ],
   "source": [
    "# 유저 수\n",
    "print(\"원래 유저의 수 :\", ratings['user_id'].nunique(), \"\\n병합 후 유저 수 :\", data['user_id'].nunique())"
   ]
  },
  {
   "cell_type": "code",
   "execution_count": 12,
   "id": "54845954",
   "metadata": {},
   "outputs": [
    {
     "name": "stdout",
     "output_type": "stream",
     "text": [
      "원래 영화의 수 : 3883 \n",
      "병합 후 영화 수 : 3628\n"
     ]
    }
   ],
   "source": [
    "# 영화수\n",
    "print(\"원래 영화의 수 :\", movies['movie_id'].nunique(), \"\\n병합 후 영화 수 :\", data['movie_id'].nunique())"
   ]
  },
  {
   "cell_type": "code",
   "execution_count": 13,
   "id": "873bbe6a",
   "metadata": {},
   "outputs": [
    {
     "data": {
      "text/plain": [
       "title\n",
       "American Beauty (1999)                                   3211\n",
       "Star Wars: Episode IV - A New Hope (1977)                2910\n",
       "Star Wars: Episode V - The Empire Strikes Back (1980)    2885\n",
       "Star Wars: Episode VI - Return of the Jedi (1983)        2716\n",
       "Saving Private Ryan (1998)                               2561\n",
       "Terminator 2: Judgment Day (1991)                        2509\n",
       "Silence of the Lambs, The (1991)                         2498\n",
       "Raiders of the Lost Ark (1981)                           2473\n",
       "Back to the Future (1985)                                2460\n",
       "Matrix, The (1999)                                       2434\n",
       "Jurassic Park (1993)                                     2413\n",
       "Sixth Sense, The (1999)                                  2385\n",
       "Fargo (1996)                                             2371\n",
       "Braveheart (1995)                                        2314\n",
       "Men in Black (1997)                                      2297\n",
       "Schindler's List (1993)                                  2257\n",
       "Princess Bride, The (1987)                               2252\n",
       "Shakespeare in Love (1998)                               2213\n",
       "L.A. Confidential (1997)                                 2210\n",
       "Shawshank Redemption, The (1994)                         2194\n",
       "Godfather, The (1972)                                    2167\n",
       "Groundhog Day (1993)                                     2121\n",
       "E.T. the Extra-Terrestrial (1982)                        2102\n",
       "Being John Malkovich (1999)                              2066\n",
       "Ghostbusters (1984)                                      2051\n",
       "Pulp Fiction (1994)                                      2030\n",
       "Forrest Gump (1994)                                      2022\n",
       "Terminator, The (1984)                                   2019\n",
       "Toy Story (1995)                                         2000\n",
       "Fugitive, The (1993)                                     1941\n",
       "Name: user_id, dtype: int64"
      ]
     },
     "execution_count": 13,
     "metadata": {},
     "output_type": "execute_result"
    }
   ],
   "source": [
    "# 인기 많은 영화\n",
    "title_count = data.groupby('title')['user_id'].count()\n",
    "title_count.sort_values(ascending=False).head(30)"
   ]
  },
  {
   "cell_type": "code",
   "execution_count": 14,
   "id": "4f7e0794",
   "metadata": {},
   "outputs": [
    {
     "data": {
      "text/plain": [
       "count    6039.000000\n",
       "mean      138.512668\n",
       "std       156.241599\n",
       "min         1.000000\n",
       "25%        38.000000\n",
       "50%        81.000000\n",
       "75%       177.000000\n",
       "max      1968.000000\n",
       "Name: title, dtype: float64"
      ]
     },
     "execution_count": 14,
     "metadata": {},
     "output_type": "execute_result"
    }
   ],
   "source": [
    "# 유저별 몇 편의 영화를 보는지에 대한 통계\n",
    "user_count = data.groupby('user_id')['title'].count()\n",
    "user_count.describe()"
   ]
  },
  {
   "cell_type": "markdown",
   "id": "d659e0be",
   "metadata": {},
   "source": [
    "## step 3 내가 선호하는 영화를 5가지 골라서 ratings에 추가하기\n",
    "- 이 데이터셋은 너무 작아서 내가 좋아하는 영화 찾기가 힘들다.\n",
    "- [movie dataset](https://github.com/databricks/spark-training/tree/master/data/movielens)\n",
    "- 제목이 애매해서 movie_id를 추가  \n",
    "|movie_id|title|\n",
    "|:------|:------|\n",
    "| 2571 | Matrix(1999) |\n",
    "| 1805 | Wild Things(1998)|\n",
    "| 280 | Murder in the First(1995)|\n",
    "| 589 | Teminator2(1991)|\n",
    "| 587 | Ghost(1990) |\n",
    "\n",
    "### 3.1  좋아하는 영화 ratings에 movie_id로 추가"
   ]
  },
  {
   "cell_type": "code",
   "execution_count": 15,
   "id": "16100ced",
   "metadata": {},
   "outputs": [
    {
     "data": {
      "text/html": [
       "<div>\n",
       "<style scoped>\n",
       "    .dataframe tbody tr th:only-of-type {\n",
       "        vertical-align: middle;\n",
       "    }\n",
       "\n",
       "    .dataframe tbody tr th {\n",
       "        vertical-align: top;\n",
       "    }\n",
       "\n",
       "    .dataframe thead th {\n",
       "        text-align: right;\n",
       "    }\n",
       "</style>\n",
       "<table border=\"1\" class=\"dataframe\">\n",
       "  <thead>\n",
       "    <tr style=\"text-align: right;\">\n",
       "      <th></th>\n",
       "      <th>user_id</th>\n",
       "      <th>movie_id</th>\n",
       "      <th>counts</th>\n",
       "    </tr>\n",
       "  </thead>\n",
       "  <tbody>\n",
       "    <tr>\n",
       "      <th>1000203</th>\n",
       "      <td>6040</td>\n",
       "      <td>1090</td>\n",
       "      <td>3</td>\n",
       "    </tr>\n",
       "    <tr>\n",
       "      <th>1000205</th>\n",
       "      <td>6040</td>\n",
       "      <td>1094</td>\n",
       "      <td>5</td>\n",
       "    </tr>\n",
       "    <tr>\n",
       "      <th>1000206</th>\n",
       "      <td>6040</td>\n",
       "      <td>562</td>\n",
       "      <td>5</td>\n",
       "    </tr>\n",
       "    <tr>\n",
       "      <th>1000207</th>\n",
       "      <td>6040</td>\n",
       "      <td>1096</td>\n",
       "      <td>4</td>\n",
       "    </tr>\n",
       "    <tr>\n",
       "      <th>1000208</th>\n",
       "      <td>6040</td>\n",
       "      <td>1097</td>\n",
       "      <td>4</td>\n",
       "    </tr>\n",
       "    <tr>\n",
       "      <th>0</th>\n",
       "      <td>6041</td>\n",
       "      <td>2571</td>\n",
       "      <td>5</td>\n",
       "    </tr>\n",
       "    <tr>\n",
       "      <th>1</th>\n",
       "      <td>6041</td>\n",
       "      <td>1805</td>\n",
       "      <td>5</td>\n",
       "    </tr>\n",
       "    <tr>\n",
       "      <th>2</th>\n",
       "      <td>6041</td>\n",
       "      <td>280</td>\n",
       "      <td>5</td>\n",
       "    </tr>\n",
       "    <tr>\n",
       "      <th>3</th>\n",
       "      <td>6041</td>\n",
       "      <td>589</td>\n",
       "      <td>5</td>\n",
       "    </tr>\n",
       "    <tr>\n",
       "      <th>4</th>\n",
       "      <td>6041</td>\n",
       "      <td>587</td>\n",
       "      <td>5</td>\n",
       "    </tr>\n",
       "  </tbody>\n",
       "</table>\n",
       "</div>"
      ],
      "text/plain": [
       "         user_id  movie_id  counts\n",
       "1000203     6040      1090       3\n",
       "1000205     6040      1094       5\n",
       "1000206     6040       562       5\n",
       "1000207     6040      1096       4\n",
       "1000208     6040      1097       4\n",
       "0           6041      2571       5\n",
       "1           6041      1805       5\n",
       "2           6041       280       5\n",
       "3           6041       589       5\n",
       "4           6041       587       5"
      ]
     },
     "execution_count": 15,
     "metadata": {},
     "output_type": "execute_result"
    }
   ],
   "source": [
    "# 내가 좋아하는 영화 ratings 데이터에 추가하기(단,이름은 꼭 데이터셋에 있는 것을 넣어주기)\n",
    "my_favorite = [2571, 1805, 280, 589 , 587]\n",
    "\n",
    "# '6041'이라는 user_id가 위 영화의 평점을 5점씩 준것\n",
    "my_playlist = pd.DataFrame({'user_id': [6041]*5, 'movie_id': my_favorite, 'counts':[5]*5})\n",
    "\n",
    "if not ratings.isin({'user_id':[6041]})['user_id'].any():  # user_id에 'flower'이라는 데이터가 없다면\n",
    "    ratings = ratings.append(my_playlist)                           # 위에 임의로 만든 my_favorite 데이터를 추가\n",
    "\n",
    "ratings.tail(10)       # 잘 추가되었는지 확인"
   ]
  },
  {
   "cell_type": "markdown",
   "id": "9ae86aba",
   "metadata": {},
   "source": [
    "### 3.2 ratings, movies를 movid_id로 병합해서 통합 data를 만들기"
   ]
  },
  {
   "cell_type": "code",
   "execution_count": 16,
   "id": "d05a50d4",
   "metadata": {},
   "outputs": [
    {
     "data": {
      "text/html": [
       "<div>\n",
       "<style scoped>\n",
       "    .dataframe tbody tr th:only-of-type {\n",
       "        vertical-align: middle;\n",
       "    }\n",
       "\n",
       "    .dataframe tbody tr th {\n",
       "        vertical-align: top;\n",
       "    }\n",
       "\n",
       "    .dataframe thead th {\n",
       "        text-align: right;\n",
       "    }\n",
       "</style>\n",
       "<table border=\"1\" class=\"dataframe\">\n",
       "  <thead>\n",
       "    <tr style=\"text-align: right;\">\n",
       "      <th></th>\n",
       "      <th>user_id</th>\n",
       "      <th>movie_id</th>\n",
       "      <th>counts</th>\n",
       "      <th>title</th>\n",
       "      <th>genre</th>\n",
       "    </tr>\n",
       "  </thead>\n",
       "  <tbody>\n",
       "    <tr>\n",
       "      <th>0</th>\n",
       "      <td>1</td>\n",
       "      <td>1193</td>\n",
       "      <td>5</td>\n",
       "      <td>One Flew Over the Cuckoo's Nest (1975)</td>\n",
       "      <td>Drama</td>\n",
       "    </tr>\n",
       "    <tr>\n",
       "      <th>1</th>\n",
       "      <td>2</td>\n",
       "      <td>1193</td>\n",
       "      <td>5</td>\n",
       "      <td>One Flew Over the Cuckoo's Nest (1975)</td>\n",
       "      <td>Drama</td>\n",
       "    </tr>\n",
       "    <tr>\n",
       "      <th>2</th>\n",
       "      <td>12</td>\n",
       "      <td>1193</td>\n",
       "      <td>4</td>\n",
       "      <td>One Flew Over the Cuckoo's Nest (1975)</td>\n",
       "      <td>Drama</td>\n",
       "    </tr>\n",
       "    <tr>\n",
       "      <th>3</th>\n",
       "      <td>15</td>\n",
       "      <td>1193</td>\n",
       "      <td>4</td>\n",
       "      <td>One Flew Over the Cuckoo's Nest (1975)</td>\n",
       "      <td>Drama</td>\n",
       "    </tr>\n",
       "    <tr>\n",
       "      <th>4</th>\n",
       "      <td>17</td>\n",
       "      <td>1193</td>\n",
       "      <td>5</td>\n",
       "      <td>One Flew Over the Cuckoo's Nest (1975)</td>\n",
       "      <td>Drama</td>\n",
       "    </tr>\n",
       "    <tr>\n",
       "      <th>...</th>\n",
       "      <td>...</td>\n",
       "      <td>...</td>\n",
       "      <td>...</td>\n",
       "      <td>...</td>\n",
       "      <td>...</td>\n",
       "    </tr>\n",
       "    <tr>\n",
       "      <th>836478</th>\n",
       "      <td>5851</td>\n",
       "      <td>3607</td>\n",
       "      <td>5</td>\n",
       "      <td>One Little Indian (1973)</td>\n",
       "      <td>Comedy|Drama|Western</td>\n",
       "    </tr>\n",
       "    <tr>\n",
       "      <th>836479</th>\n",
       "      <td>5854</td>\n",
       "      <td>3026</td>\n",
       "      <td>4</td>\n",
       "      <td>Slaughterhouse (1987)</td>\n",
       "      <td>Horror</td>\n",
       "    </tr>\n",
       "    <tr>\n",
       "      <th>836480</th>\n",
       "      <td>5854</td>\n",
       "      <td>690</td>\n",
       "      <td>3</td>\n",
       "      <td>Promise, The (Versprechen, Das) (1994)</td>\n",
       "      <td>Romance</td>\n",
       "    </tr>\n",
       "    <tr>\n",
       "      <th>836481</th>\n",
       "      <td>5938</td>\n",
       "      <td>2909</td>\n",
       "      <td>4</td>\n",
       "      <td>Five Wives, Three Secretaries and Me (1998)</td>\n",
       "      <td>Documentary</td>\n",
       "    </tr>\n",
       "    <tr>\n",
       "      <th>836482</th>\n",
       "      <td>5948</td>\n",
       "      <td>1360</td>\n",
       "      <td>5</td>\n",
       "      <td>Identification of a Woman (Identificazione di ...</td>\n",
       "      <td>Drama</td>\n",
       "    </tr>\n",
       "  </tbody>\n",
       "</table>\n",
       "<p>836483 rows × 5 columns</p>\n",
       "</div>"
      ],
      "text/plain": [
       "        user_id  movie_id  counts  \\\n",
       "0             1      1193       5   \n",
       "1             2      1193       5   \n",
       "2            12      1193       4   \n",
       "3            15      1193       4   \n",
       "4            17      1193       5   \n",
       "...         ...       ...     ...   \n",
       "836478     5851      3607       5   \n",
       "836479     5854      3026       4   \n",
       "836480     5854       690       3   \n",
       "836481     5938      2909       4   \n",
       "836482     5948      1360       5   \n",
       "\n",
       "                                                    title  \\\n",
       "0                  One Flew Over the Cuckoo's Nest (1975)   \n",
       "1                  One Flew Over the Cuckoo's Nest (1975)   \n",
       "2                  One Flew Over the Cuckoo's Nest (1975)   \n",
       "3                  One Flew Over the Cuckoo's Nest (1975)   \n",
       "4                  One Flew Over the Cuckoo's Nest (1975)   \n",
       "...                                                   ...   \n",
       "836478                           One Little Indian (1973)   \n",
       "836479                              Slaughterhouse (1987)   \n",
       "836480             Promise, The (Versprechen, Das) (1994)   \n",
       "836481        Five Wives, Three Secretaries and Me (1998)   \n",
       "836482  Identification of a Woman (Identificazione di ...   \n",
       "\n",
       "                       genre  \n",
       "0                      Drama  \n",
       "1                      Drama  \n",
       "2                      Drama  \n",
       "3                      Drama  \n",
       "4                      Drama  \n",
       "...                      ...  \n",
       "836478  Comedy|Drama|Western  \n",
       "836479                Horror  \n",
       "836480               Romance  \n",
       "836481           Documentary  \n",
       "836482                 Drama  \n",
       "\n",
       "[836483 rows x 5 columns]"
      ]
     },
     "execution_count": 16,
     "metadata": {},
     "output_type": "execute_result"
    }
   ],
   "source": [
    "data = pd.merge(ratings, movies)\n",
    "data"
   ]
  },
  {
   "cell_type": "markdown",
   "id": "16d20992",
   "metadata": {},
   "source": [
    "**추가해 준 데이터가 잘 들어갔는 지 확인**"
   ]
  },
  {
   "cell_type": "code",
   "execution_count": 17,
   "id": "477cc671",
   "metadata": {
    "scrolled": true
   },
   "outputs": [
    {
     "name": "stdout",
     "output_type": "stream",
     "text": [
      "        user_id  movie_id  counts                              title  \\\n",
      "91924      6041       589       5  Terminator 2: Judgment Day (1991)   \n",
      "124654     6041      2571       5                 Matrix, The (1999)   \n",
      "361469     6041       587       5                       Ghost (1990)   \n",
      "516967     6041      1805       5                 Wild Things (1998)   \n",
      "724973     6041       280       5         Murder in the First (1995)   \n",
      "\n",
      "                               genre  \n",
      "91924         Action|Sci-Fi|Thriller  \n",
      "124654        Action|Sci-Fi|Thriller  \n",
      "361469       Comedy|Romance|Thriller  \n",
      "516967  Crime|Drama|Mystery|Thriller  \n",
      "724973                Drama|Thriller  \n"
     ]
    }
   ],
   "source": [
    "print(data[data.user_id == 6041])"
   ]
  },
  {
   "cell_type": "code",
   "execution_count": 18,
   "id": "a33ed2dd",
   "metadata": {},
   "outputs": [
    {
     "data": {
      "text/html": [
       "<div>\n",
       "<style scoped>\n",
       "    .dataframe tbody tr th:only-of-type {\n",
       "        vertical-align: middle;\n",
       "    }\n",
       "\n",
       "    .dataframe tbody tr th {\n",
       "        vertical-align: top;\n",
       "    }\n",
       "\n",
       "    .dataframe thead th {\n",
       "        text-align: right;\n",
       "    }\n",
       "</style>\n",
       "<table border=\"1\" class=\"dataframe\">\n",
       "  <thead>\n",
       "    <tr style=\"text-align: right;\">\n",
       "      <th></th>\n",
       "      <th>user_id</th>\n",
       "      <th>movie_id</th>\n",
       "      <th>counts</th>\n",
       "      <th>title</th>\n",
       "      <th>genre</th>\n",
       "    </tr>\n",
       "  </thead>\n",
       "  <tbody>\n",
       "    <tr>\n",
       "      <th>0</th>\n",
       "      <td>1</td>\n",
       "      <td>1193</td>\n",
       "      <td>5</td>\n",
       "      <td>One Flew Over the Cuckoo's Nest (1975)</td>\n",
       "      <td>Drama</td>\n",
       "    </tr>\n",
       "    <tr>\n",
       "      <th>31113</th>\n",
       "      <td>1</td>\n",
       "      <td>2294</td>\n",
       "      <td>4</td>\n",
       "      <td>Antz (1998)</td>\n",
       "      <td>Animation|Children's</td>\n",
       "    </tr>\n",
       "    <tr>\n",
       "      <th>31674</th>\n",
       "      <td>1</td>\n",
       "      <td>3186</td>\n",
       "      <td>4</td>\n",
       "      <td>Girl, Interrupted (1999)</td>\n",
       "      <td>Drama</td>\n",
       "    </tr>\n",
       "    <tr>\n",
       "      <th>32044</th>\n",
       "      <td>1</td>\n",
       "      <td>1566</td>\n",
       "      <td>4</td>\n",
       "      <td>Hercules (1997)</td>\n",
       "      <td>Adventure|Animation|Children's|Comedy|Musical</td>\n",
       "    </tr>\n",
       "    <tr>\n",
       "      <th>32415</th>\n",
       "      <td>1</td>\n",
       "      <td>588</td>\n",
       "      <td>4</td>\n",
       "      <td>Aladdin (1992)</td>\n",
       "      <td>Animation|Children's|Comedy|Musical</td>\n",
       "    </tr>\n",
       "    <tr>\n",
       "      <th>...</th>\n",
       "      <td>...</td>\n",
       "      <td>...</td>\n",
       "      <td>...</td>\n",
       "      <td>...</td>\n",
       "      <td>...</td>\n",
       "    </tr>\n",
       "    <tr>\n",
       "      <th>724973</th>\n",
       "      <td>6041</td>\n",
       "      <td>280</td>\n",
       "      <td>5</td>\n",
       "      <td>Murder in the First (1995)</td>\n",
       "      <td>Drama|Thriller</td>\n",
       "    </tr>\n",
       "    <tr>\n",
       "      <th>361469</th>\n",
       "      <td>6041</td>\n",
       "      <td>587</td>\n",
       "      <td>5</td>\n",
       "      <td>Ghost (1990)</td>\n",
       "      <td>Comedy|Romance|Thriller</td>\n",
       "    </tr>\n",
       "    <tr>\n",
       "      <th>124654</th>\n",
       "      <td>6041</td>\n",
       "      <td>2571</td>\n",
       "      <td>5</td>\n",
       "      <td>Matrix, The (1999)</td>\n",
       "      <td>Action|Sci-Fi|Thriller</td>\n",
       "    </tr>\n",
       "    <tr>\n",
       "      <th>91924</th>\n",
       "      <td>6041</td>\n",
       "      <td>589</td>\n",
       "      <td>5</td>\n",
       "      <td>Terminator 2: Judgment Day (1991)</td>\n",
       "      <td>Action|Sci-Fi|Thriller</td>\n",
       "    </tr>\n",
       "    <tr>\n",
       "      <th>516967</th>\n",
       "      <td>6041</td>\n",
       "      <td>1805</td>\n",
       "      <td>5</td>\n",
       "      <td>Wild Things (1998)</td>\n",
       "      <td>Crime|Drama|Mystery|Thriller</td>\n",
       "    </tr>\n",
       "  </tbody>\n",
       "</table>\n",
       "<p>836483 rows × 5 columns</p>\n",
       "</div>"
      ],
      "text/plain": [
       "        user_id  movie_id  counts                                   title  \\\n",
       "0             1      1193       5  One Flew Over the Cuckoo's Nest (1975)   \n",
       "31113         1      2294       4                             Antz (1998)   \n",
       "31674         1      3186       4                Girl, Interrupted (1999)   \n",
       "32044         1      1566       4                         Hercules (1997)   \n",
       "32415         1       588       4                          Aladdin (1992)   \n",
       "...         ...       ...     ...                                     ...   \n",
       "724973     6041       280       5              Murder in the First (1995)   \n",
       "361469     6041       587       5                            Ghost (1990)   \n",
       "124654     6041      2571       5                      Matrix, The (1999)   \n",
       "91924      6041       589       5       Terminator 2: Judgment Day (1991)   \n",
       "516967     6041      1805       5                      Wild Things (1998)   \n",
       "\n",
       "                                                genre  \n",
       "0                                               Drama  \n",
       "31113                            Animation|Children's  \n",
       "31674                                           Drama  \n",
       "32044   Adventure|Animation|Children's|Comedy|Musical  \n",
       "32415             Animation|Children's|Comedy|Musical  \n",
       "...                                               ...  \n",
       "724973                                 Drama|Thriller  \n",
       "361469                        Comedy|Romance|Thriller  \n",
       "124654                         Action|Sci-Fi|Thriller  \n",
       "91924                          Action|Sci-Fi|Thriller  \n",
       "516967                   Crime|Drama|Mystery|Thriller  \n",
       "\n",
       "[836483 rows x 5 columns]"
      ]
     },
     "execution_count": 18,
     "metadata": {},
     "output_type": "execute_result"
    }
   ],
   "source": [
    "data.sort_values(by=\"user_id\", axis=0, inplace=True)\n",
    "data"
   ]
  },
  {
   "cell_type": "code",
   "execution_count": 19,
   "id": "dcdcce98",
   "metadata": {},
   "outputs": [],
   "source": [
    "# 고유한 유저, 영화를 찾아내는 코드\n",
    "user_unique = data['user_id'].unique()\n",
    "movie_unique = data['movie_id'].unique()\n",
    "\n",
    "\n",
    "# {유저 id:인덱스번호}로 구성된 딕셔너리 반환\n",
    "user_to_idx = {v:k for k,v in enumerate(user_unique)}\n",
    "\n",
    "# {movie_id:인덱스번호}로 구성된 딕셔너리 반환\n",
    "movie_to_idx = {v:k for k,v in enumerate(movie_unique)}"
   ]
  },
  {
   "cell_type": "code",
   "execution_count": 20,
   "id": "3cce821f",
   "metadata": {},
   "outputs": [
    {
     "name": "stdout",
     "output_type": "stream",
     "text": [
      "6039\n",
      "76\n"
     ]
    }
   ],
   "source": [
    "# 인덱싱 확인\n",
    "print(user_to_idx[6041])    \n",
    "print(movie_to_idx[2571])"
   ]
  },
  {
   "cell_type": "code",
   "execution_count": 21,
   "id": "4ee37705",
   "metadata": {},
   "outputs": [
    {
     "name": "stdout",
     "output_type": "stream",
     "text": [
      "user_id column indexing OK!!\n",
      "movie_id column indexing OK!!\n"
     ]
    },
    {
     "data": {
      "text/html": [
       "<div>\n",
       "<style scoped>\n",
       "    .dataframe tbody tr th:only-of-type {\n",
       "        vertical-align: middle;\n",
       "    }\n",
       "\n",
       "    .dataframe tbody tr th {\n",
       "        vertical-align: top;\n",
       "    }\n",
       "\n",
       "    .dataframe thead th {\n",
       "        text-align: right;\n",
       "    }\n",
       "</style>\n",
       "<table border=\"1\" class=\"dataframe\">\n",
       "  <thead>\n",
       "    <tr style=\"text-align: right;\">\n",
       "      <th></th>\n",
       "      <th>user_id</th>\n",
       "      <th>movie_id</th>\n",
       "      <th>counts</th>\n",
       "      <th>title</th>\n",
       "      <th>genre</th>\n",
       "    </tr>\n",
       "  </thead>\n",
       "  <tbody>\n",
       "    <tr>\n",
       "      <th>0</th>\n",
       "      <td>0</td>\n",
       "      <td>0</td>\n",
       "      <td>5</td>\n",
       "      <td>One Flew Over the Cuckoo's Nest (1975)</td>\n",
       "      <td>Drama</td>\n",
       "    </tr>\n",
       "    <tr>\n",
       "      <th>31113</th>\n",
       "      <td>0</td>\n",
       "      <td>1</td>\n",
       "      <td>4</td>\n",
       "      <td>Antz (1998)</td>\n",
       "      <td>Animation|Children's</td>\n",
       "    </tr>\n",
       "    <tr>\n",
       "      <th>31674</th>\n",
       "      <td>0</td>\n",
       "      <td>2</td>\n",
       "      <td>4</td>\n",
       "      <td>Girl, Interrupted (1999)</td>\n",
       "      <td>Drama</td>\n",
       "    </tr>\n",
       "    <tr>\n",
       "      <th>32044</th>\n",
       "      <td>0</td>\n",
       "      <td>3</td>\n",
       "      <td>4</td>\n",
       "      <td>Hercules (1997)</td>\n",
       "      <td>Adventure|Animation|Children's|Comedy|Musical</td>\n",
       "    </tr>\n",
       "    <tr>\n",
       "      <th>32415</th>\n",
       "      <td>0</td>\n",
       "      <td>4</td>\n",
       "      <td>4</td>\n",
       "      <td>Aladdin (1992)</td>\n",
       "      <td>Animation|Children's|Comedy|Musical</td>\n",
       "    </tr>\n",
       "    <tr>\n",
       "      <th>...</th>\n",
       "      <td>...</td>\n",
       "      <td>...</td>\n",
       "      <td>...</td>\n",
       "      <td>...</td>\n",
       "      <td>...</td>\n",
       "    </tr>\n",
       "    <tr>\n",
       "      <th>724973</th>\n",
       "      <td>6039</td>\n",
       "      <td>1632</td>\n",
       "      <td>5</td>\n",
       "      <td>Murder in the First (1995)</td>\n",
       "      <td>Drama|Thriller</td>\n",
       "    </tr>\n",
       "    <tr>\n",
       "      <th>361469</th>\n",
       "      <td>6039</td>\n",
       "      <td>659</td>\n",
       "      <td>5</td>\n",
       "      <td>Ghost (1990)</td>\n",
       "      <td>Comedy|Romance|Thriller</td>\n",
       "    </tr>\n",
       "    <tr>\n",
       "      <th>124654</th>\n",
       "      <td>6039</td>\n",
       "      <td>76</td>\n",
       "      <td>5</td>\n",
       "      <td>Matrix, The (1999)</td>\n",
       "      <td>Action|Sci-Fi|Thriller</td>\n",
       "    </tr>\n",
       "    <tr>\n",
       "      <th>91924</th>\n",
       "      <td>6039</td>\n",
       "      <td>156</td>\n",
       "      <td>5</td>\n",
       "      <td>Terminator 2: Judgment Day (1991)</td>\n",
       "      <td>Action|Sci-Fi|Thriller</td>\n",
       "    </tr>\n",
       "    <tr>\n",
       "      <th>516967</th>\n",
       "      <td>6039</td>\n",
       "      <td>811</td>\n",
       "      <td>5</td>\n",
       "      <td>Wild Things (1998)</td>\n",
       "      <td>Crime|Drama|Mystery|Thriller</td>\n",
       "    </tr>\n",
       "  </tbody>\n",
       "</table>\n",
       "<p>836483 rows × 5 columns</p>\n",
       "</div>"
      ],
      "text/plain": [
       "        user_id  movie_id  counts                                   title  \\\n",
       "0             0         0       5  One Flew Over the Cuckoo's Nest (1975)   \n",
       "31113         0         1       4                             Antz (1998)   \n",
       "31674         0         2       4                Girl, Interrupted (1999)   \n",
       "32044         0         3       4                         Hercules (1997)   \n",
       "32415         0         4       4                          Aladdin (1992)   \n",
       "...         ...       ...     ...                                     ...   \n",
       "724973     6039      1632       5              Murder in the First (1995)   \n",
       "361469     6039       659       5                            Ghost (1990)   \n",
       "124654     6039        76       5                      Matrix, The (1999)   \n",
       "91924      6039       156       5       Terminator 2: Judgment Day (1991)   \n",
       "516967     6039       811       5                      Wild Things (1998)   \n",
       "\n",
       "                                                genre  \n",
       "0                                               Drama  \n",
       "31113                            Animation|Children's  \n",
       "31674                                           Drama  \n",
       "32044   Adventure|Animation|Children's|Comedy|Musical  \n",
       "32415             Animation|Children's|Comedy|Musical  \n",
       "...                                               ...  \n",
       "724973                                 Drama|Thriller  \n",
       "361469                        Comedy|Romance|Thriller  \n",
       "124654                         Action|Sci-Fi|Thriller  \n",
       "91924                          Action|Sci-Fi|Thriller  \n",
       "516967                   Crime|Drama|Mystery|Thriller  \n",
       "\n",
       "[836483 rows x 5 columns]"
      ]
     },
     "execution_count": 21,
     "metadata": {},
     "output_type": "execute_result"
    }
   ],
   "source": [
    "# indexing을 통해 데이터 컬럼 내 값을 바꾸는 코드\n",
    "# dictionary 자료형의 get 함수는 https://wikidocs.net/16 을 참고하세요.\n",
    "\n",
    "# user_to_idx.get을 통해 user_id 컬럼의 모든 값을 인덱싱한 Series를 구해 봅시다. \n",
    "# 혹시 정상적으로 인덱싱되지 않은 row가 있다면 인덱스가 NaN이 될 테니 dropna()로 제거합니다. \n",
    "temp_user_data = data['user_id'].map(user_to_idx.get).dropna()\n",
    "if len(temp_user_data) == len(data):   # 모든 row가 정상적으로 인덱싱되었다면\n",
    "    print('user_id column indexing OK!!')\n",
    "    data['user_id'] = temp_user_data   # data['user_id']을 인덱싱된 Series로 교체해 줍니다. \n",
    "else:\n",
    "    print('user_id column indexing Fail!!')\n",
    "\n",
    "# artist_to_idx을 통해 artist 컬럼도 동일한 방식으로 인덱싱해 줍니다. \n",
    "temp_movie_data = data['movie_id'].map(movie_to_idx.get).dropna()\n",
    "if len(temp_movie_data) == len(data):\n",
    "    print('movie_id column indexing OK!!')\n",
    "    data['movie_id'] = temp_movie_data\n",
    "else:\n",
    "    print('movie_id column indexing Fail!!')\n",
    "\n",
    "data"
   ]
  },
  {
   "cell_type": "markdown",
   "id": "cf900a7e",
   "metadata": {},
   "source": [
    "## Step 4. CSR matrix 만들기"
   ]
  },
  {
   "cell_type": "code",
   "execution_count": 22,
   "id": "dd705ba8",
   "metadata": {},
   "outputs": [
    {
     "data": {
      "text/plain": [
       "<6040x3628 sparse matrix of type '<class 'numpy.int64'>'\n",
       "\twith 836483 stored elements in Compressed Sparse Row format>"
      ]
     },
     "execution_count": 22,
     "metadata": {},
     "output_type": "execute_result"
    }
   ],
   "source": [
    "# matrix 만들기\n",
    "from scipy.sparse import csr_matrix\n",
    "\n",
    "num_user = data['user_id'].nunique()\n",
    "num_movie = data['movie_id'].nunique()\n",
    "\n",
    "csr_data = csr_matrix((data.counts, (data.user_id, data.movie_id)), shape= (num_user, num_movie))\n",
    "csr_data"
   ]
  },
  {
   "cell_type": "markdown",
   "id": "83ad061b",
   "metadata": {},
   "source": [
    "## **Step 5. MF 모델 학습하기**\n",
    "\n",
    "**Matrix Factorization 모델을 [implicit](https://github.com/benfred/implicit) 패키지를 사용하여 학습**\n",
    "\n",
    "- **`implicit` 패키지는 이전 스텝에서 설명한 암묵적(implicit) dataset을 사용하는 다양한 모델을 굉장히 빠르게 학습할 수 있는 패키지**\n",
    "- **이 패키지에 구현된 `als(AlternatingLeastSquares) 모델`을 사용**\n",
    "    - **한쪽을 고정시키고 다른 쪽을 학습하는 방식을 번갈아 수행하는 방식**\n",
    "\n",
    "**implicit 패키지 불러오기, 세팅**"
   ]
  },
  {
   "cell_type": "code",
   "execution_count": 23,
   "id": "589c8826",
   "metadata": {},
   "outputs": [],
   "source": [
    "# implicit 패키지 불러오기, 세팅\n",
    "from implicit.als import AlternatingLeastSquares\n",
    "import os\n",
    "import numpy as np\n",
    "\n",
    "# implicit 라이브러리에서 권장하고 있는 부분입니다. 학습 내용과는 무관합니다.\n",
    "os.environ['OPENBLAS_NUM_THREADS']='1'\n",
    "os.environ['KMP_DUPLICATE_LIB_OK']='True'\n",
    "os.environ['MKL_NUM_THREADS']='1'"
   ]
  },
  {
   "cell_type": "markdown",
   "id": "35527c4e",
   "metadata": {},
   "source": [
    "**AlternatingLeastSquares 클래스의 __init__ 파라미터**\n",
    "\n",
    "1. **factors : 유저와 아이템의 벡터를 몇 차원으로 할 것인지**\n",
    "2. **regularization : 과적합을 방지하기 위해 정규화 값을 얼마나 사용할 것인지**\n",
    "3. **use_gpu : GPU를 사용할 것인지**\n",
    "4. **iterations : epochs와 같은 의미(데이터를 몇 번 반복해서 학습할 것인지)**\n",
    "\n",
    "**`1과 4를 늘릴수록` 학습 데이터를 잘 학습하게 되지만 `과적합`의 우려가 있으니 좋은 값을 찾기**"
   ]
  },
  {
   "cell_type": "code",
   "execution_count": 24,
   "id": "fbf9a685",
   "metadata": {},
   "outputs": [],
   "source": [
    "# Implicit AlternatingLeastSquares 모델의 선언\n",
    "als_model = AlternatingLeastSquares(factors=200, regularization=0.01, use_gpu=False, iterations=20, dtype=np.float32)"
   ]
  },
  {
   "cell_type": "code",
   "execution_count": 25,
   "id": "a3de7b0b",
   "metadata": {},
   "outputs": [
    {
     "data": {
      "text/plain": [
       "<3628x6040 sparse matrix of type '<class 'numpy.int64'>'\n",
       "\twith 836483 stored elements in Compressed Sparse Column format>"
      ]
     },
     "execution_count": 25,
     "metadata": {},
     "output_type": "execute_result"
    }
   ],
   "source": [
    "# als 모델은 input으로 (item X user)꼴의 matrix를 받기 때문에 Transpose\n",
    "csr_data_transpose = csr_data.T\n",
    "csr_data_transpose"
   ]
  },
  {
   "cell_type": "code",
   "execution_count": 26,
   "id": "c890d056",
   "metadata": {},
   "outputs": [
    {
     "data": {
      "application/vnd.jupyter.widget-view+json": {
       "model_id": "a207a257887f48b5bb87bdbd5bcc72d6",
       "version_major": 2,
       "version_minor": 0
      },
      "text/plain": [
       "  0%|          | 0/20 [00:00<?, ?it/s]"
      ]
     },
     "metadata": {},
     "output_type": "display_data"
    }
   ],
   "source": [
    "# 모델 훈련\n",
    "als_model.fit(csr_data_transpose)"
   ]
  },
  {
   "cell_type": "markdown",
   "id": "a1d5bc50",
   "metadata": {},
   "source": [
    "**als_model을 이용해서 flower_vector, matrix_vector 만들기**"
   ]
  },
  {
   "cell_type": "code",
   "execution_count": 27,
   "id": "d2a43772",
   "metadata": {},
   "outputs": [],
   "source": [
    "# als_model을 이용해서 flower_vector, matrix_vector 만들기\n",
    "flower, matrix = user_to_idx[6041], movie_to_idx[2571]\n",
    "flower_vector, matrix_vector = als_model.user_factors[flower], als_model.item_factors[matrix]"
   ]
  },
  {
   "cell_type": "code",
   "execution_count": 28,
   "id": "061a829c",
   "metadata": {
    "scrolled": true
   },
   "outputs": [
    {
     "data": {
      "text/plain": [
       "(200,)"
      ]
     },
     "execution_count": 28,
     "metadata": {},
     "output_type": "execute_result"
    }
   ],
   "source": [
    "# flower_vector 확인\n",
    "flower_vector.shape"
   ]
  },
  {
   "cell_type": "code",
   "execution_count": 29,
   "id": "e1e99fc4",
   "metadata": {},
   "outputs": [
    {
     "data": {
      "text/plain": [
       "(200,)"
      ]
     },
     "execution_count": 29,
     "metadata": {},
     "output_type": "execute_result"
    }
   ],
   "source": [
    "# matrix_vector 확인\n",
    "matrix_vector.shape"
   ]
  },
  {
   "cell_type": "markdown",
   "id": "b7dc6c98",
   "metadata": {},
   "source": [
    "**flower와 matrix 선호도 예측**"
   ]
  },
  {
   "cell_type": "code",
   "execution_count": 30,
   "id": "9806e186",
   "metadata": {},
   "outputs": [
    {
     "data": {
      "text/plain": [
       "0.7259715"
      ]
     },
     "execution_count": 30,
     "metadata": {},
     "output_type": "execute_result"
    }
   ],
   "source": [
    "# flower과 matrix 내적\n",
    "np.dot(flower_vector, matrix_vector)"
   ]
  },
  {
   "cell_type": "markdown",
   "id": "1f911c7f",
   "metadata": {},
   "source": [
    "**flower, terminator 선호도 예측**"
   ]
  },
  {
   "cell_type": "code",
   "execution_count": 31,
   "id": "8318fe16",
   "metadata": {},
   "outputs": [
    {
     "data": {
      "text/plain": [
       "0.3735022"
      ]
     },
     "execution_count": 31,
     "metadata": {},
     "output_type": "execute_result"
    }
   ],
   "source": [
    "# terminator에 대한 flower의 선호도를 예측 보기\n",
    "\n",
    "terminator = movie_to_idx[1240]\n",
    "terminator_vector = als_model.item_factors[terminator]\n",
    "np.dot(flower_vector, terminator_vector)"
   ]
  },
  {
   "cell_type": "markdown",
   "id": "4c505685",
   "metadata": {},
   "source": [
    "## Step 7. 내가 좋아하는 영화와 비슷한 영화를 추천받기"
   ]
  },
  {
   "cell_type": "code",
   "execution_count": 32,
   "id": "7c91d9f3",
   "metadata": {},
   "outputs": [],
   "source": [
    "def similar_movie_top15(movie_id, N):\n",
    "    # movie_id와 비슷한 영화 찾기\n",
    "    favorite_movie = movie_id\n",
    "    movie_num = movie_to_idx[favorite_movie]\n",
    "    similar_movie = als_model.similar_items(movie_num, N=N)\n",
    "    \n",
    "    # movie_id에서 영화제목 추출하는 함수\n",
    "    def get_title_from_index(index):\n",
    "        return data[data.movie_id == index][\"title\"].values[0]\n",
    "    \n",
    "    recommen_movie = get_title_from_index(movie_num)\n",
    "    \n",
    "    # 영화제목, movie_id, 유사도 저장\n",
    "    similar_movie_final = []\n",
    "\n",
    "    print(recommen_movie + \" 비슷한 영화 15편 \\n\")\n",
    "    for item in similar_movie:\n",
    "        similar_movie_final.append((get_title_from_index(item[0]), item[0], item[1]))\n",
    "\n",
    "    for i in similar_movie_final:\n",
    "        print(i)    "
   ]
  },
  {
   "cell_type": "code",
   "execution_count": 33,
   "id": "46b1f660",
   "metadata": {},
   "outputs": [
    {
     "name": "stdout",
     "output_type": "stream",
     "text": [
      "Ghost (1990) 비슷한 영화 15편 \n",
      "\n",
      "('Ghost (1990)', 659, 1.0000001)\n",
      "('Pretty Woman (1990)', 334, 0.61136836)\n",
      "('Sleepless in Seattle (1993)', 601, 0.44220936)\n",
      "('Mrs. Doubtfire (1993)', 825, 0.42493403)\n",
      "('Flatliners (1990)', 1197, 0.4188093)\n",
      "('While You Were Sleeping (1995)', 593, 0.41804793)\n",
      "(\"My Best Friend's Wedding (1997)\", 353, 0.40454543)\n",
      "(\"You've Got Mail (1998)\", 708, 0.3913477)\n",
      "('Ransom (1996)', 836, 0.38551295)\n",
      "(\"Mummy's Curse, The (1944)\", 2155, 0.37529215)\n",
      "('Shattered Image (1998)', 2957, 0.3748817)\n",
      "('Stranger in the House (1997)', 3560, 0.3691638)\n",
      "('Rough Night in Jericho (1967)', 3112, 0.3682615)\n",
      "(\"I Love You, Don't Touch Me! (1998)\", 3366, 0.3667698)\n",
      "('French Kiss (1995)', 1255, 0.36608097)\n"
     ]
    }
   ],
   "source": [
    "similar_movie_top15(587,15)"
   ]
  },
  {
   "cell_type": "code",
   "execution_count": 34,
   "id": "7271af9b",
   "metadata": {},
   "outputs": [
    {
     "name": "stdout",
     "output_type": "stream",
     "text": [
      "Terminator 2: Judgment Day (1991) 비슷한 영화 15편 \n",
      "\n",
      "('Terminator 2: Judgment Day (1991)', 156, 1.0000001)\n",
      "('Terminator, The (1984)', 198, 0.6088203)\n",
      "('Matrix, The (1999)', 76, 0.60242194)\n",
      "('Total Recall (1990)', 145, 0.542213)\n",
      "('Jurassic Park (1993)', 138, 0.47044718)\n",
      "('Men in Black (1997)', 173, 0.38637596)\n",
      "('Fugitive, The (1993)', 100, 0.36018556)\n",
      "('Aliens (1986)', 721, 0.33549538)\n",
      "(\"She's the One (1996)\", 1237, 0.3141501)\n",
      "('Committed (2000)', 2736, 0.3080015)\n",
      "('Hunt for Red October, The (1990)', 119, 0.3068021)\n",
      "('Germinal (1993)', 3296, 0.30315712)\n",
      "('Bittersweet Motel (2000)', 3510, 0.30287078)\n",
      "('Braveheart (1995)', 107, 0.30243626)\n",
      "('Apple, The (Sib) (1998)', 3308, 0.30221507)\n"
     ]
    }
   ],
   "source": [
    "similar_movie_top15(589,15)"
   ]
  },
  {
   "cell_type": "markdown",
   "id": "1da800bf",
   "metadata": {},
   "source": [
    "## Step 8. 내가 좋아할 만한 영화 추천받기"
   ]
  },
  {
   "cell_type": "code",
   "execution_count": 35,
   "id": "5babc8d4",
   "metadata": {},
   "outputs": [],
   "source": [
    "def recommend_movie(user_id, N):\n",
    "    # flower 좋아하는 영화 추천 인덱스 추출\n",
    "    user = user_to_idx[user_id]\n",
    "    # recommend에서는 user*item CSR Matrix를 받습니다.\n",
    "    movie_recommend= als_model.recommend(user, csr_data, N=N, filter_already_liked_items=True)\n",
    "    \n",
    "    # movie_id에서 영화제목 추출하는 함수\n",
    "    def get_title_from_index(index):\n",
    "        return data[data.movie_id == index][\"title\"].values[0]\n",
    "    \n",
    "    \n",
    "    # 영화제목, movie_id, 유사도 저장\n",
    "    movie_recommend_final = []\n",
    "\n",
    "    print(f\"추천영화 {N}편 \\n\")\n",
    "    for item in movie_recommend:\n",
    "        movie_recommend_final.append((get_title_from_index(item[0]), item[0], item[1]))\n",
    "\n",
    "    for i in movie_recommend_final:\n",
    "        print(i)"
   ]
  },
  {
   "cell_type": "code",
   "execution_count": 36,
   "id": "37ef8bd9",
   "metadata": {},
   "outputs": [
    {
     "name": "stdout",
     "output_type": "stream",
     "text": [
      "추천영화 20편 \n",
      "\n",
      "('Terminator, The (1984)', 198, 0.3735022)\n",
      "('Total Recall (1990)', 145, 0.31615427)\n",
      "('Ransom (1996)', 836, 0.26637346)\n",
      "('Men in Black (1997)', 173, 0.25136378)\n",
      "('Jurassic Park (1993)', 138, 0.22399093)\n",
      "('Bound (1996)', 304, 0.22397742)\n",
      "('Seven (Se7en) (1995)', 314, 0.21138716)\n",
      "(\"Devil's Advocate, The (1997)\", 792, 0.209808)\n",
      "('Face/Off (1997)', 373, 0.20440173)\n",
      "('Fugitive, The (1993)', 100, 0.20046632)\n",
      "('Primal Fear (1996)', 824, 0.19850679)\n",
      "('Saving Private Ryan (1998)', 19, 0.1810452)\n",
      "('Usual Suspects, The (1995)', 267, 0.17583475)\n",
      "('Firm, The (1993)', 409, 0.17279582)\n",
      "('Kiss the Girls (1997)', 1517, 0.16778824)\n",
      "('Spanish Prisoner, The (1997)', 157, 0.16707858)\n",
      "('Forrest Gump (1994)', 131, 0.16694039)\n",
      "('Braveheart (1995)', 107, 0.16682523)\n",
      "('Game, The (1997)', 797, 0.16630489)\n",
      "('Titanic (1997)', 25, 0.16529885)\n"
     ]
    }
   ],
   "source": [
    "recommend_movie(6041, 20)"
   ]
  },
  {
   "cell_type": "markdown",
   "id": "8ef2610a",
   "metadata": {},
   "source": [
    "## Step 8. factors=500 <- 처음에 해 본 것.. 개인적으로 위의 결과가 맘에 들어 위의 모델 선택\n",
    "\n",
    "- 벡터의 크기를 크게 했더니, 내가 추천한 영화와의 선호도는 매우 좋다\n",
    "- 하지만, 내가 선택하지 않은 영화와의 선호도는 별로 좋지 못하다.\n",
    "- 과적합인 것 같다."
   ]
  },
  {
   "cell_type": "code",
   "execution_count": 24,
   "id": "875200b6",
   "metadata": {},
   "outputs": [],
   "source": [
    "# Implicit AlternatingLeastSquares 모델의 선언\n",
    "als_model = AlternatingLeastSquares(factors=500, regularization=0.01, use_gpu=False, iterations=20, dtype=np.float32)"
   ]
  },
  {
   "cell_type": "code",
   "execution_count": 25,
   "id": "9195b683",
   "metadata": {},
   "outputs": [
    {
     "data": {
      "text/plain": [
       "<3628x6040 sparse matrix of type '<class 'numpy.int64'>'\n",
       "\twith 836483 stored elements in Compressed Sparse Column format>"
      ]
     },
     "execution_count": 25,
     "metadata": {},
     "output_type": "execute_result"
    }
   ],
   "source": [
    "# als 모델은 input으로 (item X user)꼴의 matrix를 받기 때문에 Transpose\n",
    "csr_data_transpose = csr_data.T\n",
    "csr_data_transpose"
   ]
  },
  {
   "cell_type": "code",
   "execution_count": 26,
   "id": "ae257e6b",
   "metadata": {},
   "outputs": [
    {
     "data": {
      "application/vnd.jupyter.widget-view+json": {
       "model_id": "eebbddbcfd0e4844951882907ece1dab",
       "version_major": 2,
       "version_minor": 0
      },
      "text/plain": [
       "  0%|          | 0/20 [00:00<?, ?it/s]"
      ]
     },
     "metadata": {},
     "output_type": "display_data"
    }
   ],
   "source": [
    "# 모델 훈련\n",
    "als_model.fit(csr_data_transpose)"
   ]
  },
  {
   "cell_type": "markdown",
   "id": "2ac11ca6",
   "metadata": {},
   "source": [
    "**als_model을 이용해서 flower_vector, matrix_vector 만들기**"
   ]
  },
  {
   "cell_type": "code",
   "execution_count": 27,
   "id": "5398c9a3",
   "metadata": {},
   "outputs": [],
   "source": [
    "# als_model을 이용해서 flower_vector, matrix_vector 만들기\n",
    "flower, matrix = user_to_idx[6041], movie_to_idx[2571]\n",
    "flower_vector, matrix_vector = als_model.user_factors[flower], als_model.item_factors[matrix]"
   ]
  },
  {
   "cell_type": "code",
   "execution_count": 28,
   "id": "6f5b6263",
   "metadata": {
    "scrolled": true
   },
   "outputs": [
    {
     "data": {
      "text/plain": [
       "(500,)"
      ]
     },
     "execution_count": 28,
     "metadata": {},
     "output_type": "execute_result"
    }
   ],
   "source": [
    "# flower_vector 확인\n",
    "flower_vector.shape"
   ]
  },
  {
   "cell_type": "code",
   "execution_count": 29,
   "id": "c4f46481",
   "metadata": {},
   "outputs": [
    {
     "data": {
      "text/plain": [
       "(500,)"
      ]
     },
     "execution_count": 29,
     "metadata": {},
     "output_type": "execute_result"
    }
   ],
   "source": [
    "# matrix_vector 확인\n",
    "matrix_vector.shape"
   ]
  },
  {
   "cell_type": "markdown",
   "id": "390a7b54",
   "metadata": {},
   "source": [
    "**flower와 matrix 선호도 예측**"
   ]
  },
  {
   "cell_type": "code",
   "execution_count": 30,
   "id": "ec56deb5",
   "metadata": {},
   "outputs": [
    {
     "data": {
      "text/plain": [
       "0.9452948"
      ]
     },
     "execution_count": 30,
     "metadata": {},
     "output_type": "execute_result"
    }
   ],
   "source": [
    "# flower과 matrix 내적\n",
    "np.dot(flower_vector, matrix_vector)"
   ]
  },
  {
   "cell_type": "markdown",
   "id": "ef6c94a9",
   "metadata": {},
   "source": [
    "**flower, terminator에 선호도 예측**"
   ]
  },
  {
   "cell_type": "code",
   "execution_count": 31,
   "id": "10043b6a",
   "metadata": {},
   "outputs": [
    {
     "data": {
      "text/plain": [
       "0.22865026"
      ]
     },
     "execution_count": 31,
     "metadata": {},
     "output_type": "execute_result"
    }
   ],
   "source": [
    "# terminator에 대한 flower의 선호도를 예측 보기\n",
    "\n",
    "terminator = movie_to_idx[1240]\n",
    "terminator_vector = als_model.item_factors[terminator]\n",
    "np.dot(flower_vector, terminator_vector)"
   ]
  },
  {
   "cell_type": "markdown",
   "id": "a049ae9a",
   "metadata": {},
   "source": [
    "**내가 좋아하는 영화와 비슷한 영화를 추천받기**"
   ]
  },
  {
   "cell_type": "code",
   "execution_count": 32,
   "id": "76caaecd",
   "metadata": {},
   "outputs": [],
   "source": [
    "def similar_movie_top15(movie_id, N):\n",
    "    # movie_id와 비슷한 영화 찾기\n",
    "    favorite_movie = movie_id\n",
    "    movie_num = movie_to_idx[favorite_movie]\n",
    "    similar_movie = als_model.similar_items(movie_num, N=N)\n",
    "    \n",
    "    # movie_id에서 영화제목 추출하는 함수\n",
    "    def get_title_from_index(index):\n",
    "        return data[data.movie_id == index][\"title\"].values[0]\n",
    "    \n",
    "    recommen_movie = get_title_from_index(movie_num)\n",
    "    \n",
    "    # 영화제목, movie_id, 유사도 저장\n",
    "    similar_movie_final = []\n",
    "\n",
    "    print(recommen_movie + \" 비슷한 영화 15편 \\n\")\n",
    "    for item in similar_movie:\n",
    "        similar_movie_final.append((get_title_from_index(item[0]), item[0], item[1]))\n",
    "\n",
    "    for i in similar_movie_final:\n",
    "        print(i)    "
   ]
  },
  {
   "cell_type": "code",
   "execution_count": 33,
   "id": "861288ce",
   "metadata": {},
   "outputs": [
    {
     "name": "stdout",
     "output_type": "stream",
     "text": [
      "Ghost (1990) 비슷한 영화 15편 \n",
      "\n",
      "('Ghost (1990)', 659, 1.0000001)\n",
      "('Shattered Image (1998)', 2957, 0.4041616)\n",
      "('Mr. Magoo (1997)', 2347, 0.39524364)\n",
      "('Gay Deceivers, The (1969)', 3569, 0.39139843)\n",
      "('Held Up (2000)', 3493, 0.39015025)\n",
      "('Molly (1999)', 3158, 0.3880006)\n",
      "('Rent-a-Kid (1995)', 3193, 0.3875163)\n",
      "('Leather Jacket Love Story (1997)', 3506, 0.3873704)\n",
      "('In the Line of Duty 2 (1987)', 3353, 0.3871596)\n",
      "('Stranger, The (1994)', 3605, 0.38701534)\n",
      "('Rough Night in Jericho (1967)', 3112, 0.38671765)\n",
      "('Zachariah (1971)', 3559, 0.38657045)\n",
      "('Second Best (1994)', 3583, 0.38585648)\n",
      "('Brother Minister: The Assassination of Malcolm X (1994)', 3607, 0.38561806)\n",
      "('Stranger in the House (1997)', 3560, 0.38553244)\n"
     ]
    }
   ],
   "source": [
    "similar_movie_top15(587,15)"
   ]
  },
  {
   "cell_type": "code",
   "execution_count": 34,
   "id": "638a674b",
   "metadata": {},
   "outputs": [
    {
     "name": "stdout",
     "output_type": "stream",
     "text": [
      "Terminator 2: Judgment Day (1991) 비슷한 영화 15편 \n",
      "\n",
      "('Terminator 2: Judgment Day (1991)', 156, 1.0000001)\n",
      "('Grosse Fatigue (1994)', 3268, 0.37656322)\n",
      "('Man from Down Under, The (1943)', 3481, 0.37334514)\n",
      "('City of the Living Dead (Paura nella città dei morti viventi) (1980)', 3512, 0.37313)\n",
      "('Sorority House Massacre II (1990)', 3183, 0.37274668)\n",
      "('Schlafes Bruder (Brother of Sleep) (1995)', 3466, 0.36939606)\n",
      "(\"I Can't Sleep (J'ai pas sommeil) (1994)\", 3281, 0.3693751)\n",
      "('Running Free (2000)', 3156, 0.3686136)\n",
      "('Stranger, The (1994)', 3605, 0.3679255)\n",
      "('Ulysses (Ulisse) (1954)', 3544, 0.36763322)\n",
      "('Simon Sez (1999)', 3499, 0.36685023)\n",
      "('Institute Benjamenta, or This Dream People Call Human Life (1995)', 3303, 0.3664202)\n",
      "('Bittersweet Motel (2000)', 3510, 0.36613166)\n",
      "('Getting Away With Murder (1996)', 3173, 0.36601803)\n",
      "(\"Billy's Holiday (1995)\", 2986, 0.3657377)\n"
     ]
    }
   ],
   "source": [
    "similar_movie_top15(589,15)"
   ]
  },
  {
   "cell_type": "markdown",
   "id": "041316f0",
   "metadata": {},
   "source": [
    "## Step 8. 내가 좋아할 만한 영화 추천받기"
   ]
  },
  {
   "cell_type": "code",
   "execution_count": 35,
   "id": "0789aa55",
   "metadata": {},
   "outputs": [],
   "source": [
    "def recommend_movie(user_id, N):\n",
    "    # flower 좋아하는 영화 추천 인덱스 추출\n",
    "    user = user_to_idx[user_id]\n",
    "    # recommend에서는 user*item CSR Matrix를 받습니다.\n",
    "    movie_recommend= als_model.recommend(user, csr_data, N=N, filter_already_liked_items=True)\n",
    "    \n",
    "    # movie_id에서 영화제목 추출하는 함수\n",
    "    def get_title_from_index(index):\n",
    "        return data[data.movie_id == index][\"title\"].values[0]\n",
    "    \n",
    "    \n",
    "    # 영화제목, movie_id, 유사도 저장\n",
    "    movie_recommend_final = []\n",
    "\n",
    "    print(f\"추천영화 {N}편 \\n\")\n",
    "    for item in movie_recommend:\n",
    "        movie_recommend_final.append((get_title_from_index(item[0]), item[0], item[1]))\n",
    "\n",
    "    for i in movie_recommend_final:\n",
    "        print(i)"
   ]
  },
  {
   "cell_type": "code",
   "execution_count": 36,
   "id": "7c59c74c",
   "metadata": {
    "scrolled": true
   },
   "outputs": [
    {
     "name": "stdout",
     "output_type": "stream",
     "text": [
      "추천영화 20편 \n",
      "\n",
      "('Terminator, The (1984)', 198, 0.22865026)\n",
      "('Primal Fear (1996)', 824, 0.17956488)\n",
      "('Ransom (1996)', 836, 0.17051807)\n",
      "('Far and Away (1992)', 432, 0.11836855)\n",
      "(\"Devil's Advocate, The (1997)\", 792, 0.11472375)\n",
      "('Tao of Steve, The (2000)', 1471, 0.11434703)\n",
      "('Seven (Se7en) (1995)', 314, 0.11287715)\n",
      "('Mask, The (1994)', 470, 0.11200081)\n",
      "('Kiss the Girls (1997)', 1517, 0.1115242)\n",
      "('Firm, The (1993)', 409, 0.11137301)\n",
      "('Sleepers (1996)', 1385, 0.1093062)\n",
      "('Gattaca (1997)', 383, 0.1087544)\n",
      "('Lost World: Jurassic Park, The (1997)', 112, 0.10836181)\n",
      "('Bound (1996)', 304, 0.10717656)\n",
      "('Men in Black (1997)', 173, 0.10671297)\n",
      "('Man for All Seasons, A (1966)', 1452, 0.10461156)\n",
      "('Spanish Prisoner, The (1997)', 157, 0.10371525)\n",
      "('Total Recall (1990)', 145, 0.10240842)\n",
      "('Graduate, The (1967)', 158, 0.10131778)\n",
      "('North by Northwest (1959)', 244, 0.10114087)\n"
     ]
    }
   ],
   "source": [
    "recommend_movie(6041, 20)"
   ]
  },
  {
   "cell_type": "markdown",
   "id": "350d47e4",
   "metadata": {},
   "source": [
    "## 회고\n",
    "\n",
    "1. 이번 프로젝트에서 **어려웠던 점**\n",
    "- 유사도를 측정하기 위해 'title'을 이용했어야 하나, 'title'의 'the'가 뒤에 있는 것이 있어서 movie_id를 이용해서 추천 받음\n",
    "- 추천 영화 제목과 movie_id를 조인하는 것이 어려웠는 데, fundamentals에 있는 함수 사용함\n",
    "2. 프로젝트를 진행하면서 **알아낸 점**\n",
    "- csr Matrix를 만드는 방법\n",
    "3. 프로젝트를 진행하면서 **아직 모호한 점**\n",
    "- 'title'에서 'the'의 위치가 뒤에 있는 것을 전처리 하고 프로젝트를 했어야 하나??\n",
    "    - '그렇다면 어디까지 전처리를 해야 하는가?', 시리즈물은 어떻게 하지?\n",
    "- 추천 시스템을 만들려면 정확한 'title'을 줘야 하는 데, 그건 서비스해야 할 때 신경써야 하는 부분인 것 같은 데..\n",
    "4. **자기 다짐**\n",
    "- exploration을 진행하다보니 이제는 판다스도 해야할 것 같다..\n",
    "- 할 것은 쌓여 가는 데 우짜지?? ㅎㅎ"
   ]
  }
 ],
 "metadata": {
  "kernelspec": {
   "display_name": "Python 3 (ipykernel)",
   "language": "python",
   "name": "python3"
  },
  "language_info": {
   "codemirror_mode": {
    "name": "ipython",
    "version": 3
   },
   "file_extension": ".py",
   "mimetype": "text/x-python",
   "name": "python",
   "nbconvert_exporter": "python",
   "pygments_lexer": "ipython3",
   "version": "3.9.7"
  }
 },
 "nbformat": 4,
 "nbformat_minor": 5
}
