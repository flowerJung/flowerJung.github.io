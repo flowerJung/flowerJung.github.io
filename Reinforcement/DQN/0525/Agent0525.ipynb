{
 "cells": [
  {
   "cell_type": "code",
   "execution_count": 45,
   "id": "181f2192",
   "metadata": {},
   "outputs": [
    {
     "name": "stdout",
     "output_type": "stream",
     "text": [
      "reward: -1 -10 1000\n"
     ]
    }
   ],
   "source": [
    "from string import ascii_uppercase\n",
    "from draw_utils import *\n",
    "from pyglet.gl import *\n",
    "import numpy as np\n",
    "import pandas as pd\n",
    "import os\n",
    "\n",
    "\n",
    "\n",
    "# reward\n",
    "move_reward = -1\n",
    "obs_reward = -10\n",
    "out_reward = -10\n",
    "goal_reward = 1000\n",
    "noitem_reward = -0.1\n",
    "\n",
    "print('reward:' , move_reward, obs_reward, goal_reward)\n",
    "\n",
    "local_path = os.path.abspath(os.path.join(os.path.dirname('__file__')))\n",
    "\n",
    "\n",
    "class Simulator:\n",
    "    def __init__(self):\n",
    "        '''\n",
    "        height : 그리드 높이\n",
    "        width : 그리드 너비 \n",
    "        inds : A ~ Q alphabet list\n",
    "        '''\n",
    "        # Load train data\n",
    "        self.files = pd.read_csv(os.path.join(local_path, \"./data/factory_order_train.csv\"))\n",
    "        self.height = 10\n",
    "        self.width = 9\n",
    "        self.inds = list(ascii_uppercase)[:17]\n",
    "\n",
    "    def set_box(self):\n",
    "        '''\n",
    "        아이템들이 있을 위치를 미리 정해놓고 그 위치 좌표들에 아이템이 들어올 수 있으므로 그리드에 100으로 표시한다.\n",
    "        데이터 파일에서 이번 에피소드 아이템 정보를 받아 가져와야 할 아이템이 있는 좌표만 -100으로 표시한다.\n",
    "        self.local_target에 에이전트가 이번에 방문해야할 좌표들을 저장한다.\n",
    "        따라서 가져와야하는 아이템 좌표와 end point 좌표(처음 시작했던 좌표로 돌아와야하므로)가 들어가게 된다.\n",
    "        '''\n",
    "        box_data = pd.read_csv(os.path.join(local_path, \"./data/box.csv\"))\n",
    "\n",
    "        # 물건이 들어있을 수 있는 경우\n",
    "        for box in box_data.itertuples(index = True, name ='Pandas'):\n",
    "            self.grid[getattr(box, \"row\")][getattr(box, \"col\")] = 100\n",
    "\n",
    "        # 물건이 실제 들어있는 경우\n",
    "        order_item = list(set(self.inds) & set(self.items))\n",
    "        order_csv = box_data[box_data['item'].isin(order_item)]\n",
    "\n",
    "        for order_box in order_csv.itertuples(index = True, name ='Pandas'):\n",
    "            self.grid[getattr(order_box, \"row\")][getattr(order_box, \"col\")] = 200\n",
    "            # local target에 가야 할 위치 좌표 넣기\n",
    "            self.local_target.append(\n",
    "                [getattr(order_box, \"row\"),\n",
    "                 getattr(order_box, \"col\")]\n",
    "                )\n",
    "\n",
    "        #self.local_target.sort()\n",
    "        #self.local_target.append([9,4]) \n",
    "\n",
    "        # 알파벳을 Grid에 넣어서 -> grid에 2Dconv 적용 가능\n",
    "\n",
    "    def set_obstacle(self):\n",
    "        '''\n",
    "        장애물이 있어야하는 위치는 미리 obstacles.csv에 정의되어 있다. 이 좌표들을 0으로 표시한다.\n",
    "        '''\n",
    "        obstacles_data = pd.read_csv(os.path.join(local_path, \"./data/obstacles.csv\"))\n",
    "        for obstacle in obstacles_data.itertuples(index = True, name ='Pandas'):\n",
    "            self.grid[getattr(obstacle, \"row\")][getattr(obstacle, \"col\")] = 150\n",
    "\n",
    "    def reset(self, epi):\n",
    "        '''\n",
    "        reset()은 첫 스텝에서 사용되며 그리드에서 에이전트 위치가 start point에 있게 한다.\n",
    "\n",
    "        :param epi: episode, 에피소드 마다 가져와야 할 아이템 리스트를 불러올 때 사용\n",
    "        :return: 초기셋팅 된 그리드\n",
    "        :rtype: numpy.ndarray\n",
    "        _____________________________________________________________________________________\n",
    "        items : 이번 에피소드에서 가져와야하는 아이템들\n",
    "        terminal_location : 현재 에이전트가 찾아가야하는 목적지\n",
    "        local_target : 한 에피소드에서 찾아가야하는 아이템 좌표, 마지막 엔드 포인트 등의 위치좌표들\n",
    "        actions: visualization을 위해 에이전트 action을 저장하는 리스트\n",
    "        curloc : 현재 위치\n",
    "        '''\n",
    "\n",
    "        # initial episode parameter setting\n",
    "        self.epi = epi\n",
    "        self.items = list(self.files.iloc[self.epi])[0]\n",
    "        self.cumulative_reward = 0\n",
    "        self.terminal_location = None\n",
    "        self.local_target = []\n",
    "        self.actions = []\n",
    "\n",
    "        # initial grid setting\n",
    "        self.grid = np.ones((self.height, self.width), dtype=\"float16\")\n",
    "\n",
    "        # set information about the gridworld\n",
    "        self.set_box()\n",
    "        self.set_obstacle()\n",
    "\n",
    "        # start point를 grid에 표시\n",
    "        self.curloc = [9, 4]\n",
    "        self.grid[int(self.curloc[0])][int(self.curloc[1])] = 50\n",
    "        \n",
    "        self.done = False\n",
    "        \n",
    "        return self.grid\n",
    "\n",
    "    def apply_action(self, action, cur_x, cur_y):\n",
    "        '''\n",
    "        에이전트가 행한 action대로 현 에이전트의 위치좌표를 바꾼다.\n",
    "        action은 discrete하며 4가지 up,down,left,right으로 정의된다.\n",
    "        \n",
    "        :param x: 에이전트의 현재 x 좌표\n",
    "        :param y: 에이전트의 현재 y 좌표\n",
    "        :return: action에 따라 변한 에이전트의 x 좌표, y 좌표\n",
    "        :rtype: int, int\n",
    "        '''\n",
    "        new_x = cur_x\n",
    "        new_y = cur_y\n",
    "        # up\n",
    "        if action == 0:\n",
    "            new_x = cur_x - 1\n",
    "        # down\n",
    "        elif action == 1:\n",
    "            new_x = cur_x + 1\n",
    "        # left\n",
    "        elif action == 2:\n",
    "            new_y = cur_y - 1\n",
    "        # right\n",
    "        else:\n",
    "            new_y = cur_y + 1\n",
    "\n",
    "        return int(new_x), int(new_y)\n",
    "\n",
    "\n",
    "    def get_reward(self, new_x, new_y, out_of_boundary):\n",
    "        '''\n",
    "        get_reward함수는 리워드를 계산하는 함수이며, 상황에 따라 에이전트가 action을 옳게 했는지 판단하는 지표가 된다.\n",
    "\n",
    "        :param new_x: action에 따른 에이전트 새로운 위치좌표 x\n",
    "        :param new_y: action에 따른 에이전트 새로운 위치좌표 y\n",
    "        :param out_of_boundary: 에이전트 위치가 그리드 밖이 되지 않도록 제한\n",
    "        :return: action에 따른 리워드\n",
    "        :rtype: float\n",
    "        '''\n",
    "\n",
    "        # 바깥으로 나가는 경우\n",
    "        if any(out_of_boundary):\n",
    "            reward = out_reward\n",
    "                       \n",
    "        else:\n",
    "            # 장애물에 부딪히는 경우 \n",
    "            if self.grid[new_x][new_y] == 150:\n",
    "                reward = obs_reward\n",
    "                \n",
    "            elif self.grid[new_x][new_y] == 100:\n",
    "                reward = noitem_reward\n",
    "\n",
    "            # 현재 목표에 도달한 경우\n",
    "            elif [new_x, new_y] in self.local_target:##########################\n",
    "                reward = goal_reward\n",
    "                ########## 도착하면 보상 #########\n",
    "                if [new_x, new_y] == [9,4]:\n",
    "                    reward = 2000\n",
    "            #elif new_x == self.terminal_location[0] and new_y == self.terminal_location[1]:\n",
    "                #reward = goal_reward\n",
    "\n",
    "            # 그냥 움직이는 경우 \n",
    "            else:\n",
    "                reward = move_reward\n",
    "\n",
    "        return reward\n",
    "\n",
    "    def step(self, action, epi):\n",
    "        ''' ,\n",
    "        에이전트의 action에 따라 step을 진행한다.\n",
    "        action에 따라 에이전트 위치를 변환하고, action에 대해 리워드를 받고, 어느 상황에 에피소드가 종료되어야 하는지 등을 판단한다.\n",
    "        에이전트가 endpoint에 도착하면 gif로 에피소드에서 에이전트의 행동이 저장된다.\n",
    "\n",
    "        :param action: 에이전트 행동\n",
    "        :return:\n",
    "            grid, 그리드\n",
    "            reward, 리워드\n",
    "            cumulative_reward, 누적 리워드\n",
    "            done, 종료 여부\n",
    "            goal_ob_reward, goal까지 아이템을 모두 가지고 돌아오는 finish율 계산을 위한 파라미터\n",
    "\n",
    "        :rtype: numpy.ndarray, float, float, bool, bool/str\n",
    "\n",
    "        (Hint : 시작 위치 (9,4)에서 up말고 다른 action은 전부 장애물이므로 action을 고정하는 것이 좋음)\n",
    "        '''\n",
    "\n",
    "        #self.terminal_location = self.local_target[0]\n",
    "        cur_x,cur_y = self.curloc\n",
    "        self.actions.append((cur_x, cur_y))\n",
    "\n",
    "        goal_ob_reward = False\n",
    "        \n",
    "        new_x, new_y = self.apply_action(action, cur_x, cur_y)\n",
    "\n",
    "        out_of_boundary = [new_x < 0, new_x >= self.height, new_y < 0, new_y >= self.width]\n",
    "\n",
    "        if epi <= 100000:\n",
    "            if any(out_of_boundary):\n",
    "                #self.done = True\n",
    "                #goal_ob_reward = True\n",
    "                reward = self.get_reward(new_x, new_y, out_of_boundary)\n",
    "            else:\n",
    "            # 장애물에 부딪히는 경우 종료\n",
    "                if (self.grid[new_x][new_y] == 150) or (self.grid[new_x][new_y] == 100):\n",
    "                    #self.done = True\n",
    "                    #goal_ob_reward = True\n",
    "                    reward = self.get_reward(new_x, new_y, out_of_boundary)\n",
    "\n",
    "            # 현재 목표에 도달한 경우, 다음 목표설정\n",
    "                #elif new_x == self.terminal_location[0] and new_y == self.terminal_location[1]:\n",
    "                elif [new_x, new_y] in self.local_target:\n",
    "\n",
    "                # end point 일 때\n",
    "                    if [new_x, new_y] == [9,4]:\n",
    "                        self.done = True\n",
    "                    reward = self.get_reward(new_x, new_y, out_of_boundary)\n",
    "                    self.local_target.remove([new_x, new_y])\n",
    "                    if self.local_target == []:\n",
    "                        self.local_target.append([9,4])###########################\n",
    "                    self.grid[cur_x][cur_y] = 1\n",
    "                    self.grid[new_x][new_y] = 50\n",
    "                    goal_ob_reward = True\n",
    "                    self.curloc = [new_x, new_y]\n",
    "                    \n",
    "                else:\n",
    "                # 그냥 움직이는 경우 \n",
    "                    self.grid[cur_x][cur_y] = 1\n",
    "                    self.grid[new_x][new_y] = 50\n",
    "                    self.curloc = [new_x,new_y]\n",
    "                    reward = self.get_reward(new_x, new_y, out_of_boundary)\n",
    "        \n",
    "        else:\n",
    "            \n",
    "        # 바깥으로 나가는 경우 종료\n",
    "            if any(out_of_boundary):\n",
    "                self.done = True\n",
    "                goal_ob_reward = True\n",
    "                reward = self.get_reward(new_x, new_y, out_of_boundary)\n",
    "            else:\n",
    "            # 장애물에 부딪히는 경우 종료\n",
    "                if (self.grid[new_x][new_y] == 150): #or (self.grid[new_x][new_y] == 100):\n",
    "                    self.done = True\n",
    "                    goal_ob_reward = True\n",
    "                    reward = self.get_reward(new_x, new_y, out_of_boundary)\n",
    "                    \n",
    "                elif (self.grid[new_x][new_y] == 100):\n",
    "                    reward = self.get_reward(new_x, new_y, out_of_boundary)\n",
    "\n",
    "            #elif new_x == self.terminal_location[0] and new_y == self.terminal_location[1]:\n",
    "                elif [new_x, new_y] in self.local_target:\n",
    "\n",
    "                # end point 일 때\n",
    "                    if [new_x, new_y] == [9,4]:\n",
    "                        self.done = True\n",
    "                    reward = self.get_reward(new_x, new_y, out_of_boundary)\n",
    "                    self.local_target.remove([new_x, new_y])\n",
    "                    if self.local_target == []:\n",
    "                        self.local_target.append([9,4])###########################\n",
    "                    self.grid[cur_x][cur_y] = 1\n",
    "                    self.grid[new_x][new_y] = 50\n",
    "                    goal_ob_reward = True\n",
    "                    self.curloc = [new_x, new_y]\n",
    "                else:\n",
    "                # 그냥 움직이는 경우 \n",
    "                    self.grid[cur_x][cur_y] = 1\n",
    "                    self.grid[new_x][new_y] = 50\n",
    "                    self.curloc = [new_x,new_y]\n",
    "                    reward = self.get_reward(new_x, new_y, out_of_boundary)\n",
    "                \n",
    "        \n",
    "        self.cumulative_reward += reward\n",
    "\n",
    "        if self.done == True:\n",
    "            if [new_x, new_y] == [9, 4]:\n",
    "                if self.local_target[0] == [9, 4]:\n",
    "                    # 완료되면 GIFS 저장\n",
    "                    print(f'100번 안에 들어왔다! : {len(self.actions)}')\n",
    "                    goal_ob_reward = 'finish'\n",
    "                    height = 10\n",
    "                    width = 9 \n",
    "                    display = Display(visible=False, size=(width, height))\n",
    "                    display.start()\n",
    "\n",
    "                    start_point = (9, 4)\n",
    "                    unit = 50\n",
    "                    screen_height = height * unit\n",
    "                    screen_width = width * unit\n",
    "                    log_path = \"./logs\"\n",
    "                    data_path = \"./data\"\n",
    "                    render_cls = Render(screen_width, screen_height, unit, start_point, data_path, log_path)\n",
    "                    for idx, new_pos in enumerate(self.actions):\n",
    "                        render_cls.update_movement(new_pos, idx+1)\n",
    "                    \n",
    "                    render_cls.save_gif(self.epi)\n",
    "                    render_cls.viewer.close()\n",
    "                    display.stop()\n",
    "        \n",
    "        return self.grid, reward, self.cumulative_reward, self.done, goal_ob_reward\n",
    "\n",
    "\n",
    "# if __name__ == \"__main__\":\n",
    "\n",
    "#     sim = Simulator()\n",
    "#     files = pd.read_csv(\"./data/factory_order_train.csv\")\n",
    "   \n",
    "#     for epi in range(1): # len(files)):\n",
    "#         items = list(files.iloc[epi])[0]\n",
    "#         done = False\n",
    "#         i = 0\n",
    "#         obs = sim.reset(epi)\n",
    "#         actions = [0, 0, 2, 2, 2, 0, 0, 0, 0, 0, 0, 0, 3, 3, 0, 1, 3, 3, 3, 3, 0, 1, 3, 0, 1, 2, 1, 1, 1, 1, 1, 1, 1, 2, 2, 2, 1]\n",
    "\n",
    "#         while done == False:\n",
    "            \n",
    "#             i += 1\n",
    "#             next_obs, reward, cumul ,done, goal_reward = sim.step(actions[i])\n",
    "\n",
    "#             obs = next_obs\n",
    "\n",
    "#             if (done == True) or (i == (len(actions)-1)):\n",
    "#                 i =0\n"
   ]
  },
  {
   "cell_type": "markdown",
   "id": "54a3245a",
   "metadata": {},
   "source": [
    "## 1. Agent 구성\n",
    "\n",
    "Agent 구성에 필요한 요소\n",
    "\n",
    "1. Replay Buffer\n",
    "2. Qnet"
   ]
  },
  {
   "cell_type": "code",
   "execution_count": 46,
   "id": "df27b766",
   "metadata": {},
   "outputs": [],
   "source": [
    "import collections\n",
    "import pdb\n",
    "import random\n",
    "\n",
    "import torch\n",
    "import torch.nn as nn\n",
    "import torch.nn.functional as F\n",
    "import torch.optim as optim\n",
    "\n",
    "#from Sim import *\n",
    "\n"
   ]
  },
  {
   "cell_type": "markdown",
   "id": "619e41f7",
   "metadata": {},
   "source": [
    "### Replay buffer"
   ]
  },
  {
   "cell_type": "code",
   "execution_count": 47,
   "id": "af5d4dc1",
   "metadata": {},
   "outputs": [],
   "source": [
    "\n",
    "## Replay buffer\n",
    "\n",
    "class ReplayBuffer():\n",
    "    def __init__(self):\n",
    "        self.buffer = collections.deque(maxlen=buffer_limit)\n",
    "\n",
    "    def put(self, transition):\n",
    "        self.buffer.append(transition)\n",
    "\n",
    "    def sample(self, n):\n",
    "        mini_batch = random.sample(self.buffer, n)     #sample 메서드 : buffer 중에 n 개만 뽑음\n",
    "        s_lst, a_lst, r_lst, s_prime_lst, done_mask_lst = [], [], [], [], []\n",
    "                                                        # state 값, action 값, reward 값, 다음 state 값, done_mask 값\n",
    "                                                        # done_mask : 종료 상태의 Value 값을 마스킹해줍니다\n",
    "\n",
    "        for transition in mini_batch: #우리가 뽑은 n 개의 미니배치들 하나씩에서\n",
    "            s, a, r, s_prime, done_mask = transition #\n",
    "\n",
    "            # 이로 보아 하나의 sample 에는 s,a,s_prime,done_mask 값이 담김을 확인할 수 있다\n",
    "            s_lst.append(s)\n",
    "            a_lst.append([a]) # 자료형이 list 임을 확인 가능, 여러개의 action 이 담겨있을 것이라 추측\n",
    "            r_lst.append([r])\n",
    "            s_prime_lst.append(s_prime)\n",
    "            done_mask_lst.append([done_mask])\n",
    "\n",
    "        return torch.tensor(s_lst, dtype=torch. float), torch.tensor(a_lst), torch.tensor(r_lst), torch.tensor(s_prime_lst, dtype=torch. float), torch.tensor(done_mask_lst)\n",
    "        # s_lst, s_prime_lst 는 타입을 바꿔주었다. 데이터가 int 였기 때문에\n",
    "        # 나머지는 tensor화\n",
    "\n",
    "    def size(self):\n",
    "        return len(self.buffer)\n",
    "\n",
    "\n"
   ]
  },
  {
   "cell_type": "markdown",
   "id": "ecfac1ff",
   "metadata": {},
   "source": [
    "### Qnet"
   ]
  },
  {
   "cell_type": "code",
   "execution_count": 48,
   "id": "4f7c43df",
   "metadata": {},
   "outputs": [],
   "source": [
    "class QnetCNN(nn.Module):\n",
    "    def __init__(self):\n",
    "        super(QnetCNN, self).__init__()\n",
    "        \n",
    "        \n",
    "        self.layer1 = nn.Sequential(\n",
    "            nn.Conv2d(in_channels=1, out_channels=6, kernel_size=3, stride=2, padding=1),\n",
    "            nn.ReLU())\n",
    "\n",
    "        self.layer2 = nn.Sequential(\n",
    "            nn.Conv2d(6, 16, kernel_size=3, stride=2, padding=1),\n",
    "            nn.ReLU())\n",
    "    \n",
    "        #Flatten\n",
    "        self.flatten = nn.Flatten()\n",
    "\n",
    "        self.fc1 = nn.Linear(144, 64)\n",
    "        self.fc2 = nn.Linear(64, 4)\n",
    "        \n",
    "    def forward(self,x):\n",
    "        x = torch.from_numpy(np.asarray(x)).float()\n",
    "        x = torch.reshape(x, (-1, 1, 10, 9))\n",
    "        \n",
    "        x = self.layer1(x)\n",
    "        x = self.layer2(x)\n",
    "        x = self.flatten(x)\n",
    "        x = self.fc1(x)\n",
    "        x = self.fc2(x)# 좌우상하 4개의 값을 반환\n",
    "        return x\n",
    "\n",
    "    def sample_action(self, obs, epsilon):\n",
    "        out = self.forward(obs) \n",
    "        coin = random.random() \n",
    "        \n",
    "\n",
    "        if coin < epsilon: \n",
    "            return random.randint(0,3)\n",
    "        else:\n",
    "            return out.argmax().item() \n"
   ]
  },
  {
   "cell_type": "markdown",
   "id": "62e7e109",
   "metadata": {},
   "source": [
    "## 해당 재료를 가지고 train\n"
   ]
  },
  {
   "cell_type": "code",
   "execution_count": 49,
   "id": "acb28a43",
   "metadata": {},
   "outputs": [],
   "source": [
    "def train(q, q_target, memory, optimizer): \n",
    "    for i in range(10):\n",
    "        s, a, r, s_prime, done_mask = memory.sample(batch_size) #32개를 버퍼에서 뽑아 모아 놓은 s,a,r,s_prime,done_mask\n",
    "        q_out = q(s)                                            # s 값으로 다음 각 action 값들의 value 값 반환\n",
    "        q_a = q_out.gather(1,a)                      #선택한 액션값들의 q(s,a) 반환\n",
    "        max_q_prime = q_target(s_prime).max(1)[0].unsqueeze(1)  # 다음 state의 각 q(s,a) 값 반환\n",
    "        target = r + gamma * max_q_prime * done_mask # 배열 맞춰주기, 쓰러진 경우는 제거\n",
    "        \n",
    "        loss = F.smooth_l1_loss(q_a, target)                    # DQN 의 손실함수 계산 L1 유클리드\n",
    "\n",
    "        optimizer.zero_grad()                                   # optimizer 의 모든 parameter 를 0으로 변환\n",
    "        loss.backward()                                         # loss 에 대한 gradient 계산\n",
    "        optimizer.step()                                        # 손실값을 바탕으로 Qnet 의 파라미터 업데이트\n"
   ]
  },
  {
   "cell_type": "code",
   "execution_count": 50,
   "id": "d755b311",
   "metadata": {},
   "outputs": [],
   "source": [
    "def model_save(model_dict, opt_dict, epi):\n",
    "    PATH = './weights/'\n",
    "    torch.save({\n",
    "            'model': model_dict,\n",
    "            'optimizer': opt_dict,\n",
    "            'epi': epi\n",
    "            }, PATH + 'all.tar')"
   ]
  },
  {
   "cell_type": "markdown",
   "id": "10b33bac",
   "metadata": {},
   "source": [
    "#### 전체적인 구성"
   ]
  },
  {
   "cell_type": "code",
   "execution_count": null,
   "id": "9c872ffa",
   "metadata": {
    "scrolled": true
   },
   "outputs": [
    {
     "name": "stdout",
     "output_type": "stream",
     "text": [
      "True\n"
     ]
    },
    {
     "name": "stderr",
     "output_type": "stream",
     "text": [
      "  0%|                                                                    | 101/60000 [00:30<4:13:55,  3.93it/s]"
     ]
    },
    {
     "name": "stdout",
     "output_type": "stream",
     "text": [
      "epi = 1\n",
      " 마지막 상태 :\n",
      "[[100. 200. 100. 100. 100. 100. 100. 100. 200.]\n",
      " [  1.   1.   1.   1.   1.   1.   1.   1.   1.]\n",
      " [100.   1.   1.   1.   1.   1.   1.   1. 100.]\n",
      " [100.   1. 150.   1. 150.   1. 150.   1.   1.]\n",
      " [100.   1. 150.   1. 150.   1. 150.   1.   1.]\n",
      " [100.   1. 150.   1. 150.   1. 150.   1.   1.]\n",
      " [  1.   1. 150.   1. 150.   1. 150.   1.   1.]\n",
      " [  1.   1.   1.   1.   1.   1.   1.   1.   1.]\n",
      " [  1.   1.   1.   1.   1.  50.   1.   1.   1.]\n",
      " [150. 150. 150. 150.   1. 150. 150. 150. 150.]]\n",
      " 이 때 한 행동 : ←\n",
      " 마지막 보상 : -1\n",
      " 총 받은 보상 :2533\n",
      " end : True\n",
      " clear : True\n",
      "episode :1, score = 693.5480000000118, n_buffer :10201 , eps : 50.0\n"
     ]
    },
    {
     "name": "stderr",
     "output_type": "stream",
     "text": [
      "  0%|▏                                                                   | 201/60000 [00:59<4:25:54,  3.75it/s]"
     ]
    },
    {
     "name": "stdout",
     "output_type": "stream",
     "text": [
      "epi = 1\n",
      " 마지막 상태 :\n",
      "[[100.  50. 100. 100. 100. 100. 100. 100. 200.]\n",
      " [  1.   1.   1.   1.   1.   1.   1.   1.   1.]\n",
      " [100.   1.   1.   1.   1.   1.   1.   1. 100.]\n",
      " [100.   1. 150.   1. 150.   1. 150.   1. 200.]\n",
      " [100.   1. 150.   1. 150.   1. 150.   1. 200.]\n",
      " [100.   1. 150.   1. 150.   1. 150.   1. 200.]\n",
      " [  1.   1. 150.   1. 150.   1. 150.   1.   1.]\n",
      " [  1.   1.   1.   1.   1.   1.   1.   1.   1.]\n",
      " [  1.   1.   1.   1.   1.   1.   1.   1.   1.]\n",
      " [150. 150. 150. 150.   1. 150. 150. 150. 150.]]\n",
      " 이 때 한 행동 : ←\n",
      " 마지막 보상 : -0.1\n",
      " 총 받은 보상 :877.4999999999987\n",
      " end : True\n",
      " clear : True\n",
      "episode :1, score = 1386.392999999955, n_buffer :20301 , eps : 50.0\n"
     ]
    },
    {
     "name": "stderr",
     "output_type": "stream",
     "text": [
      "  1%|▎                                                                   | 301/60000 [01:27<5:15:48,  3.15it/s]"
     ]
    },
    {
     "name": "stdout",
     "output_type": "stream",
     "text": [
      "epi = 1\n",
      " 마지막 상태 :\n",
      "[[100.   1. 100. 100. 100. 100. 100. 100. 200.]\n",
      " [  1.   1.  50.   1.   1.   1.   1.   1.   1.]\n",
      " [100.   1.   1.   1.   1.   1.   1.   1. 100.]\n",
      " [100.   1. 150.   1. 150.   1. 150.   1. 200.]\n",
      " [100.   1. 150.   1. 150.   1. 150.   1. 200.]\n",
      " [100.   1. 150.   1. 150.   1. 150.   1. 200.]\n",
      " [  1.   1. 150.   1. 150.   1. 150.   1.   1.]\n",
      " [  1.   1.   1.   1.   1.   1.   1.   1.   1.]\n",
      " [  1.   1.   1.   1.   1.   1.   1.   1.   1.]\n",
      " [150. 150. 150. 150.   1. 150. 150. 150. 150.]]\n",
      " 이 때 한 행동 : ↑\n",
      " 마지막 보상 : -0.1\n",
      " 총 받은 보상 :803.6999999999997\n",
      " end : True\n",
      " clear : True\n",
      "episode :1, score = 1234.7529999999592, n_buffer :30401 , eps : 50.0\n"
     ]
    },
    {
     "name": "stderr",
     "output_type": "stream",
     "text": [
      "  1%|▍                                                                   | 401/60000 [01:59<3:50:00,  4.32it/s]"
     ]
    },
    {
     "name": "stdout",
     "output_type": "stream",
     "text": [
      "epi = 1\n",
      " 마지막 상태 :\n",
      "[[100. 200. 100. 100. 100. 100. 100. 100. 200.]\n",
      " [  1.   1.   1.   1.   1.   1.   1.   1.   1.]\n",
      " [100.   1.   1.   1.   1.   1.   1.   1. 100.]\n",
      " [100.   1. 150.   1. 150.   1. 150.   1. 200.]\n",
      " [100.   1. 150.   1. 150.   1. 150.   1. 200.]\n",
      " [100.   1. 150.   1. 150.   1. 150.   1. 200.]\n",
      " [  1.   1. 150.   1. 150.   1. 150.   1.   1.]\n",
      " [  1.   1.   1.   1.   1.   1.   1.   1.   1.]\n",
      " [ 50.   1.   1.   1.   1.   1.   1.   1.   1.]\n",
      " [150. 150. 150. 150.   1. 150. 150. 150. 150.]]\n",
      " 이 때 한 행동 : ←\n",
      " 마지막 보상 : -10\n",
      " 총 받은 보상 :-545.6000000000001\n",
      " end : True\n",
      " clear : True\n",
      "episode :1, score = 1716.3159999999639, n_buffer :40501 , eps : 50.0\n"
     ]
    },
    {
     "name": "stderr",
     "output_type": "stream",
     "text": [
      "  1%|▌                                                                   | 502/60000 [02:29<4:58:12,  3.33it/s]"
     ]
    },
    {
     "name": "stdout",
     "output_type": "stream",
     "text": [
      "epi = 1\n",
      " 마지막 상태 :\n",
      "[[100. 200. 100. 100. 100. 100. 100. 100.  50.]\n",
      " [  1.   1.   1.   1.   1.   1.   1.   1.   1.]\n",
      " [100.   1.   1.   1.   1.   1.   1.   1. 100.]\n",
      " [100.   1. 150.   1. 150.   1. 150.   1. 200.]\n",
      " [100.   1. 150.   1. 150.   1. 150.   1. 200.]\n",
      " [100.   1. 150.   1. 150.   1. 150.   1.   1.]\n",
      " [  1.   1. 150.   1. 150.   1. 150.   1.   1.]\n",
      " [  1.   1.   1.   1.   1.   1.   1.   1.   1.]\n",
      " [  1.   1.   1.   1.   1.   1.   1.   1.   1.]\n",
      " [150. 150. 150. 150.   1. 150. 150. 150. 150.]]\n",
      " 이 때 한 행동 : ←\n",
      " 마지막 보상 : -0.1\n",
      " 총 받은 보상 :1674.2000000000007\n",
      " end : True\n",
      " clear : True\n",
      "episode :1, score = 2088.3869999999342, n_buffer :50601 , eps : 50.0\n"
     ]
    },
    {
     "name": "stderr",
     "output_type": "stream",
     "text": [
      "  1%|▋                                                                   | 601/60000 [02:59<5:36:03,  2.95it/s]"
     ]
    },
    {
     "name": "stdout",
     "output_type": "stream",
     "text": [
      "epi = 1\n",
      " 마지막 상태 :\n",
      "[[100. 200. 100. 100. 100. 100. 100. 100. 200.]\n",
      " [  1.   1.   1.   1.   1.   1.   1.   1.   1.]\n",
      " [100.   1.   1.   1.   1.   1.   1.   1. 100.]\n",
      " [100.   1. 150.   1. 150.   1. 150.   1. 200.]\n",
      " [100.   1. 150.   1. 150.   1. 150.   1. 200.]\n",
      " [100.   1. 150.   1. 150.   1. 150.   1. 200.]\n",
      " [  1.   1. 150.   1. 150.   1. 150.   1.   1.]\n",
      " [  1.   1.   1.   1.   1.   1.   1.   1.   1.]\n",
      " [  1.   1.   1.  50.   1.   1.   1.   1.   1.]\n",
      " [150. 150. 150. 150.   1. 150. 150. 150. 150.]]\n",
      " 이 때 한 행동 : ↓\n",
      " 마지막 보상 : -1\n",
      " 총 받은 보상 :-506\n",
      " end : True\n",
      " clear : True\n",
      "episode :1, score = 3102.8689999999874, n_buffer :60701 , eps : 50.0\n"
     ]
    },
    {
     "name": "stderr",
     "output_type": "stream",
     "text": [
      "  1%|▊                                                                   | 701/60000 [03:30<5:52:29,  2.80it/s]"
     ]
    },
    {
     "name": "stdout",
     "output_type": "stream",
     "text": [
      "epi = 1\n",
      " 마지막 상태 :\n",
      "[[100. 200. 100. 100. 100. 100. 100. 100.   1.]\n",
      " [  1.   1.   1.   1.   1.   1.   1.   1.   1.]\n",
      " [100.   1.   1.   1.   1.   1.   1.   1. 100.]\n",
      " [100.   1. 150.   1. 150.   1. 150.   1.  50.]\n",
      " [100.   1. 150.   1. 150.   1. 150.   1.   1.]\n",
      " [100.   1. 150.   1. 150.   1. 150.   1.   1.]\n",
      " [  1.   1. 150.   1. 150.   1. 150.   1.   1.]\n",
      " [  1.   1.   1.   1.   1.   1.   1.   1.   1.]\n",
      " [  1.   1.   1.   1.   1.   1.   1.   1.   1.]\n",
      " [150. 150. 150. 150.   1. 150. 150. 150. 150.]]\n",
      " 이 때 한 행동 : →\n",
      " 마지막 보상 : -1\n",
      " 총 받은 보상 :3809.4000000000005\n",
      " end : True\n",
      " clear : True\n",
      "episode :1, score = 3018.614000000003, n_buffer :70801 , eps : 50.0\n"
     ]
    },
    {
     "name": "stderr",
     "output_type": "stream",
     "text": [
      "  1%|▉                                                                   | 801/60000 [04:01<4:05:49,  4.01it/s]"
     ]
    },
    {
     "name": "stdout",
     "output_type": "stream",
     "text": [
      "epi = 1\n",
      " 마지막 상태 :\n",
      "[[100.  50. 100. 100. 100. 100. 100. 100.   1.]\n",
      " [  1.   1.   1.   1.   1.   1.   1.   1.   1.]\n",
      " [100.   1.   1.   1.   1.   1.   1.   1. 100.]\n",
      " [100.   1. 150.   1. 150.   1. 150.   1.   1.]\n",
      " [100.   1. 150.   1. 150.   1. 150.   1.   1.]\n",
      " [100.   1. 150.   1. 150.   1. 150.   1.   1.]\n",
      " [  1.   1. 150.   1. 150.   1. 150.   1.   1.]\n",
      " [  1.   1.   1.   1.   1.   1.   1.   1.   1.]\n",
      " [  1.   1.   1.   1.   1.   1.   1.   1.   1.]\n",
      " [150. 150. 150. 150.   1. 150. 150. 150. 150.]]\n",
      " 이 때 한 행동 : ↑\n",
      " 마지막 보상 : 1000\n",
      " 총 받은 보상 :4688.000000000001\n",
      " end : True\n",
      " clear : True\n",
      "episode :1, score = 3128.405000000016, n_buffer :80901 , eps : 50.0\n"
     ]
    },
    {
     "name": "stderr",
     "output_type": "stream",
     "text": [
      "  2%|█                                                                   | 901/60000 [04:37<9:34:26,  1.71it/s]"
     ]
    },
    {
     "name": "stdout",
     "output_type": "stream",
     "text": [
      "epi = 1\n",
      " 마지막 상태 :\n",
      "[[100.   1. 100. 100. 100. 100. 100. 100. 200.]\n",
      " [  1.   1.   1.   1.   1.   1.   1.   1.   1.]\n",
      " [100.   1.   1.   1.   1.   1.   1.   1. 100.]\n",
      " [100.  50. 150.   1. 150.   1. 150.   1.   1.]\n",
      " [100.   1. 150.   1. 150.   1. 150.   1.   1.]\n",
      " [100.   1. 150.   1. 150.   1. 150.   1.   1.]\n",
      " [  1.   1. 150.   1. 150.   1. 150.   1.   1.]\n",
      " [  1.   1.   1.   1.   1.   1.   1.   1.   1.]\n",
      " [  1.   1.   1.   1.   1.   1.   1.   1.   1.]\n",
      " [150. 150. 150. 150.   1. 150. 150. 150. 150.]]\n",
      " 이 때 한 행동 : →\n",
      " 마지막 보상 : -10\n",
      " 총 받은 보상 :3861.6000000000013\n",
      " end : True\n",
      " clear : True\n",
      "episode :1, score = 3552.1730000000666, n_buffer :91001 , eps : 50.0\n"
     ]
    },
    {
     "name": "stderr",
     "output_type": "stream",
     "text": [
      "  2%|█                                                                  | 1001/60000 [05:09<5:25:21,  3.02it/s]"
     ]
    },
    {
     "name": "stdout",
     "output_type": "stream",
     "text": [
      "epi = 1\n",
      " 마지막 상태 :\n",
      "[[100. 200. 100. 100. 100. 100. 100. 100. 200.]\n",
      " [  1.   1.   1.   1.   1.   1.   1.   1.   1.]\n",
      " [100.   1.   1.   1.   1.  50.   1.   1. 100.]\n",
      " [100.   1. 150.   1. 150.   1. 150.   1.   1.]\n",
      " [100.   1. 150.   1. 150.   1. 150.   1.   1.]\n",
      " [100.   1. 150.   1. 150.   1. 150.   1.   1.]\n",
      " [  1.   1. 150.   1. 150.   1. 150.   1.   1.]\n",
      " [  1.   1.   1.   1.   1.   1.   1.   1.   1.]\n",
      " [  1.   1.   1.   1.   1.   1.   1.   1.   1.]\n",
      " [150. 150. 150. 150.   1. 150. 150. 150. 150.]]\n",
      " 이 때 한 행동 : ↑\n",
      " 마지막 보상 : -1\n",
      " 총 받은 보상 :2882.2000000000025\n",
      " end : True\n",
      " clear : True\n",
      "episode :1, score = 3276.3030000000335, n_buffer :100000 , eps : 50.0\n"
     ]
    },
    {
     "name": "stderr",
     "output_type": "stream",
     "text": [
      "  2%|█▏                                                                 | 1101/60000 [05:39<3:34:30,  4.58it/s]"
     ]
    },
    {
     "name": "stdout",
     "output_type": "stream",
     "text": [
      "epi = 1\n",
      " 마지막 상태 :\n",
      "[[100. 200. 100. 100. 100. 100. 100. 100.   1.]\n",
      " [  1.   1.  50.   1.   1.   1.   1.   1.   1.]\n",
      " [100.   1.   1.   1.   1.   1.   1.   1. 100.]\n",
      " [100.   1. 150.   1. 150.   1. 150.   1.   1.]\n",
      " [100.   1. 150.   1. 150.   1. 150.   1.   1.]\n",
      " [100.   1. 150.   1. 150.   1. 150.   1.   1.]\n",
      " [  1.   1. 150.   1. 150.   1. 150.   1.   1.]\n",
      " [  1.   1.   1.   1.   1.   1.   1.   1.   1.]\n",
      " [  1.   1.   1.   1.   1.   1.   1.   1.   1.]\n",
      " [150. 150. 150. 150.   1. 150. 150. 150. 150.]]\n",
      " 이 때 한 행동 : ↑\n",
      " 마지막 보상 : -0.1\n",
      " 총 받은 보상 :3873.3000000000025\n",
      " end : True\n",
      " clear : True\n",
      "episode :1, score = 3135.779000000006, n_buffer :100000 , eps : 50.0\n"
     ]
    },
    {
     "name": "stderr",
     "output_type": "stream",
     "text": [
      "  2%|█▎                                                                 | 1201/60000 [06:10<5:32:23,  2.95it/s]"
     ]
    },
    {
     "name": "stdout",
     "output_type": "stream",
     "text": [
      "epi = 1\n",
      " 마지막 상태 :\n",
      "[[100. 200. 100. 100. 100. 100. 100. 100. 200.]\n",
      " [  1.   1.   1.   1.   1.   1.   1.   1.   1.]\n",
      " [100.   1.   1.   1.   1.  50.   1.   1. 100.]\n",
      " [100.   1. 150.   1. 150.   1. 150.   1.   1.]\n",
      " [100.   1. 150.   1. 150.   1. 150.   1.   1.]\n",
      " [100.   1. 150.   1. 150.   1. 150.   1.   1.]\n",
      " [  1.   1. 150.   1. 150.   1. 150.   1.   1.]\n",
      " [  1.   1.   1.   1.   1.   1.   1.   1.   1.]\n",
      " [  1.   1.   1.   1.   1.   1.   1.   1.   1.]\n",
      " [150. 150. 150. 150.   1. 150. 150. 150. 150.]]\n",
      " 이 때 한 행동 : ↓\n",
      " 마지막 보상 : -1\n",
      " 총 받은 보상 :2890.3000000000025\n",
      " end : True\n",
      " clear : True\n",
      "episode :1, score = 3284.3090000000166, n_buffer :100000 , eps : 50.0\n"
     ]
    },
    {
     "name": "stderr",
     "output_type": "stream",
     "text": [
      "  2%|█▍                                                                 | 1301/60000 [06:41<5:29:57,  2.96it/s]"
     ]
    },
    {
     "name": "stdout",
     "output_type": "stream",
     "text": [
      "epi = 1\n",
      " 마지막 상태 :\n",
      "[[100.  50. 100. 100. 100. 100. 100. 100.   1.]\n",
      " [  1.   1.   1.   1.   1.   1.   1.   1.   1.]\n",
      " [100.   1.   1.   1.   1.   1.   1.   1. 100.]\n",
      " [100.   1. 150.   1. 150.   1. 150.   1.   1.]\n",
      " [100.   1. 150.   1. 150.   1. 150.   1.   1.]\n",
      " [100.   1. 150.   1. 150.   1. 150.   1.   1.]\n",
      " [  1.   1. 150.   1. 150.   1. 150.   1.   1.]\n",
      " [  1.   1.   1.   1.   1.   1.   1.   1.   1.]\n",
      " [  1.   1.   1.   1.   1.   1.   1.   1.   1.]\n",
      " [150. 150. 150. 150.   1. 150. 150. 150. 150.]]\n",
      " 이 때 한 행동 : →\n",
      " 마지막 보상 : -0.1\n",
      " 총 받은 보상 :4865.3\n",
      " end : True\n",
      " clear : True\n",
      "episode :1, score = 3994.8180000001184, n_buffer :100000 , eps : 50.0\n"
     ]
    },
    {
     "name": "stderr",
     "output_type": "stream",
     "text": [
      "  2%|█▌                                                                 | 1401/60000 [07:29<5:59:58,  2.71it/s]"
     ]
    },
    {
     "name": "stdout",
     "output_type": "stream",
     "text": [
      "epi = 1\n",
      " 마지막 상태 :\n",
      "[[100.   1. 100. 100. 100. 100. 100. 100.   1.]\n",
      " [  1.   1.   1.   1.   1.  50.   1.   1.   1.]\n",
      " [100.   1.   1.   1.   1.   1.   1.   1. 100.]\n",
      " [100.   1. 150.   1. 150.   1. 150.   1.   1.]\n",
      " [100.   1. 150.   1. 150.   1. 150.   1.   1.]\n",
      " [100.   1. 150.   1. 150.   1. 150.   1.   1.]\n",
      " [  1.   1. 150.   1. 150.   1. 150.   1.   1.]\n",
      " [  1.   1.   1.   1.   1.   1.   1.   1.   1.]\n",
      " [  1.   1.   1.   1.   1.   1.   1.   1.   1.]\n",
      " [150. 150. 150. 150.   1. 150. 150. 150. 150.]]\n",
      " 이 때 한 행동 : ←\n",
      " 마지막 보상 : -1\n",
      " 총 받은 보상 :4850.899999999999\n",
      " end : True\n",
      " clear : True\n",
      "episode :1, score = 4546.213000000127, n_buffer :100000 , eps : 50.0\n"
     ]
    },
    {
     "name": "stderr",
     "output_type": "stream",
     "text": [
      "  3%|█▋                                                                 | 1501/60000 [08:00<5:22:50,  3.02it/s]"
     ]
    },
    {
     "name": "stdout",
     "output_type": "stream",
     "text": [
      "epi = 1\n",
      " 마지막 상태 :\n",
      "[[100.   1. 100. 100. 100. 100. 100. 100.   1.]\n",
      " [  1.   1.   1.   1.   1.   1.   1.   1.   1.]\n",
      " [100.   1.   1.   1.   1.   1.  50.   1. 100.]\n",
      " [100.   1. 150.   1. 150.   1. 150.   1.   1.]\n",
      " [100.   1. 150.   1. 150.   1. 150.   1.   1.]\n",
      " [100.   1. 150.   1. 150.   1. 150.   1.   1.]\n",
      " [  1.   1. 150.   1. 150.   1. 150.   1.   1.]\n",
      " [  1.   1.   1.   1.   1.   1.   1.   1.   1.]\n",
      " [  1.   1.   1.   1.   1.   1.   1.   1.   1.]\n",
      " [150. 150. 150. 150.   1. 150. 150. 150. 150.]]\n",
      " 이 때 한 행동 : ←\n",
      " 마지막 보상 : -1\n",
      " 총 받은 보상 :4906.699999999999\n",
      " end : True\n",
      " clear : True\n",
      "episode :1, score = 4350.276000000096, n_buffer :100000 , eps : 50.0\n"
     ]
    },
    {
     "name": "stderr",
     "output_type": "stream",
     "text": [
      "  3%|█▊                                                                 | 1601/60000 [08:31<4:37:07,  3.51it/s]"
     ]
    },
    {
     "name": "stdout",
     "output_type": "stream",
     "text": [
      "epi = 1\n",
      " 마지막 상태 :\n",
      "[[100. 200. 100. 100. 100. 100. 100. 100.   1.]\n",
      " [  1.   1.   1.   1.   1.   1.   1.   1.   1.]\n",
      " [100.   1.   1.   1.   1.   1.   1.  50. 100.]\n",
      " [100.   1. 150.   1. 150.   1. 150.   1.   1.]\n",
      " [100.   1. 150.   1. 150.   1. 150.   1.   1.]\n",
      " [100.   1. 150.   1. 150.   1. 150.   1.   1.]\n",
      " [  1.   1. 150.   1. 150.   1. 150.   1.   1.]\n",
      " [  1.   1.   1.   1.   1.   1.   1.   1.   1.]\n",
      " [  1.   1.   1.   1.   1.   1.   1.   1.   1.]\n",
      " [150. 150. 150. 150.   1. 150. 150. 150. 150.]]\n",
      " 이 때 한 행동 : ↓\n",
      " 마지막 보상 : -1\n",
      " 총 받은 보상 :3624.900000000001\n",
      " end : True\n",
      " clear : True\n",
      "episode :1, score = 4410.288000000099, n_buffer :100000 , eps : 50.0\n"
     ]
    },
    {
     "name": "stderr",
     "output_type": "stream",
     "text": [
      "  3%|█▉                                                                 | 1701/60000 [09:02<4:25:47,  3.66it/s]"
     ]
    },
    {
     "name": "stdout",
     "output_type": "stream",
     "text": [
      "epi = 1\n",
      " 마지막 상태 :\n",
      "[[100.   1. 100. 100. 100. 100. 100. 100.   1.]\n",
      " [  1.   1.   1.   1.   1.   1.   1.   1.   1.]\n",
      " [100.   1.   1.  50.   1.   1.   1.   1. 100.]\n",
      " [100.   1. 150.   1. 150.   1. 150.   1.   1.]\n",
      " [100.   1. 150.   1. 150.   1. 150.   1.   1.]\n",
      " [100.   1. 150.   1. 150.   1. 150.   1.   1.]\n",
      " [  1.   1. 150.   1. 150.   1. 150.   1.   1.]\n",
      " [  1.   1.   1.   1.   1.   1.   1.   1.   1.]\n",
      " [  1.   1.   1.   1.   1.   1.   1.   1.   1.]\n",
      " [150. 150. 150. 150.   1. 150. 150. 150. 150.]]\n",
      " 이 때 한 행동 : ↓\n",
      " 마지막 보상 : -1\n",
      " 총 받은 보상 :4863.5\n",
      " end : True\n",
      " clear : True\n",
      "episode :1, score = 4194.561000000062, n_buffer :100000 , eps : 50.0\n"
     ]
    },
    {
     "name": "stderr",
     "output_type": "stream",
     "text": [
      "  3%|██                                                                 | 1801/60000 [09:40<5:30:53,  2.93it/s]"
     ]
    },
    {
     "name": "stdout",
     "output_type": "stream",
     "text": [
      "epi = 1\n",
      " 마지막 상태 :\n",
      "[[100.   1. 100. 100. 100. 100. 100. 100.   1.]\n",
      " [  1.   1.   1.   1.  50.   1.   1.   1.   1.]\n",
      " [100.   1.   1.   1.   1.   1.   1.   1. 100.]\n",
      " [100.   1. 150.   1. 150.   1. 150.   1.   1.]\n",
      " [100.   1. 150.   1. 150.   1. 150.   1.   1.]\n",
      " [100.   1. 150.   1. 150.   1. 150.   1.   1.]\n",
      " [  1.   1. 150.   1. 150.   1. 150.   1.   1.]\n",
      " [  1.   1.   1.   1.   1.   1.   1.   1.   1.]\n",
      " [  1.   1.   1.   1.   1.   1.   1.   1.   1.]\n",
      " [150. 150. 150. 150.   1. 150. 150. 150. 150.]]\n",
      " 이 때 한 행동 : ←\n",
      " 마지막 보상 : -1\n",
      " 총 받은 보상 :4884.199999999999\n",
      " end : True\n",
      " clear : True\n",
      "episode :1, score = 4278.2590000000855, n_buffer :100000 , eps : 50.0\n"
     ]
    },
    {
     "name": "stderr",
     "output_type": "stream",
     "text": [
      "  3%|██                                                                 | 1901/60000 [10:11<4:32:00,  3.56it/s]"
     ]
    },
    {
     "name": "stdout",
     "output_type": "stream",
     "text": [
      "epi = 1\n",
      " 마지막 상태 :\n",
      "[[100. 200. 100. 100. 100. 100. 100. 100.   1.]\n",
      " [  1.  50.   1.   1.   1.   1.   1.   1.   1.]\n",
      " [100.   1.   1.   1.   1.   1.   1.   1. 100.]\n",
      " [100.   1. 150.   1. 150.   1. 150.   1.   1.]\n",
      " [100.   1. 150.   1. 150.   1. 150.   1.   1.]\n",
      " [100.   1. 150.   1. 150.   1. 150.   1.   1.]\n",
      " [  1.   1. 150.   1. 150.   1. 150.   1.   1.]\n",
      " [  1.   1.   1.   1.   1.   1.   1.   1.   1.]\n",
      " [  1.   1.   1.   1.   1.   1.   1.   1.   1.]\n",
      " [150. 150. 150. 150.   1. 150. 150. 150. 150.]]\n",
      " 이 때 한 행동 : ←\n",
      " 마지막 보상 : -1\n",
      " 총 받은 보상 :3682.5000000000005\n",
      " end : True\n",
      " clear : True\n",
      "episode :1, score = 3849.8890000000606, n_buffer :100000 , eps : 50.0\n"
     ]
    },
    {
     "name": "stderr",
     "output_type": "stream",
     "text": [
      "  3%|██▏                                                               | 2001/60000 [10:56<13:08:07,  1.23it/s]"
     ]
    },
    {
     "name": "stdout",
     "output_type": "stream",
     "text": [
      "epi = 1\n",
      " 마지막 상태 :\n",
      "[[100.   1. 100. 100. 100. 100. 100. 100.   1.]\n",
      " [  1.   1.   1.   1.   1.   1.   1.   1.   1.]\n",
      " [100.   1.   1.   1.   1.   1.   1.   1. 100.]\n",
      " [100.   1. 150.   1. 150.   1. 150.   1.  50.]\n",
      " [100.   1. 150.   1. 150.   1. 150.   1.   1.]\n",
      " [100.   1. 150.   1. 150.   1. 150.   1.   1.]\n",
      " [  1.   1. 150.   1. 150.   1. 150.   1.   1.]\n",
      " [  1.   1.   1.   1.   1.   1.   1.   1.   1.]\n",
      " [  1.   1.   1.   1.   1.   1.   1.   1.   1.]\n",
      " [150. 150. 150. 150.   1. 150. 150. 150. 150.]]\n",
      " 이 때 한 행동 : →\n",
      " 마지막 보상 : -10\n",
      " 총 받은 보상 :4840.1\n",
      " end : True\n",
      " clear : True\n",
      "episode :1, score = 4227.79900000006, n_buffer :100000 , eps : 50.0\n"
     ]
    },
    {
     "name": "stderr",
     "output_type": "stream",
     "text": [
      "  4%|██▎                                                                | 2101/60000 [12:10<5:38:21,  2.85it/s]"
     ]
    },
    {
     "name": "stdout",
     "output_type": "stream",
     "text": [
      "epi = 1\n",
      " 마지막 상태 :\n",
      "[[100.   1. 100. 100. 100. 100. 100. 100.   1.]\n",
      " [  1.   1.   1.  50.   1.   1.   1.   1.   1.]\n",
      " [100.   1.   1.   1.   1.   1.   1.   1. 100.]\n",
      " [100.   1. 150.   1. 150.   1. 150.   1.   1.]\n",
      " [100.   1. 150.   1. 150.   1. 150.   1.   1.]\n",
      " [100.   1. 150.   1. 150.   1. 150.   1.   1.]\n",
      " [  1.   1. 150.   1. 150.   1. 150.   1.   1.]\n",
      " [  1.   1.   1.   1.   1.   1.   1.   1.   1.]\n",
      " [  1.   1.   1.   1.   1.   1.   1.   1.   1.]\n",
      " [150. 150. 150. 150.   1. 150. 150. 150. 150.]]\n",
      " 이 때 한 행동 : ↑\n",
      " 마지막 보상 : -1\n",
      " 총 받은 보상 :4839.199999999997\n",
      " end : True\n",
      " clear : True\n",
      "episode :1, score = 4341.49600000006, n_buffer :100000 , eps : 50.0\n"
     ]
    },
    {
     "name": "stderr",
     "output_type": "stream",
     "text": [
      "  4%|██▍                                                                | 2201/60000 [13:09<5:17:05,  3.04it/s]"
     ]
    },
    {
     "name": "stdout",
     "output_type": "stream",
     "text": [
      "epi = 1\n",
      " 마지막 상태 :\n",
      "[[100. 200. 100. 100. 100. 100. 100. 100.   1.]\n",
      " [  1.   1.   1.   1.   1.   1.   1.   1.   1.]\n",
      " [100.   1.   1.   1.   1.   1.   1.   1. 100.]\n",
      " [100.   1. 150.   1. 150.   1. 150.   1.   1.]\n",
      " [100.   1. 150.   1. 150.   1. 150.   1.   1.]\n",
      " [100.   1. 150.   1. 150.   1. 150.   1.   1.]\n",
      " [  1.   1. 150.   1. 150.   1. 150.   1.   1.]\n",
      " [  1.   1.   1.   1.   1.   1.  50.   1.   1.]\n",
      " [  1.   1.   1.   1.   1.   1.   1.   1.   1.]\n",
      " [150. 150. 150. 150.   1. 150. 150. 150. 150.]]\n",
      " 이 때 한 행동 : ←\n",
      " 마지막 보상 : -1\n",
      " 총 받은 보상 :3813.000000000001\n",
      " end : True\n",
      " clear : True\n",
      "episode :1, score = 3946.808000000063, n_buffer :100000 , eps : 50.0\n"
     ]
    },
    {
     "name": "stderr",
     "output_type": "stream",
     "text": [
      "  4%|██▌                                                                | 2301/60000 [14:44<4:16:55,  3.74it/s]"
     ]
    },
    {
     "name": "stdout",
     "output_type": "stream",
     "text": [
      "epi = 1\n",
      " 마지막 상태 :\n",
      "[[100. 200. 100. 100. 100. 100. 100. 100.   1.]\n",
      " [ 50.   1.   1.   1.   1.   1.   1.   1.   1.]\n",
      " [100.   1.   1.   1.   1.   1.   1.   1. 100.]\n",
      " [100.   1. 150.   1. 150.   1. 150.   1.   1.]\n",
      " [100.   1. 150.   1. 150.   1. 150.   1.   1.]\n",
      " [100.   1. 150.   1. 150.   1. 150.   1.   1.]\n",
      " [  1.   1. 150.   1. 150.   1. 150.   1.   1.]\n",
      " [  1.   1.   1.   1.   1.   1.   1.   1.   1.]\n",
      " [  1.   1.   1.   1.   1.   1.   1.   1.   1.]\n",
      " [150. 150. 150. 150.   1. 150. 150. 150. 150.]]\n",
      " 이 때 한 행동 : ←\n",
      " 마지막 보상 : -10\n",
      " 총 받은 보상 :3764.4000000000033\n",
      " end : True\n",
      " clear : True\n",
      "episode :1, score = 3797.7650000000535, n_buffer :100000 , eps : 50.0\n"
     ]
    },
    {
     "name": "stderr",
     "output_type": "stream",
     "text": [
      "  4%|██▋                                                               | 2401/60000 [15:46<20:18:00,  1.27s/it]"
     ]
    },
    {
     "name": "stdout",
     "output_type": "stream",
     "text": [
      "epi = 1\n",
      " 마지막 상태 :\n",
      "[[100. 200. 100. 100. 100. 100. 100. 100. 200.]\n",
      " [  1.   1.   1.   1.   1.   1.   1.   1.   1.]\n",
      " [100.   1.   1.   1.   1.   1.   1.   1. 100.]\n",
      " [100.   1. 150.   1. 150.   1. 150.   1.   1.]\n",
      " [100.   1. 150.   1. 150.   1. 150.   1.   1.]\n",
      " [100.   1. 150.   1. 150.   1. 150.   1.   1.]\n",
      " [  1.   1. 150.   1. 150.   1. 150.   1.   1.]\n",
      " [  1.   1.   1.   1.  50.   1.   1.   1.   1.]\n",
      " [  1.   1.   1.   1.   1.   1.   1.   1.   1.]\n",
      " [150. 150. 150. 150.   1. 150. 150. 150. 150.]]\n",
      " 이 때 한 행동 : ←\n",
      " 마지막 보상 : -1\n",
      " 총 받은 보상 :2803\n",
      " end : True\n",
      " clear : True\n",
      "episode :1, score = 3349.3779999999983, n_buffer :100000 , eps : 50.0\n"
     ]
    },
    {
     "name": "stderr",
     "output_type": "stream",
     "text": [
      "  4%|██▊                                                                | 2501/60000 [16:16<4:16:45,  3.73it/s]"
     ]
    },
    {
     "name": "stdout",
     "output_type": "stream",
     "text": [
      "epi = 1\n",
      " 마지막 상태 :\n",
      "[[100. 200. 100. 100. 100. 100. 100. 100. 200.]\n",
      " [  1.   1.   1.   1.   1.   1.   1.   1.   1.]\n",
      " [100.   1.   1.   1.   1.   1.   1.   1. 100.]\n",
      " [100.   1. 150.   1. 150.   1. 150.   1.   1.]\n",
      " [100.   1. 150.   1. 150.   1. 150.   1.   1.]\n",
      " [100.   1. 150.   1. 150.   1. 150.   1.   1.]\n",
      " [  1.   1. 150.   1. 150.   1. 150.   1.   1.]\n",
      " [  1.   1.   1.   1.   1.   1.   1.   1.   1.]\n",
      " [  1.  50.   1.   1.   1.   1.   1.   1.   1.]\n",
      " [150. 150. 150. 150.   1. 150. 150. 150. 150.]]\n",
      " 이 때 한 행동 : ←\n",
      " 마지막 보상 : -1\n",
      " 총 받은 보상 :2587\n",
      " end : True\n",
      " clear : True\n",
      "episode :1, score = 2101.7049999999986, n_buffer :100000 , eps : 50.0\n"
     ]
    },
    {
     "name": "stderr",
     "output_type": "stream",
     "text": [
      "  4%|██▉                                                                | 2601/60000 [16:47<5:42:34,  2.79it/s]"
     ]
    },
    {
     "name": "stdout",
     "output_type": "stream",
     "text": [
      "epi = 1\n",
      " 마지막 상태 :\n",
      "[[100. 200. 100. 100. 100. 100. 100. 100. 200.]\n",
      " [  1.   1.   1.   1.   1.   1.   1.   1.   1.]\n",
      " [100.   1.   1.   1.   1.   1.   1.   1. 100.]\n",
      " [100.   1. 150.   1. 150.   1. 150.   1. 200.]\n",
      " [100.   1. 150.   1. 150.   1. 150.   1.   1.]\n",
      " [100.   1. 150.   1. 150.   1. 150.   1.   1.]\n",
      " [  1.   1. 150.   1. 150.   1. 150.   1.   1.]\n",
      " [  1.   1.  50.   1.   1.   1.   1.   1.   1.]\n",
      " [  1.   1.   1.   1.   1.   1.   1.   1.   1.]\n",
      " [150. 150. 150. 150.   1. 150. 150. 150. 150.]]\n",
      " 이 때 한 행동 : ↑\n",
      " 마지막 보상 : -10\n",
      " 총 받은 보상 :1775.9\n",
      " end : True\n",
      " clear : True\n",
      "episode :1, score = 2279.5719999999965, n_buffer :100000 , eps : 50.0\n"
     ]
    },
    {
     "name": "stderr",
     "output_type": "stream",
     "text": [
      "  5%|███                                                                | 2701/60000 [17:18<4:43:04,  3.37it/s]"
     ]
    },
    {
     "name": "stdout",
     "output_type": "stream",
     "text": [
      "epi = 1\n",
      " 마지막 상태 :\n",
      "[[100. 200. 100. 100. 100. 100. 100. 100. 200.]\n",
      " [  1.   1.   1.   1.   1.   1.   1.   1.   1.]\n",
      " [100.   1.   1.   1.   1.   1.   1.   1. 100.]\n",
      " [100.   1. 150.   1. 150.   1. 150.   1. 200.]\n",
      " [100.   1. 150.   1. 150.   1. 150.   1.   1.]\n",
      " [100.   1. 150.   1. 150.   1. 150.   1.   1.]\n",
      " [  1.   1. 150.   1. 150.   1. 150.   1.   1.]\n",
      " [  1.   1.   1.   1.   1.   1.   1.   1.   1.]\n",
      " [  1.   1.  50.   1.   1.   1.   1.   1.   1.]\n",
      " [150. 150. 150. 150.   1. 150. 150. 150. 150.]]\n",
      " 이 때 한 행동 : ↓\n",
      " 마지막 보상 : -10\n",
      " 총 받은 보상 :1667\n",
      " end : True\n",
      " clear : True\n",
      "episode :1, score = 2668.109999999998, n_buffer :100000 , eps : 50.0\n"
     ]
    },
    {
     "name": "stderr",
     "output_type": "stream",
     "text": [
      "  5%|███▏                                                               | 2801/60000 [17:46<4:58:07,  3.20it/s]"
     ]
    },
    {
     "name": "stdout",
     "output_type": "stream",
     "text": [
      "epi = 1\n",
      " 마지막 상태 :\n",
      "[[100. 200. 100. 100. 100. 100. 100. 100. 200.]\n",
      " [  1.   1.   1.   1.   1.   1.   1.   1.   1.]\n",
      " [100.   1.   1.   1.   1.   1.   1.   1. 100.]\n",
      " [100.   1. 150.   1. 150.   1. 150.   1.   1.]\n",
      " [100.   1. 150.   1. 150.   1. 150.   1.   1.]\n",
      " [100.   1. 150.   1. 150.   1. 150.   1.   1.]\n",
      " [  1.   1. 150.   1. 150.   1. 150.   1.   1.]\n",
      " [  1.   1.   1.   1.   1.   1.   1.   1.   1.]\n",
      " [ 50.   1.   1.   1.   1.   1.   1.   1.   1.]\n",
      " [150. 150. 150. 150.   1. 150. 150. 150. 150.]]\n",
      " 이 때 한 행동 : ↓\n",
      " 마지막 보상 : -10\n",
      " 총 받은 보상 :2741.8\n",
      " end : True\n",
      " clear : True\n",
      "episode :1, score = 2705.055999999999, n_buffer :100000 , eps : 50.0\n"
     ]
    },
    {
     "name": "stderr",
     "output_type": "stream",
     "text": [
      "  5%|███▏                                                               | 2901/60000 [18:17<4:08:31,  3.83it/s]"
     ]
    },
    {
     "name": "stdout",
     "output_type": "stream",
     "text": [
      "epi = 1\n",
      " 마지막 상태 :\n",
      "[[100. 200. 100. 100. 100. 100. 100. 100.   1.]\n",
      " [  1.   1.   1.   1.   1.   1.   1.   1.   1.]\n",
      " [100.   1.   1.   1.   1.   1.   1.   1. 100.]\n",
      " [100.   1. 150.   1. 150.   1. 150.   1.   1.]\n",
      " [100.   1. 150.   1. 150.   1. 150.   1.   1.]\n",
      " [100.   1. 150.   1. 150.   1. 150.   1.   1.]\n",
      " [  1.  50. 150.   1. 150.   1. 150.   1.   1.]\n",
      " [  1.   1.   1.   1.   1.   1.   1.   1.   1.]\n",
      " [  1.   1.   1.   1.   1.   1.   1.   1.   1.]\n",
      " [150. 150. 150. 150.   1. 150. 150. 150. 150.]]\n",
      " 이 때 한 행동 : ↓\n",
      " 마지막 보상 : -1\n",
      " 총 받은 보상 :3725.7000000000003\n",
      " end : True\n",
      " clear : True\n",
      "episode :1, score = 2833.1389999999888, n_buffer :100000 , eps : 50.0\n"
     ]
    },
    {
     "name": "stderr",
     "output_type": "stream",
     "text": [
      "  5%|███▎                                                               | 3001/60000 [18:49<4:31:34,  3.50it/s]"
     ]
    },
    {
     "name": "stdout",
     "output_type": "stream",
     "text": [
      "epi = 1\n",
      " 마지막 상태 :\n",
      "[[100. 200. 100. 100. 100. 100. 100. 100.   1.]\n",
      " [  1.   1.   1.   1.   1.   1.   1.   1.   1.]\n",
      " [100.   1.   1.   1.   1.   1.   1.   1. 100.]\n",
      " [100.   1. 150.   1. 150.   1. 150.   1.   1.]\n",
      " [100.   1. 150.   1. 150.   1. 150.   1.   1.]\n",
      " [100.   1. 150.   1. 150.   1. 150.   1.   1.]\n",
      " [  1.   1. 150.   1. 150.   1. 150.   1.   1.]\n",
      " [  1.   1.   1.   1.   1.  50.   1.   1.   1.]\n",
      " [  1.   1.   1.   1.   1.   1.   1.   1.   1.]\n",
      " [150. 150. 150. 150.   1. 150. 150. 150. 150.]]\n",
      " 이 때 한 행동 : →\n",
      " 마지막 보상 : -1\n",
      " 총 받은 보상 :3842.7000000000003\n",
      " end : True\n",
      " clear : True\n",
      "episode :1, score = 2985.5859999999952, n_buffer :100000 , eps : 50.0\n"
     ]
    },
    {
     "name": "stderr",
     "output_type": "stream",
     "text": [
      "  5%|███▍                                                               | 3101/60000 [19:18<4:22:36,  3.61it/s]"
     ]
    },
    {
     "name": "stdout",
     "output_type": "stream",
     "text": [
      "epi = 1\n",
      " 마지막 상태 :\n",
      "[[100.   1. 100. 100. 100. 100. 100. 100. 200.]\n",
      " [  1.   1.   1.  50.   1.   1.   1.   1.   1.]\n",
      " [100.   1.   1.   1.   1.   1.   1.   1. 100.]\n",
      " [100.   1. 150.   1. 150.   1. 150.   1.   1.]\n",
      " [100.   1. 150.   1. 150.   1. 150.   1.   1.]\n",
      " [100.   1. 150.   1. 150.   1. 150.   1.   1.]\n",
      " [  1.   1. 150.   1. 150.   1. 150.   1.   1.]\n",
      " [  1.   1.   1.   1.   1.   1.   1.   1.   1.]\n",
      " [  1.   1.   1.   1.   1.   1.   1.   1.   1.]\n",
      " [150. 150. 150. 150.   1. 150. 150. 150. 150.]]\n",
      " 이 때 한 행동 : ←\n",
      " 마지막 보상 : -1\n",
      " 총 받은 보상 :3898.5000000000023\n",
      " end : True\n",
      " clear : True\n",
      "episode :1, score = 4013.4750000000613, n_buffer :100000 , eps : 50.0\n"
     ]
    },
    {
     "name": "stderr",
     "output_type": "stream",
     "text": [
      "  5%|███▌                                                               | 3201/60000 [19:57<6:32:39,  2.41it/s]"
     ]
    },
    {
     "name": "stdout",
     "output_type": "stream",
     "text": [
      "epi = 1\n",
      " 마지막 상태 :\n",
      "[[100.   1. 100. 100. 100. 100. 100. 100.   1.]\n",
      " [  1.   1.   1.   1.  50.   1.   1.   1.   1.]\n",
      " [100.   1.   1.   1.   1.   1.   1.   1. 100.]\n",
      " [100.   1. 150.   1. 150.   1. 150.   1.   1.]\n",
      " [100.   1. 150.   1. 150.   1. 150.   1.   1.]\n",
      " [100.   1. 150.   1. 150.   1. 150.   1.   1.]\n",
      " [  1.   1. 150.   1. 150.   1. 150.   1.   1.]\n",
      " [  1.   1.   1.   1.   1.   1.   1.   1.   1.]\n",
      " [  1.   1.   1.   1.   1.   1.   1.   1.   1.]\n",
      " [150. 150. 150. 150.   1. 150. 150. 150. 150.]]\n",
      " 이 때 한 행동 : ↑\n",
      " 마지막 보상 : -1\n",
      " 총 받은 보상 :4876.9999999999945\n",
      " end : True\n",
      " clear : True\n",
      "episode :1, score = 4262.768000000095, n_buffer :100000 , eps : 50.0\n"
     ]
    },
    {
     "name": "stderr",
     "output_type": "stream",
     "text": [
      "  6%|███▋                                                               | 3301/60000 [20:27<3:41:16,  4.27it/s]"
     ]
    },
    {
     "name": "stdout",
     "output_type": "stream",
     "text": [
      "epi = 1\n",
      " 마지막 상태 :\n",
      "[[100.   1. 100. 100. 100. 100. 100. 100.   1.]\n",
      " [  1.   1.   1.   1.   1.   1.   1.  50.   1.]\n",
      " [100.   1.   1.   1.   1.   1.   1.   1. 100.]\n",
      " [100.   1. 150.   1. 150.   1. 150.   1.   1.]\n",
      " [100.   1. 150.   1. 150.   1. 150.   1.   1.]\n",
      " [100.   1. 150.   1. 150.   1. 150.   1.   1.]\n",
      " [  1.   1. 150.   1. 150.   1. 150.   1.   1.]\n",
      " [  1.   1.   1.   1.   1.   1.   1.   1.   1.]\n",
      " [  1.   1.   1.   1.   1.   1.   1.   1.   1.]\n",
      " [150. 150. 150. 150.   1. 150. 150. 150. 150.]]\n",
      " 이 때 한 행동 : →\n",
      " 마지막 보상 : -1\n",
      " 총 받은 보상 :4829.299999999999\n",
      " end : True\n",
      " clear : True\n",
      "episode :1, score = 4459.218000000109, n_buffer :100000 , eps : 50.0\n"
     ]
    },
    {
     "name": "stderr",
     "output_type": "stream",
     "text": [
      "  6%|███▊                                                               | 3401/60000 [20:59<4:55:04,  3.20it/s]"
     ]
    },
    {
     "name": "stdout",
     "output_type": "stream",
     "text": [
      "epi = 1\n",
      " 마지막 상태 :\n",
      "[[100.   1. 100. 100. 100. 100. 100. 100.   1.]\n",
      " [  1.   1.   1.  50.   1.   1.   1.   1.   1.]\n",
      " [100.   1.   1.   1.   1.   1.   1.   1. 100.]\n",
      " [100.   1. 150.   1. 150.   1. 150.   1.   1.]\n",
      " [100.   1. 150.   1. 150.   1. 150.   1.   1.]\n",
      " [100.   1. 150.   1. 150.   1. 150.   1.   1.]\n",
      " [  1.   1. 150.   1. 150.   1. 150.   1.   1.]\n",
      " [  1.   1.   1.   1.   1.   1.   1.   1.   1.]\n",
      " [  1.   1.   1.   1.   1.   1.   1.   1.   1.]\n",
      " [150. 150. 150. 150.   1. 150. 150. 150. 150.]]\n",
      " 이 때 한 행동 : →\n",
      " 마지막 보상 : -1\n",
      " 총 받은 보상 :4862.5999999999985\n",
      " end : True\n",
      " clear : True\n",
      "episode :1, score = 4338.200000000091, n_buffer :100000 , eps : 50.0\n"
     ]
    },
    {
     "name": "stderr",
     "output_type": "stream",
     "text": [
      "  6%|███▉                                                               | 3501/60000 [21:50<5:06:43,  3.07it/s]"
     ]
    },
    {
     "name": "stdout",
     "output_type": "stream",
     "text": [
      "epi = 1\n",
      " 마지막 상태 :\n",
      "[[100.   1. 100. 100. 100. 100. 100. 100.   1.]\n",
      " [  1.   1.   1.   1.   1.   1.   1.   1.   1.]\n",
      " [100.  50.   1.   1.   1.   1.   1.   1. 100.]\n",
      " [100.   1. 150.   1. 150.   1. 150.   1.   1.]\n",
      " [100.   1. 150.   1. 150.   1. 150.   1.   1.]\n",
      " [100.   1. 150.   1. 150.   1. 150.   1.   1.]\n",
      " [  1.   1. 150.   1. 150.   1. 150.   1.   1.]\n",
      " [  1.   1.   1.   1.   1.   1.   1.   1.   1.]\n",
      " [  1.   1.   1.   1.   1.   1.   1.   1.   1.]\n",
      " [150. 150. 150. 150.   1. 150. 150. 150. 150.]]\n",
      " 이 때 한 행동 : ←\n",
      " 마지막 보상 : -0.1\n",
      " 총 받은 보상 :4845.499999999999\n",
      " end : True\n",
      " clear : True\n",
      "episode :1, score = 4158.074000000046, n_buffer :100000 , eps : 50.0\n"
     ]
    },
    {
     "name": "stderr",
     "output_type": "stream",
     "text": [
      "  6%|████                                                               | 3601/60000 [22:22<5:05:58,  3.07it/s]"
     ]
    },
    {
     "name": "stdout",
     "output_type": "stream",
     "text": [
      "epi = 1\n",
      " 마지막 상태 :\n",
      "[[100.   1. 100. 100. 100. 100. 100. 100.   1.]\n",
      " [  1.   1.   1.   1.   1.   1.   1.   1.   1.]\n",
      " [100.   1.   1.   1.   1.   1.   1.   1. 100.]\n",
      " [100.   1. 150.   1. 150.   1. 150.  50.   1.]\n",
      " [100.   1. 150.   1. 150.   1. 150.   1.   1.]\n",
      " [100.   1. 150.   1. 150.   1. 150.   1.   1.]\n",
      " [  1.   1. 150.   1. 150.   1. 150.   1.   1.]\n",
      " [  1.   1.   1.   1.   1.   1.   1.   1.   1.]\n",
      " [  1.   1.   1.   1.   1.   1.   1.   1.   1.]\n",
      " [150. 150. 150. 150.   1. 150. 150. 150. 150.]]\n",
      " 이 때 한 행동 : ↓\n",
      " 마지막 보상 : -1\n",
      " 총 받은 보상 :4867.0999999999985\n",
      " end : True\n",
      " clear : True\n",
      "episode :1, score = 4447.216000000113, n_buffer :100000 , eps : 50.0\n"
     ]
    },
    {
     "name": "stderr",
     "output_type": "stream",
     "text": [
      "  6%|████▏                                                              | 3701/60000 [22:58<5:47:20,  2.70it/s]"
     ]
    },
    {
     "name": "stdout",
     "output_type": "stream",
     "text": [
      "epi = 1\n",
      " 마지막 상태 :\n",
      "[[100.   1. 100. 100. 100. 100. 100. 100.   1.]\n",
      " [  1.   1.   1.   1.   1.   1.   1.   1.   1.]\n",
      " [100.   1.   1.   1.   1.   1.   1.   1. 100.]\n",
      " [100.   1. 150.  50. 150.   1. 150.   1.   1.]\n",
      " [100.   1. 150.   1. 150.   1. 150.   1.   1.]\n",
      " [100.   1. 150.   1. 150.   1. 150.   1.   1.]\n",
      " [  1.   1. 150.   1. 150.   1. 150.   1.   1.]\n",
      " [  1.   1.   1.   1.   1.   1.   1.   1.   1.]\n",
      " [  1.   1.   1.   1.   1.   1.   1.   1.   1.]\n",
      " [150. 150. 150. 150.   1. 150. 150. 150. 150.]]\n",
      " 이 때 한 행동 : ←\n",
      " 마지막 보상 : -10\n",
      " 총 받은 보상 :4670.899999999998\n",
      " end : True\n",
      " clear : True\n",
      "episode :1, score = 4315.36000000009, n_buffer :100000 , eps : 50.0\n"
     ]
    },
    {
     "name": "stderr",
     "output_type": "stream",
     "text": [
      "  6%|████▏                                                              | 3801/60000 [23:28<4:45:18,  3.28it/s]"
     ]
    },
    {
     "name": "stdout",
     "output_type": "stream",
     "text": [
      "epi = 1\n",
      " 마지막 상태 :\n",
      "[[100.   1. 100. 100. 100. 100. 100. 100.   1.]\n",
      " [ 50.   1.   1.   1.   1.   1.   1.   1.   1.]\n",
      " [100.   1.   1.   1.   1.   1.   1.   1. 100.]\n",
      " [100.   1. 150.   1. 150.   1. 150.   1.   1.]\n",
      " [100.   1. 150.   1. 150.   1. 150.   1.   1.]\n",
      " [100.   1. 150.   1. 150.   1. 150.   1.   1.]\n",
      " [  1.   1. 150.   1. 150.   1. 150.   1.   1.]\n",
      " [  1.   1.   1.   1.   1.   1.   1.   1.   1.]\n",
      " [  1.   1.   1.   1.   1.   1.   1.   1.   1.]\n",
      " [150. 150. 150. 150.   1. 150. 150. 150. 150.]]\n",
      " 이 때 한 행동 : ←\n",
      " 마지막 보상 : -10\n",
      " 총 받은 보상 :4717.699999999999\n",
      " end : True\n",
      " clear : True\n",
      "episode :1, score = 4372.078000000062, n_buffer :100000 , eps : 50.0\n"
     ]
    },
    {
     "name": "stderr",
     "output_type": "stream",
     "text": [
      "  7%|████▎                                                              | 3901/60000 [24:02<4:42:57,  3.30it/s]"
     ]
    },
    {
     "name": "stdout",
     "output_type": "stream",
     "text": [
      "epi = 1\n",
      " 마지막 상태 :\n",
      "[[100.   1. 100. 100. 100. 100. 100. 100.   1.]\n",
      " [  1.   1.   1.   1.   1.   1.   1.   1.   1.]\n",
      " [100.   1.   1.   1.   1.   1.   1.   1. 100.]\n",
      " [100.   1. 150.  50. 150.   1. 150.   1.   1.]\n",
      " [100.   1. 150.   1. 150.   1. 150.   1.   1.]\n",
      " [100.   1. 150.   1. 150.   1. 150.   1.   1.]\n",
      " [  1.   1. 150.   1. 150.   1. 150.   1.   1.]\n",
      " [  1.   1.   1.   1.   1.   1.   1.   1.   1.]\n",
      " [  1.   1.   1.   1.   1.   1.   1.   1.   1.]\n",
      " [150. 150. 150. 150.   1. 150. 150. 150. 150.]]\n",
      " 이 때 한 행동 : ←\n",
      " 마지막 보상 : -10\n",
      " 총 받은 보상 :4827.5\n",
      " end : True\n",
      " clear : True\n",
      "episode :1, score = 4249.91900000005, n_buffer :100000 , eps : 50.0\n"
     ]
    },
    {
     "name": "stderr",
     "output_type": "stream",
     "text": [
      "  7%|████▍                                                              | 4001/60000 [24:33<3:46:18,  4.12it/s]"
     ]
    },
    {
     "name": "stdout",
     "output_type": "stream",
     "text": [
      "epi = 1\n",
      " 마지막 상태 :\n",
      "[[100. 200. 100. 100. 100. 100. 100. 100.   1.]\n",
      " [  1.   1.   1.   1.   1.   1.   1.   1.   1.]\n",
      " [100.   1.   1.  50.   1.   1.   1.   1. 100.]\n",
      " [100.   1. 150.   1. 150.   1. 150.   1.   1.]\n",
      " [100.   1. 150.   1. 150.   1. 150.   1.   1.]\n",
      " [100.   1. 150.   1. 150.   1. 150.   1.   1.]\n",
      " [  1.   1. 150.   1. 150.   1. 150.   1.   1.]\n",
      " [  1.   1.   1.   1.   1.   1.   1.   1.   1.]\n",
      " [  1.   1.   1.   1.   1.   1.   1.   1.   1.]\n",
      " [150. 150. 150. 150.   1. 150. 150. 150. 150.]]\n",
      " 이 때 한 행동 : ←\n",
      " 마지막 보상 : -1\n",
      " 총 받은 보상 :3723.9\n",
      " end : True\n",
      " clear : True\n",
      "episode :1, score = 4058.7420000001125, n_buffer :100000 , eps : 50.0\n"
     ]
    },
    {
     "name": "stderr",
     "output_type": "stream",
     "text": [
      "  7%|████▌                                                              | 4102/60000 [25:03<3:50:10,  4.05it/s]"
     ]
    },
    {
     "name": "stdout",
     "output_type": "stream",
     "text": [
      "epi = 1\n",
      " 마지막 상태 :\n",
      "[[100. 200. 100. 100. 100. 100. 100. 100.   1.]\n",
      " [  1.   1.   1.   1.   1.   1.  50.   1.   1.]\n",
      " [100.   1.   1.   1.   1.   1.   1.   1. 100.]\n",
      " [100.   1. 150.   1. 150.   1. 150.   1.   1.]\n",
      " [100.   1. 150.   1. 150.   1. 150.   1.   1.]\n",
      " [100.   1. 150.   1. 150.   1. 150.   1.   1.]\n",
      " [  1.   1. 150.   1. 150.   1. 150.   1.   1.]\n",
      " [  1.   1.   1.   1.   1.   1.   1.   1.   1.]\n",
      " [  1.   1.   1.   1.   1.   1.   1.   1.   1.]\n",
      " [150. 150. 150. 150.   1. 150. 150. 150. 150.]]\n",
      " 이 때 한 행동 : ↑\n",
      " 마지막 보상 : -0.1\n",
      " 총 받은 보상 :3727.5000000000005\n",
      " end : True\n",
      " clear : True\n",
      "episode :1, score = 4076.4280000000317, n_buffer :100000 , eps : 50.0\n"
     ]
    },
    {
     "name": "stderr",
     "output_type": "stream",
     "text": [
      "  7%|████▋                                                              | 4201/60000 [25:34<4:15:51,  3.63it/s]"
     ]
    },
    {
     "name": "stdout",
     "output_type": "stream",
     "text": [
      "epi = 1\n",
      " 마지막 상태 :\n",
      "[[100.   1. 100. 100. 100. 100. 100. 100. 200.]\n",
      " [  1.   1.   1.   1.   1.   1.   1.   1.   1.]\n",
      " [100.   1.   1.  50.   1.   1.   1.   1. 100.]\n",
      " [100.   1. 150.   1. 150.   1. 150.   1. 200.]\n",
      " [100.   1. 150.   1. 150.   1. 150.   1. 200.]\n",
      " [100.   1. 150.   1. 150.   1. 150.   1. 200.]\n",
      " [  1.   1. 150.   1. 150.   1. 150.   1.   1.]\n",
      " [  1.   1.   1.   1.   1.   1.   1.   1.   1.]\n",
      " [  1.   1.   1.   1.   1.   1.   1.   1.   1.]\n",
      " [150. 150. 150. 150.   1. 150. 150. 150. 150.]]\n",
      " 이 때 한 행동 : →\n",
      " 마지막 보상 : -1\n",
      " 총 받은 보상 :858.5999999999995\n",
      " end : True\n",
      " clear : True\n",
      "episode :1, score = 3725.2400000000484, n_buffer :100000 , eps : 50.0\n"
     ]
    },
    {
     "name": "stderr",
     "output_type": "stream",
     "text": [
      "  7%|████▊                                                              | 4301/60000 [26:07<4:59:18,  3.10it/s]"
     ]
    },
    {
     "name": "stdout",
     "output_type": "stream",
     "text": [
      "epi = 1\n",
      " 마지막 상태 :\n",
      "[[100.   1. 100. 100. 100. 100. 100. 100.   1.]\n",
      " [  1.   1.   1.   1.   1.   1.   1.   1.   1.]\n",
      " [100.   1.   1.   1.   1.   1.   1.   1. 100.]\n",
      " [100.   1. 150.   1. 150.   1. 150.   1.   1.]\n",
      " [100.   1. 150.   1. 150.   1. 150.  50.   1.]\n",
      " [100.   1. 150.   1. 150.   1. 150.   1.   1.]\n",
      " [  1.   1. 150.   1. 150.   1. 150.   1.   1.]\n",
      " [  1.   1.   1.   1.   1.   1.   1.   1.   1.]\n",
      " [  1.   1.   1.   1.   1.   1.   1.   1.   1.]\n",
      " [150. 150. 150. 150.   1. 150. 150. 150. 150.]]\n",
      " 이 때 한 행동 : ↓\n",
      " 마지막 보상 : -1\n",
      " 총 받은 보상 :4705.999999999998\n",
      " end : True\n",
      " clear : True\n",
      "episode :1, score = 3972.216000000064, n_buffer :100000 , eps : 50.0\n"
     ]
    },
    {
     "name": "stderr",
     "output_type": "stream",
     "text": [
      "  7%|████▉                                                              | 4401/60000 [26:40<5:01:06,  3.08it/s]"
     ]
    },
    {
     "name": "stdout",
     "output_type": "stream",
     "text": [
      "epi = 1\n",
      " 마지막 상태 :\n",
      "[[100.   1. 100. 100. 100. 100. 100. 100.   1.]\n",
      " [  1.   1.   1.   1.   1.   1.   1.   1.   1.]\n",
      " [100.   1.   1.  50.   1.   1.   1.   1. 100.]\n",
      " [100.   1. 150.   1. 150.   1. 150.   1.   1.]\n",
      " [100.   1. 150.   1. 150.   1. 150.   1.   1.]\n",
      " [100.   1. 150.   1. 150.   1. 150.   1.   1.]\n",
      " [  1.   1. 150.   1. 150.   1. 150.   1.   1.]\n",
      " [  1.   1.   1.   1.   1.   1.   1.   1.   1.]\n",
      " [  1.   1.   1.   1.   1.   1.   1.   1.   1.]\n",
      " [150. 150. 150. 150.   1. 150. 150. 150. 150.]]\n",
      " 이 때 한 행동 : →\n",
      " 마지막 보상 : -1\n",
      " 총 받은 보상 :4725.799999999997\n",
      " end : True\n",
      " clear : True\n",
      "episode :1, score = 4465.519000000087, n_buffer :100000 , eps : 50.0\n"
     ]
    },
    {
     "name": "stderr",
     "output_type": "stream",
     "text": [
      "  8%|█████                                                              | 4501/60000 [27:12<5:37:33,  2.74it/s]"
     ]
    },
    {
     "name": "stdout",
     "output_type": "stream",
     "text": [
      "epi = 1\n",
      " 마지막 상태 :\n",
      "[[100. 200. 100. 100. 100. 100. 100. 100.   1.]\n",
      " [  1.   1.   1.   1.   1.   1.   1.  50.   1.]\n",
      " [100.   1.   1.   1.   1.   1.   1.   1. 100.]\n",
      " [100.   1. 150.   1. 150.   1. 150.   1.   1.]\n",
      " [100.   1. 150.   1. 150.   1. 150.   1.   1.]\n",
      " [100.   1. 150.   1. 150.   1. 150.   1.   1.]\n",
      " [  1.   1. 150.   1. 150.   1. 150.   1.   1.]\n",
      " [  1.   1.   1.   1.   1.   1.   1.   1.   1.]\n",
      " [  1.   1.   1.   1.   1.   1.   1.   1.   1.]\n",
      " [150. 150. 150. 150.   1. 150. 150. 150. 150.]]\n",
      " 이 때 한 행동 : ↑\n",
      " 마지막 보상 : -1\n",
      " 총 받은 보상 :3729.3000000000015\n",
      " end : True\n",
      " clear : True\n",
      "episode :1, score = 4353.309000000097, n_buffer :100000 , eps : 50.0\n"
     ]
    },
    {
     "name": "stderr",
     "output_type": "stream",
     "text": [
      "  8%|█████▏                                                             | 4601/60000 [27:56<4:56:01,  3.12it/s]"
     ]
    },
    {
     "name": "stdout",
     "output_type": "stream",
     "text": [
      "epi = 1\n",
      " 마지막 상태 :\n",
      "[[100.   1. 100. 100. 100. 100. 100. 100.   1.]\n",
      " [ 50.   1.   1.   1.   1.   1.   1.   1.   1.]\n",
      " [100.   1.   1.   1.   1.   1.   1.   1. 100.]\n",
      " [100.   1. 150.   1. 150.   1. 150.   1.   1.]\n",
      " [100.   1. 150.   1. 150.   1. 150.   1.   1.]\n",
      " [100.   1. 150.   1. 150.   1. 150.   1.   1.]\n",
      " [  1.   1. 150.   1. 150.   1. 150.   1.   1.]\n",
      " [  1.   1.   1.   1.   1.   1.   1.   1.   1.]\n",
      " [  1.   1.   1.   1.   1.   1.   1.   1.   1.]\n",
      " [150. 150. 150. 150.   1. 150. 150. 150. 150.]]\n",
      " 이 때 한 행동 : ↑\n",
      " 마지막 보상 : -0.1\n",
      " 총 받은 보상 :4851.799999999999\n",
      " end : True\n",
      " clear : True\n",
      "episode :1, score = 4631.907000000103, n_buffer :100000 , eps : 50.0\n"
     ]
    },
    {
     "name": "stderr",
     "output_type": "stream",
     "text": [
      "  8%|█████▏                                                             | 4701/60000 [28:37<4:22:18,  3.51it/s]"
     ]
    },
    {
     "name": "stdout",
     "output_type": "stream",
     "text": [
      "epi = 1\n",
      " 마지막 상태 :\n",
      "[[100.   1. 100. 100. 100. 100. 100. 100.   1.]\n",
      " [  1.   1.   1.   1.   1.   1.   1.   1.   1.]\n",
      " [100.   1.   1.   1.   1.   1.   1.   1. 100.]\n",
      " [100.  50. 150.   1. 150.   1. 150.   1.   1.]\n",
      " [100.   1. 150.   1. 150.   1. 150.   1.   1.]\n",
      " [100.   1. 150.   1. 150.   1. 150.   1.   1.]\n",
      " [  1.   1. 150.   1. 150.   1. 150.   1.   1.]\n",
      " [  1.   1.   1.   1.   1.   1.   1.   1.   1.]\n",
      " [  1.   1.   1.   1.   1.   1.   1.   1.   1.]\n",
      " [150. 150. 150. 150.   1. 150. 150. 150. 150.]]\n",
      " 이 때 한 행동 : ↑\n",
      " 마지막 보상 : -1\n",
      " 총 받은 보상 :4857.199999999999\n",
      " end : True\n",
      " clear : True\n",
      "episode :1, score = 4654.009000000069, n_buffer :100000 , eps : 50.0\n"
     ]
    },
    {
     "name": "stderr",
     "output_type": "stream",
     "text": [
      "  8%|█████▎                                                             | 4801/60000 [29:14<4:30:57,  3.40it/s]"
     ]
    },
    {
     "name": "stdout",
     "output_type": "stream",
     "text": [
      "epi = 1\n",
      " 마지막 상태 :\n",
      "[[100. 200. 100. 100. 100. 100. 100. 100.   1.]\n",
      " [  1.   1.   1.   1.   1.   1.   1.   1.   1.]\n",
      " [100.   1.   1.   1.   1.   1.   1.   1. 100.]\n",
      " [100.  50. 150.   1. 150.   1. 150.   1.   1.]\n",
      " [100.   1. 150.   1. 150.   1. 150.   1.   1.]\n",
      " [100.   1. 150.   1. 150.   1. 150.   1.   1.]\n",
      " [  1.   1. 150.   1. 150.   1. 150.   1.   1.]\n",
      " [  1.   1.   1.   1.   1.   1.   1.   1.   1.]\n",
      " [  1.   1.   1.   1.   1.   1.   1.   1.   1.]\n",
      " [150. 150. 150. 150.   1. 150. 150. 150. 150.]]\n",
      " 이 때 한 행동 : ↓\n",
      " 마지막 보상 : -1\n",
      " 총 받은 보상 :3773.4000000000015\n",
      " end : True\n",
      " clear : True\n",
      "episode :1, score = 4518.709000000091, n_buffer :100000 , eps : 50.0\n"
     ]
    },
    {
     "name": "stderr",
     "output_type": "stream",
     "text": [
      "  8%|█████▍                                                             | 4901/60000 [29:55<5:16:48,  2.90it/s]"
     ]
    },
    {
     "name": "stdout",
     "output_type": "stream",
     "text": [
      "epi = 1\n",
      " 마지막 상태 :\n",
      "[[100.   1. 100. 100. 100. 100. 100. 100.   1.]\n",
      " [  1.   1.   1.   1.   1.   1.   1.   1.   1.]\n",
      " [100.   1.   1.   1.   1.   1.   1.   1. 100.]\n",
      " [100.  50. 150.   1. 150.   1. 150.   1.   1.]\n",
      " [100.   1. 150.   1. 150.   1. 150.   1.   1.]\n",
      " [100.   1. 150.   1. 150.   1. 150.   1.   1.]\n",
      " [  1.   1. 150.   1. 150.   1. 150.   1.   1.]\n",
      " [  1.   1.   1.   1.   1.   1.   1.   1.   1.]\n",
      " [  1.   1.   1.   1.   1.   1.   1.   1.   1.]\n",
      " [150. 150. 150. 150.   1. 150. 150. 150. 150.]]\n",
      " 이 때 한 행동 : ←\n",
      " 마지막 보상 : -0.1\n",
      " 총 받은 보상 :4865.299999999992\n",
      " end : True\n",
      " clear : True\n",
      "episode :1, score = 4320.871000000094, n_buffer :100000 , eps : 50.0\n"
     ]
    },
    {
     "name": "stderr",
     "output_type": "stream",
     "text": [
      "  8%|█████▌                                                             | 5001/60000 [30:27<4:28:35,  3.41it/s]"
     ]
    },
    {
     "name": "stdout",
     "output_type": "stream",
     "text": [
      "epi = 1\n",
      " 마지막 상태 :\n",
      "[[100. 200. 100. 100. 100. 100. 100. 100.   1.]\n",
      " [  1.   1.   1.   1.   1.   1.   1.   1.   1.]\n",
      " [100.   1.   1.   1.   1.   1.   1.   1. 100.]\n",
      " [100.   1. 150.   1. 150.   1. 150.   1.   1.]\n",
      " [100.   1. 150.   1. 150.   1. 150.   1.   1.]\n",
      " [100.   1. 150.   1. 150.   1. 150.  50.   1.]\n",
      " [  1.   1. 150.   1. 150.   1. 150.   1.   1.]\n",
      " [  1.   1.   1.   1.   1.   1.   1.   1.   1.]\n",
      " [  1.   1.   1.   1.   1.   1.   1.   1.   1.]\n",
      " [150. 150. 150. 150.   1. 150. 150. 150. 150.]]\n",
      " 이 때 한 행동 : ←\n",
      " 마지막 보상 : -1\n",
      " 총 받은 보상 :3606.9\n",
      " end : True\n",
      " clear : True\n",
      "episode :1, score = 3916.35300000004, n_buffer :100000 , eps : 50.0\n"
     ]
    },
    {
     "name": "stderr",
     "output_type": "stream",
     "text": [
      "  9%|█████▋                                                             | 5101/60000 [30:58<4:19:27,  3.53it/s]"
     ]
    },
    {
     "name": "stdout",
     "output_type": "stream",
     "text": [
      "epi = 1\n",
      " 마지막 상태 :\n",
      "[[100. 200. 100. 100. 100. 100. 100. 100.   1.]\n",
      " [  1.   1.   1.   1.   1.   1.   1.   1.   1.]\n",
      " [100.   1.   1.   1.   1.   1.   1.   1. 100.]\n",
      " [100.   1. 150.   1. 150.   1. 150.  50.   1.]\n",
      " [100.   1. 150.   1. 150.   1. 150.   1.   1.]\n",
      " [100.   1. 150.   1. 150.   1. 150.   1.   1.]\n",
      " [  1.   1. 150.   1. 150.   1. 150.   1.   1.]\n",
      " [  1.   1.   1.   1.   1.   1.   1.   1.   1.]\n",
      " [  1.   1.   1.   1.   1.   1.   1.   1.   1.]\n",
      " [150. 150. 150. 150.   1. 150. 150. 150. 150.]]\n",
      " 이 때 한 행동 : ↑\n",
      " 마지막 보상 : -1\n",
      " 총 받은 보상 :3746.4000000000005\n",
      " end : True\n",
      " clear : True\n",
      "episode :1, score = 3820.9350000000168, n_buffer :100000 , eps : 50.0\n"
     ]
    },
    {
     "name": "stderr",
     "output_type": "stream",
     "text": [
      "  9%|█████▊                                                             | 5201/60000 [31:35<5:28:14,  2.78it/s]"
     ]
    },
    {
     "name": "stdout",
     "output_type": "stream",
     "text": [
      "epi = 1\n",
      " 마지막 상태 :\n",
      "[[100. 200. 100. 100. 100. 100. 100. 100.   1.]\n",
      " [  1.   1.   1.   1.   1.   1.   1.   1.   1.]\n",
      " [100.   1.   1.   1.   1.   1.   1.   1. 100.]\n",
      " [100.   1. 150.   1. 150.   1. 150.  50.   1.]\n",
      " [100.   1. 150.   1. 150.   1. 150.   1.   1.]\n",
      " [100.   1. 150.   1. 150.   1. 150.   1.   1.]\n",
      " [  1.   1. 150.   1. 150.   1. 150.   1.   1.]\n",
      " [  1.   1.   1.   1.   1.   1.   1.   1.   1.]\n",
      " [  1.   1.   1.   1.   1.   1.   1.   1.   1.]\n",
      " [150. 150. 150. 150.   1. 150. 150. 150. 150.]]\n",
      " 이 때 한 행동 : ←\n",
      " 마지막 보상 : -10\n",
      " 총 받은 보상 :3697.800000000001\n",
      " end : True\n",
      " clear : True\n",
      "episode :1, score = 3933.088000000037, n_buffer :100000 , eps : 50.0\n"
     ]
    },
    {
     "name": "stderr",
     "output_type": "stream",
     "text": [
      "  9%|█████▉                                                             | 5301/60000 [32:07<4:40:03,  3.26it/s]"
     ]
    },
    {
     "name": "stdout",
     "output_type": "stream",
     "text": [
      "epi = 1\n",
      " 마지막 상태 :\n",
      "[[100. 200. 100. 100. 100. 100. 100. 100.   1.]\n",
      " [  1.   1.   1.   1.   1.   1.   1.   1.   1.]\n",
      " [100.   1.   1.   1.   1.   1.   1.   1. 100.]\n",
      " [100.   1. 150.   1. 150.   1. 150.  50.   1.]\n",
      " [100.   1. 150.   1. 150.   1. 150.   1.   1.]\n",
      " [100.   1. 150.   1. 150.   1. 150.   1.   1.]\n",
      " [  1.   1. 150.   1. 150.   1. 150.   1.   1.]\n",
      " [  1.   1.   1.   1.   1.   1.   1.   1.   1.]\n",
      " [  1.   1.   1.   1.   1.   1.   1.   1.   1.]\n",
      " [150. 150. 150. 150.   1. 150. 150. 150. 150.]]\n",
      " 이 때 한 행동 : ↓\n",
      " 마지막 보상 : -1\n",
      " 총 받은 보상 :3826.5000000000005\n",
      " end : True\n",
      " clear : True\n",
      "episode :1, score = 3882.3970000000613, n_buffer :100000 , eps : 50.0\n"
     ]
    },
    {
     "name": "stderr",
     "output_type": "stream",
     "text": [
      "  9%|██████                                                             | 5401/60000 [32:42<4:48:06,  3.16it/s]"
     ]
    },
    {
     "name": "stdout",
     "output_type": "stream",
     "text": [
      "epi = 1\n",
      " 마지막 상태 :\n",
      "[[100. 200. 100. 100. 100. 100. 100. 100.   1.]\n",
      " [  1.   1.   1.   1.   1.   1.   1.   1.   1.]\n",
      " [100.   1.   1.   1.   1.   1.   1.   1. 100.]\n",
      " [100.   1. 150.   1. 150.   1. 150.   1.   1.]\n",
      " [100.   1. 150.   1. 150.   1. 150.   1.   1.]\n",
      " [100.   1. 150.   1. 150.   1. 150.   1.   1.]\n",
      " [  1.   1. 150.   1. 150.   1. 150.   1.   1.]\n",
      " [  1.   1.   1.   1.   1.   1.   1.   1.   1.]\n",
      " [  1.   1.   1.   1.   1.   1.  50.   1.   1.]\n",
      " [150. 150. 150. 150.   1. 150. 150. 150. 150.]]\n",
      " 이 때 한 행동 : ↓\n",
      " 마지막 보상 : -10\n",
      " 총 받은 보상 :3808.5000000000005\n",
      " end : True\n",
      " clear : True\n",
      "episode :1, score = 3783.920000000044, n_buffer :100000 , eps : 50.0\n"
     ]
    },
    {
     "name": "stderr",
     "output_type": "stream",
     "text": [
      "  9%|██████▏                                                            | 5501/60000 [33:16<3:46:11,  4.02it/s]"
     ]
    },
    {
     "name": "stdout",
     "output_type": "stream",
     "text": [
      "epi = 1\n",
      " 마지막 상태 :\n",
      "[[100. 200. 100. 100. 100. 100. 100. 100.   1.]\n",
      " [  1.   1.   1.   1.   1.   1.   1.   1.   1.]\n",
      " [100.   1.   1.   1.   1.   1.   1.   1. 100.]\n",
      " [100.   1. 150.   1. 150.   1. 150.   1.   1.]\n",
      " [100.   1. 150.   1. 150.   1. 150.   1.   1.]\n",
      " [100.   1. 150.   1. 150.   1. 150.   1.   1.]\n",
      " [  1.   1. 150.   1. 150.   1. 150.   1.   1.]\n",
      " [  1.   1.   1.   1.   1.   1.   1.  50.   1.]\n",
      " [  1.   1.   1.   1.   1.   1.   1.   1.   1.]\n",
      " [150. 150. 150. 150.   1. 150. 150. 150. 150.]]\n",
      " 이 때 한 행동 : ←\n",
      " 마지막 보상 : -1\n",
      " 총 받은 보상 :3778.800000000002\n",
      " end : True\n",
      " clear : True\n",
      "episode :1, score = 3815.307000000078, n_buffer :100000 , eps : 50.0\n"
     ]
    },
    {
     "name": "stderr",
     "output_type": "stream",
     "text": [
      "  9%|██████▏                                                           | 5601/60000 [33:50<16:30:17,  1.09s/it]"
     ]
    },
    {
     "name": "stdout",
     "output_type": "stream",
     "text": [
      "epi = 1\n",
      " 마지막 상태 :\n",
      "[[100.   1. 100. 100. 100. 100. 100. 100.   1.]\n",
      " [  1.   1.   1.   1.   1.   1.   1.   1.   1.]\n",
      " [100.   1.   1.   1.   1.   1.   1.   1. 100.]\n",
      " [100.   1. 150.   1. 150.   1. 150.   1.   1.]\n",
      " [100.   1. 150.   1. 150.   1. 150.   1.   1.]\n",
      " [100.   1. 150.   1. 150.   1. 150.   1.   1.]\n",
      " [  1.   1. 150.   1. 150.   1. 150.   1.   1.]\n",
      " [  1.   1.   1.   1.  50.   1.   1.   1.   1.]\n",
      " [  1.   1.   1.   1.   1.   1.   1.   1.   1.]\n",
      " [150. 150. 150. 150.   1. 150. 150. 150. 150.]]\n",
      " 이 때 한 행동 : ↑\n",
      " 마지막 보상 : -10\n",
      " 총 받은 보상 :4752.799999999999\n",
      " end : True\n",
      " clear : True\n",
      "episode :1, score = 3781.9460000000277, n_buffer :100000 , eps : 50.0\n"
     ]
    },
    {
     "name": "stderr",
     "output_type": "stream",
     "text": [
      " 10%|██████▎                                                            | 5701/60000 [34:21<4:56:25,  3.05it/s]"
     ]
    },
    {
     "name": "stdout",
     "output_type": "stream",
     "text": [
      "epi = 1\n",
      " 마지막 상태 :\n",
      "[[100. 200. 100. 100. 100. 100. 100. 100.   1.]\n",
      " [  1.   1.   1.   1.   1.   1.   1.   1.   1.]\n",
      " [100.   1.   1.   1.   1.   1.   1.   1. 100.]\n",
      " [100.   1. 150.   1. 150.   1. 150.   1.   1.]\n",
      " [100.   1. 150.   1. 150.   1. 150.   1.   1.]\n",
      " [100.   1. 150.   1. 150.   1. 150.   1.   1.]\n",
      " [  1.   1. 150.   1. 150.   1. 150.   1.   1.]\n",
      " [  1.   1.   1.   1.   1.   1.   1.   1.   1.]\n",
      " [  1.   1.   1.   1.   1.  50.   1.   1.   1.]\n",
      " [150. 150. 150. 150.   1. 150. 150. 150. 150.]]\n",
      " 이 때 한 행동 : ←\n",
      " 마지막 보상 : -1\n",
      " 총 받은 보상 :3735.6000000000004\n",
      " end : True\n",
      " clear : True\n",
      "episode :1, score = 3792.570000000016, n_buffer :100000 , eps : 50.0\n"
     ]
    },
    {
     "name": "stderr",
     "output_type": "stream",
     "text": [
      " 10%|██████▍                                                            | 5801/60000 [34:52<4:28:51,  3.36it/s]"
     ]
    },
    {
     "name": "stdout",
     "output_type": "stream",
     "text": [
      "epi = 1\n",
      " 마지막 상태 :\n",
      "[[100. 200. 100. 100. 100. 100. 100. 100.   1.]\n",
      " [  1.   1.   1.   1.   1.   1.   1.   1.   1.]\n",
      " [100.   1.   1.   1.   1.   1.   1.   1. 100.]\n",
      " [100.   1. 150.   1. 150.   1. 150.   1.   1.]\n",
      " [100.   1. 150.   1. 150.   1. 150.   1.   1.]\n",
      " [100.   1. 150.   1. 150.   1. 150.   1.   1.]\n",
      " [  1.   1. 150.   1. 150.  50. 150.   1.   1.]\n",
      " [  1.   1.   1.   1.   1.   1.   1.   1.   1.]\n",
      " [  1.   1.   1.   1.   1.   1.   1.   1.   1.]\n",
      " [150. 150. 150. 150.   1. 150. 150. 150. 150.]]\n",
      " 이 때 한 행동 : ←\n",
      " 마지막 보상 : -10\n",
      " 총 받은 보상 :3784.2000000000016\n",
      " end : True\n",
      " clear : True\n",
      "episode :1, score = 3459.115000000033, n_buffer :100000 , eps : 50.0\n"
     ]
    },
    {
     "name": "stderr",
     "output_type": "stream",
     "text": [
      " 10%|██████▌                                                            | 5901/60000 [35:23<6:16:33,  2.39it/s]"
     ]
    },
    {
     "name": "stdout",
     "output_type": "stream",
     "text": [
      "epi = 1\n",
      " 마지막 상태 :\n",
      "[[100. 200. 100. 100. 100. 100. 100. 100. 200.]\n",
      " [  1.   1.   1.   1.   1.   1.   1.   1.   1.]\n",
      " [100.   1.   1.   1.   1.   1.   1.   1. 100.]\n",
      " [100.   1. 150.   1. 150.   1. 150.   1.   1.]\n",
      " [100.   1. 150.   1. 150.   1. 150.   1.   1.]\n",
      " [100.   1. 150.   1. 150.   1. 150.   1.   1.]\n",
      " [  1.   1. 150.   1. 150.   1. 150.   1.   1.]\n",
      " [  1.   1.   1.   1.   1.   1.  50.   1.   1.]\n",
      " [  1.   1.   1.   1.   1.   1.   1.   1.   1.]\n",
      " [150. 150. 150. 150.   1. 150. 150. 150. 150.]]\n",
      " 이 때 한 행동 : ↑\n",
      " 마지막 보상 : -10\n",
      " 총 받은 보상 :2714.8\n",
      " end : True\n",
      " clear : True\n",
      "episode :1, score = 3342.043000000012, n_buffer :100000 , eps : 50.0\n"
     ]
    },
    {
     "name": "stderr",
     "output_type": "stream",
     "text": [
      " 10%|██████▋                                                            | 6001/60000 [35:53<4:30:17,  3.33it/s]"
     ]
    },
    {
     "name": "stdout",
     "output_type": "stream",
     "text": [
      "epi = 1\n",
      " 마지막 상태 :\n",
      "[[100. 200. 100. 100. 100. 100. 100. 100. 200.]\n",
      " [  1.   1.   1.   1.   1.   1.   1.   1.   1.]\n",
      " [100.   1.   1.   1.   1.   1.   1.   1. 100.]\n",
      " [100.   1. 150.   1. 150.   1. 150.   1.   1.]\n",
      " [100.   1. 150.   1. 150.   1. 150.   1.   1.]\n",
      " [100.   1. 150.   1. 150.   1. 150.   1.   1.]\n",
      " [ 50.   1. 150.   1. 150.   1. 150.   1.   1.]\n",
      " [  1.   1.   1.   1.   1.   1.   1.   1.   1.]\n",
      " [  1.   1.   1.   1.   1.   1.   1.   1.   1.]\n",
      " [150. 150. 150. 150.   1. 150. 150. 150. 150.]]\n",
      " 이 때 한 행동 : ↑\n",
      " 마지막 보상 : -0.1\n",
      " 총 받은 보상 :2825.5000000000005\n",
      " end : True\n",
      " clear : True\n",
      "episode :1, score = 3098.394000000012, n_buffer :100000 , eps : 50.0\n"
     ]
    },
    {
     "name": "stderr",
     "output_type": "stream",
     "text": [
      " 10%|██████▊                                                            | 6101/60000 [36:27<4:58:54,  3.01it/s]"
     ]
    },
    {
     "name": "stdout",
     "output_type": "stream",
     "text": [
      "epi = 1\n",
      " 마지막 상태 :\n",
      "[[100. 200. 100. 100. 100. 100. 100. 100. 200.]\n",
      " [  1.   1.   1.   1.   1.   1.   1.   1.   1.]\n",
      " [100.   1.   1.   1.   1.   1.   1.   1. 100.]\n",
      " [100.   1. 150.   1. 150.   1. 150.   1.   1.]\n",
      " [100.   1. 150.   1. 150.   1. 150.   1.   1.]\n",
      " [100.   1. 150.   1. 150.   1. 150.   1.   1.]\n",
      " [  1.   1. 150.   1. 150.   1. 150.   1.   1.]\n",
      " [  1.   1.  50.   1.   1.   1.   1.   1.   1.]\n",
      " [  1.   1.   1.   1.   1.   1.   1.   1.   1.]\n",
      " [150. 150. 150. 150.   1. 150. 150. 150. 150.]]\n",
      " 이 때 한 행동 : ←\n",
      " 마지막 보상 : -1\n",
      " 총 받은 보상 :2785\n",
      " end : True\n",
      " clear : True\n",
      "episode :1, score = 3077.163999999998, n_buffer :100000 , eps : 50.0\n"
     ]
    },
    {
     "name": "stderr",
     "output_type": "stream",
     "text": [
      " 10%|██████▉                                                            | 6201/60000 [37:01<5:30:08,  2.72it/s]"
     ]
    },
    {
     "name": "stdout",
     "output_type": "stream",
     "text": [
      "epi = 1\n",
      " 마지막 상태 :\n",
      "[[100. 200. 100. 100. 100. 100. 100. 100. 200.]\n",
      " [  1.   1.   1.   1.   1.   1.   1.   1.   1.]\n",
      " [100.   1.   1.   1.   1.   1.   1.   1. 100.]\n",
      " [100.   1. 150.   1. 150.   1. 150.   1.   1.]\n",
      " [100.   1. 150.   1. 150.   1. 150.   1.   1.]\n",
      " [100.   1. 150.   1. 150.   1. 150.   1.   1.]\n",
      " [  1.   1. 150.   1. 150.   1. 150.   1.   1.]\n",
      " [  1.   1.   1.   1.   1.  50.   1.   1.   1.]\n",
      " [  1.   1.   1.   1.   1.   1.   1.   1.   1.]\n",
      " [150. 150. 150. 150.   1. 150. 150. 150. 150.]]\n",
      " 이 때 한 행동 : ↑\n",
      " 마지막 보상 : -1\n",
      " 총 받은 보상 :2740\n",
      " end : True\n",
      " clear : True\n",
      "episode :1, score = 3219.6170000000134, n_buffer :100000 , eps : 50.0\n"
     ]
    },
    {
     "name": "stderr",
     "output_type": "stream",
     "text": [
      " 11%|███████                                                            | 6301/60000 [37:31<4:49:16,  3.09it/s]"
     ]
    },
    {
     "name": "stdout",
     "output_type": "stream",
     "text": [
      "epi = 1\n",
      " 마지막 상태 :\n",
      "[[100. 200. 100. 100. 100. 100. 100. 100. 200.]\n",
      " [  1.   1.   1.   1.   1.   1.   1.   1.   1.]\n",
      " [100.   1.   1.   1.   1.   1.   1.   1. 100.]\n",
      " [100.   1. 150.   1. 150.   1. 150.   1.   1.]\n",
      " [100.   1. 150.   1. 150.   1. 150.   1.   1.]\n",
      " [100.   1. 150.   1. 150.   1. 150.   1.   1.]\n",
      " [  1.   1. 150.   1. 150.   1. 150.   1.   1.]\n",
      " [  1.   1.   1.   1.   1.   1.   1.   1.  50.]\n",
      " [  1.   1.   1.   1.   1.   1.   1.   1.   1.]\n",
      " [150. 150. 150. 150.   1. 150. 150. 150. 150.]]\n",
      " 이 때 한 행동 : ↑\n",
      " 마지막 보상 : -1\n",
      " 총 받은 보상 :2641\n",
      " end : True\n",
      " clear : True\n",
      "episode :1, score = 2984.543000000003, n_buffer :100000 , eps : 50.0\n"
     ]
    },
    {
     "name": "stderr",
     "output_type": "stream",
     "text": [
      " 11%|███████▏                                                           | 6401/60000 [38:01<5:18:28,  2.81it/s]"
     ]
    },
    {
     "name": "stdout",
     "output_type": "stream",
     "text": [
      "epi = 1\n",
      " 마지막 상태 :\n",
      "[[100. 200. 100. 100. 100. 100. 100. 100. 200.]\n",
      " [  1.   1.   1.   1.   1.   1.   1.   1.   1.]\n",
      " [100.   1.   1.   1.   1.   1.   1.   1. 100.]\n",
      " [100.   1. 150.   1. 150.   1. 150.   1.   1.]\n",
      " [100.   1. 150.   1. 150.   1. 150.   1.   1.]\n",
      " [100.   1. 150.   1. 150.   1. 150.   1.   1.]\n",
      " [  1.   1. 150.   1. 150.   1. 150.   1.   1.]\n",
      " [  1.   1.   1.   1.   1.  50.   1.   1.   1.]\n",
      " [  1.   1.   1.   1.   1.   1.   1.   1.   1.]\n",
      " [150. 150. 150. 150.   1. 150. 150. 150. 150.]]\n",
      " 이 때 한 행동 : ↑\n",
      " 마지막 보상 : -1\n",
      " 총 받은 보상 :2740\n",
      " end : True\n",
      " clear : True\n",
      "episode :1, score = 2944.9920000000006, n_buffer :100000 , eps : 50.0\n"
     ]
    },
    {
     "name": "stderr",
     "output_type": "stream",
     "text": [
      " 11%|███████▎                                                           | 6501/60000 [38:35<4:55:14,  3.02it/s]"
     ]
    },
    {
     "name": "stdout",
     "output_type": "stream",
     "text": [
      "epi = 1\n",
      " 마지막 상태 :\n",
      "[[100. 200. 100. 100. 100. 100. 100. 100. 200.]\n",
      " [  1.   1.   1.   1.   1.   1.   1.   1.   1.]\n",
      " [100.   1.   1.   1.   1.   1.   1.   1. 100.]\n",
      " [100.   1. 150.   1. 150.   1. 150.   1.   1.]\n",
      " [100.   1. 150.   1. 150.   1. 150.   1.   1.]\n",
      " [100.   1. 150.   1. 150.   1. 150.   1.   1.]\n",
      " [  1.   1. 150.   1. 150.   1. 150.   1.   1.]\n",
      " [ 50.   1.   1.   1.   1.   1.   1.   1.   1.]\n",
      " [  1.   1.   1.   1.   1.   1.   1.   1.   1.]\n",
      " [150. 150. 150. 150.   1. 150. 150. 150. 150.]]\n",
      " 이 때 한 행동 : ←\n",
      " 마지막 보상 : -10\n",
      " 총 받은 보상 :2734.6000000000004\n",
      " end : True\n",
      " clear : True\n",
      "episode :1, score = 3020.9299999999935, n_buffer :100000 , eps : 50.0\n"
     ]
    },
    {
     "name": "stderr",
     "output_type": "stream",
     "text": [
      " 11%|███████▎                                                           | 6601/60000 [39:10<8:37:02,  1.72it/s]"
     ]
    },
    {
     "name": "stdout",
     "output_type": "stream",
     "text": [
      "epi = 1\n",
      " 마지막 상태 :\n",
      "[[100. 200. 100. 100. 100. 100. 100. 100. 200.]\n",
      " [  1.   1.   1.   1.   1.   1.   1.   1.   1.]\n",
      " [100.   1.   1.   1.   1.   1.   1.   1. 100.]\n",
      " [100.   1. 150.   1. 150.   1. 150.   1.   1.]\n",
      " [100.   1. 150.   1. 150.   1. 150.   1.   1.]\n",
      " [100.   1. 150.   1. 150.   1. 150.   1.   1.]\n",
      " [  1.   1. 150.   1. 150.  50. 150.   1.   1.]\n",
      " [  1.   1.   1.   1.   1.   1.   1.   1.   1.]\n",
      " [  1.   1.   1.   1.   1.   1.   1.   1.   1.]\n",
      " [150. 150. 150. 150.   1. 150. 150. 150. 150.]]\n",
      " 이 때 한 행동 : →\n",
      " 마지막 보상 : -10\n",
      " 총 받은 보상 :2587\n",
      " end : True\n",
      " clear : True\n",
      "episode :1, score = 3426.3000000000316, n_buffer :100000 , eps : 50.0\n"
     ]
    },
    {
     "name": "stderr",
     "output_type": "stream",
     "text": [
      " 11%|███████▍                                                           | 6701/60000 [39:42<5:01:33,  2.95it/s]"
     ]
    },
    {
     "name": "stdout",
     "output_type": "stream",
     "text": [
      "epi = 1\n",
      " 마지막 상태 :\n",
      "[[100. 200. 100. 100. 100. 100. 100. 100.   1.]\n",
      " [  1.   1.   1.   1.   1.   1.   1.   1.   1.]\n",
      " [100.   1.   1.   1.   1.   1.  50.   1. 100.]\n",
      " [100.   1. 150.   1. 150.   1. 150.   1.   1.]\n",
      " [100.   1. 150.   1. 150.   1. 150.   1.   1.]\n",
      " [100.   1. 150.   1. 150.   1. 150.   1.   1.]\n",
      " [  1.   1. 150.   1. 150.   1. 150.   1.   1.]\n",
      " [  1.   1.   1.   1.   1.   1.   1.   1.   1.]\n",
      " [  1.   1.   1.   1.   1.   1.   1.   1.   1.]\n",
      " [150. 150. 150. 150.   1. 150. 150. 150. 150.]]\n",
      " 이 때 한 행동 : ↓\n",
      " 마지막 보상 : -10\n",
      " 총 받은 보상 :3854.4000000000024\n",
      " end : True\n",
      " clear : True\n",
      "episode :1, score = 3607.6560000000663, n_buffer :100000 , eps : 50.0\n"
     ]
    },
    {
     "name": "stderr",
     "output_type": "stream",
     "text": [
      " 11%|███████▌                                                           | 6801/60000 [40:12<4:09:29,  3.55it/s]"
     ]
    },
    {
     "name": "stdout",
     "output_type": "stream",
     "text": [
      "epi = 1\n",
      " 마지막 상태 :\n",
      "[[100. 200. 100. 100. 100. 100. 100. 100. 200.]\n",
      " [  1.   1.   1.   1.   1.   1.   1.   1.   1.]\n",
      " [100.   1.   1.   1.   1.   1.   1.   1. 100.]\n",
      " [100.   1. 150.   1. 150.   1. 150.   1.   1.]\n",
      " [100.   1. 150.   1. 150.   1. 150.   1.   1.]\n",
      " [100.   1. 150.   1. 150.   1. 150.   1.   1.]\n",
      " [  1.   1. 150.   1. 150.   1. 150.   1.   1.]\n",
      " [  1.   1.   1.   1.   1.   1.   1.  50.   1.]\n",
      " [  1.   1.   1.   1.   1.   1.   1.   1.   1.]\n",
      " [150. 150. 150. 150.   1. 150. 150. 150. 150.]]\n",
      " 이 때 한 행동 : →\n",
      " 마지막 보상 : -1\n",
      " 총 받은 보상 :2795.8\n",
      " end : True\n",
      " clear : True\n",
      "episode :1, score = 3644.639000000071, n_buffer :100000 , eps : 50.0\n"
     ]
    },
    {
     "name": "stderr",
     "output_type": "stream",
     "text": [
      " 12%|███████▋                                                           | 6901/60000 [40:41<4:34:28,  3.22it/s]"
     ]
    },
    {
     "name": "stdout",
     "output_type": "stream",
     "text": [
      "epi = 1\n",
      " 마지막 상태 :\n",
      "[[100.  50. 100. 100. 100. 100. 100. 100.   1.]\n",
      " [  1.   1.   1.   1.   1.   1.   1.   1.   1.]\n",
      " [100.   1.   1.   1.   1.   1.   1.   1. 100.]\n",
      " [100.   1. 150.   1. 150.   1. 150.   1.   1.]\n",
      " [100.   1. 150.   1. 150.   1. 150.   1.   1.]\n",
      " [100.   1. 150.   1. 150.   1. 150.   1.   1.]\n",
      " [  1.   1. 150.   1. 150.   1. 150.   1.   1.]\n",
      " [  1.   1.   1.   1.   1.   1.   1.   1.   1.]\n",
      " [  1.   1.   1.   1.   1.   1.   1.   1.   1.]\n",
      " [150. 150. 150. 150.   1. 150. 150. 150. 150.]]\n",
      " 이 때 한 행동 : ←\n",
      " 마지막 보상 : -0.1\n",
      " 총 받은 보상 :4823.000000000002\n",
      " end : True\n",
      " clear : True\n",
      "episode :1, score = 3765.1200000000663, n_buffer :100000 , eps : 50.0\n"
     ]
    },
    {
     "name": "stderr",
     "output_type": "stream",
     "text": [
      " 12%|███████▊                                                           | 7001/60000 [41:19<4:40:29,  3.15it/s]"
     ]
    },
    {
     "name": "stdout",
     "output_type": "stream",
     "text": [
      "epi = 1\n",
      " 마지막 상태 :\n",
      "[[100. 200. 100. 100. 100. 100. 100. 100.   1.]\n",
      " [  1.   1.   1.   1.   1.   1.   1.   1.   1.]\n",
      " [100.   1.   1.   1.   1.   1.   1.   1. 100.]\n",
      " [100.   1. 150.   1. 150.   1. 150.  50.   1.]\n",
      " [100.   1. 150.   1. 150.   1. 150.   1.   1.]\n",
      " [100.   1. 150.   1. 150.   1. 150.   1.   1.]\n",
      " [  1.   1. 150.   1. 150.   1. 150.   1.   1.]\n",
      " [  1.   1.   1.   1.   1.   1.   1.   1.   1.]\n",
      " [  1.   1.   1.   1.   1.   1.   1.   1.   1.]\n",
      " [150. 150. 150. 150.   1. 150. 150. 150. 150.]]\n",
      " 이 때 한 행동 : ←\n",
      " 마지막 보상 : -10\n",
      " 총 받은 보상 :3712.2000000000007\n",
      " end : True\n",
      " clear : True\n",
      "episode :1, score = 3831.9650000000465, n_buffer :100000 , eps : 50.0\n"
     ]
    },
    {
     "name": "stderr",
     "output_type": "stream",
     "text": [
      " 12%|███████▉                                                           | 7101/60000 [41:50<5:17:34,  2.78it/s]"
     ]
    },
    {
     "name": "stdout",
     "output_type": "stream",
     "text": [
      "epi = 1\n",
      " 마지막 상태 :\n",
      "[[100. 200. 100. 100. 100. 100. 100. 100.   1.]\n",
      " [  1.   1.   1.   1.   1.   1.   1.   1.   1.]\n",
      " [100.   1.   1.   1.   1.   1.   1.   1. 100.]\n",
      " [100.   1. 150.   1. 150.   1. 150.   1.   1.]\n",
      " [100.   1. 150.   1. 150.   1. 150.  50.   1.]\n",
      " [100.   1. 150.   1. 150.   1. 150.   1.   1.]\n",
      " [  1.   1. 150.   1. 150.   1. 150.   1.   1.]\n",
      " [  1.   1.   1.   1.   1.   1.   1.   1.   1.]\n",
      " [  1.   1.   1.   1.   1.   1.   1.   1.   1.]\n",
      " [150. 150. 150. 150.   1. 150. 150. 150. 150.]]\n",
      " 이 때 한 행동 : ↑\n",
      " 마지막 보상 : -1\n",
      " 총 받은 보상 :3647.4000000000005\n",
      " end : True\n",
      " clear : True\n",
      "episode :1, score = 3768.1130000000744, n_buffer :100000 , eps : 50.0\n"
     ]
    },
    {
     "name": "stderr",
     "output_type": "stream",
     "text": [
      " 12%|████████                                                           | 7201/60000 [42:20<5:19:58,  2.75it/s]"
     ]
    },
    {
     "name": "stdout",
     "output_type": "stream",
     "text": [
      "epi = 1\n",
      " 마지막 상태 :\n",
      "[[100. 200. 100. 100. 100. 100. 100. 100.   1.]\n",
      " [  1.   1.   1.   1.   1.   1.   1.   1.   1.]\n",
      " [100.   1.   1.   1.   1.   1.   1.   1. 100.]\n",
      " [100.   1. 150.   1. 150.   1. 150.  50.   1.]\n",
      " [100.   1. 150.   1. 150.   1. 150.   1.   1.]\n",
      " [100.   1. 150.   1. 150.   1. 150.   1.   1.]\n",
      " [  1.   1. 150.   1. 150.   1. 150.   1.   1.]\n",
      " [  1.   1.   1.   1.   1.   1.   1.   1.   1.]\n",
      " [  1.   1.   1.   1.   1.   1.   1.   1.   1.]\n",
      " [150. 150. 150. 150.   1. 150. 150. 150. 150.]]\n",
      " 이 때 한 행동 : ↑\n",
      " 마지막 보상 : -1\n",
      " 총 받은 보상 :3784.2000000000007\n",
      " end : True\n",
      " clear : True\n",
      "episode :1, score = 3635.335000000059, n_buffer :100000 , eps : 50.0\n"
     ]
    },
    {
     "name": "stderr",
     "output_type": "stream",
     "text": [
      " 12%|████████▏                                                          | 7301/60000 [42:51<4:30:33,  3.25it/s]"
     ]
    },
    {
     "name": "stdout",
     "output_type": "stream",
     "text": [
      "epi = 1\n",
      " 마지막 상태 :\n",
      "[[100. 200. 100. 100. 100. 100. 100. 100.   1.]\n",
      " [  1.   1.   1.   1.   1.   1.   1.  50.   1.]\n",
      " [100.   1.   1.   1.   1.   1.   1.   1. 100.]\n",
      " [100.   1. 150.   1. 150.   1. 150.   1.   1.]\n",
      " [100.   1. 150.   1. 150.   1. 150.   1.   1.]\n",
      " [100.   1. 150.   1. 150.   1. 150.   1.   1.]\n",
      " [  1.   1. 150.   1. 150.   1. 150.   1.   1.]\n",
      " [  1.   1.   1.   1.   1.   1.   1.   1.   1.]\n",
      " [  1.   1.   1.   1.   1.   1.   1.   1.   1.]\n",
      " [150. 150. 150. 150.   1. 150. 150. 150. 150.]]\n",
      " 이 때 한 행동 : ←\n",
      " 마지막 보상 : -1\n",
      " 총 받은 보상 :3867.000000000002\n",
      " end : True\n",
      " clear : True\n",
      "episode :1, score = 3759.7970000000787, n_buffer :100000 , eps : 50.0\n"
     ]
    },
    {
     "name": "stderr",
     "output_type": "stream",
     "text": [
      " 12%|████████▎                                                          | 7401/60000 [43:22<4:20:33,  3.36it/s]"
     ]
    },
    {
     "name": "stdout",
     "output_type": "stream",
     "text": [
      "epi = 1\n",
      " 마지막 상태 :\n",
      "[[100. 200. 100. 100. 100. 100. 100. 100. 200.]\n",
      " [  1.   1.   1.   1.   1.   1.   1.  50.   1.]\n",
      " [100.   1.   1.   1.   1.   1.   1.   1. 100.]\n",
      " [100.   1. 150.   1. 150.   1. 150.   1.   1.]\n",
      " [100.   1. 150.   1. 150.   1. 150.   1.   1.]\n",
      " [100.   1. 150.   1. 150.   1. 150.   1.   1.]\n",
      " [  1.   1. 150.   1. 150.   1. 150.   1.   1.]\n",
      " [  1.   1.   1.   1.   1.   1.   1.   1.   1.]\n",
      " [  1.   1.   1.   1.   1.   1.   1.   1.   1.]\n",
      " [150. 150. 150. 150.   1. 150. 150. 150. 150.]]\n",
      " 이 때 한 행동 : ↑\n",
      " 마지막 보상 : -0.1\n",
      " 총 받은 보상 :2813.800000000002\n",
      " end : True\n",
      " clear : True\n",
      "episode :1, score = 3757.9470000000465, n_buffer :100000 , eps : 50.0\n"
     ]
    },
    {
     "name": "stderr",
     "output_type": "stream",
     "text": [
      " 13%|████████▍                                                          | 7501/60000 [43:55<4:57:23,  2.94it/s]"
     ]
    },
    {
     "name": "stdout",
     "output_type": "stream",
     "text": [
      "epi = 1\n",
      " 마지막 상태 :\n",
      "[[100. 200. 100. 100. 100. 100. 100. 100.   1.]\n",
      " [  1.   1.   1.   1.   1.   1.   1.   1.   1.]\n",
      " [100.   1.   1.   1.   1.   1.   1.   1. 100.]\n",
      " [100.   1. 150.   1. 150.   1. 150.   1.   1.]\n",
      " [100.   1. 150.   1. 150.   1. 150.  50.   1.]\n",
      " [100.   1. 150.   1. 150.   1. 150.   1.   1.]\n",
      " [  1.   1. 150.   1. 150.   1. 150.   1.   1.]\n",
      " [  1.   1.   1.   1.   1.   1.   1.   1.   1.]\n",
      " [  1.   1.   1.   1.   1.   1.   1.   1.   1.]\n",
      " [150. 150. 150. 150.   1. 150. 150. 150. 150.]]\n",
      " 이 때 한 행동 : ↓\n",
      " 마지막 보상 : -1\n",
      " 총 받은 보상 :3812.1000000000017\n",
      " end : True\n",
      " clear : True\n",
      "episode :1, score = 3745.6860000000825, n_buffer :100000 , eps : 50.0\n"
     ]
    },
    {
     "name": "stderr",
     "output_type": "stream",
     "text": [
      " 13%|████████▍                                                          | 7601/60000 [44:27<4:24:30,  3.30it/s]"
     ]
    },
    {
     "name": "stdout",
     "output_type": "stream",
     "text": [
      "epi = 1\n",
      " 마지막 상태 :\n",
      "[[100. 200. 100. 100. 100. 100. 100. 100.   1.]\n",
      " [  1.   1.   1.   1.   1.   1.   1.   1.  50.]\n",
      " [100.   1.   1.   1.   1.   1.   1.   1. 100.]\n",
      " [100.   1. 150.   1. 150.   1. 150.   1.   1.]\n",
      " [100.   1. 150.   1. 150.   1. 150.   1.   1.]\n",
      " [100.   1. 150.   1. 150.   1. 150.   1.   1.]\n",
      " [  1.   1. 150.   1. 150.   1. 150.   1.   1.]\n",
      " [  1.   1.   1.   1.   1.   1.   1.   1.   1.]\n",
      " [  1.   1.   1.   1.   1.   1.   1.   1.   1.]\n",
      " [150. 150. 150. 150.   1. 150. 150. 150. 150.]]\n",
      " 이 때 한 행동 : →\n",
      " 마지막 보상 : -1\n",
      " 총 받은 보상 :3853.5000000000023\n",
      " end : True\n",
      " clear : True\n",
      "episode :1, score = 3930.5050000000874, n_buffer :100000 , eps : 50.0\n"
     ]
    },
    {
     "name": "stderr",
     "output_type": "stream",
     "text": [
      " 13%|████████▌                                                          | 7701/60000 [44:57<4:59:19,  2.91it/s]"
     ]
    },
    {
     "name": "stdout",
     "output_type": "stream",
     "text": [
      "epi = 1\n",
      " 마지막 상태 :\n",
      "[[100. 200. 100. 100. 100. 100. 100. 100.   1.]\n",
      " [  1.   1.   1.   1.   1.   1.   1.   1.   1.]\n",
      " [100.   1.   1.   1.   1.   1.   1.  50. 100.]\n",
      " [100.   1. 150.   1. 150.   1. 150.   1.   1.]\n",
      " [100.   1. 150.   1. 150.   1. 150.   1.   1.]\n",
      " [100.   1. 150.   1. 150.   1. 150.   1.   1.]\n",
      " [  1.   1. 150.   1. 150.   1. 150.   1.   1.]\n",
      " [  1.   1.   1.   1.   1.   1.   1.   1.   1.]\n",
      " [  1.   1.   1.   1.   1.   1.   1.   1.   1.]\n",
      " [150. 150. 150. 150.   1. 150. 150. 150. 150.]]\n",
      " 이 때 한 행동 : →\n",
      " 마지막 보상 : -0.1\n",
      " 총 받은 보상 :3868.800000000002\n",
      " end : True\n",
      " clear : True\n",
      "episode :1, score = 4032.9480000001436, n_buffer :100000 , eps : 50.0\n"
     ]
    },
    {
     "name": "stderr",
     "output_type": "stream",
     "text": [
      " 13%|████████▋                                                          | 7801/60000 [45:30<4:55:19,  2.95it/s]"
     ]
    },
    {
     "name": "stdout",
     "output_type": "stream",
     "text": [
      "epi = 1\n",
      " 마지막 상태 :\n",
      "[[100.   1. 100. 100. 100. 100. 100. 100.   1.]\n",
      " [  1.  50.   1.   1.   1.   1.   1.   1.   1.]\n",
      " [100.   1.   1.   1.   1.   1.   1.   1. 100.]\n",
      " [100.   1. 150.   1. 150.   1. 150.   1.   1.]\n",
      " [100.   1. 150.   1. 150.   1. 150.   1.   1.]\n",
      " [100.   1. 150.   1. 150.   1. 150.   1.   1.]\n",
      " [  1.   1. 150.   1. 150.   1. 150.   1.   1.]\n",
      " [  1.   1.   1.   1.   1.   1.   1.   1.   1.]\n",
      " [  1.   1.   1.   1.   1.   1.   1.   1.   1.]\n",
      " [150. 150. 150. 150.   1. 150. 150. 150. 150.]]\n",
      " 이 때 한 행동 : ↓\n",
      " 마지막 보상 : -1\n",
      " 총 받은 보상 :4871.6\n",
      " end : True\n",
      " clear : True\n",
      "episode :1, score = 4304.431000000167, n_buffer :100000 , eps : 50.0\n"
     ]
    },
    {
     "name": "stderr",
     "output_type": "stream",
     "text": [
      " 13%|████████▊                                                          | 7901/60000 [46:03<4:31:29,  3.20it/s]"
     ]
    },
    {
     "name": "stdout",
     "output_type": "stream",
     "text": [
      "epi = 1\n",
      " 마지막 상태 :\n",
      "[[100.   1. 100. 100. 100. 100. 100. 100.   1.]\n",
      " [  1.   1.   1.   1.   1.  50.   1.   1.   1.]\n",
      " [100.   1.   1.   1.   1.   1.   1.   1. 100.]\n",
      " [100.   1. 150.   1. 150.   1. 150.   1.   1.]\n",
      " [100.   1. 150.   1. 150.   1. 150.   1.   1.]\n",
      " [100.   1. 150.   1. 150.   1. 150.   1.   1.]\n",
      " [  1.   1. 150.   1. 150.   1. 150.   1.   1.]\n",
      " [  1.   1.   1.   1.   1.   1.   1.   1.   1.]\n",
      " [  1.   1.   1.   1.   1.   1.   1.   1.   1.]\n",
      " [150. 150. 150. 150.   1. 150. 150. 150. 150.]]\n",
      " 이 때 한 행동 : ↑\n",
      " 마지막 보상 : -0.1\n",
      " 총 받은 보상 :4816.699999999999\n",
      " end : True\n",
      " clear : True\n",
      "episode :1, score = 4246.071000000133, n_buffer :100000 , eps : 50.0\n"
     ]
    },
    {
     "name": "stderr",
     "output_type": "stream",
     "text": [
      " 13%|████████▉                                                          | 8001/60000 [46:35<4:49:02,  3.00it/s]"
     ]
    },
    {
     "name": "stdout",
     "output_type": "stream",
     "text": [
      "epi = 1\n",
      " 마지막 상태 :\n",
      "[[100. 200. 100. 100. 100. 100. 100. 100.   1.]\n",
      " [  1.   1.   1.   1.   1.   1.   1.   1.  50.]\n",
      " [100.   1.   1.   1.   1.   1.   1.   1. 100.]\n",
      " [100.   1. 150.   1. 150.   1. 150.   1.   1.]\n",
      " [100.   1. 150.   1. 150.   1. 150.   1.   1.]\n",
      " [100.   1. 150.   1. 150.   1. 150.   1.   1.]\n",
      " [  1.   1. 150.   1. 150.   1. 150.   1.   1.]\n",
      " [  1.   1.   1.   1.   1.   1.   1.   1.   1.]\n",
      " [  1.   1.   1.   1.   1.   1.   1.   1.   1.]\n",
      " [150. 150. 150. 150.   1. 150. 150. 150. 150.]]\n",
      " 이 때 한 행동 : →\n",
      " 마지막 보상 : -1\n",
      " 총 받은 보상 :3918.3000000000034\n",
      " end : True\n",
      " clear : True\n",
      "episode :1, score = 4258.831000000159, n_buffer :100000 , eps : 50.0\n"
     ]
    },
    {
     "name": "stderr",
     "output_type": "stream",
     "text": [
      " 14%|█████████                                                          | 8101/60000 [47:23<5:15:38,  2.74it/s]"
     ]
    },
    {
     "name": "stdout",
     "output_type": "stream",
     "text": [
      "epi = 1\n",
      " 마지막 상태 :\n",
      "[[100.   1. 100. 100. 100. 100. 100. 100.   1.]\n",
      " [  1.   1.   1.   1.   1.   1.   1.   1.   1.]\n",
      " [100.   1.   1.   1.   1.   1.   1.   1. 100.]\n",
      " [100.   1. 150.   1. 150.   1. 150.   1.   1.]\n",
      " [100.   1. 150.   1. 150.   1. 150.   1.   1.]\n",
      " [100.   1. 150.   1. 150.   1. 150.   1.   1.]\n",
      " [  1.  50. 150.   1. 150.   1. 150.   1.   1.]\n",
      " [  1.   1.   1.   1.   1.   1.   1.   1.   1.]\n",
      " [  1.   1.   1.   1.   1.   1.   1.   1.   1.]\n",
      " [150. 150. 150. 150.   1. 150. 150. 150. 150.]]\n",
      " 이 때 한 행동 : →\n",
      " 마지막 보상 : -10\n",
      " 총 받은 보상 :4635.799999999999\n",
      " end : True\n",
      " clear : True\n",
      "episode :1, score = 4555.946000000112, n_buffer :100000 , eps : 50.0\n"
     ]
    },
    {
     "name": "stderr",
     "output_type": "stream",
     "text": [
      " 14%|█████████▏                                                         | 8202/60000 [47:53<3:18:26,  4.35it/s]"
     ]
    },
    {
     "name": "stdout",
     "output_type": "stream",
     "text": [
      "epi = 1\n",
      " 마지막 상태 :\n",
      "[[100.   1. 100. 100. 100. 100. 100. 100.   1.]\n",
      " [  1.   1.   1.   1.  50.   1.   1.   1.   1.]\n",
      " [100.   1.   1.   1.   1.   1.   1.   1. 100.]\n",
      " [100.   1. 150.   1. 150.   1. 150.   1.   1.]\n",
      " [100.   1. 150.   1. 150.   1. 150.   1.   1.]\n",
      " [100.   1. 150.   1. 150.   1. 150.   1.   1.]\n",
      " [  1.   1. 150.   1. 150.   1. 150.   1.   1.]\n",
      " [  1.   1.   1.   1.   1.   1.   1.   1.   1.]\n",
      " [  1.   1.   1.   1.   1.   1.   1.   1.   1.]\n",
      " [150. 150. 150. 150.   1. 150. 150. 150. 150.]]\n",
      " 이 때 한 행동 : ↑\n",
      " 마지막 보상 : -1\n",
      " 총 받은 보상 :4838.300000000001\n",
      " end : True\n",
      " clear : True\n",
      "episode :1, score = 4755.146000000111, n_buffer :100000 , eps : 50.0\n"
     ]
    },
    {
     "name": "stderr",
     "output_type": "stream",
     "text": [
      " 14%|█████████▎                                                         | 8301/60000 [48:28<3:28:34,  4.13it/s]"
     ]
    },
    {
     "name": "stdout",
     "output_type": "stream",
     "text": [
      "epi = 1\n",
      " 마지막 상태 :\n",
      "[[100.   1. 100. 100. 100. 100. 100. 100.   1.]\n",
      " [  1.   1.   1.   1.  50.   1.   1.   1.   1.]\n",
      " [100.   1.   1.   1.   1.   1.   1.   1. 100.]\n",
      " [100.   1. 150.   1. 150.   1. 150.   1.   1.]\n",
      " [100.   1. 150.   1. 150.   1. 150.   1.   1.]\n",
      " [100.   1. 150.   1. 150.   1. 150.   1.   1.]\n",
      " [  1.   1. 150.   1. 150.   1. 150.   1.   1.]\n",
      " [  1.   1.   1.   1.   1.   1.   1.   1.   1.]\n",
      " [  1.   1.   1.   1.   1.   1.   1.   1.   1.]\n",
      " [150. 150. 150. 150.   1. 150. 150. 150. 150.]]\n",
      " 이 때 한 행동 : →\n",
      " 마지막 보상 : -1\n",
      " 총 받은 보상 :4898.5999999999985\n",
      " end : True\n",
      " clear : True\n",
      "episode :1, score = 4692.493000000142, n_buffer :100000 , eps : 50.0\n"
     ]
    },
    {
     "name": "stderr",
     "output_type": "stream",
     "text": [
      " 14%|█████████▍                                                         | 8401/60000 [48:57<4:08:05,  3.47it/s]"
     ]
    },
    {
     "name": "stdout",
     "output_type": "stream",
     "text": [
      "epi = 1\n",
      " 마지막 상태 :\n",
      "[[100.   1. 100. 100. 100. 100. 100. 100.   1.]\n",
      " [  1.   1.   1.   1.   1.   1.   1.   1.   1.]\n",
      " [100.   1.   1.  50.   1.   1.   1.   1. 100.]\n",
      " [100.   1. 150.   1. 150.   1. 150.   1.   1.]\n",
      " [100.   1. 150.   1. 150.   1. 150.   1.   1.]\n",
      " [100.   1. 150.   1. 150.   1. 150.   1.   1.]\n",
      " [  1.   1. 150.   1. 150.   1. 150.   1.   1.]\n",
      " [  1.   1.   1.   1.   1.   1.   1.   1.   1.]\n",
      " [  1.   1.   1.   1.   1.   1.   1.   1.   1.]\n",
      " [150. 150. 150. 150.   1. 150. 150. 150. 150.]]\n",
      " 이 때 한 행동 : ←\n",
      " 마지막 보상 : -1\n",
      " 총 받은 보상 :4859.899999999998\n",
      " end : True\n",
      " clear : True\n",
      "episode :1, score = 4576.665000000105, n_buffer :100000 , eps : 50.0\n"
     ]
    },
    {
     "name": "stderr",
     "output_type": "stream",
     "text": [
      " 14%|█████████▍                                                         | 8501/60000 [49:30<4:33:31,  3.14it/s]"
     ]
    },
    {
     "name": "stdout",
     "output_type": "stream",
     "text": [
      "epi = 1\n",
      " 마지막 상태 :\n",
      "[[100. 200. 100. 100. 100. 100. 100. 100.   1.]\n",
      " [  1.   1.  50.   1.   1.   1.   1.   1.   1.]\n",
      " [100.   1.   1.   1.   1.   1.   1.   1. 100.]\n",
      " [100.   1. 150.   1. 150.   1. 150.   1.   1.]\n",
      " [100.   1. 150.   1. 150.   1. 150.   1.   1.]\n",
      " [100.   1. 150.   1. 150.   1. 150.   1.   1.]\n",
      " [  1.   1. 150.   1. 150.   1. 150.   1.   1.]\n",
      " [  1.   1.   1.   1.   1.   1.   1.   1.   1.]\n",
      " [  1.   1.   1.   1.   1.   1.   1.   1.   1.]\n",
      " [150. 150. 150. 150.   1. 150. 150. 150. 150.]]\n",
      " 이 때 한 행동 : ↑\n",
      " 마지막 보상 : -1\n",
      " 총 받은 보상 :3797.7000000000003\n",
      " end : True\n",
      " clear : True\n",
      "episode :1, score = 4692.3050000001, n_buffer :100000 , eps : 50.0\n"
     ]
    },
    {
     "name": "stderr",
     "output_type": "stream",
     "text": [
      " 14%|█████████▌                                                         | 8601/60000 [50:26<5:57:09,  2.40it/s]"
     ]
    },
    {
     "name": "stdout",
     "output_type": "stream",
     "text": [
      "epi = 1\n",
      " 마지막 상태 :\n",
      "[[100.   1. 100. 100. 100. 100. 100. 100.   1.]\n",
      " [  1.   1.   1.   1.   1.   1.   1.   1.   1.]\n",
      " [100.   1.  50.   1.   1.   1.   1.   1. 100.]\n",
      " [100.   1. 150.   1. 150.   1. 150.   1.   1.]\n",
      " [100.   1. 150.   1. 150.   1. 150.   1.   1.]\n",
      " [100.   1. 150.   1. 150.   1. 150.   1.   1.]\n",
      " [  1.   1. 150.   1. 150.   1. 150.   1.   1.]\n",
      " [  1.   1.   1.   1.   1.   1.   1.   1.   1.]\n",
      " [  1.   1.   1.   1.   1.   1.   1.   1.   1.]\n",
      " [150. 150. 150. 150.   1. 150. 150. 150. 150.]]\n",
      " 이 때 한 행동 : ↓\n",
      " 마지막 보상 : -10\n",
      " 총 받은 보상 :4796.9\n",
      " end : True\n",
      " clear : True\n",
      "episode :1, score = 4546.974000000074, n_buffer :100000 , eps : 50.0\n"
     ]
    },
    {
     "name": "stderr",
     "output_type": "stream",
     "text": [
      " 15%|█████████▋                                                         | 8701/60000 [51:17<4:17:08,  3.32it/s]"
     ]
    },
    {
     "name": "stdout",
     "output_type": "stream",
     "text": [
      "epi = 1\n",
      " 마지막 상태 :\n",
      "[[100.   1. 100. 100. 100. 100. 100. 100. 200.]\n",
      " [  1.   1.  50.   1.   1.   1.   1.   1.   1.]\n",
      " [100.   1.   1.   1.   1.   1.   1.   1. 100.]\n",
      " [100.   1. 150.   1. 150.   1. 150.   1.   1.]\n",
      " [100.   1. 150.   1. 150.   1. 150.   1.   1.]\n",
      " [100.   1. 150.   1. 150.   1. 150.   1.   1.]\n",
      " [  1.   1. 150.   1. 150.   1. 150.   1.   1.]\n",
      " [  1.   1.   1.   1.   1.   1.   1.   1.   1.]\n",
      " [  1.   1.   1.   1.   1.   1.   1.   1.   1.]\n",
      " [150. 150. 150. 150.   1. 150. 150. 150. 150.]]\n",
      " 이 때 한 행동 : ↑\n",
      " 마지막 보상 : -0.1\n",
      " 총 받은 보상 :3883.2000000000025\n",
      " end : True\n",
      " clear : True\n",
      "episode :1, score = 4408.766000000098, n_buffer :100000 , eps : 50.0\n"
     ]
    },
    {
     "name": "stderr",
     "output_type": "stream",
     "text": [
      " 15%|█████████▋                                                        | 8801/60000 [52:11<10:40:31,  1.33it/s]"
     ]
    },
    {
     "name": "stdout",
     "output_type": "stream",
     "text": [
      "epi = 1\n",
      " 마지막 상태 :\n",
      "[[100.   1. 100. 100. 100. 100. 100. 100. 200.]\n",
      " [  1.   1.   1.   1.   1.   1.   1.   1.   1.]\n",
      " [100.   1.   1.   1.   1.   1.   1.   1. 100.]\n",
      " [100.   1. 150.   1. 150.   1. 150.   1.   1.]\n",
      " [100.   1. 150.   1. 150.   1. 150.   1.   1.]\n",
      " [100.   1. 150.   1. 150.   1. 150.   1.   1.]\n",
      " [  1.   1. 150.   1. 150.   1. 150.   1.   1.]\n",
      " [  1.   1.   1.   1.   1.   1.   1.   1.   1.]\n",
      " [  1.   1.   1.   1.   1.   1.   1.   1.  50.]\n",
      " [150. 150. 150. 150.   1. 150. 150. 150. 150.]]\n",
      " 이 때 한 행동 : ↓\n",
      " 마지막 보상 : -1\n",
      " 총 받은 보상 :3813.8999999999996\n",
      " end : True\n",
      " clear : True\n",
      "episode :1, score = 4485.956000000115, n_buffer :100000 , eps : 50.0\n"
     ]
    },
    {
     "name": "stderr",
     "output_type": "stream",
     "text": [
      " 15%|█████████▉                                                         | 8901/60000 [53:01<5:02:13,  2.82it/s]"
     ]
    },
    {
     "name": "stdout",
     "output_type": "stream",
     "text": [
      "epi = 1\n",
      " 마지막 상태 :\n",
      "[[100.   1. 100. 100. 100. 100. 100. 100.   1.]\n",
      " [  1.   1.   1.   1.   1.   1.   1.   1.   1.]\n",
      " [100.   1.   1.   1.   1.   1.   1.   1. 100.]\n",
      " [100.  50. 150.   1. 150.   1. 150.   1.   1.]\n",
      " [100.   1. 150.   1. 150.   1. 150.   1.   1.]\n",
      " [100.   1. 150.   1. 150.   1. 150.   1.   1.]\n",
      " [  1.   1. 150.   1. 150.   1. 150.   1.   1.]\n",
      " [  1.   1.   1.   1.   1.   1.   1.   1.   1.]\n",
      " [  1.   1.   1.   1.   1.   1.   1.   1.   1.]\n",
      " [150. 150. 150. 150.   1. 150. 150. 150. 150.]]\n",
      " 이 때 한 행동 : ←\n",
      " 마지막 보상 : -0.1\n",
      " 총 받은 보상 :4852.699999999999\n",
      " end : True\n",
      " clear : True\n",
      "episode :1, score = 4567.971000000101, n_buffer :100000 , eps : 50.0\n"
     ]
    },
    {
     "name": "stderr",
     "output_type": "stream",
     "text": [
      " 15%|██████████                                                         | 9001/60000 [54:11<5:00:47,  2.83it/s]"
     ]
    },
    {
     "name": "stdout",
     "output_type": "stream",
     "text": [
      "epi = 1\n",
      " 마지막 상태 :\n",
      "[[100.   1. 100. 100. 100. 100. 100. 100.   1.]\n",
      " [  1.   1.   1.   1.   1.   1.   1.   1.   1.]\n",
      " [100.   1.   1.   1.   1.   1.   1.   1. 100.]\n",
      " [100.   1. 150.   1. 150.   1. 150.   1.   1.]\n",
      " [100.   1. 150.   1. 150.   1. 150.   1.   1.]\n",
      " [100.   1. 150.   1. 150.   1. 150.   1.   1.]\n",
      " [  1.   1. 150.   1. 150.  50. 150.   1.   1.]\n",
      " [  1.   1.   1.   1.   1.   1.   1.   1.   1.]\n",
      " [  1.   1.   1.   1.   1.   1.   1.   1.   1.]\n",
      " [150. 150. 150. 150.   1. 150. 150. 150. 150.]]\n",
      " 이 때 한 행동 : ←\n",
      " 마지막 보상 : -10\n",
      " 총 받은 보상 :4831.999999999998\n",
      " end : True\n",
      " clear : True\n",
      "episode :1, score = 4539.130000000098, n_buffer :100000 , eps : 50.0\n"
     ]
    },
    {
     "name": "stderr",
     "output_type": "stream",
     "text": [
      " 15%|██████████▏                                                        | 9101/60000 [55:03<4:21:32,  3.24it/s]"
     ]
    },
    {
     "name": "stdout",
     "output_type": "stream",
     "text": [
      "epi = 1\n",
      " 마지막 상태 :\n",
      "[[100.   1. 100. 100. 100. 100. 100. 100. 200.]\n",
      " [  1.   1.   1.   1.   1.   1.   1.   1.   1.]\n",
      " [100.   1.   1.   1.   1.   1.   1.   1. 100.]\n",
      " [100.   1. 150.   1. 150.   1. 150.   1.   1.]\n",
      " [100.   1. 150.  50. 150.   1. 150.   1.   1.]\n",
      " [100.   1. 150.   1. 150.   1. 150.   1.   1.]\n",
      " [  1.   1. 150.   1. 150.   1. 150.   1.   1.]\n",
      " [  1.   1.   1.   1.   1.   1.   1.   1.   1.]\n",
      " [  1.   1.   1.   1.   1.   1.   1.   1.   1.]\n",
      " [150. 150. 150. 150.   1. 150. 150. 150. 150.]]\n",
      " 이 때 한 행동 : ↑\n",
      " 마지막 보상 : -1\n",
      " 총 받은 보상 :3681.6000000000004\n",
      " end : True\n",
      " clear : True\n",
      "episode :1, score = 4424.074000000094, n_buffer :100000 , eps : 50.0\n"
     ]
    },
    {
     "name": "stderr",
     "output_type": "stream",
     "text": [
      " 15%|██████████▎                                                        | 9201/60000 [56:16<4:56:13,  2.86it/s]"
     ]
    },
    {
     "name": "stdout",
     "output_type": "stream",
     "text": [
      "epi = 1\n",
      " 마지막 상태 :\n",
      "[[100.   1. 100. 100. 100. 100. 100. 100. 200.]\n",
      " [  1.   1.   1.   1.   1.   1.   1.   1.   1.]\n",
      " [100.   1.   1.   1.   1.   1.   1.   1. 100.]\n",
      " [100.   1. 150.   1. 150.   1. 150.   1.   1.]\n",
      " [100.   1. 150.   1. 150.   1. 150.   1.   1.]\n",
      " [100.   1. 150.   1. 150.   1. 150.   1.   1.]\n",
      " [  1.   1. 150.   1. 150.   1. 150.   1.   1.]\n",
      " [  1.   1.   1.   1.   1.   1.   1.   1.   1.]\n",
      " [  1.   1.   1.   1.   1.  50.   1.   1.   1.]\n",
      " [150. 150. 150. 150.   1. 150. 150. 150. 150.]]\n",
      " 이 때 한 행동 : →\n",
      " 마지막 보상 : -1\n",
      " 총 받은 보상 :3852.6000000000013\n",
      " end : True\n",
      " clear : True\n",
      "episode :1, score = 4394.178000000062, n_buffer :100000 , eps : 50.0\n"
     ]
    },
    {
     "name": "stderr",
     "output_type": "stream",
     "text": [
      " 16%|██████████▏                                                       | 9301/60000 [57:34<14:41:41,  1.04s/it]"
     ]
    },
    {
     "name": "stdout",
     "output_type": "stream",
     "text": [
      "epi = 1\n",
      " 마지막 상태 :\n",
      "[[100.   1. 100. 100. 100. 100. 100. 100.   1.]\n",
      " [  1.   1.   1.   1.   1.   1.   1.   1.   1.]\n",
      " [100.   1.   1.   1.   1.   1.   1.   1. 100.]\n",
      " [100.   1. 150.   1. 150.  50. 150.   1.   1.]\n",
      " [100.   1. 150.   1. 150.   1. 150.   1.   1.]\n",
      " [100.   1. 150.   1. 150.   1. 150.   1.   1.]\n",
      " [  1.   1. 150.   1. 150.   1. 150.   1.   1.]\n",
      " [  1.   1.   1.   1.   1.   1.   1.   1.   1.]\n",
      " [  1.   1.   1.   1.   1.   1.   1.   1.   1.]\n",
      " [150. 150. 150. 150.   1. 150. 150. 150. 150.]]\n",
      " 이 때 한 행동 : ↑\n",
      " 마지막 보상 : -1\n",
      " 총 받은 보상 :4775.299999999997\n",
      " end : True\n",
      " clear : True\n",
      "episode :1, score = 4392.0410000000675, n_buffer :100000 , eps : 50.0\n"
     ]
    },
    {
     "name": "stderr",
     "output_type": "stream",
     "text": [
      " 16%|██████████▍                                                        | 9402/60000 [59:38<4:24:51,  3.18it/s]"
     ]
    },
    {
     "name": "stdout",
     "output_type": "stream",
     "text": [
      "epi = 1\n",
      " 마지막 상태 :\n",
      "[[100.   1. 100. 100. 100. 100. 100. 100.   1.]\n",
      " [  1.   1.   1.   1.   1.   1.   1.   1.   1.]\n",
      " [100.   1.   1.   1.   1.   1.   1.   1. 100.]\n",
      " [100.   1. 150.   1. 150.   1. 150.   1.   1.]\n",
      " [100.   1. 150.   1. 150.   1. 150.   1.   1.]\n",
      " [100.   1. 150.   1. 150.   1. 150.   1.   1.]\n",
      " [  1.   1. 150.   1. 150.   1. 150.   1.   1.]\n",
      " [  1.   1.   1.  50.   1.   1.   1.   1.   1.]\n",
      " [  1.   1.   1.   1.   1.   1.   1.   1.   1.]\n",
      " [150. 150. 150. 150.   1. 150. 150. 150. 150.]]\n",
      " 이 때 한 행동 : ↓\n",
      " 마지막 보상 : -1\n",
      " 총 받은 보상 :4793.300000000001\n",
      " end : True\n",
      " clear : True\n",
      "episode :1, score = 4798.750000000051, n_buffer :100000 , eps : 50.0\n"
     ]
    },
    {
     "name": "stderr",
     "output_type": "stream",
     "text": [
      " 16%|██████████▎                                                      | 9501/60000 [1:00:37<4:03:52,  3.45it/s]"
     ]
    },
    {
     "name": "stdout",
     "output_type": "stream",
     "text": [
      "epi = 1\n",
      " 마지막 상태 :\n",
      "[[100. 200. 100. 100. 100. 100. 100. 100. 200.]\n",
      " [  1.   1.   1.   1.   1.   1.   1.   1.   1.]\n",
      " [100.   1.   1.   1.   1.   1.   1.   1. 100.]\n",
      " [100.   1. 150.   1. 150.   1. 150.   1.   1.]\n",
      " [100.   1. 150.   1. 150.   1. 150.   1.   1.]\n",
      " [100.   1. 150.   1. 150.   1. 150.   1.   1.]\n",
      " [  1.   1. 150.   1. 150.   1. 150.   1.   1.]\n",
      " [  1.   1.   1.   1.   1.   1.   1.   1.   1.]\n",
      " [  1.   1.   1.   1.   1.   1.   1.  50.   1.]\n",
      " [150. 150. 150. 150.   1. 150. 150. 150. 150.]]\n",
      " 이 때 한 행동 : ↓\n",
      " 마지막 보상 : -1\n",
      " 총 받은 보상 :2767\n",
      " end : True\n",
      " clear : True\n",
      "episode :1, score = 4639.872000000095, n_buffer :100000 , eps : 50.0\n"
     ]
    },
    {
     "name": "stderr",
     "output_type": "stream",
     "text": [
      " 16%|██████████▍                                                      | 9601/60000 [1:01:12<3:55:18,  3.57it/s]"
     ]
    },
    {
     "name": "stdout",
     "output_type": "stream",
     "text": [
      "epi = 1\n",
      " 마지막 상태 :\n",
      "[[100.   1. 100. 100. 100. 100. 100. 100.   1.]\n",
      " [  1.   1.   1.   1.   1.   1.   1.   1.   1.]\n",
      " [100.   1.   1.   1.   1.   1.   1.   1. 100.]\n",
      " [100.   1. 150.   1. 150.   1. 150.   1.   1.]\n",
      " [100.   1. 150.  50. 150.   1. 150.   1.   1.]\n",
      " [100.   1. 150.   1. 150.   1. 150.   1.   1.]\n",
      " [  1.   1. 150.   1. 150.   1. 150.   1.   1.]\n",
      " [  1.   1.   1.   1.   1.   1.   1.   1.   1.]\n",
      " [  1.   1.   1.   1.   1.   1.   1.   1.   1.]\n",
      " [150. 150. 150. 150.   1. 150. 150. 150. 150.]]\n",
      " 이 때 한 행동 : ↑\n",
      " 마지막 보상 : -1\n",
      " 총 받은 보상 :4748.300000000001\n",
      " end : True\n",
      " clear : True\n",
      "episode :1, score = 4535.2380000001, n_buffer :100000 , eps : 50.0\n"
     ]
    },
    {
     "name": "stderr",
     "output_type": "stream",
     "text": [
      " 16%|██████████▌                                                      | 9701/60000 [1:01:45<4:46:23,  2.93it/s]"
     ]
    },
    {
     "name": "stdout",
     "output_type": "stream",
     "text": [
      "epi = 1\n",
      " 마지막 상태 :\n",
      "[[100.   1. 100. 100. 100. 100. 100. 100.   1.]\n",
      " [  1.   1.   1.   1.  50.   1.   1.   1.   1.]\n",
      " [100.   1.   1.   1.   1.   1.   1.   1. 100.]\n",
      " [100.   1. 150.   1. 150.   1. 150.   1.   1.]\n",
      " [100.   1. 150.   1. 150.   1. 150.   1.   1.]\n",
      " [100.   1. 150.   1. 150.   1. 150.   1.   1.]\n",
      " [  1.   1. 150.   1. 150.   1. 150.   1.   1.]\n",
      " [  1.   1.   1.   1.   1.   1.   1.   1.   1.]\n",
      " [  1.   1.   1.   1.   1.   1.   1.   1.   1.]\n",
      " [150. 150. 150. 150.   1. 150. 150. 150. 150.]]\n",
      " 이 때 한 행동 : ←\n",
      " 마지막 보상 : -1\n",
      " 총 받은 보상 :4839.199999999999\n",
      " end : True\n",
      " clear : True\n",
      "episode :1, score = 4149.797000000138, n_buffer :100000 , eps : 50.0\n"
     ]
    },
    {
     "name": "stderr",
     "output_type": "stream",
     "text": [
      " 16%|██████████▌                                                      | 9801/60000 [1:02:15<3:50:56,  3.62it/s]"
     ]
    },
    {
     "name": "stdout",
     "output_type": "stream",
     "text": [
      "epi = 1\n",
      " 마지막 상태 :\n",
      "[[100.   1. 100. 100. 100. 100. 100. 100.   1.]\n",
      " [  1.   1.   1.   1.   1.   1.   1.   1.   1.]\n",
      " [100.   1.   1.   1.   1.   1.   1.   1. 100.]\n",
      " [100.   1. 150.   1. 150.   1. 150.   1.   1.]\n",
      " [100.   1. 150.   1. 150.   1. 150.   1.   1.]\n",
      " [100.   1. 150.   1. 150.   1. 150.   1.   1.]\n",
      " [ 50.   1. 150.   1. 150.   1. 150.   1.   1.]\n",
      " [  1.   1.   1.   1.   1.   1.   1.   1.   1.]\n",
      " [  1.   1.   1.   1.   1.   1.   1.   1.   1.]\n",
      " [150. 150. 150. 150.   1. 150. 150. 150. 150.]]\n",
      " 이 때 한 행동 : ↑\n",
      " 마지막 보상 : -1\n",
      " 총 받은 보상 :4591.7\n",
      " end : True\n",
      " clear : True\n",
      "episode :1, score = 4496.367000000097, n_buffer :100000 , eps : 50.0\n"
     ]
    },
    {
     "name": "stderr",
     "output_type": "stream",
     "text": [
      " 17%|██████████▋                                                      | 9902/60000 [1:02:47<3:08:01,  4.44it/s]"
     ]
    },
    {
     "name": "stdout",
     "output_type": "stream",
     "text": [
      "epi = 1\n",
      " 마지막 상태 :\n",
      "[[100.   1. 100. 100. 100. 100. 100. 100.   1.]\n",
      " [  1.   1.   1.   1.   1.   1.   1.   1.   1.]\n",
      " [100.   1.   1.   1.   1.   1.   1.   1. 100.]\n",
      " [100.   1. 150.   1. 150.   1. 150.   1.  50.]\n",
      " [100.   1. 150.   1. 150.   1. 150.   1.   1.]\n",
      " [100.   1. 150.   1. 150.   1. 150.   1.   1.]\n",
      " [  1.   1. 150.   1. 150.   1. 150.   1.   1.]\n",
      " [  1.   1.   1.   1.   1.   1.   1.   1.   1.]\n",
      " [  1.   1.   1.   1.   1.   1.   1.   1.   1.]\n",
      " [150. 150. 150. 150.   1. 150. 150. 150. 150.]]\n",
      " 이 때 한 행동 : ↑\n",
      " 마지막 보상 : -0.1\n",
      " 총 받은 보상 :4831.999999999998\n",
      " end : True\n",
      " clear : True\n",
      "episode :1, score = 4294.230000000143, n_buffer :100000 , eps : 50.0\n"
     ]
    },
    {
     "name": "stderr",
     "output_type": "stream",
     "text": [
      " 17%|██████████▋                                                     | 10001/60000 [1:03:16<4:08:14,  3.36it/s]"
     ]
    },
    {
     "name": "stdout",
     "output_type": "stream",
     "text": [
      "epi = 1\n",
      " 마지막 상태 :\n",
      "[[100. 200. 100. 100. 100. 100. 100. 100.   1.]\n",
      " [  1.   1.   1.   1.   1.   1.   1.   1.   1.]\n",
      " [100.   1.   1.   1.   1.   1.   1.   1. 100.]\n",
      " [100.   1. 150.   1. 150.   1. 150.  50.   1.]\n",
      " [100.   1. 150.   1. 150.   1. 150.   1.   1.]\n",
      " [100.   1. 150.   1. 150.   1. 150.   1.   1.]\n",
      " [  1.   1. 150.   1. 150.   1. 150.   1.   1.]\n",
      " [  1.   1.   1.   1.   1.   1.   1.   1.   1.]\n",
      " [  1.   1.   1.   1.   1.   1.   1.   1.   1.]\n",
      " [150. 150. 150. 150.   1. 150. 150. 150. 150.]]\n",
      " 이 때 한 행동 : ↑\n",
      " 마지막 보상 : -1\n",
      " 총 받은 보상 :3767.1000000000017\n",
      " end : True\n",
      " clear : True\n",
      "episode :1, score = 3830.8450000000425, n_buffer :100000 , eps : 50.0\n"
     ]
    },
    {
     "name": "stderr",
     "output_type": "stream",
     "text": [
      " 17%|██████████▊                                                     | 10101/60000 [1:03:47<3:36:47,  3.84it/s]"
     ]
    },
    {
     "name": "stdout",
     "output_type": "stream",
     "text": [
      "epi = 1\n",
      " 마지막 상태 :\n",
      "[[100.   1. 100. 100. 100. 100. 100. 100.   1.]\n",
      " [  1.   1.   1.   1.   1.   1.  50.   1.   1.]\n",
      " [100.   1.   1.   1.   1.   1.   1.   1. 100.]\n",
      " [100.   1. 150.   1. 150.   1. 150.   1.   1.]\n",
      " [100.   1. 150.   1. 150.   1. 150.   1.   1.]\n",
      " [100.   1. 150.   1. 150.   1. 150.   1.   1.]\n",
      " [  1.   1. 150.   1. 150.   1. 150.   1.   1.]\n",
      " [  1.   1.   1.   1.   1.   1.   1.   1.   1.]\n",
      " [  1.   1.   1.   1.   1.   1.   1.   1.   1.]\n",
      " [150. 150. 150. 150.   1. 150. 150. 150. 150.]]\n",
      " 이 때 한 행동 : ↑\n",
      " 마지막 보상 : -0.1\n",
      " 총 받은 보상 :4837.399999999998\n",
      " end : True\n",
      " clear : True\n",
      "episode :1, score = 4231.161000000149, n_buffer :100000 , eps : 49.9\n"
     ]
    },
    {
     "name": "stderr",
     "output_type": "stream",
     "text": [
      " 17%|██████████▉                                                     | 10201/60000 [1:04:19<5:21:44,  2.58it/s]"
     ]
    },
    {
     "name": "stdout",
     "output_type": "stream",
     "text": [
      "epi = 1\n",
      " 마지막 상태 :\n",
      "[[100.   1. 100. 100. 100. 100. 100. 100.   1.]\n",
      " [  1.   1.   1.   1.   1.   1.   1.  50.   1.]\n",
      " [100.   1.   1.   1.   1.   1.   1.   1. 100.]\n",
      " [100.   1. 150.   1. 150.   1. 150.   1.   1.]\n",
      " [100.   1. 150.   1. 150.   1. 150.   1.   1.]\n",
      " [100.   1. 150.   1. 150.   1. 150.   1.   1.]\n",
      " [  1.   1. 150.   1. 150.   1. 150.   1.   1.]\n",
      " [  1.   1.   1.   1.   1.   1.   1.   1.   1.]\n",
      " [  1.   1.   1.   1.   1.   1.   1.   1.   1.]\n",
      " [150. 150. 150. 150.   1. 150. 150. 150. 150.]]\n",
      " 이 때 한 행동 : ↑\n",
      " 마지막 보상 : -0.1\n",
      " 총 받은 보상 :4822.999999999999\n",
      " end : True\n",
      " clear : True\n",
      "episode :1, score = 4509.200000000111, n_buffer :100000 , eps : 49.8\n"
     ]
    },
    {
     "name": "stderr",
     "output_type": "stream",
     "text": [
      " 17%|██████████▉                                                     | 10301/60000 [1:04:53<3:57:24,  3.49it/s]"
     ]
    },
    {
     "name": "stdout",
     "output_type": "stream",
     "text": [
      "epi = 1\n",
      " 마지막 상태 :\n",
      "[[100.   1. 100. 100. 100. 100. 100. 100.   1.]\n",
      " [  1.   1.   1.   1.   1.   1.   1.   1.   1.]\n",
      " [100.   1.   1.   1.   1.   1.   1.   1. 100.]\n",
      " [100.   1. 150.   1. 150.   1. 150.   1.   1.]\n",
      " [100.   1. 150.   1. 150.   1. 150.   1.   1.]\n",
      " [100.   1. 150.   1. 150.   1. 150.   1.  50.]\n",
      " [  1.   1. 150.   1. 150.   1. 150.   1.   1.]\n",
      " [  1.   1.   1.   1.   1.   1.   1.   1.   1.]\n",
      " [  1.   1.   1.   1.   1.   1.   1.   1.   1.]\n",
      " [150. 150. 150. 150.   1. 150. 150. 150. 150.]]\n",
      " 이 때 한 행동 : →\n",
      " 마지막 보상 : -1\n",
      " 총 받은 보상 :4799.599999999997\n",
      " end : True\n",
      " clear : True\n",
      "episode :1, score = 4168.898000000054, n_buffer :100000 , eps : 49.7\n"
     ]
    },
    {
     "name": "stderr",
     "output_type": "stream",
     "text": [
      " 17%|███████████                                                     | 10401/60000 [1:05:24<4:14:17,  3.25it/s]"
     ]
    },
    {
     "name": "stdout",
     "output_type": "stream",
     "text": [
      "epi = 1\n",
      " 마지막 상태 :\n",
      "[[100.   1. 100. 100. 100. 100. 100. 100.   1.]\n",
      " [  1.   1.   1.   1.   1.   1.   1.   1.   1.]\n",
      " [100.   1.   1.   1.   1.   1.   1.   1. 100.]\n",
      " [100.   1. 150.   1. 150.   1. 150.   1.   1.]\n",
      " [100.   1. 150.   1. 150.   1. 150.   1.   1.]\n",
      " [100.   1. 150.   1. 150.   1. 150.  50.   1.]\n",
      " [  1.   1. 150.   1. 150.   1. 150.   1.   1.]\n",
      " [  1.   1.   1.   1.   1.   1.   1.   1.   1.]\n",
      " [  1.   1.   1.   1.   1.   1.   1.   1.   1.]\n",
      " [150. 150. 150. 150.   1. 150. 150. 150. 150.]]\n",
      " 이 때 한 행동 : ↓\n",
      " 마지막 보상 : -1\n",
      " 총 받은 보상 :4781.6\n",
      " end : True\n",
      " clear : True\n",
      "episode :1, score = 4030.1300000000338, n_buffer :100000 , eps : 49.6\n"
     ]
    },
    {
     "name": "stderr",
     "output_type": "stream",
     "text": [
      " 18%|███████████▏                                                    | 10501/60000 [1:05:55<3:45:57,  3.65it/s]"
     ]
    },
    {
     "name": "stdout",
     "output_type": "stream",
     "text": [
      "epi = 1\n",
      " 마지막 상태 :\n",
      "[[100.   1. 100. 100. 100. 100. 100. 100.   1.]\n",
      " [  1.  50.   1.   1.   1.   1.   1.   1.   1.]\n",
      " [100.   1.   1.   1.   1.   1.   1.   1. 100.]\n",
      " [100.   1. 150.   1. 150.   1. 150.   1.   1.]\n",
      " [100.   1. 150.   1. 150.   1. 150.   1.   1.]\n",
      " [100.   1. 150.   1. 150.   1. 150.   1.   1.]\n",
      " [  1.   1. 150.   1. 150.   1. 150.   1.   1.]\n",
      " [  1.   1.   1.   1.   1.   1.   1.   1.   1.]\n",
      " [  1.   1.   1.   1.   1.   1.   1.   1.   1.]\n",
      " [150. 150. 150. 150.   1. 150. 150. 150. 150.]]\n",
      " 이 때 한 행동 : ↓\n",
      " 마지막 보상 : -1\n",
      " 총 받은 보상 :4737.500000000002\n",
      " end : True\n",
      " clear : True\n",
      "episode :1, score = 4394.995000000075, n_buffer :100000 , eps : 49.5\n"
     ]
    },
    {
     "name": "stderr",
     "output_type": "stream",
     "text": [
      " 18%|███████████▎                                                    | 10601/60000 [1:06:31<8:33:44,  1.60it/s]"
     ]
    },
    {
     "name": "stdout",
     "output_type": "stream",
     "text": [
      "epi = 1\n",
      " 마지막 상태 :\n",
      "[[100. 200. 100. 100. 100. 100. 100. 100.   1.]\n",
      " [  1.   1.   1.   1.   1.   1.   1.   1.   1.]\n",
      " [100.   1.   1.   1.   1.   1.   1.   1. 100.]\n",
      " [100.   1. 150.   1. 150.   1. 150.   1.   1.]\n",
      " [100.   1. 150.   1. 150.   1. 150.   1.   1.]\n",
      " [100.   1. 150.   1. 150.   1. 150.  50.   1.]\n",
      " [  1.   1. 150.   1. 150.   1. 150.   1.   1.]\n",
      " [  1.   1.   1.   1.   1.   1.   1.   1.   1.]\n",
      " [  1.   1.   1.   1.   1.   1.   1.   1.   1.]\n",
      " [150. 150. 150. 150.   1. 150. 150. 150. 150.]]\n",
      " 이 때 한 행동 : ↓\n",
      " 마지막 보상 : -1\n",
      " 총 받은 보상 :3813.900000000001\n",
      " end : True\n",
      " clear : True\n",
      "episode :1, score = 4443.857000000098, n_buffer :100000 , eps : 49.4\n"
     ]
    },
    {
     "name": "stderr",
     "output_type": "stream",
     "text": [
      " 18%|███████████▍                                                    | 10701/60000 [1:07:15<4:31:14,  3.03it/s]"
     ]
    },
    {
     "name": "stdout",
     "output_type": "stream",
     "text": [
      "epi = 1\n",
      " 마지막 상태 :\n",
      "[[100.   1. 100. 100. 100. 100. 100. 100.   1.]\n",
      " [  1.   1.   1.   1.   1.   1.   1.   1.   1.]\n",
      " [100.   1.   1.   1.   1.   1.   1.   1. 100.]\n",
      " [100.   1. 150.   1. 150.   1. 150.  50.   1.]\n",
      " [100.   1. 150.   1. 150.   1. 150.   1.   1.]\n",
      " [100.   1. 150.   1. 150.   1. 150.   1.   1.]\n",
      " [  1.   1. 150.   1. 150.   1. 150.   1.   1.]\n",
      " [  1.   1.   1.   1.   1.   1.   1.   1.   1.]\n",
      " [  1.   1.   1.   1.   1.   1.   1.   1.   1.]\n",
      " [150. 150. 150. 150.   1. 150. 150. 150. 150.]]\n",
      " 이 때 한 행동 : ←\n",
      " 마지막 보상 : -1\n",
      " 총 받은 보상 :4851.799999999994\n",
      " end : True\n",
      " clear : True\n",
      "episode :1, score = 4684.874000000107, n_buffer :100000 , eps : 49.3\n"
     ]
    },
    {
     "name": "stderr",
     "output_type": "stream",
     "text": [
      " 18%|███████████▌                                                    | 10801/60000 [1:08:38<4:21:56,  3.13it/s]"
     ]
    },
    {
     "name": "stdout",
     "output_type": "stream",
     "text": [
      "epi = 1\n",
      " 마지막 상태 :\n",
      "[[100.   1. 100. 100. 100. 100. 100. 100.   1.]\n",
      " [  1.   1.   1.   1.   1.   1.   1.   1.   1.]\n",
      " [100.   1.   1.   1.   1.   1.   1.  50. 100.]\n",
      " [100.   1. 150.   1. 150.   1. 150.   1.   1.]\n",
      " [100.   1. 150.   1. 150.   1. 150.   1.   1.]\n",
      " [100.   1. 150.   1. 150.   1. 150.   1.   1.]\n",
      " [  1.   1. 150.   1. 150.   1. 150.   1.   1.]\n",
      " [  1.   1.   1.   1.   1.   1.   1.   1.   1.]\n",
      " [  1.   1.   1.   1.   1.   1.   1.   1.   1.]\n",
      " [150. 150. 150. 150.   1. 150. 150. 150. 150.]]\n",
      " 이 때 한 행동 : ↓\n",
      " 마지막 보상 : -1\n",
      " 총 받은 보상 :4866.2\n",
      " end : True\n",
      " clear : True\n",
      "episode :1, score = 4824.046000000061, n_buffer :100000 , eps : 49.2\n"
     ]
    },
    {
     "name": "stderr",
     "output_type": "stream",
     "text": [
      " 18%|███████████▋                                                    | 10901/60000 [1:09:13<4:11:50,  3.25it/s]"
     ]
    },
    {
     "name": "stdout",
     "output_type": "stream",
     "text": [
      "epi = 1\n",
      " 마지막 상태 :\n",
      "[[100.   1. 100. 100. 100. 100. 100. 100.   1.]\n",
      " [  1.   1.   1.   1.   1.   1.   1.   1.   1.]\n",
      " [100.   1.   1.   1.   1.  50.   1.   1. 100.]\n",
      " [100.   1. 150.   1. 150.   1. 150.   1.   1.]\n",
      " [100.   1. 150.   1. 150.   1. 150.   1.   1.]\n",
      " [100.   1. 150.   1. 150.   1. 150.   1.   1.]\n",
      " [  1.   1. 150.   1. 150.   1. 150.   1.   1.]\n",
      " [  1.   1.   1.   1.   1.   1.   1.   1.   1.]\n",
      " [  1.   1.   1.   1.   1.   1.   1.   1.   1.]\n",
      " [150. 150. 150. 150.   1. 150. 150. 150. 150.]]\n",
      " 이 때 한 행동 : ←\n",
      " 마지막 보상 : -1\n",
      " 총 받은 보상 :4881.500000000002\n",
      " end : True\n",
      " clear : True\n",
      "episode :1, score = 4638.054000000124, n_buffer :100000 , eps : 49.1\n"
     ]
    },
    {
     "name": "stderr",
     "output_type": "stream",
     "text": [
      " 18%|███████████▋                                                    | 11001/60000 [1:10:11<7:08:02,  1.91it/s]"
     ]
    },
    {
     "name": "stdout",
     "output_type": "stream",
     "text": [
      "epi = 1\n",
      " 마지막 상태 :\n",
      "[[100.   1. 100. 100. 100. 100. 100. 100.   1.]\n",
      " [  1.   1.   1.   1.   1.   1.   1.   1.   1.]\n",
      " [100.   1.   1.   1.   1.  50.   1.   1. 100.]\n",
      " [100.   1. 150.   1. 150.   1. 150.   1.   1.]\n",
      " [100.   1. 150.   1. 150.   1. 150.   1.   1.]\n",
      " [100.   1. 150.   1. 150.   1. 150.   1.   1.]\n",
      " [  1.   1. 150.   1. 150.   1. 150.   1.   1.]\n",
      " [  1.   1.   1.   1.   1.   1.   1.   1.   1.]\n",
      " [  1.   1.   1.   1.   1.   1.   1.   1.   1.]\n",
      " [150. 150. 150. 150.   1. 150. 150. 150. 150.]]\n",
      " 이 때 한 행동 : ←\n",
      " 마지막 보상 : -1\n",
      " 총 받은 보상 :4861.699999999995\n",
      " end : True\n",
      " clear : True\n",
      "episode :1, score = 4431.418000000085, n_buffer :100000 , eps : 49.0\n"
     ]
    },
    {
     "name": "stderr",
     "output_type": "stream",
     "text": [
      " 19%|███████████▊                                                    | 11101/60000 [1:10:55<4:24:02,  3.09it/s]"
     ]
    },
    {
     "name": "stdout",
     "output_type": "stream",
     "text": [
      "epi = 1\n",
      " 마지막 상태 :\n",
      "[[100.   1. 100. 100. 100. 100. 100. 100.   1.]\n",
      " [  1.   1.   1.   1.   1.   1.   1.  50.   1.]\n",
      " [100.   1.   1.   1.   1.   1.   1.   1. 100.]\n",
      " [100.   1. 150.   1. 150.   1. 150.   1.   1.]\n",
      " [100.   1. 150.   1. 150.   1. 150.   1.   1.]\n",
      " [100.   1. 150.   1. 150.   1. 150.   1.   1.]\n",
      " [  1.   1. 150.   1. 150.   1. 150.   1.   1.]\n",
      " [  1.   1.   1.   1.   1.   1.   1.   1.   1.]\n",
      " [  1.   1.   1.   1.   1.   1.   1.   1.   1.]\n",
      " [150. 150. 150. 150.   1. 150. 150. 150. 150.]]\n",
      " 이 때 한 행동 : ←\n",
      " 마지막 보상 : -1\n",
      " 총 받은 보상 :4865.299999999998\n",
      " end : True\n",
      " clear : True\n",
      "episode :1, score = 4421.192000000071, n_buffer :100000 , eps : 48.9\n"
     ]
    },
    {
     "name": "stderr",
     "output_type": "stream",
     "text": [
      " 19%|███████████▊                                                   | 11201/60000 [1:12:16<14:25:15,  1.06s/it]"
     ]
    },
    {
     "name": "stdout",
     "output_type": "stream",
     "text": [
      "epi = 1\n",
      " 마지막 상태 :\n",
      "[[100. 200. 100. 100. 100. 100. 100. 100. 200.]\n",
      " [  1.   1.   1.   1.   1.   1.   1.   1.   1.]\n",
      " [100.   1.   1.   1.   1.   1.   1.   1. 100.]\n",
      " [100.   1. 150.   1. 150.   1. 150.   1.   1.]\n",
      " [100.   1. 150.   1. 150.   1. 150.   1.   1.]\n",
      " [100.   1. 150.   1. 150.   1. 150.   1.   1.]\n",
      " [  1.   1. 150.   1. 150.   1. 150.   1.   1.]\n",
      " [  1.   1.   1.   1.  50.   1.   1.   1.   1.]\n",
      " [  1.   1.   1.   1.   1.   1.   1.   1.   1.]\n",
      " [150. 150. 150. 150.   1. 150. 150. 150. 150.]]\n",
      " 이 때 한 행동 : ↑\n",
      " 마지막 보상 : -10\n",
      " 총 받은 보상 :2605\n",
      " end : True\n",
      " clear : True\n",
      "episode :1, score = 4631.185000000061, n_buffer :100000 , eps : 48.8\n"
     ]
    },
    {
     "name": "stderr",
     "output_type": "stream",
     "text": [
      " 19%|████████████                                                    | 11301/60000 [1:13:03<6:10:30,  2.19it/s]"
     ]
    },
    {
     "name": "stdout",
     "output_type": "stream",
     "text": [
      "epi = 1\n",
      " 마지막 상태 :\n",
      "[[100. 200. 100. 100. 100. 100. 100. 100.   1.]\n",
      " [ 50.   1.   1.   1.   1.   1.   1.   1.   1.]\n",
      " [100.   1.   1.   1.   1.   1.   1.   1. 100.]\n",
      " [100.   1. 150.   1. 150.   1. 150.   1.   1.]\n",
      " [100.   1. 150.   1. 150.   1. 150.   1.   1.]\n",
      " [100.   1. 150.   1. 150.   1. 150.   1.   1.]\n",
      " [  1.   1. 150.   1. 150.   1. 150.   1.   1.]\n",
      " [  1.   1.   1.   1.   1.   1.   1.   1.   1.]\n",
      " [  1.   1.   1.   1.   1.   1.   1.   1.   1.]\n",
      " [150. 150. 150. 150.   1. 150. 150. 150. 150.]]\n",
      " 이 때 한 행동 : ↓\n",
      " 마지막 보상 : -0.1\n",
      " 총 받은 보상 :3855.3000000000025\n",
      " end : True\n",
      " clear : True\n",
      "episode :1, score = 4071.509000000094, n_buffer :100000 , eps : 48.699999999999996\n"
     ]
    },
    {
     "name": "stderr",
     "output_type": "stream",
     "text": [
      " 19%|████████████▏                                                   | 11401/60000 [1:13:38<4:45:43,  2.83it/s]"
     ]
    },
    {
     "name": "stdout",
     "output_type": "stream",
     "text": [
      "epi = 1\n",
      " 마지막 상태 :\n",
      "[[100.   1. 100. 100. 100. 100. 100. 100.   1.]\n",
      " [  1.   1.   1.   1.   1.   1.   1.   1.   1.]\n",
      " [100.   1.   1.   1.   1.   1.   1.   1. 100.]\n",
      " [100.   1. 150.   1. 150.   1. 150.   1.   1.]\n",
      " [100.   1. 150.   1. 150.   1. 150.   1.   1.]\n",
      " [100.   1. 150.   1. 150.   1. 150.   1.   1.]\n",
      " [  1.   1. 150.   1. 150.   1. 150.   1.   1.]\n",
      " [  1.  50.   1.   1.   1.   1.   1.   1.   1.]\n",
      " [  1.   1.   1.   1.   1.   1.   1.   1.   1.]\n",
      " [150. 150. 150. 150.   1. 150. 150. 150. 150.]]\n",
      " 이 때 한 행동 : →\n",
      " 마지막 보상 : -1\n",
      " 총 받은 보상 :4759.0999999999985\n",
      " end : True\n",
      " clear : True\n",
      "episode :1, score = 4188.840000000067, n_buffer :100000 , eps : 48.6\n"
     ]
    },
    {
     "name": "stderr",
     "output_type": "stream",
     "text": [
      " 19%|████████████▎                                                   | 11501/60000 [1:14:21<4:31:13,  2.98it/s]"
     ]
    },
    {
     "name": "stdout",
     "output_type": "stream",
     "text": [
      "epi = 1\n",
      " 마지막 상태 :\n",
      "[[100. 200. 100. 100. 100. 100. 100. 100.   1.]\n",
      " [  1.   1.   1.   1.   1.   1.   1.   1.   1.]\n",
      " [100.   1.   1.   1.   1.   1.   1.   1. 100.]\n",
      " [100.   1. 150.   1. 150.   1. 150.   1.   1.]\n",
      " [100.   1. 150.  50. 150.   1. 150.   1.   1.]\n",
      " [100.   1. 150.   1. 150.   1. 150.   1.   1.]\n",
      " [  1.   1. 150.   1. 150.   1. 150.   1.   1.]\n",
      " [  1.   1.   1.   1.   1.   1.   1.   1.   1.]\n",
      " [  1.   1.   1.   1.   1.   1.   1.   1.   1.]\n",
      " [150. 150. 150. 150.   1. 150. 150. 150. 150.]]\n",
      " 이 때 한 행동 : →\n",
      " 마지막 보상 : -10\n",
      " 총 받은 보상 :3804\n",
      " end : True\n",
      " clear : True\n",
      "episode :1, score = 3788.791000000057, n_buffer :100000 , eps : 48.5\n"
     ]
    },
    {
     "name": "stderr",
     "output_type": "stream",
     "text": [
      " 19%|████████████▎                                                   | 11601/60000 [1:14:50<4:50:41,  2.77it/s]"
     ]
    },
    {
     "name": "stdout",
     "output_type": "stream",
     "text": [
      "epi = 1\n",
      " 마지막 상태 :\n",
      "[[100. 200. 100. 100. 100. 100. 100. 100. 200.]\n",
      " [  1.   1.   1.   1.   1.   1.   1.   1.   1.]\n",
      " [100.   1.   1.   1.   1.   1.   1.   1. 100.]\n",
      " [100.   1. 150.  50. 150.   1. 150.   1. 200.]\n",
      " [100.   1. 150.   1. 150.   1. 150.   1. 200.]\n",
      " [100.   1. 150.   1. 150.   1. 150.   1. 200.]\n",
      " [  1.   1. 150.   1. 150.   1. 150.   1.   1.]\n",
      " [  1.   1.   1.   1.   1.   1.   1.   1.   1.]\n",
      " [  1.   1.   1.   1.   1.   1.   1.   1.   1.]\n",
      " [150. 150. 150. 150.   1. 150. 150. 150. 150.]]\n",
      " 이 때 한 행동 : →\n",
      " 마지막 보상 : -10\n",
      " 총 받은 보상 :-567.2\n",
      " end : True\n",
      " clear : True\n",
      "episode :1, score = 3536.297000000002, n_buffer :100000 , eps : 48.4\n"
     ]
    },
    {
     "name": "stderr",
     "output_type": "stream",
     "text": [
      " 20%|████████████▍                                                   | 11701/60000 [1:15:19<4:08:08,  3.24it/s]"
     ]
    },
    {
     "name": "stdout",
     "output_type": "stream",
     "text": [
      "epi = 1\n",
      " 마지막 상태 :\n",
      "[[100.   1. 100. 100. 100. 100. 100. 100.   1.]\n",
      " [  1.   1.   1.   1.   1.   1.   1.   1.   1.]\n",
      " [100.   1.   1.   1.   1.   1.   1.   1. 100.]\n",
      " [100.   1. 150.   1. 150.   1. 150.   1.   1.]\n",
      " [100.   1. 150.  50. 150.   1. 150.   1.   1.]\n",
      " [100.   1. 150.   1. 150.   1. 150.   1.   1.]\n",
      " [  1.   1. 150.   1. 150.   1. 150.   1.   1.]\n",
      " [  1.   1.   1.   1.   1.   1.   1.   1.   1.]\n",
      " [  1.   1.   1.   1.   1.   1.   1.   1.   1.]\n",
      " [150. 150. 150. 150.   1. 150. 150. 150. 150.]]\n",
      " 이 때 한 행동 : ↓\n",
      " 마지막 보상 : -1\n",
      " 총 받은 보상 :4815.800000000001\n",
      " end : True\n",
      " clear : True\n",
      "episode :1, score = 3886.1890000000526, n_buffer :100000 , eps : 48.3\n"
     ]
    },
    {
     "name": "stderr",
     "output_type": "stream",
     "text": [
      " 20%|████████████▌                                                   | 11801/60000 [1:15:47<3:48:58,  3.51it/s]"
     ]
    },
    {
     "name": "stdout",
     "output_type": "stream",
     "text": [
      "epi = 1\n",
      " 마지막 상태 :\n",
      "[[100.   1. 100. 100. 100. 100. 100. 100.   1.]\n",
      " [  1.   1.   1.   1.   1.   1.   1.   1.   1.]\n",
      " [100.   1.   1.   1.   1.   1.   1.   1. 100.]\n",
      " [100.   1. 150.   1. 150.   1. 150.   1.   1.]\n",
      " [100.   1. 150.  50. 150.   1. 150.   1.   1.]\n",
      " [100.   1. 150.   1. 150.   1. 150.   1.   1.]\n",
      " [  1.   1. 150.   1. 150.   1. 150.   1.   1.]\n",
      " [  1.   1.   1.   1.   1.   1.   1.   1.   1.]\n",
      " [  1.   1.   1.   1.   1.   1.   1.   1.   1.]\n",
      " [150. 150. 150. 150.   1. 150. 150. 150. 150.]]\n",
      " 이 때 한 행동 : →\n",
      " 마지막 보상 : -10\n",
      " 총 받은 보상 :4638.499999999998\n",
      " end : True\n",
      " clear : True\n",
      "episode :1, score = 4192.295000000085, n_buffer :100000 , eps : 48.199999999999996\n"
     ]
    },
    {
     "name": "stderr",
     "output_type": "stream",
     "text": [
      " 20%|████████████▋                                                   | 11901/60000 [1:16:18<3:52:26,  3.45it/s]"
     ]
    },
    {
     "name": "stdout",
     "output_type": "stream",
     "text": [
      "epi = 1\n",
      " 마지막 상태 :\n",
      "[[100.   1. 100. 100. 100. 100. 100. 100.   1.]\n",
      " [  1.   1.   1.   1.   1.   1.   1.   1.   1.]\n",
      " [100.   1.   1.   1.   1.   1.   1.   1. 100.]\n",
      " [100.   1. 150.  50. 150.   1. 150.   1.   1.]\n",
      " [100.   1. 150.   1. 150.   1. 150.   1.   1.]\n",
      " [100.   1. 150.   1. 150.   1. 150.   1.   1.]\n",
      " [  1.   1. 150.   1. 150.   1. 150.   1.   1.]\n",
      " [  1.   1.   1.   1.   1.   1.   1.   1.   1.]\n",
      " [  1.   1.   1.   1.   1.   1.   1.   1.   1.]\n",
      " [150. 150. 150. 150.   1. 150. 150. 150. 150.]]\n",
      " 이 때 한 행동 : ↑\n",
      " 마지막 보상 : -1\n",
      " 총 받은 보상 :4769.9\n",
      " end : True\n",
      " clear : True\n",
      "episode :1, score = 4292.409000000091, n_buffer :100000 , eps : 48.1\n"
     ]
    },
    {
     "name": "stderr",
     "output_type": "stream",
     "text": [
      " 20%|████████████▊                                                   | 12001/60000 [1:16:52<3:56:42,  3.38it/s]"
     ]
    },
    {
     "name": "stdout",
     "output_type": "stream",
     "text": [
      "epi = 1\n",
      " 마지막 상태 :\n",
      "[[100.   1. 100. 100. 100. 100. 100. 100.   1.]\n",
      " [  1.   1.   1.   1.   1.   1.   1.   1.   1.]\n",
      " [100.   1.  50.   1.   1.   1.   1.   1. 100.]\n",
      " [100.   1. 150.   1. 150.   1. 150.   1.   1.]\n",
      " [100.   1. 150.   1. 150.   1. 150.   1.   1.]\n",
      " [100.   1. 150.   1. 150.   1. 150.   1.   1.]\n",
      " [  1.   1. 150.   1. 150.   1. 150.   1.   1.]\n",
      " [  1.   1.   1.   1.   1.   1.   1.   1.   1.]\n",
      " [  1.   1.   1.   1.   1.   1.   1.   1.   1.]\n",
      " [150. 150. 150. 150.   1. 150. 150. 150. 150.]]\n",
      " 이 때 한 행동 : ←\n",
      " 마지막 보상 : -1\n",
      " 총 받은 보상 :4901.29999999999\n",
      " end : True\n",
      " clear : True\n",
      "episode :1, score = 4530.114000000087, n_buffer :100000 , eps : 48.0\n"
     ]
    },
    {
     "name": "stderr",
     "output_type": "stream",
     "text": [
      " 20%|████████████▉                                                   | 12101/60000 [1:17:25<4:12:08,  3.17it/s]"
     ]
    },
    {
     "name": "stdout",
     "output_type": "stream",
     "text": [
      "epi = 1\n",
      " 마지막 상태 :\n",
      "[[100.   1. 100. 100. 100. 100. 100. 100.   1.]\n",
      " [  1.   1.   1.   1.  50.   1.   1.   1.   1.]\n",
      " [100.   1.   1.   1.   1.   1.   1.   1. 100.]\n",
      " [100.   1. 150.   1. 150.   1. 150.   1.   1.]\n",
      " [100.   1. 150.   1. 150.   1. 150.   1.   1.]\n",
      " [100.   1. 150.   1. 150.   1. 150.   1.   1.]\n",
      " [  1.   1. 150.   1. 150.   1. 150.   1.   1.]\n",
      " [  1.   1.   1.   1.   1.   1.   1.   1.   1.]\n",
      " [  1.   1.   1.   1.   1.   1.   1.   1.   1.]\n",
      " [150. 150. 150. 150.   1. 150. 150. 150. 150.]]\n",
      " 이 때 한 행동 : ↑\n",
      " 마지막 보상 : -1\n",
      " 총 받은 보상 :4864.399999999999\n",
      " end : True\n",
      " clear : True\n",
      "episode :1, score = 4641.12300000006, n_buffer :100000 , eps : 47.9\n"
     ]
    },
    {
     "name": "stderr",
     "output_type": "stream",
     "text": [
      " 20%|█████████████                                                   | 12201/60000 [1:17:54<4:09:55,  3.19it/s]"
     ]
    },
    {
     "name": "stdout",
     "output_type": "stream",
     "text": [
      "epi = 1\n",
      " 마지막 상태 :\n",
      "[[100. 200. 100. 100. 100. 100. 100. 100.   1.]\n",
      " [  1.   1.   1.   1.   1.   1.   1.   1.  50.]\n",
      " [100.   1.   1.   1.   1.   1.   1.   1. 100.]\n",
      " [100.   1. 150.   1. 150.   1. 150.   1.   1.]\n",
      " [100.   1. 150.   1. 150.   1. 150.   1.   1.]\n",
      " [100.   1. 150.   1. 150.   1. 150.   1.   1.]\n",
      " [  1.   1. 150.   1. 150.   1. 150.   1.   1.]\n",
      " [  1.   1.   1.   1.   1.   1.   1.   1.   1.]\n",
      " [  1.   1.   1.   1.   1.   1.   1.   1.   1.]\n",
      " [150. 150. 150. 150.   1. 150. 150. 150. 150.]]\n",
      " 이 때 한 행동 : ↓\n",
      " 마지막 보상 : -0.1\n",
      " 총 받은 보상 :3892.2000000000035\n",
      " end : True\n",
      " clear : True\n",
      "episode :1, score = 4642.301000000195, n_buffer :100000 , eps : 47.8\n"
     ]
    },
    {
     "name": "stderr",
     "output_type": "stream",
     "text": [
      " 21%|█████████████                                                   | 12301/60000 [1:18:28<4:22:27,  3.03it/s]"
     ]
    },
    {
     "name": "stdout",
     "output_type": "stream",
     "text": [
      "epi = 1\n",
      " 마지막 상태 :\n",
      "[[100.   1. 100. 100. 100. 100. 100. 100.   1.]\n",
      " [  1.   1.   1.   1.   1.   1.   1.   1.   1.]\n",
      " [100.   1.  50.   1.   1.   1.   1.   1. 100.]\n",
      " [100.   1. 150.   1. 150.   1. 150.   1.   1.]\n",
      " [100.   1. 150.   1. 150.   1. 150.   1.   1.]\n",
      " [100.   1. 150.   1. 150.   1. 150.   1.   1.]\n",
      " [  1.   1. 150.   1. 150.   1. 150.   1.   1.]\n",
      " [  1.   1.   1.   1.   1.   1.   1.   1.   1.]\n",
      " [  1.   1.   1.   1.   1.   1.   1.   1.   1.]\n",
      " [150. 150. 150. 150.   1. 150. 150. 150. 150.]]\n",
      " 이 때 한 행동 : →\n",
      " 마지막 보상 : -1\n",
      " 총 받은 보상 :4883.29999999999\n",
      " end : True\n",
      " clear : True\n",
      "episode :1, score = 4741.555000000204, n_buffer :100000 , eps : 47.699999999999996\n"
     ]
    },
    {
     "name": "stderr",
     "output_type": "stream",
     "text": [
      " 21%|█████████████▏                                                  | 12401/60000 [1:19:00<4:40:17,  2.83it/s]"
     ]
    },
    {
     "name": "stdout",
     "output_type": "stream",
     "text": [
      "epi = 1\n",
      " 마지막 상태 :\n",
      "[[100.   1. 100. 100. 100. 100. 100. 100.   1.]\n",
      " [  1.   1.   1.   1.  50.   1.   1.   1.   1.]\n",
      " [100.   1.   1.   1.   1.   1.   1.   1. 100.]\n",
      " [100.   1. 150.   1. 150.   1. 150.   1.   1.]\n",
      " [100.   1. 150.   1. 150.   1. 150.   1.   1.]\n",
      " [100.   1. 150.   1. 150.   1. 150.   1.   1.]\n",
      " [  1.   1. 150.   1. 150.   1. 150.   1.   1.]\n",
      " [  1.   1.   1.   1.   1.   1.   1.   1.   1.]\n",
      " [  1.   1.   1.   1.   1.   1.   1.   1.   1.]\n",
      " [150. 150. 150. 150.   1. 150. 150. 150. 150.]]\n",
      " 이 때 한 행동 : ↑\n",
      " 마지막 보상 : -0.1\n",
      " 총 받은 보상 :4889.599999999988\n",
      " end : True\n",
      " clear : True\n",
      "episode :1, score = 4705.621000000207, n_buffer :100000 , eps : 47.599999999999994\n"
     ]
    },
    {
     "name": "stderr",
     "output_type": "stream",
     "text": [
      " 21%|█████████████▎                                                  | 12501/60000 [1:19:34<4:15:43,  3.10it/s]"
     ]
    },
    {
     "name": "stdout",
     "output_type": "stream",
     "text": [
      "epi = 1\n",
      " 마지막 상태 :\n",
      "[[100.   1. 100. 100. 100. 100. 100. 100.   1.]\n",
      " [  1.   1.   1.   1.   1.   1.   1.   1.   1.]\n",
      " [100.   1.   1.   1.   1.   1.   1.   1. 100.]\n",
      " [100.   1. 150.  50. 150.   1. 150.   1.   1.]\n",
      " [100.   1. 150.   1. 150.   1. 150.   1.   1.]\n",
      " [100.   1. 150.   1. 150.   1. 150.   1.   1.]\n",
      " [  1.   1. 150.   1. 150.   1. 150.   1.   1.]\n",
      " [  1.   1.   1.   1.   1.   1.   1.   1.   1.]\n",
      " [  1.   1.   1.   1.   1.   1.   1.   1.   1.]\n",
      " [150. 150. 150. 150.   1. 150. 150. 150. 150.]]\n",
      " 이 때 한 행동 : →\n",
      " 마지막 보상 : -10\n",
      " 총 받은 보상 :4872.4999999999945\n",
      " end : True\n",
      " clear : True\n",
      "episode :1, score = 4823.991000000132, n_buffer :100000 , eps : 47.5\n"
     ]
    },
    {
     "name": "stderr",
     "output_type": "stream",
     "text": [
      " 21%|█████████████▍                                                  | 12601/60000 [1:20:05<3:35:22,  3.67it/s]"
     ]
    },
    {
     "name": "stdout",
     "output_type": "stream",
     "text": [
      "epi = 1\n",
      " 마지막 상태 :\n",
      "[[100.   1. 100. 100. 100. 100. 100. 100.   1.]\n",
      " [  1.   1.   1.   1.   1.   1.   1.   1.   1.]\n",
      " [100.   1.   1.   1.   1.   1.   1.   1. 100.]\n",
      " [100.   1. 150.   1. 150.   1. 150.   1.   1.]\n",
      " [100.  50. 150.   1. 150.   1. 150.   1.   1.]\n",
      " [100.   1. 150.   1. 150.   1. 150.   1.   1.]\n",
      " [  1.   1. 150.   1. 150.   1. 150.   1.   1.]\n",
      " [  1.   1.   1.   1.   1.   1.   1.   1.   1.]\n",
      " [  1.   1.   1.   1.   1.   1.   1.   1.   1.]\n",
      " [150. 150. 150. 150.   1. 150. 150. 150. 150.]]\n",
      " 이 때 한 행동 : ↓\n",
      " 마지막 보상 : -1\n",
      " 총 받은 보상 :4815.799999999997\n",
      " end : True\n",
      " clear : True\n",
      "episode :1, score = 4746.235000000223, n_buffer :100000 , eps : 47.4\n"
     ]
    },
    {
     "name": "stderr",
     "output_type": "stream",
     "text": [
      " 21%|█████████████▌                                                  | 12701/60000 [1:20:48<4:50:08,  2.72it/s]"
     ]
    },
    {
     "name": "stdout",
     "output_type": "stream",
     "text": [
      "epi = 1\n",
      " 마지막 상태 :\n",
      "[[100.   1. 100. 100. 100. 100. 100. 100.   1.]\n",
      " [  1.   1.   1.   1.   1.   1.   1.   1.   1.]\n",
      " [100.   1.   1.  50.   1.   1.   1.   1. 100.]\n",
      " [100.   1. 150.   1. 150.   1. 150.   1.   1.]\n",
      " [100.   1. 150.   1. 150.   1. 150.   1.   1.]\n",
      " [100.   1. 150.   1. 150.   1. 150.   1.   1.]\n",
      " [  1.   1. 150.   1. 150.   1. 150.   1.   1.]\n",
      " [  1.   1.   1.   1.   1.   1.   1.   1.   1.]\n",
      " [  1.   1.   1.   1.   1.   1.   1.   1.   1.]\n",
      " [150. 150. 150. 150.   1. 150. 150. 150. 150.]]\n",
      " 이 때 한 행동 : →\n",
      " 마지막 보상 : -1\n",
      " 총 받은 보상 :4904.899999999994\n",
      " end : True\n",
      " clear : True\n",
      "episode :1, score = 4790.7890000001835, n_buffer :100000 , eps : 47.3\n"
     ]
    },
    {
     "name": "stderr",
     "output_type": "stream",
     "text": [
      " 21%|█████████████▋                                                  | 12801/60000 [1:21:20<3:43:08,  3.53it/s]"
     ]
    },
    {
     "name": "stdout",
     "output_type": "stream",
     "text": [
      "epi = 1\n",
      " 마지막 상태 :\n",
      "[[100.  50. 100. 100. 100. 100. 100. 100.   1.]\n",
      " [  1.   1.   1.   1.   1.   1.   1.   1.   1.]\n",
      " [100.   1.   1.   1.   1.   1.   1.   1. 100.]\n",
      " [100.   1. 150.   1. 150.   1. 150.   1.   1.]\n",
      " [100.   1. 150.   1. 150.   1. 150.   1.   1.]\n",
      " [100.   1. 150.   1. 150.   1. 150.   1.   1.]\n",
      " [  1.   1. 150.   1. 150.   1. 150.   1.   1.]\n",
      " [  1.   1.   1.   1.   1.   1.   1.   1.   1.]\n",
      " [  1.   1.   1.   1.   1.   1.   1.   1.   1.]\n",
      " [150. 150. 150. 150.   1. 150. 150. 150. 150.]]\n",
      " 이 때 한 행동 : ↑\n",
      " 마지막 보상 : -1\n",
      " 총 받은 보상 :4891.399999999995\n",
      " end : True\n",
      " clear : True\n",
      "episode :1, score = 4686.440000000177, n_buffer :100000 , eps : 47.199999999999996\n"
     ]
    },
    {
     "name": "stderr",
     "output_type": "stream",
     "text": [
      " 22%|█████████████▊                                                  | 12901/60000 [1:21:53<4:57:12,  2.64it/s]"
     ]
    },
    {
     "name": "stdout",
     "output_type": "stream",
     "text": [
      "epi = 1\n",
      " 마지막 상태 :\n",
      "[[100.   1. 100. 100. 100. 100. 100. 100.   1.]\n",
      " [ 50.   1.   1.   1.   1.   1.   1.   1.   1.]\n",
      " [100.   1.   1.   1.   1.   1.   1.   1. 100.]\n",
      " [100.   1. 150.   1. 150.   1. 150.   1.   1.]\n",
      " [100.   1. 150.   1. 150.   1. 150.   1.   1.]\n",
      " [100.   1. 150.   1. 150.   1. 150.   1.   1.]\n",
      " [  1.   1. 150.   1. 150.   1. 150.   1.   1.]\n",
      " [  1.   1.   1.   1.   1.   1.   1.   1.   1.]\n",
      " [  1.   1.   1.   1.   1.   1.   1.   1.   1.]\n",
      " [150. 150. 150. 150.   1. 150. 150. 150. 150.]]\n",
      " 이 때 한 행동 : ↑\n",
      " 마지막 보상 : -0.1\n",
      " 총 받은 보상 :4817.599999999997\n",
      " end : True\n",
      " clear : True\n",
      "episode :1, score = 4592.47600000017, n_buffer :100000 , eps : 47.099999999999994\n"
     ]
    },
    {
     "name": "stderr",
     "output_type": "stream",
     "text": [
      " 22%|█████████████▋                                                 | 13001/60000 [1:22:48<17:26:20,  1.34s/it]"
     ]
    },
    {
     "name": "stdout",
     "output_type": "stream",
     "text": [
      "epi = 1\n",
      " 마지막 상태 :\n",
      "[[100.   1. 100. 100. 100. 100. 100. 100.   1.]\n",
      " [  1.   1.   1.   1.   1.   1.   1.   1.   1.]\n",
      " [100.   1.   1.   1.   1.  50.   1.   1. 100.]\n",
      " [100.   1. 150.   1. 150.   1. 150.   1.   1.]\n",
      " [100.   1. 150.   1. 150.   1. 150.   1.   1.]\n",
      " [100.   1. 150.   1. 150.   1. 150.   1.   1.]\n",
      " [  1.   1. 150.   1. 150.   1. 150.   1.   1.]\n",
      " [  1.   1.   1.   1.   1.   1.   1.   1.   1.]\n",
      " [  1.   1.   1.   1.   1.   1.   1.   1.   1.]\n",
      " [150. 150. 150. 150.   1. 150. 150. 150. 150.]]\n",
      " 이 때 한 행동 : ←\n",
      " 마지막 보상 : -1\n",
      " 총 받은 보상 :4872.499999999993\n",
      " end : True\n",
      " clear : True\n",
      "episode :1, score = 4814.706000000153, n_buffer :100000 , eps : 47.0\n"
     ]
    },
    {
     "name": "stderr",
     "output_type": "stream",
     "text": [
      " 22%|█████████████▊                                                 | 13101/60000 [1:23:57<18:04:27,  1.39s/it]"
     ]
    },
    {
     "name": "stdout",
     "output_type": "stream",
     "text": [
      "epi = 1\n",
      " 마지막 상태 :\n",
      "[[100.   1. 100. 100. 100. 100. 100. 100.   1.]\n",
      " [  1.   1.   1.   1.   1.   1.   1.   1.   1.]\n",
      " [100.   1.   1.   1.   1.   1.   1.   1. 100.]\n",
      " [100.  50. 150.   1. 150.   1. 150.   1.   1.]\n",
      " [100.   1. 150.   1. 150.   1. 150.   1.   1.]\n",
      " [100.   1. 150.   1. 150.   1. 150.   1.   1.]\n",
      " [  1.   1. 150.   1. 150.   1. 150.   1.   1.]\n",
      " [  1.   1.   1.   1.   1.   1.   1.   1.   1.]\n",
      " [  1.   1.   1.   1.   1.   1.   1.   1.   1.]\n",
      " [150. 150. 150. 150.   1. 150. 150. 150. 150.]]\n",
      " 이 때 한 행동 : ←\n",
      " 마지막 보상 : -0.1\n",
      " 총 받은 보상 :4813.999999999993\n",
      " end : True\n",
      " clear : True\n",
      "episode :1, score = 4828.031000000121, n_buffer :100000 , eps : 46.9\n"
     ]
    },
    {
     "name": "stderr",
     "output_type": "stream",
     "text": [
      " 22%|██████████████                                                  | 13201/60000 [1:24:59<4:28:20,  2.91it/s]"
     ]
    },
    {
     "name": "stdout",
     "output_type": "stream",
     "text": [
      "epi = 1\n",
      " 마지막 상태 :\n",
      "[[100.   1. 100. 100. 100. 100. 100. 100.   1.]\n",
      " [  1.   1.   1.   1.   1.   1.   1.   1.   1.]\n",
      " [100.   1.   1.   1.  50.   1.   1.   1. 100.]\n",
      " [100.   1. 150.   1. 150.   1. 150.   1.   1.]\n",
      " [100.   1. 150.   1. 150.   1. 150.   1.   1.]\n",
      " [100.   1. 150.   1. 150.   1. 150.   1.   1.]\n",
      " [  1.   1. 150.   1. 150.   1. 150.   1.   1.]\n",
      " [  1.   1.   1.   1.   1.   1.   1.   1.   1.]\n",
      " [  1.   1.   1.   1.   1.   1.   1.   1.   1.]\n",
      " [150. 150. 150. 150.   1. 150. 150. 150. 150.]]\n",
      " 이 때 한 행동 : ↓\n",
      " 마지막 보상 : -10\n",
      " 총 받은 보상 :4883.3\n",
      " end : True\n",
      " clear : True\n",
      "episode :1, score = 4804.114000000127, n_buffer :100000 , eps : 46.8\n"
     ]
    },
    {
     "name": "stderr",
     "output_type": "stream",
     "text": [
      " 22%|██████████████▏                                                 | 13301/60000 [1:25:50<6:17:03,  2.06it/s]"
     ]
    },
    {
     "name": "stdout",
     "output_type": "stream",
     "text": [
      "epi = 1\n",
      " 마지막 상태 :\n",
      "[[100.   1. 100. 100. 100. 100. 100. 100.   1.]\n",
      " [  1.   1.   1.   1.   1.   1.   1.   1.   1.]\n",
      " [100.   1.   1.   1.   1.   1.   1.   1. 100.]\n",
      " [100.   1. 150.   1. 150.   1. 150.   1.   1.]\n",
      " [100.   1. 150.   1. 150.  50. 150.   1.   1.]\n",
      " [100.   1. 150.   1. 150.   1. 150.   1.   1.]\n",
      " [  1.   1. 150.   1. 150.   1. 150.   1.   1.]\n",
      " [  1.   1.   1.   1.   1.   1.   1.   1.   1.]\n",
      " [  1.   1.   1.   1.   1.   1.   1.   1.   1.]\n",
      " [150. 150. 150. 150.   1. 150. 150. 150. 150.]]\n",
      " 이 때 한 행동 : →\n",
      " 마지막 보상 : -10\n",
      " 총 받은 보상 :4838.299999999999\n",
      " end : True\n",
      " clear : True\n",
      "episode :1, score = 4647.896000000116, n_buffer :100000 , eps : 46.699999999999996\n"
     ]
    },
    {
     "name": "stderr",
     "output_type": "stream",
     "text": [
      " 22%|██████████████▎                                                 | 13401/60000 [1:26:20<3:18:48,  3.91it/s]"
     ]
    },
    {
     "name": "stdout",
     "output_type": "stream",
     "text": [
      "epi = 1\n",
      " 마지막 상태 :\n",
      "[[100. 200. 100. 100. 100. 100. 100. 100.   1.]\n",
      " [  1.   1.   1.   1.   1.   1.   1.   1.   1.]\n",
      " [100.   1.   1.   1.   1.   1.   1.   1. 100.]\n",
      " [100.   1. 150.   1. 150.   1. 150.   1.   1.]\n",
      " [100.   1. 150.   1. 150.   1. 150.   1.   1.]\n",
      " [100.   1. 150.   1. 150.   1. 150.   1.   1.]\n",
      " [  1.   1. 150.   1. 150.   1. 150.   1.   1.]\n",
      " [  1.   1.   1.   1.   1.  50.   1.   1.   1.]\n",
      " [  1.   1.   1.   1.   1.   1.   1.   1.   1.]\n",
      " [150. 150. 150. 150.   1. 150. 150. 150. 150.]]\n",
      " 이 때 한 행동 : ↓\n",
      " 마지막 보상 : -1\n",
      " 총 받은 보상 :3804.9\n",
      " end : True\n",
      " clear : True\n",
      "episode :1, score = 4392.376000000097, n_buffer :100000 , eps : 46.599999999999994\n"
     ]
    },
    {
     "name": "stderr",
     "output_type": "stream",
     "text": [
      " 23%|██████████████▍                                                 | 13501/60000 [1:26:47<3:48:25,  3.39it/s]"
     ]
    },
    {
     "name": "stdout",
     "output_type": "stream",
     "text": [
      "epi = 1\n",
      " 마지막 상태 :\n",
      "[[100.   1. 100. 100. 100. 100. 100. 100.   1.]\n",
      " [  1.   1.   1.   1.   1.   1.   1.   1.   1.]\n",
      " [100.   1.   1.   1.   1.   1.   1.   1. 100.]\n",
      " [100.   1. 150.   1. 150.   1. 150.   1.   1.]\n",
      " [100.   1. 150.   1. 150.   1. 150.   1.   1.]\n",
      " [100.   1. 150.   1. 150.   1. 150.   1.   1.]\n",
      " [  1.   1. 150.   1. 150.   1. 150.   1.   1.]\n",
      " [  1.   1.   1.   1.   1.   1.   1.   1.   1.]\n",
      " [  1.   1.   1.   1.  50.   1.   1.   1.   1.]\n",
      " [150. 150. 150. 150.   1. 150. 150. 150. 150.]]\n",
      " 이 때 한 행동 : ↓\n",
      " 마지막 보상 : -1\n",
      " 총 받은 보상 :4864.399999999998\n",
      " end : True\n",
      " clear : True\n",
      "episode :1, score = 4405.872000000148, n_buffer :100000 , eps : 46.5\n"
     ]
    },
    {
     "name": "stderr",
     "output_type": "stream",
     "text": [
      " 23%|██████████████▌                                                 | 13601/60000 [1:27:30<4:20:22,  2.97it/s]"
     ]
    },
    {
     "name": "stdout",
     "output_type": "stream",
     "text": [
      "epi = 1\n",
      " 마지막 상태 :\n",
      "[[100. 200. 100. 100. 100. 100. 100. 100.   1.]\n",
      " [  1.   1.   1.   1.   1.   1.   1.   1.   1.]\n",
      " [100.   1.   1.   1.   1.   1.   1.   1. 100.]\n",
      " [100.   1. 150.   1. 150.   1. 150.   1.   1.]\n",
      " [100.   1. 150.   1. 150.   1. 150.   1.   1.]\n",
      " [100.   1. 150.   1. 150.  50. 150.   1.   1.]\n",
      " [  1.   1. 150.   1. 150.   1. 150.   1.   1.]\n",
      " [  1.   1.   1.   1.   1.   1.   1.   1.   1.]\n",
      " [  1.   1.   1.   1.   1.   1.   1.   1.   1.]\n",
      " [150. 150. 150. 150.   1. 150. 150. 150. 150.]]\n",
      " 이 때 한 행동 : →\n",
      " 마지막 보상 : -10\n",
      " 총 받은 보상 :3778.8\n",
      " end : True\n",
      " clear : True\n",
      "episode :1, score = 4144.051000000099, n_buffer :100000 , eps : 46.4\n"
     ]
    },
    {
     "name": "stderr",
     "output_type": "stream",
     "text": [
      " 23%|██████████████▌                                                 | 13701/60000 [1:28:08<4:02:17,  3.18it/s]"
     ]
    },
    {
     "name": "stdout",
     "output_type": "stream",
     "text": [
      "epi = 1\n",
      " 마지막 상태 :\n",
      "[[100.   1. 100. 100. 100. 100. 100. 100.   1.]\n",
      " [  1.   1.   1.   1.   1.   1.   1.   1.   1.]\n",
      " [100.   1.   1.   1.   1.   1.   1.   1. 100.]\n",
      " [100.   1. 150.   1. 150.   1. 150.   1.   1.]\n",
      " [100.   1. 150.   1. 150.   1. 150.   1.   1.]\n",
      " [100.   1. 150.   1. 150.  50. 150.   1.   1.]\n",
      " [  1.   1. 150.   1. 150.   1. 150.   1.   1.]\n",
      " [  1.   1.   1.   1.   1.   1.   1.   1.   1.]\n",
      " [  1.   1.   1.   1.   1.   1.   1.   1.   1.]\n",
      " [150. 150. 150. 150.   1. 150. 150. 150. 150.]]\n",
      " 이 때 한 행동 : ←\n",
      " 마지막 보상 : -10\n",
      " 총 받은 보상 :4805.9\n",
      " end : True\n",
      " clear : True\n",
      "episode :1, score = 4310.279000000062, n_buffer :100000 , eps : 46.300000000000004\n"
     ]
    },
    {
     "name": "stderr",
     "output_type": "stream",
     "text": [
      " 23%|██████████████▋                                                 | 13801/60000 [1:28:57<3:56:34,  3.25it/s]"
     ]
    },
    {
     "name": "stdout",
     "output_type": "stream",
     "text": [
      "epi = 1\n",
      " 마지막 상태 :\n",
      "[[100. 200. 100. 100. 100. 100. 100. 100.   1.]\n",
      " [  1.   1.   1.   1.   1.   1.   1.   1.   1.]\n",
      " [100.   1.   1.   1.   1.   1.   1.   1. 100.]\n",
      " [100.   1. 150.   1. 150.   1. 150.   1.   1.]\n",
      " [100.   1. 150.   1. 150.   1. 150.   1.   1.]\n",
      " [100.   1. 150.   1. 150.   1. 150.   1.   1.]\n",
      " [  1.   1. 150.   1. 150.   1. 150.   1.   1.]\n",
      " [  1.   1.   1.   1.   1.   1.   1.  50.   1.]\n",
      " [  1.   1.   1.   1.   1.   1.   1.   1.   1.]\n",
      " [150. 150. 150. 150.   1. 150. 150. 150. 150.]]\n",
      " 이 때 한 행동 : →\n",
      " 마지막 보상 : -1\n",
      " 총 받은 보상 :3813\n",
      " end : True\n",
      " clear : True\n",
      "episode :1, score = 4155.429000000108, n_buffer :100000 , eps : 46.2\n"
     ]
    },
    {
     "name": "stderr",
     "output_type": "stream",
     "text": [
      " 23%|██████████████▊                                                 | 13901/60000 [1:29:31<3:58:06,  3.23it/s]"
     ]
    },
    {
     "name": "stdout",
     "output_type": "stream",
     "text": [
      "epi = 1\n",
      " 마지막 상태 :\n",
      "[[100. 200. 100. 100. 100. 100. 100. 100.   1.]\n",
      " [  1.   1.   1.   1.   1.   1.   1.   1.   1.]\n",
      " [100.   1.   1.   1.   1.   1.   1.   1. 100.]\n",
      " [100.   1. 150.   1. 150.   1. 150.   1.   1.]\n",
      " [100.   1. 150.   1. 150.   1. 150.   1.   1.]\n",
      " [100.   1. 150.   1. 150.   1. 150.  50.   1.]\n",
      " [  1.   1. 150.   1. 150.   1. 150.   1.   1.]\n",
      " [  1.   1.   1.   1.   1.   1.   1.   1.   1.]\n",
      " [  1.   1.   1.   1.   1.   1.   1.   1.   1.]\n",
      " [150. 150. 150. 150.   1. 150. 150. 150. 150.]]\n",
      " 이 때 한 행동 : ↓\n",
      " 마지막 보상 : -1\n",
      " 총 받은 보상 :3759\n",
      " end : True\n",
      " clear : True\n",
      "episode :1, score = 3991.3340000000485, n_buffer :100000 , eps : 46.1\n"
     ]
    },
    {
     "name": "stderr",
     "output_type": "stream",
     "text": [
      " 23%|██████████████▉                                                 | 14001/60000 [1:30:03<3:15:51,  3.91it/s]"
     ]
    },
    {
     "name": "stdout",
     "output_type": "stream",
     "text": [
      "epi = 1\n",
      " 마지막 상태 :\n",
      "[[100. 200. 100. 100. 100. 100. 100. 100.   1.]\n",
      " [  1.   1.   1.   1.   1.   1.   1.   1.   1.]\n",
      " [100.   1.   1.   1.   1.   1.   1.   1. 100.]\n",
      " [100.   1. 150.   1. 150.   1. 150.   1.   1.]\n",
      " [100.   1. 150.   1. 150.   1. 150.   1.  50.]\n",
      " [100.   1. 150.   1. 150.   1. 150.   1.   1.]\n",
      " [  1.   1. 150.   1. 150.   1. 150.   1.   1.]\n",
      " [  1.   1.   1.   1.   1.   1.   1.   1.   1.]\n",
      " [  1.   1.   1.   1.   1.   1.   1.   1.   1.]\n",
      " [150. 150. 150. 150.   1. 150. 150. 150. 150.]]\n",
      " 이 때 한 행동 : →\n",
      " 마지막 보상 : -1\n",
      " 총 받은 보상 :3847.2000000000016\n",
      " end : True\n",
      " clear : True\n",
      "episode :1, score = 3891.3990000000385, n_buffer :100000 , eps : 46.0\n"
     ]
    },
    {
     "name": "stderr",
     "output_type": "stream",
     "text": [
      " 24%|███████████████                                                 | 14101/60000 [1:30:33<3:13:10,  3.96it/s]"
     ]
    },
    {
     "name": "stdout",
     "output_type": "stream",
     "text": [
      "epi = 1\n",
      " 마지막 상태 :\n",
      "[[100. 200. 100. 100. 100. 100. 100. 100.   1.]\n",
      " [  1.   1.   1.   1.   1.   1.   1.   1.   1.]\n",
      " [100.   1.   1.   1.   1.   1.   1.   1. 100.]\n",
      " [100.   1. 150.   1. 150.   1. 150.   1.   1.]\n",
      " [100.   1. 150.   1. 150.   1. 150.  50.   1.]\n",
      " [100.   1. 150.   1. 150.   1. 150.   1.   1.]\n",
      " [  1.   1. 150.   1. 150.   1. 150.   1.   1.]\n",
      " [  1.   1.   1.   1.   1.   1.   1.   1.   1.]\n",
      " [  1.   1.   1.   1.   1.   1.   1.   1.   1.]\n",
      " [150. 150. 150. 150.   1. 150. 150. 150. 150.]]\n",
      " 이 때 한 행동 : ↓\n",
      " 마지막 보상 : -1\n",
      " 총 받은 보상 :3812.1000000000017\n",
      " end : True\n",
      " clear : True\n",
      "episode :1, score = 3892.6650000000504, n_buffer :100000 , eps : 45.9\n"
     ]
    },
    {
     "name": "stderr",
     "output_type": "stream",
     "text": [
      " 24%|███████████████▏                                                | 14201/60000 [1:31:04<4:17:41,  2.96it/s]"
     ]
    },
    {
     "name": "stdout",
     "output_type": "stream",
     "text": [
      "epi = 1\n",
      " 마지막 상태 :\n",
      "[[100.   1. 100. 100. 100. 100. 100. 100.   1.]\n",
      " [  1.   1.   1.   1.   1.   1.   1.   1.   1.]\n",
      " [100.   1.   1.   1.   1.   1.   1.   1. 100.]\n",
      " [100.   1. 150.   1. 150.   1. 150.   1.   1.]\n",
      " [100.   1. 150.   1. 150.   1. 150.   1.   1.]\n",
      " [100.   1. 150.   1. 150.   1. 150.   1.   1.]\n",
      " [  1.   1. 150.   1. 150.   1. 150.   1.   1.]\n",
      " [  1.   1.   1.   1.   1.   1.   1.   1.   1.]\n",
      " [ 50.   1.   1.   1.   1.   1.   1.   1.   1.]\n",
      " [150. 150. 150. 150.   1. 150. 150. 150. 150.]]\n",
      " 이 때 한 행동 : ←\n",
      " 마지막 보상 : -10\n",
      " 총 받은 보상 :4776.199999999995\n",
      " end : True\n",
      " clear : True\n",
      "episode :1, score = 4051.1520000001333, n_buffer :100000 , eps : 45.800000000000004\n"
     ]
    },
    {
     "name": "stderr",
     "output_type": "stream",
     "text": [
      " 24%|███████████████▎                                                | 14301/60000 [1:31:32<4:34:04,  2.78it/s]"
     ]
    },
    {
     "name": "stdout",
     "output_type": "stream",
     "text": [
      "epi = 1\n",
      " 마지막 상태 :\n",
      "[[100. 200. 100. 100. 100. 100. 100. 100.   1.]\n",
      " [  1.   1.   1.   1.   1.   1.   1.   1.   1.]\n",
      " [100.   1.   1.   1.   1.   1.   1.   1. 100.]\n",
      " [100.   1. 150.   1. 150.   1. 150.   1.   1.]\n",
      " [100.   1. 150.   1. 150.   1. 150.   1.   1.]\n",
      " [100.   1. 150.   1. 150.   1. 150.   1.   1.]\n",
      " [  1.   1. 150.   1. 150.   1. 150.   1.   1.]\n",
      " [  1.   1.   1.   1.   1.   1.  50.   1.   1.]\n",
      " [  1.   1.   1.   1.   1.   1.   1.   1.   1.]\n",
      " [150. 150. 150. 150.   1. 150. 150. 150. 150.]]\n",
      " 이 때 한 행동 : ↑\n",
      " 마지막 보상 : -10\n",
      " 총 받은 보상 :3813.9\n",
      " end : True\n",
      " clear : True\n",
      "episode :1, score = 4166.533000000134, n_buffer :100000 , eps : 45.7\n"
     ]
    },
    {
     "name": "stderr",
     "output_type": "stream",
     "text": [
      " 24%|███████████████▎                                                | 14401/60000 [1:32:03<3:52:18,  3.27it/s]"
     ]
    },
    {
     "name": "stdout",
     "output_type": "stream",
     "text": [
      "epi = 1\n",
      " 마지막 상태 :\n",
      "[[100.   1. 100. 100. 100. 100. 100. 100.   1.]\n",
      " [  1.   1.   1.   1.   1.   1.   1.   1.   1.]\n",
      " [100.   1.   1.   1.   1.   1.   1.   1. 100.]\n",
      " [100.   1. 150.   1. 150.   1. 150.   1.   1.]\n",
      " [100.   1. 150.   1. 150.  50. 150.   1.   1.]\n",
      " [100.   1. 150.   1. 150.   1. 150.   1.   1.]\n",
      " [  1.   1. 150.   1. 150.   1. 150.   1.   1.]\n",
      " [  1.   1.   1.   1.   1.   1.   1.   1.   1.]\n",
      " [  1.   1.   1.   1.   1.   1.   1.   1.   1.]\n",
      " [150. 150. 150. 150.   1. 150. 150. 150. 150.]]\n",
      " 이 때 한 행동 : ↓\n",
      " 마지막 보상 : -1\n",
      " 총 받은 보상 :4751.9000000000015\n",
      " end : True\n",
      " clear : True\n",
      "episode :1, score = 4171.755000000081, n_buffer :100000 , eps : 45.6\n"
     ]
    },
    {
     "name": "stderr",
     "output_type": "stream",
     "text": [
      " 24%|███████████████▍                                                | 14501/60000 [1:32:38<4:00:30,  3.15it/s]"
     ]
    },
    {
     "name": "stdout",
     "output_type": "stream",
     "text": [
      "epi = 1\n",
      " 마지막 상태 :\n",
      "[[100. 200. 100. 100. 100. 100. 100. 100.   1.]\n",
      " [  1.   1.   1.   1.   1.   1.  50.   1.   1.]\n",
      " [100.   1.   1.   1.   1.   1.   1.   1. 100.]\n",
      " [100.   1. 150.   1. 150.   1. 150.   1.   1.]\n",
      " [100.   1. 150.   1. 150.   1. 150.   1.   1.]\n",
      " [100.   1. 150.   1. 150.   1. 150.   1.   1.]\n",
      " [  1.   1. 150.   1. 150.   1. 150.   1.   1.]\n",
      " [  1.   1.   1.   1.   1.   1.   1.   1.   1.]\n",
      " [  1.   1.   1.   1.   1.   1.   1.   1.   1.]\n",
      " [150. 150. 150. 150.   1. 150. 150. 150. 150.]]\n",
      " 이 때 한 행동 : ↑\n",
      " 마지막 보상 : -0.1\n",
      " 총 받은 보상 :3851.700000000002\n",
      " end : True\n",
      " clear : True\n",
      "episode :1, score = 4538.623000000158, n_buffer :100000 , eps : 45.5\n"
     ]
    },
    {
     "name": "stderr",
     "output_type": "stream",
     "text": [
      " 24%|███████████████▌                                                | 14601/60000 [1:33:09<3:16:45,  3.85it/s]"
     ]
    },
    {
     "name": "stdout",
     "output_type": "stream",
     "text": [
      "epi = 1\n",
      " 마지막 상태 :\n",
      "[[100. 200. 100. 100. 100. 100. 100. 100.   1.]\n",
      " [  1.   1.   1.   1.   1.   1.   1.   1.   1.]\n",
      " [100.   1.   1.   1.   1.   1.   1.   1. 100.]\n",
      " [100.   1. 150.   1. 150.   1. 150.   1.   1.]\n",
      " [100.   1. 150.   1. 150.   1. 150.   1.   1.]\n",
      " [100.   1. 150.   1. 150.   1. 150.   1.   1.]\n",
      " [  1.   1. 150.   1. 150.   1. 150.   1.   1.]\n",
      " [  1.   1.   1.   1.   1.  50.   1.   1.   1.]\n",
      " [  1.   1.   1.   1.   1.   1.   1.   1.   1.]\n",
      " [150. 150. 150. 150.   1. 150. 150. 150. 150.]]\n",
      " 이 때 한 행동 : ←\n",
      " 마지막 보상 : -1\n",
      " 총 받은 보상 :3785.1000000000017\n",
      " end : True\n",
      " clear : True\n",
      "episode :1, score = 4683.704000000222, n_buffer :100000 , eps : 45.4\n"
     ]
    },
    {
     "name": "stderr",
     "output_type": "stream",
     "text": [
      " 25%|███████████████▋                                                | 14701/60000 [1:33:41<4:40:10,  2.69it/s]"
     ]
    },
    {
     "name": "stdout",
     "output_type": "stream",
     "text": [
      "epi = 1\n",
      " 마지막 상태 :\n",
      "[[100.   1. 100. 100. 100. 100. 100. 100.   1.]\n",
      " [  1.   1.   1.   1.   1.   1.   1.   1.   1.]\n",
      " [100.  50.   1.   1.   1.   1.   1.   1. 100.]\n",
      " [100.   1. 150.   1. 150.   1. 150.   1.   1.]\n",
      " [100.   1. 150.   1. 150.   1. 150.   1.   1.]\n",
      " [100.   1. 150.   1. 150.   1. 150.   1.   1.]\n",
      " [  1.   1. 150.   1. 150.   1. 150.   1.   1.]\n",
      " [  1.   1.   1.   1.   1.   1.   1.   1.   1.]\n",
      " [  1.   1.   1.   1.   1.   1.   1.   1.   1.]\n",
      " [150. 150. 150. 150.   1. 150. 150. 150. 150.]]\n",
      " 이 때 한 행동 : ↓\n",
      " 마지막 보상 : -1\n",
      " 총 받은 보상 :4878.799999999999\n",
      " end : True\n",
      " clear : True\n",
      "episode :1, score = 4642.174000000158, n_buffer :100000 , eps : 45.300000000000004\n"
     ]
    },
    {
     "name": "stderr",
     "output_type": "stream",
     "text": [
      " 25%|███████████████▊                                                | 14801/60000 [1:34:18<3:58:52,  3.15it/s]"
     ]
    },
    {
     "name": "stdout",
     "output_type": "stream",
     "text": [
      "epi = 1\n",
      " 마지막 상태 :\n",
      "[[100.   1. 100. 100. 100. 100. 100. 100.   1.]\n",
      " [  1.   1.   1.   1.   1.   1.   1.   1.  50.]\n",
      " [100.   1.   1.   1.   1.   1.   1.   1. 100.]\n",
      " [100.   1. 150.   1. 150.   1. 150.   1.   1.]\n",
      " [100.   1. 150.   1. 150.   1. 150.   1.   1.]\n",
      " [100.   1. 150.   1. 150.   1. 150.   1.   1.]\n",
      " [  1.   1. 150.   1. 150.   1. 150.   1.   1.]\n",
      " [  1.   1.   1.   1.   1.   1.   1.   1.   1.]\n",
      " [  1.   1.   1.   1.   1.   1.   1.   1.   1.]\n",
      " [150. 150. 150. 150.   1. 150. 150. 150. 150.]]\n",
      " 이 때 한 행동 : ↓\n",
      " 마지막 보상 : -1\n",
      " 총 받은 보상 :4834.699999999995\n",
      " end : True\n",
      " clear : True\n",
      "episode :1, score = 4736.675000000116, n_buffer :100000 , eps : 45.2\n"
     ]
    },
    {
     "name": "stderr",
     "output_type": "stream",
     "text": [
      " 25%|███████████████▉                                                | 14901/60000 [1:34:49<4:13:28,  2.97it/s]"
     ]
    },
    {
     "name": "stdout",
     "output_type": "stream",
     "text": [
      "epi = 1\n",
      " 마지막 상태 :\n",
      "[[100.   1. 100. 100. 100. 100. 100. 100.   1.]\n",
      " [  1.   1.   1.   1.   1.   1.   1.   1.   1.]\n",
      " [100.   1.   1.   1.   1.   1.   1.   1. 100.]\n",
      " [100.   1. 150.   1. 150.   1. 150.   1.   1.]\n",
      " [100.   1. 150.   1. 150.   1. 150.   1.   1.]\n",
      " [100.   1. 150.   1. 150.   1. 150.   1.   1.]\n",
      " [  1.   1. 150.   1. 150.   1. 150.   1.   1.]\n",
      " [  1.   1.   1.   1.   1.   1.   1.  50.   1.]\n",
      " [  1.   1.   1.   1.   1.   1.   1.   1.   1.]\n",
      " [150. 150. 150. 150.   1. 150. 150. 150. 150.]]\n",
      " 이 때 한 행동 : →\n",
      " 마지막 보상 : -1\n",
      " 총 받은 보상 :4876.999999999999\n",
      " end : True\n",
      " clear : True\n",
      "episode :1, score = 4824.292000000231, n_buffer :100000 , eps : 45.1\n"
     ]
    },
    {
     "name": "stderr",
     "output_type": "stream",
     "text": [
      " 25%|████████████████                                                | 15001/60000 [1:35:26<4:03:47,  3.08it/s]"
     ]
    },
    {
     "name": "stdout",
     "output_type": "stream",
     "text": [
      "epi = 1\n",
      " 마지막 상태 :\n",
      "[[100.   1. 100. 100. 100. 100. 100. 100.   1.]\n",
      " [  1.   1.   1.   1.   1.   1.   1.   1.   1.]\n",
      " [100.   1.   1.   1.   1.   1.   1.  50. 100.]\n",
      " [100.   1. 150.   1. 150.   1. 150.   1.   1.]\n",
      " [100.   1. 150.   1. 150.   1. 150.   1.   1.]\n",
      " [100.   1. 150.   1. 150.   1. 150.   1.   1.]\n",
      " [  1.   1. 150.   1. 150.   1. 150.   1.   1.]\n",
      " [  1.   1.   1.   1.   1.   1.   1.   1.   1.]\n",
      " [  1.   1.   1.   1.   1.   1.   1.   1.   1.]\n",
      " [150. 150. 150. 150.   1. 150. 150. 150. 150.]]\n",
      " 이 때 한 행동 : →\n",
      " 마지막 보상 : -0.1\n",
      " 총 받은 보상 :4882.4\n",
      " end : True\n",
      " clear : True\n",
      "episode :1, score = 4756.75200000019, n_buffer :100000 , eps : 45.0\n"
     ]
    },
    {
     "name": "stderr",
     "output_type": "stream",
     "text": [
      " 25%|████████████████                                                | 15101/60000 [1:36:03<4:16:47,  2.91it/s]"
     ]
    },
    {
     "name": "stdout",
     "output_type": "stream",
     "text": [
      "epi = 1\n",
      " 마지막 상태 :\n",
      "[[100. 200. 100. 100. 100. 100. 100. 100. 200.]\n",
      " [  1.   1.   1.  50.   1.   1.   1.   1.   1.]\n",
      " [100.   1.   1.   1.   1.   1.   1.   1. 100.]\n",
      " [100.   1. 150.   1. 150.   1. 150.   1.   1.]\n",
      " [100.   1. 150.   1. 150.   1. 150.   1.   1.]\n",
      " [100.   1. 150.   1. 150.   1. 150.   1.   1.]\n",
      " [  1.   1. 150.   1. 150.   1. 150.   1.   1.]\n",
      " [  1.   1.   1.   1.   1.   1.   1.   1.   1.]\n",
      " [  1.   1.   1.   1.   1.   1.   1.   1.   1.]\n",
      " [150. 150. 150. 150.   1. 150. 150. 150. 150.]]\n",
      " 이 때 한 행동 : ↑\n",
      " 마지막 보상 : -1\n",
      " 총 받은 보상 :2910.1000000000035\n",
      " end : True\n",
      " clear : True\n",
      "episode :1, score = 4717.428000000171, n_buffer :100000 , eps : 44.9\n"
     ]
    },
    {
     "name": "stderr",
     "output_type": "stream",
     "text": [
      " 25%|████████████████▏                                               | 15201/60000 [1:36:34<3:11:16,  3.90it/s]"
     ]
    },
    {
     "name": "stdout",
     "output_type": "stream",
     "text": [
      "epi = 1\n",
      " 마지막 상태 :\n",
      "[[100.   1. 100. 100. 100. 100. 100. 100.   1.]\n",
      " [  1.   1.   1.   1.   1.   1.   1.   1.   1.]\n",
      " [100.  50.   1.   1.   1.   1.   1.   1. 100.]\n",
      " [100.   1. 150.   1. 150.   1. 150.   1.   1.]\n",
      " [100.   1. 150.   1. 150.   1. 150.   1.   1.]\n",
      " [100.   1. 150.   1. 150.   1. 150.   1.   1.]\n",
      " [  1.   1. 150.   1. 150.   1. 150.   1.   1.]\n",
      " [  1.   1.   1.   1.   1.   1.   1.   1.   1.]\n",
      " [  1.   1.   1.   1.   1.   1.   1.   1.   1.]\n",
      " [150. 150. 150. 150.   1. 150. 150. 150. 150.]]\n",
      " 이 때 한 행동 : ←\n",
      " 마지막 보상 : -0.1\n",
      " 총 받은 보상 :4909.399999999989\n",
      " end : True\n",
      " clear : True\n",
      "episode :1, score = 4738.830000000099, n_buffer :100000 , eps : 44.800000000000004\n"
     ]
    },
    {
     "name": "stderr",
     "output_type": "stream",
     "text": [
      " 26%|████████████████▎                                               | 15301/60000 [1:37:06<4:08:08,  3.00it/s]"
     ]
    },
    {
     "name": "stdout",
     "output_type": "stream",
     "text": [
      "epi = 1\n",
      " 마지막 상태 :\n",
      "[[100.   1. 100. 100. 100. 100. 100. 100.   1.]\n",
      " [  1.   1.   1.   1.   1.   1.   1.   1.   1.]\n",
      " [100.  50.   1.   1.   1.   1.   1.   1. 100.]\n",
      " [100.   1. 150.   1. 150.   1. 150.   1.   1.]\n",
      " [100.   1. 150.   1. 150.   1. 150.   1.   1.]\n",
      " [100.   1. 150.   1. 150.   1. 150.   1.   1.]\n",
      " [  1.   1. 150.   1. 150.   1. 150.   1.   1.]\n",
      " [  1.   1.   1.   1.   1.   1.   1.   1.   1.]\n",
      " [  1.   1.   1.   1.   1.   1.   1.   1.   1.]\n",
      " [150. 150. 150. 150.   1. 150. 150. 150. 150.]]\n",
      " 이 때 한 행동 : ↓\n",
      " 마지막 보상 : -1\n",
      " 총 받은 보상 :4828.399999999992\n",
      " end : True\n",
      " clear : True\n",
      "episode :1, score = 4765.85200000018, n_buffer :100000 , eps : 44.7\n"
     ]
    },
    {
     "name": "stderr",
     "output_type": "stream",
     "text": [
      " 26%|████████████████▍                                               | 15401/60000 [1:37:37<2:43:32,  4.55it/s]"
     ]
    },
    {
     "name": "stdout",
     "output_type": "stream",
     "text": [
      "epi = 1\n",
      " 마지막 상태 :\n",
      "[[100.   1. 100. 100. 100. 100. 100. 100.   1.]\n",
      " [  1.   1.   1.   1.   1.   1.   1.  50.   1.]\n",
      " [100.   1.   1.   1.   1.   1.   1.   1. 100.]\n",
      " [100.   1. 150.   1. 150.   1. 150.   1.   1.]\n",
      " [100.   1. 150.   1. 150.   1. 150.   1.   1.]\n",
      " [100.   1. 150.   1. 150.   1. 150.   1.   1.]\n",
      " [  1.   1. 150.   1. 150.   1. 150.   1.   1.]\n",
      " [  1.   1.   1.   1.   1.   1.   1.   1.   1.]\n",
      " [  1.   1.   1.   1.   1.   1.   1.   1.   1.]\n",
      " [150. 150. 150. 150.   1. 150. 150. 150. 150.]]\n",
      " 이 때 한 행동 : →\n",
      " 마지막 보상 : -1\n",
      " 총 받은 보상 :4790.5999999999985\n",
      " end : True\n",
      " clear : True\n",
      "episode :1, score = 4694.504000000164, n_buffer :100000 , eps : 44.6\n"
     ]
    },
    {
     "name": "stderr",
     "output_type": "stream",
     "text": [
      " 26%|████████████████▌                                               | 15501/60000 [1:38:10<4:55:56,  2.51it/s]"
     ]
    },
    {
     "name": "stdout",
     "output_type": "stream",
     "text": [
      "epi = 1\n",
      " 마지막 상태 :\n",
      "[[100. 200. 100. 100. 100. 100. 100. 100. 200.]\n",
      " [  1.   1.   1.   1.   1.   1.  50.   1.   1.]\n",
      " [100.   1.   1.   1.   1.   1.   1.   1. 100.]\n",
      " [100.   1. 150.   1. 150.   1. 150.   1. 200.]\n",
      " [100.   1. 150.   1. 150.   1. 150.   1. 200.]\n",
      " [100.   1. 150.   1. 150.   1. 150.   1. 200.]\n",
      " [  1.   1. 150.   1. 150.   1. 150.   1.   1.]\n",
      " [  1.   1.   1.   1.   1.   1.   1.   1.   1.]\n",
      " [  1.   1.   1.   1.   1.   1.   1.   1.   1.]\n",
      " [150. 150. 150. 150.   1. 150. 150. 150. 150.]]\n",
      " 이 때 한 행동 : →\n",
      " 마지막 보상 : -1\n",
      " 총 받은 보상 :-122.59999999999985\n",
      " end : True\n",
      " clear : True\n",
      "episode :1, score = 4662.760000000216, n_buffer :100000 , eps : 44.5\n"
     ]
    },
    {
     "name": "stderr",
     "output_type": "stream",
     "text": [
      " 26%|████████████████▋                                               | 15601/60000 [1:38:42<4:00:00,  3.08it/s]"
     ]
    },
    {
     "name": "stdout",
     "output_type": "stream",
     "text": [
      "epi = 1\n",
      " 마지막 상태 :\n",
      "[[100.   1. 100. 100. 100. 100. 100. 100.   1.]\n",
      " [  1.   1.   1.   1.   1.   1.   1.   1.   1.]\n",
      " [100.   1.  50.   1.   1.   1.   1.   1. 100.]\n",
      " [100.   1. 150.   1. 150.   1. 150.   1.   1.]\n",
      " [100.   1. 150.   1. 150.   1. 150.   1.   1.]\n",
      " [100.   1. 150.   1. 150.   1. 150.   1.   1.]\n",
      " [  1.   1. 150.   1. 150.   1. 150.   1.   1.]\n",
      " [  1.   1.   1.   1.   1.   1.   1.   1.   1.]\n",
      " [  1.   1.   1.   1.   1.   1.   1.   1.   1.]\n",
      " [150. 150. 150. 150.   1. 150. 150. 150. 150.]]\n",
      " 이 때 한 행동 : ↓\n",
      " 마지막 보상 : -1\n",
      " 총 받은 보상 :4863.499999999993\n",
      " end : True\n",
      " clear : True\n",
      "episode :1, score = 4745.063000000177, n_buffer :100000 , eps : 44.4\n"
     ]
    },
    {
     "name": "stderr",
     "output_type": "stream",
     "text": [
      " 26%|████████████████▋                                               | 15701/60000 [1:39:15<3:44:18,  3.29it/s]"
     ]
    },
    {
     "name": "stdout",
     "output_type": "stream",
     "text": [
      "epi = 1\n",
      " 마지막 상태 :\n",
      "[[100.   1. 100. 100. 100. 100. 100. 100.   1.]\n",
      " [  1.   1.   1.   1.   1.   1.   1.   1.   1.]\n",
      " [100.   1.   1.   1.   1.   1.  50.   1. 100.]\n",
      " [100.   1. 150.   1. 150.   1. 150.   1.   1.]\n",
      " [100.   1. 150.   1. 150.   1. 150.   1.   1.]\n",
      " [100.   1. 150.   1. 150.   1. 150.   1.   1.]\n",
      " [  1.   1. 150.   1. 150.   1. 150.   1.   1.]\n",
      " [  1.   1.   1.   1.   1.   1.   1.   1.   1.]\n",
      " [  1.   1.   1.   1.   1.   1.   1.   1.   1.]\n",
      " [150. 150. 150. 150.   1. 150. 150. 150. 150.]]\n",
      " 이 때 한 행동 : ↓\n",
      " 마지막 보상 : -1\n",
      " 총 받은 보상 :4840.999999999998\n",
      " end : True\n",
      " clear : True\n",
      "episode :1, score = 4795.108000000165, n_buffer :100000 , eps : 44.3\n"
     ]
    },
    {
     "name": "stderr",
     "output_type": "stream",
     "text": [
      " 26%|████████████████▊                                               | 15801/60000 [1:39:47<3:51:09,  3.19it/s]"
     ]
    },
    {
     "name": "stdout",
     "output_type": "stream",
     "text": [
      "epi = 1\n",
      " 마지막 상태 :\n",
      "[[100.   1. 100. 100. 100. 100. 100. 100.   1.]\n",
      " [  1.   1.   1.   1.   1.   1.   1.   1.   1.]\n",
      " [100.   1.   1.   1.   1.   1.   1.   1. 100.]\n",
      " [100.  50. 150.   1. 150.   1. 150.   1.   1.]\n",
      " [100.   1. 150.   1. 150.   1. 150.   1.   1.]\n",
      " [100.   1. 150.   1. 150.   1. 150.   1.   1.]\n",
      " [  1.   1. 150.   1. 150.   1. 150.   1.   1.]\n",
      " [  1.   1.   1.   1.   1.   1.   1.   1.   1.]\n",
      " [  1.   1.   1.   1.   1.   1.   1.   1.   1.]\n",
      " [150. 150. 150. 150.   1. 150. 150. 150. 150.]]\n",
      " 이 때 한 행동 : ↓\n",
      " 마지막 보상 : -1\n",
      " 총 받은 보상 :4863.499999999991\n",
      " end : True\n",
      " clear : True\n",
      "episode :1, score = 4778.504000000246, n_buffer :100000 , eps : 44.2\n"
     ]
    },
    {
     "name": "stderr",
     "output_type": "stream",
     "text": [
      " 27%|████████████████▉                                               | 15901/60000 [1:40:21<4:08:56,  2.95it/s]"
     ]
    },
    {
     "name": "stdout",
     "output_type": "stream",
     "text": [
      "epi = 1\n",
      " 마지막 상태 :\n",
      "[[100. 200. 100. 100. 100. 100. 100. 100.   1.]\n",
      " [  1.   1.   1.   1.   1.  50.   1.   1.   1.]\n",
      " [100.   1.   1.   1.   1.   1.   1.   1. 100.]\n",
      " [100.   1. 150.   1. 150.   1. 150.   1.   1.]\n",
      " [100.   1. 150.   1. 150.   1. 150.   1.   1.]\n",
      " [100.   1. 150.   1. 150.   1. 150.   1.   1.]\n",
      " [  1.   1. 150.   1. 150.   1. 150.   1.   1.]\n",
      " [  1.   1.   1.   1.   1.   1.   1.   1.   1.]\n",
      " [  1.   1.   1.   1.   1.   1.   1.   1.   1.]\n",
      " [150. 150. 150. 150.   1. 150. 150. 150. 150.]]\n",
      " 이 때 한 행동 : ←\n",
      " 마지막 보상 : -1\n",
      " 총 받은 보상 :3932.700000000004\n",
      " end : True\n",
      " clear : True\n",
      "episode :1, score = 4749.743000000204, n_buffer :100000 , eps : 44.1\n"
     ]
    },
    {
     "name": "stderr",
     "output_type": "stream",
     "text": [
      " 27%|█████████████████                                               | 16001/60000 [1:40:54<4:03:31,  3.01it/s]"
     ]
    },
    {
     "name": "stdout",
     "output_type": "stream",
     "text": [
      "epi = 1\n",
      " 마지막 상태 :\n",
      "[[100.   1. 100. 100. 100. 100. 100. 100. 200.]\n",
      " [  1.   1.   1.   1.   1.   1.   1.   1.   1.]\n",
      " [100.  50.   1.   1.   1.   1.   1.   1. 100.]\n",
      " [100.   1. 150.   1. 150.   1. 150.   1.   1.]\n",
      " [100.   1. 150.   1. 150.   1. 150.   1.   1.]\n",
      " [100.   1. 150.   1. 150.   1. 150.   1.   1.]\n",
      " [  1.   1. 150.   1. 150.   1. 150.   1.   1.]\n",
      " [  1.   1.   1.   1.   1.   1.   1.   1.   1.]\n",
      " [  1.   1.   1.   1.   1.   1.   1.   1.   1.]\n",
      " [150. 150. 150. 150.   1. 150. 150. 150. 150.]]\n",
      " 이 때 한 행동 : ↑\n",
      " 마지막 보상 : -1\n",
      " 총 받은 보상 :3865.2000000000025\n",
      " end : True\n",
      " clear : True\n",
      "episode :1, score = 4729.439000000246, n_buffer :100000 , eps : 44.0\n"
     ]
    },
    {
     "name": "stderr",
     "output_type": "stream",
     "text": [
      " 27%|█████████████████▏                                              | 16101/60000 [1:41:26<4:01:49,  3.03it/s]"
     ]
    },
    {
     "name": "stdout",
     "output_type": "stream",
     "text": [
      "epi = 1\n",
      " 마지막 상태 :\n",
      "[[100.   1. 100. 100. 100. 100. 100. 100.   1.]\n",
      " [  1.   1.   1.   1.   1.   1.  50.   1.   1.]\n",
      " [100.   1.   1.   1.   1.   1.   1.   1. 100.]\n",
      " [100.   1. 150.   1. 150.   1. 150.   1.   1.]\n",
      " [100.   1. 150.   1. 150.   1. 150.   1.   1.]\n",
      " [100.   1. 150.   1. 150.   1. 150.   1.   1.]\n",
      " [  1.   1. 150.   1. 150.   1. 150.   1.   1.]\n",
      " [  1.   1.   1.   1.   1.   1.   1.   1.   1.]\n",
      " [  1.   1.   1.   1.   1.   1.   1.   1.   1.]\n",
      " [150. 150. 150. 150.   1. 150. 150. 150. 150.]]\n",
      " 이 때 한 행동 : →\n",
      " 마지막 보상 : -1\n",
      " 총 받은 보상 :4862.599999999991\n",
      " end : True\n",
      " clear : True\n",
      "episode :1, score = 4572.640000000227, n_buffer :100000 , eps : 43.9\n"
     ]
    },
    {
     "name": "stderr",
     "output_type": "stream",
     "text": [
      " 27%|█████████████████▎                                              | 16201/60000 [1:42:00<4:22:24,  2.78it/s]"
     ]
    },
    {
     "name": "stdout",
     "output_type": "stream",
     "text": [
      "epi = 1\n",
      " 마지막 상태 :\n",
      "[[100.   1. 100. 100. 100. 100. 100. 100.   1.]\n",
      " [ 50.   1.   1.   1.   1.   1.   1.   1.   1.]\n",
      " [100.   1.   1.   1.   1.   1.   1.   1. 100.]\n",
      " [100.   1. 150.   1. 150.   1. 150.   1.   1.]\n",
      " [100.   1. 150.   1. 150.   1. 150.   1.   1.]\n",
      " [100.   1. 150.   1. 150.   1. 150.   1.   1.]\n",
      " [  1.   1. 150.   1. 150.   1. 150.   1.   1.]\n",
      " [  1.   1.   1.   1.   1.   1.   1.   1.   1.]\n",
      " [  1.   1.   1.   1.   1.   1.   1.   1.   1.]\n",
      " [150. 150. 150. 150.   1. 150. 150. 150. 150.]]\n",
      " 이 때 한 행동 : ←\n",
      " 마지막 보상 : -10\n",
      " 총 받은 보상 :4838.29999999999\n",
      " end : True\n",
      " clear : True\n",
      "episode :1, score = 4773.270000000235, n_buffer :100000 , eps : 43.8\n"
     ]
    },
    {
     "name": "stderr",
     "output_type": "stream",
     "text": [
      " 27%|█████████████████▍                                              | 16301/60000 [1:42:38<4:12:02,  2.89it/s]"
     ]
    },
    {
     "name": "stdout",
     "output_type": "stream",
     "text": [
      "epi = 1\n",
      " 마지막 상태 :\n",
      "[[100.   1. 100. 100. 100. 100. 100. 100.   1.]\n",
      " [  1.   1.   1.   1.   1.   1.   1.   1.   1.]\n",
      " [100.  50.   1.   1.   1.   1.   1.   1. 100.]\n",
      " [100.   1. 150.   1. 150.   1. 150.   1.   1.]\n",
      " [100.   1. 150.   1. 150.   1. 150.   1.   1.]\n",
      " [100.   1. 150.   1. 150.   1. 150.   1.   1.]\n",
      " [  1.   1. 150.   1. 150.   1. 150.   1.   1.]\n",
      " [  1.   1.   1.   1.   1.   1.   1.   1.   1.]\n",
      " [  1.   1.   1.   1.   1.   1.   1.   1.   1.]\n",
      " [150. 150. 150. 150.   1. 150. 150. 150. 150.]]\n",
      " 이 때 한 행동 : ↑\n",
      " 마지막 보상 : -1\n",
      " 총 받은 보상 :4876.9999999999945\n",
      " end : True\n",
      " clear : True\n",
      "episode :1, score = 4800.2250000002605, n_buffer :100000 , eps : 43.7\n"
     ]
    },
    {
     "name": "stderr",
     "output_type": "stream",
     "text": [
      " 27%|█████████████████▍                                              | 16401/60000 [1:43:12<3:52:15,  3.13it/s]"
     ]
    },
    {
     "name": "stdout",
     "output_type": "stream",
     "text": [
      "epi = 1\n",
      " 마지막 상태 :\n",
      "[[100.   1. 100. 100. 100. 100. 100. 100.   1.]\n",
      " [  1.   1.   1.   1.   1.   1.   1.   1.   1.]\n",
      " [100.   1.   1.   1.   1.   1.   1.   1. 100.]\n",
      " [100.  50. 150.   1. 150.   1. 150.   1.   1.]\n",
      " [100.   1. 150.   1. 150.   1. 150.   1.   1.]\n",
      " [100.   1. 150.   1. 150.   1. 150.   1.   1.]\n",
      " [  1.   1. 150.   1. 150.   1. 150.   1.   1.]\n",
      " [  1.   1.   1.   1.   1.   1.   1.   1.   1.]\n",
      " [  1.   1.   1.   1.   1.   1.   1.   1.   1.]\n",
      " [150. 150. 150. 150.   1. 150. 150. 150. 150.]]\n",
      " 이 때 한 행동 : ←\n",
      " 마지막 보상 : -0.1\n",
      " 총 받은 보상 :4835.599999999991\n",
      " end : True\n",
      " clear : True\n",
      "episode :1, score = 4757.984000000189, n_buffer :100000 , eps : 43.6\n"
     ]
    },
    {
     "name": "stderr",
     "output_type": "stream",
     "text": [
      " 28%|█████████████████▌                                              | 16501/60000 [1:43:41<3:13:05,  3.75it/s]"
     ]
    },
    {
     "name": "stdout",
     "output_type": "stream",
     "text": [
      "epi = 1\n",
      " 마지막 상태 :\n",
      "[[100.   1. 100. 100. 100. 100. 100. 100.   1.]\n",
      " [  1.   1.   1.   1.   1.   1.   1.   1.   1.]\n",
      " [100.  50.   1.   1.   1.   1.   1.   1. 100.]\n",
      " [100.   1. 150.   1. 150.   1. 150.   1.   1.]\n",
      " [100.   1. 150.   1. 150.   1. 150.   1.   1.]\n",
      " [100.   1. 150.   1. 150.   1. 150.   1.   1.]\n",
      " [  1.   1. 150.   1. 150.   1. 150.   1.   1.]\n",
      " [  1.   1.   1.   1.   1.   1.   1.   1.   1.]\n",
      " [  1.   1.   1.   1.   1.   1.   1.   1.   1.]\n",
      " [150. 150. 150. 150.   1. 150. 150. 150. 150.]]\n",
      " 이 때 한 행동 : ←\n",
      " 마지막 보상 : -0.1\n",
      " 총 받은 보상 :4872.499999999991\n",
      " end : True\n",
      " clear : True\n",
      "episode :1, score = 4665.226000000214, n_buffer :100000 , eps : 43.5\n"
     ]
    },
    {
     "name": "stderr",
     "output_type": "stream",
     "text": [
      " 28%|█████████████████▋                                              | 16601/60000 [1:44:20<4:00:34,  3.01it/s]"
     ]
    },
    {
     "name": "stdout",
     "output_type": "stream",
     "text": [
      "epi = 1\n",
      " 마지막 상태 :\n",
      "[[100.   1. 100. 100. 100. 100. 100. 100.   1.]\n",
      " [  1.   1.   1.   1.   1.   1.   1.   1.   1.]\n",
      " [100.  50.   1.   1.   1.   1.   1.   1. 100.]\n",
      " [100.   1. 150.   1. 150.   1. 150.   1.   1.]\n",
      " [100.   1. 150.   1. 150.   1. 150.   1.   1.]\n",
      " [100.   1. 150.   1. 150.   1. 150.   1.   1.]\n",
      " [  1.   1. 150.   1. 150.   1. 150.   1.   1.]\n",
      " [  1.   1.   1.   1.   1.   1.   1.   1.   1.]\n",
      " [  1.   1.   1.   1.   1.   1.   1.   1.   1.]\n",
      " [150. 150. 150. 150.   1. 150. 150. 150. 150.]]\n",
      " 이 때 한 행동 : ↓\n",
      " 마지막 보상 : -1\n",
      " 총 받은 보상 :4872.499999999999\n",
      " end : True\n",
      " clear : True\n",
      "episode :1, score = 4607.99100000017, n_buffer :100000 , eps : 43.4\n"
     ]
    },
    {
     "name": "stderr",
     "output_type": "stream",
     "text": [
      " 28%|█████████████████▊                                              | 16701/60000 [1:44:51<3:02:40,  3.95it/s]"
     ]
    },
    {
     "name": "stdout",
     "output_type": "stream",
     "text": [
      "epi = 1\n",
      " 마지막 상태 :\n",
      "[[100.   1. 100. 100. 100. 100. 100. 100.   1.]\n",
      " [  1.   1.   1.   1.   1.   1.   1.   1.   1.]\n",
      " [100.  50.   1.   1.   1.   1.   1.   1. 100.]\n",
      " [100.   1. 150.   1. 150.   1. 150.   1.   1.]\n",
      " [100.   1. 150.   1. 150.   1. 150.   1.   1.]\n",
      " [100.   1. 150.   1. 150.   1. 150.   1.   1.]\n",
      " [  1.   1. 150.   1. 150.   1. 150.   1.   1.]\n",
      " [  1.   1.   1.   1.   1.   1.   1.   1.   1.]\n",
      " [  1.   1.   1.   1.   1.   1.   1.   1.   1.]\n",
      " [150. 150. 150. 150.   1. 150. 150. 150. 150.]]\n",
      " 이 때 한 행동 : ↓\n",
      " 마지막 보상 : -1\n",
      " 총 받은 보상 :4843.699999999993\n",
      " end : True\n",
      " clear : True\n",
      "episode :1, score = 4634.356000000227, n_buffer :100000 , eps : 43.3\n"
     ]
    },
    {
     "name": "stderr",
     "output_type": "stream",
     "text": [
      " 28%|█████████████████▉                                              | 16801/60000 [1:45:24<3:42:35,  3.23it/s]"
     ]
    },
    {
     "name": "stdout",
     "output_type": "stream",
     "text": [
      "epi = 1\n",
      " 마지막 상태 :\n",
      "[[100.   1. 100. 100. 100. 100. 100. 100.   1.]\n",
      " [  1.   1.   1.   1.   1.   1.   1.   1.   1.]\n",
      " [100.   1.   1.   1.  50.   1.   1.   1. 100.]\n",
      " [100.   1. 150.   1. 150.   1. 150.   1.   1.]\n",
      " [100.   1. 150.   1. 150.   1. 150.   1.   1.]\n",
      " [100.   1. 150.   1. 150.   1. 150.   1.   1.]\n",
      " [  1.   1. 150.   1. 150.   1. 150.   1.   1.]\n",
      " [  1.   1.   1.   1.   1.   1.   1.   1.   1.]\n",
      " [  1.   1.   1.   1.   1.   1.   1.   1.   1.]\n",
      " [150. 150. 150. 150.   1. 150. 150. 150. 150.]]\n",
      " 이 때 한 행동 : ↓\n",
      " 마지막 보상 : -10\n",
      " 총 받은 보상 :4795.1\n",
      " end : True\n",
      " clear : True\n",
      "episode :1, score = 4584.729000000217, n_buffer :100000 , eps : 43.2\n"
     ]
    },
    {
     "name": "stderr",
     "output_type": "stream",
     "text": [
      " 28%|██████████████████                                              | 16901/60000 [1:45:58<4:47:49,  2.50it/s]"
     ]
    },
    {
     "name": "stdout",
     "output_type": "stream",
     "text": [
      "epi = 1\n",
      " 마지막 상태 :\n",
      "[[100.   1. 100. 100. 100. 100. 100. 100.   1.]\n",
      " [ 50.   1.   1.   1.   1.   1.   1.   1.   1.]\n",
      " [100.   1.   1.   1.   1.   1.   1.   1. 100.]\n",
      " [100.   1. 150.   1. 150.   1. 150.   1.   1.]\n",
      " [100.   1. 150.   1. 150.   1. 150.   1.   1.]\n",
      " [100.   1. 150.   1. 150.   1. 150.   1.   1.]\n",
      " [  1.   1. 150.   1. 150.   1. 150.   1.   1.]\n",
      " [  1.   1.   1.   1.   1.   1.   1.   1.   1.]\n",
      " [  1.   1.   1.   1.   1.   1.   1.   1.   1.]\n",
      " [150. 150. 150. 150.   1. 150. 150. 150. 150.]]\n",
      " 이 때 한 행동 : ←\n",
      " 마지막 보상 : -1\n",
      " 총 받은 보상 :4903.099999999986\n",
      " end : True\n",
      " clear : True\n",
      "episode :1, score = 4591.666000000206, n_buffer :100000 , eps : 43.1\n"
     ]
    },
    {
     "name": "stderr",
     "output_type": "stream",
     "text": [
      " 28%|██████████████████▏                                             | 17001/60000 [1:46:31<3:20:52,  3.57it/s]"
     ]
    },
    {
     "name": "stdout",
     "output_type": "stream",
     "text": [
      "epi = 1\n",
      " 마지막 상태 :\n",
      "[[100.   1. 100. 100. 100. 100. 100. 100.   1.]\n",
      " [ 50.   1.   1.   1.   1.   1.   1.   1.   1.]\n",
      " [100.   1.   1.   1.   1.   1.   1.   1. 100.]\n",
      " [100.   1. 150.   1. 150.   1. 150.   1.   1.]\n",
      " [100.   1. 150.   1. 150.   1. 150.   1.   1.]\n",
      " [100.   1. 150.   1. 150.   1. 150.   1.   1.]\n",
      " [  1.   1. 150.   1. 150.   1. 150.   1.   1.]\n",
      " [  1.   1.   1.   1.   1.   1.   1.   1.   1.]\n",
      " [  1.   1.   1.   1.   1.   1.   1.   1.   1.]\n",
      " [150. 150. 150. 150.   1. 150. 150. 150. 150.]]\n",
      " 이 때 한 행동 : ←\n",
      " 마지막 보상 : -10\n",
      " 총 받은 보상 :4884.199999999992\n",
      " end : True\n",
      " clear : True\n",
      "episode :1, score = 4355.365000000174, n_buffer :100000 , eps : 43.0\n"
     ]
    },
    {
     "name": "stderr",
     "output_type": "stream",
     "text": [
      " 29%|██████████████████▏                                             | 17101/60000 [1:47:05<3:45:07,  3.18it/s]"
     ]
    },
    {
     "name": "stdout",
     "output_type": "stream",
     "text": [
      "epi = 1\n",
      " 마지막 상태 :\n",
      "[[100. 200. 100. 100. 100. 100. 100. 100.   1.]\n",
      " [  1.   1.   1.   1.   1.   1.   1.   1.   1.]\n",
      " [100.   1.   1.   1.   1.   1.   1.   1. 100.]\n",
      " [100.   1. 150.   1. 150.   1. 150.   1.   1.]\n",
      " [100.   1. 150.   1. 150.   1. 150.   1.   1.]\n",
      " [100.   1. 150.   1. 150.   1. 150.   1.   1.]\n",
      " [  1.   1. 150.   1. 150.   1. 150.   1.   1.]\n",
      " [  1.   1.   1.   1.   1.   1.   1.   1.  50.]\n",
      " [  1.   1.   1.   1.   1.   1.   1.   1.   1.]\n",
      " [150. 150. 150. 150.   1. 150. 150. 150. 150.]]\n",
      " 이 때 한 행동 : ↓\n",
      " 마지막 보상 : -1\n",
      " 총 받은 보상 :3789.6000000000004\n",
      " end : True\n",
      " clear : True\n",
      "episode :1, score = 4230.751000000174, n_buffer :100000 , eps : 42.9\n"
     ]
    },
    {
     "name": "stderr",
     "output_type": "stream",
     "text": [
      " 29%|██████████████████▎                                             | 17201/60000 [1:47:39<3:32:22,  3.36it/s]"
     ]
    },
    {
     "name": "stdout",
     "output_type": "stream",
     "text": [
      "epi = 1\n",
      " 마지막 상태 :\n",
      "[[100.   1. 100. 100. 100. 100. 100. 100.   1.]\n",
      " [  1.   1.   1.   1.   1.   1.   1.   1.  50.]\n",
      " [100.   1.   1.   1.   1.   1.   1.   1. 100.]\n",
      " [100.   1. 150.   1. 150.   1. 150.   1.   1.]\n",
      " [100.   1. 150.   1. 150.   1. 150.   1.   1.]\n",
      " [100.   1. 150.   1. 150.   1. 150.   1.   1.]\n",
      " [  1.   1. 150.   1. 150.   1. 150.   1.   1.]\n",
      " [  1.   1.   1.   1.   1.   1.   1.   1.   1.]\n",
      " [  1.   1.   1.   1.   1.   1.   1.   1.   1.]\n",
      " [150. 150. 150. 150.   1. 150. 150. 150. 150.]]\n",
      " 이 때 한 행동 : ↓\n",
      " 마지막 보상 : -0.1\n",
      " 총 받은 보상 :4888.700000000001\n",
      " end : True\n",
      " clear : True\n",
      "episode :1, score = 4119.942000000163, n_buffer :100000 , eps : 42.8\n"
     ]
    },
    {
     "name": "stderr",
     "output_type": "stream",
     "text": [
      " 29%|██████████████████▍                                             | 17301/60000 [1:48:13<4:01:03,  2.95it/s]"
     ]
    },
    {
     "name": "stdout",
     "output_type": "stream",
     "text": [
      "epi = 1\n",
      " 마지막 상태 :\n",
      "[[100. 200. 100. 100. 100. 100. 100. 100.   1.]\n",
      " [  1.   1.   1.   1.   1.   1.   1.   1.   1.]\n",
      " [100.  50.   1.   1.   1.   1.   1.   1. 100.]\n",
      " [100.   1. 150.   1. 150.   1. 150.   1.   1.]\n",
      " [100.   1. 150.   1. 150.   1. 150.   1.   1.]\n",
      " [100.   1. 150.   1. 150.   1. 150.   1.   1.]\n",
      " [  1.   1. 150.   1. 150.   1. 150.   1.   1.]\n",
      " [  1.   1.   1.   1.   1.   1.   1.   1.   1.]\n",
      " [  1.   1.   1.   1.   1.   1.   1.   1.   1.]\n",
      " [150. 150. 150. 150.   1. 150. 150. 150. 150.]]\n",
      " 이 때 한 행동 : ←\n",
      " 마지막 보상 : -0.1\n",
      " 총 받은 보상 :3898.500000000003\n",
      " end : True\n",
      " clear : True\n",
      "episode :1, score = 4140.2360000001, n_buffer :100000 , eps : 42.699999999999996\n"
     ]
    },
    {
     "name": "stderr",
     "output_type": "stream",
     "text": [
      " 29%|██████████████████▌                                             | 17401/60000 [1:49:04<4:15:27,  2.78it/s]"
     ]
    },
    {
     "name": "stdout",
     "output_type": "stream",
     "text": [
      "epi = 1\n",
      " 마지막 상태 :\n",
      "[[100.   1. 100. 100. 100. 100. 100. 100.   1.]\n",
      " [  1.   1.   1.   1.   1.   1.   1.   1.   1.]\n",
      " [100.   1.  50.   1.   1.   1.   1.   1. 100.]\n",
      " [100.   1. 150.   1. 150.   1. 150.   1.   1.]\n",
      " [100.   1. 150.   1. 150.   1. 150.   1.   1.]\n",
      " [100.   1. 150.   1. 150.   1. 150.   1.   1.]\n",
      " [  1.   1. 150.   1. 150.   1. 150.   1.   1.]\n",
      " [  1.   1.   1.   1.   1.   1.   1.   1.   1.]\n",
      " [  1.   1.   1.   1.   1.   1.   1.   1.   1.]\n",
      " [150. 150. 150. 150.   1. 150. 150. 150. 150.]]\n",
      " 이 때 한 행동 : →\n",
      " 마지막 보상 : -1\n",
      " 총 받은 보상 :4822.1\n",
      " end : True\n",
      " clear : True\n",
      "episode :1, score = 4642.808000000112, n_buffer :100000 , eps : 42.6\n"
     ]
    },
    {
     "name": "stderr",
     "output_type": "stream",
     "text": [
      " 29%|██████████████████▋                                             | 17501/60000 [1:49:33<3:34:49,  3.30it/s]"
     ]
    },
    {
     "name": "stdout",
     "output_type": "stream",
     "text": [
      "epi = 1\n",
      " 마지막 상태 :\n",
      "[[100. 200. 100. 100. 100. 100. 100. 100.   1.]\n",
      " [  1.   1.   1.   1.   1.   1.   1.   1.  50.]\n",
      " [100.   1.   1.   1.   1.   1.   1.   1. 100.]\n",
      " [100.   1. 150.   1. 150.   1. 150.   1.   1.]\n",
      " [100.   1. 150.   1. 150.   1. 150.   1.   1.]\n",
      " [100.   1. 150.   1. 150.   1. 150.   1.   1.]\n",
      " [  1.   1. 150.   1. 150.   1. 150.   1.   1.]\n",
      " [  1.   1.   1.   1.   1.   1.   1.   1.   1.]\n",
      " [  1.   1.   1.   1.   1.   1.   1.   1.   1.]\n",
      " [150. 150. 150. 150.   1. 150. 150. 150. 150.]]\n",
      " 이 때 한 행동 : ↓\n",
      " 마지막 보상 : -0.1\n",
      " 총 받은 보상 :3907.500000000004\n",
      " end : True\n",
      " clear : True\n",
      "episode :1, score = 4389.468000000253, n_buffer :100000 , eps : 42.5\n"
     ]
    },
    {
     "name": "stderr",
     "output_type": "stream",
     "text": [
      " 29%|██████████████████▊                                             | 17602/60000 [1:50:03<2:41:24,  4.38it/s]"
     ]
    },
    {
     "name": "stdout",
     "output_type": "stream",
     "text": [
      "epi = 1\n",
      " 마지막 상태 :\n",
      "[[100.   1. 100. 100. 100. 100. 100. 100.   1.]\n",
      " [  1.   1.   1.   1.   1.   1.   1.   1.   1.]\n",
      " [100.   1.   1.   1.   1.   1.   1.   1. 100.]\n",
      " [100.   1. 150.   1. 150.   1. 150.   1.   1.]\n",
      " [100.   1. 150.   1. 150.   1. 150.   1.   1.]\n",
      " [100.   1. 150.   1. 150.   1. 150.   1.   1.]\n",
      " [  1.   1. 150.   1. 150.   1. 150.   1.   1.]\n",
      " [  1.   1.   1.   1.   1.   1.   1.   1.   1.]\n",
      " [  1.   1.   1.   1.   1.   1.   1.  50.   1.]\n",
      " [150. 150. 150. 150.   1. 150. 150. 150. 150.]]\n",
      " 이 때 한 행동 : ↓\n",
      " 마지막 보상 : -1\n",
      " 총 받은 보상 :4829.300000000001\n",
      " end : True\n",
      " clear : True\n",
      "episode :1, score = 4474.480000000155, n_buffer :100000 , eps : 42.4\n"
     ]
    },
    {
     "name": "stderr",
     "output_type": "stream",
     "text": [
      " 30%|██████████████████▉                                             | 17701/60000 [1:50:48<4:11:56,  2.80it/s]"
     ]
    },
    {
     "name": "stdout",
     "output_type": "stream",
     "text": [
      "epi = 1\n",
      " 마지막 상태 :\n",
      "[[100. 200. 100. 100. 100. 100. 100. 100. 200.]\n",
      " [  1.   1.   1.  50.   1.   1.   1.   1.   1.]\n",
      " [100.   1.   1.   1.   1.   1.   1.   1. 100.]\n",
      " [100.   1. 150.   1. 150.   1. 150.   1.   1.]\n",
      " [100.   1. 150.   1. 150.   1. 150.   1.   1.]\n",
      " [100.   1. 150.   1. 150.   1. 150.   1.   1.]\n",
      " [  1.   1. 150.   1. 150.   1. 150.   1.   1.]\n",
      " [  1.   1.   1.   1.   1.   1.   1.   1.   1.]\n",
      " [  1.   1.   1.   1.   1.   1.   1.   1.   1.]\n",
      " [150. 150. 150. 150.   1. 150. 150. 150. 150.]]\n",
      " 이 때 한 행동 : ↑\n",
      " 마지막 보상 : -0.1\n",
      " 총 받은 보상 :2938.9000000000046\n",
      " end : True\n",
      " clear : True\n",
      "episode :1, score = 4459.074000000275, n_buffer :100000 , eps : 42.3\n"
     ]
    },
    {
     "name": "stderr",
     "output_type": "stream",
     "text": [
      " 30%|██████████████████▉                                             | 17801/60000 [1:51:21<2:42:23,  4.33it/s]"
     ]
    },
    {
     "name": "stdout",
     "output_type": "stream",
     "text": [
      "epi = 1\n",
      " 마지막 상태 :\n",
      "[[100.   1. 100. 100. 100. 100. 100. 100.   1.]\n",
      " [ 50.   1.   1.   1.   1.   1.   1.   1.   1.]\n",
      " [100.   1.   1.   1.   1.   1.   1.   1. 100.]\n",
      " [100.   1. 150.   1. 150.   1. 150.   1.   1.]\n",
      " [100.   1. 150.   1. 150.   1. 150.   1.   1.]\n",
      " [100.   1. 150.   1. 150.   1. 150.   1.   1.]\n",
      " [  1.   1. 150.   1. 150.   1. 150.   1.   1.]\n",
      " [  1.   1.   1.   1.   1.   1.   1.   1.   1.]\n",
      " [  1.   1.   1.   1.   1.   1.   1.   1.   1.]\n",
      " [150. 150. 150. 150.   1. 150. 150. 150. 150.]]\n",
      " 이 때 한 행동 : ↑\n",
      " 마지막 보상 : -0.1\n",
      " 총 받은 보상 :4899.4999999999945\n",
      " end : True\n",
      " clear : True\n",
      "episode :1, score = 4541.594000000127, n_buffer :100000 , eps : 42.199999999999996\n"
     ]
    },
    {
     "name": "stderr",
     "output_type": "stream",
     "text": [
      " 30%|███████████████████                                             | 17901/60000 [1:51:48<2:51:02,  4.10it/s]"
     ]
    },
    {
     "name": "stdout",
     "output_type": "stream",
     "text": [
      "epi = 1\n",
      " 마지막 상태 :\n",
      "[[100.   1. 100. 100. 100. 100. 100. 100.   1.]\n",
      " [  1.   1.   1.   1.   1.   1.   1.   1.   1.]\n",
      " [100.   1.   1.   1.   1.   1.   1.   1. 100.]\n",
      " [100.   1. 150.   1. 150.   1. 150.   1.   1.]\n",
      " [100.   1. 150.   1. 150.   1. 150.   1.   1.]\n",
      " [100.   1. 150.   1. 150.   1. 150.   1.   1.]\n",
      " [  1.   1. 150.   1. 150.   1. 150.   1.   1.]\n",
      " [  1.   1.   1.   1.   1.  50.   1.   1.   1.]\n",
      " [  1.   1.   1.   1.   1.   1.   1.   1.   1.]\n",
      " [150. 150. 150. 150.   1. 150. 150. 150. 150.]]\n",
      " 이 때 한 행동 : ↓\n",
      " 마지막 보상 : -1\n",
      " 총 받은 보상 :4849.0999999999985\n",
      " end : True\n",
      " clear : True\n",
      "episode :1, score = 4687.9010000002345, n_buffer :100000 , eps : 42.1\n"
     ]
    },
    {
     "name": "stderr",
     "output_type": "stream",
     "text": [
      " 30%|███████████████████▏                                            | 18001/60000 [1:52:20<3:50:33,  3.04it/s]"
     ]
    },
    {
     "name": "stdout",
     "output_type": "stream",
     "text": [
      "epi = 1\n",
      " 마지막 상태 :\n",
      "[[100.   1. 100. 100. 100. 100. 100. 100.   1.]\n",
      " [  1.   1.   1.   1.   1.   1.   1.   1.   1.]\n",
      " [100.  50.   1.   1.   1.   1.   1.   1. 100.]\n",
      " [100.   1. 150.   1. 150.   1. 150.   1.   1.]\n",
      " [100.   1. 150.   1. 150.   1. 150.   1.   1.]\n",
      " [100.   1. 150.   1. 150.   1. 150.   1.   1.]\n",
      " [  1.   1. 150.   1. 150.   1. 150.   1.   1.]\n",
      " [  1.   1.   1.   1.   1.   1.   1.   1.   1.]\n",
      " [  1.   1.   1.   1.   1.   1.   1.   1.   1.]\n",
      " [150. 150. 150. 150.   1. 150. 150. 150. 150.]]\n",
      " 이 때 한 행동 : ↑\n",
      " 마지막 보상 : -1\n",
      " 총 받은 보상 :4847.299999999988\n",
      " end : True\n",
      " clear : True\n",
      "episode :1, score = 4402.4690000001, n_buffer :100000 , eps : 42.0\n"
     ]
    },
    {
     "name": "stderr",
     "output_type": "stream",
     "text": [
      " 30%|███████████████████▎                                            | 18101/60000 [1:52:49<3:36:04,  3.23it/s]"
     ]
    },
    {
     "name": "stdout",
     "output_type": "stream",
     "text": [
      "epi = 1\n",
      " 마지막 상태 :\n",
      "[[100.   1. 100. 100. 100. 100. 100. 100.   1.]\n",
      " [  1.   1.   1.   1.   1.   1.   1.   1.   1.]\n",
      " [100.   1.   1.   1.   1.   1.   1.   1. 100.]\n",
      " [100.   1. 150.   1. 150.   1. 150.   1.   1.]\n",
      " [100.  50. 150.   1. 150.   1. 150.   1.   1.]\n",
      " [100.   1. 150.   1. 150.   1. 150.   1.   1.]\n",
      " [  1.   1. 150.   1. 150.   1. 150.   1.   1.]\n",
      " [  1.   1.   1.   1.   1.   1.   1.   1.   1.]\n",
      " [  1.   1.   1.   1.   1.   1.   1.   1.   1.]\n",
      " [150. 150. 150. 150.   1. 150. 150. 150. 150.]]\n",
      " 이 때 한 행동 : ←\n",
      " 마지막 보상 : -0.1\n",
      " 총 받은 보상 :4877.899999999988\n",
      " end : True\n",
      " clear : True\n",
      "episode :1, score = 4703.733000000227, n_buffer :100000 , eps : 41.9\n"
     ]
    },
    {
     "name": "stderr",
     "output_type": "stream",
     "text": [
      " 30%|███████████████████▍                                            | 18201/60000 [1:53:22<3:40:46,  3.16it/s]"
     ]
    },
    {
     "name": "stdout",
     "output_type": "stream",
     "text": [
      "epi = 1\n",
      " 마지막 상태 :\n",
      "[[100.   1. 100. 100. 100. 100. 100. 100.   1.]\n",
      " [  1.   1.   1.   1.   1.   1.   1.   1.   1.]\n",
      " [100.  50.   1.   1.   1.   1.   1.   1. 100.]\n",
      " [100.   1. 150.   1. 150.   1. 150.   1.   1.]\n",
      " [100.   1. 150.   1. 150.   1. 150.   1.   1.]\n",
      " [100.   1. 150.   1. 150.   1. 150.   1.   1.]\n",
      " [  1.   1. 150.   1. 150.   1. 150.   1.   1.]\n",
      " [  1.   1.   1.   1.   1.   1.   1.   1.   1.]\n",
      " [  1.   1.   1.   1.   1.   1.   1.   1.   1.]\n",
      " [150. 150. 150. 150.   1. 150. 150. 150. 150.]]\n",
      " 이 때 한 행동 : ←\n",
      " 마지막 보상 : -0.1\n",
      " 총 받은 보상 :4894.099999999994\n",
      " end : True\n",
      " clear : True\n",
      "episode :1, score = 4766.140000000224, n_buffer :100000 , eps : 41.8\n"
     ]
    },
    {
     "name": "stderr",
     "output_type": "stream",
     "text": [
      " 31%|███████████████████▌                                            | 18301/60000 [1:53:54<4:32:10,  2.55it/s]"
     ]
    },
    {
     "name": "stdout",
     "output_type": "stream",
     "text": [
      "epi = 1\n",
      " 마지막 상태 :\n",
      "[[100.   1. 100. 100. 100. 100. 100. 100.   1.]\n",
      " [  1.   1.   1.   1.   1.   1.   1.   1.   1.]\n",
      " [100.   1.   1.   1.   1.   1.   1.   1. 100.]\n",
      " [100.  50. 150.   1. 150.   1. 150.   1.   1.]\n",
      " [100.   1. 150.   1. 150.   1. 150.   1.   1.]\n",
      " [100.   1. 150.   1. 150.   1. 150.   1.   1.]\n",
      " [  1.   1. 150.   1. 150.   1. 150.   1.   1.]\n",
      " [  1.   1.   1.   1.   1.   1.   1.   1.   1.]\n",
      " [  1.   1.   1.   1.   1.   1.   1.   1.   1.]\n",
      " [150. 150. 150. 150.   1. 150. 150. 150. 150.]]\n",
      " 이 때 한 행동 : ←\n",
      " 마지막 보상 : -0.1\n",
      " 총 받은 보상 :4853.599999999994\n",
      " end : True\n",
      " clear : True\n",
      "episode :1, score = 4722.021000000259, n_buffer :100000 , eps : 41.699999999999996\n"
     ]
    },
    {
     "name": "stderr",
     "output_type": "stream",
     "text": [
      " 31%|███████████████████▋                                            | 18401/60000 [1:54:24<3:40:36,  3.14it/s]"
     ]
    },
    {
     "name": "stdout",
     "output_type": "stream",
     "text": [
      "epi = 1\n",
      " 마지막 상태 :\n",
      "[[100.   1. 100. 100. 100. 100. 100. 100.   1.]\n",
      " [  1.   1.   1.   1.   1.   1.   1.   1.   1.]\n",
      " [100.  50.   1.   1.   1.   1.   1.   1. 100.]\n",
      " [100.   1. 150.   1. 150.   1. 150.   1.   1.]\n",
      " [100.   1. 150.   1. 150.   1. 150.   1.   1.]\n",
      " [100.   1. 150.   1. 150.   1. 150.   1.   1.]\n",
      " [  1.   1. 150.   1. 150.   1. 150.   1.   1.]\n",
      " [  1.   1.   1.   1.   1.   1.   1.   1.   1.]\n",
      " [  1.   1.   1.   1.   1.   1.   1.   1.   1.]\n",
      " [150. 150. 150. 150.   1. 150. 150. 150. 150.]]\n",
      " 이 때 한 행동 : ↑\n",
      " 마지막 보상 : -1\n",
      " 총 받은 보상 :4867.999999999998\n",
      " end : True\n",
      " clear : True\n",
      "episode :1, score = 4585.872000000141, n_buffer :100000 , eps : 41.6\n"
     ]
    },
    {
     "name": "stderr",
     "output_type": "stream",
     "text": [
      " 31%|███████████████████▋                                            | 18502/60000 [1:54:56<2:39:23,  4.34it/s]"
     ]
    },
    {
     "name": "stdout",
     "output_type": "stream",
     "text": [
      "epi = 1\n",
      " 마지막 상태 :\n",
      "[[100.   1. 100. 100. 100. 100. 100. 100.   1.]\n",
      " [  1.   1.   1.   1.   1.   1.   1.   1.   1.]\n",
      " [100.   1.   1.   1.   1.   1.   1.   1. 100.]\n",
      " [100.  50. 150.   1. 150.   1. 150.   1.   1.]\n",
      " [100.   1. 150.   1. 150.   1. 150.   1.   1.]\n",
      " [100.   1. 150.   1. 150.   1. 150.   1.   1.]\n",
      " [  1.   1. 150.   1. 150.   1. 150.   1.   1.]\n",
      " [  1.   1.   1.   1.   1.   1.   1.   1.   1.]\n",
      " [  1.   1.   1.   1.   1.   1.   1.   1.   1.]\n",
      " [150. 150. 150. 150.   1. 150. 150. 150. 150.]]\n",
      " 이 때 한 행동 : ←\n",
      " 마지막 보상 : -0.1\n",
      " 총 받은 보상 :4857.19999999999\n",
      " end : True\n",
      " clear : True\n",
      "episode :1, score = 4568.518000000233, n_buffer :100000 , eps : 41.5\n"
     ]
    },
    {
     "name": "stderr",
     "output_type": "stream",
     "text": [
      " 31%|███████████████████▊                                            | 18601/60000 [1:55:25<3:10:51,  3.62it/s]"
     ]
    },
    {
     "name": "stdout",
     "output_type": "stream",
     "text": [
      "epi = 1\n",
      " 마지막 상태 :\n",
      "[[100.   1. 100. 100. 100. 100. 100. 100.   1.]\n",
      " [  1.   1.   1.   1.   1.   1.   1.   1.   1.]\n",
      " [100.   1.   1.   1.   1.   1.   1.   1. 100.]\n",
      " [100.  50. 150.   1. 150.   1. 150.   1.   1.]\n",
      " [100.   1. 150.   1. 150.   1. 150.   1.   1.]\n",
      " [100.   1. 150.   1. 150.   1. 150.   1.   1.]\n",
      " [  1.   1. 150.   1. 150.   1. 150.   1.   1.]\n",
      " [  1.   1.   1.   1.   1.   1.   1.   1.   1.]\n",
      " [  1.   1.   1.   1.   1.   1.   1.   1.   1.]\n",
      " [150. 150. 150. 150.   1. 150. 150. 150. 150.]]\n",
      " 이 때 한 행동 : ←\n",
      " 마지막 보상 : -0.1\n",
      " 총 받은 보상 :4788.799999999996\n",
      " end : True\n",
      " clear : True\n",
      "episode :1, score = 4566.056000000164, n_buffer :100000 , eps : 41.4\n"
     ]
    },
    {
     "name": "stderr",
     "output_type": "stream",
     "text": [
      " 31%|███████████████████▉                                            | 18701/60000 [1:55:55<3:53:06,  2.95it/s]"
     ]
    },
    {
     "name": "stdout",
     "output_type": "stream",
     "text": [
      "epi = 1\n",
      " 마지막 상태 :\n",
      "[[100.   1. 100. 100. 100. 100. 100. 100.   1.]\n",
      " [  1.   1.   1.   1.   1.   1.   1.   1.   1.]\n",
      " [100.   1.   1.   1.   1.   1.   1.   1. 100.]\n",
      " [100.   1. 150.   1. 150.   1. 150.   1.   1.]\n",
      " [100.  50. 150.   1. 150.   1. 150.   1.   1.]\n",
      " [100.   1. 150.   1. 150.   1. 150.   1.   1.]\n",
      " [  1.   1. 150.   1. 150.   1. 150.   1.   1.]\n",
      " [  1.   1.   1.   1.   1.   1.   1.   1.   1.]\n",
      " [  1.   1.   1.   1.   1.   1.   1.   1.   1.]\n",
      " [150. 150. 150. 150.   1. 150. 150. 150. 150.]]\n",
      " 이 때 한 행동 : ←\n",
      " 마지막 보상 : -0.1\n",
      " 총 받은 보상 :4874.299999999984\n",
      " end : True\n",
      " clear : True\n",
      "episode :1, score = 4662.287000000235, n_buffer :100000 , eps : 41.3\n"
     ]
    },
    {
     "name": "stderr",
     "output_type": "stream",
     "text": [
      " 31%|████████████████████                                            | 18801/60000 [1:56:25<3:54:37,  2.93it/s]"
     ]
    },
    {
     "name": "stdout",
     "output_type": "stream",
     "text": [
      "epi = 1\n",
      " 마지막 상태 :\n",
      "[[100.   1. 100. 100. 100. 100. 100. 100.   1.]\n",
      " [  1.   1.   1.   1.   1.   1.  50.   1.   1.]\n",
      " [100.   1.   1.   1.   1.   1.   1.   1. 100.]\n",
      " [100.   1. 150.   1. 150.   1. 150.   1.   1.]\n",
      " [100.   1. 150.   1. 150.   1. 150.   1.   1.]\n",
      " [100.   1. 150.   1. 150.   1. 150.   1.   1.]\n",
      " [  1.   1. 150.   1. 150.   1. 150.   1.   1.]\n",
      " [  1.   1.   1.   1.   1.   1.   1.   1.   1.]\n",
      " [  1.   1.   1.   1.   1.   1.   1.   1.   1.]\n",
      " [150. 150. 150. 150.   1. 150. 150. 150. 150.]]\n",
      " 이 때 한 행동 : ←\n",
      " 마지막 보상 : -1\n",
      " 총 받은 보상 :4862.599999999993\n",
      " end : True\n",
      " clear : True\n",
      "episode :1, score = 4644.4420000002165, n_buffer :100000 , eps : 41.2\n"
     ]
    },
    {
     "name": "stderr",
     "output_type": "stream",
     "text": [
      " 32%|████████████████████▏                                           | 18901/60000 [1:57:00<3:06:26,  3.67it/s]"
     ]
    },
    {
     "name": "stdout",
     "output_type": "stream",
     "text": [
      "epi = 1\n",
      " 마지막 상태 :\n",
      "[[100.   1. 100. 100. 100. 100. 100. 100.   1.]\n",
      " [  1.   1.   1.   1.   1.   1.   1.   1.   1.]\n",
      " [100.   1.   1.   1.   1.   1.   1.   1. 100.]\n",
      " [100.   1. 150.   1. 150.   1. 150.   1.   1.]\n",
      " [100.   1. 150.   1. 150.   1. 150.   1.   1.]\n",
      " [100.   1. 150.   1. 150.   1. 150.   1.   1.]\n",
      " [  1.   1. 150.   1. 150.   1. 150.  50.   1.]\n",
      " [  1.   1.   1.   1.   1.   1.   1.   1.   1.]\n",
      " [  1.   1.   1.   1.   1.   1.   1.   1.   1.]\n",
      " [150. 150. 150. 150.   1. 150. 150. 150. 150.]]\n",
      " 이 때 한 행동 : ↑\n",
      " 마지막 보상 : -1\n",
      " 총 받은 보상 :4706.9\n",
      " end : True\n",
      " clear : True\n",
      "episode :1, score = 4741.350000000143, n_buffer :100000 , eps : 41.1\n"
     ]
    },
    {
     "name": "stderr",
     "output_type": "stream",
     "text": [
      " 32%|████████████████████▎                                           | 19001/60000 [1:57:30<3:43:12,  3.06it/s]"
     ]
    },
    {
     "name": "stdout",
     "output_type": "stream",
     "text": [
      "epi = 1\n",
      " 마지막 상태 :\n",
      "[[100.   1. 100. 100. 100. 100. 100. 100.   1.]\n",
      " [  1.   1.   1.   1.   1.   1.   1.   1.   1.]\n",
      " [100.   1.   1.   1.   1.   1.   1.   1. 100.]\n",
      " [100.   1. 150.   1. 150.   1. 150.   1.  50.]\n",
      " [100.   1. 150.   1. 150.   1. 150.   1.   1.]\n",
      " [100.   1. 150.   1. 150.   1. 150.   1.   1.]\n",
      " [  1.   1. 150.   1. 150.   1. 150.   1.   1.]\n",
      " [  1.   1.   1.   1.   1.   1.   1.   1.   1.]\n",
      " [  1.   1.   1.   1.   1.   1.   1.   1.   1.]\n",
      " [150. 150. 150. 150.   1. 150. 150. 150. 150.]]\n",
      " 이 때 한 행동 : ↑\n",
      " 마지막 보상 : -1\n",
      " 총 받은 보상 :4818.5\n",
      " end : True\n",
      " clear : True\n",
      "episode :1, score = 4705.805000000086, n_buffer :100000 , eps : 41.0\n"
     ]
    },
    {
     "name": "stderr",
     "output_type": "stream",
     "text": [
      " 32%|████████████████████▎                                           | 19101/60000 [1:58:00<4:07:23,  2.76it/s]"
     ]
    },
    {
     "name": "stdout",
     "output_type": "stream",
     "text": [
      "epi = 1\n",
      " 마지막 상태 :\n",
      "[[100.   1. 100. 100. 100. 100. 100. 100.   1.]\n",
      " [  1.   1.   1.   1.   1.   1.   1.   1.   1.]\n",
      " [100.   1.   1.   1.  50.   1.   1.   1. 100.]\n",
      " [100.   1. 150.   1. 150.   1. 150.   1.   1.]\n",
      " [100.   1. 150.   1. 150.   1. 150.   1.   1.]\n",
      " [100.   1. 150.   1. 150.   1. 150.   1.   1.]\n",
      " [  1.   1. 150.   1. 150.   1. 150.   1.   1.]\n",
      " [  1.   1.   1.   1.   1.   1.   1.   1.   1.]\n",
      " [  1.   1.   1.   1.   1.   1.   1.   1.   1.]\n",
      " [150. 150. 150. 150.   1. 150. 150. 150. 150.]]\n",
      " 이 때 한 행동 : ←\n",
      " 마지막 보상 : -1\n",
      " 총 받은 보상 :4879.700000000001\n",
      " end : True\n",
      " clear : True\n",
      "episode :1, score = 4689.010000000274, n_buffer :100000 , eps : 40.900000000000006\n"
     ]
    },
    {
     "name": "stderr",
     "output_type": "stream",
     "text": [
      " 32%|████████████████████▍                                           | 19201/60000 [1:58:31<4:18:44,  2.63it/s]"
     ]
    },
    {
     "name": "stdout",
     "output_type": "stream",
     "text": [
      "epi = 1\n",
      " 마지막 상태 :\n",
      "[[100.   1. 100. 100. 100. 100. 100. 100.   1.]\n",
      " [  1.   1.   1.   1.  50.   1.   1.   1.   1.]\n",
      " [100.   1.   1.   1.   1.   1.   1.   1. 100.]\n",
      " [100.   1. 150.   1. 150.   1. 150.   1.   1.]\n",
      " [100.   1. 150.   1. 150.   1. 150.   1.   1.]\n",
      " [100.   1. 150.   1. 150.   1. 150.   1.   1.]\n",
      " [  1.   1. 150.   1. 150.   1. 150.   1.   1.]\n",
      " [  1.   1.   1.   1.   1.   1.   1.   1.   1.]\n",
      " [  1.   1.   1.   1.   1.   1.   1.   1.   1.]\n",
      " [150. 150. 150. 150.   1. 150. 150. 150. 150.]]\n",
      " 이 때 한 행동 : ↑\n",
      " 마지막 보상 : -1\n",
      " 총 받은 보상 :4831.1\n",
      " end : True\n",
      " clear : True\n",
      "episode :1, score = 4729.688000000175, n_buffer :100000 , eps : 40.800000000000004\n"
     ]
    },
    {
     "name": "stderr",
     "output_type": "stream",
     "text": [
      " 32%|████████████████████▌                                           | 19302/60000 [1:59:04<2:38:39,  4.28it/s]"
     ]
    },
    {
     "name": "stdout",
     "output_type": "stream",
     "text": [
      "epi = 1\n",
      " 마지막 상태 :\n",
      "[[100.   1. 100. 100. 100. 100. 100. 100.   1.]\n",
      " [  1.   1.   1.   1.   1.   1.   1.   1.   1.]\n",
      " [100.   1.   1.   1.   1.   1.   1.  50. 100.]\n",
      " [100.   1. 150.   1. 150.   1. 150.   1.   1.]\n",
      " [100.   1. 150.   1. 150.   1. 150.   1.   1.]\n",
      " [100.   1. 150.   1. 150.   1. 150.   1.   1.]\n",
      " [  1.   1. 150.   1. 150.   1. 150.   1.   1.]\n",
      " [  1.   1.   1.   1.   1.   1.   1.   1.   1.]\n",
      " [  1.   1.   1.   1.   1.   1.   1.   1.   1.]\n",
      " [150. 150. 150. 150.   1. 150. 150. 150. 150.]]\n",
      " 이 때 한 행동 : →\n",
      " 마지막 보상 : -0.1\n",
      " 총 받은 보상 :4879.699999999997\n",
      " end : True\n",
      " clear : True\n",
      "episode :1, score = 4587.8410000002195, n_buffer :100000 , eps : 40.7\n"
     ]
    },
    {
     "name": "stderr",
     "output_type": "stream",
     "text": [
      " 32%|████████████████████▋                                           | 19401/60000 [1:59:30<3:24:25,  3.31it/s]"
     ]
    },
    {
     "name": "stdout",
     "output_type": "stream",
     "text": [
      "epi = 1\n",
      " 마지막 상태 :\n",
      "[[100.   1. 100. 100. 100. 100. 100. 100.   1.]\n",
      " [  1.   1.   1.   1.   1.   1.   1.   1.   1.]\n",
      " [100.   1.   1.   1.   1.   1.   1.   1. 100.]\n",
      " [100.   1. 150.   1. 150.   1. 150.   1.  50.]\n",
      " [100.   1. 150.   1. 150.   1. 150.   1.   1.]\n",
      " [100.   1. 150.   1. 150.   1. 150.   1.   1.]\n",
      " [  1.   1. 150.   1. 150.   1. 150.   1.   1.]\n",
      " [  1.   1.   1.   1.   1.   1.   1.   1.   1.]\n",
      " [  1.   1.   1.   1.   1.   1.   1.   1.   1.]\n",
      " [150. 150. 150. 150.   1. 150. 150. 150. 150.]]\n",
      " 이 때 한 행동 : →\n",
      " 마지막 보상 : -1\n",
      " 총 받은 보상 :4836.499999999999\n",
      " end : True\n",
      " clear : True\n",
      "episode :1, score = 4642.262000000134, n_buffer :100000 , eps : 40.6\n"
     ]
    },
    {
     "name": "stderr",
     "output_type": "stream",
     "text": [
      " 33%|████████████████████▊                                           | 19501/60000 [1:59:59<4:24:30,  2.55it/s]"
     ]
    },
    {
     "name": "stdout",
     "output_type": "stream",
     "text": [
      "epi = 1\n",
      " 마지막 상태 :\n",
      "[[100. 200. 100. 100. 100. 100. 100. 100.   1.]\n",
      " [  1.   1.   1.   1.   1.   1.   1.   1.  50.]\n",
      " [100.   1.   1.   1.   1.   1.   1.   1. 100.]\n",
      " [100.   1. 150.   1. 150.   1. 150.   1.   1.]\n",
      " [100.   1. 150.   1. 150.   1. 150.   1.   1.]\n",
      " [100.   1. 150.   1. 150.   1. 150.   1.   1.]\n",
      " [  1.   1. 150.   1. 150.   1. 150.   1.   1.]\n",
      " [  1.   1.   1.   1.   1.   1.   1.   1.   1.]\n",
      " [  1.   1.   1.   1.   1.   1.   1.   1.   1.]\n",
      " [150. 150. 150. 150.   1. 150. 150. 150. 150.]]\n",
      " 이 때 한 행동 : ↓\n",
      " 마지막 보상 : -0.1\n",
      " 총 받은 보상 :3856.2000000000035\n",
      " end : True\n",
      " clear : True\n",
      "episode :1, score = 4181.805000000207, n_buffer :100000 , eps : 40.5\n"
     ]
    },
    {
     "name": "stderr",
     "output_type": "stream",
     "text": [
      " 33%|████████████████████▉                                           | 19601/60000 [2:00:31<3:58:04,  2.83it/s]"
     ]
    },
    {
     "name": "stdout",
     "output_type": "stream",
     "text": [
      "epi = 1\n",
      " 마지막 상태 :\n",
      "[[100.   1. 100. 100. 100. 100. 100. 100.   1.]\n",
      " [  1.   1.   1.   1.   1.   1.   1.   1.   1.]\n",
      " [100.   1.   1.   1.   1.   1.   1.   1. 100.]\n",
      " [100.   1. 150.   1. 150.   1. 150.   1.   1.]\n",
      " [100.  50. 150.   1. 150.   1. 150.   1.   1.]\n",
      " [100.   1. 150.   1. 150.   1. 150.   1.   1.]\n",
      " [  1.   1. 150.   1. 150.   1. 150.   1.   1.]\n",
      " [  1.   1.   1.   1.   1.   1.   1.   1.   1.]\n",
      " [  1.   1.   1.   1.   1.   1.   1.   1.   1.]\n",
      " [150. 150. 150. 150.   1. 150. 150. 150. 150.]]\n",
      " 이 때 한 행동 : ↓\n",
      " 마지막 보상 : -1\n",
      " 총 받은 보상 :4915.700000000001\n",
      " end : True\n",
      " clear : True\n",
      "episode :1, score = 4703.162000000279, n_buffer :100000 , eps : 40.400000000000006\n"
     ]
    },
    {
     "name": "stderr",
     "output_type": "stream",
     "text": [
      " 33%|█████████████████████                                           | 19701/60000 [2:01:01<3:52:37,  2.89it/s]"
     ]
    },
    {
     "name": "stdout",
     "output_type": "stream",
     "text": [
      "epi = 1\n",
      " 마지막 상태 :\n",
      "[[100. 200. 100. 100. 100. 100. 100. 100. 200.]\n",
      " [  1.   1.   1.   1.   1.   1.   1.   1.   1.]\n",
      " [100.   1.   1.   1.   1.   1.   1.   1. 100.]\n",
      " [100.   1. 150.   1. 150.   1. 150.   1.   1.]\n",
      " [100.   1. 150.   1. 150.   1. 150.   1.   1.]\n",
      " [100.   1. 150.   1. 150.   1. 150.   1.   1.]\n",
      " [  1.   1. 150.   1. 150.   1. 150.   1.   1.]\n",
      " [  1.   1.   1.   1.   1.   1.   1.  50.   1.]\n",
      " [  1.   1.   1.   1.   1.   1.   1.   1.   1.]\n",
      " [150. 150. 150. 150.   1. 150. 150. 150. 150.]]\n",
      " 이 때 한 행동 : ↑\n",
      " 마지막 보상 : -1\n",
      " 총 받은 보상 :2659.9\n",
      " end : True\n",
      " clear : True\n",
      "episode :1, score = 4618.474000000196, n_buffer :100000 , eps : 40.300000000000004\n"
     ]
    },
    {
     "name": "stderr",
     "output_type": "stream",
     "text": [
      " 33%|█████████████████████                                           | 19801/60000 [2:01:31<3:57:35,  2.82it/s]"
     ]
    },
    {
     "name": "stdout",
     "output_type": "stream",
     "text": [
      "epi = 1\n",
      " 마지막 상태 :\n",
      "[[100.   1. 100. 100. 100. 100. 100. 100.   1.]\n",
      " [  1.   1.   1.   1.   1.   1.   1.   1.   1.]\n",
      " [100.  50.   1.   1.   1.   1.   1.   1. 100.]\n",
      " [100.   1. 150.   1. 150.   1. 150.   1.   1.]\n",
      " [100.   1. 150.   1. 150.   1. 150.   1.   1.]\n",
      " [100.   1. 150.   1. 150.   1. 150.   1.   1.]\n",
      " [  1.   1. 150.   1. 150.   1. 150.   1.   1.]\n",
      " [  1.   1.   1.   1.   1.   1.   1.   1.   1.]\n",
      " [  1.   1.   1.   1.   1.   1.   1.   1.   1.]\n",
      " [150. 150. 150. 150.   1. 150. 150. 150. 150.]]\n",
      " 이 때 한 행동 : ←\n",
      " 마지막 보상 : -1\n",
      " 총 받은 보상 :4876.999999999985\n",
      " end : True\n",
      " clear : True\n",
      "episode :1, score = 4788.768000000302, n_buffer :100000 , eps : 40.2\n"
     ]
    },
    {
     "name": "stderr",
     "output_type": "stream",
     "text": [
      " 33%|█████████████████████▏                                          | 19901/60000 [2:01:58<3:32:55,  3.14it/s]"
     ]
    },
    {
     "name": "stdout",
     "output_type": "stream",
     "text": [
      "epi = 1\n",
      " 마지막 상태 :\n",
      "[[100.   1. 100. 100. 100. 100. 100. 100.   1.]\n",
      " [  1.   1.   1.   1.   1.   1.   1.   1.   1.]\n",
      " [100.   1.   1.   1.   1.   1.   1.   1. 100.]\n",
      " [100.   1. 150.   1. 150.   1. 150.   1.   1.]\n",
      " [100.   1. 150.   1. 150.   1. 150.   1.   1.]\n",
      " [100.   1. 150.   1. 150.   1. 150.   1.   1.]\n",
      " [  1.   1. 150.   1. 150.   1. 150.   1.   1.]\n",
      " [  1.   1.   1.   1.   1.   1.  50.   1.   1.]\n",
      " [  1.   1.   1.   1.   1.   1.   1.   1.   1.]\n",
      " [150. 150. 150. 150.   1. 150. 150. 150. 150.]]\n",
      " 이 때 한 행동 : ←\n",
      " 마지막 보상 : -1\n",
      " 총 받은 보상 :4912.9999999999945\n",
      " end : True\n",
      " clear : True\n",
      "episode :1, score = 4756.846000000185, n_buffer :100000 , eps : 40.1\n"
     ]
    },
    {
     "name": "stderr",
     "output_type": "stream",
     "text": [
      " 33%|█████████████████████▎                                          | 20001/60000 [2:02:30<3:13:38,  3.44it/s]"
     ]
    },
    {
     "name": "stdout",
     "output_type": "stream",
     "text": [
      "epi = 1\n",
      " 마지막 상태 :\n",
      "[[100.  50. 100. 100. 100. 100. 100. 100.   1.]\n",
      " [  1.   1.   1.   1.   1.   1.   1.   1.   1.]\n",
      " [100.   1.   1.   1.   1.   1.   1.   1. 100.]\n",
      " [100.   1. 150.   1. 150.   1. 150.   1.   1.]\n",
      " [100.   1. 150.   1. 150.   1. 150.   1.   1.]\n",
      " [100.   1. 150.   1. 150.   1. 150.   1.   1.]\n",
      " [  1.   1. 150.   1. 150.   1. 150.   1.   1.]\n",
      " [  1.   1.   1.   1.   1.   1.   1.   1.   1.]\n",
      " [  1.   1.   1.   1.   1.   1.   1.   1.   1.]\n",
      " [150. 150. 150. 150.   1. 150. 150. 150. 150.]]\n",
      " 이 때 한 행동 : →\n",
      " 마지막 보상 : -0.1\n",
      " 총 받은 보상 :4883.29999999999\n",
      " end : True\n",
      " clear : True\n",
      "episode :1, score = 4696.390000000225, n_buffer :100000 , eps : 40.0\n"
     ]
    },
    {
     "name": "stderr",
     "output_type": "stream",
     "text": [
      " 34%|█████████████████████▍                                          | 20101/60000 [2:02:59<2:57:23,  3.75it/s]"
     ]
    },
    {
     "name": "stdout",
     "output_type": "stream",
     "text": [
      "epi = 1\n",
      " 마지막 상태 :\n",
      "[[100.   1. 100. 100. 100. 100. 100. 100.   1.]\n",
      " [  1.   1.   1.   1.   1.   1.   1.   1.   1.]\n",
      " [100.   1.   1.   1.   1.   1.   1.   1. 100.]\n",
      " [100.   1. 150.   1. 150.   1. 150.   1.   1.]\n",
      " [100.   1. 150.   1. 150.   1. 150.   1.   1.]\n",
      " [100.   1. 150.   1. 150.   1. 150.   1.   1.]\n",
      " [  1.   1. 150.   1. 150.   1. 150.   1.   1.]\n",
      " [  1.   1.   1.   1.  50.   1.   1.   1.   1.]\n",
      " [  1.   1.   1.   1.   1.   1.   1.   1.   1.]\n",
      " [150. 150. 150. 150.   1. 150. 150. 150. 150.]]\n",
      " 이 때 한 행동 : ←\n",
      " 마지막 보상 : -1\n",
      " 총 받은 보상 :4863.499999999995\n",
      " end : True\n",
      " clear : True\n",
      "episode :1, score = 4757.8580000001975, n_buffer :100000 , eps : 39.900000000000006\n"
     ]
    },
    {
     "name": "stderr",
     "output_type": "stream",
     "text": [
      " 34%|█████████████████████▌                                          | 20201/60000 [2:03:47<4:13:52,  2.61it/s]"
     ]
    },
    {
     "name": "stdout",
     "output_type": "stream",
     "text": [
      "epi = 1\n",
      " 마지막 상태 :\n",
      "[[100.   1. 100. 100. 100. 100. 100. 100.   1.]\n",
      " [  1.   1.   1.   1.   1.   1.   1.   1.   1.]\n",
      " [100.   1.   1.   1.   1.   1.   1.   1. 100.]\n",
      " [100.   1. 150.   1. 150.   1. 150.   1.   1.]\n",
      " [100.   1. 150.   1. 150.   1. 150.  50.   1.]\n",
      " [100.   1. 150.   1. 150.   1. 150.   1.   1.]\n",
      " [  1.   1. 150.   1. 150.   1. 150.   1.   1.]\n",
      " [  1.   1.   1.   1.   1.   1.   1.   1.   1.]\n",
      " [  1.   1.   1.   1.   1.   1.   1.   1.   1.]\n",
      " [150. 150. 150. 150.   1. 150. 150. 150. 150.]]\n",
      " 이 때 한 행동 : ←\n",
      " 마지막 보상 : -10\n",
      " 총 받은 보상 :4804.9999999999945\n",
      " end : True\n",
      " clear : True\n",
      "episode :1, score = 4870.982000000215, n_buffer :100000 , eps : 39.800000000000004\n"
     ]
    },
    {
     "name": "stderr",
     "output_type": "stream",
     "text": [
      " 34%|█████████████████████▋                                          | 20301/60000 [2:04:26<4:36:03,  2.40it/s]"
     ]
    },
    {
     "name": "stdout",
     "output_type": "stream",
     "text": [
      "epi = 1\n",
      " 마지막 상태 :\n",
      "[[100.   1. 100. 100. 100. 100. 100. 100.   1.]\n",
      " [  1.   1.   1.   1.   1.   1.   1.   1.   1.]\n",
      " [100.   1.   1.   1.   1.   1.   1.   1. 100.]\n",
      " [100.   1. 150.   1. 150.   1. 150.   1.   1.]\n",
      " [100.   1. 150.   1. 150.   1. 150.   1.   1.]\n",
      " [100.   1. 150.   1. 150.   1. 150.   1.   1.]\n",
      " [  1.   1. 150.   1. 150.   1. 150.   1.   1.]\n",
      " [  1.   1.   1.   1.  50.   1.   1.   1.   1.]\n",
      " [  1.   1.   1.   1.   1.   1.   1.   1.   1.]\n",
      " [150. 150. 150. 150.   1. 150. 150. 150. 150.]]\n",
      " 이 때 한 행동 : ↑\n",
      " 마지막 보상 : -10\n",
      " 총 받은 보상 :4714.099999999998\n",
      " end : True\n",
      " clear : True\n",
      "episode :1, score = 4801.133000000132, n_buffer :100000 , eps : 39.7\n"
     ]
    },
    {
     "name": "stderr",
     "output_type": "stream",
     "text": [
      " 34%|█████████████████████▊                                          | 20401/60000 [2:05:17<6:02:42,  1.82it/s]"
     ]
    },
    {
     "name": "stdout",
     "output_type": "stream",
     "text": [
      "epi = 1\n",
      " 마지막 상태 :\n",
      "[[100.   1. 100. 100. 100. 100. 100. 100.   1.]\n",
      " [  1.   1.   1.   1.   1.   1.   1.   1.   1.]\n",
      " [100.   1.   1.   1.   1.   1.   1.   1. 100.]\n",
      " [100.   1. 150.   1. 150.   1. 150.   1.   1.]\n",
      " [100.   1. 150.   1. 150.   1. 150.   1.   1.]\n",
      " [100.   1. 150.   1. 150.   1. 150.   1.   1.]\n",
      " [  1.   1. 150.   1. 150.   1. 150.   1.   1.]\n",
      " [  1.   1.   1.   1.   1.  50.   1.   1.   1.]\n",
      " [  1.   1.   1.   1.   1.   1.   1.   1.   1.]\n",
      " [150. 150. 150. 150.   1. 150. 150. 150. 150.]]\n",
      " 이 때 한 행동 : ↓\n",
      " 마지막 보상 : -1\n",
      " 총 받은 보상 :4871.599999999999\n",
      " end : True\n",
      " clear : True\n",
      "episode :1, score = 4805.3870000000825, n_buffer :100000 , eps : 39.6\n"
     ]
    },
    {
     "name": "stderr",
     "output_type": "stream",
     "text": [
      " 34%|█████████████████████▊                                          | 20501/60000 [2:06:25<5:30:35,  1.99it/s]"
     ]
    },
    {
     "name": "stdout",
     "output_type": "stream",
     "text": [
      "epi = 1\n",
      " 마지막 상태 :\n",
      "[[100.   1. 100. 100. 100. 100. 100. 100.   1.]\n",
      " [  1.   1.   1.   1.   1.   1.   1.  50.   1.]\n",
      " [100.   1.   1.   1.   1.   1.   1.   1. 100.]\n",
      " [100.   1. 150.   1. 150.   1. 150.   1.   1.]\n",
      " [100.   1. 150.   1. 150.   1. 150.   1.   1.]\n",
      " [100.   1. 150.   1. 150.   1. 150.   1.   1.]\n",
      " [  1.   1. 150.   1. 150.   1. 150.   1.   1.]\n",
      " [  1.   1.   1.   1.   1.   1.   1.   1.   1.]\n",
      " [  1.   1.   1.   1.   1.   1.   1.   1.   1.]\n",
      " [150. 150. 150. 150.   1. 150. 150. 150. 150.]]\n",
      " 이 때 한 행동 : ↑\n",
      " 마지막 보상 : -0.1\n",
      " 총 받은 보상 :4888.699999999989\n",
      " end : True\n",
      " clear : True\n",
      "episode :1, score = 4612.37400000005, n_buffer :100000 , eps : 39.5\n"
     ]
    },
    {
     "name": "stderr",
     "output_type": "stream",
     "text": [
      " 34%|█████████████████████▉                                          | 20601/60000 [2:07:07<3:00:52,  3.63it/s]"
     ]
    },
    {
     "name": "stdout",
     "output_type": "stream",
     "text": [
      "epi = 1\n",
      " 마지막 상태 :\n",
      "[[100.   1. 100. 100. 100. 100. 100. 100.   1.]\n",
      " [  1.   1.   1.   1.   1.   1.   1.   1.   1.]\n",
      " [100.   1.   1.   1.  50.   1.   1.   1. 100.]\n",
      " [100.   1. 150.   1. 150.   1. 150.   1.   1.]\n",
      " [100.   1. 150.   1. 150.   1. 150.   1.   1.]\n",
      " [100.   1. 150.   1. 150.   1. 150.   1.   1.]\n",
      " [  1.   1. 150.   1. 150.   1. 150.   1.   1.]\n",
      " [  1.   1.   1.   1.   1.   1.   1.   1.   1.]\n",
      " [  1.   1.   1.   1.   1.   1.   1.   1.   1.]\n",
      " [150. 150. 150. 150.   1. 150. 150. 150. 150.]]\n",
      " 이 때 한 행동 : →\n",
      " 마지막 보상 : -1\n",
      " 총 받은 보상 :4780.699999999997\n",
      " end : True\n",
      " clear : True\n",
      "episode :1, score = 4769.119000000046, n_buffer :100000 , eps : 39.4\n"
     ]
    },
    {
     "name": "stderr",
     "output_type": "stream",
     "text": [
      " 35%|█████████████████████▋                                         | 20701/60000 [2:08:16<13:25:13,  1.23s/it]"
     ]
    },
    {
     "name": "stdout",
     "output_type": "stream",
     "text": [
      "epi = 1\n",
      " 마지막 상태 :\n",
      "[[100.   1. 100. 100. 100. 100. 100. 100.   1.]\n",
      " [  1.   1.   1.   1.   1.   1.   1.   1.   1.]\n",
      " [100.   1.   1.   1.   1.   1.   1.   1. 100.]\n",
      " [100.   1. 150.   1. 150.   1. 150.   1.   1.]\n",
      " [100.   1. 150.   1. 150.   1. 150.   1.   1.]\n",
      " [100.   1. 150.   1. 150.   1. 150.   1.   1.]\n",
      " [  1.   1. 150.   1. 150.   1. 150.  50.   1.]\n",
      " [  1.   1.   1.   1.   1.   1.   1.   1.   1.]\n",
      " [  1.   1.   1.   1.   1.   1.   1.   1.   1.]\n",
      " [150. 150. 150. 150.   1. 150. 150. 150. 150.]]\n",
      " 이 때 한 행동 : ↓\n",
      " 마지막 보상 : -1\n",
      " 총 받은 보상 :4556.599999999999\n",
      " end : True\n",
      " clear : True\n",
      "episode :1, score = 4642.513000000083, n_buffer :100000 , eps : 39.300000000000004\n"
     ]
    },
    {
     "name": "stderr",
     "output_type": "stream",
     "text": [
      " 35%|██████████████████████▏                                         | 20801/60000 [2:09:22<5:17:42,  2.06it/s]"
     ]
    },
    {
     "name": "stdout",
     "output_type": "stream",
     "text": [
      "epi = 1\n",
      " 마지막 상태 :\n",
      "[[100.   1. 100. 100. 100. 100. 100. 100. 200.]\n",
      " [  1.   1.   1.  50.   1.   1.   1.   1.   1.]\n",
      " [100.   1.   1.   1.   1.   1.   1.   1. 100.]\n",
      " [100.   1. 150.   1. 150.   1. 150.   1.   1.]\n",
      " [100.   1. 150.   1. 150.   1. 150.   1.   1.]\n",
      " [100.   1. 150.   1. 150.   1. 150.   1.   1.]\n",
      " [  1.   1. 150.   1. 150.   1. 150.   1.   1.]\n",
      " [  1.   1.   1.   1.   1.   1.   1.   1.   1.]\n",
      " [  1.   1.   1.   1.   1.   1.   1.   1.   1.]\n",
      " [150. 150. 150. 150.   1. 150. 150. 150. 150.]]\n",
      " 이 때 한 행동 : ↑\n",
      " 마지막 보상 : -1\n",
      " 총 받은 보상 :3905.700000000005\n",
      " end : True\n",
      " clear : True\n",
      "episode :1, score = 4657.75600000019, n_buffer :100000 , eps : 39.2\n"
     ]
    },
    {
     "name": "stderr",
     "output_type": "stream",
     "text": [
      " 35%|█████████████████████▉                                         | 20901/60000 [2:11:18<16:08:06,  1.49s/it]"
     ]
    },
    {
     "name": "stdout",
     "output_type": "stream",
     "text": [
      "epi = 1\n",
      " 마지막 상태 :\n",
      "[[100.   1. 100. 100. 100. 100. 100. 100.   1.]\n",
      " [  1.   1.   1.   1.   1.   1.   1.   1.   1.]\n",
      " [100.   1.   1.   1.   1.   1.   1.   1. 100.]\n",
      " [100.   1. 150.   1. 150.   1. 150.   1.   1.]\n",
      " [100.   1. 150.   1. 150.   1. 150.   1.   1.]\n",
      " [100.   1. 150.   1. 150.   1. 150.   1.   1.]\n",
      " [  1.   1. 150.   1. 150.   1. 150.   1.   1.]\n",
      " [  1.   1.   1.  50.   1.   1.   1.   1.   1.]\n",
      " [  1.   1.   1.   1.   1.   1.   1.   1.   1.]\n",
      " [150. 150. 150. 150.   1. 150. 150. 150. 150.]]\n",
      " 이 때 한 행동 : ←\n",
      " 마지막 보상 : -1\n",
      " 총 받은 보상 :4717.700000000001\n",
      " end : True\n",
      " clear : True\n",
      "episode :1, score = 4780.614000000051, n_buffer :100000 , eps : 39.1\n"
     ]
    },
    {
     "name": "stderr",
     "output_type": "stream",
     "text": [
      " 35%|██████████████████████▍                                         | 21001/60000 [2:13:03<3:43:53,  2.90it/s]"
     ]
    },
    {
     "name": "stdout",
     "output_type": "stream",
     "text": [
      "epi = 1\n",
      " 마지막 상태 :\n",
      "[[100.   1. 100. 100. 100. 100. 100. 100.   1.]\n",
      " [  1.   1.   1.   1.  50.   1.   1.   1.   1.]\n",
      " [100.   1.   1.   1.   1.   1.   1.   1. 100.]\n",
      " [100.   1. 150.   1. 150.   1. 150.   1.   1.]\n",
      " [100.   1. 150.   1. 150.   1. 150.   1.   1.]\n",
      " [100.   1. 150.   1. 150.   1. 150.   1.   1.]\n",
      " [  1.   1. 150.   1. 150.   1. 150.   1.   1.]\n",
      " [  1.   1.   1.   1.   1.   1.   1.   1.   1.]\n",
      " [  1.   1.   1.   1.   1.   1.   1.   1.   1.]\n",
      " [150. 150. 150. 150.   1. 150. 150. 150. 150.]]\n",
      " 이 때 한 행동 : →\n",
      " 마지막 보상 : -1\n",
      " 총 받은 보상 :4690.699999999999\n",
      " end : True\n",
      " clear : True\n",
      "episode :1, score = 4808.576000000047, n_buffer :100000 , eps : 39.0\n"
     ]
    },
    {
     "name": "stderr",
     "output_type": "stream",
     "text": [
      " 35%|██████████████████████▏                                        | 21101/60000 [2:15:29<12:47:46,  1.18s/it]"
     ]
    },
    {
     "name": "stdout",
     "output_type": "stream",
     "text": [
      "epi = 1\n",
      " 마지막 상태 :\n",
      "[[100.   1. 100. 100. 100. 100. 100. 100.   1.]\n",
      " [  1.   1.   1.   1.   1.   1.   1.   1.   1.]\n",
      " [100.   1.   1.   1.   1.   1.   1.   1. 100.]\n",
      " [100.   1. 150.   1. 150.   1. 150.   1.   1.]\n",
      " [100.   1. 150.   1. 150.   1. 150.   1.   1.]\n",
      " [100.   1. 150.   1. 150.   1. 150.   1.   1.]\n",
      " [  1.   1. 150.   1. 150.   1. 150.   1.   1.]\n",
      " [  1.   1.   1.   1.   1.  50.   1.   1.   1.]\n",
      " [  1.   1.   1.   1.   1.   1.   1.   1.   1.]\n",
      " [150. 150. 150. 150.   1. 150. 150. 150. 150.]]\n",
      " 이 때 한 행동 : ←\n",
      " 마지막 보상 : -1\n",
      " 총 받은 보상 :4892.300000000001\n",
      " end : True\n",
      " clear : True\n",
      "episode :1, score = 4878.956000000111, n_buffer :100000 , eps : 38.9\n"
     ]
    },
    {
     "name": "stderr",
     "output_type": "stream",
     "text": [
      " 35%|██████████████████████▌                                         | 21201/60000 [2:16:10<3:17:13,  3.28it/s]"
     ]
    },
    {
     "name": "stdout",
     "output_type": "stream",
     "text": [
      "epi = 1\n",
      " 마지막 상태 :\n",
      "[[100. 200. 100. 100. 100. 100. 100. 100.   1.]\n",
      " [  1.   1.   1.   1.   1.   1.   1.   1.   1.]\n",
      " [100.  50.   1.   1.   1.   1.   1.   1. 100.]\n",
      " [100.   1. 150.   1. 150.   1. 150.   1.   1.]\n",
      " [100.   1. 150.   1. 150.   1. 150.   1.   1.]\n",
      " [100.   1. 150.   1. 150.   1. 150.   1.   1.]\n",
      " [  1.   1. 150.   1. 150.   1. 150.   1.   1.]\n",
      " [  1.   1.   1.   1.   1.   1.   1.   1.   1.]\n",
      " [  1.   1.   1.   1.   1.   1.   1.   1.   1.]\n",
      " [150. 150. 150. 150.   1. 150. 150. 150. 150.]]\n",
      " 이 때 한 행동 : ←\n",
      " 마지막 보상 : -0.1\n",
      " 총 받은 보상 :3914.700000000003\n",
      " end : True\n",
      " clear : True\n",
      "episode :1, score = 4580.646000000154, n_buffer :100000 , eps : 38.800000000000004\n"
     ]
    },
    {
     "name": "stderr",
     "output_type": "stream",
     "text": [
      " 36%|██████████████████████▋                                         | 21301/60000 [2:17:00<3:51:48,  2.78it/s]"
     ]
    },
    {
     "name": "stdout",
     "output_type": "stream",
     "text": [
      "epi = 1\n",
      " 마지막 상태 :\n",
      "[[100.   1. 100. 100. 100. 100. 100. 100.   1.]\n",
      " [  1.   1.   1.   1.   1.   1.   1.  50.   1.]\n",
      " [100.   1.   1.   1.   1.   1.   1.   1. 100.]\n",
      " [100.   1. 150.   1. 150.   1. 150.   1.   1.]\n",
      " [100.   1. 150.   1. 150.   1. 150.   1.   1.]\n",
      " [100.   1. 150.   1. 150.   1. 150.   1.   1.]\n",
      " [  1.   1. 150.   1. 150.   1. 150.   1.   1.]\n",
      " [  1.   1.   1.   1.   1.   1.   1.   1.   1.]\n",
      " [  1.   1.   1.   1.   1.   1.   1.   1.   1.]\n",
      " [150. 150. 150. 150.   1. 150. 150. 150. 150.]]\n",
      " 이 때 한 행동 : →\n",
      " 마지막 보상 : -1\n",
      " 총 받은 보상 :4837.399999999997\n",
      " end : True\n",
      " clear : True\n",
      "episode :1, score = 4848.214000000157, n_buffer :100000 , eps : 38.7\n"
     ]
    },
    {
     "name": "stderr",
     "output_type": "stream",
     "text": [
      " 36%|██████████████████████▊                                         | 21401/60000 [2:17:59<4:25:16,  2.43it/s]"
     ]
    },
    {
     "name": "stdout",
     "output_type": "stream",
     "text": [
      "epi = 1\n",
      " 마지막 상태 :\n",
      "[[100.   1. 100. 100. 100. 100. 100. 100.   1.]\n",
      " [  1.   1.   1.   1.   1.   1.   1.   1.   1.]\n",
      " [100.  50.   1.   1.   1.   1.   1.   1. 100.]\n",
      " [100.   1. 150.   1. 150.   1. 150.   1.   1.]\n",
      " [100.   1. 150.   1. 150.   1. 150.   1.   1.]\n",
      " [100.   1. 150.   1. 150.   1. 150.   1.   1.]\n",
      " [  1.   1. 150.   1. 150.   1. 150.   1.   1.]\n",
      " [  1.   1.   1.   1.   1.   1.   1.   1.   1.]\n",
      " [  1.   1.   1.   1.   1.   1.   1.   1.   1.]\n",
      " [150. 150. 150. 150.   1. 150. 150. 150. 150.]]\n",
      " 이 때 한 행동 : ←\n",
      " 마지막 보상 : -0.1\n",
      " 총 받은 보상 :4903.099999999986\n",
      " end : True\n",
      " clear : True\n",
      "episode :1, score = 4751.097000000138, n_buffer :100000 , eps : 38.6\n"
     ]
    },
    {
     "name": "stderr",
     "output_type": "stream",
     "text": [
      " 36%|██████████████████████▉                                         | 21501/60000 [2:18:40<6:27:00,  1.66it/s]"
     ]
    },
    {
     "name": "stdout",
     "output_type": "stream",
     "text": [
      "epi = 1\n",
      " 마지막 상태 :\n",
      "[[100.   1. 100. 100. 100. 100. 100. 100.   1.]\n",
      " [  1.   1.   1.  50.   1.   1.   1.   1.   1.]\n",
      " [100.   1.   1.   1.   1.   1.   1.   1. 100.]\n",
      " [100.   1. 150.   1. 150.   1. 150.   1.   1.]\n",
      " [100.   1. 150.   1. 150.   1. 150.   1.   1.]\n",
      " [100.   1. 150.   1. 150.   1. 150.   1.   1.]\n",
      " [  1.   1. 150.   1. 150.   1. 150.   1.   1.]\n",
      " [  1.   1.   1.   1.   1.   1.   1.   1.   1.]\n",
      " [  1.   1.   1.   1.   1.   1.   1.   1.   1.]\n",
      " [150. 150. 150. 150.   1. 150. 150. 150. 150.]]\n",
      " 이 때 한 행동 : ↑\n",
      " 마지막 보상 : -1\n",
      " 총 받은 보상 :4945.399999999984\n",
      " end : True\n",
      " clear : True\n",
      "episode :1, score = 4840.283000000178, n_buffer :100000 , eps : 38.5\n"
     ]
    },
    {
     "name": "stderr",
     "output_type": "stream",
     "text": [
      " 36%|███████████████████████                                         | 21601/60000 [2:19:33<3:10:43,  3.36it/s]"
     ]
    },
    {
     "name": "stdout",
     "output_type": "stream",
     "text": [
      "epi = 1\n",
      " 마지막 상태 :\n",
      "[[100.   1. 100. 100. 100. 100. 100. 100.   1.]\n",
      " [  1.   1.   1.  50.   1.   1.   1.   1.   1.]\n",
      " [100.   1.   1.   1.   1.   1.   1.   1. 100.]\n",
      " [100.   1. 150.   1. 150.   1. 150.   1.   1.]\n",
      " [100.   1. 150.   1. 150.   1. 150.   1.   1.]\n",
      " [100.   1. 150.   1. 150.   1. 150.   1.   1.]\n",
      " [  1.   1. 150.   1. 150.   1. 150.   1.   1.]\n",
      " [  1.   1.   1.   1.   1.   1.   1.   1.   1.]\n",
      " [  1.   1.   1.   1.   1.   1.   1.   1.   1.]\n",
      " [150. 150. 150. 150.   1. 150. 150. 150. 150.]]\n",
      " 이 때 한 행동 : ↑\n",
      " 마지막 보상 : -0.1\n",
      " 총 받은 보상 :4870.699999999996\n",
      " end : True\n",
      " clear : True\n",
      "episode :1, score = 4896.975000000102, n_buffer :100000 , eps : 38.4\n"
     ]
    },
    {
     "name": "stderr",
     "output_type": "stream",
     "text": [
      " 36%|███████████████████████▏                                        | 21701/60000 [2:20:27<3:13:13,  3.30it/s]"
     ]
    },
    {
     "name": "stdout",
     "output_type": "stream",
     "text": [
      "epi = 1\n",
      " 마지막 상태 :\n",
      "[[100.   1. 100. 100. 100. 100. 100. 100.   1.]\n",
      " [  1.   1.   1.   1.   1.   1.   1.   1.   1.]\n",
      " [100.   1.   1.   1.   1.   1.   1.   1. 100.]\n",
      " [100.   1. 150.   1. 150.   1. 150.   1.   1.]\n",
      " [100.   1. 150.   1. 150.   1. 150.   1.   1.]\n",
      " [100.   1. 150.   1. 150.   1. 150.  50.   1.]\n",
      " [  1.   1. 150.   1. 150.   1. 150.   1.   1.]\n",
      " [  1.   1.   1.   1.   1.   1.   1.   1.   1.]\n",
      " [  1.   1.   1.   1.   1.   1.   1.   1.   1.]\n",
      " [150. 150. 150. 150.   1. 150. 150. 150. 150.]]\n",
      " 이 때 한 행동 : ↑\n",
      " 마지막 보상 : -1\n",
      " 총 받은 보상 :4844.599999999995\n",
      " end : True\n",
      " clear : True\n",
      "episode :1, score = 4853.60500000013, n_buffer :100000 , eps : 38.3\n"
     ]
    },
    {
     "name": "stderr",
     "output_type": "stream",
     "text": [
      " 36%|███████████████████████▎                                        | 21801/60000 [2:21:01<2:29:00,  4.27it/s]"
     ]
    },
    {
     "name": "stdout",
     "output_type": "stream",
     "text": [
      "epi = 1\n",
      " 마지막 상태 :\n",
      "[[100.   1. 100. 100. 100. 100. 100. 100.   1.]\n",
      " [  1.   1.   1.   1.   1.   1.   1.   1.   1.]\n",
      " [100.   1.   1.   1.   1.   1.   1.   1. 100.]\n",
      " [100.   1. 150.   1. 150.   1. 150.   1.   1.]\n",
      " [100.  50. 150.   1. 150.   1. 150.   1.   1.]\n",
      " [100.   1. 150.   1. 150.   1. 150.   1.   1.]\n",
      " [  1.   1. 150.   1. 150.   1. 150.   1.   1.]\n",
      " [  1.   1.   1.   1.   1.   1.   1.   1.   1.]\n",
      " [  1.   1.   1.   1.   1.   1.   1.   1.   1.]\n",
      " [150. 150. 150. 150.   1. 150. 150. 150. 150.]]\n",
      " 이 때 한 행동 : ←\n",
      " 마지막 보상 : -0.1\n",
      " 총 받은 보상 :4903.999999999983\n",
      " end : True\n",
      " clear : True\n",
      "episode :1, score = 4723.8840000001865, n_buffer :100000 , eps : 38.2\n"
     ]
    },
    {
     "name": "stderr",
     "output_type": "stream",
     "text": [
      " 37%|███████████████████████▎                                        | 21901/60000 [2:21:33<9:17:03,  1.14it/s]"
     ]
    },
    {
     "name": "stdout",
     "output_type": "stream",
     "text": [
      "epi = 1\n",
      " 마지막 상태 :\n",
      "[[100.   1. 100. 100. 100. 100. 100. 100.   1.]\n",
      " [  1.   1.   1.   1.   1.   1.   1.   1.   1.]\n",
      " [100.   1.   1.   1.   1.   1.   1.   1. 100.]\n",
      " [100.   1. 150.   1. 150.  50. 150.   1.   1.]\n",
      " [100.   1. 150.   1. 150.   1. 150.   1.   1.]\n",
      " [100.   1. 150.   1. 150.   1. 150.   1.   1.]\n",
      " [  1.   1. 150.   1. 150.   1. 150.   1.   1.]\n",
      " [  1.   1.   1.   1.   1.   1.   1.   1.   1.]\n",
      " [  1.   1.   1.   1.   1.   1.   1.   1.   1.]\n",
      " [150. 150. 150. 150.   1. 150. 150. 150. 150.]]\n",
      " 이 때 한 행동 : ↓\n",
      " 마지막 보상 : -1\n",
      " 총 받은 보상 :4876.099999999993\n",
      " end : True\n",
      " clear : True\n",
      "episode :1, score = 4775.525000000145, n_buffer :100000 , eps : 38.1\n"
     ]
    },
    {
     "name": "stderr",
     "output_type": "stream",
     "text": [
      " 37%|███████████████████████▍                                        | 22002/60000 [2:22:10<2:36:05,  4.06it/s]"
     ]
    },
    {
     "name": "stdout",
     "output_type": "stream",
     "text": [
      "epi = 1\n",
      " 마지막 상태 :\n",
      "[[100.   1. 100. 100. 100. 100. 100. 100.   1.]\n",
      " [  1.   1.   1.   1.   1.   1.   1.   1.   1.]\n",
      " [100.  50.   1.   1.   1.   1.   1.   1. 100.]\n",
      " [100.   1. 150.   1. 150.   1. 150.   1.   1.]\n",
      " [100.   1. 150.   1. 150.   1. 150.   1.   1.]\n",
      " [100.   1. 150.   1. 150.   1. 150.   1.   1.]\n",
      " [  1.   1. 150.   1. 150.   1. 150.   1.   1.]\n",
      " [  1.   1.   1.   1.   1.   1.   1.   1.   1.]\n",
      " [  1.   1.   1.   1.   1.   1.   1.   1.   1.]\n",
      " [150. 150. 150. 150.   1. 150. 150. 150. 150.]]\n",
      " 이 때 한 행동 : ←\n",
      " 마지막 보상 : -1\n",
      " 총 받은 보상 :4907.599999999997\n",
      " end : True\n",
      " clear : True\n",
      "episode :1, score = 4758.241000000257, n_buffer :100000 , eps : 38.0\n"
     ]
    },
    {
     "name": "stderr",
     "output_type": "stream",
     "text": [
      " 37%|███████████████████████▌                                        | 22102/60000 [2:22:46<2:45:38,  3.81it/s]"
     ]
    },
    {
     "name": "stdout",
     "output_type": "stream",
     "text": [
      "epi = 1\n",
      " 마지막 상태 :\n",
      "[[100.   1. 100. 100. 100. 100. 100. 100.   1.]\n",
      " [  1.   1.   1.   1.   1.   1.   1.   1.   1.]\n",
      " [100.   1.   1.   1.   1.   1.   1.  50. 100.]\n",
      " [100.   1. 150.   1. 150.   1. 150.   1.   1.]\n",
      " [100.   1. 150.   1. 150.   1. 150.   1.   1.]\n",
      " [100.   1. 150.   1. 150.   1. 150.   1.   1.]\n",
      " [  1.   1. 150.   1. 150.   1. 150.   1.   1.]\n",
      " [  1.   1.   1.   1.   1.   1.   1.   1.   1.]\n",
      " [  1.   1.   1.   1.   1.   1.   1.   1.   1.]\n",
      " [150. 150. 150. 150.   1. 150. 150. 150. 150.]]\n",
      " 이 때 한 행동 : →\n",
      " 마지막 보상 : -0.1\n",
      " 총 받은 보상 :4907.599999999988\n",
      " end : True\n",
      " clear : True\n",
      "episode :1, score = 4747.740000000218, n_buffer :100000 , eps : 37.9\n"
     ]
    },
    {
     "name": "stderr",
     "output_type": "stream",
     "text": [
      " 37%|███████████████████████▋                                        | 22201/60000 [2:23:22<3:55:24,  2.68it/s]"
     ]
    },
    {
     "name": "stdout",
     "output_type": "stream",
     "text": [
      "epi = 1\n",
      " 마지막 상태 :\n",
      "[[100.   1. 100. 100. 100. 100. 100. 100.   1.]\n",
      " [  1.   1.   1.   1.   1.   1.   1.   1.   1.]\n",
      " [100.   1.   1.   1.   1.   1.   1.  50. 100.]\n",
      " [100.   1. 150.   1. 150.   1. 150.   1.   1.]\n",
      " [100.   1. 150.   1. 150.   1. 150.   1.   1.]\n",
      " [100.   1. 150.   1. 150.   1. 150.   1.   1.]\n",
      " [  1.   1. 150.   1. 150.   1. 150.   1.   1.]\n",
      " [  1.   1.   1.   1.   1.   1.   1.   1.   1.]\n",
      " [  1.   1.   1.   1.   1.   1.   1.   1.   1.]\n",
      " [150. 150. 150. 150.   1. 150. 150. 150. 150.]]\n",
      " 이 때 한 행동 : →\n",
      " 마지막 보상 : -1\n",
      " 총 받은 보상 :4884.2\n",
      " end : True\n",
      " clear : True\n",
      "episode :1, score = 4832.194000000093, n_buffer :100000 , eps : 37.8\n"
     ]
    },
    {
     "name": "stderr",
     "output_type": "stream",
     "text": [
      " 37%|███████████████████████▊                                        | 22301/60000 [2:23:59<4:49:22,  2.17it/s]"
     ]
    },
    {
     "name": "stdout",
     "output_type": "stream",
     "text": [
      "epi = 1\n",
      " 마지막 상태 :\n",
      "[[100.   1. 100. 100. 100. 100. 100. 100.   1.]\n",
      " [  1.   1.   1.   1.   1.   1.   1.   1.   1.]\n",
      " [100.   1.  50.   1.   1.   1.   1.   1. 100.]\n",
      " [100.   1. 150.   1. 150.   1. 150.   1.   1.]\n",
      " [100.   1. 150.   1. 150.   1. 150.   1.   1.]\n",
      " [100.   1. 150.   1. 150.   1. 150.   1.   1.]\n",
      " [  1.   1. 150.   1. 150.   1. 150.   1.   1.]\n",
      " [  1.   1.   1.   1.   1.   1.   1.   1.   1.]\n",
      " [  1.   1.   1.   1.   1.   1.   1.   1.   1.]\n",
      " [150. 150. 150. 150.   1. 150. 150. 150. 150.]]\n",
      " 이 때 한 행동 : →\n",
      " 마지막 보상 : -1\n",
      " 총 받은 보상 :4873.3999999999905\n",
      " end : True\n",
      " clear : True\n",
      "episode :1, score = 4837.572000000252, n_buffer :100000 , eps : 37.7\n"
     ]
    },
    {
     "name": "stderr",
     "output_type": "stream",
     "text": [
      " 37%|███████████████████████▉                                        | 22401/60000 [2:25:02<4:29:43,  2.32it/s]"
     ]
    },
    {
     "name": "stdout",
     "output_type": "stream",
     "text": [
      "epi = 1\n",
      " 마지막 상태 :\n",
      "[[100.   1. 100. 100. 100. 100. 100. 100.   1.]\n",
      " [  1.   1.   1.   1.   1.   1.   1.   1.   1.]\n",
      " [100.   1.   1.   1.   1.   1.   1.   1. 100.]\n",
      " [100.  50. 150.   1. 150.   1. 150.   1.   1.]\n",
      " [100.   1. 150.   1. 150.   1. 150.   1.   1.]\n",
      " [100.   1. 150.   1. 150.   1. 150.   1.   1.]\n",
      " [  1.   1. 150.   1. 150.   1. 150.   1.   1.]\n",
      " [  1.   1.   1.   1.   1.   1.   1.   1.   1.]\n",
      " [  1.   1.   1.   1.   1.   1.   1.   1.   1.]\n",
      " [150. 150. 150. 150.   1. 150. 150. 150. 150.]]\n",
      " 이 때 한 행동 : ↓\n",
      " 마지막 보상 : -1\n",
      " 총 받은 보상 :4898.599999999988\n",
      " end : True\n",
      " clear : True\n",
      "episode :1, score = 4900.586000000169, n_buffer :100000 , eps : 37.6\n"
     ]
    },
    {
     "name": "stderr",
     "output_type": "stream",
     "text": [
      " 38%|████████████████████████                                        | 22501/60000 [2:25:53<3:28:41,  2.99it/s]"
     ]
    },
    {
     "name": "stdout",
     "output_type": "stream",
     "text": [
      "epi = 1\n",
      " 마지막 상태 :\n",
      "[[100.   1. 100. 100. 100. 100. 100. 100.   1.]\n",
      " [  1.   1.   1.  50.   1.   1.   1.   1.   1.]\n",
      " [100.   1.   1.   1.   1.   1.   1.   1. 100.]\n",
      " [100.   1. 150.   1. 150.   1. 150.   1.   1.]\n",
      " [100.   1. 150.   1. 150.   1. 150.   1.   1.]\n",
      " [100.   1. 150.   1. 150.   1. 150.   1.   1.]\n",
      " [  1.   1. 150.   1. 150.   1. 150.   1.   1.]\n",
      " [  1.   1.   1.   1.   1.   1.   1.   1.   1.]\n",
      " [  1.   1.   1.   1.   1.   1.   1.   1.   1.]\n",
      " [150. 150. 150. 150.   1. 150. 150. 150. 150.]]\n",
      " 이 때 한 행동 : →\n",
      " 마지막 보상 : -1\n",
      " 총 받은 보상 :4885.0999999999985\n",
      " end : True\n",
      " clear : True\n",
      "episode :1, score = 4903.644000000163, n_buffer :100000 , eps : 37.5\n"
     ]
    },
    {
     "name": "stderr",
     "output_type": "stream",
     "text": [
      " 38%|████████████████████████                                        | 22601/60000 [2:26:39<3:03:51,  3.39it/s]"
     ]
    },
    {
     "name": "stdout",
     "output_type": "stream",
     "text": [
      "epi = 1\n",
      " 마지막 상태 :\n",
      "[[100.   1. 100. 100. 100. 100. 100. 100.   1.]\n",
      " [  1.   1.   1.   1.  50.   1.   1.   1.   1.]\n",
      " [100.   1.   1.   1.   1.   1.   1.   1. 100.]\n",
      " [100.   1. 150.   1. 150.   1. 150.   1.   1.]\n",
      " [100.   1. 150.   1. 150.   1. 150.   1.   1.]\n",
      " [100.   1. 150.   1. 150.   1. 150.   1.   1.]\n",
      " [  1.   1. 150.   1. 150.   1. 150.   1.   1.]\n",
      " [  1.   1.   1.   1.   1.   1.   1.   1.   1.]\n",
      " [  1.   1.   1.   1.   1.   1.   1.   1.   1.]\n",
      " [150. 150. 150. 150.   1. 150. 150. 150. 150.]]\n",
      " 이 때 한 행동 : ↑\n",
      " 마지막 보상 : -0.1\n",
      " 총 받은 보상 :4912.099999999999\n",
      " end : True\n",
      " clear : True\n",
      "episode :1, score = 4750.27000000013, n_buffer :100000 , eps : 37.4\n"
     ]
    },
    {
     "name": "stderr",
     "output_type": "stream",
     "text": [
      " 38%|███████████████████████▊                                       | 22701/60000 [2:27:57<17:09:00,  1.66s/it]"
     ]
    },
    {
     "name": "stdout",
     "output_type": "stream",
     "text": [
      "epi = 1\n",
      " 마지막 상태 :\n",
      "[[100.   1. 100. 100. 100. 100. 100. 100.   1.]\n",
      " [  1.   1.   1.   1.   1.   1.   1.   1.   1.]\n",
      " [100.   1.   1.   1.   1.   1.   1.   1. 100.]\n",
      " [100.   1. 150.   1. 150.   1. 150.   1.   1.]\n",
      " [100.   1. 150.   1. 150.   1. 150.   1.   1.]\n",
      " [100.   1. 150.   1. 150.   1. 150.   1.   1.]\n",
      " [  1.   1. 150.   1. 150.   1. 150.   1.   1.]\n",
      " [  1.   1.   1.   1.   1.   1.   1.   1.   1.]\n",
      " [  1.   1.   1.   1.   1.   1.   1.   1.   1.]\n",
      " [150. 150. 150. 150.  50. 150. 150. 150. 150.]]\n",
      " 이 때 한 행동 : ↓\n",
      " 마지막 보상 : 1000\n",
      " 총 받은 보상 :5907.199999999999\n",
      " end : True\n",
      " clear : finish\n",
      "episode :1, score = 4827.598000000123, n_buffer :100000 , eps : 37.3\n"
     ]
    },
    {
     "name": "stderr",
     "output_type": "stream",
     "text": [
      " 38%|████████████████████████▎                                       | 22801/60000 [2:29:54<4:11:23,  2.47it/s]"
     ]
    },
    {
     "name": "stdout",
     "output_type": "stream",
     "text": [
      "epi = 1\n",
      " 마지막 상태 :\n",
      "[[100.   1. 100. 100. 100. 100. 100. 100.   1.]\n",
      " [  1.   1.   1.   1.   1.   1.   1.   1.   1.]\n",
      " [100.   1.   1.   1.   1.   1.   1.   1. 100.]\n",
      " [100.   1. 150.   1. 150.   1. 150.   1.   1.]\n",
      " [100.   1. 150.   1. 150.   1. 150.   1.   1.]\n",
      " [100.   1. 150.   1. 150.   1. 150.   1.   1.]\n",
      " [  1.   1. 150.   1. 150.   1. 150.   1.   1.]\n",
      " [  1.   1.   1.   1.   1.  50.   1.   1.   1.]\n",
      " [  1.   1.   1.   1.   1.   1.   1.   1.   1.]\n",
      " [150. 150. 150. 150.   1. 150. 150. 150. 150.]]\n",
      " 이 때 한 행동 : →\n",
      " 마지막 보상 : -1\n",
      " 총 받은 보상 :4900.3999999999905\n",
      " end : True\n",
      " clear : True\n",
      "episode :1, score = 4864.55900000014, n_buffer :100000 , eps : 37.2\n"
     ]
    },
    {
     "name": "stderr",
     "output_type": "stream",
     "text": [
      " 38%|████████████████████████▍                                       | 22901/60000 [2:31:32<8:52:12,  1.16it/s]"
     ]
    },
    {
     "name": "stdout",
     "output_type": "stream",
     "text": [
      "epi = 1\n",
      " 마지막 상태 :\n",
      "[[100.   1. 100. 100. 100. 100. 100. 100.   1.]\n",
      " [  1.   1.   1.   1.   1.   1.   1.   1.   1.]\n",
      " [100.   1.   1.   1.   1.   1.   1.   1. 100.]\n",
      " [100.   1. 150.   1. 150.   1. 150.   1.   1.]\n",
      " [100.   1. 150.   1. 150.   1. 150.   1.   1.]\n",
      " [100.   1. 150.   1. 150.   1. 150.   1.   1.]\n",
      " [  1.   1. 150.   1. 150.   1. 150.   1.   1.]\n",
      " [  1.   1.   1.   1.   1.   1.   1.   1.   1.]\n",
      " [  1.   1.   1.   1.   1.   1.  50.   1.   1.]\n",
      " [150. 150. 150. 150.   1. 150. 150. 150. 150.]]\n",
      " 이 때 한 행동 : ↓\n",
      " 마지막 보상 : -1\n",
      " 총 받은 보상 :4879.700000000001\n",
      " end : True\n",
      " clear : True\n",
      "episode :1, score = 4897.731000000042, n_buffer :100000 , eps : 37.1\n"
     ]
    },
    {
     "name": "stderr",
     "output_type": "stream",
     "text": [
      " 38%|████████████████████████▌                                       | 23001/60000 [2:32:53<6:09:16,  1.67it/s]"
     ]
    },
    {
     "name": "stdout",
     "output_type": "stream",
     "text": [
      "epi = 1\n",
      " 마지막 상태 :\n",
      "[[100. 200. 100. 100. 100. 100. 100. 100.   1.]\n",
      " [  1.   1.   1.   1.   1.   1.   1.   1.   1.]\n",
      " [100.  50.   1.   1.   1.   1.   1.   1. 100.]\n",
      " [100.   1. 150.   1. 150.   1. 150.   1.   1.]\n",
      " [100.   1. 150.   1. 150.   1. 150.   1.   1.]\n",
      " [100.   1. 150.   1. 150.   1. 150.   1.   1.]\n",
      " [  1.   1. 150.   1. 150.   1. 150.   1.   1.]\n",
      " [  1.   1.   1.   1.   1.   1.   1.   1.   1.]\n",
      " [  1.   1.   1.   1.   1.   1.   1.   1.   1.]\n",
      " [150. 150. 150. 150.   1. 150. 150. 150. 150.]]\n",
      " 이 때 한 행동 : ←\n",
      " 마지막 보상 : -0.1\n",
      " 총 받은 보상 :3855.3000000000043\n",
      " end : True\n",
      " clear : True\n",
      "episode :1, score = 4799.950000000172, n_buffer :100000 , eps : 37.0\n"
     ]
    },
    {
     "name": "stderr",
     "output_type": "stream",
     "text": [
      " 39%|████████████████████████▋                                       | 23101/60000 [2:34:05<3:49:12,  2.68it/s]"
     ]
    },
    {
     "name": "stdout",
     "output_type": "stream",
     "text": [
      "epi = 1\n",
      " 마지막 상태 :\n",
      "[[100.   1. 100. 100. 100. 100. 100. 100.   1.]\n",
      " [  1.   1.   1.   1.   1.   1.   1.   1.   1.]\n",
      " [100.   1.   1.   1.   1.   1.   1.   1. 100.]\n",
      " [100.   1. 150.   1. 150.   1. 150.   1.   1.]\n",
      " [100.   1. 150.   1. 150.   1. 150.   1.   1.]\n",
      " [100.   1. 150.   1. 150.   1. 150.   1.   1.]\n",
      " [  1.   1. 150.   1. 150.   1. 150.   1.   1.]\n",
      " [  1.   1.   1.   1.   1.   1.   1.  50.   1.]\n",
      " [  1.   1.   1.   1.   1.   1.   1.   1.   1.]\n",
      " [150. 150. 150. 150.   1. 150. 150. 150. 150.]]\n",
      " 이 때 한 행동 : →\n",
      " 마지막 보상 : -1\n",
      " 총 받은 보상 :4841.9\n",
      " end : True\n",
      " clear : True\n",
      "episode :1, score = 4887.165000000084, n_buffer :100000 , eps : 36.9\n"
     ]
    },
    {
     "name": "stderr",
     "output_type": "stream",
     "text": [
      " 39%|████████████████████████▋                                       | 23201/60000 [2:36:01<7:40:13,  1.33it/s]"
     ]
    },
    {
     "name": "stdout",
     "output_type": "stream",
     "text": [
      "epi = 1\n",
      " 마지막 상태 :\n",
      "[[100.   1. 100. 100. 100. 100. 100. 100.   1.]\n",
      " [  1.   1.   1.   1.   1.   1.   1.   1.   1.]\n",
      " [100.   1.   1.   1.   1.   1.   1.   1. 100.]\n",
      " [100.   1. 150.   1. 150.   1. 150.   1.   1.]\n",
      " [100.   1. 150.   1. 150.   1. 150.   1.   1.]\n",
      " [100.   1. 150.   1. 150.   1. 150.   1.   1.]\n",
      " [  1.   1. 150.   1. 150.   1. 150.   1.   1.]\n",
      " [  1.   1.   1.   1.   1.   1.  50.   1.   1.]\n",
      " [  1.   1.   1.   1.   1.   1.   1.   1.   1.]\n",
      " [150. 150. 150. 150.   1. 150. 150. 150. 150.]]\n",
      " 이 때 한 행동 : ↑\n",
      " 마지막 보상 : -1\n",
      " 총 받은 보상 :4880.6\n",
      " end : True\n",
      " clear : True\n",
      "episode :1, score = 4996.6570000001175, n_buffer :100000 , eps : 36.8\n"
     ]
    },
    {
     "name": "stderr",
     "output_type": "stream",
     "text": [
      " 39%|████████████████████████▊                                       | 23301/60000 [2:38:18<5:45:37,  1.77it/s]"
     ]
    },
    {
     "name": "stdout",
     "output_type": "stream",
     "text": [
      "epi = 1\n",
      " 마지막 상태 :\n",
      "[[100.   1. 100. 100. 100. 100. 100. 100.   1.]\n",
      " [  1.   1.   1.   1.   1.   1.   1.   1.   1.]\n",
      " [100.   1.   1.   1.   1.   1.   1.   1. 100.]\n",
      " [100.   1. 150.  50. 150.   1. 150.   1.   1.]\n",
      " [100.   1. 150.   1. 150.   1. 150.   1.   1.]\n",
      " [100.   1. 150.   1. 150.   1. 150.   1.   1.]\n",
      " [  1.   1. 150.   1. 150.   1. 150.   1.   1.]\n",
      " [  1.   1.   1.   1.   1.   1.   1.   1.   1.]\n",
      " [  1.   1.   1.   1.   1.   1.   1.   1.   1.]\n",
      " [150. 150. 150. 150.   1. 150. 150. 150. 150.]]\n",
      " 이 때 한 행동 : ↓\n",
      " 마지막 보상 : -1\n",
      " 총 받은 보상 :4881.500000000001\n",
      " end : True\n",
      " clear : True\n",
      "episode :1, score = 4993.765000000121, n_buffer :100000 , eps : 36.7\n"
     ]
    },
    {
     "name": "stderr",
     "output_type": "stream",
     "text": [
      " 39%|████████████████████████▌                                      | 23401/60000 [2:40:01<26:10:18,  2.57s/it]"
     ]
    },
    {
     "name": "stdout",
     "output_type": "stream",
     "text": [
      "epi = 1\n",
      " 마지막 상태 :\n",
      "[[100.   1. 100. 100. 100. 100. 100. 100.   1.]\n",
      " [  1.   1.   1.   1.   1.   1.   1.   1.   1.]\n",
      " [100.   1.   1.   1.   1.   1.   1.   1. 100.]\n",
      " [100.   1. 150.   1. 150.   1. 150.   1.   1.]\n",
      " [100.   1. 150.   1. 150.   1. 150.   1.   1.]\n",
      " [100.   1. 150.   1. 150.   1. 150.   1.   1.]\n",
      " [  1.   1. 150.   1. 150.   1. 150.   1.   1.]\n",
      " [  1.   1.   1.   1.   1.   1.   1.   1.   1.]\n",
      " [  1.   1.   1.   1.   1.   1.   1.   1.   1.]\n",
      " [150. 150. 150. 150.  50. 150. 150. 150. 150.]]\n",
      " 이 때 한 행동 : ↓\n",
      " 마지막 보상 : 1000\n",
      " 총 받은 보상 :5877.7\n",
      " end : True\n",
      " clear : finish\n",
      "episode :1, score = 4906.702000000067, n_buffer :100000 , eps : 36.6\n"
     ]
    },
    {
     "name": "stderr",
     "output_type": "stream",
     "text": [
      " 39%|█████████████████████████                                       | 23501/60000 [2:40:54<3:07:14,  3.25it/s]"
     ]
    },
    {
     "name": "stdout",
     "output_type": "stream",
     "text": [
      "epi = 1\n",
      " 마지막 상태 :\n",
      "[[100.   1. 100. 100. 100. 100. 100. 100.   1.]\n",
      " [  1.   1.   1.   1.   1.   1.   1.   1.   1.]\n",
      " [100.   1.   1.   1.   1.   1.   1.   1. 100.]\n",
      " [100.   1. 150.   1. 150.   1. 150.   1.  50.]\n",
      " [100.   1. 150.   1. 150.   1. 150.   1.   1.]\n",
      " [100.   1. 150.   1. 150.   1. 150.   1.   1.]\n",
      " [  1.   1. 150.   1. 150.   1. 150.   1.   1.]\n",
      " [  1.   1.   1.   1.   1.   1.   1.   1.   1.]\n",
      " [  1.   1.   1.   1.   1.   1.   1.   1.   1.]\n",
      " [150. 150. 150. 150.   1. 150. 150. 150. 150.]]\n",
      " 이 때 한 행동 : ↑\n",
      " 마지막 보상 : -0.1\n",
      " 총 받은 보상 :4802.299999999997\n",
      " end : True\n",
      " clear : True\n",
      "episode :1, score = 4876.882000000101, n_buffer :100000 , eps : 36.5\n"
     ]
    },
    {
     "name": "stderr",
     "output_type": "stream",
     "text": [
      " 39%|█████████████████████████▏                                      | 23601/60000 [2:42:05<6:44:20,  1.50it/s]"
     ]
    },
    {
     "name": "stdout",
     "output_type": "stream",
     "text": [
      "epi = 1\n",
      " 마지막 상태 :\n",
      "[[100.   1. 100. 100. 100. 100. 100. 100.   1.]\n",
      " [  1.   1.   1.   1.   1.   1.  50.   1.   1.]\n",
      " [100.   1.   1.   1.   1.   1.   1.   1. 100.]\n",
      " [100.   1. 150.   1. 150.   1. 150.   1.   1.]\n",
      " [100.   1. 150.   1. 150.   1. 150.   1.   1.]\n",
      " [100.   1. 150.   1. 150.   1. 150.   1.   1.]\n",
      " [  1.   1. 150.   1. 150.   1. 150.   1.   1.]\n",
      " [  1.   1.   1.   1.   1.   1.   1.   1.   1.]\n",
      " [  1.   1.   1.   1.   1.   1.   1.   1.   1.]\n",
      " [150. 150. 150. 150.   1. 150. 150. 150. 150.]]\n",
      " 이 때 한 행동 : ↑\n",
      " 마지막 보상 : -1\n",
      " 총 받은 보상 :4779.800000000001\n",
      " end : True\n",
      " clear : True\n",
      "episode :1, score = 4940.143000000151, n_buffer :100000 , eps : 36.4\n"
     ]
    },
    {
     "name": "stderr",
     "output_type": "stream",
     "text": [
      " 40%|█████████████████████████▎                                      | 23701/60000 [2:42:55<2:53:13,  3.49it/s]"
     ]
    },
    {
     "name": "stdout",
     "output_type": "stream",
     "text": [
      "epi = 1\n",
      " 마지막 상태 :\n",
      "[[100.   1. 100. 100. 100. 100. 100. 100.   1.]\n",
      " [  1.   1.   1.   1.   1.   1.  50.   1.   1.]\n",
      " [100.   1.   1.   1.   1.   1.   1.   1. 100.]\n",
      " [100.   1. 150.   1. 150.   1. 150.   1.   1.]\n",
      " [100.   1. 150.   1. 150.   1. 150.   1.   1.]\n",
      " [100.   1. 150.   1. 150.   1. 150.   1.   1.]\n",
      " [  1.   1. 150.   1. 150.   1. 150.   1.   1.]\n",
      " [  1.   1.   1.   1.   1.   1.   1.   1.   1.]\n",
      " [  1.   1.   1.   1.   1.   1.   1.   1.   1.]\n",
      " [150. 150. 150. 150.   1. 150. 150. 150. 150.]]\n",
      " 이 때 한 행동 : ↑\n",
      " 마지막 보상 : -0.1\n",
      " 총 받은 보상 :4891.399999999994\n",
      " end : True\n",
      " clear : True\n",
      "episode :1, score = 4783.299000000136, n_buffer :100000 , eps : 36.3\n"
     ]
    },
    {
     "name": "stderr",
     "output_type": "stream",
     "text": [
      " 40%|█████████████████████████▍                                      | 23801/60000 [2:44:28<5:53:40,  1.71it/s]"
     ]
    },
    {
     "name": "stdout",
     "output_type": "stream",
     "text": [
      "epi = 1\n",
      " 마지막 상태 :\n",
      "[[100. 200. 100. 100. 100. 100. 100. 100.   1.]\n",
      " [  1.   1.   1.   1.   1.   1.   1.   1.   1.]\n",
      " [100.   1.   1.   1.   1.   1.  50.   1. 100.]\n",
      " [100.   1. 150.   1. 150.   1. 150.   1.   1.]\n",
      " [100.   1. 150.   1. 150.   1. 150.   1.   1.]\n",
      " [100.   1. 150.   1. 150.   1. 150.   1.   1.]\n",
      " [  1.   1. 150.   1. 150.   1. 150.   1.   1.]\n",
      " [  1.   1.   1.   1.   1.   1.   1.   1.   1.]\n",
      " [  1.   1.   1.   1.   1.   1.   1.   1.   1.]\n",
      " [150. 150. 150. 150.   1. 150. 150. 150. 150.]]\n",
      " 이 때 한 행동 : ↓\n",
      " 마지막 보상 : -10\n",
      " 총 받은 보상 :3821.1000000000035\n",
      " end : True\n",
      " clear : True\n",
      "episode :1, score = 4920.041000000161, n_buffer :100000 , eps : 36.199999999999996\n"
     ]
    },
    {
     "name": "stderr",
     "output_type": "stream",
     "text": [
      " 40%|█████████████████████████▍                                      | 23902/60000 [2:45:29<7:24:15,  1.35it/s]"
     ]
    },
    {
     "name": "stdout",
     "output_type": "stream",
     "text": [
      "epi = 1\n",
      " 마지막 상태 :\n",
      "[[100.   1. 100. 100. 100. 100. 100. 100.   1.]\n",
      " [  1.   1.   1.   1.   1.  50.   1.   1.   1.]\n",
      " [100.   1.   1.   1.   1.   1.   1.   1. 100.]\n",
      " [100.   1. 150.   1. 150.   1. 150.   1.   1.]\n",
      " [100.   1. 150.   1. 150.   1. 150.   1.   1.]\n",
      " [100.   1. 150.   1. 150.   1. 150.   1.   1.]\n",
      " [  1.   1. 150.   1. 150.   1. 150.   1.   1.]\n",
      " [  1.   1.   1.   1.   1.   1.   1.   1.   1.]\n",
      " [  1.   1.   1.   1.   1.   1.   1.   1.   1.]\n",
      " [150. 150. 150. 150.   1. 150. 150. 150. 150.]]\n",
      " 이 때 한 행동 : ↑\n",
      " 마지막 보상 : -0.1\n",
      " 총 받은 보상 :4921.099999999989\n",
      " end : True\n",
      " clear : True\n",
      "episode :1, score = 4806.604000000199, n_buffer :100000 , eps : 36.1\n"
     ]
    },
    {
     "name": "stderr",
     "output_type": "stream",
     "text": [
      " 40%|█████████████████████████▌                                      | 24002/60000 [2:46:01<1:49:47,  5.46it/s]"
     ]
    },
    {
     "name": "stdout",
     "output_type": "stream",
     "text": [
      "epi = 1\n",
      " 마지막 상태 :\n",
      "[[100. 200. 100. 100. 100. 100. 100. 100. 200.]\n",
      " [  1.   1.   1.   1.   1.   1.   1.   1.   1.]\n",
      " [100.   1.   1.   1.   1.   1.   1.  50. 100.]\n",
      " [100.   1. 150.   1. 150.   1. 150.   1.   1.]\n",
      " [100.   1. 150.   1. 150.   1. 150.   1.   1.]\n",
      " [100.   1. 150.   1. 150.   1. 150.   1.   1.]\n",
      " [  1.   1. 150.   1. 150.   1. 150.   1.   1.]\n",
      " [  1.   1.   1.   1.   1.   1.   1.   1.   1.]\n",
      " [  1.   1.   1.   1.   1.   1.   1.   1.   1.]\n",
      " [150. 150. 150. 150.   1. 150. 150. 150. 150.]]\n",
      " 이 때 한 행동 : →\n",
      " 마지막 보상 : -0.1\n",
      " 총 받은 보상 :2944.3000000000043\n",
      " end : True\n",
      " clear : True\n",
      "episode :1, score = 4396.752000000206, n_buffer :100000 , eps : 36.0\n"
     ]
    },
    {
     "name": "stderr",
     "output_type": "stream",
     "text": [
      " 40%|█████████████████████████▋                                      | 24102/60000 [2:46:35<1:25:22,  7.01it/s]"
     ]
    },
    {
     "name": "stdout",
     "output_type": "stream",
     "text": [
      "epi = 1\n",
      " 마지막 상태 :\n",
      "[[100.   1. 100. 100. 100. 100. 100. 100.   1.]\n",
      " [  1.   1.   1.   1.   1.   1.   1.   1.   1.]\n",
      " [100.   1.   1.   1.   1.   1.   1.   1. 100.]\n",
      " [100.   1. 150.   1. 150.   1. 150.   1.   1.]\n",
      " [100.  50. 150.   1. 150.   1. 150.   1.   1.]\n",
      " [100.   1. 150.   1. 150.   1. 150.   1.   1.]\n",
      " [  1.   1. 150.   1. 150.   1. 150.   1.   1.]\n",
      " [  1.   1.   1.   1.   1.   1.   1.   1.   1.]\n",
      " [  1.   1.   1.   1.   1.   1.   1.   1.   1.]\n",
      " [150. 150. 150. 150.   1. 150. 150. 150. 150.]]\n",
      " 이 때 한 행동 : ←\n",
      " 마지막 보상 : -0.1\n",
      " 총 받은 보상 :4836.499999999993\n",
      " end : True\n",
      " clear : True\n",
      "episode :1, score = 4660.867000000229, n_buffer :100000 , eps : 35.9\n"
     ]
    },
    {
     "name": "stderr",
     "output_type": "stream",
     "text": [
      " 40%|█████████████████████████▊                                      | 24202/60000 [2:47:01<1:48:32,  5.50it/s]"
     ]
    },
    {
     "name": "stdout",
     "output_type": "stream",
     "text": [
      "epi = 1\n",
      " 마지막 상태 :\n",
      "[[100.   1. 100. 100. 100. 100. 100. 100.   1.]\n",
      " [  1.   1.   1.   1.   1.   1.   1.   1.   1.]\n",
      " [100.   1.   1.   1.   1.   1.   1.   1. 100.]\n",
      " [100.  50. 150.   1. 150.   1. 150.   1.   1.]\n",
      " [100.   1. 150.   1. 150.   1. 150.   1.   1.]\n",
      " [100.   1. 150.   1. 150.   1. 150.   1.   1.]\n",
      " [  1.   1. 150.   1. 150.   1. 150.   1.   1.]\n",
      " [  1.   1.   1.   1.   1.   1.   1.   1.   1.]\n",
      " [  1.   1.   1.   1.   1.   1.   1.   1.   1.]\n",
      " [150. 150. 150. 150.   1. 150. 150. 150. 150.]]\n",
      " 이 때 한 행동 : ↓\n",
      " 마지막 보상 : -1\n",
      " 총 받은 보상 :4903.999999999987\n",
      " end : True\n",
      " clear : True\n",
      "episode :1, score = 4237.479000000276, n_buffer :100000 , eps : 35.8\n"
     ]
    },
    {
     "name": "stderr",
     "output_type": "stream",
     "text": [
      " 41%|█████████████████████████▉                                      | 24302/60000 [2:47:29<1:24:55,  7.01it/s]"
     ]
    },
    {
     "name": "stdout",
     "output_type": "stream",
     "text": [
      "epi = 1\n",
      " 마지막 상태 :\n",
      "[[100. 200. 100. 100. 100. 100. 100. 100.   1.]\n",
      " [  1.   1.   1.   1.   1.   1.   1.   1.   1.]\n",
      " [100.   1.   1.   1.   1.   1.   1.   1. 100.]\n",
      " [100.   1. 150.   1. 150.   1. 150.   1.   1.]\n",
      " [100.   1. 150.   1. 150.   1. 150.  50.   1.]\n",
      " [100.   1. 150.   1. 150.   1. 150.   1.   1.]\n",
      " [  1.   1. 150.   1. 150.   1. 150.   1.   1.]\n",
      " [  1.   1.   1.   1.   1.   1.   1.   1.   1.]\n",
      " [  1.   1.   1.   1.   1.   1.   1.   1.   1.]\n",
      " [150. 150. 150. 150.   1. 150. 150. 150. 150.]]\n",
      " 이 때 한 행동 : ↓\n",
      " 마지막 보상 : -1\n",
      " 총 받은 보상 :3746.4000000000033\n",
      " end : True\n",
      " clear : True\n",
      "episode :1, score = 4806.403000000225, n_buffer :100000 , eps : 35.699999999999996\n"
     ]
    },
    {
     "name": "stderr",
     "output_type": "stream",
     "text": [
      " 41%|██████████████████████████                                      | 24402/60000 [2:48:38<5:21:24,  1.85it/s]"
     ]
    },
    {
     "name": "stdout",
     "output_type": "stream",
     "text": [
      "epi = 1\n",
      " 마지막 상태 :\n",
      "[[100.   1. 100. 100. 100. 100. 100. 100.   1.]\n",
      " [  1.   1.   1.   1.   1.   1.   1.   1.   1.]\n",
      " [100.   1.   1.   1.   1.   1.   1.   1. 100.]\n",
      " [100.   1. 150.   1. 150.   1. 150.   1.   1.]\n",
      " [100.   1. 150.   1. 150.   1. 150.   1.   1.]\n",
      " [100.   1. 150.   1. 150.   1. 150.   1.   1.]\n",
      " [  1.  50. 150.   1. 150.   1. 150.   1.   1.]\n",
      " [  1.   1.   1.   1.   1.   1.   1.   1.   1.]\n",
      " [  1.   1.   1.   1.   1.   1.   1.   1.   1.]\n",
      " [150. 150. 150. 150.   1. 150. 150. 150. 150.]]\n",
      " 이 때 한 행동 : →\n",
      " 마지막 보상 : -1\n",
      " 총 받은 보상 :4869.799999999996\n",
      " end : True\n",
      " clear : True\n",
      "episode :1, score = 4968.195000000139, n_buffer :100000 , eps : 35.6\n"
     ]
    },
    {
     "name": "stderr",
     "output_type": "stream",
     "text": [
      " 41%|██████████████████████████▏                                     | 24502/60000 [2:50:17<7:56:18,  1.24it/s]"
     ]
    },
    {
     "name": "stdout",
     "output_type": "stream",
     "text": [
      "epi = 1\n",
      " 마지막 상태 :\n",
      "[[100.   1. 100. 100. 100. 100. 100. 100.   1.]\n",
      " [  1.   1.   1.   1.   1.   1.   1.   1.   1.]\n",
      " [100.   1.  50.   1.   1.   1.   1.   1. 100.]\n",
      " [100.   1. 150.   1. 150.   1. 150.   1.   1.]\n",
      " [100.   1. 150.   1. 150.   1. 150.   1.   1.]\n",
      " [100.   1. 150.   1. 150.   1. 150.   1.   1.]\n",
      " [  1.   1. 150.   1. 150.   1. 150.   1.   1.]\n",
      " [  1.   1.   1.   1.   1.   1.   1.   1.   1.]\n",
      " [  1.   1.   1.   1.   1.   1.   1.   1.   1.]\n",
      " [150. 150. 150. 150.   1. 150. 150. 150. 150.]]\n",
      " 이 때 한 행동 : →\n",
      " 마지막 보상 : -1\n",
      " 총 받은 보상 :4852.699999999989\n",
      " end : True\n",
      " clear : True\n",
      "episode :1, score = 5105.899000000288, n_buffer :100000 , eps : 35.5\n"
     ]
    },
    {
     "name": "stderr",
     "output_type": "stream",
     "text": [
      " 41%|██████████████████████████▏                                     | 24602/60000 [2:51:11<1:24:14,  7.00it/s]"
     ]
    },
    {
     "name": "stdout",
     "output_type": "stream",
     "text": [
      "epi = 1\n",
      " 마지막 상태 :\n",
      "[[100.   1. 100. 100. 100. 100. 100. 100.   1.]\n",
      " [  1.  50.   1.   1.   1.   1.   1.   1.   1.]\n",
      " [100.   1.   1.   1.   1.   1.   1.   1. 100.]\n",
      " [100.   1. 150.   1. 150.   1. 150.   1.   1.]\n",
      " [100.   1. 150.   1. 150.   1. 150.   1.   1.]\n",
      " [100.   1. 150.   1. 150.   1. 150.   1.   1.]\n",
      " [  1.   1. 150.   1. 150.   1. 150.   1.   1.]\n",
      " [  1.   1.   1.   1.   1.   1.   1.   1.   1.]\n",
      " [  1.   1.   1.   1.   1.   1.   1.   1.   1.]\n",
      " [150. 150. 150. 150.   1. 150. 150. 150. 150.]]\n",
      " 이 때 한 행동 : ↑\n",
      " 마지막 보상 : -1\n",
      " 총 받은 보상 :4888.699999999995\n",
      " end : True\n",
      " clear : True\n",
      "episode :1, score = 4869.117000000198, n_buffer :100000 , eps : 35.4\n"
     ]
    },
    {
     "name": "stderr",
     "output_type": "stream",
     "text": [
      " 41%|██████████████████████████▎                                     | 24702/60000 [2:52:32<2:52:51,  3.40it/s]"
     ]
    },
    {
     "name": "stdout",
     "output_type": "stream",
     "text": [
      "epi = 1\n",
      " 마지막 상태 :\n",
      "[[100.  50. 100. 100. 100. 100. 100. 100.   1.]\n",
      " [  1.   1.   1.   1.   1.   1.   1.   1.   1.]\n",
      " [100.   1.   1.   1.   1.   1.   1.   1. 100.]\n",
      " [100.   1. 150.   1. 150.   1. 150.   1.   1.]\n",
      " [100.   1. 150.   1. 150.   1. 150.   1.   1.]\n",
      " [100.   1. 150.   1. 150.   1. 150.   1.   1.]\n",
      " [  1.   1. 150.   1. 150.   1. 150.   1.   1.]\n",
      " [  1.   1.   1.   1.   1.   1.   1.   1.   1.]\n",
      " [  1.   1.   1.   1.   1.   1.   1.   1.   1.]\n",
      " [150. 150. 150. 150.   1. 150. 150. 150. 150.]]\n",
      " 이 때 한 행동 : ←\n",
      " 마지막 보상 : -0.1\n",
      " 총 받은 보상 :4912.999999999985\n",
      " end : True\n",
      " clear : True\n",
      "episode :1, score = 4984.480000000169, n_buffer :100000 , eps : 35.3\n"
     ]
    },
    {
     "name": "stderr",
     "output_type": "stream",
     "text": [
      " 41%|██████████████████████████▍                                     | 24802/60000 [2:53:45<8:47:47,  1.11it/s]"
     ]
    },
    {
     "name": "stdout",
     "output_type": "stream",
     "text": [
      "epi = 1\n",
      " 마지막 상태 :\n",
      "[[100.   1. 100. 100. 100. 100. 100. 100.   1.]\n",
      " [  1.   1.   1.   1.   1.   1.   1.   1.   1.]\n",
      " [100.   1.   1.   1.   1.   1.   1.   1. 100.]\n",
      " [100.   1. 150.   1. 150.   1. 150.   1.   1.]\n",
      " [100.   1. 150.   1. 150.   1. 150.   1.   1.]\n",
      " [100.   1. 150.   1. 150.   1. 150.   1.   1.]\n",
      " [  1.   1. 150.   1. 150.   1. 150.   1.   1.]\n",
      " [  1.   1.   1.   1.   1.   1.   1.   1.   1.]\n",
      " [  1.   1.   1.   1.   1.   1.   1.   1.   1.]\n",
      " [150. 150. 150. 150.  50. 150. 150. 150. 150.]]\n",
      " 이 때 한 행동 : ↓\n",
      " 마지막 보상 : 1000\n",
      " 총 받은 보상 :5793.999999999993\n",
      " end : True\n",
      " clear : finish\n",
      "episode :1, score = 4758.568000000235, n_buffer :100000 , eps : 35.199999999999996\n"
     ]
    },
    {
     "name": "stderr",
     "output_type": "stream",
     "text": [
      " 42%|██████████████████████████▏                                    | 24901/60000 [2:55:27<10:34:33,  1.08s/it]"
     ]
    },
    {
     "name": "stdout",
     "output_type": "stream",
     "text": [
      "epi = 1\n",
      " 마지막 상태 :\n",
      "[[100.   1. 100. 100. 100. 100. 100. 100.   1.]\n",
      " [  1.   1.   1.   1.   1.   1.   1.   1.   1.]\n",
      " [100.   1.   1.   1.   1.   1.   1.   1. 100.]\n",
      " [100.   1. 150.   1. 150.   1. 150.   1.   1.]\n",
      " [100.   1. 150.   1. 150.   1. 150.   1.   1.]\n",
      " [100.   1. 150.   1. 150.   1. 150.   1.   1.]\n",
      " [  1.   1. 150.   1. 150.   1. 150.   1.   1.]\n",
      " [  1.   1.   1.   1.   1.  50.   1.   1.   1.]\n",
      " [  1.   1.   1.   1.   1.   1.   1.   1.   1.]\n",
      " [150. 150. 150. 150.   1. 150. 150. 150. 150.]]\n",
      " 이 때 한 행동 : ↑\n",
      " 마지막 보상 : -1\n",
      " 총 받은 보상 :4737.499999999998\n",
      " end : True\n",
      " clear : True\n",
      "episode :1, score = 4729.325000000088, n_buffer :100000 , eps : 35.099999999999994\n"
     ]
    },
    {
     "name": "stderr",
     "output_type": "stream",
     "text": [
      " 42%|██████████████████████████▎                                    | 25001/60000 [2:58:38<23:43:07,  2.44s/it]"
     ]
    },
    {
     "name": "stdout",
     "output_type": "stream",
     "text": [
      "epi = 1\n",
      " 마지막 상태 :\n",
      "[[100.   1. 100. 100. 100. 100. 100. 100.   1.]\n",
      " [  1.   1.   1.   1.   1.   1.   1.   1.   1.]\n",
      " [100.   1.   1.   1.   1.   1.   1.   1. 100.]\n",
      " [100.   1. 150.   1. 150.   1. 150.   1.   1.]\n",
      " [100.   1. 150.   1. 150.   1. 150.   1.   1.]\n",
      " [100.   1. 150.   1. 150.   1. 150.   1.   1.]\n",
      " [  1.   1. 150.   1. 150.   1. 150.   1.   1.]\n",
      " [  1.   1.   1.   1.   1.   1.   1.   1.   1.]\n",
      " [  1.   1.   1.   1.   1.   1.   1.   1.   1.]\n",
      " [150. 150. 150. 150.  50. 150. 150. 150. 150.]]\n",
      " 이 때 한 행동 : ↓\n",
      " 마지막 보상 : 1000\n",
      " 총 받은 보상 :5866.2999999999965\n",
      " end : True\n",
      " clear : True\n",
      "episode :1, score = 5370.257000000059, n_buffer :100000 , eps : 35.0\n"
     ]
    },
    {
     "name": "stderr",
     "output_type": "stream",
     "text": [
      " 42%|██████████████████████████▎                                    | 25102/60000 [3:01:05<14:50:28,  1.53s/it]"
     ]
    },
    {
     "name": "stdout",
     "output_type": "stream",
     "text": [
      "epi = 1\n",
      " 마지막 상태 :\n",
      "[[100.   1. 100. 100. 100. 100. 100. 100.   1.]\n",
      " [  1.   1.   1.   1.   1.   1.   1.   1.   1.]\n",
      " [100.   1.   1.   1.   1.   1.   1.   1. 100.]\n",
      " [100.   1. 150.   1. 150.   1. 150.   1.   1.]\n",
      " [100.   1. 150.   1. 150.   1. 150.   1.   1.]\n",
      " [100.   1. 150.   1. 150.   1. 150.   1.   1.]\n",
      " [  1.   1. 150.   1. 150.   1. 150.   1.   1.]\n",
      " [  1.   1.   1.   1.   1.   1.   1.   1.   1.]\n",
      " [  1.   1.   1.   1.   1.   1.   1.   1.   1.]\n",
      " [150. 150. 150. 150.  50. 150. 150. 150. 150.]]\n",
      " 이 때 한 행동 : ↓\n",
      " 마지막 보상 : 1000\n",
      " 총 받은 보상 :5845.799999999999\n",
      " end : True\n",
      " clear : finish\n",
      "episode :1, score = 5257.455000000149, n_buffer :100000 , eps : 34.9\n"
     ]
    },
    {
     "name": "stderr",
     "output_type": "stream",
     "text": [
      " 42%|██████████████████████████▍                                    | 25201/60000 [3:04:09<11:20:15,  1.17s/it]"
     ]
    },
    {
     "name": "stdout",
     "output_type": "stream",
     "text": [
      "epi = 1\n",
      " 마지막 상태 :\n",
      "[[100.   1. 100. 100. 100. 100. 100. 100.   1.]\n",
      " [  1.   1.   1.   1.   1.   1.   1.   1.   1.]\n",
      " [100.   1.   1.   1.   1.   1.   1.   1. 100.]\n",
      " [100.   1. 150.   1. 150.   1. 150.   1.   1.]\n",
      " [100.   1. 150.   1. 150.   1. 150.   1.   1.]\n",
      " [100.   1. 150.   1. 150.   1. 150.   1.   1.]\n",
      " [  1.   1. 150.   1. 150.   1. 150.   1.   1.]\n",
      " [  1.   1.   1.   1.   1.   1.  50.   1.   1.]\n",
      " [  1.   1.   1.   1.   1.   1.   1.   1.   1.]\n",
      " [150. 150. 150. 150.   1. 150. 150. 150. 150.]]\n",
      " 이 때 한 행동 : ↑\n",
      " 마지막 보상 : -10\n",
      " 총 받은 보상 :4864.399999999999\n",
      " end : True\n",
      " clear : True\n",
      "episode :1, score = 5488.748000000061, n_buffer :100000 , eps : 34.8\n"
     ]
    },
    {
     "name": "stderr",
     "output_type": "stream",
     "text": [
      " 42%|██████████████████████████▌                                    | 25301/60000 [3:06:50<19:19:35,  2.01s/it]"
     ]
    },
    {
     "name": "stdout",
     "output_type": "stream",
     "text": [
      "epi = 1\n",
      " 마지막 상태 :\n",
      "[[100.   1. 100. 100. 100. 100. 100. 100.   1.]\n",
      " [  1.   1.   1.   1.   1.   1.   1.   1.   1.]\n",
      " [100.   1.   1.   1.   1.   1.   1.   1. 100.]\n",
      " [100.   1. 150.   1. 150.   1. 150.   1.   1.]\n",
      " [100.   1. 150.   1. 150.   1. 150.   1.   1.]\n",
      " [100.   1. 150.   1. 150.   1. 150.   1.   1.]\n",
      " [  1.   1. 150.   1. 150.   1. 150.   1.   1.]\n",
      " [  1.   1.   1.   1.   1.   1.   1.   1.   1.]\n",
      " [  1.   1.   1.   1.   1.   1.   1.   1.   1.]\n",
      " [150. 150. 150. 150.  50. 150. 150. 150. 150.]]\n",
      " 이 때 한 행동 : ↓\n",
      " 마지막 보상 : 1000\n",
      " 총 받은 보상 :5899.9\n",
      " end : True\n",
      " clear : finish\n",
      "episode :1, score = 5131.586000000051, n_buffer :100000 , eps : 34.699999999999996\n"
     ]
    },
    {
     "name": "stderr",
     "output_type": "stream",
     "text": [
      " 42%|███████████████████████████                                     | 25402/60000 [3:09:55<7:52:31,  1.22it/s]"
     ]
    },
    {
     "name": "stdout",
     "output_type": "stream",
     "text": [
      "epi = 1\n",
      " 마지막 상태 :\n",
      "[[100. 200. 100. 100. 100. 100. 100. 100.   1.]\n",
      " [  1.   1.   1.   1.   1.   1.   1.   1.   1.]\n",
      " [100.   1.   1.   1.   1.   1.   1.   1. 100.]\n",
      " [100.   1. 150.   1. 150.   1. 150.   1.   1.]\n",
      " [100.   1. 150.   1. 150.   1. 150.   1.   1.]\n",
      " [100.   1. 150.   1. 150.   1. 150.   1.   1.]\n",
      " [  1.   1. 150.   1. 150.   1. 150.   1.   1.]\n",
      " [  1.   1.   1.   1.  50.   1.   1.   1.   1.]\n",
      " [  1.   1.   1.   1.   1.   1.   1.   1.   1.]\n",
      " [150. 150. 150. 150.   1. 150. 150. 150. 150.]]\n",
      " 이 때 한 행동 : ↑\n",
      " 마지막 보상 : -1\n",
      " 총 받은 보상 :3390\n",
      " end : True\n",
      " clear : True\n",
      "episode :1, score = 5236.782000000072, n_buffer :100000 , eps : 34.599999999999994\n"
     ]
    },
    {
     "name": "stderr",
     "output_type": "stream",
     "text": [
      " 43%|██████████████████████████▊                                    | 25501/60000 [3:12:54<26:48:05,  2.80s/it]"
     ]
    },
    {
     "name": "stdout",
     "output_type": "stream",
     "text": [
      "epi = 1\n",
      " 마지막 상태 :\n",
      "[[100.   1. 100. 100. 100. 100. 100. 100.   1.]\n",
      " [  1.   1.   1.   1.   1.   1.   1.   1.   1.]\n",
      " [100.   1.   1.   1.   1.   1.   1.   1. 100.]\n",
      " [100.   1. 150.   1. 150.   1. 150.   1.   1.]\n",
      " [100.   1. 150.   1. 150.   1. 150.   1.   1.]\n",
      " [100.   1. 150.   1. 150.   1. 150.   1.   1.]\n",
      " [  1.   1. 150.   1. 150.   1. 150.   1.   1.]\n",
      " [  1.   1.   1.   1.   1.   1.   1.   1.   1.]\n",
      " [  1.   1.   1.   1.   1.   1.   1.   1.   1.]\n",
      " [150. 150. 150. 150.  50. 150. 150. 150. 150.]]\n",
      " 이 때 한 행동 : ↓\n",
      " 마지막 보상 : 1000\n",
      " 총 받은 보상 :5813.4\n",
      " end : True\n",
      " clear : finish\n",
      "episode :1, score = 5451.038000000039, n_buffer :100000 , eps : 34.5\n"
     ]
    },
    {
     "name": "stderr",
     "output_type": "stream",
     "text": [
      " 43%|██████████████████████████▉                                    | 25601/60000 [3:15:41<20:57:28,  2.19s/it]"
     ]
    },
    {
     "name": "stdout",
     "output_type": "stream",
     "text": [
      "epi = 1\n",
      " 마지막 상태 :\n",
      "[[100.   1. 100. 100. 100. 100. 100. 100.   1.]\n",
      " [  1.   1.   1.   1.   1.   1.   1.   1.   1.]\n",
      " [100.   1.   1.   1.   1.   1.   1.   1. 100.]\n",
      " [100.   1. 150.   1. 150.   1. 150.   1.   1.]\n",
      " [100.   1. 150.   1. 150.   1. 150.   1.   1.]\n",
      " [100.   1. 150.   1. 150.   1. 150.   1.   1.]\n",
      " [  1.   1. 150.   1. 150.   1. 150.   1.   1.]\n",
      " [  1.   1.   1.   1.   1.   1.   1.   1.   1.]\n",
      " [  1.   1.   1.   1.   1.   1.   1.   1.   1.]\n",
      " [150. 150. 150. 150.  50. 150. 150. 150. 150.]]\n",
      " 이 때 한 행동 : ↓\n",
      " 마지막 보상 : 1000\n",
      " 총 받은 보상 :5893.699999999999\n",
      " end : True\n",
      " clear : finish\n",
      "episode :1, score = 5210.128000000095, n_buffer :100000 , eps : 34.4\n"
     ]
    },
    {
     "name": "stderr",
     "output_type": "stream",
     "text": [
      " 43%|██████████████████████████▉                                    | 25701/60000 [3:18:04<22:45:53,  2.39s/it]"
     ]
    },
    {
     "name": "stdout",
     "output_type": "stream",
     "text": [
      "epi = 1\n",
      " 마지막 상태 :\n",
      "[[100.   1. 100. 100. 100. 100. 100. 100.   1.]\n",
      " [  1.   1.   1.   1.   1.   1.   1.   1.   1.]\n",
      " [100.   1.   1.   1.   1.   1.   1.   1. 100.]\n",
      " [100.   1. 150.   1. 150.   1. 150.   1.   1.]\n",
      " [100.   1. 150.   1. 150.   1. 150.   1.   1.]\n",
      " [100.   1. 150.   1. 150.   1. 150.   1.   1.]\n",
      " [  1.   1. 150.   1. 150.   1. 150.   1.   1.]\n",
      " [  1.   1.   1.   1.   1.   1.   1.   1.   1.]\n",
      " [  1.   1.   1.   1.   1.   1.   1.   1.   1.]\n",
      " [150. 150. 150. 150.  50. 150. 150. 150. 150.]]\n",
      " 이 때 한 행동 : ↓\n",
      " 마지막 보상 : 1000\n",
      " 총 받은 보상 :5880.199999999994\n",
      " end : True\n",
      " clear : finish\n",
      "episode :1, score = 4957.957000000112, n_buffer :100000 , eps : 34.3\n"
     ]
    },
    {
     "name": "stderr",
     "output_type": "stream",
     "text": [
      " 43%|███████████████████████████▌                                    | 25802/60000 [3:19:16<4:03:07,  2.34it/s]"
     ]
    },
    {
     "name": "stdout",
     "output_type": "stream",
     "text": [
      "epi = 1\n",
      " 마지막 상태 :\n",
      "[[100. 200. 100. 100. 100. 100. 100. 100.   1.]\n",
      " [  1.   1.   1.   1.   1.   1.   1.   1.   1.]\n",
      " [100.   1.   1.   1.   1.   1.   1.   1. 100.]\n",
      " [100.   1. 150.   1. 150.   1. 150.   1.   1.]\n",
      " [100.   1. 150.   1. 150.   1. 150.  50.   1.]\n",
      " [100.   1. 150.   1. 150.   1. 150.   1.   1.]\n",
      " [  1.   1. 150.   1. 150.   1. 150.   1.   1.]\n",
      " [  1.   1.   1.   1.   1.   1.   1.   1.   1.]\n",
      " [  1.   1.   1.   1.   1.   1.   1.   1.   1.]\n",
      " [150. 150. 150. 150.   1. 150. 150. 150. 150.]]\n",
      " 이 때 한 행동 : ↓\n",
      " 마지막 보상 : -1\n",
      " 총 받은 보상 :3831.9\n",
      " end : True\n",
      " clear : True\n",
      "episode :1, score = 4448.76600000007, n_buffer :100000 , eps : 34.199999999999996\n"
     ]
    },
    {
     "name": "stderr",
     "output_type": "stream",
     "text": [
      " 43%|███████████████████████████▏                                   | 25901/60000 [3:21:34<11:33:31,  1.22s/it]"
     ]
    },
    {
     "name": "stdout",
     "output_type": "stream",
     "text": [
      "epi = 1\n",
      " 마지막 상태 :\n",
      "[[100.   1. 100. 100. 100. 100. 100. 100.   1.]\n",
      " [  1.   1.   1.   1.   1.   1.   1.   1.   1.]\n",
      " [100.   1.   1.   1.   1.   1.   1.   1. 100.]\n",
      " [100.   1. 150.   1. 150.   1. 150.   1.   1.]\n",
      " [100.   1. 150.   1. 150.   1. 150.   1.   1.]\n",
      " [100.   1. 150.   1. 150.   1. 150.   1.   1.]\n",
      " [  1.  50. 150.   1. 150.   1. 150.   1.   1.]\n",
      " [  1.   1.   1.   1.   1.   1.   1.   1.   1.]\n",
      " [  1.   1.   1.   1.   1.   1.   1.   1.   1.]\n",
      " [150. 150. 150. 150.   1. 150. 150. 150. 150.]]\n",
      " 이 때 한 행동 : ↓\n",
      " 마지막 보상 : -1\n",
      " 총 받은 보상 :4786.099999999991\n",
      " end : True\n",
      " clear : True\n",
      "episode :1, score = 5161.423000000161, n_buffer :100000 , eps : 34.099999999999994\n"
     ]
    },
    {
     "name": "stderr",
     "output_type": "stream",
     "text": [
      " 43%|███████████████████████████▋                                    | 26002/60000 [3:23:38<9:34:36,  1.01s/it]"
     ]
    },
    {
     "name": "stdout",
     "output_type": "stream",
     "text": [
      "epi = 1\n",
      " 마지막 상태 :\n",
      "[[100.   1. 100. 100. 100. 100. 100. 100.   1.]\n",
      " [  1.   1.   1.   1.   1.   1.   1.   1.   1.]\n",
      " [100.   1.   1.   1.   1.   1.   1.   1. 100.]\n",
      " [100.   1. 150.   1. 150.   1. 150.   1.   1.]\n",
      " [100.   1. 150.   1. 150.   1. 150.   1.   1.]\n",
      " [100.   1. 150.   1. 150.   1. 150.   1.   1.]\n",
      " [  1.   1. 150.   1. 150.   1. 150.   1.   1.]\n",
      " [  1.   1.   1.   1.   1.   1.   1.   1.   1.]\n",
      " [  1.   1.   1.   1.   1.   1.   1.   1.   1.]\n",
      " [150. 150. 150. 150.  50. 150. 150. 150. 150.]]\n",
      " 이 때 한 행동 : ↓\n",
      " 마지막 보상 : 1000\n",
      " 총 받은 보상 :5899.199999999999\n",
      " end : True\n",
      " clear : finish\n",
      "episode :1, score = 5205.298000000195, n_buffer :100000 , eps : 34.0\n"
     ]
    },
    {
     "name": "stderr",
     "output_type": "stream",
     "text": [
      " 44%|███████████████████████████▍                                   | 26102/60000 [3:25:47<18:01:26,  1.91s/it]"
     ]
    },
    {
     "name": "stdout",
     "output_type": "stream",
     "text": [
      "epi = 1\n",
      " 마지막 상태 :\n",
      "[[100.   1. 100. 100. 100. 100. 100. 100.   1.]\n",
      " [  1.   1.   1.   1.   1.   1.   1.   1.   1.]\n",
      " [100.   1.   1.   1.   1.   1.   1.   1. 100.]\n",
      " [100.   1. 150.   1. 150.   1. 150.   1.   1.]\n",
      " [100.   1. 150.   1. 150.   1. 150.   1.   1.]\n",
      " [100.   1. 150.   1. 150.   1. 150.   1.   1.]\n",
      " [  1.   1. 150.   1. 150.   1. 150.   1.   1.]\n",
      " [  1.   1.   1.   1.   1.   1.   1.   1.   1.]\n",
      " [  1.   1.   1.   1.   1.   1.   1.   1.   1.]\n",
      " [150. 150. 150. 150.  50. 150. 150. 150. 150.]]\n",
      " 이 때 한 행동 : ↓\n",
      " 마지막 보상 : 1000\n",
      " 총 받은 보상 :5899.4000000000015\n",
      " end : True\n",
      " clear : finish\n",
      "episode :1, score = 5235.4760000000915, n_buffer :100000 , eps : 33.9\n"
     ]
    },
    {
     "name": "stderr",
     "output_type": "stream",
     "text": [
      " 44%|███████████████████████████▌                                   | 26201/60000 [3:28:55<16:40:44,  1.78s/it]"
     ]
    },
    {
     "name": "stdout",
     "output_type": "stream",
     "text": [
      "epi = 1\n",
      " 마지막 상태 :\n",
      "[[100.   1. 100. 100. 100. 100. 100. 100.   1.]\n",
      " [  1.   1.   1.   1.   1.   1.   1.   1.   1.]\n",
      " [100.   1.   1.   1.   1.   1.   1.   1. 100.]\n",
      " [100.   1. 150.   1. 150.   1. 150.   1.   1.]\n",
      " [100.   1. 150.   1. 150.   1. 150.   1.   1.]\n",
      " [100.   1. 150.   1. 150.   1. 150.   1.   1.]\n",
      " [  1.   1. 150.   1. 150.   1. 150.   1.   1.]\n",
      " [  1.   1.   1.   1.   1.   1.   1.   1.   1.]\n",
      " [  1.   1.   1.   1.   1.   1.   1.   1.   1.]\n",
      " [150. 150. 150. 150.  50. 150. 150. 150. 150.]]\n",
      " 이 때 한 행동 : ↓\n",
      " 마지막 보상 : 1000\n",
      " 총 받은 보상 :5886.899999999996\n",
      " end : True\n",
      " clear : finish\n",
      "episode :1, score = 5469.898000000177, n_buffer :100000 , eps : 33.8\n"
     ]
    },
    {
     "name": "stderr",
     "output_type": "stream",
     "text": [
      " 44%|███████████████████████████▌                                   | 26302/60000 [3:32:25<11:03:12,  1.18s/it]"
     ]
    },
    {
     "name": "stdout",
     "output_type": "stream",
     "text": [
      "epi = 1\n",
      " 마지막 상태 :\n",
      "[[100.  50. 100. 100. 100. 100. 100. 100.   1.]\n",
      " [  1.   1.   1.   1.   1.   1.   1.   1.   1.]\n",
      " [100.   1.   1.   1.   1.   1.   1.   1. 100.]\n",
      " [100.   1. 150.   1. 150.   1. 150.   1.   1.]\n",
      " [100.   1. 150.   1. 150.   1. 150.   1.   1.]\n",
      " [100.   1. 150.   1. 150.   1. 150.   1.   1.]\n",
      " [  1.   1. 150.   1. 150.   1. 150.   1.   1.]\n",
      " [  1.   1.   1.   1.   1.   1.   1.   1.   1.]\n",
      " [  1.   1.   1.   1.   1.   1.   1.   1.   1.]\n",
      " [150. 150. 150. 150.   1. 150. 150. 150. 150.]]\n",
      " 이 때 한 행동 : →\n",
      " 마지막 보상 : -0.1\n",
      " 총 받은 보상 :4911.199999999989\n",
      " end : True\n",
      " clear : True\n",
      "episode :1, score = 5604.615000000153, n_buffer :100000 , eps : 33.699999999999996\n"
     ]
    },
    {
     "name": "stderr",
     "output_type": "stream",
     "text": [
      " 44%|███████████████████████████▋                                   | 26401/60000 [3:35:35<25:56:12,  2.78s/it]"
     ]
    },
    {
     "name": "stdout",
     "output_type": "stream",
     "text": [
      "epi = 1\n",
      " 마지막 상태 :\n",
      "[[100.   1. 100. 100. 100. 100. 100. 100.   1.]\n",
      " [  1.   1.   1.   1.   1.   1.   1.   1.   1.]\n",
      " [100.   1.   1.   1.   1.   1.   1.   1. 100.]\n",
      " [100.   1. 150.   1. 150.   1. 150.   1.   1.]\n",
      " [100.   1. 150.   1. 150.   1. 150.   1.   1.]\n",
      " [100.   1. 150.   1. 150.   1. 150.   1.   1.]\n",
      " [  1.   1. 150.   1. 150.   1. 150.   1.   1.]\n",
      " [  1.   1.   1.   1.   1.   1.   1.   1.   1.]\n",
      " [  1.   1.   1.   1.   1.   1.   1.   1.   1.]\n",
      " [150. 150. 150. 150.  50. 150. 150. 150. 150.]]\n",
      " 이 때 한 행동 : ↓\n",
      " 마지막 보상 : 1000\n",
      " 총 받은 보상 :5902.599999999996\n",
      " end : True\n",
      " clear : finish\n",
      "episode :1, score = 5559.334000000118, n_buffer :100000 , eps : 33.599999999999994\n"
     ]
    },
    {
     "name": "stderr",
     "output_type": "stream",
     "text": [
      "\r",
      " 44%|███████████████████████████▋                                   | 26402/60000 [3:35:37<24:44:16,  2.65s/it]"
     ]
    }
   ],
   "source": [
    "import time\n",
    "from tqdm import tqdm\n",
    "\n",
    "learning_rate = 1e-3\n",
    "gamma = 0.99\n",
    "buffer_limit  = 100000\n",
    "batch_size = 100\n",
    "\n",
    "USE_CUDA = torch.cuda.is_available()\n",
    "print(USE_CUDA)\n",
    "device = torch.device('cuda:0' if USE_CUDA else 'cpu')\n",
    "\n",
    "def main():\n",
    "\n",
    "    env = Simulator()\n",
    "    files = pd.read_csv(\"./data/factory_order_train.csv\")\n",
    "\n",
    "    q = QnetCNN()\n",
    "    q_target = QnetCNN()\n",
    "    \n",
    "    # 현재 Qnet 의 파라미터를 q_target 에 load\n",
    "    q_target.load_state_dict(q.state_dict())      \n",
    "    \n",
    "\n",
    "    memory = ReplayBuffer()\n",
    "\n",
    "    print_interval = 100\n",
    "    score = 0.0\n",
    "    \n",
    "    optimizer = optim.Adam(q.parameters(), lr = learning_rate) \n",
    "    # loss 값을 바탕으로 업데이트할 비율 (q_target 말고 q 만 업데이트)\n",
    "\n",
    "    \n",
    "\n",
    "    for epi in tqdm(range(60000)):\n",
    "        #time.sleep(0.001)\n",
    "        if epi%1000 == 0:\n",
    "            model_save(q.state_dict(), optimizer.state_dict(), epi)\n",
    "            \n",
    "        if epi <= 10000:\n",
    "            epsilon = 0.5\n",
    "        else:\n",
    "            epsilon = max(0.02, 0.5 - 0.001 * (epi//100 - 100))\n",
    "\n",
    "            \n",
    "        ep = 1#epi%39998\n",
    "        \n",
    "        s = env.reset(ep)\n",
    "        obs = np.asarray(s, dtype=np.float32) \n",
    "\n",
    "        a_step= 0\n",
    "        done = False \n",
    "        first = True\n",
    "        while not done: \n",
    "            \n",
    "            if first:\n",
    "                a = 0\n",
    "                first = False\n",
    "                \n",
    "            elif obs[9][4] == 50:\n",
    "                a = 0\n",
    "                \n",
    "            else:\n",
    "                a = q.sample_action(torch.from_numpy(obs).float(), epsilon) \n",
    "            \n",
    "            s_prime, r, cumul, done, goal_reward = env.step(a, epi)\n",
    "            \n",
    "            \n",
    "            if a_step == 100:\n",
    "                done = True\n",
    "                goal_reward= True\n",
    "            \n",
    "            array = s_prime\n",
    "            s_prime = np.asarray(s_prime, dtype=np.float32)\n",
    "             \n",
    "            done_mask = 0.0 if done else 1.0\n",
    "\n",
    "            memory.put((obs,a,r/100, s_prime, done_mask))\n",
    "\n",
    "            obs = s_prime \n",
    "            score += r\n",
    "        \n",
    "            if done : # 끝났으면 train 안함\n",
    "                break\n",
    "\n",
    "            a_step +=1 # a 의 시행횟수\n",
    " \n",
    "\n",
    "        if memory.size() > 200: \n",
    "            train(q, q_target, memory, optimizer) \n",
    "\n",
    "        if epi%print_interval==0 and epi != 0: \n",
    "            action = ['↑', '↓', '←', '→'][a]\n",
    "            print(f'epi = {ep}\\n 마지막 상태 :\\n{array}\\n 이 때 한 행동 : {action}\\n 마지막 보상 : {r}\\n 총 받은 보상 :{cumul}\\n end : {done}\\n clear : {goal_reward}')\n",
    "           # env.now_state()\n",
    "            \n",
    "            q_target.load_state_dict(q.state_dict()) #q_target 지금걸로 업데이트\n",
    "            print(f\"episode :{ep}, score = {score/print_interval}, n_buffer :{memory.size()} , eps : {epsilon*100}\")\n",
    "            score = 0.0\n",
    "\n",
    "main()"
   ]
  },
  {
   "cell_type": "code",
   "execution_count": null,
   "id": "8cd50665",
   "metadata": {},
   "outputs": [],
   "source": []
  }
 ],
 "metadata": {
  "kernelspec": {
   "display_name": "Python 3 (ipykernel)",
   "language": "python",
   "name": "python3"
  },
  "language_info": {
   "codemirror_mode": {
    "name": "ipython",
    "version": 3
   },
   "file_extension": ".py",
   "mimetype": "text/x-python",
   "name": "python",
   "nbconvert_exporter": "python",
   "pygments_lexer": "ipython3",
   "version": "3.7.13"
  }
 },
 "nbformat": 4,
 "nbformat_minor": 5
}
