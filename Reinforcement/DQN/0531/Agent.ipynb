{
 "cells": [
  {
   "cell_type": "code",
   "execution_count": 1,
   "id": "462c12fd",
   "metadata": {},
   "outputs": [
    {
     "name": "stdout",
     "output_type": "stream",
     "text": [
      "reward: 0 -1 1 10\n"
     ]
    },
    {
     "name": "stderr",
     "output_type": "stream",
     "text": [
      "/home/zlxlekta924/anaconda3/envs/test/lib/python3.7/site-packages/tqdm/auto.py:22: TqdmWarning: IProgress not found. Please update jupyter and ipywidgets. See https://ipywidgets.readthedocs.io/en/stable/user_install.html\n",
      "  from .autonotebook import tqdm as notebook_tqdm\n"
     ]
    }
   ],
   "source": [
    "from Sim_all_item import *\n",
    "\n",
    "\n",
    "import collections\n",
    "\n",
    "import pdb\n",
    "import random\n",
    "\n",
    "import torch\n",
    "import torch.nn as nn\n",
    "import torch.nn.functional as F\n",
    "import torch.optim as optim\n",
    "\n",
    "import time\n",
    "from tqdm import tqdm"
   ]
  },
  {
   "cell_type": "markdown",
   "id": "de9943e9",
   "metadata": {},
   "source": [
    "\n",
    "# DQN Agent"
   ]
  },
  {
   "cell_type": "code",
   "execution_count": 2,
   "id": "e726e1c3",
   "metadata": {},
   "outputs": [],
   "source": [
    "'''\n",
    "Architecture of Layers\n",
    "\n",
    "Dqn 에서의 구조\n",
    "84x84x4 사이즈\n",
    "순서대로 input, channel, kernel, strdides\n",
    "Conv2d(x, 32, 8, 4)\n",
    "conv2d(x, 64, 4, 2)\n",
    "conv2d(x, 64, 3, 1)\n",
    "flatten()\n",
    "dense(x, 512)\n",
    "dense(x, 2)\n",
    "\n",
    "이 때 우리는\n",
    "9x10x1 이고 약 300배 차이가 나므로\n",
    "\n",
    "Conv2d(x, 16, 4, 2)\n",
    "conv2d(x, 32, 3, 1)\n",
    "flatten()\n",
    "dense(x, 128)\n",
    "dense(x, 4)\n",
    "\n",
    "로 변경하면 괜찮을 듯\n",
    "'''\n",
    "\n",
    "#뱀게임 참고\n",
    "\n",
    "\n",
    "class QnetCNN(nn.Module):\n",
    "    def __init__(self):\n",
    "        super(QnetCNN, self).__init__()\n",
    "        \n",
    "\n",
    "        self.layer1 = nn.Sequential(\n",
    "            nn.Conv2d(in_channels=4, out_channels= 32, kernel_size=3, stride=1),\n",
    "            nn.ReLU())\n",
    "\n",
    "        self.layer2 = nn.Sequential(\n",
    "            nn.Conv2d(32, 32, kernel_size=3, stride=1),\n",
    "            nn.ReLU())\n",
    "    \n",
    "        # Flatten\n",
    "        self.flatten = nn.Flatten()\n",
    "        self.fc1 = nn.Linear(960 , 256)\n",
    "        self.fc2 = nn.Linear(256, 4)\n",
    "        self.dropout = nn.Dropout(0.1)\n",
    "\n",
    "        \n",
    "    def forward(self,x):\n",
    "        \n",
    "        x = torch.reshape(x, (-1, 4, 10, 9)).to(device)\n",
    "\n",
    "        #pdb.set_trace()\n",
    "        x = self.layer1(x)\n",
    "        x = self.dropout(x)\n",
    "        x = self.layer2(x)\n",
    "        x = self.dropout(x)\n",
    "        x = self.flatten(x)\n",
    "        x = self.fc1(x)\n",
    "        x = self.dropout(x)\n",
    "        x = self.fc2(x)# 4개의 값을 반환\n",
    "        return x\n",
    "\n",
    "    def sample_action(self, obs, epsilon):\n",
    "        out = self.forward(obs) \n",
    "        coin = random.random() \n",
    "        \n",
    "\n",
    "        if coin < epsilon:  # 동전던지기, eps 확률로 랜덤하게 행동\n",
    "            return random.randint(0,3)\n",
    "        else:\n",
    "            return out.argmax().item() #Action state 값이 더 높은 index 값 호출\n",
    "\n",
    "\n",
    "def train(q, q_target, memory, optimizer): \n",
    "    for i in range(10):\n",
    "        s, a, r, s_prime, done_mask = memory.sample(batch_size) #32개를 버퍼에서 뽑아 모아 놓은 s,a,r,s_prime,done_mask\n",
    "\n",
    "        q_out = q(s)                                   # s 값으로 다음 각 action 값들의 value 값 반환\n",
    "        q_a = q_out.gather(1,a.to(device))         #선택한 액션값들의 q(s,a) 반환\n",
    "        max_q_prime = q_target(s_prime).max(1)[0].unsqueeze(1) # 다음 state의 각 q(s,a) 값 반환\n",
    "        target = torch.tensor(r, device=device) + torch.tensor(gamma, device=device) * max_q_prime * torch.tensor(done_mask, device=device) # 배열 맞춰주기, 쓰러진 경우는 제거\n",
    "        loss = nn.MSELoss()(q_a, target) # DQN 의 손실함수 계산 L1 유클리드\n",
    "\n",
    "        optimizer.zero_grad() # optimizer 의 모든 parameter 를 0으로 변환\n",
    "        loss.backward() # loss 에 대한 gradient 계산\n",
    "        optimizer.step() # 손실값을 바탕으로 Qnet 의 파라미터 업데이트\n",
    "\n",
    "def model_save(model_dict, opt_dict, epi):\n",
    "    PATH = './weights/'\n",
    "    torch.save({\n",
    "            'model': model_dict,\n",
    "            'optimizer': opt_dict,\n",
    "            'epi': epi\n",
    "            }, PATH + 'all.tar')"
   ]
  },
  {
   "cell_type": "markdown",
   "id": "34a993c6",
   "metadata": {},
   "source": [
    "## Replay Buffer"
   ]
  },
  {
   "cell_type": "code",
   "execution_count": 3,
   "id": "e9b6b3e5",
   "metadata": {},
   "outputs": [],
   "source": [
    "class ReplayBuffer():\n",
    "    \n",
    "    def __init__(self):\n",
    "        self.buffer = collections.deque(maxlen=buffer_limit)\n",
    "\n",
    "    def put(self, transition):\n",
    "        self.buffer.append(transition)\n",
    "\n",
    "    def sample(self, n):\n",
    "        mini_batch = random.sample(self.buffer, n)\n",
    "        s_lst, a_lst, r_lst, s_prime_lst, done_mask_lst = [], [], [], [], []\n",
    "\n",
    "        for transition in mini_batch:\n",
    "            s, a, r, s_prime, done_mask = transition\n",
    "            s_lst.append(s)\n",
    "            a_lst.append([a])\n",
    "            r_lst.append([r])\n",
    "            s_prime_lst.append(s_prime)\n",
    "            done_mask_lst.append([done_mask])\n",
    "\n",
    "        return torch.tensor(s_lst, dtype=torch. float), torch.tensor(a_lst), torch.tensor(r_lst), torch.tensor(s_prime_lst, dtype=torch. float), torch.tensor(done_mask_lst)\n",
    "        \n",
    "    def size(self):\n",
    "        return len(self.buffer)\n"
   ]
  },
  {
   "cell_type": "markdown",
   "id": "d1709615",
   "metadata": {},
   "source": [
    "## Step"
   ]
  },
  {
   "cell_type": "code",
   "execution_count": 6,
   "id": "f7f00e0a",
   "metadata": {
    "scrolled": true
   },
   "outputs": [
    {
     "name": "stderr",
     "output_type": "stream",
     "text": [
      "  0%|                                                                     | 7/120000 [00:01<8:47:35,  3.79it/s]/home/zlxlekta924/anaconda3/envs/test/lib/python3.7/site-packages/ipykernel_launcher.py:82: UserWarning: To copy construct from a tensor, it is recommended to use sourceTensor.clone().detach() or sourceTensor.clone().detach().requires_grad_(True), rather than torch.tensor(sourceTensor).\n",
      "  0%|                                                                   | 29/120000 [00:23<33:15:22,  1.00it/s]"
     ]
    },
    {
     "name": "stdout",
     "output_type": "stream",
     "text": [
      "363번 시도 끝에 성공,,, 고생했다..\n"
     ]
    },
    {
     "name": "stderr",
     "output_type": "stream",
     "text": [
      "  0%|                                                                   | 48/120000 [00:41<33:07:56,  1.01it/s]"
     ]
    },
    {
     "name": "stdout",
     "output_type": "stream",
     "text": [
      "365번 시도 끝에 성공,,, 고생했다..\n"
     ]
    },
    {
     "name": "stderr",
     "output_type": "stream",
     "text": [
      "  0%|                                                                   | 52/120000 [00:45<32:36:08,  1.02it/s]"
     ]
    },
    {
     "name": "stdout",
     "output_type": "stream",
     "text": [
      "403번 시도 끝에 성공,,, 고생했다..\n"
     ]
    },
    {
     "name": "stderr",
     "output_type": "stream",
     "text": [
      "  0%|                                                                   | 57/120000 [00:50<33:01:04,  1.01it/s]"
     ]
    },
    {
     "name": "stdout",
     "output_type": "stream",
     "text": [
      "496번 시도 끝에 성공,,, 고생했다..\n"
     ]
    },
    {
     "name": "stderr",
     "output_type": "stream",
     "text": [
      "  0%|                                                                   | 72/120000 [01:05<31:24:00,  1.06it/s]"
     ]
    },
    {
     "name": "stdout",
     "output_type": "stream",
     "text": [
      "200번 안에 들어왔다! : 178\n"
     ]
    },
    {
     "name": "stderr",
     "output_type": "stream",
     "text": [
      "/home/zlxlekta924/anaconda3/envs/test/lib/python3.7/site-packages/ipykernel_launcher.py:82: UserWarning: To copy construct from a tensor, it is recommended to use sourceTensor.clone().detach() or sourceTensor.clone().detach().requires_grad_(True), rather than torch.tensor(sourceTensor).\n",
      "  0%|                                                                   | 76/120000 [01:15<51:34:33,  1.55s/it]"
     ]
    },
    {
     "name": "stdout",
     "output_type": "stream",
     "text": [
      "431번 시도 끝에 성공,,, 고생했다..\n"
     ]
    },
    {
     "name": "stderr",
     "output_type": "stream",
     "text": [
      "  0%|                                                                   | 85/120000 [01:23<31:58:11,  1.04it/s]"
     ]
    },
    {
     "name": "stdout",
     "output_type": "stream",
     "text": [
      "282번 시도 끝에 성공,,, 고생했다..\n"
     ]
    },
    {
     "name": "stderr",
     "output_type": "stream",
     "text": [
      "  0%|                                                                   | 87/120000 [01:25<31:25:30,  1.06it/s]"
     ]
    },
    {
     "name": "stdout",
     "output_type": "stream",
     "text": [
      "422번 시도 끝에 성공,,, 고생했다..\n"
     ]
    },
    {
     "name": "stderr",
     "output_type": "stream",
     "text": [
      "  0%|                                                                   | 92/120000 [01:30<32:06:22,  1.04it/s]"
     ]
    },
    {
     "name": "stdout",
     "output_type": "stream",
     "text": [
      "377번 시도 끝에 성공,,, 고생했다..\n"
     ]
    },
    {
     "name": "stderr",
     "output_type": "stream",
     "text": [
      "  0%|                                                                   | 98/120000 [01:35<31:40:34,  1.05it/s]"
     ]
    },
    {
     "name": "stdout",
     "output_type": "stream",
     "text": [
      "267번 시도 끝에 성공,,, 고생했다..\n"
     ]
    },
    {
     "name": "stderr",
     "output_type": "stream",
     "text": [
      "  0%|                                                                  | 101/120000 [01:38<30:59:56,  1.07it/s]"
     ]
    },
    {
     "name": "stdout",
     "output_type": "stream",
     "text": [
      "100 에서 챙기는 아이템 : ['H', 'L', 'M']\n",
      "마지막 행동 : →\n",
      " 그 때의 마지막 상태 :\n",
      "[[0 0 0 0 0 0 0 3 0]\n",
      " [1 1 1 1 1 2 1 1 1]\n",
      " [0 1 1 1 1 1 1 1 0]\n",
      " [0 1 0 1 0 1 0 1 0]\n",
      " [0 1 0 1 0 1 0 1 0]\n",
      " [0 1 0 1 0 1 0 1 0]\n",
      " [1 1 0 1 0 1 0 1 1]\n",
      " [1 1 1 1 1 1 1 1 1]\n",
      " [1 1 1 1 1 1 1 1 1]\n",
      " [0 0 0 0 1 0 0 0 0]]\n",
      "마지막 보상 : 0\n",
      " 총 받은 보상 :-51\n",
      "score = -150, n_buffer : 49175, eps : 50.0\n"
     ]
    },
    {
     "name": "stderr",
     "output_type": "stream",
     "text": [
      "  0%|                                                                  | 108/120000 [01:44<31:01:08,  1.07it/s]"
     ]
    },
    {
     "name": "stdout",
     "output_type": "stream",
     "text": [
      "432번 시도 끝에 성공,,, 고생했다..\n"
     ]
    },
    {
     "name": "stderr",
     "output_type": "stream",
     "text": [
      "\r",
      "  0%|                                                                  | 109/120000 [01:45<30:34:58,  1.09it/s]"
     ]
    },
    {
     "name": "stdout",
     "output_type": "stream",
     "text": [
      "465번 시도 끝에 성공,,, 고생했다..\n"
     ]
    },
    {
     "name": "stderr",
     "output_type": "stream",
     "text": [
      "  0%|                                                                  | 116/120000 [01:52<32:15:17,  1.03it/s]"
     ]
    },
    {
     "name": "stdout",
     "output_type": "stream",
     "text": [
      "316번 시도 끝에 성공,,, 고생했다..\n"
     ]
    },
    {
     "name": "stderr",
     "output_type": "stream",
     "text": [
      "  0%|                                                                  | 121/120000 [01:57<31:25:16,  1.06it/s]"
     ]
    },
    {
     "name": "stdout",
     "output_type": "stream",
     "text": [
      "225번 시도 끝에 성공,,, 고생했다..\n"
     ]
    },
    {
     "name": "stderr",
     "output_type": "stream",
     "text": [
      "  0%|                                                                  | 125/120000 [02:00<31:02:38,  1.07it/s]"
     ]
    },
    {
     "name": "stdout",
     "output_type": "stream",
     "text": [
      "269번 시도 끝에 성공,,, 고생했다..\n"
     ]
    },
    {
     "name": "stderr",
     "output_type": "stream",
     "text": [
      "  0%|                                                                  | 135/120000 [02:10<31:02:51,  1.07it/s]"
     ]
    },
    {
     "name": "stdout",
     "output_type": "stream",
     "text": [
      "347번 시도 끝에 성공,,, 고생했다..\n"
     ]
    },
    {
     "name": "stderr",
     "output_type": "stream",
     "text": [
      "  0%|                                                                  | 144/120000 [02:18<31:41:44,  1.05it/s]"
     ]
    },
    {
     "name": "stdout",
     "output_type": "stream",
     "text": [
      "429번 시도 끝에 성공,,, 고생했다..\n"
     ]
    },
    {
     "name": "stderr",
     "output_type": "stream",
     "text": [
      "  0%|                                                                  | 153/120000 [02:27<32:15:39,  1.03it/s]"
     ]
    },
    {
     "name": "stdout",
     "output_type": "stream",
     "text": [
      "200번 안에 들어왔다! : 142\n"
     ]
    },
    {
     "name": "stderr",
     "output_type": "stream",
     "text": [
      "/home/zlxlekta924/anaconda3/envs/test/lib/python3.7/site-packages/ipykernel_launcher.py:82: UserWarning: To copy construct from a tensor, it is recommended to use sourceTensor.clone().detach() or sourceTensor.clone().detach().requires_grad_(True), rather than torch.tensor(sourceTensor).\n",
      "  0%|                                                                  | 157/120000 [02:35<46:49:23,  1.41s/it]"
     ]
    },
    {
     "name": "stdout",
     "output_type": "stream",
     "text": [
      "340번 시도 끝에 성공,,, 고생했다..\n"
     ]
    },
    {
     "name": "stderr",
     "output_type": "stream",
     "text": [
      "  0%|                                                                  | 172/120000 [02:49<31:11:26,  1.07it/s]"
     ]
    },
    {
     "name": "stdout",
     "output_type": "stream",
     "text": [
      "260번 시도 끝에 성공,,, 고생했다..\n"
     ]
    },
    {
     "name": "stderr",
     "output_type": "stream",
     "text": [
      "  0%|                                                                  | 193/120000 [03:09<31:40:32,  1.05it/s]"
     ]
    },
    {
     "name": "stdout",
     "output_type": "stream",
     "text": [
      "361번 시도 끝에 성공,,, 고생했다..\n"
     ]
    },
    {
     "name": "stderr",
     "output_type": "stream",
     "text": [
      "  0%|                                                                  | 201/120000 [03:17<31:43:38,  1.05it/s]"
     ]
    },
    {
     "name": "stdout",
     "output_type": "stream",
     "text": [
      "200 에서 챙기는 아이템 : ['H', 'L', 'M']\n",
      "마지막 행동 : ↓\n",
      " 그 때의 마지막 상태 :\n",
      "[[0 0 0 3 0 0 0 0 0]\n",
      " [1 1 1 1 1 1 1 1 1]\n",
      " [0 1 1 1 1 1 1 1 0]\n",
      " [0 1 0 1 0 1 0 1 0]\n",
      " [0 1 0 1 0 1 0 2 0]\n",
      " [0 1 0 1 0 1 0 1 0]\n",
      " [1 1 0 1 0 1 0 1 1]\n",
      " [1 1 1 1 1 1 1 1 1]\n",
      " [1 1 1 1 1 1 1 1 1]\n",
      " [0 0 0 0 1 0 0 0 0]]\n",
      "마지막 보상 : 0\n",
      " 총 받은 보상 :-99\n",
      "score = -88, n_buffer : 97350, eps : 48.0\n"
     ]
    },
    {
     "name": "stderr",
     "output_type": "stream",
     "text": [
      "  0%|                                                                  | 222/120000 [03:36<31:40:17,  1.05it/s]"
     ]
    },
    {
     "name": "stdout",
     "output_type": "stream",
     "text": [
      "499번 시도 끝에 성공,,, 고생했다..\n"
     ]
    },
    {
     "name": "stderr",
     "output_type": "stream",
     "text": [
      "  0%|▏                                                                 | 229/120000 [03:43<31:27:32,  1.06it/s]"
     ]
    },
    {
     "name": "stdout",
     "output_type": "stream",
     "text": [
      "353번 시도 끝에 성공,,, 고생했다..\n"
     ]
    },
    {
     "name": "stderr",
     "output_type": "stream",
     "text": [
      "  0%|▏                                                                 | 235/120000 [03:49<31:22:56,  1.06it/s]"
     ]
    },
    {
     "name": "stdout",
     "output_type": "stream",
     "text": [
      "329번 시도 끝에 성공,,, 고생했다..\n"
     ]
    },
    {
     "name": "stderr",
     "output_type": "stream",
     "text": [
      "  0%|▏                                                                 | 244/120000 [03:57<31:15:31,  1.06it/s]"
     ]
    },
    {
     "name": "stdout",
     "output_type": "stream",
     "text": [
      "273번 시도 끝에 성공,,, 고생했다..\n"
     ]
    },
    {
     "name": "stderr",
     "output_type": "stream",
     "text": [
      "  0%|▏                                                                 | 263/120000 [04:15<31:21:08,  1.06it/s]"
     ]
    },
    {
     "name": "stdout",
     "output_type": "stream",
     "text": [
      "200번 안에 들어왔다! : 197\n"
     ]
    },
    {
     "name": "stderr",
     "output_type": "stream",
     "text": [
      "/home/zlxlekta924/anaconda3/envs/test/lib/python3.7/site-packages/ipykernel_launcher.py:82: UserWarning: To copy construct from a tensor, it is recommended to use sourceTensor.clone().detach() or sourceTensor.clone().detach().requires_grad_(True), rather than torch.tensor(sourceTensor).\n",
      "  0%|▏                                                                 | 270/120000 [04:28<39:00:33,  1.17s/it]"
     ]
    },
    {
     "name": "stdout",
     "output_type": "stream",
     "text": [
      "254번 시도 끝에 성공,,, 고생했다..\n"
     ]
    },
    {
     "name": "stderr",
     "output_type": "stream",
     "text": [
      "  0%|▏                                                                 | 273/120000 [04:31<33:32:44,  1.01s/it]"
     ]
    },
    {
     "name": "stdout",
     "output_type": "stream",
     "text": [
      "399번 시도 끝에 성공,,, 고생했다..\n"
     ]
    },
    {
     "name": "stderr",
     "output_type": "stream",
     "text": [
      "  0%|▏                                                                 | 276/120000 [04:34<31:38:40,  1.05it/s]"
     ]
    },
    {
     "name": "stdout",
     "output_type": "stream",
     "text": [
      "412번 시도 끝에 성공,,, 고생했다..\n"
     ]
    },
    {
     "name": "stderr",
     "output_type": "stream",
     "text": [
      "  0%|▏                                                                 | 281/120000 [04:38<31:12:11,  1.07it/s]"
     ]
    },
    {
     "name": "stdout",
     "output_type": "stream",
     "text": [
      "311번 시도 끝에 성공,,, 고생했다..\n"
     ]
    },
    {
     "name": "stderr",
     "output_type": "stream",
     "text": [
      "  0%|▏                                                                 | 283/120000 [04:40<30:27:57,  1.09it/s]"
     ]
    },
    {
     "name": "stdout",
     "output_type": "stream",
     "text": [
      "427번 시도 끝에 성공,,, 고생했다..\n"
     ]
    },
    {
     "name": "stderr",
     "output_type": "stream",
     "text": [
      "  0%|▏                                                                 | 298/120000 [04:54<32:15:57,  1.03it/s]"
     ]
    },
    {
     "name": "stdout",
     "output_type": "stream",
     "text": [
      "437번 시도 끝에 성공,,, 고생했다..\n"
     ]
    },
    {
     "name": "stderr",
     "output_type": "stream",
     "text": [
      "  0%|▏                                                                 | 301/120000 [04:57<31:46:42,  1.05it/s]"
     ]
    },
    {
     "name": "stdout",
     "output_type": "stream",
     "text": [
      "300 에서 챙기는 아이템 : ['H', 'L', 'M']\n",
      "마지막 행동 : ↓\n",
      " 그 때의 마지막 상태 :\n",
      "[[0 0 0 3 0 0 0 0 0]\n",
      " [1 1 1 1 1 1 1 1 1]\n",
      " [0 1 2 1 1 1 1 1 0]\n",
      " [0 1 0 1 0 1 0 1 0]\n",
      " [0 1 0 1 0 1 0 1 0]\n",
      " [0 1 0 1 0 1 0 1 0]\n",
      " [1 1 0 1 0 1 0 1 1]\n",
      " [1 1 1 1 1 1 1 1 1]\n",
      " [1 1 1 1 1 1 1 1 1]\n",
      " [0 0 0 0 1 0 0 0 0]]\n",
      "마지막 보상 : 0\n",
      " 총 받은 보상 :-70\n",
      "score = -79, n_buffer : 100000, eps : 48.0\n"
     ]
    },
    {
     "name": "stderr",
     "output_type": "stream",
     "text": [
      "  0%|▏                                                                 | 303/120000 [04:59<31:51:11,  1.04it/s]"
     ]
    },
    {
     "name": "stdout",
     "output_type": "stream",
     "text": [
      "436번 시도 끝에 성공,,, 고생했다..\n"
     ]
    },
    {
     "name": "stderr",
     "output_type": "stream",
     "text": [
      "  0%|▏                                                                 | 318/120000 [05:13<31:25:23,  1.06it/s]"
     ]
    },
    {
     "name": "stdout",
     "output_type": "stream",
     "text": [
      "200번 안에 들어왔다! : 173\n"
     ]
    },
    {
     "name": "stderr",
     "output_type": "stream",
     "text": [
      "/home/zlxlekta924/anaconda3/envs/test/lib/python3.7/site-packages/ipykernel_launcher.py:82: UserWarning: To copy construct from a tensor, it is recommended to use sourceTensor.clone().detach() or sourceTensor.clone().detach().requires_grad_(True), rather than torch.tensor(sourceTensor).\n",
      "  0%|▏                                                                | 319/120000 [05:23<118:54:55,  3.58s/it]"
     ]
    },
    {
     "name": "stdout",
     "output_type": "stream",
     "text": [
      "491번 시도 끝에 성공,,, 고생했다..\n"
     ]
    },
    {
     "name": "stderr",
     "output_type": "stream",
     "text": [
      "  0%|▏                                                                 | 343/120000 [05:46<31:32:55,  1.05it/s]"
     ]
    },
    {
     "name": "stdout",
     "output_type": "stream",
     "text": [
      "330번 시도 끝에 성공,,, 고생했다..\n"
     ]
    },
    {
     "name": "stderr",
     "output_type": "stream",
     "text": [
      "  0%|▏                                                                 | 355/120000 [05:58<31:31:09,  1.05it/s]"
     ]
    },
    {
     "name": "stdout",
     "output_type": "stream",
     "text": [
      "300번 시도 끝에 성공,,, 고생했다..\n"
     ]
    },
    {
     "name": "stderr",
     "output_type": "stream",
     "text": [
      "  0%|▏                                                                 | 370/120000 [06:12<31:10:34,  1.07it/s]"
     ]
    },
    {
     "name": "stdout",
     "output_type": "stream",
     "text": [
      "256번 시도 끝에 성공,,, 고생했다..\n"
     ]
    },
    {
     "name": "stderr",
     "output_type": "stream",
     "text": [
      "\r",
      "  0%|▏                                                                 | 371/120000 [06:13<30:00:49,  1.11it/s]"
     ]
    },
    {
     "name": "stdout",
     "output_type": "stream",
     "text": [
      "200번 안에 들어왔다! : 117\n"
     ]
    },
    {
     "name": "stderr",
     "output_type": "stream",
     "text": [
      "/home/zlxlekta924/anaconda3/envs/test/lib/python3.7/site-packages/ipykernel_launcher.py:82: UserWarning: To copy construct from a tensor, it is recommended to use sourceTensor.clone().detach() or sourceTensor.clone().detach().requires_grad_(True), rather than torch.tensor(sourceTensor).\n",
      "  0%|▏                                                                 | 375/120000 [06:22<53:25:36,  1.61s/it]"
     ]
    },
    {
     "name": "stdout",
     "output_type": "stream",
     "text": [
      "387번 시도 끝에 성공,,, 고생했다..\n"
     ]
    },
    {
     "name": "stderr",
     "output_type": "stream",
     "text": [
      "  0%|▏                                                                 | 389/120000 [06:38<36:13:20,  1.09s/it]"
     ]
    },
    {
     "name": "stdout",
     "output_type": "stream",
     "text": [
      "442번 시도 끝에 성공,,, 고생했다..\n"
     ]
    },
    {
     "name": "stderr",
     "output_type": "stream",
     "text": [
      "  0%|▏                                                                 | 401/120000 [06:51<35:57:21,  1.08s/it]"
     ]
    },
    {
     "name": "stdout",
     "output_type": "stream",
     "text": [
      "400 에서 챙기는 아이템 : ['H', 'L', 'M']\n",
      "마지막 행동 : →\n",
      " 그 때의 마지막 상태 :\n",
      "[[0 0 0 3 0 0 0 0 0]\n",
      " [1 1 1 1 1 1 1 1 1]\n",
      " [0 1 1 1 1 1 1 1 0]\n",
      " [0 1 0 1 0 1 0 1 0]\n",
      " [0 1 0 1 0 1 0 1 0]\n",
      " [0 1 0 1 0 1 0 1 0]\n",
      " [1 1 0 1 0 1 0 1 1]\n",
      " [1 1 1 1 1 1 1 1 1]\n",
      " [1 1 1 2 1 1 1 1 1]\n",
      " [0 0 0 0 1 0 0 0 0]]\n",
      "마지막 보상 : 0\n",
      " 총 받은 보상 :-73\n",
      "score = -75, n_buffer : 100000, eps : 46.0\n"
     ]
    },
    {
     "name": "stderr",
     "output_type": "stream",
     "text": [
      "  0%|▏                                                                 | 406/120000 [06:56<36:49:09,  1.11s/it]"
     ]
    },
    {
     "name": "stdout",
     "output_type": "stream",
     "text": [
      "448번 시도 끝에 성공,,, 고생했다..\n"
     ]
    },
    {
     "name": "stderr",
     "output_type": "stream",
     "text": [
      "  0%|▏                                                                 | 414/120000 [07:05<36:23:49,  1.10s/it]"
     ]
    },
    {
     "name": "stdout",
     "output_type": "stream",
     "text": [
      "264번 시도 끝에 성공,,, 고생했다..\n"
     ]
    },
    {
     "name": "stderr",
     "output_type": "stream",
     "text": [
      "  0%|▏                                                                 | 435/120000 [07:28<37:02:38,  1.12s/it]"
     ]
    },
    {
     "name": "stdout",
     "output_type": "stream",
     "text": [
      "345번 시도 끝에 성공,,, 고생했다..\n"
     ]
    },
    {
     "name": "stderr",
     "output_type": "stream",
     "text": [
      "  0%|▏                                                                 | 439/120000 [07:32<35:47:24,  1.08s/it]"
     ]
    },
    {
     "name": "stdout",
     "output_type": "stream",
     "text": [
      "420번 시도 끝에 성공,,, 고생했다..\n"
     ]
    },
    {
     "name": "stderr",
     "output_type": "stream",
     "text": [
      "  0%|▎                                                                 | 463/120000 [07:58<36:06:40,  1.09s/it]"
     ]
    },
    {
     "name": "stdout",
     "output_type": "stream",
     "text": [
      "200번 안에 들어왔다! : 159\n"
     ]
    },
    {
     "name": "stderr",
     "output_type": "stream",
     "text": [
      "/home/zlxlekta924/anaconda3/envs/test/lib/python3.7/site-packages/ipykernel_launcher.py:82: UserWarning: To copy construct from a tensor, it is recommended to use sourceTensor.clone().detach() or sourceTensor.clone().detach().requires_grad_(True), rather than torch.tensor(sourceTensor).\n",
      "  0%|▎                                                                 | 495/120000 [08:55<52:10:40,  1.57s/it]"
     ]
    },
    {
     "name": "stdout",
     "output_type": "stream",
     "text": [
      "201번 시도 끝에 성공,,, 고생했다..\n"
     ]
    },
    {
     "name": "stderr",
     "output_type": "stream",
     "text": [
      "  0%|▎                                                                 | 498/120000 [09:00<54:10:35,  1.63s/it]"
     ]
    },
    {
     "name": "stdout",
     "output_type": "stream",
     "text": [
      "200번 안에 들어왔다! : 192\n"
     ]
    },
    {
     "name": "stderr",
     "output_type": "stream",
     "text": [
      "/home/zlxlekta924/anaconda3/envs/test/lib/python3.7/site-packages/ipykernel_launcher.py:82: UserWarning: To copy construct from a tensor, it is recommended to use sourceTensor.clone().detach() or sourceTensor.clone().detach().requires_grad_(True), rather than torch.tensor(sourceTensor).\n",
      "  0%|▎                                                                | 501/120000 [09:18<116:08:41,  3.50s/it]"
     ]
    },
    {
     "name": "stdout",
     "output_type": "stream",
     "text": [
      "500 에서 챙기는 아이템 : ['H', 'L', 'M']\n",
      "마지막 행동 : →\n",
      " 그 때의 마지막 상태 :\n",
      "[[0 0 0 0 0 0 0 3 0]\n",
      " [1 1 1 1 1 1 1 1 1]\n",
      " [0 1 1 1 1 1 1 1 0]\n",
      " [0 1 0 1 0 1 0 1 0]\n",
      " [0 1 0 1 0 1 0 1 0]\n",
      " [0 1 0 1 0 1 0 1 0]\n",
      " [1 1 0 1 0 1 0 1 1]\n",
      " [1 1 1 1 1 1 1 1 1]\n",
      " [1 2 1 1 1 1 1 1 1]\n",
      " [0 0 0 0 1 0 0 0 0]]\n",
      "마지막 보상 : 0\n",
      " 총 받은 보상 :-78\n",
      "score = -70, n_buffer : 100000, eps : 46.0\n"
     ]
    },
    {
     "name": "stderr",
     "output_type": "stream",
     "text": [
      "  0%|▎                                                                 | 511/120000 [09:35<57:18:59,  1.73s/it]"
     ]
    },
    {
     "name": "stdout",
     "output_type": "stream",
     "text": [
      "214번 시도 끝에 성공,,, 고생했다..\n"
     ]
    },
    {
     "name": "stderr",
     "output_type": "stream",
     "text": [
      "  0%|▎                                                                 | 513/120000 [09:38<53:48:10,  1.62s/it]"
     ]
    },
    {
     "name": "stdout",
     "output_type": "stream",
     "text": [
      "445번 시도 끝에 성공,,, 고생했다..\n"
     ]
    },
    {
     "name": "stderr",
     "output_type": "stream",
     "text": [
      "  0%|▎                                                                 | 517/120000 [09:44<51:46:30,  1.56s/it]"
     ]
    },
    {
     "name": "stdout",
     "output_type": "stream",
     "text": [
      "435번 시도 끝에 성공,,, 고생했다..\n"
     ]
    },
    {
     "name": "stderr",
     "output_type": "stream",
     "text": [
      "  0%|▎                                                                 | 519/120000 [09:47<50:50:04,  1.53s/it]"
     ]
    },
    {
     "name": "stdout",
     "output_type": "stream",
     "text": [
      "377번 시도 끝에 성공,,, 고생했다..\n"
     ]
    },
    {
     "name": "stderr",
     "output_type": "stream",
     "text": [
      "  0%|▎                                                                 | 522/120000 [09:52<52:58:48,  1.60s/it]"
     ]
    },
    {
     "name": "stdout",
     "output_type": "stream",
     "text": [
      "292번 시도 끝에 성공,,, 고생했다..\n"
     ]
    },
    {
     "name": "stderr",
     "output_type": "stream",
     "text": [
      "  0%|▎                                                                 | 528/120000 [10:01<53:45:31,  1.62s/it]"
     ]
    },
    {
     "name": "stdout",
     "output_type": "stream",
     "text": [
      "200번 안에 들어왔다! : 140\n"
     ]
    },
    {
     "name": "stderr",
     "output_type": "stream",
     "text": [
      "/home/zlxlekta924/anaconda3/envs/test/lib/python3.7/site-packages/ipykernel_launcher.py:82: UserWarning: To copy construct from a tensor, it is recommended to use sourceTensor.clone().detach() or sourceTensor.clone().detach().requires_grad_(True), rather than torch.tensor(sourceTensor).\n",
      "  0%|▎                                                                 | 532/120000 [10:16<82:20:16,  2.48s/it]"
     ]
    },
    {
     "name": "stdout",
     "output_type": "stream",
     "text": [
      "289번 시도 끝에 성공,,, 고생했다..\n"
     ]
    },
    {
     "name": "stderr",
     "output_type": "stream",
     "text": [
      "  0%|▎                                                                 | 541/120000 [10:31<56:39:50,  1.71s/it]"
     ]
    },
    {
     "name": "stdout",
     "output_type": "stream",
     "text": [
      "328번 시도 끝에 성공,,, 고생했다..\n"
     ]
    },
    {
     "name": "stderr",
     "output_type": "stream",
     "text": [
      "  0%|▎                                                                 | 547/120000 [10:41<55:03:12,  1.66s/it]"
     ]
    },
    {
     "name": "stdout",
     "output_type": "stream",
     "text": [
      "326번 시도 끝에 성공,,, 고생했다..\n"
     ]
    },
    {
     "name": "stderr",
     "output_type": "stream",
     "text": [
      "\r",
      "  0%|▎                                                                 | 548/120000 [10:42<54:42:45,  1.65s/it]"
     ]
    },
    {
     "name": "stdout",
     "output_type": "stream",
     "text": [
      "336번 시도 끝에 성공,,, 고생했다..\n"
     ]
    },
    {
     "name": "stderr",
     "output_type": "stream",
     "text": [
      "  0%|▎                                                                 | 562/120000 [11:07<59:27:02,  1.79s/it]"
     ]
    },
    {
     "name": "stdout",
     "output_type": "stream",
     "text": [
      "200번 시도 끝에 성공,,, 고생했다..\n"
     ]
    },
    {
     "name": "stderr",
     "output_type": "stream",
     "text": [
      "\r",
      "  0%|▎                                                                 | 563/120000 [11:08<56:15:42,  1.70s/it]"
     ]
    },
    {
     "name": "stdout",
     "output_type": "stream",
     "text": [
      "457번 시도 끝에 성공,,, 고생했다..\n"
     ]
    },
    {
     "name": "stderr",
     "output_type": "stream",
     "text": [
      "\r",
      "  0%|▎                                                                 | 564/120000 [11:10<57:39:58,  1.74s/it]"
     ]
    },
    {
     "name": "stdout",
     "output_type": "stream",
     "text": [
      "461번 시도 끝에 성공,,, 고생했다..\n"
     ]
    },
    {
     "name": "stderr",
     "output_type": "stream",
     "text": [
      "  0%|▎                                                                 | 573/120000 [11:27<62:11:15,  1.87s/it]"
     ]
    },
    {
     "name": "stdout",
     "output_type": "stream",
     "text": [
      "200번 안에 들어왔다! : 169\n"
     ]
    },
    {
     "name": "stderr",
     "output_type": "stream",
     "text": [
      "/home/zlxlekta924/anaconda3/envs/test/lib/python3.7/site-packages/ipykernel_launcher.py:82: UserWarning: To copy construct from a tensor, it is recommended to use sourceTensor.clone().detach() or sourceTensor.clone().detach().requires_grad_(True), rather than torch.tensor(sourceTensor).\n",
      "  0%|▎                                                                 | 577/120000 [11:43<90:09:06,  2.72s/it]"
     ]
    },
    {
     "name": "stdout",
     "output_type": "stream",
     "text": [
      "270번 시도 끝에 성공,,, 고생했다..\n"
     ]
    },
    {
     "name": "stderr",
     "output_type": "stream",
     "text": [
      "  0%|▎                                                                 | 595/120000 [12:13<55:09:12,  1.66s/it]"
     ]
    },
    {
     "name": "stdout",
     "output_type": "stream",
     "text": [
      "351번 시도 끝에 성공,,, 고생했다..\n"
     ]
    },
    {
     "name": "stderr",
     "output_type": "stream",
     "text": [
      "\r",
      "  0%|▎                                                                 | 596/120000 [12:15<54:18:49,  1.64s/it]"
     ]
    },
    {
     "name": "stdout",
     "output_type": "stream",
     "text": [
      "255번 시도 끝에 성공,,, 고생했다..\n"
     ]
    },
    {
     "name": "stderr",
     "output_type": "stream",
     "text": [
      "  0%|▎                                                                 | 599/120000 [12:19<52:46:30,  1.59s/it]"
     ]
    },
    {
     "name": "stdout",
     "output_type": "stream",
     "text": [
      "200번 안에 들어왔다! : 139\n"
     ]
    },
    {
     "name": "stderr",
     "output_type": "stream",
     "text": [
      "/home/zlxlekta924/anaconda3/envs/test/lib/python3.7/site-packages/ipykernel_launcher.py:82: UserWarning: To copy construct from a tensor, it is recommended to use sourceTensor.clone().detach() or sourceTensor.clone().detach().requires_grad_(True), rather than torch.tensor(sourceTensor).\n",
      "  1%|▎                                                                | 601/120000 [12:31<113:16:40,  3.42s/it]"
     ]
    },
    {
     "name": "stdout",
     "output_type": "stream",
     "text": [
      "600 에서 챙기는 아이템 : ['H', 'L', 'M']\n",
      "마지막 행동 : ←\n",
      " 그 때의 마지막 상태 :\n",
      "[[0 0 0 0 0 0 0 3 0]\n",
      " [1 1 1 1 1 1 1 1 1]\n",
      " [0 1 1 1 1 1 1 1 0]\n",
      " [0 1 0 1 0 1 0 1 0]\n",
      " [0 1 0 1 0 1 0 1 0]\n",
      " [0 1 0 1 0 1 0 1 0]\n",
      " [1 1 0 1 0 1 0 2 1]\n",
      " [1 1 1 1 1 1 1 1 1]\n",
      " [1 1 1 1 1 1 1 1 1]\n",
      " [0 0 0 0 1 0 0 0 0]]\n",
      "마지막 보상 : -1\n",
      " 총 받은 보상 :-66\n",
      "score = -66, n_buffer : 100000, eps : 44.0\n"
     ]
    },
    {
     "name": "stderr",
     "output_type": "stream",
     "text": [
      "  1%|▎                                                                 | 647/120000 [13:50<54:52:18,  1.66s/it]"
     ]
    },
    {
     "name": "stdout",
     "output_type": "stream",
     "text": [
      "200번 안에 들어왔다! : 168\n"
     ]
    },
    {
     "name": "stderr",
     "output_type": "stream",
     "text": [
      "/home/zlxlekta924/anaconda3/envs/test/lib/python3.7/site-packages/ipykernel_launcher.py:82: UserWarning: To copy construct from a tensor, it is recommended to use sourceTensor.clone().detach() or sourceTensor.clone().detach().requires_grad_(True), rather than torch.tensor(sourceTensor).\n",
      "  1%|▎                                                                | 649/120000 [14:03<121:23:18,  3.66s/it]"
     ]
    },
    {
     "name": "stdout",
     "output_type": "stream",
     "text": [
      "200번 안에 들어왔다! : 197\n"
     ]
    },
    {
     "name": "stderr",
     "output_type": "stream",
     "text": [
      "/home/zlxlekta924/anaconda3/envs/test/lib/python3.7/site-packages/ipykernel_launcher.py:82: UserWarning: To copy construct from a tensor, it is recommended to use sourceTensor.clone().detach() or sourceTensor.clone().detach().requires_grad_(True), rather than torch.tensor(sourceTensor).\n",
      "  1%|▎                                                                 | 664/120000 [14:42<56:44:30,  1.71s/it]"
     ]
    },
    {
     "name": "stdout",
     "output_type": "stream",
     "text": [
      "236번 시도 끝에 성공,,, 고생했다..\n"
     ]
    },
    {
     "name": "stderr",
     "output_type": "stream",
     "text": [
      "  1%|▎                                                                 | 667/120000 [14:47<57:02:40,  1.72s/it]"
     ]
    },
    {
     "name": "stdout",
     "output_type": "stream",
     "text": [
      "446번 시도 끝에 성공,,, 고생했다..\n"
     ]
    },
    {
     "name": "stderr",
     "output_type": "stream",
     "text": [
      "  1%|▎                                                                 | 670/120000 [14:52<54:51:14,  1.65s/it]"
     ]
    },
    {
     "name": "stdout",
     "output_type": "stream",
     "text": [
      "493번 시도 끝에 성공,,, 고생했다..\n"
     ]
    },
    {
     "name": "stderr",
     "output_type": "stream",
     "text": [
      "  1%|▎                                                                 | 681/120000 [15:11<62:28:40,  1.89s/it]"
     ]
    },
    {
     "name": "stdout",
     "output_type": "stream",
     "text": [
      "396번 시도 끝에 성공,,, 고생했다..\n"
     ]
    },
    {
     "name": "stderr",
     "output_type": "stream",
     "text": [
      "\r",
      "  1%|▍                                                                 | 682/120000 [15:13<61:06:24,  1.84s/it]"
     ]
    },
    {
     "name": "stdout",
     "output_type": "stream",
     "text": [
      "201번 시도 끝에 성공,,, 고생했다..\n"
     ]
    },
    {
     "name": "stderr",
     "output_type": "stream",
     "text": [
      "  1%|▍                                                                 | 686/120000 [15:19<53:31:55,  1.62s/it]"
     ]
    },
    {
     "name": "stdout",
     "output_type": "stream",
     "text": [
      "200번 안에 들어왔다! : 180\n"
     ]
    },
    {
     "name": "stderr",
     "output_type": "stream",
     "text": [
      "/home/zlxlekta924/anaconda3/envs/test/lib/python3.7/site-packages/ipykernel_launcher.py:82: UserWarning: To copy construct from a tensor, it is recommended to use sourceTensor.clone().detach() or sourceTensor.clone().detach().requires_grad_(True), rather than torch.tensor(sourceTensor).\n",
      "  1%|▍                                                                 | 701/120000 [15:57<59:08:42,  1.78s/it]"
     ]
    },
    {
     "name": "stdout",
     "output_type": "stream",
     "text": [
      "700 에서 챙기는 아이템 : ['H', 'L', 'M']\n",
      "마지막 행동 : →\n",
      " 그 때의 마지막 상태 :\n",
      "[[0 0 0 0 0 0 0 3 0]\n",
      " [1 1 1 1 1 1 1 1 1]\n",
      " [0 1 1 1 1 1 1 1 0]\n",
      " [0 1 0 1 0 1 0 1 0]\n",
      " [0 1 0 1 0 1 0 1 0]\n",
      " [0 1 0 1 0 1 0 1 0]\n",
      " [1 1 0 1 0 1 0 1 1]\n",
      " [1 1 1 1 2 1 1 1 1]\n",
      " [1 1 1 1 1 1 1 1 1]\n",
      " [0 0 0 0 1 0 0 0 0]]\n",
      "마지막 보상 : 0\n",
      " 총 받은 보상 :-62\n",
      "score = -63, n_buffer : 100000, eps : 44.0\n"
     ]
    },
    {
     "name": "stderr",
     "output_type": "stream",
     "text": [
      "  1%|▍                                                                 | 709/120000 [16:11<59:44:13,  1.80s/it]"
     ]
    },
    {
     "name": "stdout",
     "output_type": "stream",
     "text": [
      "261번 시도 끝에 성공,,, 고생했다..\n"
     ]
    },
    {
     "name": "stderr",
     "output_type": "stream",
     "text": [
      "  1%|▍                                                                 | 721/120000 [16:31<56:03:56,  1.69s/it]"
     ]
    },
    {
     "name": "stdout",
     "output_type": "stream",
     "text": [
      "367번 시도 끝에 성공,,, 고생했다..\n"
     ]
    },
    {
     "name": "stderr",
     "output_type": "stream",
     "text": [
      "  1%|▍                                                                 | 779/120000 [18:11<54:37:46,  1.65s/it]"
     ]
    },
    {
     "name": "stdout",
     "output_type": "stream",
     "text": [
      "276번 시도 끝에 성공,,, 고생했다..\n"
     ]
    },
    {
     "name": "stderr",
     "output_type": "stream",
     "text": [
      "  1%|▍                                                                 | 801/120000 [18:49<64:34:50,  1.95s/it]"
     ]
    },
    {
     "name": "stdout",
     "output_type": "stream",
     "text": [
      "800 에서 챙기는 아이템 : ['H', 'L', 'M']\n",
      "마지막 행동 : →\n",
      " 그 때의 마지막 상태 :\n",
      "[[0 0 0 0 0 0 0 0 3]\n",
      " [1 1 1 1 1 1 1 1 1]\n",
      " [0 1 1 1 1 1 1 1 0]\n",
      " [0 1 0 1 0 1 0 1 0]\n",
      " [0 1 0 1 0 1 0 1 0]\n",
      " [0 1 0 1 0 1 0 1 0]\n",
      " [1 1 0 1 0 1 0 1 1]\n",
      " [1 1 1 1 1 1 1 1 1]\n",
      " [1 1 1 1 1 1 1 2 1]\n",
      " [0 0 0 0 1 0 0 0 0]]\n",
      "마지막 보상 : 0\n",
      " 총 받은 보상 :-77\n",
      "score = -69, n_buffer : 100000, eps : 42.0\n"
     ]
    },
    {
     "name": "stderr",
     "output_type": "stream",
     "text": [
      "  1%|▍                                                                 | 827/120000 [19:31<56:03:44,  1.69s/it]"
     ]
    },
    {
     "name": "stdout",
     "output_type": "stream",
     "text": [
      "301번 시도 끝에 성공,,, 고생했다..\n"
     ]
    },
    {
     "name": "stderr",
     "output_type": "stream",
     "text": [
      "  1%|▍                                                                 | 836/120000 [19:46<55:34:17,  1.68s/it]"
     ]
    },
    {
     "name": "stdout",
     "output_type": "stream",
     "text": [
      "205번 시도 끝에 성공,,, 고생했다..\n"
     ]
    },
    {
     "name": "stderr",
     "output_type": "stream",
     "text": [
      "\r",
      "  1%|▍                                                                 | 837/120000 [19:48<53:57:52,  1.63s/it]"
     ]
    },
    {
     "name": "stdout",
     "output_type": "stream",
     "text": [
      "200번 안에 들어왔다! : 124\n"
     ]
    },
    {
     "name": "stderr",
     "output_type": "stream",
     "text": [
      "/home/zlxlekta924/anaconda3/envs/test/lib/python3.7/site-packages/ipykernel_launcher.py:82: UserWarning: To copy construct from a tensor, it is recommended to use sourceTensor.clone().detach() or sourceTensor.clone().detach().requires_grad_(True), rather than torch.tensor(sourceTensor).\n",
      "  1%|▍                                                                | 838/120000 [19:56<116:33:05,  3.52s/it]"
     ]
    },
    {
     "name": "stdout",
     "output_type": "stream",
     "text": [
      "372번 시도 끝에 성공,,, 고생했다..\n"
     ]
    },
    {
     "name": "stderr",
     "output_type": "stream",
     "text": [
      "  1%|▍                                                                 | 840/120000 [19:59<87:55:06,  2.66s/it]"
     ]
    },
    {
     "name": "stdout",
     "output_type": "stream",
     "text": [
      "200번 안에 들어왔다! : 189\n"
     ]
    },
    {
     "name": "stderr",
     "output_type": "stream",
     "text": [
      "/home/zlxlekta924/anaconda3/envs/test/lib/python3.7/site-packages/ipykernel_launcher.py:82: UserWarning: To copy construct from a tensor, it is recommended to use sourceTensor.clone().detach() or sourceTensor.clone().detach().requires_grad_(True), rather than torch.tensor(sourceTensor).\n",
      "  1%|▍                                                                 | 847/120000 [20:22<67:46:56,  2.05s/it]"
     ]
    },
    {
     "name": "stdout",
     "output_type": "stream",
     "text": [
      "240번 시도 끝에 성공,,, 고생했다..\n"
     ]
    },
    {
     "name": "stderr",
     "output_type": "stream",
     "text": [
      "  1%|▍                                                                 | 854/120000 [20:32<51:39:11,  1.56s/it]"
     ]
    },
    {
     "name": "stdout",
     "output_type": "stream",
     "text": [
      "442번 시도 끝에 성공,,, 고생했다..\n"
     ]
    },
    {
     "name": "stderr",
     "output_type": "stream",
     "text": [
      "  1%|▍                                                                 | 861/120000 [20:43<51:08:48,  1.55s/it]"
     ]
    },
    {
     "name": "stdout",
     "output_type": "stream",
     "text": [
      "499번 시도 끝에 성공,,, 고생했다..\n"
     ]
    },
    {
     "name": "stderr",
     "output_type": "stream",
     "text": [
      "  1%|▍                                                                 | 863/120000 [20:46<52:31:38,  1.59s/it]"
     ]
    },
    {
     "name": "stdout",
     "output_type": "stream",
     "text": [
      "219번 시도 끝에 성공,,, 고생했다..\n"
     ]
    },
    {
     "name": "stderr",
     "output_type": "stream",
     "text": [
      "  1%|▍                                                                 | 865/120000 [20:49<49:55:36,  1.51s/it]"
     ]
    },
    {
     "name": "stdout",
     "output_type": "stream",
     "text": [
      "263번 시도 끝에 성공,,, 고생했다..\n"
     ]
    },
    {
     "name": "stderr",
     "output_type": "stream",
     "text": [
      "\r",
      "  1%|▍                                                                 | 866/120000 [20:50<47:57:16,  1.45s/it]"
     ]
    },
    {
     "name": "stdout",
     "output_type": "stream",
     "text": [
      "400번 시도 끝에 성공,,, 고생했다..\n"
     ]
    },
    {
     "name": "stderr",
     "output_type": "stream",
     "text": [
      "\r",
      "  1%|▍                                                                 | 867/120000 [20:52<52:06:14,  1.57s/it]"
     ]
    },
    {
     "name": "stdout",
     "output_type": "stream",
     "text": [
      "200번 안에 들어왔다! : 155\n"
     ]
    },
    {
     "name": "stderr",
     "output_type": "stream",
     "text": [
      "/home/zlxlekta924/anaconda3/envs/test/lib/python3.7/site-packages/ipykernel_launcher.py:82: UserWarning: To copy construct from a tensor, it is recommended to use sourceTensor.clone().detach() or sourceTensor.clone().detach().requires_grad_(True), rather than torch.tensor(sourceTensor).\n",
      "  1%|▍                                                                | 869/120000 [21:04<112:27:27,  3.40s/it]"
     ]
    },
    {
     "name": "stdout",
     "output_type": "stream",
     "text": [
      "200번 안에 들어왔다! : 128\n"
     ]
    },
    {
     "name": "stderr",
     "output_type": "stream",
     "text": [
      "/home/zlxlekta924/anaconda3/envs/test/lib/python3.7/site-packages/ipykernel_launcher.py:82: UserWarning: To copy construct from a tensor, it is recommended to use sourceTensor.clone().detach() or sourceTensor.clone().detach().requires_grad_(True), rather than torch.tensor(sourceTensor).\n",
      "  1%|▍                                                                 | 901/120000 [22:06<59:15:55,  1.79s/it]"
     ]
    },
    {
     "name": "stdout",
     "output_type": "stream",
     "text": [
      "900 에서 챙기는 아이템 : ['H', 'L', 'M']\n",
      "마지막 행동 : →\n",
      " 그 때의 마지막 상태 :\n",
      "[[0 0 0 0 0 0 0 3 0]\n",
      " [1 1 1 1 1 1 1 1 1]\n",
      " [0 1 1 1 1 1 1 1 0]\n",
      " [0 1 0 1 0 1 0 1 0]\n",
      " [0 1 0 1 0 1 0 1 0]\n",
      " [0 1 0 1 0 1 0 1 0]\n",
      " [1 1 0 1 0 1 0 1 1]\n",
      " [1 1 1 1 1 1 1 1 1]\n",
      " [1 1 1 2 1 1 1 1 1]\n",
      " [0 0 0 0 1 0 0 0 0]]\n",
      "마지막 보상 : 0\n",
      " 총 받은 보상 :-56\n",
      "score = -60, n_buffer : 100000, eps : 42.0\n"
     ]
    },
    {
     "name": "stderr",
     "output_type": "stream",
     "text": [
      "  1%|▍                                                                 | 905/120000 [22:14<59:42:58,  1.81s/it]"
     ]
    },
    {
     "name": "stdout",
     "output_type": "stream",
     "text": [
      "362번 시도 끝에 성공,,, 고생했다..\n"
     ]
    },
    {
     "name": "stderr",
     "output_type": "stream",
     "text": [
      "  1%|▌                                                                 | 917/120000 [22:33<50:54:22,  1.54s/it]"
     ]
    },
    {
     "name": "stdout",
     "output_type": "stream",
     "text": [
      "430번 시도 끝에 성공,,, 고생했다..\n"
     ]
    },
    {
     "name": "stderr",
     "output_type": "stream",
     "text": [
      "  1%|▌                                                                 | 925/120000 [22:47<56:23:28,  1.70s/it]"
     ]
    },
    {
     "name": "stdout",
     "output_type": "stream",
     "text": [
      "419번 시도 끝에 성공,,, 고생했다..\n"
     ]
    },
    {
     "name": "stderr",
     "output_type": "stream",
     "text": [
      "  1%|▌                                                                 | 927/120000 [22:50<52:51:28,  1.60s/it]"
     ]
    },
    {
     "name": "stdout",
     "output_type": "stream",
     "text": [
      "439번 시도 끝에 성공,,, 고생했다..\n"
     ]
    },
    {
     "name": "stderr",
     "output_type": "stream",
     "text": [
      "  1%|▌                                                                 | 934/120000 [23:02<54:10:52,  1.64s/it]"
     ]
    },
    {
     "name": "stdout",
     "output_type": "stream",
     "text": [
      "493번 시도 끝에 성공,,, 고생했다..\n"
     ]
    },
    {
     "name": "stderr",
     "output_type": "stream",
     "text": [
      "  1%|▌                                                                 | 939/120000 [23:10<52:13:57,  1.58s/it]"
     ]
    },
    {
     "name": "stdout",
     "output_type": "stream",
     "text": [
      "325번 시도 끝에 성공,,, 고생했다..\n"
     ]
    },
    {
     "name": "stderr",
     "output_type": "stream",
     "text": [
      "\r",
      "  1%|▌                                                                 | 940/120000 [23:11<50:38:30,  1.53s/it]"
     ]
    },
    {
     "name": "stdout",
     "output_type": "stream",
     "text": [
      "267번 시도 끝에 성공,,, 고생했다..\n"
     ]
    },
    {
     "name": "stderr",
     "output_type": "stream",
     "text": [
      "  1%|▌                                                                 | 954/120000 [23:34<57:36:43,  1.74s/it]"
     ]
    },
    {
     "name": "stdout",
     "output_type": "stream",
     "text": [
      "391번 시도 끝에 성공,,, 고생했다..\n"
     ]
    },
    {
     "name": "stderr",
     "output_type": "stream",
     "text": [
      "  1%|▌                                                                 | 972/120000 [24:04<55:50:02,  1.69s/it]"
     ]
    },
    {
     "name": "stdout",
     "output_type": "stream",
     "text": [
      "285번 시도 끝에 성공,,, 고생했다..\n"
     ]
    },
    {
     "name": "stderr",
     "output_type": "stream",
     "text": [
      "  1%|▌                                                                 | 985/120000 [24:26<55:29:28,  1.68s/it]"
     ]
    },
    {
     "name": "stdout",
     "output_type": "stream",
     "text": [
      "295번 시도 끝에 성공,,, 고생했다..\n"
     ]
    },
    {
     "name": "stderr",
     "output_type": "stream",
     "text": [
      "\r",
      "  1%|▌                                                                 | 986/120000 [24:27<52:18:28,  1.58s/it]"
     ]
    },
    {
     "name": "stdout",
     "output_type": "stream",
     "text": [
      "285번 시도 끝에 성공,,, 고생했다..\n"
     ]
    },
    {
     "name": "stderr",
     "output_type": "stream",
     "text": [
      "\r",
      "  1%|▌                                                                 | 987/120000 [24:29<52:52:16,  1.60s/it]"
     ]
    },
    {
     "name": "stdout",
     "output_type": "stream",
     "text": [
      "393번 시도 끝에 성공,,, 고생했다..\n"
     ]
    },
    {
     "name": "stderr",
     "output_type": "stream",
     "text": [
      "\r",
      "  1%|▌                                                                 | 988/120000 [24:30<53:00:08,  1.60s/it]"
     ]
    },
    {
     "name": "stdout",
     "output_type": "stream",
     "text": [
      "200번 안에 들어왔다! : 187\n"
     ]
    },
    {
     "name": "stderr",
     "output_type": "stream",
     "text": [
      "/home/zlxlekta924/anaconda3/envs/test/lib/python3.7/site-packages/ipykernel_launcher.py:82: UserWarning: To copy construct from a tensor, it is recommended to use sourceTensor.clone().detach() or sourceTensor.clone().detach().requires_grad_(True), rather than torch.tensor(sourceTensor).\n",
      "  1%|▌                                                                 | 996/120000 [24:56<64:10:05,  1.94s/it]"
     ]
    },
    {
     "name": "stdout",
     "output_type": "stream",
     "text": [
      "383번 시도 끝에 성공,,, 고생했다..\n"
     ]
    },
    {
     "name": "stderr",
     "output_type": "stream",
     "text": [
      "  1%|▌                                                                | 1001/120000 [25:04<55:48:22,  1.69s/it]"
     ]
    },
    {
     "name": "stdout",
     "output_type": "stream",
     "text": [
      "1000 에서 챙기는 아이템 : ['H', 'L', 'M']\n",
      "마지막 행동 : ↑\n",
      " 그 때의 마지막 상태 :\n",
      "[[0 0 0 3 0 0 0 0 0]\n",
      " [1 1 1 1 1 1 1 1 1]\n",
      " [0 1 1 1 1 1 1 1 0]\n",
      " [0 1 0 1 0 1 0 1 0]\n",
      " [0 1 0 1 0 1 0 1 0]\n",
      " [0 1 0 1 0 1 0 1 0]\n",
      " [1 1 0 1 0 1 0 1 1]\n",
      " [1 2 1 1 1 1 1 1 1]\n",
      " [1 1 1 1 1 1 1 1 1]\n",
      " [0 0 0 0 1 0 0 0 0]]\n",
      "마지막 보상 : 0\n",
      " 총 받은 보상 :-50\n",
      "score = -60, n_buffer : 100000, eps : 40.0\n"
     ]
    },
    {
     "name": "stderr",
     "output_type": "stream",
     "text": [
      "  1%|▌                                                                | 1020/120000 [25:36<52:51:51,  1.60s/it]"
     ]
    },
    {
     "name": "stdout",
     "output_type": "stream",
     "text": [
      "378번 시도 끝에 성공,,, 고생했다..\n"
     ]
    },
    {
     "name": "stderr",
     "output_type": "stream",
     "text": [
      "  1%|▌                                                                | 1046/120000 [26:19<54:16:25,  1.64s/it]"
     ]
    },
    {
     "name": "stdout",
     "output_type": "stream",
     "text": [
      "356번 시도 끝에 성공,,, 고생했다..\n"
     ]
    },
    {
     "name": "stderr",
     "output_type": "stream",
     "text": [
      "\r",
      "  1%|▌                                                                | 1047/120000 [26:20<54:02:18,  1.64s/it]"
     ]
    },
    {
     "name": "stdout",
     "output_type": "stream",
     "text": [
      "234번 시도 끝에 성공,,, 고생했다..\n"
     ]
    },
    {
     "name": "stderr",
     "output_type": "stream",
     "text": [
      "  1%|▌                                                                | 1050/120000 [26:26<58:47:33,  1.78s/it]"
     ]
    },
    {
     "name": "stdout",
     "output_type": "stream",
     "text": [
      "339번 시도 끝에 성공,,, 고생했다..\n"
     ]
    },
    {
     "name": "stderr",
     "output_type": "stream",
     "text": [
      "  1%|▌                                                                | 1064/120000 [26:50<56:02:53,  1.70s/it]"
     ]
    },
    {
     "name": "stdout",
     "output_type": "stream",
     "text": [
      "357번 시도 끝에 성공,,, 고생했다..\n"
     ]
    },
    {
     "name": "stderr",
     "output_type": "stream",
     "text": [
      "  1%|▌                                                                | 1067/120000 [26:56<61:43:53,  1.87s/it]"
     ]
    },
    {
     "name": "stdout",
     "output_type": "stream",
     "text": [
      "305번 시도 끝에 성공,,, 고생했다..\n"
     ]
    },
    {
     "name": "stderr",
     "output_type": "stream",
     "text": [
      "\r",
      "  1%|▌                                                                | 1068/120000 [26:58<59:39:14,  1.81s/it]"
     ]
    },
    {
     "name": "stdout",
     "output_type": "stream",
     "text": [
      "250번 시도 끝에 성공,,, 고생했다..\n"
     ]
    },
    {
     "name": "stderr",
     "output_type": "stream",
     "text": [
      "  1%|▌                                                                | 1070/120000 [27:01<57:31:24,  1.74s/it]"
     ]
    },
    {
     "name": "stdout",
     "output_type": "stream",
     "text": [
      "404번 시도 끝에 성공,,, 고생했다..\n"
     ]
    },
    {
     "name": "stderr",
     "output_type": "stream",
     "text": [
      "\r",
      "  1%|▌                                                                | 1071/120000 [27:02<55:10:13,  1.67s/it]"
     ]
    },
    {
     "name": "stdout",
     "output_type": "stream",
     "text": [
      "445번 시도 끝에 성공,,, 고생했다..\n"
     ]
    },
    {
     "name": "stderr",
     "output_type": "stream",
     "text": [
      "  1%|▌                                                                | 1101/120000 [27:54<58:39:14,  1.78s/it]"
     ]
    },
    {
     "name": "stdout",
     "output_type": "stream",
     "text": [
      "1100 에서 챙기는 아이템 : ['H', 'L', 'M']\n",
      "마지막 행동 : ↑\n",
      " 그 때의 마지막 상태 :\n",
      "[[0 0 0 3 0 0 0 0 0]\n",
      " [1 1 1 1 1 1 1 1 1]\n",
      " [0 1 1 1 1 1 1 1 0]\n",
      " [0 1 0 1 0 1 0 1 0]\n",
      " [0 1 0 1 0 1 0 1 0]\n",
      " [0 1 0 1 0 1 0 1 0]\n",
      " [1 1 0 1 0 1 0 1 1]\n",
      " [1 1 1 1 2 1 1 1 1]\n",
      " [1 1 1 1 1 1 1 1 1]\n",
      " [0 0 0 0 1 0 0 0 0]]\n",
      "마지막 보상 : 0\n",
      " 총 받은 보상 :-71\n",
      "score = -62, n_buffer : 100000, eps : 40.0\n"
     ]
    },
    {
     "name": "stderr",
     "output_type": "stream",
     "text": [
      "  1%|▌                                                                | 1123/120000 [28:31<56:52:02,  1.72s/it]"
     ]
    },
    {
     "name": "stdout",
     "output_type": "stream",
     "text": [
      "313번 시도 끝에 성공,,, 고생했다..\n"
     ]
    },
    {
     "name": "stderr",
     "output_type": "stream",
     "text": [
      "  1%|▌                                                                | 1138/120000 [28:56<54:07:02,  1.64s/it]"
     ]
    },
    {
     "name": "stdout",
     "output_type": "stream",
     "text": [
      "417번 시도 끝에 성공,,, 고생했다..\n"
     ]
    },
    {
     "name": "stderr",
     "output_type": "stream",
     "text": [
      "  1%|▋                                                                | 1171/120000 [29:51<58:54:18,  1.78s/it]"
     ]
    },
    {
     "name": "stdout",
     "output_type": "stream",
     "text": [
      "364번 시도 끝에 성공,,, 고생했다..\n"
     ]
    },
    {
     "name": "stderr",
     "output_type": "stream",
     "text": [
      "  1%|▋                                                                | 1174/120000 [29:56<59:20:40,  1.80s/it]"
     ]
    },
    {
     "name": "stdout",
     "output_type": "stream",
     "text": [
      "363번 시도 끝에 성공,,, 고생했다..\n"
     ]
    },
    {
     "name": "stderr",
     "output_type": "stream",
     "text": [
      "  1%|▋                                                                | 1201/120000 [30:37<52:17:04,  1.58s/it]"
     ]
    },
    {
     "name": "stdout",
     "output_type": "stream",
     "text": [
      "1200 에서 챙기는 아이템 : ['H', 'L', 'M']\n",
      "마지막 행동 : →\n",
      " 그 때의 마지막 상태 :\n",
      "[[0 0 0 3 0 0 0 0 0]\n",
      " [1 1 1 1 1 1 1 1 1]\n",
      " [0 1 1 1 1 1 1 1 0]\n",
      " [0 1 0 1 0 1 0 1 0]\n",
      " [0 1 0 1 0 1 0 1 0]\n",
      " [0 1 0 1 0 1 0 1 0]\n",
      " [1 1 0 1 0 1 0 1 1]\n",
      " [1 1 1 1 1 1 1 1 1]\n",
      " [1 1 1 1 1 1 1 1 2]\n",
      " [0 0 0 0 1 0 0 0 0]]\n",
      "마지막 보상 : 0\n",
      " 총 받은 보상 :-66\n",
      "score = -59, n_buffer : 100000, eps : 38.0\n"
     ]
    },
    {
     "name": "stderr",
     "output_type": "stream",
     "text": [
      "  1%|▋                                                                | 1206/120000 [30:46<58:21:26,  1.77s/it]"
     ]
    },
    {
     "name": "stdout",
     "output_type": "stream",
     "text": [
      "389번 시도 끝에 성공,,, 고생했다..\n"
     ]
    },
    {
     "name": "stderr",
     "output_type": "stream",
     "text": [
      "  1%|▋                                                                | 1229/120000 [31:24<56:04:30,  1.70s/it]"
     ]
    },
    {
     "name": "stdout",
     "output_type": "stream",
     "text": [
      "414번 시도 끝에 성공,,, 고생했다..\n"
     ]
    },
    {
     "name": "stderr",
     "output_type": "stream",
     "text": [
      "  1%|▋                                                                | 1253/120000 [32:05<50:11:16,  1.52s/it]"
     ]
    },
    {
     "name": "stdout",
     "output_type": "stream",
     "text": [
      "223번 시도 끝에 성공,,, 고생했다..\n"
     ]
    },
    {
     "name": "stderr",
     "output_type": "stream",
     "text": [
      "  1%|▋                                                                | 1259/120000 [32:15<60:04:04,  1.82s/it]"
     ]
    },
    {
     "name": "stdout",
     "output_type": "stream",
     "text": [
      "463번 시도 끝에 성공,,, 고생했다..\n"
     ]
    },
    {
     "name": "stderr",
     "output_type": "stream",
     "text": [
      "  1%|▋                                                                | 1293/120000 [33:12<49:39:46,  1.51s/it]"
     ]
    },
    {
     "name": "stdout",
     "output_type": "stream",
     "text": [
      "315번 시도 끝에 성공,,, 고생했다..\n"
     ]
    },
    {
     "name": "stderr",
     "output_type": "stream",
     "text": [
      "  1%|▋                                                                | 1301/120000 [33:25<55:59:27,  1.70s/it]"
     ]
    },
    {
     "name": "stdout",
     "output_type": "stream",
     "text": [
      "1300 에서 챙기는 아이템 : ['H', 'L', 'M']\n",
      "마지막 행동 : →\n",
      " 그 때의 마지막 상태 :\n",
      "[[0 0 0 3 0 0 0 0 0]\n",
      " [1 1 1 1 1 1 1 1 2]\n",
      " [0 1 1 1 1 1 1 1 0]\n",
      " [0 1 0 1 0 1 0 1 0]\n",
      " [0 1 0 1 0 1 0 1 0]\n",
      " [0 1 0 1 0 1 0 1 0]\n",
      " [1 1 0 1 0 1 0 1 1]\n",
      " [1 1 1 1 1 1 1 1 1]\n",
      " [1 1 1 1 1 1 1 1 1]\n",
      " [0 0 0 0 1 0 0 0 0]]\n",
      "마지막 보상 : -1\n",
      " 총 받은 보상 :-73\n",
      "score = -57, n_buffer : 100000, eps : 38.0\n"
     ]
    },
    {
     "name": "stderr",
     "output_type": "stream",
     "text": [
      "\r",
      "  1%|▋                                                                | 1302/120000 [33:27<55:06:03,  1.67s/it]"
     ]
    },
    {
     "name": "stdout",
     "output_type": "stream",
     "text": [
      "476번 시도 끝에 성공,,, 고생했다..\n"
     ]
    },
    {
     "name": "stderr",
     "output_type": "stream",
     "text": [
      "  1%|▋                                                                | 1313/120000 [33:45<57:32:30,  1.75s/it]"
     ]
    },
    {
     "name": "stdout",
     "output_type": "stream",
     "text": [
      "252번 시도 끝에 성공,,, 고생했다..\n"
     ]
    },
    {
     "name": "stderr",
     "output_type": "stream",
     "text": [
      "  1%|▋                                                                | 1328/120000 [34:13<64:03:15,  1.94s/it]"
     ]
    },
    {
     "name": "stdout",
     "output_type": "stream",
     "text": [
      "473번 시도 끝에 성공,,, 고생했다..\n"
     ]
    },
    {
     "name": "stderr",
     "output_type": "stream",
     "text": [
      "  1%|▋                                                                | 1335/120000 [34:26<59:35:01,  1.81s/it]"
     ]
    },
    {
     "name": "stdout",
     "output_type": "stream",
     "text": [
      "261번 시도 끝에 성공,,, 고생했다..\n"
     ]
    },
    {
     "name": "stderr",
     "output_type": "stream",
     "text": [
      "  1%|▋                                                                | 1337/120000 [34:29<54:41:07,  1.66s/it]"
     ]
    },
    {
     "name": "stdout",
     "output_type": "stream",
     "text": [
      "341번 시도 끝에 성공,,, 고생했다..\n"
     ]
    },
    {
     "name": "stderr",
     "output_type": "stream",
     "text": [
      "  1%|▊                                                                | 1387/120000 [35:53<53:45:45,  1.63s/it]"
     ]
    },
    {
     "name": "stdout",
     "output_type": "stream",
     "text": [
      "501번 시도 끝에 성공,,, 고생했다..\n"
     ]
    },
    {
     "name": "stderr",
     "output_type": "stream",
     "text": [
      "  1%|▊                                                                | 1398/120000 [36:11<57:22:09,  1.74s/it]"
     ]
    },
    {
     "name": "stdout",
     "output_type": "stream",
     "text": [
      "395번 시도 끝에 성공,,, 고생했다..\n"
     ]
    },
    {
     "name": "stderr",
     "output_type": "stream",
     "text": [
      "  1%|▊                                                                | 1401/120000 [36:17<58:22:39,  1.77s/it]"
     ]
    },
    {
     "name": "stdout",
     "output_type": "stream",
     "text": [
      "1400 에서 챙기는 아이템 : ['H', 'L', 'M']\n",
      "마지막 행동 : ↓\n",
      " 그 때의 마지막 상태 :\n",
      "[[0 0 0 3 0 0 0 0 0]\n",
      " [1 1 1 1 1 1 1 1 1]\n",
      " [0 1 1 1 1 1 1 1 0]\n",
      " [0 1 0 1 0 1 0 1 0]\n",
      " [0 1 0 1 0 1 0 1 0]\n",
      " [0 1 0 1 0 1 0 1 0]\n",
      " [1 1 0 1 0 1 0 1 1]\n",
      " [1 1 1 1 1 1 1 1 1]\n",
      " [1 1 2 1 1 1 1 1 1]\n",
      " [0 0 0 0 1 0 0 0 0]]\n",
      "마지막 보상 : -1\n",
      " 총 받은 보상 :-34\n",
      "score = -56, n_buffer : 100000, eps : 36.0\n"
     ]
    },
    {
     "name": "stderr",
     "output_type": "stream",
     "text": [
      "  1%|▊                                                                | 1411/120000 [36:33<57:34:08,  1.75s/it]"
     ]
    },
    {
     "name": "stdout",
     "output_type": "stream",
     "text": [
      "301번 시도 끝에 성공,,, 고생했다..\n"
     ]
    },
    {
     "name": "stderr",
     "output_type": "stream",
     "text": [
      "\r",
      "  1%|▊                                                                | 1412/120000 [36:35<53:31:19,  1.62s/it]"
     ]
    },
    {
     "name": "stdout",
     "output_type": "stream",
     "text": [
      "200번 안에 들어왔다! : 190\n"
     ]
    },
    {
     "name": "stderr",
     "output_type": "stream",
     "text": [
      "/home/zlxlekta924/anaconda3/envs/test/lib/python3.7/site-packages/ipykernel_launcher.py:82: UserWarning: To copy construct from a tensor, it is recommended to use sourceTensor.clone().detach() or sourceTensor.clone().detach().requires_grad_(True), rather than torch.tensor(sourceTensor).\n",
      "  1%|▊                                                               | 1414/120000 [36:49<129:53:58,  3.94s/it]"
     ]
    },
    {
     "name": "stdout",
     "output_type": "stream",
     "text": [
      "304번 시도 끝에 성공,,, 고생했다..\n"
     ]
    },
    {
     "name": "stderr",
     "output_type": "stream",
     "text": [
      "\r",
      "  1%|▊                                                               | 1415/120000 [36:50<104:42:41,  3.18s/it]"
     ]
    },
    {
     "name": "stdout",
     "output_type": "stream",
     "text": [
      "497번 시도 끝에 성공,,, 고생했다..\n"
     ]
    },
    {
     "name": "stderr",
     "output_type": "stream",
     "text": [
      "  1%|▊                                                                | 1417/120000 [36:54<80:18:19,  2.44s/it]"
     ]
    },
    {
     "name": "stdout",
     "output_type": "stream",
     "text": [
      "327번 시도 끝에 성공,,, 고생했다..\n"
     ]
    },
    {
     "name": "stderr",
     "output_type": "stream",
     "text": [
      "  1%|▊                                                                | 1421/120000 [37:01<61:19:59,  1.86s/it]"
     ]
    },
    {
     "name": "stdout",
     "output_type": "stream",
     "text": [
      "301번 시도 끝에 성공,,, 고생했다..\n"
     ]
    },
    {
     "name": "stderr",
     "output_type": "stream",
     "text": [
      "\r",
      "  1%|▊                                                                | 1422/120000 [37:02<57:08:57,  1.74s/it]"
     ]
    },
    {
     "name": "stdout",
     "output_type": "stream",
     "text": [
      "493번 시도 끝에 성공,,, 고생했다..\n"
     ]
    },
    {
     "name": "stderr",
     "output_type": "stream",
     "text": [
      "  1%|▊                                                                | 1424/120000 [37:05<57:49:54,  1.76s/it]"
     ]
    },
    {
     "name": "stdout",
     "output_type": "stream",
     "text": [
      "468번 시도 끝에 성공,,, 고생했다..\n"
     ]
    },
    {
     "name": "stderr",
     "output_type": "stream",
     "text": [
      "  1%|▊                                                                | 1429/120000 [37:14<58:58:46,  1.79s/it]"
     ]
    },
    {
     "name": "stdout",
     "output_type": "stream",
     "text": [
      "388번 시도 끝에 성공,,, 고생했다..\n"
     ]
    },
    {
     "name": "stderr",
     "output_type": "stream",
     "text": [
      "  1%|▊                                                                | 1431/120000 [37:18<59:18:06,  1.80s/it]"
     ]
    },
    {
     "name": "stdout",
     "output_type": "stream",
     "text": [
      "200번 안에 들어왔다! : 107\n"
     ]
    },
    {
     "name": "stderr",
     "output_type": "stream",
     "text": [
      "/home/zlxlekta924/anaconda3/envs/test/lib/python3.7/site-packages/ipykernel_launcher.py:82: UserWarning: To copy construct from a tensor, it is recommended to use sourceTensor.clone().detach() or sourceTensor.clone().detach().requires_grad_(True), rather than torch.tensor(sourceTensor).\n",
      "  1%|▊                                                                | 1446/120000 [37:50<61:54:12,  1.88s/it]"
     ]
    },
    {
     "name": "stdout",
     "output_type": "stream",
     "text": [
      "356번 시도 끝에 성공,,, 고생했다..\n"
     ]
    },
    {
     "name": "stderr",
     "output_type": "stream",
     "text": [
      "  1%|▊                                                                | 1450/120000 [37:57<58:14:46,  1.77s/it]"
     ]
    },
    {
     "name": "stdout",
     "output_type": "stream",
     "text": [
      "200번 안에 들어왔다! : 120\n"
     ]
    },
    {
     "name": "stderr",
     "output_type": "stream",
     "text": [
      "/home/zlxlekta924/anaconda3/envs/test/lib/python3.7/site-packages/ipykernel_launcher.py:82: UserWarning: To copy construct from a tensor, it is recommended to use sourceTensor.clone().detach() or sourceTensor.clone().detach().requires_grad_(True), rather than torch.tensor(sourceTensor).\n",
      "  1%|▊                                                                | 1452/120000 [38:06<98:11:54,  2.98s/it]"
     ]
    },
    {
     "name": "stdout",
     "output_type": "stream",
     "text": [
      "397번 시도 끝에 성공,,, 고생했다..\n"
     ]
    },
    {
     "name": "stderr",
     "output_type": "stream",
     "text": [
      "  1%|▊                                                                | 1454/120000 [38:10<79:46:28,  2.42s/it]"
     ]
    },
    {
     "name": "stdout",
     "output_type": "stream",
     "text": [
      "326번 시도 끝에 성공,,, 고생했다..\n"
     ]
    },
    {
     "name": "stderr",
     "output_type": "stream",
     "text": [
      "\r",
      "  1%|▊                                                                | 1455/120000 [38:12<72:54:20,  2.21s/it]"
     ]
    },
    {
     "name": "stdout",
     "output_type": "stream",
     "text": [
      "345번 시도 끝에 성공,,, 고생했다..\n"
     ]
    },
    {
     "name": "stderr",
     "output_type": "stream",
     "text": [
      "  1%|▊                                                                | 1463/120000 [38:25<54:33:11,  1.66s/it]"
     ]
    },
    {
     "name": "stdout",
     "output_type": "stream",
     "text": [
      "439번 시도 끝에 성공,,, 고생했다..\n"
     ]
    },
    {
     "name": "stderr",
     "output_type": "stream",
     "text": [
      "  1%|▊                                                                | 1465/120000 [38:28<51:07:01,  1.55s/it]"
     ]
    },
    {
     "name": "stdout",
     "output_type": "stream",
     "text": [
      "495번 시도 끝에 성공,,, 고생했다..\n"
     ]
    },
    {
     "name": "stderr",
     "output_type": "stream",
     "text": [
      "  1%|▊                                                                | 1468/120000 [38:32<49:38:36,  1.51s/it]"
     ]
    },
    {
     "name": "stdout",
     "output_type": "stream",
     "text": [
      "370번 시도 끝에 성공,,, 고생했다..\n"
     ]
    },
    {
     "name": "stderr",
     "output_type": "stream",
     "text": [
      "  1%|▊                                                                | 1484/120000 [39:01<58:59:05,  1.79s/it]"
     ]
    },
    {
     "name": "stdout",
     "output_type": "stream",
     "text": [
      "385번 시도 끝에 성공,,, 고생했다..\n"
     ]
    },
    {
     "name": "stderr",
     "output_type": "stream",
     "text": [
      "  1%|▊                                                                | 1496/120000 [39:22<57:10:32,  1.74s/it]"
     ]
    },
    {
     "name": "stdout",
     "output_type": "stream",
     "text": [
      "299번 시도 끝에 성공,,, 고생했다..\n"
     ]
    },
    {
     "name": "stderr",
     "output_type": "stream",
     "text": [
      "  1%|▊                                                                | 1501/120000 [39:31<57:37:51,  1.75s/it]"
     ]
    },
    {
     "name": "stdout",
     "output_type": "stream",
     "text": [
      "1500 에서 챙기는 아이템 : ['H', 'L', 'M']\n",
      "마지막 행동 : ←\n",
      " 그 때의 마지막 상태 :\n",
      "[[0 0 0 3 0 0 0 0 0]\n",
      " [1 1 1 1 1 1 1 1 1]\n",
      " [0 1 1 1 1 1 1 1 0]\n",
      " [0 1 0 1 0 1 0 1 0]\n",
      " [0 1 0 1 0 1 0 1 0]\n",
      " [0 1 0 1 0 1 0 1 0]\n",
      " [1 1 0 1 0 1 0 2 1]\n",
      " [1 1 1 1 1 1 1 1 1]\n",
      " [1 1 1 1 1 1 1 1 1]\n",
      " [0 0 0 0 1 0 0 0 0]]\n",
      "마지막 보상 : 0\n",
      " 총 받은 보상 :-49\n",
      "score = -51, n_buffer : 100000, eps : 36.0\n"
     ]
    },
    {
     "name": "stderr",
     "output_type": "stream",
     "text": [
      "\r",
      "  1%|▊                                                                | 1502/120000 [39:32<57:18:17,  1.74s/it]"
     ]
    },
    {
     "name": "stdout",
     "output_type": "stream",
     "text": [
      "366번 시도 끝에 성공,,, 고생했다..\n"
     ]
    },
    {
     "name": "stderr",
     "output_type": "stream",
     "text": [
      "\r",
      "  1%|▊                                                                | 1503/120000 [39:34<56:08:52,  1.71s/it]"
     ]
    },
    {
     "name": "stdout",
     "output_type": "stream",
     "text": [
      "360번 시도 끝에 성공,,, 고생했다..\n"
     ]
    },
    {
     "name": "stderr",
     "output_type": "stream",
     "text": [
      "  1%|▊                                                                | 1506/120000 [39:39<54:36:42,  1.66s/it]"
     ]
    },
    {
     "name": "stdout",
     "output_type": "stream",
     "text": [
      "440번 시도 끝에 성공,,, 고생했다..\n"
     ]
    },
    {
     "name": "stderr",
     "output_type": "stream",
     "text": [
      "\r",
      "  1%|▊                                                                | 1507/120000 [39:41<53:35:24,  1.63s/it]"
     ]
    },
    {
     "name": "stdout",
     "output_type": "stream",
     "text": [
      "350번 시도 끝에 성공,,, 고생했다..\n"
     ]
    },
    {
     "name": "stderr",
     "output_type": "stream",
     "text": [
      "  1%|▊                                                                | 1509/120000 [39:44<52:47:05,  1.60s/it]"
     ]
    },
    {
     "name": "stdout",
     "output_type": "stream",
     "text": [
      "229번 시도 끝에 성공,,, 고생했다..\n"
     ]
    },
    {
     "name": "stderr",
     "output_type": "stream",
     "text": [
      "\r",
      "  1%|▊                                                                | 1510/120000 [39:45<50:05:12,  1.52s/it]"
     ]
    },
    {
     "name": "stdout",
     "output_type": "stream",
     "text": [
      "200번 안에 들어왔다! : 91\n"
     ]
    },
    {
     "name": "stderr",
     "output_type": "stream",
     "text": [
      "/home/zlxlekta924/anaconda3/envs/test/lib/python3.7/site-packages/ipykernel_launcher.py:82: UserWarning: To copy construct from a tensor, it is recommended to use sourceTensor.clone().detach() or sourceTensor.clone().detach().requires_grad_(True), rather than torch.tensor(sourceTensor).\n",
      "  1%|▊                                                                | 1535/120000 [40:35<64:20:24,  1.96s/it]"
     ]
    },
    {
     "name": "stdout",
     "output_type": "stream",
     "text": [
      "481번 시도 끝에 성공,,, 고생했다..\n"
     ]
    },
    {
     "name": "stderr",
     "output_type": "stream",
     "text": [
      "  1%|▊                                                                | 1546/120000 [40:51<49:46:41,  1.51s/it]"
     ]
    },
    {
     "name": "stdout",
     "output_type": "stream",
     "text": [
      "227번 시도 끝에 성공,,, 고생했다..\n"
     ]
    },
    {
     "name": "stderr",
     "output_type": "stream",
     "text": [
      "\r",
      "  1%|▊                                                                | 1547/120000 [40:52<48:29:13,  1.47s/it]"
     ]
    },
    {
     "name": "stdout",
     "output_type": "stream",
     "text": [
      "407번 시도 끝에 성공,,, 고생했다..\n"
     ]
    },
    {
     "name": "stderr",
     "output_type": "stream",
     "text": [
      "  1%|▊                                                                | 1556/120000 [41:07<54:07:52,  1.65s/it]"
     ]
    },
    {
     "name": "stdout",
     "output_type": "stream",
     "text": [
      "489번 시도 끝에 성공,,, 고생했다..\n"
     ]
    },
    {
     "name": "stderr",
     "output_type": "stream",
     "text": [
      "\r",
      "  1%|▊                                                                | 1557/120000 [41:09<58:41:57,  1.78s/it]"
     ]
    },
    {
     "name": "stdout",
     "output_type": "stream",
     "text": [
      "360번 시도 끝에 성공,,, 고생했다..\n"
     ]
    },
    {
     "name": "stderr",
     "output_type": "stream",
     "text": [
      "  1%|▊                                                                | 1565/120000 [41:24<56:59:56,  1.73s/it]"
     ]
    },
    {
     "name": "stdout",
     "output_type": "stream",
     "text": [
      "295번 시도 끝에 성공,,, 고생했다..\n"
     ]
    },
    {
     "name": "stderr",
     "output_type": "stream",
     "text": [
      "  1%|▊                                                                | 1570/120000 [41:31<52:29:26,  1.60s/it]"
     ]
    },
    {
     "name": "stdout",
     "output_type": "stream",
     "text": [
      "200번 안에 들어왔다! : 143\n"
     ]
    },
    {
     "name": "stderr",
     "output_type": "stream",
     "text": [
      "/home/zlxlekta924/anaconda3/envs/test/lib/python3.7/site-packages/ipykernel_launcher.py:82: UserWarning: To copy construct from a tensor, it is recommended to use sourceTensor.clone().detach() or sourceTensor.clone().detach().requires_grad_(True), rather than torch.tensor(sourceTensor).\n",
      "  1%|▊                                                                | 1594/120000 [42:22<57:29:13,  1.75s/it]"
     ]
    },
    {
     "name": "stdout",
     "output_type": "stream",
     "text": [
      "335번 시도 끝에 성공,,, 고생했다..\n"
     ]
    },
    {
     "name": "stderr",
     "output_type": "stream",
     "text": [
      "  1%|▊                                                                | 1601/120000 [42:33<55:57:49,  1.70s/it]"
     ]
    },
    {
     "name": "stdout",
     "output_type": "stream",
     "text": [
      "1600 에서 챙기는 아이템 : ['H', 'L', 'M']\n",
      "마지막 행동 : ←\n",
      " 그 때의 마지막 상태 :\n",
      "[[0 0 0 0 0 0 0 3 0]\n",
      " [1 1 1 1 1 1 1 1 1]\n",
      " [0 1 1 1 1 1 1 1 0]\n",
      " [0 1 0 1 0 1 0 1 0]\n",
      " [0 1 0 1 0 1 0 1 0]\n",
      " [0 1 0 1 0 1 0 1 0]\n",
      " [1 1 0 1 0 1 0 1 1]\n",
      " [1 1 1 1 1 1 1 1 1]\n",
      " [2 1 1 1 1 1 1 1 1]\n",
      " [0 0 0 0 1 0 0 0 0]]\n",
      "마지막 보상 : 0\n",
      " 총 받은 보상 :-73\n",
      "score = -54, n_buffer : 100000, eps : 34.0\n"
     ]
    },
    {
     "name": "stderr",
     "output_type": "stream",
     "text": [
      "  1%|▊                                                                | 1605/120000 [42:40<53:14:06,  1.62s/it]"
     ]
    },
    {
     "name": "stdout",
     "output_type": "stream",
     "text": [
      "200번 안에 들어왔다! : 193\n"
     ]
    },
    {
     "name": "stderr",
     "output_type": "stream",
     "text": [
      "/home/zlxlekta924/anaconda3/envs/test/lib/python3.7/site-packages/ipykernel_launcher.py:82: UserWarning: To copy construct from a tensor, it is recommended to use sourceTensor.clone().detach() or sourceTensor.clone().detach().requires_grad_(True), rather than torch.tensor(sourceTensor).\n",
      "  1%|▉                                                                | 1631/120000 [43:35<58:33:29,  1.78s/it]"
     ]
    },
    {
     "name": "stdout",
     "output_type": "stream",
     "text": [
      "200번 안에 들어왔다! : 180\n"
     ]
    },
    {
     "name": "stderr",
     "output_type": "stream",
     "text": [
      "/home/zlxlekta924/anaconda3/envs/test/lib/python3.7/site-packages/ipykernel_launcher.py:82: UserWarning: To copy construct from a tensor, it is recommended to use sourceTensor.clone().detach() or sourceTensor.clone().detach().requires_grad_(True), rather than torch.tensor(sourceTensor).\n",
      "  1%|▉                                                                | 1635/120000 [43:54<96:00:38,  2.92s/it]"
     ]
    },
    {
     "name": "stdout",
     "output_type": "stream",
     "text": [
      "200번 안에 들어왔다! : 196\n"
     ]
    },
    {
     "name": "stderr",
     "output_type": "stream",
     "text": [
      "/home/zlxlekta924/anaconda3/envs/test/lib/python3.7/site-packages/ipykernel_launcher.py:82: UserWarning: To copy construct from a tensor, it is recommended to use sourceTensor.clone().detach() or sourceTensor.clone().detach().requires_grad_(True), rather than torch.tensor(sourceTensor).\n",
      "  1%|▊                                                               | 1639/120000 [44:14<107:42:46,  3.28s/it]"
     ]
    },
    {
     "name": "stdout",
     "output_type": "stream",
     "text": [
      "394번 시도 끝에 성공,,, 고생했다..\n"
     ]
    },
    {
     "name": "stderr",
     "output_type": "stream",
     "text": [
      "  1%|▉                                                                | 1642/120000 [44:18<71:37:30,  2.18s/it]"
     ]
    },
    {
     "name": "stdout",
     "output_type": "stream",
     "text": [
      "422번 시도 끝에 성공,,, 고생했다..\n"
     ]
    },
    {
     "name": "stderr",
     "output_type": "stream",
     "text": [
      "  1%|▉                                                                | 1650/120000 [44:32<58:34:25,  1.78s/it]"
     ]
    },
    {
     "name": "stdout",
     "output_type": "stream",
     "text": [
      "254번 시도 끝에 성공,,, 고생했다..\n"
     ]
    },
    {
     "name": "stderr",
     "output_type": "stream",
     "text": [
      "  1%|▉                                                                | 1659/120000 [44:47<55:32:14,  1.69s/it]"
     ]
    },
    {
     "name": "stdout",
     "output_type": "stream",
     "text": [
      "322번 시도 끝에 성공,,, 고생했다..\n"
     ]
    },
    {
     "name": "stderr",
     "output_type": "stream",
     "text": [
      "  1%|▉                                                                | 1701/120000 [45:58<53:49:12,  1.64s/it]"
     ]
    },
    {
     "name": "stdout",
     "output_type": "stream",
     "text": [
      "1700 에서 챙기는 아이템 : ['H', 'L', 'M']\n",
      "마지막 행동 : ↓\n",
      " 그 때의 마지막 상태 :\n",
      "[[0 0 0 3 0 0 0 0 0]\n",
      " [1 1 1 1 1 1 1 1 1]\n",
      " [0 1 1 1 1 1 1 1 0]\n",
      " [0 1 0 1 0 1 0 1 0]\n",
      " [0 1 0 1 0 1 0 1 0]\n",
      " [0 1 0 1 0 1 0 1 0]\n",
      " [1 1 0 1 0 1 0 1 1]\n",
      " [1 1 1 2 1 1 1 1 1]\n",
      " [1 1 1 1 1 1 1 1 1]\n",
      " [0 0 0 0 1 0 0 0 0]]\n",
      "마지막 보상 : 0\n",
      " 총 받은 보상 :-46\n",
      "score = -53, n_buffer : 100000, eps : 34.0\n"
     ]
    },
    {
     "name": "stderr",
     "output_type": "stream",
     "text": [
      "  1%|▉                                                                | 1706/120000 [46:07<55:55:29,  1.70s/it]"
     ]
    },
    {
     "name": "stdout",
     "output_type": "stream",
     "text": [
      "367번 시도 끝에 성공,,, 고생했다..\n"
     ]
    },
    {
     "name": "stderr",
     "output_type": "stream",
     "text": [
      "  1%|▉                                                                | 1725/120000 [46:39<50:55:54,  1.55s/it]"
     ]
    },
    {
     "name": "stdout",
     "output_type": "stream",
     "text": [
      "457번 시도 끝에 성공,,, 고생했다..\n"
     ]
    },
    {
     "name": "stderr",
     "output_type": "stream",
     "text": [
      "  1%|▉                                                                | 1739/120000 [47:02<52:23:50,  1.60s/it]"
     ]
    },
    {
     "name": "stdout",
     "output_type": "stream",
     "text": [
      "252번 시도 끝에 성공,,, 고생했다..\n"
     ]
    },
    {
     "name": "stderr",
     "output_type": "stream",
     "text": [
      "  1%|▉                                                                | 1757/120000 [47:33<52:52:33,  1.61s/it]"
     ]
    },
    {
     "name": "stdout",
     "output_type": "stream",
     "text": [
      "275번 시도 끝에 성공,,, 고생했다..\n"
     ]
    },
    {
     "name": "stderr",
     "output_type": "stream",
     "text": [
      "  1%|▉                                                                | 1776/120000 [48:05<54:22:26,  1.66s/it]"
     ]
    },
    {
     "name": "stdout",
     "output_type": "stream",
     "text": [
      "365번 시도 끝에 성공,,, 고생했다..\n"
     ]
    },
    {
     "name": "stderr",
     "output_type": "stream",
     "text": [
      "  1%|▉                                                                | 1778/120000 [48:08<53:50:48,  1.64s/it]"
     ]
    },
    {
     "name": "stdout",
     "output_type": "stream",
     "text": [
      "456번 시도 끝에 성공,,, 고생했다..\n"
     ]
    },
    {
     "name": "stderr",
     "output_type": "stream",
     "text": [
      "  2%|▉                                                                | 1801/120000 [48:47<52:30:15,  1.60s/it]"
     ]
    },
    {
     "name": "stdout",
     "output_type": "stream",
     "text": [
      "1800 에서 챙기는 아이템 : ['H', 'L', 'M']\n",
      "마지막 행동 : ↓\n",
      " 그 때의 마지막 상태 :\n",
      "[[0 0 0 0 0 0 0 3 0]\n",
      " [1 1 1 1 1 1 1 1 1]\n",
      " [0 1 1 1 2 1 1 1 0]\n",
      " [0 1 0 1 0 1 0 1 0]\n",
      " [0 1 0 1 0 1 0 1 0]\n",
      " [0 1 0 1 0 1 0 1 0]\n",
      " [1 1 0 1 0 1 0 1 1]\n",
      " [1 1 1 1 1 1 1 1 1]\n",
      " [1 1 1 1 1 1 1 1 1]\n",
      " [0 0 0 0 1 0 0 0 0]]\n",
      "마지막 보상 : 0\n",
      " 총 받은 보상 :-45\n",
      "score = -50, n_buffer : 100000, eps : 32.0\n"
     ]
    },
    {
     "name": "stderr",
     "output_type": "stream",
     "text": [
      "  2%|▉                                                                | 1821/120000 [49:20<52:47:44,  1.61s/it]"
     ]
    },
    {
     "name": "stdout",
     "output_type": "stream",
     "text": [
      "368번 시도 끝에 성공,,, 고생했다..\n"
     ]
    },
    {
     "name": "stderr",
     "output_type": "stream",
     "text": [
      "  2%|▉                                                                | 1824/120000 [49:24<52:34:04,  1.60s/it]"
     ]
    },
    {
     "name": "stdout",
     "output_type": "stream",
     "text": [
      "427번 시도 끝에 성공,,, 고생했다..\n"
     ]
    },
    {
     "name": "stderr",
     "output_type": "stream",
     "text": [
      "  2%|▉                                                                | 1844/120000 [49:56<55:50:43,  1.70s/it]"
     ]
    },
    {
     "name": "stdout",
     "output_type": "stream",
     "text": [
      "500번 시도 끝에 성공,,, 고생했다..\n"
     ]
    },
    {
     "name": "stderr",
     "output_type": "stream",
     "text": [
      "  2%|█                                                                | 1851/120000 [50:08<56:54:24,  1.73s/it]"
     ]
    },
    {
     "name": "stdout",
     "output_type": "stream",
     "text": [
      "382번 시도 끝에 성공,,, 고생했다..\n"
     ]
    },
    {
     "name": "stderr",
     "output_type": "stream",
     "text": [
      "  2%|█                                                                | 1889/120000 [51:11<58:55:06,  1.80s/it]"
     ]
    },
    {
     "name": "stdout",
     "output_type": "stream",
     "text": [
      "368번 시도 끝에 성공,,, 고생했다..\n"
     ]
    },
    {
     "name": "stderr",
     "output_type": "stream",
     "text": [
      "\r",
      "  2%|█                                                                | 1890/120000 [51:13<57:57:53,  1.77s/it]"
     ]
    },
    {
     "name": "stdout",
     "output_type": "stream",
     "text": [
      "331번 시도 끝에 성공,,, 고생했다..\n"
     ]
    },
    {
     "name": "stderr",
     "output_type": "stream",
     "text": [
      "  2%|█                                                                | 1900/120000 [51:30<56:19:27,  1.72s/it]"
     ]
    },
    {
     "name": "stdout",
     "output_type": "stream",
     "text": [
      "290번 시도 끝에 성공,,, 고생했다..\n"
     ]
    },
    {
     "name": "stderr",
     "output_type": "stream",
     "text": [
      "\r",
      "  2%|█                                                                | 1901/120000 [51:31<56:10:23,  1.71s/it]"
     ]
    },
    {
     "name": "stdout",
     "output_type": "stream",
     "text": [
      "1900 에서 챙기는 아이템 : ['H', 'L', 'M']\n",
      "마지막 행동 : ↓\n",
      " 그 때의 마지막 상태 :\n",
      "[[0 0 0 0 0 0 0 0 0]\n",
      " [1 1 1 1 1 1 1 1 1]\n",
      " [0 1 1 1 1 1 1 1 0]\n",
      " [0 1 0 1 0 1 0 1 0]\n",
      " [0 1 0 1 0 1 0 1 0]\n",
      " [0 1 0 1 0 1 0 1 0]\n",
      " [1 1 0 1 0 1 0 1 1]\n",
      " [1 1 1 1 1 1 1 1 1]\n",
      " [1 1 1 1 1 1 1 1 1]\n",
      " [0 0 0 0 2 0 0 0 0]]\n",
      "마지막 보상 : 10\n",
      " 총 받은 보상 :-17\n",
      "score = -44, n_buffer : 100000, eps : 32.0\n"
     ]
    },
    {
     "name": "stderr",
     "output_type": "stream",
     "text": [
      "  2%|█                                                                | 1905/120000 [51:39<60:26:06,  1.84s/it]"
     ]
    },
    {
     "name": "stdout",
     "output_type": "stream",
     "text": [
      "418번 시도 끝에 성공,,, 고생했다..\n"
     ]
    },
    {
     "name": "stderr",
     "output_type": "stream",
     "text": [
      "  2%|█                                                                | 1908/120000 [51:44<56:27:01,  1.72s/it]"
     ]
    },
    {
     "name": "stdout",
     "output_type": "stream",
     "text": [
      "499번 시도 끝에 성공,,, 고생했다..\n"
     ]
    },
    {
     "name": "stderr",
     "output_type": "stream",
     "text": [
      "\r",
      "  2%|█                                                                | 1909/120000 [51:45<54:58:09,  1.68s/it]"
     ]
    },
    {
     "name": "stdout",
     "output_type": "stream",
     "text": [
      "467번 시도 끝에 성공,,, 고생했다..\n"
     ]
    },
    {
     "name": "stderr",
     "output_type": "stream",
     "text": [
      "  2%|█                                                                | 1911/120000 [51:48<50:16:05,  1.53s/it]"
     ]
    },
    {
     "name": "stdout",
     "output_type": "stream",
     "text": [
      "280번 시도 끝에 성공,,, 고생했다..\n"
     ]
    },
    {
     "name": "stderr",
     "output_type": "stream",
     "text": [
      "  2%|█                                                                | 1916/120000 [51:56<51:23:03,  1.57s/it]"
     ]
    },
    {
     "name": "stdout",
     "output_type": "stream",
     "text": [
      "485번 시도 끝에 성공,,, 고생했다..\n"
     ]
    },
    {
     "name": "stderr",
     "output_type": "stream",
     "text": [
      "  2%|█                                                                | 1929/120000 [52:17<55:21:44,  1.69s/it]"
     ]
    },
    {
     "name": "stdout",
     "output_type": "stream",
     "text": [
      "457번 시도 끝에 성공,,, 고생했다..\n"
     ]
    },
    {
     "name": "stderr",
     "output_type": "stream",
     "text": [
      "\r",
      "  2%|█                                                                | 1930/120000 [52:19<55:24:21,  1.69s/it]"
     ]
    },
    {
     "name": "stdout",
     "output_type": "stream",
     "text": [
      "496번 시도 끝에 성공,,, 고생했다..\n"
     ]
    },
    {
     "name": "stderr",
     "output_type": "stream",
     "text": [
      "  2%|█                                                                | 1942/120000 [52:39<54:04:19,  1.65s/it]"
     ]
    },
    {
     "name": "stdout",
     "output_type": "stream",
     "text": [
      "304번 시도 끝에 성공,,, 고생했다..\n"
     ]
    },
    {
     "name": "stderr",
     "output_type": "stream",
     "text": [
      "  2%|█                                                                | 1948/120000 [52:49<56:32:45,  1.72s/it]"
     ]
    },
    {
     "name": "stdout",
     "output_type": "stream",
     "text": [
      "360번 시도 끝에 성공,,, 고생했다..\n"
     ]
    },
    {
     "name": "stderr",
     "output_type": "stream",
     "text": [
      "  2%|█                                                                | 1953/120000 [52:57<57:02:51,  1.74s/it]"
     ]
    },
    {
     "name": "stdout",
     "output_type": "stream",
     "text": [
      "437번 시도 끝에 성공,,, 고생했다..\n"
     ]
    },
    {
     "name": "stderr",
     "output_type": "stream",
     "text": [
      "  2%|█                                                                | 1965/120000 [53:20<62:29:40,  1.91s/it]"
     ]
    },
    {
     "name": "stdout",
     "output_type": "stream",
     "text": [
      "370번 시도 끝에 성공,,, 고생했다..\n"
     ]
    },
    {
     "name": "stderr",
     "output_type": "stream",
     "text": [
      "  2%|█                                                                | 2001/120000 [54:18<50:33:43,  1.54s/it]"
     ]
    },
    {
     "name": "stdout",
     "output_type": "stream",
     "text": [
      "2000 에서 챙기는 아이템 : ['H', 'L', 'M']\n",
      "마지막 행동 : ↓\n",
      " 그 때의 마지막 상태 :\n",
      "[[0 0 0 3 0 0 0 0 0]\n",
      " [1 1 1 1 1 1 1 1 1]\n",
      " [0 1 1 1 1 1 1 1 0]\n",
      " [0 1 0 1 0 1 0 1 0]\n",
      " [0 1 0 1 0 1 0 1 0]\n",
      " [0 1 0 1 0 1 0 1 0]\n",
      " [1 1 0 1 0 1 0 1 1]\n",
      " [1 2 1 1 1 1 1 1 1]\n",
      " [1 1 1 1 1 1 1 1 1]\n",
      " [0 0 0 0 1 0 0 0 0]]\n",
      "마지막 보상 : 0\n",
      " 총 받은 보상 :-48\n",
      "score = -48, n_buffer : 100000, eps : 30.0\n"
     ]
    },
    {
     "name": "stderr",
     "output_type": "stream",
     "text": [
      "  2%|█                                                                | 2040/120000 [55:24<56:56:55,  1.74s/it]"
     ]
    },
    {
     "name": "stdout",
     "output_type": "stream",
     "text": [
      "404번 시도 끝에 성공,,, 고생했다..\n"
     ]
    },
    {
     "name": "stderr",
     "output_type": "stream",
     "text": [
      "  2%|█                                                                | 2045/120000 [55:33<57:01:43,  1.74s/it]"
     ]
    },
    {
     "name": "stdout",
     "output_type": "stream",
     "text": [
      "236번 시도 끝에 성공,,, 고생했다..\n"
     ]
    },
    {
     "name": "stderr",
     "output_type": "stream",
     "text": [
      "  2%|█                                                                | 2053/120000 [55:46<56:07:57,  1.71s/it]"
     ]
    },
    {
     "name": "stdout",
     "output_type": "stream",
     "text": [
      "500번 시도 끝에 성공,,, 고생했다..\n"
     ]
    },
    {
     "name": "stderr",
     "output_type": "stream",
     "text": [
      "  2%|█                                                                | 2056/120000 [55:52<61:14:06,  1.87s/it]"
     ]
    },
    {
     "name": "stdout",
     "output_type": "stream",
     "text": [
      "399번 시도 끝에 성공,,, 고생했다..\n"
     ]
    },
    {
     "name": "stderr",
     "output_type": "stream",
     "text": [
      "  2%|█                                                                | 2064/120000 [56:07<62:33:50,  1.91s/it]"
     ]
    },
    {
     "name": "stdout",
     "output_type": "stream",
     "text": [
      "374번 시도 끝에 성공,,, 고생했다..\n"
     ]
    },
    {
     "name": "stderr",
     "output_type": "stream",
     "text": [
      "\r",
      "  2%|█                                                                | 2065/120000 [56:09<61:12:57,  1.87s/it]"
     ]
    },
    {
     "name": "stdout",
     "output_type": "stream",
     "text": [
      "200번 안에 들어왔다! : 187\n"
     ]
    },
    {
     "name": "stderr",
     "output_type": "stream",
     "text": [
      "/home/zlxlekta924/anaconda3/envs/test/lib/python3.7/site-packages/ipykernel_launcher.py:82: UserWarning: To copy construct from a tensor, it is recommended to use sourceTensor.clone().detach() or sourceTensor.clone().detach().requires_grad_(True), rather than torch.tensor(sourceTensor).\n",
      "  2%|█                                                                | 2069/120000 [56:26<92:03:36,  2.81s/it]"
     ]
    },
    {
     "name": "stdout",
     "output_type": "stream",
     "text": [
      "426번 시도 끝에 성공,,, 고생했다..\n"
     ]
    },
    {
     "name": "stderr",
     "output_type": "stream",
     "text": [
      "  2%|█                                                                | 2072/120000 [56:32<69:20:37,  2.12s/it]"
     ]
    },
    {
     "name": "stdout",
     "output_type": "stream",
     "text": [
      "216번 시도 끝에 성공,,, 고생했다..\n"
     ]
    },
    {
     "name": "stderr",
     "output_type": "stream",
     "text": [
      "  2%|█▏                                                               | 2078/120000 [56:41<53:48:07,  1.64s/it]"
     ]
    },
    {
     "name": "stdout",
     "output_type": "stream",
     "text": [
      "273번 시도 끝에 성공,,, 고생했다..\n"
     ]
    },
    {
     "name": "stderr",
     "output_type": "stream",
     "text": [
      "\r",
      "  2%|█▏                                                               | 2079/120000 [56:43<52:11:24,  1.59s/it]"
     ]
    },
    {
     "name": "stdout",
     "output_type": "stream",
     "text": [
      "340번 시도 끝에 성공,,, 고생했다..\n"
     ]
    },
    {
     "name": "stderr",
     "output_type": "stream",
     "text": [
      "  2%|█▏                                                               | 2086/120000 [56:54<52:21:43,  1.60s/it]"
     ]
    },
    {
     "name": "stdout",
     "output_type": "stream",
     "text": [
      "390번 시도 끝에 성공,,, 고생했다..\n"
     ]
    },
    {
     "name": "stderr",
     "output_type": "stream",
     "text": [
      "  2%|█▏                                                               | 2093/120000 [57:05<53:27:48,  1.63s/it]"
     ]
    },
    {
     "name": "stdout",
     "output_type": "stream",
     "text": [
      "319번 시도 끝에 성공,,, 고생했다..\n"
     ]
    },
    {
     "name": "stderr",
     "output_type": "stream",
     "text": [
      "  2%|█▏                                                               | 2101/120000 [57:17<47:16:27,  1.44s/it]"
     ]
    },
    {
     "name": "stdout",
     "output_type": "stream",
     "text": [
      "2100 에서 챙기는 아이템 : ['H', 'L', 'M']\n",
      "마지막 행동 : ←\n",
      " 그 때의 마지막 상태 :\n",
      "[[0 0 0 0 0 0 0 3 0]\n",
      " [1 2 1 1 1 1 1 1 1]\n",
      " [0 1 1 1 1 1 1 1 0]\n",
      " [0 1 0 1 0 1 0 1 0]\n",
      " [0 1 0 1 0 1 0 1 0]\n",
      " [0 1 0 1 0 1 0 1 0]\n",
      " [1 1 0 1 0 1 0 1 1]\n",
      " [1 1 1 1 1 1 1 1 1]\n",
      " [1 1 1 1 1 1 1 1 1]\n",
      " [0 0 0 0 1 0 0 0 0]]\n",
      "마지막 보상 : 0\n",
      " 총 받은 보상 :-47\n",
      "score = -45, n_buffer : 100000, eps : 30.0\n",
      "301번 시도 끝에 성공,,, 고생했다..\n"
     ]
    },
    {
     "name": "stderr",
     "output_type": "stream",
     "text": [
      "  2%|█▏                                                             | 2201/120000 [1:00:05<57:01:55,  1.74s/it]"
     ]
    },
    {
     "name": "stdout",
     "output_type": "stream",
     "text": [
      "2200 에서 챙기는 아이템 : ['H', 'L', 'M']\n",
      "마지막 행동 : ↑\n",
      " 그 때의 마지막 상태 :\n",
      "[[0 0 0 0 0 0 0 3 0]\n",
      " [1 1 2 1 1 1 1 1 1]\n",
      " [0 1 1 1 1 1 1 1 0]\n",
      " [0 1 0 1 0 1 0 1 0]\n",
      " [0 1 0 1 0 1 0 1 0]\n",
      " [0 1 0 1 0 1 0 1 0]\n",
      " [1 1 0 1 0 1 0 1 1]\n",
      " [1 1 1 1 1 1 1 1 1]\n",
      " [1 1 1 1 1 1 1 1 1]\n",
      " [0 0 0 0 1 0 0 0 0]]\n",
      "마지막 보상 : -1\n",
      " 총 받은 보상 :-46\n",
      "score = -46, n_buffer : 100000, eps : 28.000000000000004\n"
     ]
    },
    {
     "name": "stderr",
     "output_type": "stream",
     "text": [
      "  2%|█▏                                                             | 2204/120000 [1:00:10<57:37:37,  1.76s/it]"
     ]
    },
    {
     "name": "stdout",
     "output_type": "stream",
     "text": [
      "481번 시도 끝에 성공,,, 고생했다..\n"
     ]
    },
    {
     "name": "stderr",
     "output_type": "stream",
     "text": [
      "  2%|█▏                                                             | 2210/120000 [1:00:19<51:27:11,  1.57s/it]"
     ]
    },
    {
     "name": "stdout",
     "output_type": "stream",
     "text": [
      "200번 안에 들어왔다! : 188\n"
     ]
    },
    {
     "name": "stderr",
     "output_type": "stream",
     "text": [
      "/home/zlxlekta924/anaconda3/envs/test/lib/python3.7/site-packages/ipykernel_launcher.py:82: UserWarning: To copy construct from a tensor, it is recommended to use sourceTensor.clone().detach() or sourceTensor.clone().detach().requires_grad_(True), rather than torch.tensor(sourceTensor).\n",
      "  2%|█▏                                                             | 2284/120000 [1:02:38<61:39:17,  1.89s/it]"
     ]
    },
    {
     "name": "stdout",
     "output_type": "stream",
     "text": [
      "323번 시도 끝에 성공,,, 고생했다..\n"
     ]
    },
    {
     "name": "stderr",
     "output_type": "stream",
     "text": [
      "  2%|█▏                                                             | 2286/120000 [1:02:42<61:04:08,  1.87s/it]"
     ]
    },
    {
     "name": "stdout",
     "output_type": "stream",
     "text": [
      "417번 시도 끝에 성공,,, 고생했다..\n"
     ]
    },
    {
     "name": "stderr",
     "output_type": "stream",
     "text": [
      "  2%|█▏                                                             | 2288/120000 [1:02:45<56:22:14,  1.72s/it]"
     ]
    },
    {
     "name": "stdout",
     "output_type": "stream",
     "text": [
      "350번 시도 끝에 성공,,, 고생했다..\n"
     ]
    },
    {
     "name": "stderr",
     "output_type": "stream",
     "text": [
      "  2%|█▏                                                             | 2290/120000 [1:02:48<54:56:40,  1.68s/it]"
     ]
    },
    {
     "name": "stdout",
     "output_type": "stream",
     "text": [
      "200번 안에 들어왔다! : 85\n"
     ]
    },
    {
     "name": "stderr",
     "output_type": "stream",
     "text": [
      "/home/zlxlekta924/anaconda3/envs/test/lib/python3.7/site-packages/ipykernel_launcher.py:82: UserWarning: To copy construct from a tensor, it is recommended to use sourceTensor.clone().detach() or sourceTensor.clone().detach().requires_grad_(True), rather than torch.tensor(sourceTensor).\n",
      "  2%|█▏                                                             | 2296/120000 [1:03:02<57:41:56,  1.76s/it]"
     ]
    },
    {
     "name": "stdout",
     "output_type": "stream",
     "text": [
      "405번 시도 끝에 성공,,, 고생했다..\n"
     ]
    },
    {
     "name": "stderr",
     "output_type": "stream",
     "text": [
      "  2%|█▏                                                             | 2301/120000 [1:03:10<55:19:17,  1.69s/it]"
     ]
    },
    {
     "name": "stdout",
     "output_type": "stream",
     "text": [
      "2300 에서 챙기는 아이템 : ['H', 'L', 'M']\n",
      "마지막 행동 : ↑\n",
      " 그 때의 마지막 상태 :\n",
      "[[0 0 0 0 0 0 0 3 0]\n",
      " [1 1 1 1 1 1 1 1 1]\n",
      " [0 1 1 1 1 1 1 1 0]\n",
      " [0 1 0 1 0 1 0 1 0]\n",
      " [0 1 0 1 0 1 0 1 0]\n",
      " [0 1 0 1 0 1 0 1 0]\n",
      " [1 1 0 1 0 1 0 1 1]\n",
      " [1 1 1 1 1 1 1 1 1]\n",
      " [1 1 1 1 2 1 1 1 1]\n",
      " [0 0 0 0 1 0 0 0 0]]\n",
      "마지막 보상 : 0\n",
      " 총 받은 보상 :-37\n",
      "score = -40, n_buffer : 100000, eps : 28.000000000000004\n"
     ]
    },
    {
     "name": "stderr",
     "output_type": "stream",
     "text": [
      "  2%|█▏                                                             | 2304/120000 [1:03:15<55:19:39,  1.69s/it]"
     ]
    },
    {
     "name": "stdout",
     "output_type": "stream",
     "text": [
      "362번 시도 끝에 성공,,, 고생했다..\n"
     ]
    },
    {
     "name": "stderr",
     "output_type": "stream",
     "text": [
      "  2%|█▏                                                             | 2321/120000 [1:03:41<52:43:13,  1.61s/it]"
     ]
    },
    {
     "name": "stdout",
     "output_type": "stream",
     "text": [
      "371번 시도 끝에 성공,,, 고생했다..\n"
     ]
    },
    {
     "name": "stderr",
     "output_type": "stream",
     "text": [
      "\r",
      "  2%|█▏                                                             | 2322/120000 [1:03:43<50:34:27,  1.55s/it]"
     ]
    },
    {
     "name": "stdout",
     "output_type": "stream",
     "text": [
      "344번 시도 끝에 성공,,, 고생했다..\n"
     ]
    },
    {
     "name": "stderr",
     "output_type": "stream",
     "text": [
      "  2%|█▏                                                             | 2327/120000 [1:03:51<54:56:51,  1.68s/it]"
     ]
    },
    {
     "name": "stdout",
     "output_type": "stream",
     "text": [
      "454번 시도 끝에 성공,,, 고생했다..\n"
     ]
    },
    {
     "name": "stderr",
     "output_type": "stream",
     "text": [
      "  2%|█▏                                                             | 2333/120000 [1:04:02<58:22:36,  1.79s/it]"
     ]
    },
    {
     "name": "stdout",
     "output_type": "stream",
     "text": [
      "251번 시도 끝에 성공,,, 고생했다..\n"
     ]
    },
    {
     "name": "stderr",
     "output_type": "stream",
     "text": [
      "  2%|█▏                                                             | 2335/120000 [1:04:05<53:44:25,  1.64s/it]"
     ]
    },
    {
     "name": "stdout",
     "output_type": "stream",
     "text": [
      "469번 시도 끝에 성공,,, 고생했다..\n"
     ]
    },
    {
     "name": "stderr",
     "output_type": "stream",
     "text": [
      "\r",
      "  2%|█▏                                                             | 2336/120000 [1:04:06<51:52:25,  1.59s/it]"
     ]
    },
    {
     "name": "stdout",
     "output_type": "stream",
     "text": [
      "336번 시도 끝에 성공,,, 고생했다..\n"
     ]
    },
    {
     "name": "stderr",
     "output_type": "stream",
     "text": [
      "  2%|█▏                                                             | 2342/120000 [1:04:16<55:37:21,  1.70s/it]"
     ]
    },
    {
     "name": "stdout",
     "output_type": "stream",
     "text": [
      "464번 시도 끝에 성공,,, 고생했다..\n"
     ]
    },
    {
     "name": "stderr",
     "output_type": "stream",
     "text": [
      "  2%|█▏                                                             | 2349/120000 [1:04:28<54:39:01,  1.67s/it]"
     ]
    },
    {
     "name": "stdout",
     "output_type": "stream",
     "text": [
      "470번 시도 끝에 성공,,, 고생했다..\n"
     ]
    },
    {
     "name": "stderr",
     "output_type": "stream",
     "text": [
      "\r",
      "  2%|█▏                                                             | 2350/120000 [1:04:29<54:00:41,  1.65s/it]"
     ]
    },
    {
     "name": "stdout",
     "output_type": "stream",
     "text": [
      "278번 시도 끝에 성공,,, 고생했다..\n"
     ]
    },
    {
     "name": "stderr",
     "output_type": "stream",
     "text": [
      "\r",
      "  2%|█▏                                                             | 2351/120000 [1:04:31<50:17:32,  1.54s/it]"
     ]
    },
    {
     "name": "stdout",
     "output_type": "stream",
     "text": [
      "329번 시도 끝에 성공,,, 고생했다..\n"
     ]
    },
    {
     "name": "stderr",
     "output_type": "stream",
     "text": [
      "  2%|█▏                                                             | 2356/120000 [1:04:39<54:36:34,  1.67s/it]"
     ]
    },
    {
     "name": "stdout",
     "output_type": "stream",
     "text": [
      "416번 시도 끝에 성공,,, 고생했다..\n"
     ]
    },
    {
     "name": "stderr",
     "output_type": "stream",
     "text": [
      "  2%|█▏                                                             | 2359/120000 [1:04:44<56:25:53,  1.73s/it]"
     ]
    },
    {
     "name": "stdout",
     "output_type": "stream",
     "text": [
      "390번 시도 끝에 성공,,, 고생했다..\n"
     ]
    },
    {
     "name": "stderr",
     "output_type": "stream",
     "text": [
      "  2%|█▏                                                             | 2361/120000 [1:04:48<57:39:25,  1.76s/it]"
     ]
    },
    {
     "name": "stdout",
     "output_type": "stream",
     "text": [
      "488번 시도 끝에 성공,,, 고생했다..\n"
     ]
    },
    {
     "name": "stderr",
     "output_type": "stream",
     "text": [
      "  2%|█▏                                                             | 2363/120000 [1:04:51<56:41:38,  1.73s/it]"
     ]
    },
    {
     "name": "stdout",
     "output_type": "stream",
     "text": [
      "200번 안에 들어왔다! : 167\n"
     ]
    },
    {
     "name": "stderr",
     "output_type": "stream",
     "text": [
      "/home/zlxlekta924/anaconda3/envs/test/lib/python3.7/site-packages/ipykernel_launcher.py:82: UserWarning: To copy construct from a tensor, it is recommended to use sourceTensor.clone().detach() or sourceTensor.clone().detach().requires_grad_(True), rather than torch.tensor(sourceTensor).\n",
      "  2%|█▏                                                             | 2367/120000 [1:05:08<91:46:41,  2.81s/it]"
     ]
    },
    {
     "name": "stdout",
     "output_type": "stream",
     "text": [
      "401번 시도 끝에 성공,,, 고생했다..\n"
     ]
    },
    {
     "name": "stderr",
     "output_type": "stream",
     "text": [
      "  2%|█▎                                                             | 2381/120000 [1:05:29<47:44:55,  1.46s/it]"
     ]
    },
    {
     "name": "stdout",
     "output_type": "stream",
     "text": [
      "232번 시도 끝에 성공,,, 고생했다..\n"
     ]
    },
    {
     "name": "stderr",
     "output_type": "stream",
     "text": [
      "\r",
      "  2%|█▎                                                             | 2382/120000 [1:05:31<47:11:15,  1.44s/it]"
     ]
    },
    {
     "name": "stdout",
     "output_type": "stream",
     "text": [
      "364번 시도 끝에 성공,,, 고생했다..\n"
     ]
    },
    {
     "name": "stderr",
     "output_type": "stream",
     "text": [
      "  2%|█▎                                                             | 2384/120000 [1:05:34<47:31:13,  1.45s/it]"
     ]
    },
    {
     "name": "stdout",
     "output_type": "stream",
     "text": [
      "361번 시도 끝에 성공,,, 고생했다..\n"
     ]
    },
    {
     "name": "stderr",
     "output_type": "stream",
     "text": [
      "  2%|█▎                                                             | 2386/120000 [1:05:37<52:36:17,  1.61s/it]"
     ]
    },
    {
     "name": "stdout",
     "output_type": "stream",
     "text": [
      "407번 시도 끝에 성공,,, 고생했다..\n"
     ]
    },
    {
     "name": "stderr",
     "output_type": "stream",
     "text": [
      "  2%|█▎                                                             | 2394/120000 [1:05:49<48:23:32,  1.48s/it]"
     ]
    },
    {
     "name": "stdout",
     "output_type": "stream",
     "text": [
      "261번 시도 끝에 성공,,, 고생했다..\n"
     ]
    },
    {
     "name": "stderr",
     "output_type": "stream",
     "text": [
      "  2%|█▎                                                             | 2401/120000 [1:06:00<54:22:55,  1.66s/it]"
     ]
    },
    {
     "name": "stdout",
     "output_type": "stream",
     "text": [
      "2400 에서 챙기는 아이템 : ['H', 'L', 'M']\n",
      "마지막 행동 : ↓\n",
      " 그 때의 마지막 상태 :\n",
      "[[0 0 0 0 0 0 0 3 0]\n",
      " [1 1 1 1 1 1 1 1 1]\n",
      " [0 1 1 1 1 1 1 1 0]\n",
      " [0 1 0 1 0 1 0 1 0]\n",
      " [0 1 0 1 0 1 0 1 0]\n",
      " [0 1 0 1 0 1 0 1 0]\n",
      " [1 1 0 2 0 1 0 1 1]\n",
      " [1 1 1 1 1 1 1 1 1]\n",
      " [1 1 1 1 1 1 1 1 1]\n",
      " [0 0 0 0 1 0 0 0 0]]\n",
      "마지막 보상 : 0\n",
      " 총 받은 보상 :-40\n",
      "score = -40, n_buffer : 100000, eps : 26.0\n"
     ]
    },
    {
     "name": "stderr",
     "output_type": "stream",
     "text": [
      "  2%|█▎                                                             | 2404/120000 [1:06:05<53:42:37,  1.64s/it]"
     ]
    },
    {
     "name": "stdout",
     "output_type": "stream",
     "text": [
      "487번 시도 끝에 성공,,, 고생했다..\n"
     ]
    },
    {
     "name": "stderr",
     "output_type": "stream",
     "text": [
      "  2%|█▎                                                             | 2421/120000 [1:06:33<51:10:34,  1.57s/it]"
     ]
    },
    {
     "name": "stdout",
     "output_type": "stream",
     "text": [
      "500번 시도 끝에 성공,,, 고생했다..\n"
     ]
    },
    {
     "name": "stderr",
     "output_type": "stream",
     "text": [
      "  2%|█▎                                                             | 2433/120000 [1:06:54<59:58:15,  1.84s/it]"
     ]
    },
    {
     "name": "stdout",
     "output_type": "stream",
     "text": [
      "222번 시도 끝에 성공,,, 고생했다..\n"
     ]
    },
    {
     "name": "stderr",
     "output_type": "stream",
     "text": [
      "  2%|█▎                                                             | 2442/120000 [1:07:10<53:51:31,  1.65s/it]"
     ]
    },
    {
     "name": "stdout",
     "output_type": "stream",
     "text": [
      "328번 시도 끝에 성공,,, 고생했다..\n"
     ]
    },
    {
     "name": "stderr",
     "output_type": "stream",
     "text": [
      "  2%|█▎                                                             | 2469/120000 [1:07:55<58:30:36,  1.79s/it]"
     ]
    },
    {
     "name": "stdout",
     "output_type": "stream",
     "text": [
      "442번 시도 끝에 성공,,, 고생했다..\n"
     ]
    },
    {
     "name": "stderr",
     "output_type": "stream",
     "text": [
      "  2%|█▎                                                             | 2478/120000 [1:08:10<55:58:47,  1.71s/it]"
     ]
    },
    {
     "name": "stdout",
     "output_type": "stream",
     "text": [
      "240번 시도 끝에 성공,,, 고생했다..\n"
     ]
    },
    {
     "name": "stderr",
     "output_type": "stream",
     "text": [
      "\r",
      "  2%|█▎                                                             | 2479/120000 [1:08:11<54:00:56,  1.65s/it]"
     ]
    },
    {
     "name": "stdout",
     "output_type": "stream",
     "text": [
      "324번 시도 끝에 성공,,, 고생했다..\n"
     ]
    },
    {
     "name": "stderr",
     "output_type": "stream",
     "text": [
      "  2%|█▎                                                             | 2482/120000 [1:08:16<53:15:51,  1.63s/it]"
     ]
    },
    {
     "name": "stdout",
     "output_type": "stream",
     "text": [
      "286번 시도 끝에 성공,,, 고생했다..\n"
     ]
    },
    {
     "name": "stderr",
     "output_type": "stream",
     "text": [
      "  2%|█▎                                                             | 2501/120000 [1:08:37<36:10:56,  1.11s/it]"
     ]
    },
    {
     "name": "stdout",
     "output_type": "stream",
     "text": [
      "2500 에서 챙기는 아이템 : ['H', 'L', 'M']\n",
      "마지막 행동 : ↓\n",
      " 그 때의 마지막 상태 :\n",
      "[[0 0 0 3 0 0 0 0 0]\n",
      " [1 1 1 1 1 1 1 1 1]\n",
      " [0 1 1 1 1 1 1 1 0]\n",
      " [0 1 0 1 0 1 0 1 0]\n",
      " [0 1 0 1 0 1 0 1 0]\n",
      " [0 1 0 1 0 1 0 1 0]\n",
      " [1 1 0 1 0 1 0 1 1]\n",
      " [1 1 1 1 1 1 1 1 1]\n",
      " [1 1 1 1 1 2 1 1 1]\n",
      " [0 0 0 0 1 0 0 0 0]]\n",
      "마지막 보상 : 0\n",
      " 총 받은 보상 :-37\n",
      "score = -39, n_buffer : 100000, eps : 26.0\n"
     ]
    },
    {
     "name": "stderr",
     "output_type": "stream",
     "text": [
      "  2%|█▎                                                             | 2503/120000 [1:08:39<36:02:57,  1.10s/it]"
     ]
    },
    {
     "name": "stdout",
     "output_type": "stream",
     "text": [
      "423번 시도 끝에 성공,,, 고생했다..\n"
     ]
    },
    {
     "name": "stderr",
     "output_type": "stream",
     "text": [
      "  2%|█▎                                                             | 2508/120000 [1:08:45<34:50:52,  1.07s/it]"
     ]
    },
    {
     "name": "stdout",
     "output_type": "stream",
     "text": [
      "200번 안에 들어왔다! : 65\n"
     ]
    },
    {
     "name": "stderr",
     "output_type": "stream",
     "text": [
      "/home/zlxlekta924/anaconda3/envs/test/lib/python3.7/site-packages/ipykernel_launcher.py:82: UserWarning: To copy construct from a tensor, it is recommended to use sourceTensor.clone().detach() or sourceTensor.clone().detach().requires_grad_(True), rather than torch.tensor(sourceTensor).\n",
      "  2%|█▎                                                             | 2523/120000 [1:09:01<34:07:26,  1.05s/it]"
     ]
    },
    {
     "name": "stdout",
     "output_type": "stream",
     "text": [
      "341번 시도 끝에 성공,,, 고생했다..\n"
     ]
    },
    {
     "name": "stderr",
     "output_type": "stream",
     "text": [
      "  2%|█▎                                                             | 2567/120000 [1:09:41<31:33:07,  1.03it/s]"
     ]
    },
    {
     "name": "stdout",
     "output_type": "stream",
     "text": [
      "446번 시도 끝에 성공,,, 고생했다..\n"
     ]
    },
    {
     "name": "stderr",
     "output_type": "stream",
     "text": [
      "  2%|█▎                                                             | 2573/120000 [1:09:46<31:18:40,  1.04it/s]"
     ]
    },
    {
     "name": "stdout",
     "output_type": "stream",
     "text": [
      "500번 시도 끝에 성공,,, 고생했다..\n"
     ]
    },
    {
     "name": "stderr",
     "output_type": "stream",
     "text": [
      "  2%|█▎                                                             | 2591/120000 [1:10:04<31:40:29,  1.03it/s]"
     ]
    },
    {
     "name": "stdout",
     "output_type": "stream",
     "text": [
      "340번 시도 끝에 성공,,, 고생했다..\n"
     ]
    },
    {
     "name": "stderr",
     "output_type": "stream",
     "text": [
      "  2%|█▎                                                             | 2601/120000 [1:10:14<32:07:45,  1.01it/s]"
     ]
    },
    {
     "name": "stdout",
     "output_type": "stream",
     "text": [
      "2600 에서 챙기는 아이템 : ['H', 'L', 'M']\n",
      "마지막 행동 : ←\n",
      " 그 때의 마지막 상태 :\n",
      "[[0 0 0 0 0 0 0 0 0]\n",
      " [2 1 1 1 1 1 1 1 1]\n",
      " [0 1 1 1 1 1 1 1 0]\n",
      " [0 1 0 1 0 1 0 1 0]\n",
      " [0 1 0 1 0 1 0 1 0]\n",
      " [0 1 0 1 0 1 0 1 0]\n",
      " [1 1 0 1 0 1 0 1 1]\n",
      " [1 1 1 1 1 1 1 1 1]\n",
      " [1 1 1 1 1 1 1 1 1]\n",
      " [0 0 0 0 3 0 0 0 0]]\n",
      "마지막 보상 : 0\n",
      " 총 받은 보상 :-40\n",
      "score = -36, n_buffer : 100000, eps : 24.0\n"
     ]
    },
    {
     "name": "stderr",
     "output_type": "stream",
     "text": [
      "  2%|█▎                                                             | 2604/120000 [1:10:16<31:43:01,  1.03it/s]"
     ]
    },
    {
     "name": "stdout",
     "output_type": "stream",
     "text": [
      "412번 시도 끝에 성공,,, 고생했다..\n"
     ]
    },
    {
     "name": "stderr",
     "output_type": "stream",
     "text": [
      "  2%|█▎                                                             | 2618/120000 [1:10:30<32:04:42,  1.02it/s]"
     ]
    },
    {
     "name": "stdout",
     "output_type": "stream",
     "text": [
      "200번 안에 들어왔다! : 193\n"
     ]
    },
    {
     "name": "stderr",
     "output_type": "stream",
     "text": [
      "/home/zlxlekta924/anaconda3/envs/test/lib/python3.7/site-packages/ipykernel_launcher.py:82: UserWarning: To copy construct from a tensor, it is recommended to use sourceTensor.clone().detach() or sourceTensor.clone().detach().requires_grad_(True), rather than torch.tensor(sourceTensor).\n",
      "  2%|█▎                                                             | 2619/120000 [1:10:38<98:05:16,  3.01s/it]"
     ]
    },
    {
     "name": "stdout",
     "output_type": "stream",
     "text": [
      "200번 안에 들어왔다! : 65\n"
     ]
    },
    {
     "name": "stderr",
     "output_type": "stream",
     "text": [
      "/home/zlxlekta924/anaconda3/envs/test/lib/python3.7/site-packages/ipykernel_launcher.py:82: UserWarning: To copy construct from a tensor, it is recommended to use sourceTensor.clone().detach() or sourceTensor.clone().detach().requires_grad_(True), rather than torch.tensor(sourceTensor).\n",
      "  2%|█▍                                                             | 2621/120000 [1:10:42<79:43:37,  2.45s/it]"
     ]
    },
    {
     "name": "stdout",
     "output_type": "stream",
     "text": [
      "296번 시도 끝에 성공,,, 고생했다..\n"
     ]
    },
    {
     "name": "stderr",
     "output_type": "stream",
     "text": [
      "  2%|█▍                                                             | 2627/120000 [1:10:48<37:55:49,  1.16s/it]"
     ]
    },
    {
     "name": "stdout",
     "output_type": "stream",
     "text": [
      "218번 시도 끝에 성공,,, 고생했다..\n"
     ]
    },
    {
     "name": "stderr",
     "output_type": "stream",
     "text": [
      "  2%|█▍                                                             | 2638/120000 [1:10:58<30:11:30,  1.08it/s]"
     ]
    },
    {
     "name": "stdout",
     "output_type": "stream",
     "text": [
      "314번 시도 끝에 성공,,, 고생했다..\n"
     ]
    },
    {
     "name": "stderr",
     "output_type": "stream",
     "text": [
      "  2%|█▍                                                             | 2643/120000 [1:11:02<24:36:28,  1.32it/s]"
     ]
    },
    {
     "name": "stdout",
     "output_type": "stream",
     "text": [
      "496번 시도 끝에 성공,,, 고생했다..\n"
     ]
    },
    {
     "name": "stderr",
     "output_type": "stream",
     "text": [
      "\r",
      "  2%|█▍                                                             | 2644/120000 [1:11:03<25:54:15,  1.26it/s]"
     ]
    },
    {
     "name": "stdout",
     "output_type": "stream",
     "text": [
      "460번 시도 끝에 성공,,, 고생했다..\n"
     ]
    },
    {
     "name": "stderr",
     "output_type": "stream",
     "text": [
      "  2%|█▍                                                             | 2648/120000 [1:11:07<30:12:14,  1.08it/s]"
     ]
    },
    {
     "name": "stdout",
     "output_type": "stream",
     "text": [
      "322번 시도 끝에 성공,,, 고생했다..\n"
     ]
    },
    {
     "name": "stderr",
     "output_type": "stream",
     "text": [
      "  2%|█▍                                                             | 2650/120000 [1:11:09<29:46:09,  1.09it/s]"
     ]
    },
    {
     "name": "stdout",
     "output_type": "stream",
     "text": [
      "258번 시도 끝에 성공,,, 고생했다..\n"
     ]
    },
    {
     "name": "stderr",
     "output_type": "stream",
     "text": [
      "  2%|█▍                                                             | 2652/120000 [1:11:10<29:26:55,  1.11it/s]"
     ]
    },
    {
     "name": "stdout",
     "output_type": "stream",
     "text": [
      "448번 시도 끝에 성공,,, 고생했다..\n"
     ]
    },
    {
     "name": "stderr",
     "output_type": "stream",
     "text": [
      "  2%|█▍                                                             | 2673/120000 [1:11:31<32:13:21,  1.01it/s]"
     ]
    },
    {
     "name": "stdout",
     "output_type": "stream",
     "text": [
      "466번 시도 끝에 성공,,, 고생했다..\n"
     ]
    },
    {
     "name": "stderr",
     "output_type": "stream",
     "text": [
      "  2%|█▍                                                             | 2681/120000 [1:11:38<30:37:50,  1.06it/s]"
     ]
    },
    {
     "name": "stdout",
     "output_type": "stream",
     "text": [
      "480번 시도 끝에 성공,,, 고생했다..\n"
     ]
    },
    {
     "name": "stderr",
     "output_type": "stream",
     "text": [
      "\r",
      "  2%|█▍                                                             | 2682/120000 [1:11:39<30:45:45,  1.06it/s]"
     ]
    },
    {
     "name": "stdout",
     "output_type": "stream",
     "text": [
      "200번 안에 들어왔다! : 179\n"
     ]
    },
    {
     "name": "stderr",
     "output_type": "stream",
     "text": [
      "/home/zlxlekta924/anaconda3/envs/test/lib/python3.7/site-packages/ipykernel_launcher.py:82: UserWarning: To copy construct from a tensor, it is recommended to use sourceTensor.clone().detach() or sourceTensor.clone().detach().requires_grad_(True), rather than torch.tensor(sourceTensor).\n",
      "  2%|█▍                                                             | 2693/120000 [1:11:59<34:53:53,  1.07s/it]"
     ]
    },
    {
     "name": "stdout",
     "output_type": "stream",
     "text": [
      "463번 시도 끝에 성공,,, 고생했다..\n"
     ]
    },
    {
     "name": "stderr",
     "output_type": "stream",
     "text": [
      "  2%|█▍                                                             | 2699/120000 [1:12:05<32:13:19,  1.01it/s]"
     ]
    },
    {
     "name": "stdout",
     "output_type": "stream",
     "text": [
      "378번 시도 끝에 성공,,, 고생했다..\n"
     ]
    },
    {
     "name": "stderr",
     "output_type": "stream",
     "text": [
      "  2%|█▍                                                             | 2701/120000 [1:12:07<31:43:34,  1.03it/s]"
     ]
    },
    {
     "name": "stdout",
     "output_type": "stream",
     "text": [
      "2700 에서 챙기는 아이템 : ['H', 'L', 'M']\n",
      "마지막 행동 : →\n",
      " 그 때의 마지막 상태 :\n",
      "[[0 0 0 3 0 0 0 0 0]\n",
      " [1 1 1 1 1 1 2 1 1]\n",
      " [0 1 1 1 1 1 1 1 0]\n",
      " [0 1 0 1 0 1 0 1 0]\n",
      " [0 1 0 1 0 1 0 1 0]\n",
      " [0 1 0 1 0 1 0 1 0]\n",
      " [1 1 0 1 0 1 0 1 1]\n",
      " [1 1 1 1 1 1 1 1 1]\n",
      " [1 1 1 1 1 1 1 1 1]\n",
      " [0 0 0 0 1 0 0 0 0]]\n",
      "마지막 보상 : 0\n",
      " 총 받은 보상 :-35\n",
      "score = -34, n_buffer : 100000, eps : 24.0\n"
     ]
    },
    {
     "name": "stderr",
     "output_type": "stream",
     "text": [
      "\r",
      "  2%|█▍                                                             | 2702/120000 [1:12:08<32:06:28,  1.01it/s]"
     ]
    },
    {
     "name": "stdout",
     "output_type": "stream",
     "text": [
      "219번 시도 끝에 성공,,, 고생했다..\n"
     ]
    },
    {
     "name": "stderr",
     "output_type": "stream",
     "text": [
      "  2%|█▍                                                             | 2719/120000 [1:12:24<34:31:08,  1.06s/it]"
     ]
    },
    {
     "name": "stdout",
     "output_type": "stream",
     "text": [
      "317번 시도 끝에 성공,,, 고생했다..\n"
     ]
    },
    {
     "name": "stderr",
     "output_type": "stream",
     "text": [
      "  2%|█▍                                                             | 2722/120000 [1:12:27<32:14:31,  1.01it/s]"
     ]
    },
    {
     "name": "stdout",
     "output_type": "stream",
     "text": [
      "424번 시도 끝에 성공,,, 고생했다..\n"
     ]
    },
    {
     "name": "stderr",
     "output_type": "stream",
     "text": [
      "  2%|█▍                                                             | 2724/120000 [1:12:29<33:06:57,  1.02s/it]"
     ]
    },
    {
     "name": "stdout",
     "output_type": "stream",
     "text": [
      "446번 시도 끝에 성공,,, 고생했다..\n"
     ]
    },
    {
     "name": "stderr",
     "output_type": "stream",
     "text": [
      "\r",
      "  2%|█▍                                                             | 2725/120000 [1:12:30<33:10:03,  1.02s/it]"
     ]
    },
    {
     "name": "stdout",
     "output_type": "stream",
     "text": [
      "200번 안에 들어왔다! : 135\n"
     ]
    },
    {
     "name": "stderr",
     "output_type": "stream",
     "text": [
      "/home/zlxlekta924/anaconda3/envs/test/lib/python3.7/site-packages/ipykernel_launcher.py:82: UserWarning: To copy construct from a tensor, it is recommended to use sourceTensor.clone().detach() or sourceTensor.clone().detach().requires_grad_(True), rather than torch.tensor(sourceTensor).\n",
      "  2%|█▍                                                             | 2726/120000 [1:12:35<71:10:13,  2.18s/it]"
     ]
    },
    {
     "name": "stdout",
     "output_type": "stream",
     "text": [
      "276번 시도 끝에 성공,,, 고생했다..\n"
     ]
    },
    {
     "name": "stderr",
     "output_type": "stream",
     "text": [
      "  2%|█▍                                                             | 2730/120000 [1:12:39<40:12:21,  1.23s/it]"
     ]
    },
    {
     "name": "stdout",
     "output_type": "stream",
     "text": [
      "207번 시도 끝에 성공,,, 고생했다..\n"
     ]
    },
    {
     "name": "stderr",
     "output_type": "stream",
     "text": [
      "  2%|█▍                                                             | 2745/120000 [1:12:53<31:05:57,  1.05it/s]"
     ]
    },
    {
     "name": "stdout",
     "output_type": "stream",
     "text": [
      "200번 안에 들어왔다! : 198\n"
     ]
    },
    {
     "name": "stderr",
     "output_type": "stream",
     "text": [
      "/home/zlxlekta924/anaconda3/envs/test/lib/python3.7/site-packages/ipykernel_launcher.py:82: UserWarning: To copy construct from a tensor, it is recommended to use sourceTensor.clone().detach() or sourceTensor.clone().detach().requires_grad_(True), rather than torch.tensor(sourceTensor).\n",
      "  2%|█▍                                                             | 2748/120000 [1:13:07<82:26:33,  2.53s/it]"
     ]
    },
    {
     "name": "stdout",
     "output_type": "stream",
     "text": [
      "236번 시도 끝에 성공,,, 고생했다..\n"
     ]
    },
    {
     "name": "stderr",
     "output_type": "stream",
     "text": [
      "  2%|█▍                                                             | 2760/120000 [1:13:18<31:34:51,  1.03it/s]"
     ]
    },
    {
     "name": "stdout",
     "output_type": "stream",
     "text": [
      "470번 시도 끝에 성공,,, 고생했다..\n"
     ]
    },
    {
     "name": "stderr",
     "output_type": "stream",
     "text": [
      "  2%|█▍                                                             | 2766/120000 [1:13:24<31:12:00,  1.04it/s]"
     ]
    },
    {
     "name": "stdout",
     "output_type": "stream",
     "text": [
      "464번 시도 끝에 성공,,, 고생했다..\n"
     ]
    },
    {
     "name": "stderr",
     "output_type": "stream",
     "text": [
      "  2%|█▍                                                             | 2770/120000 [1:13:27<31:08:45,  1.05it/s]"
     ]
    },
    {
     "name": "stdout",
     "output_type": "stream",
     "text": [
      "200번 안에 들어왔다! : 174\n"
     ]
    },
    {
     "name": "stderr",
     "output_type": "stream",
     "text": [
      "/home/zlxlekta924/anaconda3/envs/test/lib/python3.7/site-packages/ipykernel_launcher.py:82: UserWarning: To copy construct from a tensor, it is recommended to use sourceTensor.clone().detach() or sourceTensor.clone().detach().requires_grad_(True), rather than torch.tensor(sourceTensor).\n",
      "  2%|█▍                                                             | 2775/120000 [1:13:38<43:59:50,  1.35s/it]"
     ]
    },
    {
     "name": "stdout",
     "output_type": "stream",
     "text": [
      "367번 시도 끝에 성공,,, 고생했다..\n"
     ]
    },
    {
     "name": "stderr",
     "output_type": "stream",
     "text": [
      "  2%|█▍                                                             | 2780/120000 [1:13:42<32:14:00,  1.01it/s]"
     ]
    },
    {
     "name": "stdout",
     "output_type": "stream",
     "text": [
      "440번 시도 끝에 성공,,, 고생했다..\n"
     ]
    },
    {
     "name": "stderr",
     "output_type": "stream",
     "text": [
      "  2%|█▍                                                             | 2783/120000 [1:13:45<30:52:57,  1.05it/s]"
     ]
    },
    {
     "name": "stdout",
     "output_type": "stream",
     "text": [
      "200번 안에 들어왔다! : 89\n"
     ]
    },
    {
     "name": "stderr",
     "output_type": "stream",
     "text": [
      "/home/zlxlekta924/anaconda3/envs/test/lib/python3.7/site-packages/ipykernel_launcher.py:82: UserWarning: To copy construct from a tensor, it is recommended to use sourceTensor.clone().detach() or sourceTensor.clone().detach().requires_grad_(True), rather than torch.tensor(sourceTensor).\n",
      "  2%|█▍                                                             | 2784/120000 [1:13:50<66:50:36,  2.05s/it]"
     ]
    },
    {
     "name": "stdout",
     "output_type": "stream",
     "text": [
      "306번 시도 끝에 성공,,, 고생했다..\n"
     ]
    },
    {
     "name": "stderr",
     "output_type": "stream",
     "text": [
      "  2%|█▍                                                             | 2786/120000 [1:13:52<51:46:39,  1.59s/it]"
     ]
    },
    {
     "name": "stdout",
     "output_type": "stream",
     "text": [
      "365번 시도 끝에 성공,,, 고생했다..\n"
     ]
    },
    {
     "name": "stderr",
     "output_type": "stream",
     "text": [
      "  2%|█▍                                                             | 2794/120000 [1:14:01<37:35:01,  1.15s/it]"
     ]
    },
    {
     "name": "stdout",
     "output_type": "stream",
     "text": [
      "264번 시도 끝에 성공,,, 고생했다..\n"
     ]
    },
    {
     "name": "stderr",
     "output_type": "stream",
     "text": [
      "  2%|█▍                                                             | 2801/120000 [1:14:09<36:31:56,  1.12s/it]"
     ]
    },
    {
     "name": "stdout",
     "output_type": "stream",
     "text": [
      "2800 에서 챙기는 아이템 : ['H', 'L', 'M']\n",
      "마지막 행동 : ↑\n",
      " 그 때의 마지막 상태 :\n",
      "[[0 0 0 0 0 0 0 0 3]\n",
      " [1 1 2 1 1 1 1 1 1]\n",
      " [0 1 1 1 1 1 1 1 0]\n",
      " [0 1 0 1 0 1 0 1 0]\n",
      " [0 1 0 1 0 1 0 1 0]\n",
      " [0 1 0 1 0 1 0 1 0]\n",
      " [1 1 0 1 0 1 0 1 1]\n",
      " [1 1 1 1 1 1 1 1 1]\n",
      " [1 1 1 1 1 1 1 1 1]\n",
      " [0 0 0 0 1 0 0 0 0]]\n",
      "마지막 보상 : -1\n",
      " 총 받은 보상 :-47\n",
      "score = -35, n_buffer : 100000, eps : 21.999999999999996\n"
     ]
    },
    {
     "name": "stderr",
     "output_type": "stream",
     "text": [
      "  2%|█▍                                                             | 2805/120000 [1:14:13<36:03:07,  1.11s/it]"
     ]
    },
    {
     "name": "stdout",
     "output_type": "stream",
     "text": [
      "376번 시도 끝에 성공,,, 고생했다..\n"
     ]
    },
    {
     "name": "stderr",
     "output_type": "stream",
     "text": [
      "  2%|█▍                                                             | 2823/120000 [1:14:33<36:09:37,  1.11s/it]"
     ]
    },
    {
     "name": "stdout",
     "output_type": "stream",
     "text": [
      "496번 시도 끝에 성공,,, 고생했다..\n"
     ]
    },
    {
     "name": "stderr",
     "output_type": "stream",
     "text": [
      "  2%|█▍                                                             | 2827/120000 [1:14:37<36:22:29,  1.12s/it]"
     ]
    },
    {
     "name": "stdout",
     "output_type": "stream",
     "text": [
      "272번 시도 끝에 성공,,, 고생했다..\n"
     ]
    },
    {
     "name": "stderr",
     "output_type": "stream",
     "text": [
      "  2%|█▍                                                             | 2839/120000 [1:14:51<36:25:15,  1.12s/it]"
     ]
    },
    {
     "name": "stdout",
     "output_type": "stream",
     "text": [
      "420번 시도 끝에 성공,,, 고생했다..\n"
     ]
    },
    {
     "name": "stderr",
     "output_type": "stream",
     "text": [
      "\r",
      "  2%|█▍                                                             | 2840/120000 [1:14:52<36:10:29,  1.11s/it]"
     ]
    },
    {
     "name": "stdout",
     "output_type": "stream",
     "text": [
      "200번 안에 들어왔다! : 63\n"
     ]
    },
    {
     "name": "stderr",
     "output_type": "stream",
     "text": [
      "/home/zlxlekta924/anaconda3/envs/test/lib/python3.7/site-packages/ipykernel_launcher.py:82: UserWarning: To copy construct from a tensor, it is recommended to use sourceTensor.clone().detach() or sourceTensor.clone().detach().requires_grad_(True), rather than torch.tensor(sourceTensor).\n",
      "  2%|█▌                                                             | 2861/120000 [1:15:14<31:56:22,  1.02it/s]"
     ]
    },
    {
     "name": "stdout",
     "output_type": "stream",
     "text": [
      "281번 시도 끝에 성공,,, 고생했다..\n"
     ]
    },
    {
     "name": "stderr",
     "output_type": "stream",
     "text": [
      "  2%|█▌                                                             | 2869/120000 [1:15:22<32:05:46,  1.01it/s]"
     ]
    },
    {
     "name": "stdout",
     "output_type": "stream",
     "text": [
      "276번 시도 끝에 성공,,, 고생했다..\n"
     ]
    },
    {
     "name": "stderr",
     "output_type": "stream",
     "text": [
      "  2%|█▌                                                             | 2872/120000 [1:15:25<31:07:26,  1.05it/s]"
     ]
    },
    {
     "name": "stdout",
     "output_type": "stream",
     "text": [
      "384번 시도 끝에 성공,,, 고생했다..\n"
     ]
    },
    {
     "name": "stderr",
     "output_type": "stream",
     "text": [
      "  2%|█▌                                                             | 2901/120000 [1:15:52<31:42:09,  1.03it/s]"
     ]
    },
    {
     "name": "stdout",
     "output_type": "stream",
     "text": [
      "2900 에서 챙기는 아이템 : ['H', 'L', 'M']\n",
      "마지막 행동 : →\n",
      " 그 때의 마지막 상태 :\n",
      "[[0 0 0 0 0 0 0 0 3]\n",
      " [1 1 1 1 1 1 1 1 1]\n",
      " [0 1 1 1 1 1 1 1 0]\n",
      " [0 1 0 1 0 1 0 1 0]\n",
      " [0 1 0 1 0 1 0 1 0]\n",
      " [0 1 0 1 0 1 0 1 0]\n",
      " [1 1 0 1 0 1 0 1 1]\n",
      " [1 1 1 1 1 1 1 1 1]\n",
      " [1 2 1 1 1 1 1 1 1]\n",
      " [0 0 0 0 1 0 0 0 0]]\n",
      "마지막 보상 : 0\n",
      " 총 받은 보상 :-43\n",
      "score = -33, n_buffer : 100000, eps : 21.999999999999996\n"
     ]
    },
    {
     "name": "stderr",
     "output_type": "stream",
     "text": [
      "  2%|█▌                                                             | 2914/120000 [1:16:05<32:04:12,  1.01it/s]"
     ]
    },
    {
     "name": "stdout",
     "output_type": "stream",
     "text": [
      "295번 시도 끝에 성공,,, 고생했다..\n"
     ]
    },
    {
     "name": "stderr",
     "output_type": "stream",
     "text": [
      "  2%|█▌                                                             | 2922/120000 [1:16:13<31:20:49,  1.04it/s]"
     ]
    },
    {
     "name": "stdout",
     "output_type": "stream",
     "text": [
      "200번 안에 들어왔다! : 148\n"
     ]
    },
    {
     "name": "stderr",
     "output_type": "stream",
     "text": [
      "/home/zlxlekta924/anaconda3/envs/test/lib/python3.7/site-packages/ipykernel_launcher.py:82: UserWarning: To copy construct from a tensor, it is recommended to use sourceTensor.clone().detach() or sourceTensor.clone().detach().requires_grad_(True), rather than torch.tensor(sourceTensor).\n",
      "  2%|█▌                                                             | 2928/120000 [1:16:26<46:12:32,  1.42s/it]"
     ]
    },
    {
     "name": "stdout",
     "output_type": "stream",
     "text": [
      "200번 안에 들어왔다! : 171\n"
     ]
    },
    {
     "name": "stderr",
     "output_type": "stream",
     "text": [
      "/home/zlxlekta924/anaconda3/envs/test/lib/python3.7/site-packages/ipykernel_launcher.py:82: UserWarning: To copy construct from a tensor, it is recommended to use sourceTensor.clone().detach() or sourceTensor.clone().detach().requires_grad_(True), rather than torch.tensor(sourceTensor).\n",
      "  2%|█▌                                                             | 2930/120000 [1:16:37<99:33:00,  3.06s/it]"
     ]
    },
    {
     "name": "stdout",
     "output_type": "stream",
     "text": [
      "200번 안에 들어왔다! : 175\n"
     ]
    },
    {
     "name": "stderr",
     "output_type": "stream",
     "text": [
      "/home/zlxlekta924/anaconda3/envs/test/lib/python3.7/site-packages/ipykernel_launcher.py:82: UserWarning: To copy construct from a tensor, it is recommended to use sourceTensor.clone().detach() or sourceTensor.clone().detach().requires_grad_(True), rather than torch.tensor(sourceTensor).\n",
      "  2%|█▌                                                            | 2931/120000 [1:16:47<166:05:47,  5.11s/it]"
     ]
    },
    {
     "name": "stdout",
     "output_type": "stream",
     "text": [
      "389번 시도 끝에 성공,,, 고생했다..\n"
     ]
    },
    {
     "name": "stderr",
     "output_type": "stream",
     "text": [
      "\r",
      "  2%|█▌                                                            | 2932/120000 [1:16:48<128:53:08,  3.96s/it]"
     ]
    },
    {
     "name": "stdout",
     "output_type": "stream",
     "text": [
      "362번 시도 끝에 성공,,, 고생했다..\n"
     ]
    },
    {
     "name": "stderr",
     "output_type": "stream",
     "text": [
      "  2%|█▌                                                             | 2934/120000 [1:16:50<79:46:43,  2.45s/it]"
     ]
    },
    {
     "name": "stdout",
     "output_type": "stream",
     "text": [
      "200번 안에 들어왔다! : 143\n"
     ]
    },
    {
     "name": "stderr",
     "output_type": "stream",
     "text": [
      "/home/zlxlekta924/anaconda3/envs/test/lib/python3.7/site-packages/ipykernel_launcher.py:82: UserWarning: To copy construct from a tensor, it is recommended to use sourceTensor.clone().detach() or sourceTensor.clone().detach().requires_grad_(True), rather than torch.tensor(sourceTensor).\n",
      "  2%|█▌                                                             | 2938/120000 [1:17:02<70:48:26,  2.18s/it]"
     ]
    },
    {
     "name": "stdout",
     "output_type": "stream",
     "text": [
      "200번 안에 들어왔다! : 183\n"
     ]
    },
    {
     "name": "stderr",
     "output_type": "stream",
     "text": [
      "/home/zlxlekta924/anaconda3/envs/test/lib/python3.7/site-packages/ipykernel_launcher.py:82: UserWarning: To copy construct from a tensor, it is recommended to use sourceTensor.clone().detach() or sourceTensor.clone().detach().requires_grad_(True), rather than torch.tensor(sourceTensor).\n",
      "  2%|█▌                                                             | 2941/120000 [1:17:11<74:05:19,  2.28s/it]"
     ]
    },
    {
     "name": "stdout",
     "output_type": "stream",
     "text": [
      "217번 시도 끝에 성공,,, 고생했다..\n"
     ]
    },
    {
     "name": "stderr",
     "output_type": "stream",
     "text": [
      "  3%|█▌                                                             | 3001/120000 [1:18:08<30:59:24,  1.05it/s]"
     ]
    },
    {
     "name": "stdout",
     "output_type": "stream",
     "text": [
      "3000 에서 챙기는 아이템 : ['H', 'L', 'M']\n",
      "마지막 행동 : ←\n",
      " 그 때의 마지막 상태 :\n",
      "[[0 0 0 3 0 0 0 0 0]\n",
      " [1 1 1 1 1 1 1 1 1]\n",
      " [0 1 1 1 1 1 1 1 0]\n",
      " [0 1 0 1 0 1 0 1 0]\n",
      " [0 1 0 1 0 1 0 1 0]\n",
      " [0 1 0 1 0 1 0 1 0]\n",
      " [1 1 0 1 0 1 0 1 1]\n",
      " [1 1 1 1 1 1 1 1 1]\n",
      " [2 1 1 1 1 1 1 1 1]\n",
      " [0 0 0 0 1 0 0 0 0]]\n",
      "마지막 보상 : 0\n",
      " 총 받은 보상 :-24\n",
      "score = -29, n_buffer : 100000, eps : 20.0\n"
     ]
    },
    {
     "name": "stderr",
     "output_type": "stream",
     "text": [
      "  3%|█▌                                                             | 3006/120000 [1:18:12<31:29:09,  1.03it/s]"
     ]
    },
    {
     "name": "stdout",
     "output_type": "stream",
     "text": [
      "425번 시도 끝에 성공,,, 고생했다..\n"
     ]
    },
    {
     "name": "stderr",
     "output_type": "stream",
     "text": [
      "\r",
      "  3%|█▌                                                             | 3007/120000 [1:18:13<29:19:27,  1.11it/s]"
     ]
    },
    {
     "name": "stdout",
     "output_type": "stream",
     "text": [
      "270번 시도 끝에 성공,,, 고생했다..\n"
     ]
    },
    {
     "name": "stderr",
     "output_type": "stream",
     "text": [
      "  3%|█▌                                                             | 3033/120000 [1:18:37<31:44:33,  1.02it/s]"
     ]
    },
    {
     "name": "stdout",
     "output_type": "stream",
     "text": [
      "286번 시도 끝에 성공,,, 고생했다..\n"
     ]
    },
    {
     "name": "stderr",
     "output_type": "stream",
     "text": [
      "  3%|█▋                                                             | 3101/120000 [1:19:42<31:22:18,  1.04it/s]"
     ]
    },
    {
     "name": "stdout",
     "output_type": "stream",
     "text": [
      "3100 에서 챙기는 아이템 : ['H', 'L', 'M']\n",
      "마지막 행동 : ↓\n",
      " 그 때의 마지막 상태 :\n",
      "[[0 0 0 3 0 0 0 0 0]\n",
      " [1 1 1 1 1 1 1 1 1]\n",
      " [0 1 1 1 1 1 1 1 0]\n",
      " [0 1 0 1 0 1 0 1 0]\n",
      " [0 1 0 1 0 1 0 1 0]\n",
      " [0 1 0 1 0 1 0 1 0]\n",
      " [1 1 0 1 0 1 0 1 1]\n",
      " [1 1 1 1 1 1 1 1 1]\n",
      " [1 1 1 1 1 1 1 1 2]\n",
      " [0 0 0 0 1 0 0 0 0]]\n",
      "마지막 보상 : 0\n",
      " 총 받은 보상 :-26\n",
      "score = -27, n_buffer : 100000, eps : 20.0\n"
     ]
    },
    {
     "name": "stderr",
     "output_type": "stream",
     "text": [
      "  3%|█▋                                                             | 3111/120000 [1:19:52<32:28:17,  1.00s/it]"
     ]
    },
    {
     "name": "stdout",
     "output_type": "stream",
     "text": [
      "200번 안에 들어왔다! : 193\n"
     ]
    },
    {
     "name": "stderr",
     "output_type": "stream",
     "text": [
      "/home/zlxlekta924/anaconda3/envs/test/lib/python3.7/site-packages/ipykernel_launcher.py:82: UserWarning: To copy construct from a tensor, it is recommended to use sourceTensor.clone().detach() or sourceTensor.clone().detach().requires_grad_(True), rather than torch.tensor(sourceTensor).\n",
      "  3%|█▌                                                            | 3113/120000 [1:20:04<102:08:18,  3.15s/it]"
     ]
    },
    {
     "name": "stdout",
     "output_type": "stream",
     "text": [
      "200번 안에 들어왔다! : 91\n"
     ]
    },
    {
     "name": "stderr",
     "output_type": "stream",
     "text": [
      "/home/zlxlekta924/anaconda3/envs/test/lib/python3.7/site-packages/ipykernel_launcher.py:82: UserWarning: To copy construct from a tensor, it is recommended to use sourceTensor.clone().detach() or sourceTensor.clone().detach().requires_grad_(True), rather than torch.tensor(sourceTensor).\n",
      "  3%|█▋                                                             | 3128/120000 [1:20:24<36:32:47,  1.13s/it]"
     ]
    },
    {
     "name": "stdout",
     "output_type": "stream",
     "text": [
      "394번 시도 끝에 성공,,, 고생했다..\n"
     ]
    },
    {
     "name": "stderr",
     "output_type": "stream",
     "text": [
      "  3%|█▋                                                             | 3136/120000 [1:20:33<36:51:06,  1.14s/it]"
     ]
    },
    {
     "name": "stdout",
     "output_type": "stream",
     "text": [
      "229번 시도 끝에 성공,,, 고생했다..\n"
     ]
    },
    {
     "name": "stderr",
     "output_type": "stream",
     "text": [
      "  3%|█▋                                                             | 3145/120000 [1:20:43<38:03:31,  1.17s/it]"
     ]
    },
    {
     "name": "stdout",
     "output_type": "stream",
     "text": [
      "286번 시도 끝에 성공,,, 고생했다..\n"
     ]
    },
    {
     "name": "stderr",
     "output_type": "stream",
     "text": [
      "  3%|█▋                                                             | 3186/120000 [1:21:29<36:13:15,  1.12s/it]"
     ]
    },
    {
     "name": "stdout",
     "output_type": "stream",
     "text": [
      "366번 시도 끝에 성공,,, 고생했다..\n"
     ]
    },
    {
     "name": "stderr",
     "output_type": "stream",
     "text": [
      "\r",
      "  3%|█▋                                                             | 3187/120000 [1:21:30<35:43:23,  1.10s/it]"
     ]
    },
    {
     "name": "stdout",
     "output_type": "stream",
     "text": [
      "200번 안에 들어왔다! : 125\n"
     ]
    },
    {
     "name": "stderr",
     "output_type": "stream",
     "text": [
      "/home/zlxlekta924/anaconda3/envs/test/lib/python3.7/site-packages/ipykernel_launcher.py:82: UserWarning: To copy construct from a tensor, it is recommended to use sourceTensor.clone().detach() or sourceTensor.clone().detach().requires_grad_(True), rather than torch.tensor(sourceTensor).\n",
      "  3%|█▋                                                             | 3198/120000 [1:21:48<37:31:56,  1.16s/it]"
     ]
    },
    {
     "name": "stdout",
     "output_type": "stream",
     "text": [
      "298번 시도 끝에 성공,,, 고생했다..\n"
     ]
    },
    {
     "name": "stderr",
     "output_type": "stream",
     "text": [
      "  3%|█▋                                                             | 3201/120000 [1:21:51<36:00:14,  1.11s/it]"
     ]
    },
    {
     "name": "stdout",
     "output_type": "stream",
     "text": [
      "3200 에서 챙기는 아이템 : ['H', 'L', 'M']\n",
      "마지막 행동 : ←\n",
      " 그 때의 마지막 상태 :\n",
      "[[0 0 0 0 0 0 0 0 3]\n",
      " [1 1 1 1 1 1 1 1 1]\n",
      " [0 1 1 1 1 1 1 1 0]\n",
      " [0 1 0 1 0 1 0 1 0]\n",
      " [0 1 0 1 0 1 0 1 0]\n",
      " [0 1 0 1 0 1 0 1 0]\n",
      " [1 1 0 1 0 1 0 1 1]\n",
      " [1 1 1 1 1 1 2 1 1]\n",
      " [1 1 1 1 1 1 1 1 1]\n",
      " [0 0 0 0 1 0 0 0 0]]\n",
      "마지막 보상 : 0\n",
      " 총 받은 보상 :-23\n",
      "score = -27, n_buffer : 100000, eps : 18.0\n"
     ]
    },
    {
     "name": "stderr",
     "output_type": "stream",
     "text": [
      "  3%|█▋                                                             | 3203/120000 [1:21:53<36:26:37,  1.12s/it]"
     ]
    },
    {
     "name": "stdout",
     "output_type": "stream",
     "text": [
      "277번 시도 끝에 성공,,, 고생했다..\n"
     ]
    },
    {
     "name": "stderr",
     "output_type": "stream",
     "text": [
      "  3%|█▋                                                             | 3206/120000 [1:21:56<36:10:15,  1.11s/it]"
     ]
    },
    {
     "name": "stdout",
     "output_type": "stream",
     "text": [
      "200번 안에 들어왔다! : 143\n"
     ]
    },
    {
     "name": "stderr",
     "output_type": "stream",
     "text": [
      "/home/zlxlekta924/anaconda3/envs/test/lib/python3.7/site-packages/ipykernel_launcher.py:82: UserWarning: To copy construct from a tensor, it is recommended to use sourceTensor.clone().detach() or sourceTensor.clone().detach().requires_grad_(True), rather than torch.tensor(sourceTensor).\n",
      "  3%|█▋                                                             | 3210/120000 [1:22:07<54:49:06,  1.69s/it]"
     ]
    },
    {
     "name": "stdout",
     "output_type": "stream",
     "text": [
      "200번 안에 들어왔다! : 88\n"
     ]
    },
    {
     "name": "stderr",
     "output_type": "stream",
     "text": [
      "/home/zlxlekta924/anaconda3/envs/test/lib/python3.7/site-packages/ipykernel_launcher.py:82: UserWarning: To copy construct from a tensor, it is recommended to use sourceTensor.clone().detach() or sourceTensor.clone().detach().requires_grad_(True), rather than torch.tensor(sourceTensor).\n",
      "  3%|█▋                                                             | 3213/120000 [1:22:14<59:14:01,  1.83s/it]"
     ]
    },
    {
     "name": "stdout",
     "output_type": "stream",
     "text": [
      "321번 시도 끝에 성공,,, 고생했다..\n"
     ]
    },
    {
     "name": "stderr",
     "output_type": "stream",
     "text": [
      "\r",
      "  3%|█▋                                                             | 3214/120000 [1:22:15<51:26:34,  1.59s/it]"
     ]
    },
    {
     "name": "stdout",
     "output_type": "stream",
     "text": [
      "230번 시도 끝에 성공,,, 고생했다..\n"
     ]
    },
    {
     "name": "stderr",
     "output_type": "stream",
     "text": [
      "\r",
      "  3%|█▋                                                             | 3215/120000 [1:22:16<45:19:22,  1.40s/it]"
     ]
    },
    {
     "name": "stdout",
     "output_type": "stream",
     "text": [
      "200번 안에 들어왔다! : 97\n"
     ]
    },
    {
     "name": "stderr",
     "output_type": "stream",
     "text": [
      "/home/zlxlekta924/anaconda3/envs/test/lib/python3.7/site-packages/ipykernel_launcher.py:82: UserWarning: To copy construct from a tensor, it is recommended to use sourceTensor.clone().detach() or sourceTensor.clone().detach().requires_grad_(True), rather than torch.tensor(sourceTensor).\n",
      "  3%|█▋                                                             | 3217/120000 [1:22:20<55:56:31,  1.72s/it]"
     ]
    },
    {
     "name": "stdout",
     "output_type": "stream",
     "text": [
      "257번 시도 끝에 성공,,, 고생했다..\n"
     ]
    },
    {
     "name": "stderr",
     "output_type": "stream",
     "text": [
      "\r",
      "  3%|█▋                                                             | 3218/120000 [1:22:21<47:07:05,  1.45s/it]"
     ]
    },
    {
     "name": "stdout",
     "output_type": "stream",
     "text": [
      "360번 시도 끝에 성공,,, 고생했다..\n"
     ]
    },
    {
     "name": "stderr",
     "output_type": "stream",
     "text": [
      "  3%|█▋                                                             | 3225/120000 [1:22:27<31:55:55,  1.02it/s]"
     ]
    },
    {
     "name": "stdout",
     "output_type": "stream",
     "text": [
      "200번 안에 들어왔다! : 110\n"
     ]
    },
    {
     "name": "stderr",
     "output_type": "stream",
     "text": [
      "/home/zlxlekta924/anaconda3/envs/test/lib/python3.7/site-packages/ipykernel_launcher.py:82: UserWarning: To copy construct from a tensor, it is recommended to use sourceTensor.clone().detach() or sourceTensor.clone().detach().requires_grad_(True), rather than torch.tensor(sourceTensor).\n",
      "  3%|█▋                                                             | 3226/120000 [1:22:33<76:35:17,  2.36s/it]"
     ]
    },
    {
     "name": "stdout",
     "output_type": "stream",
     "text": [
      "382번 시도 끝에 성공,,, 고생했다..\n"
     ]
    },
    {
     "name": "stderr",
     "output_type": "stream",
     "text": [
      "  3%|█▋                                                             | 3238/120000 [1:22:44<31:42:01,  1.02it/s]"
     ]
    },
    {
     "name": "stdout",
     "output_type": "stream",
     "text": [
      "436번 시도 끝에 성공,,, 고생했다..\n"
     ]
    },
    {
     "name": "stderr",
     "output_type": "stream",
     "text": [
      "\r",
      "  3%|█▋                                                             | 3239/120000 [1:22:45<31:26:19,  1.03it/s]"
     ]
    },
    {
     "name": "stdout",
     "output_type": "stream",
     "text": [
      "261번 시도 끝에 성공,,, 고생했다..\n"
     ]
    },
    {
     "name": "stderr",
     "output_type": "stream",
     "text": [
      "\r",
      "  3%|█▋                                                             | 3240/120000 [1:22:46<30:10:35,  1.07it/s]"
     ]
    },
    {
     "name": "stdout",
     "output_type": "stream",
     "text": [
      "416번 시도 끝에 성공,,, 고생했다..\n"
     ]
    },
    {
     "name": "stderr",
     "output_type": "stream",
     "text": [
      "\r",
      "  3%|█▋                                                             | 3241/120000 [1:22:47<30:08:02,  1.08it/s]"
     ]
    },
    {
     "name": "stdout",
     "output_type": "stream",
     "text": [
      "200번 안에 들어왔다! : 130\n"
     ]
    },
    {
     "name": "stderr",
     "output_type": "stream",
     "text": [
      "/home/zlxlekta924/anaconda3/envs/test/lib/python3.7/site-packages/ipykernel_launcher.py:82: UserWarning: To copy construct from a tensor, it is recommended to use sourceTensor.clone().detach() or sourceTensor.clone().detach().requires_grad_(True), rather than torch.tensor(sourceTensor).\n",
      "  3%|█▋                                                             | 3242/120000 [1:22:54<89:13:22,  2.75s/it]"
     ]
    },
    {
     "name": "stdout",
     "output_type": "stream",
     "text": [
      "310번 시도 끝에 성공,,, 고생했다..\n"
     ]
    },
    {
     "name": "stderr",
     "output_type": "stream",
     "text": [
      "  3%|█▋                                                             | 3251/120000 [1:23:04<38:46:25,  1.20s/it]"
     ]
    },
    {
     "name": "stdout",
     "output_type": "stream",
     "text": [
      "230번 시도 끝에 성공,,, 고생했다..\n"
     ]
    },
    {
     "name": "stderr",
     "output_type": "stream",
     "text": [
      "  3%|█▋                                                             | 3266/120000 [1:23:21<36:16:25,  1.12s/it]"
     ]
    },
    {
     "name": "stdout",
     "output_type": "stream",
     "text": [
      "200번 안에 들어왔다! : 155\n"
     ]
    },
    {
     "name": "stderr",
     "output_type": "stream",
     "text": [
      "/home/zlxlekta924/anaconda3/envs/test/lib/python3.7/site-packages/ipykernel_launcher.py:82: UserWarning: To copy construct from a tensor, it is recommended to use sourceTensor.clone().detach() or sourceTensor.clone().detach().requires_grad_(True), rather than torch.tensor(sourceTensor).\n",
      "  3%|█▋                                                            | 3267/120000 [1:23:29<103:55:59,  3.21s/it]"
     ]
    },
    {
     "name": "stdout",
     "output_type": "stream",
     "text": [
      "221번 시도 끝에 성공,,, 고생했다..\n"
     ]
    },
    {
     "name": "stderr",
     "output_type": "stream",
     "text": [
      "  3%|█▋                                                             | 3294/120000 [1:23:55<33:27:08,  1.03s/it]"
     ]
    },
    {
     "name": "stdout",
     "output_type": "stream",
     "text": [
      "479번 시도 끝에 성공,,, 고생했다..\n"
     ]
    },
    {
     "name": "stderr",
     "output_type": "stream",
     "text": [
      "  3%|█▋                                                             | 3301/120000 [1:24:02<32:18:11,  1.00it/s]"
     ]
    },
    {
     "name": "stdout",
     "output_type": "stream",
     "text": [
      "3300 에서 챙기는 아이템 : ['H', 'L', 'M']\n",
      "마지막 행동 : ←\n",
      " 그 때의 마지막 상태 :\n",
      "[[0 0 0 3 0 0 0 0 0]\n",
      " [1 1 1 1 1 1 1 1 1]\n",
      " [0 1 1 1 1 1 1 1 0]\n",
      " [0 1 0 1 0 1 0 1 0]\n",
      " [0 1 0 1 0 1 0 1 0]\n",
      " [0 1 0 1 0 1 0 1 0]\n",
      " [1 1 0 1 0 1 0 1 1]\n",
      " [1 1 1 1 1 1 1 1 1]\n",
      " [1 1 1 1 1 1 1 1 1]\n",
      " [0 0 0 0 2 0 0 0 0]]\n",
      "마지막 보상 : -1\n",
      " 총 받은 보상 :-25\n",
      "score = -22, n_buffer : 100000, eps : 18.0\n"
     ]
    },
    {
     "name": "stderr",
     "output_type": "stream",
     "text": [
      "  3%|█▊                                                             | 3353/120000 [1:24:53<31:28:47,  1.03it/s]"
     ]
    },
    {
     "name": "stdout",
     "output_type": "stream",
     "text": [
      "349번 시도 끝에 성공,,, 고생했다..\n"
     ]
    },
    {
     "name": "stderr",
     "output_type": "stream",
     "text": [
      "  3%|█▊                                                             | 3355/120000 [1:24:54<31:46:02,  1.02it/s]"
     ]
    },
    {
     "name": "stdout",
     "output_type": "stream",
     "text": [
      "338번 시도 끝에 성공,,, 고생했다..\n"
     ]
    },
    {
     "name": "stderr",
     "output_type": "stream",
     "text": [
      "  3%|█▊                                                             | 3368/120000 [1:25:08<32:10:40,  1.01it/s]"
     ]
    },
    {
     "name": "stdout",
     "output_type": "stream",
     "text": [
      "200번 안에 들어왔다! : 184\n"
     ]
    },
    {
     "name": "stderr",
     "output_type": "stream",
     "text": [
      "/home/zlxlekta924/anaconda3/envs/test/lib/python3.7/site-packages/ipykernel_launcher.py:82: UserWarning: To copy construct from a tensor, it is recommended to use sourceTensor.clone().detach() or sourceTensor.clone().detach().requires_grad_(True), rather than torch.tensor(sourceTensor).\n",
      "  3%|█▊                                                             | 3383/120000 [1:25:32<31:40:51,  1.02it/s]"
     ]
    },
    {
     "name": "stdout",
     "output_type": "stream",
     "text": [
      "479번 시도 끝에 성공,,, 고생했다..\n"
     ]
    },
    {
     "name": "stderr",
     "output_type": "stream",
     "text": [
      "  3%|█▊                                                             | 3401/120000 [1:25:49<31:05:06,  1.04it/s]"
     ]
    },
    {
     "name": "stdout",
     "output_type": "stream",
     "text": [
      "3400 에서 챙기는 아이템 : ['H', 'L', 'M']\n",
      "마지막 행동 : ←\n",
      " 그 때의 마지막 상태 :\n",
      "[[0 0 0 3 0 0 0 0 0]\n",
      " [1 1 1 1 1 1 1 1 1]\n",
      " [0 1 1 1 1 1 1 1 0]\n",
      " [0 1 0 1 0 1 0 1 0]\n",
      " [0 1 0 1 0 1 0 1 0]\n",
      " [0 1 0 1 0 1 0 1 0]\n",
      " [1 1 0 1 0 1 0 1 1]\n",
      " [1 1 1 1 1 1 1 1 1]\n",
      " [1 1 1 1 1 1 1 2 1]\n",
      " [0 0 0 0 1 0 0 0 0]]\n",
      "마지막 보상 : 0\n",
      " 총 받은 보상 :-37\n",
      "score = -26, n_buffer : 100000, eps : 15.999999999999998\n"
     ]
    },
    {
     "name": "stderr",
     "output_type": "stream",
     "text": [
      "  3%|█▊                                                             | 3434/120000 [1:26:21<31:22:01,  1.03it/s]"
     ]
    },
    {
     "name": "stdout",
     "output_type": "stream",
     "text": [
      "254번 시도 끝에 성공,,, 고생했다..\n"
     ]
    },
    {
     "name": "stderr",
     "output_type": "stream",
     "text": [
      "  3%|█▊                                                             | 3501/120000 [1:27:54<59:30:10,  1.84s/it]"
     ]
    },
    {
     "name": "stdout",
     "output_type": "stream",
     "text": [
      "3500 에서 챙기는 아이템 : ['H', 'L', 'M']\n",
      "마지막 행동 : ←\n",
      " 그 때의 마지막 상태 :\n",
      "[[0 0 0 3 0 0 0 0 0]\n",
      " [1 1 1 1 1 1 1 1 1]\n",
      " [0 1 1 1 1 1 1 1 0]\n",
      " [0 1 0 1 0 1 0 1 0]\n",
      " [0 1 0 1 0 1 0 1 0]\n",
      " [0 1 0 1 0 1 0 1 0]\n",
      " [1 1 0 1 0 1 0 1 1]\n",
      " [1 1 1 1 1 1 1 1 1]\n",
      " [1 1 1 1 1 1 2 1 1]\n",
      " [0 0 0 0 1 0 0 0 0]]\n",
      "마지막 보상 : 0\n",
      " 총 받은 보상 :-14\n",
      "score = -26, n_buffer : 100000, eps : 15.999999999999998\n"
     ]
    },
    {
     "name": "stderr",
     "output_type": "stream",
     "text": [
      "  3%|█▊                                                             | 3561/120000 [1:29:20<53:46:44,  1.66s/it]"
     ]
    },
    {
     "name": "stdout",
     "output_type": "stream",
     "text": [
      "200번 안에 들어왔다! : 160\n"
     ]
    },
    {
     "name": "stderr",
     "output_type": "stream",
     "text": [
      "/home/zlxlekta924/anaconda3/envs/test/lib/python3.7/site-packages/ipykernel_launcher.py:82: UserWarning: To copy construct from a tensor, it is recommended to use sourceTensor.clone().detach() or sourceTensor.clone().detach().requires_grad_(True), rather than torch.tensor(sourceTensor).\n",
      "  3%|█▉                                                             | 3601/120000 [1:30:39<50:57:29,  1.58s/it]"
     ]
    },
    {
     "name": "stdout",
     "output_type": "stream",
     "text": [
      "3600 에서 챙기는 아이템 : ['H', 'L', 'M']\n",
      "마지막 행동 : ←\n",
      " 그 때의 마지막 상태 :\n",
      "[[0 0 0 0 0 0 0 0 3]\n",
      " [1 1 1 1 1 1 1 1 1]\n",
      " [0 1 1 1 1 1 1 1 0]\n",
      " [0 1 0 1 0 1 0 1 0]\n",
      " [0 1 0 1 0 1 0 1 0]\n",
      " [0 1 0 1 0 1 0 1 0]\n",
      " [1 1 0 1 0 1 0 1 1]\n",
      " [1 1 1 1 1 1 1 1 1]\n",
      " [1 1 2 1 1 1 1 1 1]\n",
      " [0 0 0 0 1 0 0 0 0]]\n",
      "마지막 보상 : 0\n",
      " 총 받은 보상 :-32\n",
      "score = -24, n_buffer : 100000, eps : 14.000000000000002\n"
     ]
    },
    {
     "name": "stderr",
     "output_type": "stream",
     "text": [
      "  3%|█▉                                                             | 3634/120000 [1:31:35<50:19:03,  1.56s/it]"
     ]
    },
    {
     "name": "stdout",
     "output_type": "stream",
     "text": [
      "311번 시도 끝에 성공,,, 고생했다..\n"
     ]
    },
    {
     "name": "stderr",
     "output_type": "stream",
     "text": [
      "  3%|█▉                                                             | 3640/120000 [1:31:46<57:18:13,  1.77s/it]"
     ]
    },
    {
     "name": "stdout",
     "output_type": "stream",
     "text": [
      "200번 안에 들어왔다! : 105\n"
     ]
    },
    {
     "name": "stderr",
     "output_type": "stream",
     "text": [
      "/home/zlxlekta924/anaconda3/envs/test/lib/python3.7/site-packages/ipykernel_launcher.py:82: UserWarning: To copy construct from a tensor, it is recommended to use sourceTensor.clone().detach() or sourceTensor.clone().detach().requires_grad_(True), rather than torch.tensor(sourceTensor).\n",
      "  3%|█▉                                                             | 3681/120000 [1:32:57<52:47:39,  1.63s/it]"
     ]
    },
    {
     "name": "stdout",
     "output_type": "stream",
     "text": [
      "271번 시도 끝에 성공,,, 고생했다..\n"
     ]
    },
    {
     "name": "stderr",
     "output_type": "stream",
     "text": [
      "  3%|█▉                                                             | 3701/120000 [1:33:21<36:45:22,  1.14s/it]"
     ]
    },
    {
     "name": "stdout",
     "output_type": "stream",
     "text": [
      "3700 에서 챙기는 아이템 : ['H', 'L', 'M']\n",
      "마지막 행동 : ←\n",
      " 그 때의 마지막 상태 :\n",
      "[[0 0 0 3 0 0 0 0 0]\n",
      " [1 1 1 1 1 1 1 1 1]\n",
      " [0 1 1 1 1 1 1 1 0]\n",
      " [0 1 0 1 0 1 0 1 0]\n",
      " [0 1 0 1 0 1 0 1 0]\n",
      " [0 1 0 1 0 1 0 1 0]\n",
      " [1 1 0 1 0 1 0 1 1]\n",
      " [1 1 1 1 1 1 1 1 1]\n",
      " [1 1 1 1 1 2 1 1 1]\n",
      " [0 0 0 0 1 0 0 0 0]]\n",
      "마지막 보상 : 0\n",
      " 총 받은 보상 :-19\n",
      "score = -19, n_buffer : 100000, eps : 14.000000000000002\n"
     ]
    },
    {
     "name": "stderr",
     "output_type": "stream",
     "text": [
      "  3%|█▉                                                             | 3706/120000 [1:33:26<36:33:32,  1.13s/it]"
     ]
    },
    {
     "name": "stdout",
     "output_type": "stream",
     "text": [
      "402번 시도 끝에 성공,,, 고생했다..\n"
     ]
    },
    {
     "name": "stderr",
     "output_type": "stream",
     "text": [
      "  3%|█▉                                                             | 3713/120000 [1:33:34<37:19:51,  1.16s/it]"
     ]
    },
    {
     "name": "stdout",
     "output_type": "stream",
     "text": [
      "350번 시도 끝에 성공,,, 고생했다..\n"
     ]
    },
    {
     "name": "stderr",
     "output_type": "stream",
     "text": [
      "  3%|█▉                                                             | 3801/120000 [1:35:13<30:47:54,  1.05it/s]"
     ]
    },
    {
     "name": "stdout",
     "output_type": "stream",
     "text": [
      "3800 에서 챙기는 아이템 : ['H', 'L', 'M']\n",
      "마지막 행동 : →\n",
      " 그 때의 마지막 상태 :\n",
      "[[0 0 0 0 0 0 0 0 3]\n",
      " [1 1 1 1 2 1 1 1 1]\n",
      " [0 1 1 1 1 1 1 1 0]\n",
      " [0 1 0 1 0 1 0 1 0]\n",
      " [0 1 0 1 0 1 0 1 0]\n",
      " [0 1 0 1 0 1 0 1 0]\n",
      " [1 1 0 1 0 1 0 1 1]\n",
      " [1 1 1 1 1 1 1 1 1]\n",
      " [1 1 1 1 1 1 1 1 1]\n",
      " [0 0 0 0 1 0 0 0 0]]\n",
      "마지막 보상 : 0\n",
      " 총 받은 보상 :-15\n",
      "score = -20, n_buffer : 100000, eps : 12.0\n"
     ]
    },
    {
     "name": "stderr",
     "output_type": "stream",
     "text": [
      "  3%|██                                                             | 3823/120000 [1:35:34<30:39:30,  1.05it/s]"
     ]
    },
    {
     "name": "stdout",
     "output_type": "stream",
     "text": [
      "441번 시도 끝에 성공,,, 고생했다..\n"
     ]
    },
    {
     "name": "stderr",
     "output_type": "stream",
     "text": [
      "  3%|██                                                             | 3833/120000 [1:35:43<30:32:16,  1.06it/s]"
     ]
    },
    {
     "name": "stdout",
     "output_type": "stream",
     "text": [
      "200번 안에 들어왔다! : 169\n"
     ]
    },
    {
     "name": "stderr",
     "output_type": "stream",
     "text": [
      "/home/zlxlekta924/anaconda3/envs/test/lib/python3.7/site-packages/ipykernel_launcher.py:82: UserWarning: To copy construct from a tensor, it is recommended to use sourceTensor.clone().detach() or sourceTensor.clone().detach().requires_grad_(True), rather than torch.tensor(sourceTensor).\n",
      "  3%|██                                                             | 3842/120000 [1:35:58<32:01:19,  1.01it/s]"
     ]
    },
    {
     "name": "stdout",
     "output_type": "stream",
     "text": [
      "335번 시도 끝에 성공,,, 고생했다..\n"
     ]
    },
    {
     "name": "stderr",
     "output_type": "stream",
     "text": [
      "  3%|██                                                             | 3885/120000 [1:36:38<30:45:45,  1.05it/s]"
     ]
    },
    {
     "name": "stdout",
     "output_type": "stream",
     "text": [
      "488번 시도 끝에 성공,,, 고생했다..\n"
     ]
    },
    {
     "name": "stderr",
     "output_type": "stream",
     "text": [
      "  3%|██                                                             | 3901/120000 [1:36:53<29:20:22,  1.10it/s]"
     ]
    },
    {
     "name": "stdout",
     "output_type": "stream",
     "text": [
      "3900 에서 챙기는 아이템 : ['H', 'L', 'M']\n",
      "마지막 행동 : →\n",
      " 그 때의 마지막 상태 :\n",
      "[[0 0 0 0 0 0 0 0 3]\n",
      " [1 1 1 1 2 1 1 1 1]\n",
      " [0 1 1 1 1 1 1 1 0]\n",
      " [0 1 0 1 0 1 0 1 0]\n",
      " [0 1 0 1 0 1 0 1 0]\n",
      " [0 1 0 1 0 1 0 1 0]\n",
      " [1 1 0 1 0 1 0 1 1]\n",
      " [1 1 1 1 1 1 1 1 1]\n",
      " [1 1 1 1 1 1 1 1 1]\n",
      " [0 0 0 0 1 0 0 0 0]]\n",
      "마지막 보상 : 0\n",
      " 총 받은 보상 :-23\n",
      "score = -16, n_buffer : 100000, eps : 12.0\n"
     ]
    },
    {
     "name": "stderr",
     "output_type": "stream",
     "text": [
      "  3%|██                                                             | 3906/120000 [1:36:57<25:04:11,  1.29it/s]"
     ]
    },
    {
     "name": "stdout",
     "output_type": "stream",
     "text": [
      "491번 시도 끝에 성공,,, 고생했다..\n"
     ]
    },
    {
     "name": "stderr",
     "output_type": "stream",
     "text": [
      "  3%|██                                                             | 3998/120000 [1:38:22<29:50:31,  1.08it/s]"
     ]
    },
    {
     "name": "stdout",
     "output_type": "stream",
     "text": [
      "445번 시도 끝에 성공,,, 고생했다..\n"
     ]
    },
    {
     "name": "stderr",
     "output_type": "stream",
     "text": [
      "  3%|██                                                             | 4001/120000 [1:38:25<29:35:12,  1.09it/s]"
     ]
    },
    {
     "name": "stdout",
     "output_type": "stream",
     "text": [
      "4000 에서 챙기는 아이템 : ['H', 'L', 'M']\n",
      "마지막 행동 : ←\n",
      " 그 때의 마지막 상태 :\n",
      "[[0 0 0 0 0 0 0 3 0]\n",
      " [1 1 1 1 1 1 1 1 1]\n",
      " [0 1 1 1 1 1 1 1 0]\n",
      " [0 1 0 1 0 1 0 1 0]\n",
      " [0 1 0 1 0 1 0 1 0]\n",
      " [0 1 0 1 0 1 0 1 0]\n",
      " [1 1 0 1 0 1 0 1 1]\n",
      " [1 1 1 1 1 1 1 1 1]\n",
      " [1 1 2 1 1 1 1 1 1]\n",
      " [0 0 0 0 1 0 0 0 0]]\n",
      "마지막 보상 : 0\n",
      " 총 받은 보상 :-13\n",
      "score = -18, n_buffer : 100000, eps : 10.0\n"
     ]
    },
    {
     "name": "stderr",
     "output_type": "stream",
     "text": [
      "  3%|██                                                             | 4033/120000 [1:38:55<47:24:43,  1.47s/it]\n"
     ]
    },
    {
     "ename": "KeyboardInterrupt",
     "evalue": "",
     "output_type": "error",
     "traceback": [
      "\u001b[0;31m---------------------------------------------------------------------------\u001b[0m",
      "\u001b[0;31mKeyboardInterrupt\u001b[0m                         Traceback (most recent call last)",
      "\u001b[0;32m/tmp/ipykernel_3220/3967116547.py\u001b[0m in \u001b[0;36m<module>\u001b[0;34m\u001b[0m\n\u001b[1;32m     72\u001b[0m \u001b[0;34m\u001b[0m\u001b[0m\n\u001b[1;32m     73\u001b[0m     \u001b[0;32mif\u001b[0m \u001b[0mmemory\u001b[0m\u001b[0;34m.\u001b[0m\u001b[0msize\u001b[0m\u001b[0;34m(\u001b[0m\u001b[0;34m)\u001b[0m \u001b[0;34m>\u001b[0m \u001b[0;36m4000\u001b[0m\u001b[0;34m:\u001b[0m\u001b[0;34m\u001b[0m\u001b[0;34m\u001b[0m\u001b[0m\n\u001b[0;32m---> 74\u001b[0;31m         \u001b[0mtrain\u001b[0m\u001b[0;34m(\u001b[0m\u001b[0mq\u001b[0m\u001b[0;34m,\u001b[0m \u001b[0mq_target\u001b[0m\u001b[0;34m,\u001b[0m \u001b[0mmemory\u001b[0m\u001b[0;34m,\u001b[0m \u001b[0moptimizer\u001b[0m\u001b[0;34m)\u001b[0m\u001b[0;34m\u001b[0m\u001b[0;34m\u001b[0m\u001b[0m\n\u001b[0m\u001b[1;32m     75\u001b[0m \u001b[0;34m\u001b[0m\u001b[0m\n\u001b[1;32m     76\u001b[0m \u001b[0;34m\u001b[0m\u001b[0m\n",
      "\u001b[0;32m/tmp/ipykernel_3220/1022817813.py\u001b[0m in \u001b[0;36mtrain\u001b[0;34m(q, q_target, memory, optimizer)\u001b[0m\n\u001b[1;32m     84\u001b[0m \u001b[0;34m\u001b[0m\u001b[0m\n\u001b[1;32m     85\u001b[0m         \u001b[0moptimizer\u001b[0m\u001b[0;34m.\u001b[0m\u001b[0mzero_grad\u001b[0m\u001b[0;34m(\u001b[0m\u001b[0;34m)\u001b[0m \u001b[0;31m# optimizer 의 모든 parameter 를 0으로 변환\u001b[0m\u001b[0;34m\u001b[0m\u001b[0;34m\u001b[0m\u001b[0m\n\u001b[0;32m---> 86\u001b[0;31m         \u001b[0mloss\u001b[0m\u001b[0;34m.\u001b[0m\u001b[0mbackward\u001b[0m\u001b[0;34m(\u001b[0m\u001b[0;34m)\u001b[0m \u001b[0;31m# loss 에 대한 gradient 계산\u001b[0m\u001b[0;34m\u001b[0m\u001b[0;34m\u001b[0m\u001b[0m\n\u001b[0m\u001b[1;32m     87\u001b[0m         \u001b[0moptimizer\u001b[0m\u001b[0;34m.\u001b[0m\u001b[0mstep\u001b[0m\u001b[0;34m(\u001b[0m\u001b[0;34m)\u001b[0m \u001b[0;31m# 손실값을 바탕으로 Qnet 의 파라미터 업데이트\u001b[0m\u001b[0;34m\u001b[0m\u001b[0;34m\u001b[0m\u001b[0m\n\u001b[1;32m     88\u001b[0m \u001b[0;34m\u001b[0m\u001b[0m\n",
      "\u001b[0;32m~/anaconda3/envs/test/lib/python3.7/site-packages/torch/_tensor.py\u001b[0m in \u001b[0;36mbackward\u001b[0;34m(self, gradient, retain_graph, create_graph, inputs)\u001b[0m\n\u001b[1;32m    361\u001b[0m                 \u001b[0mcreate_graph\u001b[0m\u001b[0;34m=\u001b[0m\u001b[0mcreate_graph\u001b[0m\u001b[0;34m,\u001b[0m\u001b[0;34m\u001b[0m\u001b[0;34m\u001b[0m\u001b[0m\n\u001b[1;32m    362\u001b[0m                 inputs=inputs)\n\u001b[0;32m--> 363\u001b[0;31m         \u001b[0mtorch\u001b[0m\u001b[0;34m.\u001b[0m\u001b[0mautograd\u001b[0m\u001b[0;34m.\u001b[0m\u001b[0mbackward\u001b[0m\u001b[0;34m(\u001b[0m\u001b[0mself\u001b[0m\u001b[0;34m,\u001b[0m \u001b[0mgradient\u001b[0m\u001b[0;34m,\u001b[0m \u001b[0mretain_graph\u001b[0m\u001b[0;34m,\u001b[0m \u001b[0mcreate_graph\u001b[0m\u001b[0;34m,\u001b[0m \u001b[0minputs\u001b[0m\u001b[0;34m=\u001b[0m\u001b[0minputs\u001b[0m\u001b[0;34m)\u001b[0m\u001b[0;34m\u001b[0m\u001b[0;34m\u001b[0m\u001b[0m\n\u001b[0m\u001b[1;32m    364\u001b[0m \u001b[0;34m\u001b[0m\u001b[0m\n\u001b[1;32m    365\u001b[0m     \u001b[0;32mdef\u001b[0m \u001b[0mregister_hook\u001b[0m\u001b[0;34m(\u001b[0m\u001b[0mself\u001b[0m\u001b[0;34m,\u001b[0m \u001b[0mhook\u001b[0m\u001b[0;34m)\u001b[0m\u001b[0;34m:\u001b[0m\u001b[0;34m\u001b[0m\u001b[0;34m\u001b[0m\u001b[0m\n",
      "\u001b[0;32m~/anaconda3/envs/test/lib/python3.7/site-packages/torch/autograd/__init__.py\u001b[0m in \u001b[0;36mbackward\u001b[0;34m(tensors, grad_tensors, retain_graph, create_graph, grad_variables, inputs)\u001b[0m\n\u001b[1;32m    173\u001b[0m     Variable._execution_engine.run_backward(  # Calls into the C++ engine to run the backward pass\n\u001b[1;32m    174\u001b[0m         \u001b[0mtensors\u001b[0m\u001b[0;34m,\u001b[0m \u001b[0mgrad_tensors_\u001b[0m\u001b[0;34m,\u001b[0m \u001b[0mretain_graph\u001b[0m\u001b[0;34m,\u001b[0m \u001b[0mcreate_graph\u001b[0m\u001b[0;34m,\u001b[0m \u001b[0minputs\u001b[0m\u001b[0;34m,\u001b[0m\u001b[0;34m\u001b[0m\u001b[0;34m\u001b[0m\u001b[0m\n\u001b[0;32m--> 175\u001b[0;31m         allow_unreachable=True, accumulate_grad=True)  # Calls into the C++ engine to run the backward pass\n\u001b[0m\u001b[1;32m    176\u001b[0m \u001b[0;34m\u001b[0m\u001b[0m\n\u001b[1;32m    177\u001b[0m def grad(\n",
      "\u001b[0;31mKeyboardInterrupt\u001b[0m: "
     ]
    }
   ],
   "source": [
    "import collections\n",
    "from Sim import *\n",
    "\n",
    "\n",
    "learning_rate = 0.0001\n",
    "gamma = 0.99\n",
    "buffer_limit  = 100000\n",
    "batch_size = 128\n",
    "\n",
    "USE_CUDA = torch.cuda.is_available()\n",
    "device = torch.device('cuda:0' if USE_CUDA else 'cpu')\n",
    "\n",
    "env = Simulator()\n",
    "\n",
    "memory = ReplayBuffer()\n",
    "q = QnetCNN().to(device)\n",
    "q_target = QnetCNN().to(device)\n",
    "q_target.load_state_dict(q.state_dict()) # 현재 Qnet 의 파라미터를 q_target 에 load\n",
    "\n",
    "optimizer = optim.RMSprop(q.parameters(), lr = learning_rate) # loss 값을 바탕으로 업데이트할 비율 (q_target 말고 q 만 업데이트)\n",
    "\n",
    "print_interval = 100\n",
    "score = 0.0\n",
    "\n",
    "\n",
    "files = pd.read_csv(\"./data/factory_order_train.csv\")\n",
    "    \n",
    "    \n",
    "for epi in tqdm(range(120000)): \n",
    "\n",
    "    if epi%100 == 0:\n",
    "        model_save(q.state_dict(), optimizer.state_dict(), epi)\n",
    "        \n",
    "    items = list(files.iloc[0])[0]             #     [epi%39990])[0]\n",
    "    \n",
    "    epsilon = max(0.1, 0.50 - 0.02 * (epi//200))\n",
    "\n",
    "    s = env.reset(0)\n",
    "    \n",
    "    done = False\n",
    "    first = True\n",
    "    a_step = 0\n",
    "    \n",
    "    while not done:\n",
    "        \n",
    "        # Action choose\n",
    "        if first:\n",
    "            a = 0\n",
    "            first = False\n",
    "        \n",
    "        else:\n",
    "            a = q.sample_action(torch.from_numpy(s).float(), epsilon) \n",
    "            \n",
    "        grid, s_prime, r, cumul, done, goal_reward = env.step(a)\n",
    "\n",
    "        s = s_prime\n",
    "        \n",
    "        # Calculate\n",
    "        done_mask = 0.0 if done else 1.0\n",
    "        memory.put((s,a,r, s_prime, done_mask))\n",
    "        \n",
    "        score += r\n",
    "        a_step +=1\n",
    "        \n",
    "        \n",
    "        if a_step > 500:\n",
    "            break\n",
    "  \n",
    "        \n",
    "        if done :\n",
    "            break\n",
    "            \n",
    "    if memory.size() > 4000:\n",
    "        train(q, q_target, memory, optimizer)\n",
    "        \n",
    "        \n",
    "    if epi%print_interval==0 and epi != 0: \n",
    "        action = ['↑', '↓', '←', '→'][a]\n",
    "        print(f'{epi} 에서 챙기는 아이템 : {items}\\n마지막 행동 : {action}\\n 그 때의 마지막 상태 :\\n{grid}\\n마지막 보상 : {r}\\n 총 받은 보상 :{cumul}')\n",
    "        q_target.load_state_dict(q.state_dict()) #q_target 지금걸로 업데이트\n",
    "        print(f\"score = {int(score/print_interval)}, n_buffer : {memory.size()}, eps : {epsilon*100}\")\n",
    "        score = 0.0\n",
    "        \n",
    "        \n",
    "    "
   ]
  },
  {
   "cell_type": "code",
   "execution_count": null,
   "id": "b0509555",
   "metadata": {},
   "outputs": [],
   "source": []
  }
 ],
 "metadata": {
  "kernelspec": {
   "display_name": "Python 3 (ipykernel)",
   "language": "python",
   "name": "python3"
  },
  "language_info": {
   "codemirror_mode": {
    "name": "ipython",
    "version": 3
   },
   "file_extension": ".py",
   "mimetype": "text/x-python",
   "name": "python",
   "nbconvert_exporter": "python",
   "pygments_lexer": "ipython3",
   "version": "3.7.13"
  }
 },
 "nbformat": 4,
 "nbformat_minor": 5
}
