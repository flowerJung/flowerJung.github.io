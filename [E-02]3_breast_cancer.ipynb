{
 "cells": [
  {
   "cell_type": "markdown",
   "id": "24a92b7d",
   "metadata": {},
   "source": [
    "# (3) load_breast_cancer : 유방암여부 진단\n",
    "\n",
    "## 1 필요한 모듈 import하기"
   ]
  },
  {
   "cell_type": "code",
   "execution_count": 1,
   "id": "1983cbfc",
   "metadata": {},
   "outputs": [],
   "source": [
    "from sklearn.datasets import load_breast_cancer\n",
    "from sklearn.model_selection import train_test_split\n",
    "from sklearn.metrics import classification_report"
   ]
  },
  {
   "cell_type": "markdown",
   "id": "fbe4aea7",
   "metadata": {},
   "source": [
    "## 2  데이터 준비 - load_breast 메서드를 사용"
   ]
  },
  {
   "cell_type": "code",
   "execution_count": 2,
   "id": "1eea006e",
   "metadata": {},
   "outputs": [
    {
     "name": "stdout",
     "output_type": "stream",
     "text": [
      "['DESCR', 'data', 'data_module', 'feature_names', 'filename', 'frame', 'target', 'target_names']\n"
     ]
    }
   ],
   "source": [
    "breast = load_breast_cancer()\n",
    "\n",
    "print(dir(breast))"
   ]
  },
  {
   "cell_type": "markdown",
   "id": "3c42f8c2",
   "metadata": {},
   "source": [
    "## 3 데이터 이해하기"
   ]
  },
  {
   "cell_type": "code",
   "execution_count": 3,
   "id": "e5b063b3",
   "metadata": {},
   "outputs": [
    {
     "name": "stdout",
     "output_type": "stream",
     "text": [
      "breast_data의 배열구조:  (569, 30)\n",
      "breast_label의 배열구조: (569,)\n"
     ]
    }
   ],
   "source": [
    "# 데이터와 타겟의 이름을 재정의하고 배열 구조 확인\n",
    "breast_data = breast.data\n",
    "breast_label = breast.target\n",
    "\n",
    "print(\"breast_data의 배열구조: \", breast_data.shape)\n",
    "print(\"breast_label의 배열구조:\", breast_label.shape)"
   ]
  },
  {
   "cell_type": "code",
   "execution_count": 4,
   "id": "b2d67388",
   "metadata": {},
   "outputs": [
    {
     "name": "stdout",
     "output_type": "stream",
     "text": [
      "타겟 이름 확인: ['mean radius' 'mean texture' 'mean perimeter' 'mean area'\n",
      " 'mean smoothness' 'mean compactness' 'mean concavity'\n",
      " 'mean concave points' 'mean symmetry' 'mean fractal dimension'\n",
      " 'radius error' 'texture error' 'perimeter error' 'area error'\n",
      " 'smoothness error' 'compactness error' 'concavity error'\n",
      " 'concave points error' 'symmetry error' 'fractal dimension error'\n",
      " 'worst radius' 'worst texture' 'worst perimeter' 'worst area'\n",
      " 'worst smoothness' 'worst compactness' 'worst concavity'\n",
      " 'worst concave points' 'worst symmetry' 'worst fractal dimension']\n"
     ]
    }
   ],
   "source": [
    "# 특성 이름 확인하기\n",
    "print(\"타겟 이름 확인:\", breast.feature_names)"
   ]
  },
  {
   "cell_type": "code",
   "execution_count": 5,
   "id": "31629e73",
   "metadata": {},
   "outputs": [
    {
     "name": "stdout",
     "output_type": "stream",
     "text": [
      "타겟 이름 확인: ['malignant' 'benign']\n"
     ]
    }
   ],
   "source": [
    "# 타겟 이름 확인하기\n",
    "print(\"타겟 이름 확인:\", breast.target_names)"
   ]
  },
  {
   "cell_type": "code",
   "execution_count": 7,
   "id": "1e71a036",
   "metadata": {
    "scrolled": false
   },
   "outputs": [
    {
     "name": "stdout",
     "output_type": "stream",
     "text": [
      ".. _breast_cancer_dataset:\n",
      "\n",
      "Breast cancer wisconsin (diagnostic) dataset\n",
      "--------------------------------------------\n",
      "\n",
      "**Data Set Characteristics:**\n",
      "\n",
      "    :Number of Instances: 569\n",
      "\n",
      "    :Number of Attributes: 30 numeric, predictive attributes and the class\n",
      "\n",
      "    :Attribute Information:\n",
      "        - radius (mean of distances from center to points on the perimeter)\n",
      "        - texture (standard deviation of gray-scale values)\n",
      "        - perimeter\n",
      "        - area\n",
      "        - smoothness (local variation in radius lengths)\n",
      "        - compactness (perimeter^2 / area - 1.0)\n",
      "        - concavity (severity of concave portions of the contour)\n",
      "        - concave points (number of concave portions of the contour)\n",
      "        - symmetry\n",
      "        - fractal dimension (\"coastline approximation\" - 1)\n",
      "\n",
      "        The mean, standard error, and \"worst\" or largest (mean of the three\n",
      "        worst/largest values) of these features were computed for each image,\n",
      "        resulting in 30 features.  For instance, field 0 is Mean Radius, field\n",
      "        10 is Radius SE, field 20 is Worst Radius.\n",
      "\n",
      "        - class:\n",
      "                - WDBC-Malignant\n",
      "                - WDBC-Benign\n",
      "\n",
      "    :Summary Statistics:\n",
      "\n",
      "    ===================================== ====== ======\n",
      "                                           Min    Max\n",
      "    ===================================== ====== ======\n",
      "    radius (mean):                        6.981  28.11\n",
      "    texture (mean):                       9.71   39.28\n",
      "    perimeter (mean):                     43.79  188.5\n",
      "    area (mean):                          143.5  2501.0\n",
      "    smoothness (mean):                    0.053  0.163\n",
      "    compactness (mean):                   0.019  0.345\n",
      "    concavity (mean):                     0.0    0.427\n",
      "    concave points (mean):                0.0    0.201\n",
      "    symmetry (mean):                      0.106  0.304\n",
      "    fractal dimension (mean):             0.05   0.097\n",
      "    radius (standard error):              0.112  2.873\n",
      "    texture (standard error):             0.36   4.885\n",
      "    perimeter (standard error):           0.757  21.98\n",
      "    area (standard error):                6.802  542.2\n",
      "    smoothness (standard error):          0.002  0.031\n",
      "    compactness (standard error):         0.002  0.135\n",
      "    concavity (standard error):           0.0    0.396\n",
      "    concave points (standard error):      0.0    0.053\n",
      "    symmetry (standard error):            0.008  0.079\n",
      "    fractal dimension (standard error):   0.001  0.03\n",
      "    radius (worst):                       7.93   36.04\n",
      "    texture (worst):                      12.02  49.54\n",
      "    perimeter (worst):                    50.41  251.2\n",
      "    area (worst):                         185.2  4254.0\n",
      "    smoothness (worst):                   0.071  0.223\n",
      "    compactness (worst):                  0.027  1.058\n",
      "    concavity (worst):                    0.0    1.252\n",
      "    concave points (worst):               0.0    0.291\n",
      "    symmetry (worst):                     0.156  0.664\n",
      "    fractal dimension (worst):            0.055  0.208\n",
      "    ===================================== ====== ======\n",
      "\n",
      "    :Missing Attribute Values: None\n",
      "\n",
      "    :Class Distribution: 212 - Malignant, 357 - Benign\n",
      "\n",
      "    :Creator:  Dr. William H. Wolberg, W. Nick Street, Olvi L. Mangasarian\n",
      "\n",
      "    :Donor: Nick Street\n",
      "\n",
      "    :Date: November, 1995\n",
      "\n",
      "This is a copy of UCI ML Breast Cancer Wisconsin (Diagnostic) datasets.\n",
      "https://goo.gl/U2Uwz2\n",
      "\n",
      "Features are computed from a digitized image of a fine needle\n",
      "aspirate (FNA) of a breast mass.  They describe\n",
      "characteristics of the cell nuclei present in the image.\n",
      "\n",
      "Separating plane described above was obtained using\n",
      "Multisurface Method-Tree (MSM-T) [K. P. Bennett, \"Decision Tree\n",
      "Construction Via Linear Programming.\" Proceedings of the 4th\n",
      "Midwest Artificial Intelligence and Cognitive Science Society,\n",
      "pp. 97-101, 1992], a classification method which uses linear\n",
      "programming to construct a decision tree.  Relevant features\n",
      "were selected using an exhaustive search in the space of 1-4\n",
      "features and 1-3 separating planes.\n",
      "\n",
      "The actual linear program used to obtain the separating plane\n",
      "in the 3-dimensional space is that described in:\n",
      "[K. P. Bennett and O. L. Mangasarian: \"Robust Linear\n",
      "Programming Discrimination of Two Linearly Inseparable Sets\",\n",
      "Optimization Methods and Software 1, 1992, 23-34].\n",
      "\n",
      "This database is also available through the UW CS ftp server:\n",
      "\n",
      "ftp ftp.cs.wisc.edu\n",
      "cd math-prog/cpo-dataset/machine-learn/WDBC/\n",
      "\n",
      ".. topic:: References\n",
      "\n",
      "   - W.N. Street, W.H. Wolberg and O.L. Mangasarian. Nuclear feature extraction \n",
      "     for breast tumor diagnosis. IS&T/SPIE 1993 International Symposium on \n",
      "     Electronic Imaging: Science and Technology, volume 1905, pages 861-870,\n",
      "     San Jose, CA, 1993.\n",
      "   - O.L. Mangasarian, W.N. Street and W.H. Wolberg. Breast cancer diagnosis and \n",
      "     prognosis via linear programming. Operations Research, 43(4), pages 570-577, \n",
      "     July-August 1995.\n",
      "   - W.H. Wolberg, W.N. Street, and O.L. Mangasarian. Machine learning techniques\n",
      "     to diagnose breast cancer from fine-needle aspirates. Cancer Letters 77 (1994) \n",
      "     163-171.\n"
     ]
    }
   ],
   "source": [
    "# 데이터 Describe 해 보기\n",
    "print(breast.DESCR)"
   ]
  },
  {
   "cell_type": "markdown",
   "id": "89ca38cc",
   "metadata": {},
   "source": [
    "## 4 train, test 데이터 분리"
   ]
  },
  {
   "cell_type": "code",
   "execution_count": 8,
   "id": "23b6f340",
   "metadata": {},
   "outputs": [
    {
     "name": "stdout",
     "output_type": "stream",
     "text": [
      "X_train 개수 : 455 , X_test 개수 : 114\n"
     ]
    }
   ],
   "source": [
    "X_train, X_test, y_train, y_test = train_test_split(breast_data, breast_label, test_size=0.2, random_state=42)\n",
    "\n",
    "print('X_train 개수 :', len(X_train),', X_test 개수 :', len(X_test))"
   ]
  },
  {
   "cell_type": "code",
   "execution_count": 9,
   "id": "b625dca2",
   "metadata": {},
   "outputs": [
    {
     "name": "stdout",
     "output_type": "stream",
     "text": [
      "X_train 배열구조 : (455, 30)    y_train 배열구조 : (455,)\n",
      "X_test 배열구조 : (114, 30)    y_test 배열구조 : (114,)\n"
     ]
    }
   ],
   "source": [
    "print(\"X_train 배열구조 :\", X_train.shape, \"   y_train 배열구조 :\", y_train.shape)\n",
    "print(\"X_test 배열구조 :\", X_test.shape, \"   y_test 배열구조 :\", y_test.shape)"
   ]
  },
  {
   "cell_type": "markdown",
   "id": "029bea43",
   "metadata": {},
   "source": [
    "## 5 다양한 모델로 학습시켜보기\n",
    "- Decision Tree 사용해 보기\n",
    "- Random Forest 사용해 보기\n",
    "- SVM 사용해 보기\n",
    "- SGD Classifier 사용해 보기\n",
    "- Logistic Regression 사용해 보기"
   ]
  },
  {
   "cell_type": "markdown",
   "id": "bea0fe63",
   "metadata": {},
   "source": [
    "### Decision Tree 모델로 학습, 평가하기"
   ]
  },
  {
   "cell_type": "code",
   "execution_count": 10,
   "id": "5803c617",
   "metadata": {},
   "outputs": [
    {
     "name": "stdout",
     "output_type": "stream",
     "text": [
      "Decision Tree 모델의 정확도 : 0.9473684210526315 \n",
      "\n",
      "Decision Tree 모델의 분류 성능표 \n",
      "               precision    recall  f1-score   support\n",
      "\n",
      "           0       0.93      0.93      0.93        43\n",
      "           1       0.96      0.96      0.96        71\n",
      "\n",
      "    accuracy                           0.95       114\n",
      "   macro avg       0.94      0.94      0.94       114\n",
      "weighted avg       0.95      0.95      0.95       114\n",
      "\n"
     ]
    }
   ],
   "source": [
    "from sklearn.tree import DecisionTreeClassifier\n",
    "from sklearn.metrics import accuracy_score\n",
    "\n",
    "# Decision Tree 모델 만들기\n",
    "decision_tree = DecisionTreeClassifier(random_state=32)\n",
    "\n",
    "# Decision Tree 모델로 훈련\n",
    "decision_tree.fit(X_train, y_train)\n",
    "\n",
    "# 테스트 데이터의 예상값 저장\n",
    "y_pred = decision_tree.predict(X_test)\n",
    "\n",
    "# 모델 정확도 알아보기1\n",
    "accuracy = accuracy_score(y_test, y_pred)\n",
    "print(\"Decision Tree 모델의 정확도 :\", accuracy, \"\\n\")\n",
    "\n",
    "# 모델 분류 성능표\n",
    "print(\"Decision Tree 모델의 분류 성능표 \\n\", classification_report(y_test, y_pred))"
   ]
  },
  {
   "cell_type": "markdown",
   "id": "33de1462",
   "metadata": {},
   "source": [
    "### Random Forest 모델로 학습, 평가하기"
   ]
  },
  {
   "cell_type": "code",
   "execution_count": 11,
   "id": "4a3295ed",
   "metadata": {},
   "outputs": [
    {
     "name": "stdout",
     "output_type": "stream",
     "text": [
      "RandomForest 모델의 정확도 : 0.9649122807017544 \n",
      "\n",
      "RandomForest 모델의 분류 성능표 \n",
      "               precision    recall  f1-score   support\n",
      "\n",
      "           0       0.98      0.93      0.95        43\n",
      "           1       0.96      0.99      0.97        71\n",
      "\n",
      "    accuracy                           0.96       114\n",
      "   macro avg       0.97      0.96      0.96       114\n",
      "weighted avg       0.97      0.96      0.96       114\n",
      "\n"
     ]
    }
   ],
   "source": [
    "from sklearn.ensemble import RandomForestClassifier\n",
    "\n",
    "# RandomForestClassifier 모델 생성\n",
    "random_forest = RandomForestClassifier(random_state=32)\n",
    "\n",
    "# RandomForestClassifier 모델 훈련\n",
    "random_forest.fit(X_train, y_train)\n",
    "\n",
    "# 테스트 데이터의 예상값 저장\n",
    "y_pred = random_forest.predict(X_test)\n",
    "\n",
    "# 모델 정확도 알아보기\n",
    "accuracy = accuracy_score(y_test, y_pred)\n",
    "print(\"RandomForest 모델의 정확도 :\", accuracy, \"\\n\")\n",
    "\n",
    "# 모델 분류 성능표\n",
    "print(\"RandomForest 모델의 분류 성능표 \\n\", classification_report(y_test, y_pred))"
   ]
  },
  {
   "cell_type": "markdown",
   "id": "addd9560",
   "metadata": {},
   "source": [
    "### SVM 모델로 학습, 평가하기"
   ]
  },
  {
   "cell_type": "code",
   "execution_count": 12,
   "id": "a2ebc72f",
   "metadata": {},
   "outputs": [
    {
     "name": "stdout",
     "output_type": "stream",
     "text": [
      "SVM 모델의 정확도 : 0.9473684210526315 \n",
      "\n",
      "SVM 모델의 분류 성능표 \n",
      "               precision    recall  f1-score   support\n",
      "\n",
      "           0       1.00      0.86      0.92        43\n",
      "           1       0.92      1.00      0.96        71\n",
      "\n",
      "    accuracy                           0.95       114\n",
      "   macro avg       0.96      0.93      0.94       114\n",
      "weighted avg       0.95      0.95      0.95       114\n",
      "\n"
     ]
    }
   ],
   "source": [
    "from sklearn import svm\n",
    "\n",
    "# SVM 모델 생성\n",
    "svm_model = svm.SVC()\n",
    "\n",
    "# SVM 모델 훈련\n",
    "svm_model.fit(X_train, y_train)\n",
    "\n",
    "# 테스트 데이터의 예상값 저장\n",
    "y_pred = svm_model.predict(X_test)\n",
    "\n",
    "# 모델 정확도 알아보기\n",
    "accuracy = accuracy_score(y_test, y_pred)\n",
    "print(\"SVM 모델의 정확도 :\", accuracy, \"\\n\")\n",
    "\n",
    "## 모델 분류 성능표\n",
    "print(\"SVM 모델의 분류 성능표 \\n\", classification_report(y_test, y_pred))"
   ]
  },
  {
   "cell_type": "markdown",
   "id": "61492e8a",
   "metadata": {},
   "source": [
    "### SGD Classifier 모델로 학습, 평가하기"
   ]
  },
  {
   "cell_type": "code",
   "execution_count": 13,
   "id": "ad08d2ec",
   "metadata": {
    "scrolled": true
   },
   "outputs": [
    {
     "name": "stdout",
     "output_type": "stream",
     "text": [
      "SGD 모델의 정확도 : 0.9298245614035088 \n",
      "\n",
      "SGD 모델의 분류 성능표 \n",
      "               precision    recall  f1-score   support\n",
      "\n",
      "           0       0.84      1.00      0.91        43\n",
      "           1       1.00      0.89      0.94        71\n",
      "\n",
      "    accuracy                           0.93       114\n",
      "   macro avg       0.92      0.94      0.93       114\n",
      "weighted avg       0.94      0.93      0.93       114\n",
      "\n"
     ]
    }
   ],
   "source": [
    "from sklearn.linear_model import SGDClassifier\n",
    "\n",
    "# SGD 모델 생성\n",
    "sgd_model = SGDClassifier()\n",
    "\n",
    "# SGD 모델 훈련\n",
    "sgd_model.fit(X_train, y_train)\n",
    "\n",
    "# 테스트 데이터의 예상값 저장\n",
    "y_pred = sgd_model.predict(X_test)\n",
    "\n",
    "# 모델 정확도 알아보기\n",
    "accuracy = accuracy_score(y_test, y_pred)\n",
    "print(\"SGD 모델의 정확도 :\", accuracy, \"\\n\")\n",
    "\n",
    "# 모델 분류 성능표\n",
    "print(\"SGD 모델의 분류 성능표 \\n\", classification_report(y_test, y_pred))"
   ]
  },
  {
   "cell_type": "markdown",
   "id": "c5e88cc6",
   "metadata": {},
   "source": [
    "### Logistic Regression 모델로 학습, 평가하기"
   ]
  },
  {
   "cell_type": "code",
   "execution_count": 14,
   "id": "714bfb59",
   "metadata": {},
   "outputs": [
    {
     "name": "stdout",
     "output_type": "stream",
     "text": [
      "Logistic Regression 모델의 정확도 : 0.956140350877193 \n",
      "\n",
      "Logistic Regression 모델의 분류 성능표 \n",
      "               precision    recall  f1-score   support\n",
      "\n",
      "           0       0.97      0.91      0.94        43\n",
      "           1       0.95      0.99      0.97        71\n",
      "\n",
      "    accuracy                           0.96       114\n",
      "   macro avg       0.96      0.95      0.95       114\n",
      "weighted avg       0.96      0.96      0.96       114\n",
      "\n"
     ]
    },
    {
     "name": "stderr",
     "output_type": "stream",
     "text": [
      "/opt/conda/lib/python3.9/site-packages/sklearn/linear_model/_logistic.py:814: ConvergenceWarning: lbfgs failed to converge (status=1):\n",
      "STOP: TOTAL NO. of ITERATIONS REACHED LIMIT.\n",
      "\n",
      "Increase the number of iterations (max_iter) or scale the data as shown in:\n",
      "    https://scikit-learn.org/stable/modules/preprocessing.html\n",
      "Please also refer to the documentation for alternative solver options:\n",
      "    https://scikit-learn.org/stable/modules/linear_model.html#logistic-regression\n",
      "  n_iter_i = _check_optimize_result(\n"
     ]
    }
   ],
   "source": [
    "from sklearn.linear_model import LogisticRegression\n",
    "\n",
    "logistic_model = LogisticRegression()\n",
    "\n",
    "# Logistic Regression 모델 훈련\n",
    "logistic_model.fit(X_train, y_train)\n",
    "\n",
    "# 테스트 데이터의 예상값 저장\n",
    "y_pred = logistic_model.predict(X_test)\n",
    "\n",
    "# 모델 정확도 알아보기\n",
    "accuracy = accuracy_score(y_test, y_pred)\n",
    "print(\"Logistic Regression 모델의 정확도 :\", accuracy, \"\\n\")\n",
    "\n",
    "# 모델 분류 성능표\n",
    "print(\"Logistic Regression 모델의 분류 성능표 \\n\", classification_report(y_test, y_pred))"
   ]
  },
  {
   "cell_type": "markdown",
   "id": "2a9f19a5",
   "metadata": {},
   "source": [
    "#### Logistic Regression 모델 훈련 후 평가를 했더니 빨간 경고문이 뜬다.\n",
    " 경고문이 싫어서 번역을 해 보았더니 max_iter를 늘이거나 데이터 크기를 조정하라고 하네요..<br>\n",
    " 주어진 데이터이니 데이터 크기를 조정할 수 없어 <br>\n",
    " max_iter' 하이퍼파라미터를 조정했습니다. "
   ]
  },
  {
   "cell_type": "code",
   "execution_count": 15,
   "id": "0a75764c",
   "metadata": {},
   "outputs": [
    {
     "name": "stdout",
     "output_type": "stream",
     "text": [
      "Logistic Regression 모델의 정확도 : 0.956140350877193 \n",
      "\n",
      "Logistic Regression 모델의 분류 성능표 \n",
      "               precision    recall  f1-score   support\n",
      "\n",
      "           0       0.97      0.91      0.94        43\n",
      "           1       0.95      0.99      0.97        71\n",
      "\n",
      "    accuracy                           0.96       114\n",
      "   macro avg       0.96      0.95      0.95       114\n",
      "weighted avg       0.96      0.96      0.96       114\n",
      "\n"
     ]
    }
   ],
   "source": [
    "from sklearn.linear_model import LogisticRegression\n",
    "\n",
    "logistic_model = LogisticRegression(max_iter = 2500)\n",
    "\n",
    "# Logistic Regression 모델 훈련\n",
    "logistic_model.fit(X_train, y_train)\n",
    "\n",
    "# 테스트 데이터의 예상값 저장\n",
    "y_pred = logistic_model.predict(X_test)\n",
    "\n",
    "# 모델 정확도 알아보기\n",
    "accuracy = accuracy_score(y_test, y_pred)\n",
    "print(\"Logistic Regression 모델의 정확도 :\", accuracy, \"\\n\")\n",
    "\n",
    "# 모델 분류 성능표\n",
    "print(\"Logistic Regression 모델의 분류 성능표 \\n\", classification_report(y_test, y_pred))"
   ]
  },
  {
   "cell_type": "markdown",
   "id": "6ae961af",
   "metadata": {},
   "source": [
    "##  6 모델평가하기\n",
    "\n",
    "### 유방암 판단에는 \n",
    "오차행렬에서 **recall지수**가 **낮은 것**이 좋은 모델이라고 판단해서<br>\n",
    "정확도보다는 recall지수가 낮은 **SVM모델**이 가장 좋은 모델이라고 생각합니다."
   ]
  }
 ],
 "metadata": {
  "kernelspec": {
   "display_name": "Python 3 (ipykernel)",
   "language": "python",
   "name": "python3"
  },
  "language_info": {
   "codemirror_mode": {
    "name": "ipython",
    "version": 3
   },
   "file_extension": ".py",
   "mimetype": "text/x-python",
   "name": "python",
   "nbconvert_exporter": "python",
   "pygments_lexer": "ipython3",
   "version": "3.9.7"
  }
 },
 "nbformat": 4,
 "nbformat_minor": 5
}
