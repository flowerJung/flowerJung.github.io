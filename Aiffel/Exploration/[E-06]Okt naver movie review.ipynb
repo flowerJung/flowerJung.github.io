{
 "cells": [
  {
   "attachments": {
    "image.png": {
     "image/png": "[encoded data removed]"
    }
   },
   "cell_type": "markdown",
   "id": "03a7059f",
   "metadata": {},
   "source": [
    "# 네이버 영화 리뷰\n",
    "\n",
    "###  [Naver sentiment movie corpus](https://github.com/e9t/nsmc) 사용\n",
    "\n",
    "![image.png](attachment:image.png)\n",
    "\n",
    "### 1) 데이터 준비와 확인\n",
    "\n",
    "#### gensim을 실행하기 위해 처음부터 확인"
   ]
  },
  {
   "cell_type": "code",
   "execution_count": 1,
   "id": "bed38ee5",
   "metadata": {},
   "outputs": [
    {
     "data": {
      "text/plain": [
       "'3.8.3'"
      ]
     },
     "execution_count": 1,
     "metadata": {},
     "output_type": "execute_result"
    }
   ],
   "source": [
    "# gensim 패키지 버전 알아보기\n",
    "\n",
    "import gensim\n",
    "gensim.__version__"
   ]
  },
  {
   "cell_type": "code",
   "execution_count": null,
   "id": "fd8177e3",
   "metadata": {},
   "outputs": [],
   "source": [
    "#!pip install --upgrade gensim==3.8.3 "
   ]
  },
  {
   "cell_type": "code",
   "execution_count": 2,
   "id": "b5e29058",
   "metadata": {},
   "outputs": [],
   "source": [
    "import pandas as pd\n",
    "import numpy as np\n",
    "import os\n",
    "\n",
    "import re\n",
    "from konlpy.tag import Okt\n",
    "\n",
    "from tqdm import tqdm\n",
    "\n",
    "%matplotlib inline\n",
    "import matplotlib.pyplot as plt\n",
    "\n",
    "import urllib.request # URL을 열기 위한 확장 가능한 라이브러리\n",
    "\n",
    "import tensorflow as tf\n",
    "from tensorflow import keras\n",
    "from tensorflow.keras.preprocessing.text import Tokenizer\n",
    "from tensorflow.keras.preprocessing.sequence import pad_sequences\n",
    "\n",
    "from collections import Counter"
   ]
  },
  {
   "cell_type": "code",
   "execution_count": 3,
   "id": "d8a66df1",
   "metadata": {},
   "outputs": [],
   "source": [
    "# 데이터를 읽어오기\n",
    "train_data = pd.read_table('~/aiffel/sentiment_classification/data/ratings_train.txt')\n",
    "test_data = pd.read_table('~/aiffel/sentiment_classification/data/ratings_test.txt')\n"
   ]
  },
  {
   "cell_type": "code",
   "execution_count": 4,
   "id": "fa55d2e0",
   "metadata": {},
   "outputs": [
    {
     "name": "stdout",
     "output_type": "stream",
     "text": [
      "훈련용 리뷰 개수 : 150000\n"
     ]
    },
    {
     "data": {
      "text/html": [
       "<div>\n",
       "<style scoped>\n",
       "    .dataframe tbody tr th:only-of-type {\n",
       "        vertical-align: middle;\n",
       "    }\n",
       "\n",
       "    .dataframe tbody tr th {\n",
       "        vertical-align: top;\n",
       "    }\n",
       "\n",
       "    .dataframe thead th {\n",
       "        text-align: right;\n",
       "    }\n",
       "</style>\n",
       "<table border=\"1\" class=\"dataframe\">\n",
       "  <thead>\n",
       "    <tr style=\"text-align: right;\">\n",
       "      <th></th>\n",
       "      <th>id</th>\n",
       "      <th>document</th>\n",
       "      <th>label</th>\n",
       "    </tr>\n",
       "  </thead>\n",
       "  <tbody>\n",
       "    <tr>\n",
       "      <th>0</th>\n",
       "      <td>9976970</td>\n",
       "      <td>아 더빙.. 진짜 짜증나네요 목소리</td>\n",
       "      <td>0</td>\n",
       "    </tr>\n",
       "    <tr>\n",
       "      <th>1</th>\n",
       "      <td>3819312</td>\n",
       "      <td>흠...포스터보고 초딩영화줄....오버연기조차 가볍지 않구나</td>\n",
       "      <td>1</td>\n",
       "    </tr>\n",
       "    <tr>\n",
       "      <th>2</th>\n",
       "      <td>10265843</td>\n",
       "      <td>너무재밓었다그래서보는것을추천한다</td>\n",
       "      <td>0</td>\n",
       "    </tr>\n",
       "    <tr>\n",
       "      <th>3</th>\n",
       "      <td>9045019</td>\n",
       "      <td>교도소 이야기구먼 ..솔직히 재미는 없다..평점 조정</td>\n",
       "      <td>0</td>\n",
       "    </tr>\n",
       "    <tr>\n",
       "      <th>4</th>\n",
       "      <td>6483659</td>\n",
       "      <td>사이몬페그의 익살스런 연기가 돋보였던 영화!스파이더맨에서 늙어보이기만 했던 커스틴 ...</td>\n",
       "      <td>1</td>\n",
       "    </tr>\n",
       "  </tbody>\n",
       "</table>\n",
       "</div>"
      ],
      "text/plain": [
       "         id                                           document  label\n",
       "0   9976970                                아 더빙.. 진짜 짜증나네요 목소리      0\n",
       "1   3819312                  흠...포스터보고 초딩영화줄....오버연기조차 가볍지 않구나      1\n",
       "2  10265843                                  너무재밓었다그래서보는것을추천한다      0\n",
       "3   9045019                      교도소 이야기구먼 ..솔직히 재미는 없다..평점 조정      0\n",
       "4   6483659  사이몬페그의 익살스런 연기가 돋보였던 영화!스파이더맨에서 늙어보이기만 했던 커스틴 ...      1"
      ]
     },
     "execution_count": 4,
     "metadata": {},
     "output_type": "execute_result"
    }
   ],
   "source": [
    "print('훈련용 리뷰 개수 :',len(train_data)) # 훈련용 리뷰 개수 출력\n",
    "train_data.head()"
   ]
  },
  {
   "cell_type": "code",
   "execution_count": 5,
   "id": "44c50776",
   "metadata": {},
   "outputs": [
    {
     "name": "stdout",
     "output_type": "stream",
     "text": [
      "테스트용 리뷰 개수 : 50000\n"
     ]
    },
    {
     "data": {
      "text/html": [
       "<div>\n",
       "<style scoped>\n",
       "    .dataframe tbody tr th:only-of-type {\n",
       "        vertical-align: middle;\n",
       "    }\n",
       "\n",
       "    .dataframe tbody tr th {\n",
       "        vertical-align: top;\n",
       "    }\n",
       "\n",
       "    .dataframe thead th {\n",
       "        text-align: right;\n",
       "    }\n",
       "</style>\n",
       "<table border=\"1\" class=\"dataframe\">\n",
       "  <thead>\n",
       "    <tr style=\"text-align: right;\">\n",
       "      <th></th>\n",
       "      <th>id</th>\n",
       "      <th>document</th>\n",
       "      <th>label</th>\n",
       "    </tr>\n",
       "  </thead>\n",
       "  <tbody>\n",
       "    <tr>\n",
       "      <th>0</th>\n",
       "      <td>6270596</td>\n",
       "      <td>굳 ㅋ</td>\n",
       "      <td>1</td>\n",
       "    </tr>\n",
       "    <tr>\n",
       "      <th>1</th>\n",
       "      <td>9274899</td>\n",
       "      <td>GDNTOPCLASSINTHECLUB</td>\n",
       "      <td>0</td>\n",
       "    </tr>\n",
       "    <tr>\n",
       "      <th>2</th>\n",
       "      <td>8544678</td>\n",
       "      <td>뭐야 이 평점들은.... 나쁘진 않지만 10점 짜리는 더더욱 아니잖아</td>\n",
       "      <td>0</td>\n",
       "    </tr>\n",
       "    <tr>\n",
       "      <th>3</th>\n",
       "      <td>6825595</td>\n",
       "      <td>지루하지는 않은데 완전 막장임... 돈주고 보기에는....</td>\n",
       "      <td>0</td>\n",
       "    </tr>\n",
       "    <tr>\n",
       "      <th>4</th>\n",
       "      <td>6723715</td>\n",
       "      <td>3D만 아니었어도 별 다섯 개 줬을텐데.. 왜 3D로 나와서 제 심기를 불편하게 하죠??</td>\n",
       "      <td>0</td>\n",
       "    </tr>\n",
       "  </tbody>\n",
       "</table>\n",
       "</div>"
      ],
      "text/plain": [
       "        id                                           document  label\n",
       "0  6270596                                                굳 ㅋ      1\n",
       "1  9274899                               GDNTOPCLASSINTHECLUB      0\n",
       "2  8544678             뭐야 이 평점들은.... 나쁘진 않지만 10점 짜리는 더더욱 아니잖아      0\n",
       "3  6825595                   지루하지는 않은데 완전 막장임... 돈주고 보기에는....      0\n",
       "4  6723715  3D만 아니었어도 별 다섯 개 줬을텐데.. 왜 3D로 나와서 제 심기를 불편하게 하죠??      0"
      ]
     },
     "execution_count": 5,
     "metadata": {},
     "output_type": "execute_result"
    }
   ],
   "source": [
    "print('테스트용 리뷰 개수 :',len(test_data)) # 테스트용 리뷰 개수 출력\n",
    "test_data.head()"
   ]
  },
  {
   "cell_type": "markdown",
   "id": "93b28ba4",
   "metadata": {},
   "source": [
    "## 2) 데이터로더 구성\n",
    "\n",
    "#### 전혀 가공되지 않은 텍스트 파일을 imdb.data_loader()와 동일하게 동작하는 자신만의 data_loader를 만들어 보는 것으로 시작\n",
    "\n",
    "### data_loader 안에서는 수행할 것들\n",
    "- 데이터의 중복 제거\n",
    "- NaN 결측치 제거\n",
    "- 한국어 토크나이저로 토큰화\n",
    "- 불용어(Stopwords) 제거\n",
    "- 사전word_to_index 구성\n",
    "- 텍스트 스트링을 사전 인덱스 스트링으로 변환\n",
    "- X_train, y_train, X_test, y_test, word_to_index 리턴"
   ]
  },
  {
   "cell_type": "markdown",
   "id": "f19cc8f3",
   "metadata": {},
   "source": [
    "### data_loader() - 훈련,테스트, 정답, 단어사전 반환 - Okt형태소 분석기 사용"
   ]
  },
  {
   "cell_type": "code",
   "execution_count": 6,
   "id": "10d7704d",
   "metadata": {},
   "outputs": [
    {
     "name": "stderr",
     "output_type": "stream",
     "text": [
      "100%|██████████| 145393/145393 [07:44<00:00, 313.19it/s]\n",
      "100%|██████████| 48852/48852 [02:51<00:00, 284.19it/s]\n"
     ]
    },
    {
     "name": "stdout",
     "output_type": "stream",
     "text": [
      "훈련 데이터의 개수 : 145393, 테스트 데이터의 개수 : 48852\n"
     ]
    }
   ],
   "source": [
    "\n",
    "okt = Okt()\n",
    "stopwords = ['의','가','이','은','들','는','좀','잘','걍','과','도','를','으로','자','에','와','한','하다']\n",
    "\n",
    "def load_data(train_data, test_data, num_words=10000): \n",
    "    \n",
    "    # 훈련 데이터 전철리\n",
    "    train_data.drop_duplicates(subset=['document'], inplace=True)  # 중복 데이터 제거   \n",
    "    train_data['document'] = train_data['document'].str.replace(\"[^ㄱ-ㅎㅏ-ㅣ가-힣 ]\", \"\", regex=True) # 정규 표현식으로 한글, 공백 외 문자 제거\n",
    "    train_data['document'] = train_data['document'].str.replace('^ +', \"\", regex=True)    # white space 데이터를 empty value로 변경\n",
    "    train_data['document'].replace('', np.nan, inplace=True)    # empty value를 Null 값으로 변경\n",
    "    train_data = train_data.dropna(how = 'any')      # Null 샘플 제거\n",
    "\n",
    "   \n",
    "    # 테스트 데이터 전처리 \n",
    "    test_data.drop_duplicates(subset=['document'], inplace=True)\n",
    "    test_data['document'] = test_data['document'].str.replace(\"[^ㄱ-ㅎㅏ-ㅣ가-힣 ]\", \"\", regex=True)\n",
    "    test_data['document'] = test_data['document'].str.replace('^ +', \"\", regex=True) \n",
    "    test_data['document'].replace('', np.nan, inplace=True)\n",
    "    test_data = test_data.dropna(how = 'any')   \n",
    "    \n",
    "            \n",
    "    # 토큰화, 불용어 제거한 단어 리스트\n",
    "    X_train = []\n",
    "    for sentence in tqdm(train_data['document']):\n",
    "        temp_X = okt.morphs(sentence, stem=True) # 형태소 분석\n",
    "        temp_X = [word for word in temp_X if not word in stopwords] # 불용어 제거\n",
    "        X_train.append(temp_X)\n",
    "\n",
    "    X_test = []\n",
    "    for sentence in tqdm(test_data['document']):\n",
    "        temp_X = okt.morphs(sentence, stem=True) # 토큰화\n",
    "        temp_X = [word for word in temp_X if not word in stopwords] # 불용어 제거\n",
    "        X_test.append(temp_X)\n",
    "    \n",
    "\n",
    "\n",
    "    # 단어사전 만들기\n",
    "    words = np.concatenate(X_train).tolist()     # 한 줄짜리 리스트 만들기\n",
    "    counter = Counter(words)                     # {단어: 출현 수} 딕셔너리 반환\n",
    "    counter = counter.most_common(10000-4)       # 출현수가 많은 것에서 9996개 리스트 반환\n",
    "    vocab = ['<PAD>', '<BOS>', '<UNK>', '<UNUSED>'] + [key for key, _ in counter] # 원소가 단어인 10000개의 리스트 \n",
    "    word_to_index = {word:index for index, word in enumerate(vocab)}  # {단어:인덱스} 단어사전\n",
    "      \n",
    "        \n",
    "    # 입력 문자가 단어사전에 있으면 단어사전 인덱스로 변환, 없으면 '<UNK>'의 인덱스를 반환하는 함수        \n",
    "    def wordlist_to_indexlist(wordlist):\n",
    "        return [word_to_index[word] if word in word_to_index else word_to_index['<UNK>'] for word in wordlist]\n",
    "      \n",
    "        \n",
    "    X_train = list(map(wordlist_to_indexlist, X_train))\n",
    "    X_test = list(map(wordlist_to_indexlist, X_test))\n",
    "        \n",
    "    return X_train, np.array(list(train_data['label'])), X_test, np.array(list(test_data['label'])), word_to_index\n",
    "    \n",
    "X_train, y_train, X_test, y_test, word_to_index = load_data(train_data, test_data)\n",
    "\n",
    "print(f\"훈련 데이터의 개수 : {len(X_train)}, 테스트 데이터의 개수 : {len(X_test)}\")"
   ]
  },
  {
   "cell_type": "markdown",
   "id": "75d7936b",
   "metadata": {},
   "source": [
    "## 3) 모델 구성을 위한 데이터 분석 및 가공\n",
    "- 데이터셋 내 문장 길이 분포\n",
    "- 적절한 최대 문장 길이 지정\n",
    "- keras.preprocessing.sequence.pad_sequences 을 활용한 패딩 추가"
   ]
  },
  {
   "cell_type": "code",
   "execution_count": 7,
   "id": "f8de7a97",
   "metadata": {
    "scrolled": true
   },
   "outputs": [
    {
     "name": "stdout",
     "output_type": "stream",
     "text": [
      "훈련데이터 개수 : 145380, 정답 개수 : 145380\n",
      "테스트 데이터 개수 : 48850, 정답 개수 : 48850\n"
     ]
    },
    {
     "name": "stderr",
     "output_type": "stream",
     "text": [
      "/opt/conda/lib/python3.9/site-packages/numpy/lib/function_base.py:4454: VisibleDeprecationWarning: Creating an ndarray from ragged nested sequences (which is a list-or-tuple of lists-or-tuples-or ndarrays with different lengths or shapes) is deprecated. If you meant to do this, you must specify 'dtype=object' when creating the ndarray.\n",
      "  arr = asarray(arr)\n"
     ]
    }
   ],
   "source": [
    "# 빈 리스트 제거\n",
    "drop_train = [index for index, sentence in enumerate(X_train) if len(sentence) < 1]\n",
    "drop_test = [index for index, sentence in enumerate(X_test) if len(sentence) < 1]\n",
    "\n",
    "X_train = np.delete(X_train, drop_train, axis=0)\n",
    "y_train = np.delete(y_train, drop_train, axis=0)\n",
    "X_test = np.delete(X_test, drop_test, axis=0)\n",
    "y_test = np.delete(y_test, drop_test, axis=0)\n",
    "\n",
    "print(f\"훈련데이터 개수 : {len(X_train)}, 정답 개수 : {len(y_train)}\")\n",
    "print(f\"테스트 데이터 개수 : {len(X_test)}, 정답 개수 : {len(y_test)}\")"
   ]
  },
  {
   "cell_type": "code",
   "execution_count": 8,
   "id": "33eba5b1",
   "metadata": {},
   "outputs": [
    {
     "data": {
      "image/png": "[encoded data removed]",
      "text/plain": [
       "<Figure size 432x288 with 1 Axes>"
      ]
     },
     "metadata": {
      "needs_background": "light"
     },
     "output_type": "display_data"
    }
   ],
   "source": [
    "# 문장의 분포 구하기\n",
    "train_len = []\n",
    "for i in X_train:\n",
    "    train_len.append(len(i))\n",
    "    \n",
    "plt.hist(x=train_len, bins=40, color=\"green\")\n",
    "plt.xlabel('Length')\n",
    "plt.ylabel('frequency')\n",
    "plt.title('Sentence Distribution')\n",
    "plt.show()"
   ]
  },
  {
   "cell_type": "code",
   "execution_count": 9,
   "id": "d1d26a20",
   "metadata": {},
   "outputs": [
    {
     "name": "stdout",
     "output_type": "stream",
     "text": [
      "문장의 최대길이 : 72\n",
      "문장의 평균길이 : 11.002187371027652\n",
      "입력문장의 최대길이 : 29\n"
     ]
    }
   ],
   "source": [
    "# 표준편차를 이용해 문장의 최대 길이 구하기\n",
    "\n",
    "max_len = int(np.mean(train_len) + np.std(train_len)*2)\n",
    "print(f\"문장의 최대길이 : {max(train_len)}\")\n",
    "print(f\"문장의 평균길이 : {np.mean(train_len)}\")\n",
    "print(f\"입력문장의 최대길이 : {max_len}\")"
   ]
  },
  {
   "cell_type": "markdown",
   "id": "98b3df53",
   "metadata": {},
   "source": [
    "### 문장 패딩 추가"
   ]
  },
  {
   "cell_type": "code",
   "execution_count": 10,
   "id": "4ca59ccd",
   "metadata": {},
   "outputs": [
    {
     "name": "stdout",
     "output_type": "stream",
     "text": [
      "(145380, 29)\n",
      "(145380,)\n"
     ]
    }
   ],
   "source": [
    "X_train = tf.keras.preprocessing.sequence.pad_sequences(X_train,\n",
    "                                                        padding='post', # 혹은 'pre'\n",
    "                                                        maxlen=max_len)\n",
    "\n",
    "X_test = tf.keras.preprocessing.sequence.pad_sequences(X_test,\n",
    "                                                       padding='post', # 혹은 'pre'\n",
    "                                                       maxlen=max_len)\n",
    "\n",
    "print(X_train.shape)\n",
    "print(y_train.shape)"
   ]
  },
  {
   "cell_type": "code",
   "execution_count": 11,
   "id": "e4663f11",
   "metadata": {},
   "outputs": [
    {
     "name": "stdout",
     "output_type": "stream",
     "text": [
      "훈련데이터 개수 : 116304, 정답 개수 : 116304\n",
      "검증 데이터 개수 : 29076, 정답 개수 : 29076\n"
     ]
    }
   ],
   "source": [
    "from sklearn.model_selection import train_test_split\n",
    "x_train, x_val,  Y_train, y_val = train_test_split(X_train, y_train, test_size = 0.2, random_state=2022, stratify=y_train)\n",
    "\n",
    "print(f\"훈련데이터 개수 : {len(x_train)}, 정답 개수 : {len(Y_train)}\")\n",
    "print(f\"검증 데이터 개수 : {len(x_val)}, 정답 개수 : {len(y_val)}\")"
   ]
  },
  {
   "cell_type": "markdown",
   "id": "166f2fbd",
   "metadata": {},
   "source": [
    "## 4) 모델 구성 및 validation set 구성 - 그래프도 같이...\n",
    "- 모델은 3가지 이상 다양하게 구성하여 실험해 보세요\n",
    "\n",
    "### 한글 Word2Vec embedding 사용하기 위해 vector_dim 미리 조정"
   ]
  },
  {
   "cell_type": "markdown",
   "id": "e3bce465",
   "metadata": {},
   "source": [
    "### 1. GlobalMaxPooling1D"
   ]
  },
  {
   "cell_type": "code",
   "execution_count": 16,
   "id": "b839a12c",
   "metadata": {},
   "outputs": [
    {
     "name": "stdout",
     "output_type": "stream",
     "text": [
      "Model: \"sequential_1\"\n",
      "_________________________________________________________________\n",
      "Layer (type)                 Output Shape              Param #   \n",
      "=================================================================\n",
      "embedding_1 (Embedding)      (None, None, 200)         2000000   \n",
      "_________________________________________________________________\n",
      "conv1d_2 (Conv1D)            (None, None, 256)         153856    \n",
      "_________________________________________________________________\n",
      "max_pooling1d_1 (MaxPooling1 (None, None, 256)         0         \n",
      "_________________________________________________________________\n",
      "conv1d_3 (Conv1D)            (None, None, 128)         98432     \n",
      "_________________________________________________________________\n",
      "global_max_pooling1d_1 (Glob (None, 128)               0         \n",
      "_________________________________________________________________\n",
      "dense_2 (Dense)              (None, 100)               12900     \n",
      "_________________________________________________________________\n",
      "dropout_1 (Dropout)          (None, 100)               0         \n",
      "_________________________________________________________________\n",
      "dense_3 (Dense)              (None, 1)                 101       \n",
      "=================================================================\n",
      "Total params: 2,265,289\n",
      "Trainable params: 2,265,289\n",
      "Non-trainable params: 0\n",
      "_________________________________________________________________\n"
     ]
    }
   ],
   "source": [
    "# GlobalMaxPooling1D 모델\n",
    "vocab_size = 10000    \n",
    "word_vector_dim = 200  \n",
    "\n",
    "# model 설계 - 딥러닝 모델 코드를 직접 작성해 주세요.\n",
    "model = tf.keras.Sequential()\n",
    "model.add(tf.keras.layers.Embedding(vocab_size, word_vector_dim, input_shape=(None,)))\n",
    "model.add(tf.keras.layers.Conv1D(256, 3, activation='relu'))\n",
    "model.add(tf.keras.layers.MaxPooling1D(2))\n",
    "model.add(tf.keras.layers.Conv1D(128, 3, activation='relu'))\n",
    "model.add(tf.keras.layers.GlobalMaxPooling1D())\n",
    "model.add(tf.keras.layers.Dense(100, activation='relu'))\n",
    "model.add(tf.keras.layers.Dropout(0.5))\n",
    "model.add(tf.keras.layers.Dense(1, activation='sigmoid'))  # 최종 출력은 긍정/부정을 나타내는 1dim\n",
    "\n",
    "\n",
    "model.summary()"
   ]
  },
  {
   "cell_type": "markdown",
   "id": "c98746e5",
   "metadata": {},
   "source": [
    "### 학습"
   ]
  },
  {
   "cell_type": "code",
   "execution_count": 17,
   "id": "6ac773ed",
   "metadata": {
    "scrolled": false
   },
   "outputs": [
    {
     "name": "stdout",
     "output_type": "stream",
     "text": [
      "Epoch 1/10\n",
      "3635/3635 [==============================] - 20s 5ms/step - loss: 0.3957 - accuracy: 0.8216 - val_loss: 0.3493 - val_accuracy: 0.8452\n",
      "Epoch 2/10\n",
      "3635/3635 [==============================] - 19s 5ms/step - loss: 0.3048 - accuracy: 0.8709 - val_loss: 0.3538 - val_accuracy: 0.8433\n",
      "Epoch 3/10\n",
      "3635/3635 [==============================] - 19s 5ms/step - loss: 0.2385 - accuracy: 0.9024 - val_loss: 0.3814 - val_accuracy: 0.8424\n",
      "Epoch 4/10\n",
      "3635/3635 [==============================] - 19s 5ms/step - loss: 0.1745 - accuracy: 0.9328 - val_loss: 0.4457 - val_accuracy: 0.8375\n"
     ]
    }
   ],
   "source": [
    "model.compile(optimizer='adam', loss='binary_crossentropy', metrics=['accuracy'])\n",
    "checkpoint_cb = keras.callbacks.ModelCheckpoint('best-conv1d.h5')\n",
    "early_stopping_cb = keras.callbacks.EarlyStopping(patience=3, restore_best_weights=True)             \n",
    "epochs=10 \n",
    "\n",
    "hist = model.fit(x_train, Y_train, epochs=epochs, validation_data=(x_val, y_val), \n",
    "                 verbose=1, callbacks=[checkpoint_cb, early_stopping_cb])"
   ]
  },
  {
   "cell_type": "code",
   "execution_count": 18,
   "id": "4b7de0ca",
   "metadata": {},
   "outputs": [
    {
     "name": "stdout",
     "output_type": "stream",
     "text": [
      "1527/1527 [==============================] - 3s 2ms/step - loss: 0.4446 - accuracy: 0.8352\n"
     ]
    },
    {
     "data": {
      "text/plain": [
       "[0.44460660219192505, 0.8351688981056213]"
      ]
     },
     "execution_count": 18,
     "metadata": {},
     "output_type": "execute_result"
    }
   ],
   "source": [
    "# 저장한 모델 불러와서 테스트 데이터 정확도 구하기\n",
    "\n",
    "model = keras.models.load_model('best-conv1d.h5')\n",
    "model.evaluate(X_test, y_test, verbose=1)"
   ]
  },
  {
   "cell_type": "code",
   "execution_count": 19,
   "id": "1366680b",
   "metadata": {},
   "outputs": [
    {
     "data": {
      "image/png": "[encoded data removed]",
      "text/plain": [
       "<Figure size 864x288 with 2 Axes>"
      ]
     },
     "metadata": {
      "needs_background": "light"
     },
     "output_type": "display_data"
    }
   ],
   "source": [
    "plt.figure(figsize=(12, 4))\n",
    "\n",
    "plt.subplot(1, 2, 1)\n",
    "plt.plot(hist.history['loss'])\n",
    "plt.plot(hist.history['val_loss'])\n",
    "plt.title('Training and validation loss')\n",
    "plt.xlabel('Epochs')\n",
    "plt.ylabel('Loss')\n",
    "# plt.ylim(0, 1)\n",
    "plt.legend(['train', 'val'])\n",
    "\n",
    "plt.subplot(1, 2, 2)\n",
    "plt.plot(hist.history['accuracy'])\n",
    "plt.plot(hist.history['val_accuracy'])\n",
    "plt.xlabel('Epoch')\n",
    "plt.ylabel('Accuracy')\n",
    "# plt.ylim(0, 1)\n",
    "plt.legend(['train', 'val'])\n",
    "\n",
    "plt.show()"
   ]
  },
  {
   "cell_type": "markdown",
   "id": "042ffc6e",
   "metadata": {},
   "source": [
    "## 2. LSTM"
   ]
  },
  {
   "cell_type": "code",
   "execution_count": 20,
   "id": "e0d65b05",
   "metadata": {},
   "outputs": [
    {
     "name": "stdout",
     "output_type": "stream",
     "text": [
      "Model: \"sequential_1\"\n",
      "_________________________________________________________________\n",
      "Layer (type)                 Output Shape              Param #   \n",
      "=================================================================\n",
      "embedding_1 (Embedding)      (None, None, 200)         2000000   \n",
      "_________________________________________________________________\n",
      "conv1d_2 (Conv1D)            (None, None, 256)         153856    \n",
      "_________________________________________________________________\n",
      "max_pooling1d_1 (MaxPooling1 (None, None, 256)         0         \n",
      "_________________________________________________________________\n",
      "conv1d_3 (Conv1D)            (None, None, 128)         98432     \n",
      "_________________________________________________________________\n",
      "global_max_pooling1d_1 (Glob (None, 128)               0         \n",
      "_________________________________________________________________\n",
      "dense_2 (Dense)              (None, 100)               12900     \n",
      "_________________________________________________________________\n",
      "dropout_1 (Dropout)          (None, 100)               0         \n",
      "_________________________________________________________________\n",
      "dense_3 (Dense)              (None, 1)                 101       \n",
      "=================================================================\n",
      "Total params: 2,265,289\n",
      "Trainable params: 2,265,289\n",
      "Non-trainable params: 0\n",
      "_________________________________________________________________\n"
     ]
    }
   ],
   "source": [
    "vocab_size = 10000    \n",
    "word_vector_dim = 200 \n",
    "\n",
    "model2 = keras.Sequential()\n",
    "model2.add(keras.layers.Embedding(vocab_size, word_vector_dim, input_shape=(None,)))\n",
    "model2.add(keras.layers.LSTM(8, dropout=0.3, return_sequences=True))\n",
    "model2.add(keras.layers.LSTM(8, dropout=0.3))\n",
    "model2.add(keras.layers.Dense(1, activation='sigmoid'))\n",
    "\n",
    "model2.summary()"
   ]
  },
  {
   "cell_type": "markdown",
   "id": "dabcff62",
   "metadata": {},
   "source": [
    "### LSTM 1 - optimizer='adam'"
   ]
  },
  {
   "cell_type": "code",
   "execution_count": 21,
   "id": "c32eaee3",
   "metadata": {},
   "outputs": [
    {
     "name": "stdout",
     "output_type": "stream",
     "text": [
      "Epoch 1/10\n",
      "3635/3635 [==============================] - 30s 7ms/step - loss: 0.4003 - accuracy: 0.8159 - val_loss: 0.3500 - val_accuracy: 0.8474\n",
      "Epoch 2/10\n",
      "3635/3635 [==============================] - 25s 7ms/step - loss: 0.3152 - accuracy: 0.8628 - val_loss: 0.3496 - val_accuracy: 0.8499\n",
      "Epoch 3/10\n",
      "3635/3635 [==============================] - 25s 7ms/step - loss: 0.2790 - accuracy: 0.8814 - val_loss: 0.3481 - val_accuracy: 0.8503\n",
      "Epoch 4/10\n",
      "3635/3635 [==============================] - 25s 7ms/step - loss: 0.2476 - accuracy: 0.8960 - val_loss: 0.3791 - val_accuracy: 0.8486\n",
      "Epoch 5/10\n",
      "3635/3635 [==============================] - 25s 7ms/step - loss: 0.2212 - accuracy: 0.9098 - val_loss: 0.3947 - val_accuracy: 0.8463\n",
      "Epoch 6/10\n",
      "3635/3635 [==============================] - 25s 7ms/step - loss: 0.2002 - accuracy: 0.9189 - val_loss: 0.4276 - val_accuracy: 0.8365\n"
     ]
    }
   ],
   "source": [
    "# optimizer='adam'\n",
    "model2.compile(optimizer='adam', loss='binary_crossentropy', metrics=['accuracy'])\n",
    "checkpoint_cb = keras.callbacks.ModelCheckpoint('best-LSTMadam-model.h5')\n",
    "early_stopping_cb = keras.callbacks.EarlyStopping(patience=3, restore_best_weights=True)  \n",
    "\n",
    "epochs=10 \n",
    "\n",
    "hist2 = model2.fit(x_train, Y_train, epochs=epochs, validation_data=(x_val, y_val), \n",
    "                 verbose=1, callbacks=[checkpoint_cb, early_stopping_cb])"
   ]
  },
  {
   "cell_type": "code",
   "execution_count": 22,
   "id": "c41d83f1",
   "metadata": {},
   "outputs": [
    {
     "name": "stdout",
     "output_type": "stream",
     "text": [
      "1527/1527 [==============================] - 5s 3ms/step - loss: 0.4244 - accuracy: 0.8372\n"
     ]
    },
    {
     "data": {
      "text/plain": [
       "[0.4244008958339691, 0.8371545672416687]"
      ]
     },
     "execution_count": 22,
     "metadata": {},
     "output_type": "execute_result"
    }
   ],
   "source": [
    "# 저장한 모델 불러와서 테스트 데이터 정확도 구하기\n",
    "best_LSTMadam = keras.models.load_model('best-LSTMadam-model.h5')\n",
    "best_LSTMadam.evaluate(X_test, y_test)"
   ]
  },
  {
   "cell_type": "code",
   "execution_count": 23,
   "id": "24c50eff",
   "metadata": {},
   "outputs": [
    {
     "data": {
      "image/png": "[encoded data removed]",
      "text/plain": [
       "<Figure size 864x288 with 2 Axes>"
      ]
     },
     "metadata": {
      "needs_background": "light"
     },
     "output_type": "display_data"
    }
   ],
   "source": [
    "plt.figure(figsize=(12, 4))\n",
    "\n",
    "plt.subplot(1, 2, 1)\n",
    "plt.plot(hist2.history['loss'])\n",
    "plt.plot(hist2.history['val_loss'])\n",
    "plt.title('Training and validation loss')\n",
    "plt.xlabel('Epochs')\n",
    "plt.ylabel('Loss')\n",
    "plt.legend(['train', 'val'])\n",
    "\n",
    "plt.subplot(1, 2, 2)\n",
    "plt.plot(hist2.history['accuracy'])\n",
    "plt.plot(hist2.history['val_accuracy'])\n",
    "plt.xlabel('Epoch')\n",
    "plt.ylabel('Accuracy')\n",
    "plt.legend(['train', 'val'])\n",
    "\n",
    "plt.show()"
   ]
  },
  {
   "cell_type": "markdown",
   "id": "69e531c6",
   "metadata": {},
   "source": [
    "### LSTM 2 - optimizer='rmsprop'"
   ]
  },
  {
   "cell_type": "code",
   "execution_count": 24,
   "id": "afb8e205",
   "metadata": {},
   "outputs": [
    {
     "name": "stdout",
     "output_type": "stream",
     "text": [
      "Model: \"sequential_1\"\n",
      "_________________________________________________________________\n",
      "Layer (type)                 Output Shape              Param #   \n",
      "=================================================================\n",
      "embedding_1 (Embedding)      (None, None, 200)         2000000   \n",
      "_________________________________________________________________\n",
      "conv1d_2 (Conv1D)            (None, None, 256)         153856    \n",
      "_________________________________________________________________\n",
      "max_pooling1d_1 (MaxPooling1 (None, None, 256)         0         \n",
      "_________________________________________________________________\n",
      "conv1d_3 (Conv1D)            (None, None, 128)         98432     \n",
      "_________________________________________________________________\n",
      "global_max_pooling1d_1 (Glob (None, 128)               0         \n",
      "_________________________________________________________________\n",
      "dense_2 (Dense)              (None, 100)               12900     \n",
      "_________________________________________________________________\n",
      "dropout_1 (Dropout)          (None, 100)               0         \n",
      "_________________________________________________________________\n",
      "dense_3 (Dense)              (None, 1)                 101       \n",
      "=================================================================\n",
      "Total params: 2,265,289\n",
      "Trainable params: 2,265,289\n",
      "Non-trainable params: 0\n",
      "_________________________________________________________________\n",
      "Epoch 1/20\n",
      "3635/3635 [==============================] - 30s 7ms/step - loss: 0.4133 - accuracy: 0.8132 - val_loss: 0.3696 - val_accuracy: 0.8387\n",
      "Epoch 2/20\n",
      "3635/3635 [==============================] - 26s 7ms/step - loss: 0.3516 - accuracy: 0.8473 - val_loss: 0.3494 - val_accuracy: 0.8456\n",
      "Epoch 3/20\n",
      "3635/3635 [==============================] - 26s 7ms/step - loss: 0.3335 - accuracy: 0.8564 - val_loss: 0.3529 - val_accuracy: 0.8494\n",
      "Epoch 4/20\n",
      "3635/3635 [==============================] - 26s 7ms/step - loss: 0.3224 - accuracy: 0.8635 - val_loss: 0.3384 - val_accuracy: 0.8516\n",
      "Epoch 5/20\n",
      "3635/3635 [==============================] - 26s 7ms/step - loss: 0.3151 - accuracy: 0.8663 - val_loss: 0.3402 - val_accuracy: 0.8520\n",
      "Epoch 6/20\n",
      "3635/3635 [==============================] - 26s 7ms/step - loss: 0.3089 - accuracy: 0.8698 - val_loss: 0.3405 - val_accuracy: 0.8548\n",
      "Epoch 7/20\n",
      "3635/3635 [==============================] - 26s 7ms/step - loss: 0.3045 - accuracy: 0.8722 - val_loss: 0.3411 - val_accuracy: 0.8545\n"
     ]
    }
   ],
   "source": [
    "vocab_size = 10000    \n",
    "word_vector_dim = 200 \n",
    "\n",
    "model2_1 = keras.Sequential()\n",
    "model2_1.add(keras.layers.Embedding(vocab_size, word_vector_dim, input_shape=(None,)))\n",
    "model2_1.add(keras.layers.LSTM(8, dropout=0.3, return_sequences=True))\n",
    "model2_1.add(keras.layers.LSTM(8, dropout=0.3))\n",
    "model2_1.add(keras.layers.Dense(1, activation='sigmoid'))\n",
    "\n",
    "model2_1.summary()\n",
    "\n",
    "rmsprop = keras.optimizers.RMSprop(learning_rate=0.0001)\n",
    "model2_1.compile(optimizer='rmsprop', loss='binary_crossentropy', metrics=['accuracy'])\n",
    "checkpoint_cb = keras.callbacks.ModelCheckpoint('best-LSTMrms-model.h5')\n",
    "early_stopping_cb = keras.callbacks.EarlyStopping(patience=3, restore_best_weights=True)  \n",
    "\n",
    "epochs=20 \n",
    "\n",
    "hist2_1 = model2_1.fit(x_train, Y_train, epochs=epochs, validation_data=(x_val, y_val), \n",
    "                 verbose=1, callbacks=[checkpoint_cb, early_stopping_cb])\n"
   ]
  },
  {
   "cell_type": "code",
   "execution_count": 25,
   "id": "f440c91c",
   "metadata": {},
   "outputs": [
    {
     "name": "stdout",
     "output_type": "stream",
     "text": [
      "1527/1527 [==============================] - 5s 3ms/step - loss: 0.3492 - accuracy: 0.8514\n"
     ]
    },
    {
     "data": {
      "text/plain": [
       "[0.3491680920124054, 0.851381778717041]"
      ]
     },
     "execution_count": 25,
     "metadata": {},
     "output_type": "execute_result"
    }
   ],
   "source": [
    "# 저장한 모델 불러와서 테스트 데이터 정확도 구하기\n",
    "best_LSTMrms = keras.models.load_model('best-LSTMrms-model.h5')\n",
    "best_LSTMrms.evaluate(X_test, y_test)"
   ]
  },
  {
   "cell_type": "code",
   "execution_count": 26,
   "id": "3ab4c6b4",
   "metadata": {},
   "outputs": [
    {
     "data": {
      "image/png": "[encoded data removed]",
      "text/plain": [
       "<Figure size 864x288 with 2 Axes>"
      ]
     },
     "metadata": {
      "needs_background": "light"
     },
     "output_type": "display_data"
    }
   ],
   "source": [
    "plt.figure(figsize=(12, 4))\n",
    "\n",
    "plt.subplot(1, 2, 1)\n",
    "plt.plot(hist2_1.history['loss'])\n",
    "plt.plot(hist2_1.history['val_loss'])\n",
    "plt.title('Training and validation loss')\n",
    "plt.xlabel('Epochs')\n",
    "plt.ylabel('Loss')\n",
    "plt.legend(['train', 'val'])\n",
    "\n",
    "plt.subplot(1, 2, 2)\n",
    "plt.plot(hist2_1.history['accuracy'])\n",
    "plt.plot(hist2_1.history['val_accuracy'])\n",
    "plt.xlabel('Epoch')\n",
    "plt.ylabel('Accuracy')\n",
    "plt.legend(['train', 'val'])\n",
    "\n",
    "plt.show()"
   ]
  },
  {
   "cell_type": "markdown",
   "id": "df808258",
   "metadata": {},
   "source": [
    "### GRU1 - optimizer='adam'"
   ]
  },
  {
   "cell_type": "code",
   "execution_count": 27,
   "id": "ca289c72",
   "metadata": {},
   "outputs": [
    {
     "name": "stdout",
     "output_type": "stream",
     "text": [
      "Model: \"sequential_1\"\n",
      "_________________________________________________________________\n",
      "Layer (type)                 Output Shape              Param #   \n",
      "=================================================================\n",
      "embedding_1 (Embedding)      (None, None, 200)         2000000   \n",
      "_________________________________________________________________\n",
      "conv1d_2 (Conv1D)            (None, None, 256)         153856    \n",
      "_________________________________________________________________\n",
      "max_pooling1d_1 (MaxPooling1 (None, None, 256)         0         \n",
      "_________________________________________________________________\n",
      "conv1d_3 (Conv1D)            (None, None, 128)         98432     \n",
      "_________________________________________________________________\n",
      "global_max_pooling1d_1 (Glob (None, 128)               0         \n",
      "_________________________________________________________________\n",
      "dense_2 (Dense)              (None, 100)               12900     \n",
      "_________________________________________________________________\n",
      "dropout_1 (Dropout)          (None, 100)               0         \n",
      "_________________________________________________________________\n",
      "dense_3 (Dense)              (None, 1)                 101       \n",
      "=================================================================\n",
      "Total params: 2,265,289\n",
      "Trainable params: 2,265,289\n",
      "Non-trainable params: 0\n",
      "_________________________________________________________________\n"
     ]
    }
   ],
   "source": [
    "vocab_size = 10000    \n",
    "word_vector_dim = 200 \n",
    "\n",
    "model3 = keras.Sequential()\n",
    "model3.add(keras.layers.Embedding(vocab_size, word_vector_dim, input_shape=(None,)))\n",
    "model3.add(keras.layers.GRU(8))\n",
    "model3.add(keras.layers.Dense(1, activation='sigmoid'))\n",
    "\n",
    "model3.summary()"
   ]
  },
  {
   "cell_type": "code",
   "execution_count": 28,
   "id": "ef9378ee",
   "metadata": {
    "scrolled": true
   },
   "outputs": [
    {
     "name": "stdout",
     "output_type": "stream",
     "text": [
      "Epoch 1/20\n",
      "3635/3635 [==============================] - 22s 5ms/step - loss: 0.4153 - accuracy: 0.7920 - val_loss: 0.3408 - val_accuracy: 0.8510\n",
      "Epoch 2/20\n",
      "3635/3635 [==============================] - 19s 5ms/step - loss: 0.2981 - accuracy: 0.8730 - val_loss: 0.3418 - val_accuracy: 0.8524\n",
      "Epoch 3/20\n",
      "3635/3635 [==============================] - 18s 5ms/step - loss: 0.2540 - accuracy: 0.8949 - val_loss: 0.3591 - val_accuracy: 0.8476\n",
      "Epoch 4/20\n",
      "3635/3635 [==============================] - 18s 5ms/step - loss: 0.2187 - accuracy: 0.9109 - val_loss: 0.3842 - val_accuracy: 0.8434\n"
     ]
    }
   ],
   "source": [
    "# optimizer='adam'\n",
    "model3.compile(optimizer='adam', loss='binary_crossentropy', metrics=['accuracy'])\n",
    "checkpoint_cb = keras.callbacks.ModelCheckpoint('best-GRUadam-model.h5')\n",
    "early_stopping_cb = keras.callbacks.EarlyStopping(patience=3, restore_best_weights=True)  \n",
    "\n",
    "epochs=20 \n",
    "\n",
    "hist3 = model3.fit(x_train, Y_train, epochs=epochs, validation_data=(x_val, y_val), \n",
    "                 verbose=1, callbacks=[checkpoint_cb, early_stopping_cb])"
   ]
  },
  {
   "cell_type": "code",
   "execution_count": 29,
   "id": "25fb1d5c",
   "metadata": {},
   "outputs": [
    {
     "name": "stdout",
     "output_type": "stream",
     "text": [
      "1527/1527 [==============================] - 4s 2ms/step - loss: 0.3899 - accuracy: 0.8409\n"
     ]
    },
    {
     "data": {
      "text/plain": [
       "[0.3898501992225647, 0.8408597707748413]"
      ]
     },
     "execution_count": 29,
     "metadata": {},
     "output_type": "execute_result"
    }
   ],
   "source": [
    "# 저장한 모델 불러와서 테스트 데이터 정확도 구하기\n",
    "best_GRUadam = keras.models.load_model('best-GRUadam-model.h5')\n",
    "best_GRUadam.evaluate(X_test, y_test)"
   ]
  },
  {
   "cell_type": "code",
   "execution_count": 30,
   "id": "6d632cc0",
   "metadata": {
    "scrolled": true
   },
   "outputs": [
    {
     "data": {
      "image/png": "[encoded data removed]",
      "text/plain": [
       "<Figure size 864x288 with 2 Axes>"
      ]
     },
     "metadata": {
      "needs_background": "light"
     },
     "output_type": "display_data"
    }
   ],
   "source": [
    "plt.figure(figsize=(12, 4))\n",
    "\n",
    "plt.subplot(1, 2, 1)\n",
    "plt.plot(hist3.history['loss'])\n",
    "plt.plot(hist3.history['val_loss'])\n",
    "plt.title('Training and validation loss')\n",
    "plt.xlabel('Epochs')\n",
    "plt.ylabel('Loss')\n",
    "plt.legend(['train', 'val'])\n",
    "\n",
    "plt.subplot(1, 2, 2)\n",
    "plt.plot(hist3.history['accuracy'])\n",
    "plt.plot(hist3.history['val_accuracy'])\n",
    "plt.xlabel('Epoch')\n",
    "plt.ylabel('Accuracy')\n",
    "plt.legend(['train', 'val'])\n",
    "\n",
    "plt.show()"
   ]
  },
  {
   "cell_type": "markdown",
   "id": "781e169e",
   "metadata": {},
   "source": [
    "### GRU2 - optimizer='rmsprop'"
   ]
  },
  {
   "cell_type": "code",
   "execution_count": 31,
   "id": "23a3d8cd",
   "metadata": {},
   "outputs": [
    {
     "name": "stdout",
     "output_type": "stream",
     "text": [
      "Model: \"sequential_1\"\n",
      "_________________________________________________________________\n",
      "Layer (type)                 Output Shape              Param #   \n",
      "=================================================================\n",
      "embedding_1 (Embedding)      (None, None, 200)         2000000   \n",
      "_________________________________________________________________\n",
      "conv1d_2 (Conv1D)            (None, None, 256)         153856    \n",
      "_________________________________________________________________\n",
      "max_pooling1d_1 (MaxPooling1 (None, None, 256)         0         \n",
      "_________________________________________________________________\n",
      "conv1d_3 (Conv1D)            (None, None, 128)         98432     \n",
      "_________________________________________________________________\n",
      "global_max_pooling1d_1 (Glob (None, 128)               0         \n",
      "_________________________________________________________________\n",
      "dense_2 (Dense)              (None, 100)               12900     \n",
      "_________________________________________________________________\n",
      "dropout_1 (Dropout)          (None, 100)               0         \n",
      "_________________________________________________________________\n",
      "dense_3 (Dense)              (None, 1)                 101       \n",
      "=================================================================\n",
      "Total params: 2,265,289\n",
      "Trainable params: 2,265,289\n",
      "Non-trainable params: 0\n",
      "_________________________________________________________________\n",
      "Epoch 1/20\n",
      "3635/3635 [==============================] - 20s 5ms/step - loss: 0.4467 - accuracy: 0.7685 - val_loss: 0.3543 - val_accuracy: 0.8434\n",
      "Epoch 2/20\n",
      "3635/3635 [==============================] - 18s 5ms/step - loss: 0.3348 - accuracy: 0.8555 - val_loss: 0.3434 - val_accuracy: 0.8507\n",
      "Epoch 3/20\n",
      "3635/3635 [==============================] - 18s 5ms/step - loss: 0.3145 - accuracy: 0.8652 - val_loss: 0.3376 - val_accuracy: 0.8528\n",
      "Epoch 4/20\n",
      "3635/3635 [==============================] - 18s 5ms/step - loss: 0.3031 - accuracy: 0.8719 - val_loss: 0.3386 - val_accuracy: 0.8542\n",
      "Epoch 5/20\n",
      "3635/3635 [==============================] - 18s 5ms/step - loss: 0.2950 - accuracy: 0.8760 - val_loss: 0.3396 - val_accuracy: 0.8551\n",
      "Epoch 6/20\n",
      "3635/3635 [==============================] - 18s 5ms/step - loss: 0.2890 - accuracy: 0.8791 - val_loss: 0.3361 - val_accuracy: 0.8551\n",
      "Epoch 7/20\n",
      "3635/3635 [==============================] - 18s 5ms/step - loss: 0.2831 - accuracy: 0.8828 - val_loss: 0.3436 - val_accuracy: 0.8522\n",
      "Epoch 8/20\n",
      "3635/3635 [==============================] - 18s 5ms/step - loss: 0.2783 - accuracy: 0.8849 - val_loss: 0.3414 - val_accuracy: 0.8509\n",
      "Epoch 9/20\n",
      "3635/3635 [==============================] - 18s 5ms/step - loss: 0.2756 - accuracy: 0.8868 - val_loss: 0.3421 - val_accuracy: 0.8527\n"
     ]
    }
   ],
   "source": [
    "vocab_size = 10000    \n",
    "word_vector_dim = 200 \n",
    "\n",
    "model3_2 = keras.Sequential()\n",
    "model3_2.add(keras.layers.Embedding(vocab_size, word_vector_dim, input_shape=(None,)))\n",
    "model3_2.add(keras.layers.GRU(8))\n",
    "model3_2.add(keras.layers.Dense(1, activation='sigmoid'))\n",
    "\n",
    "model3_2.summary()\n",
    "\n",
    "rmsprop = keras.optimizers.RMSprop(learning_rate=0.0001)\n",
    "model3_2.compile(optimizer='rmsprop', loss='binary_crossentropy', metrics=['accuracy'])\n",
    "checkpoint_cb = keras.callbacks.ModelCheckpoint('best-GRUrms-model.h5')\n",
    "early_stopping_cb = keras.callbacks.EarlyStopping(patience=3, restore_best_weights=True)  \n",
    "\n",
    "epochs=20 \n",
    "\n",
    "hist3_2 = model3_2.fit(x_train, Y_train, epochs=epochs, validation_data=(x_val, y_val), \n",
    "                 verbose=1, callbacks=[checkpoint_cb, early_stopping_cb])"
   ]
  },
  {
   "cell_type": "code",
   "execution_count": 32,
   "id": "434ba428",
   "metadata": {},
   "outputs": [
    {
     "name": "stdout",
     "output_type": "stream",
     "text": [
      "1527/1527 [==============================] - 4s 2ms/step - loss: 0.3492 - accuracy: 0.8506\n"
     ]
    },
    {
     "data": {
      "text/plain": [
       "[0.34919944405555725, 0.8505834341049194]"
      ]
     },
     "execution_count": 32,
     "metadata": {},
     "output_type": "execute_result"
    }
   ],
   "source": [
    "# 저장한 모델 불러와서 테스트 데이터 정확도 구하기\n",
    "best_GRUrms = keras.models.load_model('best-GRUrms-model.h5')\n",
    "best_GRUrms.evaluate(X_test, y_test)"
   ]
  },
  {
   "cell_type": "code",
   "execution_count": 33,
   "id": "aae0b3d8",
   "metadata": {},
   "outputs": [
    {
     "data": {
      "image/png": "[encoded data removed]",
      "text/plain": [
       "<Figure size 864x288 with 2 Axes>"
      ]
     },
     "metadata": {
      "needs_background": "light"
     },
     "output_type": "display_data"
    }
   ],
   "source": [
    "plt.figure(figsize=(12, 4))\n",
    "\n",
    "plt.subplot(1, 2, 1)\n",
    "plt.plot(hist3_2.history['loss'])\n",
    "plt.plot(hist3_2.history['val_loss'])\n",
    "plt.title('Training and validation loss')\n",
    "plt.xlabel('Epochs')\n",
    "plt.ylabel('Loss')\n",
    "plt.legend(['train', 'val'])\n",
    "\n",
    "plt.subplot(1, 2, 2)\n",
    "plt.plot(hist3_2.history['accuracy'])\n",
    "plt.plot(hist3_2.history['val_accuracy'])\n",
    "plt.xlabel('Epoch')\n",
    "plt.ylabel('Accuracy')\n",
    "plt.legend(['train', 'val'])\n",
    "\n",
    "plt.show()"
   ]
  },
  {
   "cell_type": "markdown",
   "id": "3c1405bc",
   "metadata": {},
   "source": [
    "## 5) 학습된 Embedding 레이어 분석"
   ]
  },
  {
   "attachments": {
    "image.png": {
     "image/png": "[encoded data removed]"
    }
   },
   "cell_type": "markdown",
   "id": "6114b59d",
   "metadata": {},
   "source": [
    "### Word2Vec\n",
    "- 구글에서 제공하는 사전학습된(Pretrained) 워드 임베딩 모델\n",
    "- 1억 개의 단어로 구성된 Google News dataset을 바탕으로 학습\n",
    "- 총 300만 개의 단어를 각각 300차원의 벡터로 표현한 것\n",
    "- 사전학습된 임베딩을 활용하는 것이 유리한 이유는 전이학습 때문이다  \n",
    "\n",
    "<br><br>\n",
    "###  Google의 Word2Vec 모델 적용\n",
    "![image.png](attachment:image.png)\n",
    "<br>\n",
    "- 가장 많이 사용되는 **상위 100만 개만 limt으로 조건**을 주어 로딩"
   ]
  },
  {
   "cell_type": "code",
   "execution_count": 38,
   "id": "51b51d11",
   "metadata": {},
   "outputs": [
    {
     "name": "stdout",
     "output_type": "stream",
     "text": [
      "(10000, 200)\n"
     ]
    }
   ],
   "source": [
    "# 임베딩 레이어 변수 지정\n",
    "embedding_layer = best_GRUrms.layers[0]\n",
    "weights = embedding_layer.get_weights()[0]\n",
    "print(weights.shape)    # shape: (vocab_size, embedding_dim)\n",
    "\n",
    "# 디코딩\n",
    "index_to_word = {index:word for word, index in word_to_index.items()}"
   ]
  },
  {
   "cell_type": "code",
   "execution_count": 39,
   "id": "c291758a",
   "metadata": {},
   "outputs": [],
   "source": [
    "# 학습한 Embedding 파라미터를 파일에 써서 저장\n",
    "word2vec_file_path = os.getenv('HOME')+'/aiffel/sentiment_classification/data/word2vec.txt'\n",
    "f = open(word2vec_file_path, 'w')\n",
    "f.write('{} {}\\n'.format(vocab_size-4, word_vector_dim))  # 몇개의 벡터를 얼마 사이즈로 기재할지 타이틀을 씁니다.\n",
    "\n",
    "# 단어 개수(에서 특수문자 4개는 제외하고)만큼의 워드 벡터를 파일에 기록합니다. \n",
    "vectors = model.get_weights()[0]\n",
    "for i in range(4,vocab_size):\n",
    "    f.write('{} {}\\n'.format(index_to_word[i], ' '.join(map(str, list(vectors[i, :])))))\n",
    "f.close()"
   ]
  },
  {
   "cell_type": "code",
   "execution_count": 44,
   "id": "0d765109",
   "metadata": {},
   "outputs": [
    {
     "data": {
      "text/plain": [
       "array([ 0.12865296, -0.12707439,  0.19241278, -0.02668433, -0.24344192,\n",
       "       -0.15033343, -0.35786834,  0.05616558,  0.25969452, -0.19187638,\n",
       "       -0.01796622,  0.2393149 , -0.08569154,  0.10221565,  0.09729655,\n",
       "       -0.22427876, -0.11201705, -0.04629279, -0.20619825, -0.00112662,\n",
       "       -0.18428378,  0.16196501, -0.05508336, -0.19458903, -0.09196062,\n",
       "        0.13015722, -0.0182563 , -0.11865455, -0.12929086,  0.13723807,\n",
       "        0.03919182, -0.03261316, -0.15519087,  0.17404403,  0.16150123,\n",
       "        0.27583492,  0.2680378 ,  0.08183642,  0.10097796,  0.08320767,\n",
       "       -0.05156622, -0.07139601,  0.01958957, -0.1765012 ,  0.00493364,\n",
       "        0.03020845, -0.10367075, -0.01316683, -0.17299888, -0.25647545,\n",
       "       -0.2718321 ,  0.01755185, -0.29884022,  0.06193525, -0.04492911,\n",
       "       -0.24644476,  0.2227944 ,  0.09804451, -0.09582014,  0.19701487,\n",
       "       -0.17678417,  0.10582854,  0.0181387 ,  0.18360206, -0.00879993,\n",
       "       -0.04675362, -0.21774493, -0.05676484,  0.17648722, -0.06627993,\n",
       "        0.25761318, -0.20294456,  0.04349035,  0.03672139,  0.15753612,\n",
       "       -0.14104584, -0.12291811, -0.00341752,  0.23075423,  0.176428  ,\n",
       "        0.07206042, -0.13967282,  0.0288897 ,  0.05326817, -0.05852486,\n",
       "        0.18377419, -0.11460848,  0.15704718, -0.13561256, -0.19241205,\n",
       "       -0.09259381,  0.16374888,  0.05369562, -0.06698342, -0.0537979 ,\n",
       "       -0.08260771, -0.22550693,  0.20174295,  0.05118394,  0.05912423,\n",
       "       -0.15065403,  0.11997169, -0.06569309,  0.11503264,  0.02129361,\n",
       "       -0.17826217,  0.07468557,  0.15536438,  0.157362  , -0.08790424,\n",
       "        0.10968795, -0.23161371, -0.18429701, -0.07405663, -0.22822915,\n",
       "        0.04516428, -0.11831748, -0.01687841, -0.0810748 , -0.01368115,\n",
       "        0.12024896,  0.14119993, -0.24704792, -0.12988055, -0.31825793,\n",
       "       -0.13430807, -0.21586531, -0.20916174, -0.07020591, -0.09411421,\n",
       "        0.09323653, -0.21666747,  0.11872908,  0.07176064,  0.09878481,\n",
       "       -0.00903569,  0.15969622, -0.10326821,  0.00877042, -0.03920138,\n",
       "        0.10941003,  0.09415952, -0.11878273, -0.2925107 ,  0.18297276,\n",
       "       -0.123483  ,  0.23444974, -0.13672316, -0.02893138,  0.0826081 ,\n",
       "       -0.07478341,  0.11612018, -0.11076405,  0.14165962, -0.11805114,\n",
       "       -0.19690914,  0.02183   , -0.08887076, -0.22818689,  0.00364749,\n",
       "       -0.08799067, -0.19477293,  0.04284974,  0.16164596,  0.07289241,\n",
       "       -0.11226687, -0.16028912, -0.12210421, -0.11010686,  0.01727931,\n",
       "       -0.17916836,  0.2602499 ,  0.09490586, -0.02276237, -0.11838393,\n",
       "        0.16424106, -0.13185836, -0.10817159, -0.2017616 ,  0.07924157,\n",
       "        0.04142887,  0.06085847, -0.19584052, -0.156957  ,  0.39761522,\n",
       "        0.19351965, -0.04496129,  0.15993169,  0.22585873,  0.00506818,\n",
       "       -0.06299897, -0.15379737,  0.2539508 ,  0.07255833,  0.17707084,\n",
       "        0.28760207, -0.23352946,  0.03543559, -0.17859125, -0.16756238],\n",
       "      dtype=float32)"
      ]
     },
     "execution_count": 44,
     "metadata": {},
     "output_type": "execute_result"
    }
   ],
   "source": [
    "# gensim에서 제공하는 패키지를 이용해 임베딩 파라미터를 읽어서 word vector로 활용\n",
    "from gensim.models.keyedvectors import Word2VecKeyedVectors\n",
    "\n",
    "word_vectors = Word2VecKeyedVectors.load_word2vec_format(word2vec_file_path, binary=False)\n",
    "vector = word_vectors['행복']\n",
    "vector"
   ]
  },
  {
   "cell_type": "code",
   "execution_count": 45,
   "id": "a23903d1",
   "metadata": {
    "scrolled": true
   },
   "outputs": [
    {
     "data": {
      "text/plain": [
       "[('감독판', 0.8085969686508179),\n",
       " ('해학', 0.7921085357666016),\n",
       " ('굿굿굿', 0.7912741899490356),\n",
       " ('밋음', 0.7903404831886292),\n",
       " ('전율', 0.7897253036499023),\n",
       " ('강렬하다', 0.7870133519172668),\n",
       " ('드라마틱하다', 0.7837130427360535),\n",
       " ('스타트렉', 0.7825528383255005),\n",
       " ('흐', 0.7782420516014099),\n",
       " ('관해', 0.7782050967216492)]"
      ]
     },
     "execution_count": 45,
     "metadata": {},
     "output_type": "execute_result"
    }
   ],
   "source": [
    "# gensim을 사용해 단어를 하나 주고 그와 가장 유사한 단어와 그 유사도를 확인\n",
    "word_vectors.similar_by_word(\"행복\")"
   ]
  },
  {
   "cell_type": "markdown",
   "id": "3c36d8cc",
   "metadata": {},
   "source": [
    "## 6) 한국어 버전 Word2Vec Embedding\n",
    "#### [Pre-trained word vectors of 30+ languages](https://github.com/Kyubyong/wordvectors)\n",
    "-  적절한 ko.bin을 찾아 이용하세요. 그리고 gensim 버전을 3.x.x로 낮춰야 오류가 나지 않습니다."
   ]
  },
  {
   "cell_type": "code",
   "execution_count": 49,
   "id": "6d61d8dc",
   "metadata": {},
   "outputs": [
    {
     "name": "stderr",
     "output_type": "stream",
     "text": [
      "/tmp/ipykernel_568/4208297916.py:5: DeprecationWarning: Call to deprecated `__getitem__` (Method will be removed in 4.0.0, use self.wv.__getitem__() instead).\n",
      "  vector_any = word2vec_ko['사랑']\n"
     ]
    },
    {
     "data": {
      "text/plain": [
       "(200,)"
      ]
     },
     "execution_count": 49,
     "metadata": {},
     "output_type": "execute_result"
    }
   ],
   "source": [
    "from gensim.models import KeyedVectors\n",
    "\n",
    "word2vec_path = os.getenv('HOME')+'/aiffel/sentiment_classification/data/ko.bin'\n",
    "word2vec_ko = gensim.models.Word2Vec.load(word2vec_path)\n",
    "vector_any = word2vec_ko['사랑']\n",
    "vector_any.shape"
   ]
  },
  {
   "cell_type": "code",
   "execution_count": 59,
   "id": "aba41d50",
   "metadata": {},
   "outputs": [
    {
     "data": {
      "text/plain": [
       "[('총선거', 0.7462450265884399),\n",
       " ('총선', 0.7030401825904846),\n",
       " ('대선', 0.6811904907226562),\n",
       " ('투표', 0.6405338048934937),\n",
       " ('경선', 0.6404521465301514),\n",
       " ('개표', 0.6106421947479248),\n",
       " ('재선거', 0.6045101881027222),\n",
       " ('표결', 0.5645790100097656),\n",
       " ('의회', 0.5523425936698914),\n",
       " ('야권', 0.5519712567329407)]"
      ]
     },
     "execution_count": 59,
     "metadata": {},
     "output_type": "execute_result"
    }
   ],
   "source": [
    "word2vec_ko.wv.most_similar(\"선거\")"
   ]
  },
  {
   "cell_type": "code",
   "execution_count": 61,
   "id": "35104a08",
   "metadata": {},
   "outputs": [
    {
     "name": "stderr",
     "output_type": "stream",
     "text": [
      "/tmp/ipykernel_568/2387564163.py:8: DeprecationWarning: Call to deprecated `__contains__` (Method will be removed in 4.0.0, use self.wv.__contains__() instead).\n",
      "  if index_to_word[i] in word2vec_ko:\n",
      "/tmp/ipykernel_568/2387564163.py:9: DeprecationWarning: Call to deprecated `__getitem__` (Method will be removed in 4.0.0, use self.wv.__getitem__() instead).\n",
      "  embedding_matrix[i] = word2vec_ko[index_to_word[i]]\n"
     ]
    }
   ],
   "source": [
    "vocab_size = 10000     # 단어 사전의 크기(10,000개의 단어)\n",
    "word_vector_dim = 200  # 워드 벡터의 차원 수\n",
    "\n",
    "embedding_matrix = np.random.rand(vocab_size, word_vector_dim) # 사전학습된 임베딩 레이어의 차원 수 그대로 따라가는 것이 좋아요!\n",
    "\n",
    "#embedding_matrix에 Word2Vec 워드벡터를 단어 하나씩 순서대로 카피\n",
    "for i in range(4,vocab_size):\n",
    "    if index_to_word[i] in word2vec_ko:\n",
    "        embedding_matrix[i] = word2vec_ko[index_to_word[i]]"
   ]
  },
  {
   "cell_type": "markdown",
   "id": "1b43f0c5",
   "metadata": {},
   "source": [
    "### LSTM 2 - optimizer='rmsprop' 한글 Word2Vec 적용해보기"
   ]
  },
  {
   "cell_type": "code",
   "execution_count": 72,
   "id": "99281622",
   "metadata": {},
   "outputs": [
    {
     "name": "stdout",
     "output_type": "stream",
     "text": [
      "Model: \"sequential_8\"\n",
      "_________________________________________________________________\n",
      "Layer (type)                 Output Shape              Param #   \n",
      "=================================================================\n",
      "embedding_7 (Embedding)      (None, None, 200)         2000000   \n",
      "_________________________________________________________________\n",
      "lstm_6 (LSTM)                (None, None, 8)           6688      \n",
      "_________________________________________________________________\n",
      "lstm_7 (LSTM)                (None, 8)                 544       \n",
      "_________________________________________________________________\n",
      "dense_9 (Dense)              (None, 1)                 9         \n",
      "=================================================================\n",
      "Total params: 2,007,241\n",
      "Trainable params: 2,007,241\n",
      "Non-trainable params: 0\n",
      "_________________________________________________________________\n",
      "Epoch 1/20\n",
      "3635/3635 [==============================] - 33s 8ms/step - loss: 0.5017 - accuracy: 0.7453 - val_loss: 0.3942 - val_accuracy: 0.8206\n",
      "Epoch 2/20\n",
      "3635/3635 [==============================] - 26s 7ms/step - loss: 0.3937 - accuracy: 0.8227 - val_loss: 0.3770 - val_accuracy: 0.8298\n",
      "Epoch 3/20\n",
      "3635/3635 [==============================] - 26s 7ms/step - loss: 0.3701 - accuracy: 0.8344 - val_loss: 0.3607 - val_accuracy: 0.8391\n",
      "Epoch 4/20\n",
      "3635/3635 [==============================] - 26s 7ms/step - loss: 0.3567 - accuracy: 0.8432 - val_loss: 0.3552 - val_accuracy: 0.8438\n",
      "Epoch 5/20\n",
      "3635/3635 [==============================] - 26s 7ms/step - loss: 0.3489 - accuracy: 0.8477 - val_loss: 0.3671 - val_accuracy: 0.8438\n",
      "Epoch 6/20\n",
      "3635/3635 [==============================] - 26s 7ms/step - loss: 0.3421 - accuracy: 0.8513 - val_loss: 0.3552 - val_accuracy: 0.8457\n",
      "Epoch 7/20\n",
      "3635/3635 [==============================] - 26s 7ms/step - loss: 0.3370 - accuracy: 0.8535 - val_loss: 0.3487 - val_accuracy: 0.8494\n",
      "Epoch 8/20\n",
      "3635/3635 [==============================] - 26s 7ms/step - loss: 0.3338 - accuracy: 0.8552 - val_loss: 0.3435 - val_accuracy: 0.8498\n",
      "Epoch 9/20\n",
      "3635/3635 [==============================] - 26s 7ms/step - loss: 0.3301 - accuracy: 0.8579 - val_loss: 0.3502 - val_accuracy: 0.8507\n",
      "Epoch 10/20\n",
      "3635/3635 [==============================] - 26s 7ms/step - loss: 0.3274 - accuracy: 0.8591 - val_loss: 0.3481 - val_accuracy: 0.8514\n",
      "Epoch 11/20\n",
      "3635/3635 [==============================] - 26s 7ms/step - loss: 0.3245 - accuracy: 0.8611 - val_loss: 0.3479 - val_accuracy: 0.8515\n"
     ]
    }
   ],
   "source": [
    "from tensorflow.keras.initializers import Constant\n",
    "\n",
    "\n",
    "vocab_size = 10000    \n",
    "word_vector_dim = 200 \n",
    "\n",
    "model_lstmrms = keras.Sequential()\n",
    "model_lstmrms.add(keras.layers.Embedding(vocab_size, word_vector_dim, \n",
    "                                    embeddings_initializer=Constant(embedding_matrix),   # 카피한 임베딩 활용\n",
    "                                    input_shape=(None,)))\n",
    "model_lstmrms.add(keras.layers.LSTM(8, dropout=0.3, return_sequences=True))\n",
    "model_lstmrms.add(keras.layers.LSTM(8, dropout=0.3))\n",
    "model_lstmrms.add(keras.layers.Dense(1, activation='sigmoid'))\n",
    "\n",
    "model_lstmrms.summary()\n",
    "\n",
    "rmsprop = keras.optimizers.RMSprop(learning_rate=0.0001)\n",
    "model_lstmrms.compile(optimizer='rmsprop', loss='binary_crossentropy', metrics=['accuracy'])\n",
    "checkpoint_cb = keras.callbacks.ModelCheckpoint('best-LSTMrmsko-model.h5')\n",
    "early_stopping_cb = keras.callbacks.EarlyStopping(patience=3, restore_best_weights=True)  \n",
    "\n",
    "epochs=20 \n",
    "\n",
    "hist_lstmrms = model_lstmrms.fit(x_train, Y_train, epochs=epochs, validation_data=(x_val, y_val), \n",
    "                 verbose=1, callbacks=[checkpoint_cb, early_stopping_cb])"
   ]
  },
  {
   "cell_type": "code",
   "execution_count": 73,
   "id": "fa2300f4",
   "metadata": {},
   "outputs": [
    {
     "name": "stdout",
     "output_type": "stream",
     "text": [
      "1527/1527 [==============================] - 5s 3ms/step - loss: 0.3563 - accuracy: 0.8484\n"
     ]
    },
    {
     "data": {
      "text/plain": [
       "[0.3562648594379425, 0.8483930230140686]"
      ]
     },
     "execution_count": 73,
     "metadata": {},
     "output_type": "execute_result"
    }
   ],
   "source": [
    "# 저장한 모델 불러와서 테스트 데이터 정확도 구하기\n",
    "best_LSTMrms = keras.models.load_model('best-LSTMrms-model.h5')\n",
    "best_LSTMrms.evaluate(X_test, y_test)"
   ]
  },
  {
   "cell_type": "code",
   "execution_count": 75,
   "id": "54f29a1d",
   "metadata": {},
   "outputs": [
    {
     "data": {
      "image/png": "[encoded data removed]",
      "text/plain": [
       "<Figure size 864x288 with 2 Axes>"
      ]
     },
     "metadata": {
      "needs_background": "light"
     },
     "output_type": "display_data"
    }
   ],
   "source": [
    "plt.figure(figsize=(12, 4))\n",
    "\n",
    "plt.subplot(1, 2, 1)\n",
    "plt.plot(hist_lstmrms.history['loss'])\n",
    "plt.plot(hist_lstmrms.history['val_loss'])\n",
    "plt.title('Training and validation loss')\n",
    "plt.xlabel('Epochs')\n",
    "plt.ylabel('Loss')\n",
    "plt.legend(['train', 'val'])\n",
    "\n",
    "plt.subplot(1, 2, 2)\n",
    "plt.plot(hist_lstmrms.history['accuracy'])\n",
    "plt.plot(hist_lstmrms.history['val_accuracy'])\n",
    "plt.xlabel('Epoch')\n",
    "plt.ylabel('Accuracy')\n",
    "plt.legend(['train', 'val'])\n",
    "\n",
    "plt.show()"
   ]
  }
 ],
 "metadata": {
  "kernelspec": {
   "display_name": "Python 3 (ipykernel)",
   "language": "python",
   "name": "python3"
  },
  "language_info": {
   "codemirror_mode": {
    "name": "ipython",
    "version": 3
   },
   "file_extension": ".py",
   "mimetype": "text/x-python",
   "name": "python",
   "nbconvert_exporter": "python",
   "pygments_lexer": "ipython3",
   "version": "3.9.7"
  }
 },
 "nbformat": 4,
 "nbformat_minor": 5
}
