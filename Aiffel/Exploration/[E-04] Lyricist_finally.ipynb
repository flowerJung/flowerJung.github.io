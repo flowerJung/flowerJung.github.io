{
 "cells": [
  {
   "attachments": {
    "image.png": {
     "image/png": "[encoded data removed]"
    }
   },
   "cell_type": "markdown",
   "id": "2abd2fd4",
   "metadata": {},
   "source": [
    "# 인공지능 작사가 만들기\n",
    "\n",
    "\n",
    "### 순환신경망**(RNN)**\n",
    "\n",
    "---\n",
    "\n",
    "1. **단어 예측**\n",
    "\n",
    "\"나는 밥을 [ ].\" [ ]에 들어올 수 단어는??  \n",
    "먹었다. 먹는다 → 동사가 들어올 것을 예측할 수 있게 수 많은 글을 읽게 해서 인식하게 함\n",
    "\n",
    "<br>\n",
    "\n",
    "2.그럼 “**나는**” 이라는 단어는 어떻게 생성되는가? \n",
    "\n",
    "**\\<start>**라는 특수한 토큰을 맨 앞에 추가해 줌으로써 해결 가능 → 인공지능에게 사인 주기\n",
    "\n",
    "\\<start>를 입력으로 받은 순환신경망은 다음 단어로 \"나는”을 생성하고, 생성한 단어를 다시 입력으로 사용\n",
    "\n",
    "![image.png](attachment:image.png) \n",
    "\n",
    "<br><br>\n",
    "    \n",
    "### **언어 모델 (Language Model)**\n",
    "\n",
    "---\n",
    "\n",
    " **문구 뒤에 어떤 단어가 나올 확률이 높다는 것은 그 단어가 나오는 것이 보다 자연스럽다는 뜻**\n",
    "    - **'나는 밥을' 다음에 '먹었다' 가 나올 확률 : a**\n",
    "    - **'나는' 뒤에 '밥이' 가 나올 확률 : b**\n",
    "    - **‘나는 밥을 맛있게’ 뒤에 ‘먹었다’가 나올 확률 : c**\n",
    "    \n",
    "    → a, b, c의 확률이 서로 다른 데 높은 확률이 출력되게 연습하는 것이 잘 학습된 언어 모델은 훌륭한 문장 생성기로 동작하기 위한 기초"
   ]
  },
  {
   "cell_type": "markdown",
   "id": "8ba3f6b6",
   "metadata": {},
   "source": [
    "# Test1 \n",
    "#### 훈련, 검증, 테스트 세트 분리하기\n",
    "- 검증이 필요한 것 같아서 검증세트까지 분리 -> 하지만 쓸 일이 없다...\n",
    "#### batch_size=128, hidden_size=2048\n",
    "- hidden_size를 늘이니 매우 시간이 오래걸린다.\n",
    "- 한 에폭당 245초 정도 걸리니.. 약 40분이상 소요.. ㅜ.ㅜ\n",
    "\n",
    "### 1. 필요한 라이브러리 불러오기"
   ]
  },
  {
   "cell_type": "code",
   "execution_count": 33,
   "id": "031bc3cd",
   "metadata": {},
   "outputs": [],
   "source": [
    "import glob, os, re\n",
    "import numpy as np\n",
    "import tensorflow as tf\n",
    "from tensorflow import keras\n",
    "import matplotlib.pyplot as plt"
   ]
  },
  {
   "cell_type": "markdown",
   "id": "c91d00bc",
   "metadata": {},
   "source": [
    "### 2. 데이터 가져오기"
   ]
  },
  {
   "cell_type": "code",
   "execution_count": 2,
   "id": "8ce6ce01",
   "metadata": {},
   "outputs": [
    {
     "name": "stdout",
     "output_type": "stream",
     "text": [
      "데이터 크기: 187088\n",
      "Examples:\n",
      " [\"Now I've heard there was a secret chord\", 'That David played, and it pleased the Lord', \"But you don't really care for music, do you?\"]\n"
     ]
    }
   ],
   "source": [
    "# 데이터 가져오기\n",
    "txt_file_path = os.getenv('HOME')+'/aiffel/lyricist/data/lyrics/*'\n",
    "\n",
    "txt_list = glob.glob(txt_file_path)\n",
    "\n",
    "raw_corpus = []\n",
    "\n",
    "# 여러개의 txt 파일을 모두 읽어서 raw_corpus 에 담기\n",
    "for txt_file in txt_list:\n",
    "    with open(txt_file, \"r\") as f:\n",
    "        raw = f.read().splitlines()\n",
    "        raw_corpus.extend(raw)\n",
    "\n",
    "print(\"데이터 크기:\", len(raw_corpus))\n",
    "print(\"Examples:\\n\", raw_corpus[:3])"
   ]
  },
  {
   "cell_type": "markdown",
   "id": "f6c8fbf5",
   "metadata": {},
   "source": [
    "### 3. 정규표현식을 이용한 정제함수 만들기\n",
    "\n",
    "1. .lower().strip()을 이용해서 소문자로 바꾸고, 양쪽 공백 지우기  \n",
    "2. re.sub(r\"([?.!,¿])\", r\" \\1 \", sentence) : 특수문자 양쪽에 공백 넣기  \n",
    "3. re.sub(r'[\" \"]+', \" \", sentence) : 여러 개의 공백을 하나의 공백으로 대체  \n",
    "4. re.sub(r\"[^a-zA-Z?.!,¿]+\", \" \", sentence) : a-zA-Z?.!,¿가 아닌 모든 문자를 하나의 공백으로 바꾸기  \n",
    "5. sentence.strip() : 다시 양쪽 공백 지우기\n",
    "6. '\\<start>' + sentence + ' \\<end>' : 문장 시작에는 \\<start>, 끝에는 \\<end>를 추가하기"
   ]
  },
  {
   "cell_type": "code",
   "execution_count": 3,
   "id": "a0de8d88",
   "metadata": {},
   "outputs": [],
   "source": [
    "# 정제함수\n",
    "def preprocess_sentence(sentence):\n",
    "    sentence = sentence.lower().strip() # 1\n",
    "    sentence = re.sub(r\"([?.!,¿])\", r\" \\1 \", sentence) # 2\n",
    "    sentence = re.sub(r'[\" \"]+', \" \", sentence) # 3\n",
    "    sentence = re.sub(r\"[^a-zA-Z?.!,¿]+\", \" \", sentence) # 4\n",
    "    sentence = sentence.strip() # 5\n",
    "    sentence = '<start> ' + sentence + ' <end>' # 6\n",
    "    return sentence\n"
   ]
  },
  {
   "cell_type": "markdown",
   "id": "b333c35e",
   "metadata": {},
   "source": [
    "### 4. 정제함수를 이용해 정제 말뭉치 만들기"
   ]
  },
  {
   "cell_type": "code",
   "execution_count": 4,
   "id": "5b3e2d8d",
   "metadata": {},
   "outputs": [
    {
     "data": {
      "text/plain": [
       "['<start> now i ve heard there was a secret chord <end>',\n",
       " '<start> that david played , and it pleased the lord <end>',\n",
       " '<start> but you don t really care for music , do you ? <end>',\n",
       " '<start> it goes like this <end>',\n",
       " '<start> the fourth , the fifth <end>',\n",
       " '<start> the minor fall , the major lift <end>',\n",
       " '<start> the baffled king composing hallelujah hallelujah <end>',\n",
       " '<start> hallelujah <end>',\n",
       " '<start> hallelujah <end>',\n",
       " '<start> hallelujah your faith was strong but you needed proof <end>']"
      ]
     },
     "execution_count": 4,
     "metadata": {},
     "output_type": "execute_result"
    }
   ],
   "source": [
    "# 여기에 정제된 문장을 모을겁니다\n",
    "corpus = []\n",
    "\n",
    "for sentence in raw_corpus:\n",
    "    # 우리가 원하지 않는 문장은 건너뜁니다\n",
    "    if len(sentence) == 0: continue\n",
    "    if sentence[-1] == \":\": continue\n",
    "    \n",
    "    # 정제를 하고 담아주세요\n",
    "    preprocessed_sentence = preprocess_sentence(sentence)\n",
    "    \n",
    "    # 토큰화 했을 때 토큰의 개수가 15개를 넘어가는 문장 건너뛰기\n",
    "    if len(preprocessed_sentence.split()) > 15: continue\n",
    "        \n",
    "    corpus.append(preprocessed_sentence)\n",
    "        \n",
    "# 정제된 결과를 5개만 확인하기\n",
    "corpus[:5]"
   ]
  },
  {
   "cell_type": "markdown",
   "id": "e0976c03",
   "metadata": {},
   "source": [
    "### 5. 벡터화\n",
    "\n",
    "- 12000단어를 기억할 수 있는 tokenizer를 만들기\n",
    "- 12000단어에 포함되지 못한 단어는 '\\<unk>'로 바꾸기\n",
    "- 토큰화 할 때 텐서플로우의 Tokenizer와 pad_sequences를 사용\n",
    "   - 문장이 짧을 때 '0'으로 padding해서 문장 길이 맞추기\n",
    "   - 'post'는 문장 뒤에 '0' 붙이기"
   ]
  },
  {
   "cell_type": "code",
   "execution_count": 5,
   "id": "086eaf8e",
   "metadata": {},
   "outputs": [
    {
     "name": "stdout",
     "output_type": "stream",
     "text": [
      "tensor\n",
      " [[   2   50    4 ...    0    0    0]\n",
      " [   2   15 2967 ...    0    0    0]\n",
      " [   2   33    7 ...   46    3    0]\n",
      " ...\n",
      " [   2    4  118 ...    0    0    0]\n",
      " [   2  258  194 ...   12    3    0]\n",
      " [   2    7   34 ...    0    0    0]]\n",
      "tokenizer :\n",
      " <keras_preprocessing.text.Tokenizer object at 0x7fa37829bee0>\n"
     ]
    }
   ],
   "source": [
    "# 토근화 함수 만들기\n",
    "def tokenize(corpus):   \n",
    "   \n",
    "    tokenizer = tf.keras.preprocessing.text.Tokenizer(\n",
    "        num_words=12000, \n",
    "        filters=' ',\n",
    "        oov_token=\"<unk>\"\n",
    "    )\n",
    "\n",
    "    # corpus를 이용해 tokenizer 내부의 단어장을 완성\n",
    "    tokenizer.fit_on_texts(corpus)\n",
    "\n",
    "    # 준비한 tokenizer를 이용해 corpus를 Tensor로 변환\n",
    "    tensor = tokenizer.texts_to_sequences(corpus)   \n",
    "\n",
    "    tensor = tf.keras.preprocessing.sequence.pad_sequences(tensor, padding='post')  \n",
    "    \n",
    "    print(\"tensor\\n\", tensor)\n",
    "    print(\"tokenizer :\\n\", tokenizer)\n",
    "    return tensor, tokenizer\n",
    "\n",
    "tensor, tokenizer = tokenize(corpus)"
   ]
  },
  {
   "cell_type": "code",
   "execution_count": 6,
   "id": "56721ab3",
   "metadata": {},
   "outputs": [
    {
     "name": "stdout",
     "output_type": "stream",
     "text": [
      "(156013, 15)\n"
     ]
    }
   ],
   "source": [
    "# 그냥 벡터화 한 tensor의 크기가 궁금해서\n",
    "print(tensor.shape)"
   ]
  },
  {
   "cell_type": "code",
   "execution_count": 7,
   "id": "d99291a8",
   "metadata": {},
   "outputs": [
    {
     "name": "stdout",
     "output_type": "stream",
     "text": [
      "1 : <unk>\n",
      "2 : <start>\n",
      "3 : <end>\n",
      "4 : i\n",
      "5 : ,\n",
      "6 : the\n",
      "7 : you\n",
      "8 : and\n",
      "9 : a\n",
      "10 : to\n"
     ]
    }
   ],
   "source": [
    "# 단어사전보기\n",
    "for idx in tokenizer.index_word:\n",
    "    print(idx, \":\", tokenizer.index_word[idx])\n",
    "\n",
    "    if idx >= 10: break\n"
   ]
  },
  {
   "cell_type": "markdown",
   "id": "beed0502",
   "metadata": {},
   "source": [
    "## 7. 텐서를 소스와 타겟으로 분리"
   ]
  },
  {
   "cell_type": "code",
   "execution_count": 8,
   "id": "51edac0e",
   "metadata": {},
   "outputs": [
    {
     "name": "stdout",
     "output_type": "stream",
     "text": [
      "소스 문장 5줄 tensor\n",
      " [[   2   50    4   95  303   62   53    9  946 6263    3    0    0    0]\n",
      " [   2   15 2967  871    5    8   11 5739    6  374    3    0    0    0]\n",
      " [   2   33    7   40   16  164  288   28  333    5   48    7   46    3]\n",
      " [   2   11  335   23   41    3    0    0    0    0    0    0    0    0]\n",
      " [   2    6 4486    5    6 2039    3    0    0    0    0    0    0    0]] \n",
      "\n",
      "타겟 문장 5줄 tensor\n",
      " [[  50    4   95  303   62   53    9  946 6263    3    0    0    0    0]\n",
      " [  15 2967  871    5    8   11 5739    6  374    3    0    0    0    0]\n",
      " [  33    7   40   16  164  288   28  333    5   48    7   46    3    0]\n",
      " [  11  335   23   41    3    0    0    0    0    0    0    0    0    0]\n",
      " [   6 4486    5    6 2039    3    0    0    0    0    0    0    0    0]]\n"
     ]
    }
   ],
   "source": [
    "# 마지막 토큰은 <end>가 아니라 <pad>일 가능성이 높습니다.\n",
    "src_input = tensor[:, :-1]  \n",
    "# tensor에서 <start>를 잘라내서 타겟 문장을 생성합니다.\n",
    "tgt_input = tensor[:, 1:]    \n",
    "\n",
    "print(\"소스 문장 5줄 tensor\\n\", src_input[:5], \"\\n\")\n",
    "print(\"타겟 문장 5줄 tensor\\n\", tgt_input[:5])"
   ]
  },
  {
   "cell_type": "markdown",
   "id": "b5546ccb",
   "metadata": {},
   "source": [
    "## 8. 훈련 , 검증 , 테스트 데이터 분리"
   ]
  },
  {
   "cell_type": "code",
   "execution_count": 42,
   "id": "9e265774",
   "metadata": {},
   "outputs": [],
   "source": [
    "from sklearn.model_selection import train_test_split\n",
    "\n",
    "# 훈련, 테스트 세트 분리\n",
    "enc_total, enc_test, dec_total, dec_test = train_test_split(src_input, tgt_input, test_size=0.2, random_state=42)\n",
    "# 훈련, 검증세트 분리\n",
    "enc_train, enc_val, dec_train, dec_val = train_test_split(enc_total, dec_total, test_size=0.125, random_state=42)"
   ]
  },
  {
   "cell_type": "code",
   "execution_count": 43,
   "id": "84a5a2ab",
   "metadata": {},
   "outputs": [
    {
     "name": "stdout",
     "output_type": "stream",
     "text": [
      "Source Train: (109208, 14)\n",
      "Target Train: (109208, 14)\n",
      "Source Validation: (15602, 14)\n",
      "Target Validation: (15602, 14)\n",
      "Source Test: (31203, 14)\n",
      "Target Test: (31203, 14)\n"
     ]
    }
   ],
   "source": [
    "# 훈련, 검증, 테스트 데이터셋 구조 보기\n",
    "print(\"Source Train:\", enc_train.shape)\n",
    "print(\"Target Train:\", dec_train.shape)\n",
    "print(\"Source Validation:\", enc_val.shape)\n",
    "print(\"Target Validation:\", dec_val.shape)\n",
    "print(\"Source Test:\", enc_test.shape)\n",
    "print(\"Target Test:\", dec_test.shape)"
   ]
  },
  {
   "cell_type": "markdown",
   "id": "26f8726e",
   "metadata": {},
   "source": [
    "### 9. 모델 만들기"
   ]
  },
  {
   "cell_type": "code",
   "execution_count": 48,
   "id": "31b987c2",
   "metadata": {},
   "outputs": [],
   "source": [
    "# 모델 만들기\n",
    "class TextGenerator(tf.keras.Model):\n",
    "    def __init__(self, vocab_size, embedding_size, hidden_size):\n",
    "        super().__init__()\n",
    "        \n",
    "        self.embedding = tf.keras.layers.Embedding(vocab_size, embedding_size)\n",
    "        self.rnn_1 = tf.keras.layers.LSTM(hidden_size, return_sequences=True)\n",
    "        self.rnn_2 = tf.keras.layers.LSTM(hidden_size, return_sequences=True)\n",
    "        self.linear = tf.keras.layers.Dense(vocab_size)\n",
    "        \n",
    "    def call(self, x):\n",
    "        out = self.embedding(x)\n",
    "        out = self.rnn_1(out)\n",
    "        out = self.rnn_2(out)\n",
    "        out = self.linear(out)\n",
    "        \n",
    "        return out\n",
    "    \n",
    "embedding_size = 256\n",
    "hidden_size = 2048\n",
    "model = TextGenerator(tokenizer.num_words + 1, embedding_size , hidden_size)"
   ]
  },
  {
   "cell_type": "markdown",
   "id": "c3842750",
   "metadata": {},
   "source": [
    "### 10. 훈련하기"
   ]
  },
  {
   "cell_type": "code",
   "execution_count": 50,
   "id": "dfaab814",
   "metadata": {
    "scrolled": true
   },
   "outputs": [],
   "source": [
    "# 모델 컴파일\n",
    "optimizer = tf.keras.optimizers.Adam()\n",
    "loss = tf.keras.losses.SparseCategoricalCrossentropy(\n",
    "    from_logits=True, reduction='none')\n",
    "\n",
    "model.compile(loss=loss, optimizer=optimizer)\n"
   ]
  },
  {
   "cell_type": "code",
   "execution_count": 51,
   "id": "8de6c280",
   "metadata": {},
   "outputs": [
    {
     "name": "stdout",
     "output_type": "stream",
     "text": [
      "Epoch 1/10\n",
      "854/854 [==============================] - 235s 253ms/step - loss: 3.2147 - val_loss: 2.8597\n",
      "Epoch 2/10\n",
      "854/854 [==============================] - 225s 263ms/step - loss: 2.6771 - val_loss: 2.6060\n",
      "Epoch 3/10\n",
      "854/854 [==============================] - 225s 264ms/step - loss: 2.3060 - val_loss: 2.4295\n",
      "Epoch 4/10\n",
      "854/854 [==============================] - 226s 265ms/step - loss: 1.9445 - val_loss: 2.3182\n",
      "Epoch 5/10\n",
      "854/854 [==============================] - 226s 265ms/step - loss: 1.6307 - val_loss: 2.2583\n",
      "Epoch 6/10\n",
      "854/854 [==============================] - 226s 264ms/step - loss: 1.3872 - val_loss: 2.2441\n",
      "Epoch 7/10\n",
      "854/854 [==============================] - 227s 265ms/step - loss: 1.2117 - val_loss: 2.2617\n",
      "Epoch 8/10\n",
      "854/854 [==============================] - 227s 265ms/step - loss: 1.1048 - val_loss: 2.2873\n",
      "Epoch 9/10\n",
      "854/854 [==============================] - 227s 265ms/step - loss: 1.0471 - val_loss: 2.3192\n",
      "Epoch 10/10\n",
      "854/854 [==============================] - 227s 265ms/step - loss: 1.0143 - val_loss: 2.3451\n"
     ]
    }
   ],
   "source": [
    "# 모델 훈련하기\n",
    "hist = model.fit(enc_train, dec_train, epochs=10, batch_size=128, \n",
    "                 validation_data=(enc_val, dec_val))                "
   ]
  },
  {
   "cell_type": "markdown",
   "id": "3b7c7b94",
   "metadata": {},
   "source": [
    "### 11. 손실함수 시각화"
   ]
  },
  {
   "cell_type": "code",
   "execution_count": 52,
   "id": "32170c24",
   "metadata": {},
   "outputs": [
    {
     "data": {
      "image/png": "[encoded data removed]",
      "text/plain": [
       "<Figure size 432x288 with 1 Axes>"
      ]
     },
     "metadata": {
      "needs_background": "light"
     },
     "output_type": "display_data"
    }
   ],
   "source": [
    "# 손실함수 그리기\n",
    "plt.plot(hist.history['loss'])\n",
    "plt.plot(hist.history['val_loss'])\n",
    "plt.xlabel('epoch')\n",
    "plt.ylabel('loss')\n",
    "plt.legend(['train', 'val'])\n",
    "plt.show()"
   ]
  },
  {
   "cell_type": "markdown",
   "id": "c8f65abe",
   "metadata": {},
   "source": [
    "### 12. 문자 생성 함수 만들기, 문자 생성 함수 실행"
   ]
  },
  {
   "cell_type": "code",
   "execution_count": 53,
   "id": "b516accd",
   "metadata": {},
   "outputs": [],
   "source": [
    "# 문자 생성 함수 만들기\n",
    "def generate_text(model, tokenizer, init_sentence=\"<start>\", max_len=20):\n",
    "    # 테스트를 위해서 입력받은 init_sentence도 텐서로 변환합니다\n",
    "    test_input = tokenizer.texts_to_sequences([init_sentence])\n",
    "    test_tensor = tf.convert_to_tensor(test_input, dtype=tf.int64)\n",
    "    end_token = tokenizer.word_index[\"<end>\"]\n",
    "\n",
    "    # 단어 하나씩 예측해 문장을 만듭니다\n",
    "    #    1. 입력받은 문장의 텐서를 입력합니다\n",
    "    #    2. 예측된 값 중 가장 높은 확률인 word index를 뽑아냅니다\n",
    "    #    3. 2에서 예측된 word index를 문장 뒤에 붙입니다\n",
    "    #    4. 모델이 <end>를 예측했거나, max_len에 도달했다면 문장 생성을 마칩니다\n",
    "    while True:\n",
    "        # 1\n",
    "        predict = model(test_tensor) \n",
    "        # 2\n",
    "        predict_word = tf.argmax(tf.nn.softmax(predict, axis=-1), axis=-1)[:, -1] \n",
    "        # 3 \n",
    "        test_tensor = tf.concat([test_tensor, tf.expand_dims(predict_word, axis=0)], axis=-1)\n",
    "        # 4\n",
    "        if predict_word.numpy()[0] == end_token: break\n",
    "        if test_tensor.shape[1] >= max_len: break\n",
    "\n",
    "    generated = \"\"\n",
    "    # tokenizer를 이용해 word index를 단어로 하나씩 변환합니다 \n",
    "    for word_index in test_tensor[0].numpy():\n",
    "        generated += tokenizer.index_word[word_index] + \" \"\n",
    "\n",
    "    return generated"
   ]
  },
  {
   "cell_type": "code",
   "execution_count": 54,
   "id": "21f6e363",
   "metadata": {},
   "outputs": [
    {
     "data": {
      "text/plain": [
       "'<start> i love you , oh , yeah <end> '"
      ]
     },
     "execution_count": 54,
     "metadata": {},
     "output_type": "execute_result"
    }
   ],
   "source": [
    "generate_text(model, tokenizer, init_sentence=\"<start> i love\", max_len=20)"
   ]
  },
  {
   "cell_type": "markdown",
   "id": "69f8e422",
   "metadata": {},
   "source": [
    "# Test2\n",
    "### hidden_size = 2048, random_state=7, batch_size=1024\n",
    "#### batch_size가 1024이니 검증세트가 다시 올라가지는 않는다.\n",
    "#### 하지만 아직도 val_loss가 엉망이다..\n",
    "\n",
    "### 훈련, 테스트 세트만 분리"
   ]
  },
  {
   "cell_type": "markdown",
   "id": "7d166a1d",
   "metadata": {},
   "source": [
    "## 8. 훈련 , 검증 , 테스트 데이터 분리"
   ]
  },
  {
   "cell_type": "code",
   "execution_count": 14,
   "id": "513dd2d7",
   "metadata": {},
   "outputs": [],
   "source": [
    "from sklearn.model_selection import train_test_split\n",
    "\n",
    "# 훈련, 테스트 세트 분리\n",
    "enc_train, enc_val, dec_train, dec_val = train_test_split(src_input, tgt_input, test_size=0.2, random_state=32)"
   ]
  },
  {
   "cell_type": "code",
   "execution_count": 15,
   "id": "6328bec1",
   "metadata": {},
   "outputs": [
    {
     "name": "stdout",
     "output_type": "stream",
     "text": [
      "Source Test: (124810, 14)\n",
      "Target Test: (124810, 14)\n",
      "Source Validation: (31203, 14)\n",
      "Target Validation: (31203, 14)\n"
     ]
    }
   ],
   "source": [
    "# 훈련, 검증, 테스트 데이터셋 구조 보기\n",
    "print(\"Source Test:\", enc_train.shape)\n",
    "print(\"Target Test:\", dec_train.shape)\n",
    "print(\"Source Validation:\", enc_val.shape)\n",
    "print(\"Target Validation:\", dec_val.shape)"
   ]
  },
  {
   "cell_type": "markdown",
   "id": "d3f44ef4",
   "metadata": {},
   "source": [
    "## 9. 모델 만들기"
   ]
  },
  {
   "cell_type": "code",
   "execution_count": 24,
   "id": "db11f266",
   "metadata": {},
   "outputs": [],
   "source": [
    "# 모델 만들기\n",
    "class TextGenerator(tf.keras.Model):\n",
    "    def __init__(self, vocab_size, embedding_size, hidden_size):\n",
    "        super().__init__()\n",
    "        \n",
    "        self.embedding = tf.keras.layers.Embedding(vocab_size, embedding_size)\n",
    "        self.rnn_1 = tf.keras.layers.LSTM(hidden_size, return_sequences=True)\n",
    "        self.rnn_2 = tf.keras.layers.LSTM(hidden_size, return_sequences=True)\n",
    "        self.linear = tf.keras.layers.Dense(vocab_size)\n",
    "        \n",
    "    def call(self, x):\n",
    "        out = self.embedding(x)\n",
    "        out = self.rnn_1(out)\n",
    "        out = self.rnn_2(out)\n",
    "        out = self.linear(out)\n",
    "        \n",
    "        return out\n",
    "    \n",
    "embedding_size = 256\n",
    "hidden_size = 1024\n",
    "model = TextGenerator(tokenizer.num_words + 1, embedding_size , hidden_size)"
   ]
  },
  {
   "cell_type": "markdown",
   "id": "a865927b",
   "metadata": {},
   "source": [
    "## 10. 훈련하기"
   ]
  },
  {
   "cell_type": "code",
   "execution_count": 12,
   "id": "be39a9d6",
   "metadata": {},
   "outputs": [],
   "source": [
    "# model.summary()"
   ]
  },
  {
   "cell_type": "code",
   "execution_count": 25,
   "id": "b1284af4",
   "metadata": {
    "scrolled": true
   },
   "outputs": [],
   "source": [
    "# 모델 컴파일\n",
    "optimizer = tf.keras.optimizers.Adam()\n",
    "loss = tf.keras.losses.SparseCategoricalCrossentropy(\n",
    "    from_logits=True, reduction='none')\n",
    "\n",
    "model.compile(loss=loss, optimizer=optimizer)"
   ]
  },
  {
   "cell_type": "code",
   "execution_count": 26,
   "id": "06075843",
   "metadata": {
    "scrolled": true
   },
   "outputs": [
    {
     "name": "stdout",
     "output_type": "stream",
     "text": [
      "Epoch 1/10\n",
      "122/122 [==============================] - 110s 869ms/step - loss: 4.0773 - val_loss: 3.4482\n",
      "Epoch 2/10\n",
      "122/122 [==============================] - 105s 862ms/step - loss: 3.3410 - val_loss: 3.2566\n",
      "Epoch 3/10\n",
      "122/122 [==============================] - 105s 864ms/step - loss: 3.1695 - val_loss: 3.1303\n",
      "Epoch 4/10\n",
      "122/122 [==============================] - 105s 863ms/step - loss: 3.0629 - val_loss: 3.0505\n",
      "Epoch 5/10\n",
      "122/122 [==============================] - 105s 865ms/step - loss: 2.9817 - val_loss: 2.9876\n",
      "Epoch 6/10\n",
      "122/122 [==============================] - 105s 864ms/step - loss: 2.9118 - val_loss: 2.9318\n",
      "Epoch 7/10\n",
      "122/122 [==============================] - 105s 865ms/step - loss: 2.8488 - val_loss: 2.8869\n",
      "Epoch 8/10\n",
      "122/122 [==============================] - 105s 865ms/step - loss: 2.7931 - val_loss: 2.8474\n",
      "Epoch 9/10\n",
      "122/122 [==============================] - 106s 865ms/step - loss: 2.7405 - val_loss: 2.8122\n",
      "Epoch 10/10\n",
      "122/122 [==============================] - 106s 866ms/step - loss: 2.6920 - val_loss: 2.7803\n"
     ]
    }
   ],
   "source": [
    "# 모델 훈련하기\n",
    "hist = model.fit(x = enc_train, y = dec_train, epochs=10, batch_size=1024, validation_data=(enc_val, dec_val))                "
   ]
  },
  {
   "cell_type": "markdown",
   "id": "e47a3f4e",
   "metadata": {},
   "source": [
    "## 11. 손실함수 시각화"
   ]
  },
  {
   "cell_type": "code",
   "execution_count": 27,
   "id": "b79fe500",
   "metadata": {
    "scrolled": true
   },
   "outputs": [
    {
     "data": {
      "image/png": "[encoded data removed]",
      "text/plain": [
       "<Figure size 432x288 with 1 Axes>"
      ]
     },
     "metadata": {
      "needs_background": "light"
     },
     "output_type": "display_data"
    }
   ],
   "source": [
    "# 손실함수 그리기\n",
    "plt.plot(hist.history['loss'])\n",
    "plt.plot(hist.history['val_loss'])\n",
    "plt.xlabel('epoch')\n",
    "plt.ylabel('loss')\n",
    "plt.legend(['train', 'val'])\n",
    "plt.show()"
   ]
  },
  {
   "cell_type": "markdown",
   "id": "70ac17bb",
   "metadata": {},
   "source": [
    "### 12. 문자 생성 함수 만들기, 문자 생성 함수 실행"
   ]
  },
  {
   "cell_type": "code",
   "execution_count": 28,
   "id": "0f731328",
   "metadata": {},
   "outputs": [],
   "source": [
    "# 문자 생성 함수 만들기\n",
    "def generate_text(model, tokenizer, init_sentence=\"<start>\", max_len=20):\n",
    "    # 테스트를 위해서 입력받은 init_sentence도 텐서로 변환합니다\n",
    "    test_input = tokenizer.texts_to_sequences([init_sentence])\n",
    "    test_tensor = tf.convert_to_tensor(test_input, dtype=tf.int64)\n",
    "    end_token = tokenizer.word_index[\"<end>\"]\n",
    "\n",
    "    # 단어 하나씩 예측해 문장을 만듭니다\n",
    "    #    1. 입력받은 문장의 텐서를 입력합니다\n",
    "    #    2. 예측된 값 중 가장 높은 확률인 word index를 뽑아냅니다\n",
    "    #    3. 2에서 예측된 word index를 문장 뒤에 붙입니다\n",
    "    #    4. 모델이 <end>를 예측했거나, max_len에 도달했다면 문장 생성을 마칩니다\n",
    "    while True:\n",
    "        # 1\n",
    "        predict = model(test_tensor) \n",
    "        # 2\n",
    "        predict_word = tf.argmax(tf.nn.softmax(predict, axis=-1), axis=-1)[:, -1] \n",
    "        # 3 \n",
    "        test_tensor = tf.concat([test_tensor, tf.expand_dims(predict_word, axis=0)], axis=-1)\n",
    "        # 4\n",
    "        if predict_word.numpy()[0] == end_token: break\n",
    "        if test_tensor.shape[1] >= max_len: break\n",
    "\n",
    "    generated = \"\"\n",
    "    # tokenizer를 이용해 word index를 단어로 하나씩 변환합니다 \n",
    "    for word_index in test_tensor[0].numpy():\n",
    "        generated += tokenizer.index_word[word_index] + \" \"\n",
    "\n",
    "    return generated"
   ]
  },
  {
   "cell_type": "code",
   "execution_count": 29,
   "id": "d50a5853",
   "metadata": {},
   "outputs": [
    {
     "data": {
      "text/plain": [
       "'<start> i love you , i m gonna be a <unk> <end> '"
      ]
     },
     "execution_count": 29,
     "metadata": {},
     "output_type": "execute_result"
    }
   ],
   "source": [
    "generate_text(model, tokenizer, init_sentence=\"<start> i love\", max_len=20)"
   ]
  },
  {
   "cell_type": "markdown",
   "id": "49b44f62",
   "metadata": {},
   "source": [
    "# Test3\n",
    "#### 과적합이 되면서 val_loss가 내려가다가 다시 올라가서 drop_out을 추가했다.\n",
    "#### batch_size가 val_loss를 잡아주는 것 같아서 주었는 데.. drop_out을 추가해서 삭제 후 다시 훈련\n",
    "#### 훈련에 들이는 시간에 비해서 아직도 2.2가 되지를 않는다... ㅜ.ㅜ\n",
    "## dropout(0.5)추가 hidden=1024"
   ]
  },
  {
   "cell_type": "code",
   "execution_count": 33,
   "id": "deba2c23",
   "metadata": {},
   "outputs": [],
   "source": [
    "# 모델 만들기\n",
    "class TextGenerator(tf.keras.Model):\n",
    "    def __init__(self, vocab_size, embedding_size, hidden_size):\n",
    "        super().__init__()\n",
    "        \n",
    "        self.embedding = tf.keras.layers.Embedding(vocab_size, embedding_size)\n",
    "        self.rnn_1 = tf.keras.layers.LSTM(hidden_size, return_sequences=True)\n",
    "        self.rnn_2 = tf.keras.layers.LSTM(hidden_size, return_sequences=True)\n",
    "        self.drop = tf.keras.layers.Dropout(0.5)\n",
    "        self.linear = tf.keras.layers.Dense(vocab_size)\n",
    "        \n",
    "    def call(self, x):\n",
    "        out = self.embedding(x)\n",
    "        out = self.rnn_1(out)\n",
    "        out = self.rnn_2(out)\n",
    "        out = self.drop(out)\n",
    "        out = self.linear(out)\n",
    "        \n",
    "        return out\n",
    "    \n",
    "embedding_size = 256\n",
    "hidden_size = 1024\n",
    "model = TextGenerator(tokenizer.num_words + 1, embedding_size , hidden_size)"
   ]
  },
  {
   "cell_type": "code",
   "execution_count": 34,
   "id": "6502d5b6",
   "metadata": {},
   "outputs": [
    {
     "name": "stdout",
     "output_type": "stream",
     "text": [
      "Epoch 1/10\n",
      "3901/3901 [==============================] - 145s 36ms/step - loss: 3.1574 - val_loss: 2.9043\n",
      "Epoch 2/10\n",
      "3901/3901 [==============================] - 140s 36ms/step - loss: 2.8244 - val_loss: 2.7291\n",
      "Epoch 3/10\n",
      "3901/3901 [==============================] - 140s 36ms/step - loss: 2.6370 - val_loss: 2.6062\n",
      "Epoch 4/10\n",
      "3901/3901 [==============================] - 140s 36ms/step - loss: 2.4666 - val_loss: 2.5054\n",
      "Epoch 5/10\n",
      "3901/3901 [==============================] - 140s 36ms/step - loss: 2.3099 - val_loss: 2.4342\n",
      "Epoch 6/10\n",
      "3901/3901 [==============================] - 140s 36ms/step - loss: 2.1662 - val_loss: 2.3839\n",
      "Epoch 7/10\n",
      "3901/3901 [==============================] - 140s 36ms/step - loss: 2.0406 - val_loss: 2.3496\n",
      "Epoch 8/10\n",
      "3901/3901 [==============================] - 140s 36ms/step - loss: 1.9335 - val_loss: 2.3234\n",
      "Epoch 9/10\n",
      "3901/3901 [==============================] - 140s 36ms/step - loss: 1.8415 - val_loss: 2.3045\n",
      "Epoch 10/10\n",
      "3901/3901 [==============================] - 139s 36ms/step - loss: 1.7640 - val_loss: 2.2974\n"
     ]
    }
   ],
   "source": [
    "# 모델 컴파일\n",
    "optimizer = tf.keras.optimizers.Adam()\n",
    "loss = tf.keras.losses.SparseCategoricalCrossentropy(\n",
    "    from_logits=True, reduction='none')\n",
    "\n",
    "model.compile(loss=loss, optimizer=optimizer)\n",
    "\n",
    "# 모델 훈련하기\n",
    "hist = model.fit(x = enc_train, y = dec_train, epochs=10, validation_data=(enc_val, dec_val)) "
   ]
  },
  {
   "cell_type": "code",
   "execution_count": 18,
   "id": "f0ee451e",
   "metadata": {},
   "outputs": [
    {
     "data": {
      "image/png": "[encoded data removed]",
      "text/plain": [
       "<Figure size 432x288 with 1 Axes>"
      ]
     },
     "metadata": {
      "needs_background": "light"
     },
     "output_type": "display_data"
    }
   ],
   "source": [
    "# 손실함수 그리기\n",
    "plt.plot(hist.history['loss'])\n",
    "plt.plot(hist.history['val_loss'])\n",
    "plt.xlabel('epoch')\n",
    "plt.ylabel('loss')\n",
    "plt.legend(['train', 'val'])\n",
    "plt.show()"
   ]
  },
  {
   "cell_type": "markdown",
   "id": "7640c89b",
   "metadata": {},
   "source": [
    "### 문자 생성 함수 만들기, 문자 생성 함수 실행"
   ]
  },
  {
   "cell_type": "code",
   "execution_count": 19,
   "id": "af949318",
   "metadata": {},
   "outputs": [],
   "source": [
    "# 문자 생성 함수 만들기\n",
    "def generate_text(model, tokenizer, init_sentence=\"<start>\", max_len=20):\n",
    "    # 테스트를 위해서 입력받은 init_sentence도 텐서로 변환합니다\n",
    "    test_input = tokenizer.texts_to_sequences([init_sentence])\n",
    "    test_tensor = tf.convert_to_tensor(test_input, dtype=tf.int64)\n",
    "    end_token = tokenizer.word_index[\"<end>\"]\n",
    "\n",
    "    # 단어 하나씩 예측해 문장을 만듭니다\n",
    "    #    1. 입력받은 문장의 텐서를 입력합니다\n",
    "    #    2. 예측된 값 중 가장 높은 확률인 word index를 뽑아냅니다\n",
    "    #    3. 2에서 예측된 word index를 문장 뒤에 붙입니다\n",
    "    #    4. 모델이 <end>를 예측했거나, max_len에 도달했다면 문장 생성을 마칩니다\n",
    "    while True:\n",
    "        # 1\n",
    "        predict = model(test_tensor) \n",
    "        # 2\n",
    "        predict_word = tf.argmax(tf.nn.softmax(predict, axis=-1), axis=-1)[:, -1] \n",
    "        # 3 \n",
    "        test_tensor = tf.concat([test_tensor, tf.expand_dims(predict_word, axis=0)], axis=-1)\n",
    "        # 4\n",
    "        if predict_word.numpy()[0] == end_token: break\n",
    "        if test_tensor.shape[1] >= max_len: break\n",
    "\n",
    "    generated = \"\"\n",
    "    # tokenizer를 이용해 word index를 단어로 하나씩 변환합니다 \n",
    "    for word_index in test_tensor[0].numpy():\n",
    "        generated += tokenizer.index_word[word_index] + \" \"\n",
    "\n",
    "    return generated"
   ]
  },
  {
   "cell_type": "code",
   "execution_count": 36,
   "id": "f1bf3c3b",
   "metadata": {},
   "outputs": [
    {
     "data": {
      "text/plain": [
       "'<start> i love you , i love you <end> '"
      ]
     },
     "execution_count": 36,
     "metadata": {},
     "output_type": "execute_result"
    }
   ],
   "source": [
    "# 문자 생성해보기\n",
    "generate_text(model, tokenizer, init_sentence=\"<start> i love\", max_len=20)"
   ]
  },
  {
   "cell_type": "markdown",
   "id": "7c99272f",
   "metadata": {},
   "source": [
    "# Test4\n",
    "## dropout(0.5)추가 hidden=2048\n",
    "#### dropout(0.4)를 하니 val_loss가 기준에 맞춰지지를 않아서, hidden_size를 조정했다..\n",
    "#### 드디어 val_loss가 2.2이하가 됐다..\n",
    "#### 수치는 만족스럽지 않지만 이제 끝이다.. 행복해 할거다....."
   ]
  },
  {
   "cell_type": "code",
   "execution_count": 20,
   "id": "1cd93be2",
   "metadata": {},
   "outputs": [],
   "source": [
    "# 모델 만들기\n",
    "class TextGenerator(tf.keras.Model):\n",
    "    def __init__(self, vocab_size, embedding_size, hidden_size):\n",
    "        super().__init__()\n",
    "        \n",
    "        self.embedding = tf.keras.layers.Embedding(vocab_size, embedding_size)\n",
    "        self.rnn_1 = tf.keras.layers.LSTM(hidden_size, return_sequences=True)\n",
    "        self.rnn_2 = tf.keras.layers.LSTM(hidden_size, return_sequences=True)\n",
    "        self.drop = tf.keras.layers.Dropout(0.5)\n",
    "        self.linear = tf.keras.layers.Dense(vocab_size)\n",
    "        \n",
    "    def call(self, x):\n",
    "        out = self.embedding(x)\n",
    "        out = self.rnn_1(out)\n",
    "        out = self.rnn_2(out)\n",
    "        out = self.drop(out)\n",
    "        out = self.linear(out)\n",
    "        \n",
    "        return out\n",
    "    \n",
    "embedding_size = 256\n",
    "hidden_size = 2048\n",
    "model = TextGenerator(tokenizer.num_words + 1, embedding_size , hidden_size)"
   ]
  },
  {
   "cell_type": "code",
   "execution_count": 21,
   "id": "0cc2c8f9",
   "metadata": {},
   "outputs": [
    {
     "name": "stdout",
     "output_type": "stream",
     "text": [
      "Epoch 1/10\n",
      "3901/3901 [==============================] - 429s 105ms/step - loss: 3.0946 - val_loss: 2.8110\n",
      "Epoch 2/10\n",
      "3901/3901 [==============================] - 411s 105ms/step - loss: 2.7045 - val_loss: 2.5900\n",
      "Epoch 3/10\n",
      "3901/3901 [==============================] - 411s 105ms/step - loss: 2.4426 - val_loss: 2.4429\n",
      "Epoch 4/10\n",
      "3901/3901 [==============================] - 411s 105ms/step - loss: 2.1979 - val_loss: 2.3304\n",
      "Epoch 5/10\n",
      "3901/3901 [==============================] - 411s 105ms/step - loss: 1.9875 - val_loss: 2.2562\n",
      "Epoch 6/10\n",
      "3901/3901 [==============================] - 411s 105ms/step - loss: 1.8173 - val_loss: 2.2116\n",
      "Epoch 7/10\n",
      "3901/3901 [==============================] - 412s 106ms/step - loss: 1.6829 - val_loss: 2.1954\n",
      "Epoch 8/10\n",
      "3901/3901 [==============================] - 411s 105ms/step - loss: 1.5787 - val_loss: 2.1808\n",
      "Epoch 9/10\n",
      "3901/3901 [==============================] - 411s 105ms/step - loss: 1.5020 - val_loss: 2.1869\n",
      "Epoch 10/10\n",
      "3901/3901 [==============================] - 411s 105ms/step - loss: 1.4419 - val_loss: 2.1942\n"
     ]
    }
   ],
   "source": [
    "# 모델 컴파일\n",
    "optimizer = tf.keras.optimizers.Adam()\n",
    "loss = tf.keras.losses.SparseCategoricalCrossentropy(\n",
    "    from_logits=True, reduction='none')\n",
    "\n",
    "model.compile(loss=loss, optimizer=optimizer)\n",
    "\n",
    "# 모델 훈련하기\n",
    "hist = model.fit(x = enc_train, y = dec_train, epochs=10, validation_data=(enc_val, dec_val)) "
   ]
  },
  {
   "cell_type": "code",
   "execution_count": 22,
   "id": "1e0abc2c",
   "metadata": {},
   "outputs": [
    {
     "name": "stdout",
     "output_type": "stream",
     "text": [
      "Model: \"text_generator_1\"\n",
      "_________________________________________________________________\n",
      "Layer (type)                 Output Shape              Param #   \n",
      "=================================================================\n",
      "embedding_1 (Embedding)      multiple                  3072256   \n",
      "_________________________________________________________________\n",
      "lstm_2 (LSTM)                multiple                  18882560  \n",
      "_________________________________________________________________\n",
      "lstm_3 (LSTM)                multiple                  33562624  \n",
      "_________________________________________________________________\n",
      "dropout_1 (Dropout)          multiple                  0         \n",
      "_________________________________________________________________\n",
      "dense_1 (Dense)              multiple                  24590049  \n",
      "=================================================================\n",
      "Total params: 80,107,489\n",
      "Trainable params: 80,107,489\n",
      "Non-trainable params: 0\n",
      "_________________________________________________________________\n"
     ]
    }
   ],
   "source": [
    "model.summary()"
   ]
  },
  {
   "cell_type": "code",
   "execution_count": 23,
   "id": "fccc2d87",
   "metadata": {},
   "outputs": [
    {
     "data": {
      "image/png": "[encoded data removed]",
      "text/plain": [
       "<Figure size 432x288 with 1 Axes>"
      ]
     },
     "metadata": {
      "needs_background": "light"
     },
     "output_type": "display_data"
    }
   ],
   "source": [
    "# 손실함수 그리기\n",
    "plt.plot(hist.history['loss'])\n",
    "plt.plot(hist.history['val_loss'])\n",
    "plt.xlabel('epoch')\n",
    "plt.ylabel('loss')\n",
    "plt.legend(['train', 'val'])\n",
    "plt.show()"
   ]
  },
  {
   "cell_type": "code",
   "execution_count": 24,
   "id": "d63229a6",
   "metadata": {},
   "outputs": [],
   "source": [
    "# 문자 생성 함수 만들기\n",
    "def generate_text(model, tokenizer, init_sentence=\"<start>\", max_len=20):\n",
    "    # 테스트를 위해서 입력받은 init_sentence도 텐서로 변환합니다\n",
    "    test_input = tokenizer.texts_to_sequences([init_sentence])\n",
    "    test_tensor = tf.convert_to_tensor(test_input, dtype=tf.int64)\n",
    "    end_token = tokenizer.word_index[\"<end>\"]\n",
    "\n",
    "    # 단어 하나씩 예측해 문장을 만듭니다\n",
    "    #    1. 입력받은 문장의 텐서를 입력합니다\n",
    "    #    2. 예측된 값 중 가장 높은 확률인 word index를 뽑아냅니다\n",
    "    #    3. 2에서 예측된 word index를 문장 뒤에 붙입니다\n",
    "    #    4. 모델이 <end>를 예측했거나, max_len에 도달했다면 문장 생성을 마칩니다\n",
    "    while True:\n",
    "        # 1\n",
    "        predict = model(test_tensor) \n",
    "        # 2\n",
    "        predict_word = tf.argmax(tf.nn.softmax(predict, axis=-1), axis=-1)[:, -1] \n",
    "        # 3 \n",
    "        test_tensor = tf.concat([test_tensor, tf.expand_dims(predict_word, axis=0)], axis=-1)\n",
    "        # 4\n",
    "        if predict_word.numpy()[0] == end_token: break\n",
    "        if test_tensor.shape[1] >= max_len: break\n",
    "\n",
    "    generated = \"\"\n",
    "    # tokenizer를 이용해 word index를 단어로 하나씩 변환합니다 \n",
    "    for word_index in test_tensor[0].numpy():\n",
    "        generated += tokenizer.index_word[word_index] + \" \"\n",
    "\n",
    "    return generated"
   ]
  },
  {
   "cell_type": "code",
   "execution_count": 28,
   "id": "ffbf2fff",
   "metadata": {},
   "outputs": [
    {
     "name": "stdout",
     "output_type": "stream",
     "text": [
      "<start> i love you , i love you <end> \n",
      "<start> finally i m free , but i m not leaving , no ! <end> \n",
      "<start> end up and <unk> , you re breaking on <end> \n",
      "<start> happy birthday , happy birthday , happy birthday woo , shake ! <end> \n",
      "<start> home and <unk> <end> \n"
     ]
    }
   ],
   "source": [
    "# 문자 생성해보기\n",
    "print(generate_text(model, tokenizer, init_sentence=\"<start> i love\", max_len=20))\n",
    "print(generate_text(model, tokenizer, init_sentence=\"<start> finally \", max_len=20))\n",
    "print(generate_text(model, tokenizer, init_sentence=\"<start> end \", max_len=20))\n",
    "print(generate_text(model, tokenizer, init_sentence=\"<start> happy \", max_len=20))\n",
    "print(generate_text(model, tokenizer, init_sentence=\"<start> home \", max_len=20))"
   ]
  },
  {
   "cell_type": "markdown",
   "id": "a25eb63f",
   "metadata": {},
   "source": [
    "# 회고\n",
    "\n",
    "### 1. 이번 프로젝트에서 어려웠던 점\n",
    "#### 검증세트를 만들지 않고 훈련해서 loss가 1점대가 나와서 이제 끝났구나...\n",
    "#### 알고보니 검증세트를 넣지 않고 해서.. val_loss가 없다..\n",
    "#### 훈련시간이 너무 많이 걸려서 힘들었다..\n",
    "\n",
    "### 2. 프로젝트를 진행하면서 알아낸 점 혹은 아직 모호한 점\n",
    "#### batch_size가 과적합을 막아주는 것 같았다.\n",
    "#### Aiffel server에서 할 때는 txt파일이 잘 읽어졌는 데.. 내 컴퓨터로 하니 읽어들이지 못한다....\n",
    "#### 윈도우 환경에서 txt파일 읽어들이는 것을 알게 되었다. 무식하게 했는 데 더 쉬운 방법이 있어서... ㅜ.ㅜ\n",
    "#### 딥러닝에서 과적합의 적은 \"dropout\"이라는 것을 알게 되었다. 물론 완벽하지는 않다.\n",
    "\n",
    "### 3. 루브릭 평가 지표를 맞추기 위해 시도한 것들\n",
    "#### 조원들의 도움으로 정제를 편하게 해서 이번 과제는 쉽겠구나.. 아니~~ 이런 뒷통수라니...\n",
    "#### hidden_size 조정, batch_size조정, 훈련세트 재구성, DropOut를 넣기\n",
    "#### 여기에는 4개의 테스트밖에 없지만, 무수히 많은 훈련을 하고 또 했어요~ !! 아~  힘들어요!!\n",
    "\n",
    "### 4.  자기다짐\n",
    "#### 생각만 하지 말고 직접하자!!!! DropOut을 생각했으나 그냥 지나쳐서 많은 시간을 버렸다..\n",
    "#### 고민하지 말고 필요하다고 생각하면 바로 시행하기"
   ]
  },
  {
   "cell_type": "code",
   "execution_count": null,
   "id": "5a14a15a",
   "metadata": {},
   "outputs": [],
   "source": [
    "- 회고**(필수)**\n",
    "    \n",
    "    프로젝트 마지막에는 항상 프로젝트에 대한 회고를 기록합니다. \n",
    "    \n",
    "    회고에는 다음과 같은 것들이 포함됩니다.\n",
    "    \n",
    "    - 이번 프로젝트에서 **어려웠던 점,**\n",
    "    - 프로젝트를 진행하면서 **알아낸 점** 혹은 **아직 모호한 점**.\n",
    "    - 루브릭 평가 지표를 맞추기 위해 **시도한 것들**.\n",
    "    - 만약에 루브릭 평가 관련 지표를 **달성 하지 못했을 때, 이유에 관한 추정**.\n",
    "    - **자기 다짐**"
   ]
  },
  {
   "cell_type": "code",
   "execution_count": null,
   "id": "9d48124c",
   "metadata": {},
   "outputs": [],
   "source": []
  },
  {
   "cell_type": "code",
   "execution_count": null,
   "id": "7c0d5d96",
   "metadata": {},
   "outputs": [],
   "source": []
  },
  {
   "cell_type": "code",
   "execution_count": null,
   "id": "c6e00f9f",
   "metadata": {},
   "outputs": [],
   "source": []
  },
  {
   "cell_type": "code",
   "execution_count": null,
   "id": "a3f06135",
   "metadata": {},
   "outputs": [],
   "source": []
  },
  {
   "cell_type": "code",
   "execution_count": null,
   "id": "6dd2870c",
   "metadata": {},
   "outputs": [],
   "source": []
  }
 ],
 "metadata": {
  "kernelspec": {
   "display_name": "Python 3 (ipykernel)",
   "language": "python",
   "name": "python3"
  },
  "language_info": {
   "codemirror_mode": {
    "name": "ipython",
    "version": 3
   },
   "file_extension": ".py",
   "mimetype": "text/x-python",
   "name": "python",
   "nbconvert_exporter": "python",
   "pygments_lexer": "ipython3",
   "version": "3.9.7"
  }
 },
 "nbformat": 4,
 "nbformat_minor": 5
}
