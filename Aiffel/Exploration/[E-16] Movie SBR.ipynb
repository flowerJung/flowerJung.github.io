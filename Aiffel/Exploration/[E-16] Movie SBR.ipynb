{
 "cells": [
  {
   "cell_type": "markdown",
   "id": "571173a1",
   "metadata": {},
   "source": [
    "# [E-16] Movie SBR\n"
   ]
  },
  {
   "cell_type": "markdown",
   "id": "d7d42c70",
   "metadata": {},
   "source": [
    "라이브러리 가져오기"
   ]
  },
  {
   "cell_type": "code",
   "execution_count": 1,
   "id": "3bb471ef",
   "metadata": {},
   "outputs": [],
   "source": [
    "import datetime as dt\n",
    "from pathlib import Path\n",
    "import os\n",
    "\n",
    "import numpy as np\n",
    "import pandas as pd\n",
    "import warnings\n",
    "warnings.filterwarnings('ignore')"
   ]
  },
  {
   "cell_type": "markdown",
   "id": "350120d2",
   "metadata": {},
   "source": [
    "## **Step 1. 데이터의 전처리**\n",
    "\n",
    "---\n",
    "\n",
    "**위와 같이 간단히 구성해 본 데이터셋을 꼼꼼히 살펴보면서 `항목별 기본 분석, session length, session time, cleaning` 등의 작업을 진행합니다.  \n",
    "특히, 이 데이터셋에서는 Session이 아닌 `UserID 단위`로 데이터가 생성되어 있으므로, 이를 Session 단위로 어떻게 해석할지에 주의합니다.**"
   ]
  },
  {
   "cell_type": "code",
   "execution_count": 2,
   "id": "0dd76711",
   "metadata": {},
   "outputs": [
    {
     "data": {
      "text/html": [
       "<div>\n",
       "<style scoped>\n",
       "    .dataframe tbody tr th:only-of-type {\n",
       "        vertical-align: middle;\n",
       "    }\n",
       "\n",
       "    .dataframe tbody tr th {\n",
       "        vertical-align: top;\n",
       "    }\n",
       "\n",
       "    .dataframe thead th {\n",
       "        text-align: right;\n",
       "    }\n",
       "</style>\n",
       "<table border=\"1\" class=\"dataframe\">\n",
       "  <thead>\n",
       "    <tr style=\"text-align: right;\">\n",
       "      <th></th>\n",
       "      <th>UserId</th>\n",
       "      <th>ItemId</th>\n",
       "      <th>Rating</th>\n",
       "      <th>Time</th>\n",
       "    </tr>\n",
       "  </thead>\n",
       "  <tbody>\n",
       "    <tr>\n",
       "      <th>31</th>\n",
       "      <td>1</td>\n",
       "      <td>3186</td>\n",
       "      <td>4</td>\n",
       "      <td>978300019</td>\n",
       "    </tr>\n",
       "    <tr>\n",
       "      <th>22</th>\n",
       "      <td>1</td>\n",
       "      <td>1270</td>\n",
       "      <td>5</td>\n",
       "      <td>978300055</td>\n",
       "    </tr>\n",
       "    <tr>\n",
       "      <th>27</th>\n",
       "      <td>1</td>\n",
       "      <td>1721</td>\n",
       "      <td>4</td>\n",
       "      <td>978300055</td>\n",
       "    </tr>\n",
       "    <tr>\n",
       "      <th>37</th>\n",
       "      <td>1</td>\n",
       "      <td>1022</td>\n",
       "      <td>5</td>\n",
       "      <td>978300055</td>\n",
       "    </tr>\n",
       "    <tr>\n",
       "      <th>24</th>\n",
       "      <td>1</td>\n",
       "      <td>2340</td>\n",
       "      <td>3</td>\n",
       "      <td>978300103</td>\n",
       "    </tr>\n",
       "    <tr>\n",
       "      <th>...</th>\n",
       "      <td>...</td>\n",
       "      <td>...</td>\n",
       "      <td>...</td>\n",
       "      <td>...</td>\n",
       "    </tr>\n",
       "    <tr>\n",
       "      <th>1000019</th>\n",
       "      <td>6040</td>\n",
       "      <td>2917</td>\n",
       "      <td>4</td>\n",
       "      <td>997454429</td>\n",
       "    </tr>\n",
       "    <tr>\n",
       "      <th>999988</th>\n",
       "      <td>6040</td>\n",
       "      <td>1921</td>\n",
       "      <td>4</td>\n",
       "      <td>997454464</td>\n",
       "    </tr>\n",
       "    <tr>\n",
       "      <th>1000172</th>\n",
       "      <td>6040</td>\n",
       "      <td>1784</td>\n",
       "      <td>3</td>\n",
       "      <td>997454464</td>\n",
       "    </tr>\n",
       "    <tr>\n",
       "      <th>1000167</th>\n",
       "      <td>6040</td>\n",
       "      <td>161</td>\n",
       "      <td>3</td>\n",
       "      <td>997454486</td>\n",
       "    </tr>\n",
       "    <tr>\n",
       "      <th>1000042</th>\n",
       "      <td>6040</td>\n",
       "      <td>1221</td>\n",
       "      <td>4</td>\n",
       "      <td>998315055</td>\n",
       "    </tr>\n",
       "  </tbody>\n",
       "</table>\n",
       "<p>1000209 rows × 4 columns</p>\n",
       "</div>"
      ],
      "text/plain": [
       "         UserId  ItemId  Rating       Time\n",
       "31            1    3186       4  978300019\n",
       "22            1    1270       5  978300055\n",
       "27            1    1721       4  978300055\n",
       "37            1    1022       5  978300055\n",
       "24            1    2340       3  978300103\n",
       "...         ...     ...     ...        ...\n",
       "1000019    6040    2917       4  997454429\n",
       "999988     6040    1921       4  997454464\n",
       "1000172    6040    1784       3  997454464\n",
       "1000167    6040     161       3  997454486\n",
       "1000042    6040    1221       4  998315055\n",
       "\n",
       "[1000209 rows x 4 columns]"
      ]
     },
     "execution_count": 2,
     "metadata": {},
     "output_type": "execute_result"
    }
   ],
   "source": [
    "data_path = Path(os.getenv('HOME')+'/aiffel/yoochoose/data/') \n",
    "train_path = data_path / 'ratings.dat'\n",
    "\n",
    "def load_data(data_path: Path, nrows=None):\n",
    "    data = pd.read_csv(data_path, sep='::', \n",
    "                       header=None, usecols=[0, 1, 2, 3], \n",
    "                       names = ['UserId', 'ItemId', 'Rating', 'Time'],\n",
    "                       dtype={0: np.int32, 1: np.int32, 2: np.int32}, \n",
    "                       nrows=nrows)\n",
    "    return data\n",
    "\n",
    "data = load_data(train_path, None)\n",
    "\n",
    "data.sort_values(['UserId', 'Time'], inplace=True)  # data를 id와 시간 순서로 정렬해줍니다.\n",
    "data"
   ]
  },
  {
   "cell_type": "markdown",
   "id": "96d7cb34",
   "metadata": {},
   "source": [
    "pandas 출력 포맷팅"
   ]
  },
  {
   "cell_type": "code",
   "execution_count": 3,
   "id": "4c7886df",
   "metadata": {},
   "outputs": [],
   "source": [
    "pd.options.display.float_format = '{:.2f}'.format"
   ]
  },
  {
   "cell_type": "code",
   "execution_count": 4,
   "id": "643cdf16",
   "metadata": {},
   "outputs": [
    {
     "name": "stdout",
     "output_type": "stream",
     "text": [
      "<class 'pandas.core.frame.DataFrame'>\n",
      "Int64Index: 1000209 entries, 31 to 1000042\n",
      "Data columns (total 4 columns):\n",
      " #   Column  Non-Null Count    Dtype\n",
      "---  ------  --------------    -----\n",
      " 0   UserId  1000209 non-null  int32\n",
      " 1   ItemId  1000209 non-null  int32\n",
      " 2   Rating  1000209 non-null  int32\n",
      " 3   Time    1000209 non-null  int64\n",
      "dtypes: int32(3), int64(1)\n",
      "memory usage: 26.7 MB\n"
     ]
    }
   ],
   "source": [
    "data.info()"
   ]
  },
  {
   "cell_type": "code",
   "execution_count": 5,
   "id": "e8555314",
   "metadata": {
    "scrolled": true
   },
   "outputs": [
    {
     "data": {
      "text/html": [
       "<div>\n",
       "<style scoped>\n",
       "    .dataframe tbody tr th:only-of-type {\n",
       "        vertical-align: middle;\n",
       "    }\n",
       "\n",
       "    .dataframe tbody tr th {\n",
       "        vertical-align: top;\n",
       "    }\n",
       "\n",
       "    .dataframe thead th {\n",
       "        text-align: right;\n",
       "    }\n",
       "</style>\n",
       "<table border=\"1\" class=\"dataframe\">\n",
       "  <thead>\n",
       "    <tr style=\"text-align: right;\">\n",
       "      <th></th>\n",
       "      <th>UserId</th>\n",
       "      <th>ItemId</th>\n",
       "      <th>Rating</th>\n",
       "      <th>Time</th>\n",
       "    </tr>\n",
       "  </thead>\n",
       "  <tbody>\n",
       "    <tr>\n",
       "      <th>count</th>\n",
       "      <td>1000209.00</td>\n",
       "      <td>1000209.00</td>\n",
       "      <td>1000209.00</td>\n",
       "      <td>1000209.00</td>\n",
       "    </tr>\n",
       "    <tr>\n",
       "      <th>mean</th>\n",
       "      <td>3024.51</td>\n",
       "      <td>1865.54</td>\n",
       "      <td>3.58</td>\n",
       "      <td>972243695.40</td>\n",
       "    </tr>\n",
       "    <tr>\n",
       "      <th>std</th>\n",
       "      <td>1728.41</td>\n",
       "      <td>1096.04</td>\n",
       "      <td>1.12</td>\n",
       "      <td>12152558.94</td>\n",
       "    </tr>\n",
       "    <tr>\n",
       "      <th>min</th>\n",
       "      <td>1.00</td>\n",
       "      <td>1.00</td>\n",
       "      <td>1.00</td>\n",
       "      <td>956703932.00</td>\n",
       "    </tr>\n",
       "    <tr>\n",
       "      <th>25%</th>\n",
       "      <td>1506.00</td>\n",
       "      <td>1030.00</td>\n",
       "      <td>3.00</td>\n",
       "      <td>965302637.00</td>\n",
       "    </tr>\n",
       "    <tr>\n",
       "      <th>50%</th>\n",
       "      <td>3070.00</td>\n",
       "      <td>1835.00</td>\n",
       "      <td>4.00</td>\n",
       "      <td>973018006.00</td>\n",
       "    </tr>\n",
       "    <tr>\n",
       "      <th>75%</th>\n",
       "      <td>4476.00</td>\n",
       "      <td>2770.00</td>\n",
       "      <td>4.00</td>\n",
       "      <td>975220939.00</td>\n",
       "    </tr>\n",
       "    <tr>\n",
       "      <th>max</th>\n",
       "      <td>6040.00</td>\n",
       "      <td>3952.00</td>\n",
       "      <td>5.00</td>\n",
       "      <td>1046454590.00</td>\n",
       "    </tr>\n",
       "  </tbody>\n",
       "</table>\n",
       "</div>"
      ],
      "text/plain": [
       "          UserId     ItemId     Rating          Time\n",
       "count 1000209.00 1000209.00 1000209.00    1000209.00\n",
       "mean     3024.51    1865.54       3.58  972243695.40\n",
       "std      1728.41    1096.04       1.12   12152558.94\n",
       "min         1.00       1.00       1.00  956703932.00\n",
       "25%      1506.00    1030.00       3.00  965302637.00\n",
       "50%      3070.00    1835.00       4.00  973018006.00\n",
       "75%      4476.00    2770.00       4.00  975220939.00\n",
       "max      6040.00    3952.00       5.00 1046454590.00"
      ]
     },
     "execution_count": 5,
     "metadata": {},
     "output_type": "execute_result"
    }
   ],
   "source": [
    "data.describe()"
   ]
  },
  {
   "cell_type": "markdown",
   "id": "75bcd588",
   "metadata": {},
   "source": [
    "### 1.1 기본 분석 : 유저수, item값 확인"
   ]
  },
  {
   "cell_type": "code",
   "execution_count": 6,
   "id": "ca47ee54",
   "metadata": {
    "scrolled": false
   },
   "outputs": [
    {
     "name": "stdout",
     "output_type": "stream",
     "text": [
      "유저수 : 6040\n",
      "아이템수 : 3706\n"
     ]
    }
   ],
   "source": [
    "print(\"유저수 :\", data['UserId'].nunique())\n",
    "print(\"아이템수 :\", data['ItemId'].nunique())"
   ]
  },
  {
   "cell_type": "markdown",
   "id": "15a3433e",
   "metadata": {},
   "source": [
    "### 1.2 userid length"
   ]
  },
  {
   "cell_type": "markdown",
   "id": "3035903b",
   "metadata": {},
   "source": [
    "userid의 크기 확인"
   ]
  },
  {
   "cell_type": "code",
   "execution_count": 7,
   "id": "039e44ed",
   "metadata": {},
   "outputs": [
    {
     "data": {
      "text/plain": [
       "UserId\n",
       "1        53\n",
       "2       129\n",
       "3        51\n",
       "4        21\n",
       "5       198\n",
       "       ... \n",
       "6036    888\n",
       "6037    202\n",
       "6038     20\n",
       "6039    123\n",
       "6040    341\n",
       "Length: 6040, dtype: int64"
      ]
     },
     "execution_count": 7,
     "metadata": {},
     "output_type": "execute_result"
    }
   ],
   "source": [
    "user_length = data.groupby('UserId').size()\n",
    "user_length"
   ]
  },
  {
   "cell_type": "markdown",
   "id": "d1556178",
   "metadata": {},
   "source": [
    "userid의 통계값"
   ]
  },
  {
   "cell_type": "code",
   "execution_count": 8,
   "id": "faf392ea",
   "metadata": {
    "scrolled": true
   },
   "outputs": [
    {
     "data": {
      "text/plain": [
       "count   6040.00\n",
       "mean     165.60\n",
       "std      192.75\n",
       "min       20.00\n",
       "25%       44.00\n",
       "50%       96.00\n",
       "75%      208.00\n",
       "max     2314.00\n",
       "dtype: float64"
      ]
     },
     "execution_count": 8,
     "metadata": {},
     "output_type": "execute_result"
    }
   ],
   "source": [
    "user_length.describe()"
   ]
  },
  {
   "cell_type": "code",
   "execution_count": 9,
   "id": "27766162",
   "metadata": {},
   "outputs": [
    {
     "data": {
      "text/plain": [
       "906.659999999998"
      ]
     },
     "execution_count": 9,
     "metadata": {},
     "output_type": "execute_result"
    }
   ],
   "source": [
    "user_length.quantile(0.99)"
   ]
  },
  {
   "cell_type": "code",
   "execution_count": 10,
   "id": "56671215",
   "metadata": {},
   "outputs": [
    {
     "data": {
      "text/html": [
       "<div>\n",
       "<style scoped>\n",
       "    .dataframe tbody tr th:only-of-type {\n",
       "        vertical-align: middle;\n",
       "    }\n",
       "\n",
       "    .dataframe tbody tr th {\n",
       "        vertical-align: top;\n",
       "    }\n",
       "\n",
       "    .dataframe thead th {\n",
       "        text-align: right;\n",
       "    }\n",
       "</style>\n",
       "<table border=\"1\" class=\"dataframe\">\n",
       "  <thead>\n",
       "    <tr style=\"text-align: right;\">\n",
       "      <th></th>\n",
       "      <th>UserId</th>\n",
       "      <th>ItemId</th>\n",
       "      <th>Rating</th>\n",
       "      <th>Time</th>\n",
       "    </tr>\n",
       "  </thead>\n",
       "  <tbody>\n",
       "    <tr>\n",
       "      <th>696969</th>\n",
       "      <td>4169</td>\n",
       "      <td>1268</td>\n",
       "      <td>5</td>\n",
       "      <td>965333392</td>\n",
       "    </tr>\n",
       "    <tr>\n",
       "      <th>697168</th>\n",
       "      <td>4169</td>\n",
       "      <td>2617</td>\n",
       "      <td>4</td>\n",
       "      <td>965333392</td>\n",
       "    </tr>\n",
       "    <tr>\n",
       "      <th>697185</th>\n",
       "      <td>4169</td>\n",
       "      <td>2628</td>\n",
       "      <td>4</td>\n",
       "      <td>965333392</td>\n",
       "    </tr>\n",
       "    <tr>\n",
       "      <th>697219</th>\n",
       "      <td>4169</td>\n",
       "      <td>2653</td>\n",
       "      <td>4</td>\n",
       "      <td>965333392</td>\n",
       "    </tr>\n",
       "    <tr>\n",
       "      <th>697275</th>\n",
       "      <td>4169</td>\n",
       "      <td>423</td>\n",
       "      <td>3</td>\n",
       "      <td>965333392</td>\n",
       "    </tr>\n",
       "    <tr>\n",
       "      <th>696168</th>\n",
       "      <td>4169</td>\n",
       "      <td>3801</td>\n",
       "      <td>5</td>\n",
       "      <td>965333481</td>\n",
       "    </tr>\n",
       "    <tr>\n",
       "      <th>696250</th>\n",
       "      <td>4169</td>\n",
       "      <td>3841</td>\n",
       "      <td>2</td>\n",
       "      <td>965333481</td>\n",
       "    </tr>\n",
       "    <tr>\n",
       "      <th>697903</th>\n",
       "      <td>4169</td>\n",
       "      <td>3761</td>\n",
       "      <td>3</td>\n",
       "      <td>965333481</td>\n",
       "    </tr>\n",
       "    <tr>\n",
       "      <th>697954</th>\n",
       "      <td>4169</td>\n",
       "      <td>3788</td>\n",
       "      <td>3</td>\n",
       "      <td>965333481</td>\n",
       "    </tr>\n",
       "    <tr>\n",
       "      <th>695653</th>\n",
       "      <td>4169</td>\n",
       "      <td>3794</td>\n",
       "      <td>4</td>\n",
       "      <td>965333519</td>\n",
       "    </tr>\n",
       "    <tr>\n",
       "      <th>696188</th>\n",
       "      <td>4169</td>\n",
       "      <td>3811</td>\n",
       "      <td>5</td>\n",
       "      <td>965333519</td>\n",
       "    </tr>\n",
       "    <tr>\n",
       "      <th>696229</th>\n",
       "      <td>4169</td>\n",
       "      <td>3833</td>\n",
       "      <td>1</td>\n",
       "      <td>965333519</td>\n",
       "    </tr>\n",
       "    <tr>\n",
       "      <th>696230</th>\n",
       "      <td>4169</td>\n",
       "      <td>3834</td>\n",
       "      <td>3</td>\n",
       "      <td>965333519</td>\n",
       "    </tr>\n",
       "    <tr>\n",
       "      <th>697889</th>\n",
       "      <td>4169</td>\n",
       "      <td>3758</td>\n",
       "      <td>4</td>\n",
       "      <td>965333519</td>\n",
       "    </tr>\n",
       "    <tr>\n",
       "      <th>695649</th>\n",
       "      <td>4169</td>\n",
       "      <td>3792</td>\n",
       "      <td>4</td>\n",
       "      <td>965333558</td>\n",
       "    </tr>\n",
       "    <tr>\n",
       "      <th>695654</th>\n",
       "      <td>4169</td>\n",
       "      <td>3795</td>\n",
       "      <td>3</td>\n",
       "      <td>965333558</td>\n",
       "    </tr>\n",
       "    <tr>\n",
       "      <th>696189</th>\n",
       "      <td>4169</td>\n",
       "      <td>3812</td>\n",
       "      <td>3</td>\n",
       "      <td>965333558</td>\n",
       "    </tr>\n",
       "    <tr>\n",
       "      <th>696256</th>\n",
       "      <td>4169</td>\n",
       "      <td>3846</td>\n",
       "      <td>3</td>\n",
       "      <td>965333558</td>\n",
       "    </tr>\n",
       "    <tr>\n",
       "      <th>697906</th>\n",
       "      <td>4169</td>\n",
       "      <td>3763</td>\n",
       "      <td>4</td>\n",
       "      <td>965333558</td>\n",
       "    </tr>\n",
       "    <tr>\n",
       "      <th>697908</th>\n",
       "      <td>4169</td>\n",
       "      <td>3764</td>\n",
       "      <td>3</td>\n",
       "      <td>965333558</td>\n",
       "    </tr>\n",
       "  </tbody>\n",
       "</table>\n",
       "</div>"
      ],
      "text/plain": [
       "        UserId  ItemId  Rating       Time\n",
       "696969    4169    1268       5  965333392\n",
       "697168    4169    2617       4  965333392\n",
       "697185    4169    2628       4  965333392\n",
       "697219    4169    2653       4  965333392\n",
       "697275    4169     423       3  965333392\n",
       "696168    4169    3801       5  965333481\n",
       "696250    4169    3841       2  965333481\n",
       "697903    4169    3761       3  965333481\n",
       "697954    4169    3788       3  965333481\n",
       "695653    4169    3794       4  965333519\n",
       "696188    4169    3811       5  965333519\n",
       "696229    4169    3833       1  965333519\n",
       "696230    4169    3834       3  965333519\n",
       "697889    4169    3758       4  965333519\n",
       "695649    4169    3792       4  965333558\n",
       "695654    4169    3795       3  965333558\n",
       "696189    4169    3812       3  965333558\n",
       "696256    4169    3846       3  965333558\n",
       "697906    4169    3763       4  965333558\n",
       "697908    4169    3764       3  965333558"
      ]
     },
     "execution_count": 10,
     "metadata": {},
     "output_type": "execute_result"
    }
   ],
   "source": [
    "# 길이가 2314인 userid 확인하기\n",
    "long_session = user_length[user_length==2314].index[0]\n",
    "data[data['UserId']==long_session].head(20)"
   ]
  },
  {
   "cell_type": "markdown",
   "id": "a156a9a6",
   "metadata": {},
   "source": [
    "세션 길이 기준 하위 99%까지의 분포 누적합, 시각화"
   ]
  },
  {
   "cell_type": "code",
   "execution_count": 11,
   "id": "2cde9061",
   "metadata": {},
   "outputs": [],
   "source": [
    "length_count = user_length.groupby(user_length).size()\n",
    "length_percent_cumsum = length_count.cumsum() / length_count.sum()\n",
    "length_percent_cumsum_99 = length_percent_cumsum[length_percent_cumsum < 0.99]"
   ]
  },
  {
   "cell_type": "code",
   "execution_count": 12,
   "id": "7ea1bcdf",
   "metadata": {},
   "outputs": [
    {
     "data": {
      "image/png": "[encoded data removed]",
      "text/plain": [
       "<Figure size 1080x720 with 1 Axes>"
      ]
     },
     "metadata": {
      "needs_background": "light"
     },
     "output_type": "display_data"
    }
   ],
   "source": [
    "import matplotlib.pyplot as plt\n",
    "\n",
    "plt.figure(figsize=(15, 10))\n",
    "plt.bar(x=length_percent_cumsum_99.index,\n",
    "        height=length_percent_cumsum_99, color='red')\n",
    "plt.xticks(length_percent_cumsum_99.index)\n",
    "plt.yticks(np.arange(0, 1.01, 0.05))\n",
    "plt.title('Cumsum Percentage Until 0.99', size=20)\n",
    "plt.show()"
   ]
  },
  {
   "cell_type": "markdown",
   "id": "cdfc9d23",
   "metadata": {},
   "source": [
    "boxplot 그리기"
   ]
  },
  {
   "cell_type": "code",
   "execution_count": 13,
   "id": "0ba5e680",
   "metadata": {
    "scrolled": false
   },
   "outputs": [
    {
     "data": {
      "image/png": "[encoded data removed]",
      "text/plain": [
       "<Figure size 432x288 with 1 Axes>"
      ]
     },
     "metadata": {
      "needs_background": "light"
     },
     "output_type": "display_data"
    }
   ],
   "source": [
    "plt.boxplot(user_length)\n",
    "plt.title('user_length')\n",
    "plt.show()"
   ]
  },
  {
   "cell_type": "markdown",
   "id": "34d7794e",
   "metadata": {},
   "source": [
    "### 1.3 time"
   ]
  },
  {
   "cell_type": "code",
   "execution_count": 14,
   "id": "ee50f620",
   "metadata": {},
   "outputs": [],
   "source": [
    "# 일반적인 시간표현으로 변경\n",
    "data['Time'] = pd.to_datetime(data['Time'], unit='s')"
   ]
  },
  {
   "cell_type": "code",
   "execution_count": 15,
   "id": "160fb03c",
   "metadata": {
    "scrolled": true
   },
   "outputs": [
    {
     "name": "stdout",
     "output_type": "stream",
     "text": [
      "2000-04-25 23:05:32\n",
      "2003-02-28 17:49:50\n"
     ]
    }
   ],
   "source": [
    "oldest, latest = data['Time'].min(), data['Time'].max()\n",
    "print(oldest) \n",
    "print(latest)"
   ]
  },
  {
   "cell_type": "code",
   "execution_count": 16,
   "id": "5c328884",
   "metadata": {},
   "outputs": [
    {
     "data": {
      "text/plain": [
       "pandas._libs.tslibs.timestamps.Timestamp"
      ]
     },
     "execution_count": 16,
     "metadata": {},
     "output_type": "execute_result"
    }
   ],
   "source": [
    "type(latest)"
   ]
  },
  {
   "cell_type": "markdown",
   "id": "1928c487",
   "metadata": {},
   "source": [
    "### 1.4 Cleaning"
   ]
  },
  {
   "cell_type": "markdown",
   "id": "d891f140",
   "metadata": {},
   "source": [
    "userid의 길이가 작은 데이터 제거 함수 구현"
   ]
  },
  {
   "cell_type": "code",
   "execution_count": 17,
   "id": "51f91167",
   "metadata": {},
   "outputs": [],
   "source": [
    "# short_session을 제거한 다음 unpopular item을 제거하면 다시 길이가 1인 session이 생길 수 있습니다.\n",
    "# 이를 위해 반복문을 통해 지속적으로 제거 합니다.\n",
    "def cleanse_recursive(data: pd.DataFrame, shortest, least_view) -> pd.DataFrame:\n",
    "    while True:\n",
    "        before_len = len(data)\n",
    "        data = cleanse_short_session(data, shortest)\n",
    "        data = cleanse_unpopular_item(data, least_view)\n",
    "        after_len = len(data)\n",
    "        if before_len == after_len:\n",
    "            break\n",
    "    return data\n",
    "\n",
    "\n",
    "def cleanse_short_session(data: pd.DataFrame, shortest):\n",
    "    user_len = data.groupby('UserId').size()\n",
    "    user_use = user_len[user_len >= shortest].index\n",
    "    data = data[data['UserId'].isin(user_use)]\n",
    "    return data\n",
    "\n",
    "\n",
    "def cleanse_unpopular_item(data: pd.DataFrame, least_click):\n",
    "    item_popular = data.groupby('ItemId').size()\n",
    "    item_use = item_popular[item_popular >= least_click].index\n",
    "    data = data[data['ItemId'].isin(item_use)]\n",
    "    return data"
   ]
  },
  {
   "cell_type": "markdown",
   "id": "f71c2574",
   "metadata": {},
   "source": [
    "데이터 정리"
   ]
  },
  {
   "cell_type": "code",
   "execution_count": 19,
   "id": "40eceac8",
   "metadata": {},
   "outputs": [
    {
     "data": {
      "text/html": [
       "<div>\n",
       "<style scoped>\n",
       "    .dataframe tbody tr th:only-of-type {\n",
       "        vertical-align: middle;\n",
       "    }\n",
       "\n",
       "    .dataframe tbody tr th {\n",
       "        vertical-align: top;\n",
       "    }\n",
       "\n",
       "    .dataframe thead th {\n",
       "        text-align: right;\n",
       "    }\n",
       "</style>\n",
       "<table border=\"1\" class=\"dataframe\">\n",
       "  <thead>\n",
       "    <tr style=\"text-align: right;\">\n",
       "      <th></th>\n",
       "      <th>UserId</th>\n",
       "      <th>ItemId</th>\n",
       "      <th>Rating</th>\n",
       "      <th>Time</th>\n",
       "    </tr>\n",
       "  </thead>\n",
       "  <tbody>\n",
       "    <tr>\n",
       "      <th>31</th>\n",
       "      <td>1</td>\n",
       "      <td>3186</td>\n",
       "      <td>4</td>\n",
       "      <td>2000-12-31 22:00:19</td>\n",
       "    </tr>\n",
       "    <tr>\n",
       "      <th>22</th>\n",
       "      <td>1</td>\n",
       "      <td>1270</td>\n",
       "      <td>5</td>\n",
       "      <td>2000-12-31 22:00:55</td>\n",
       "    </tr>\n",
       "    <tr>\n",
       "      <th>27</th>\n",
       "      <td>1</td>\n",
       "      <td>1721</td>\n",
       "      <td>4</td>\n",
       "      <td>2000-12-31 22:00:55</td>\n",
       "    </tr>\n",
       "    <tr>\n",
       "      <th>37</th>\n",
       "      <td>1</td>\n",
       "      <td>1022</td>\n",
       "      <td>5</td>\n",
       "      <td>2000-12-31 22:00:55</td>\n",
       "    </tr>\n",
       "    <tr>\n",
       "      <th>24</th>\n",
       "      <td>1</td>\n",
       "      <td>2340</td>\n",
       "      <td>3</td>\n",
       "      <td>2000-12-31 22:01:43</td>\n",
       "    </tr>\n",
       "    <tr>\n",
       "      <th>...</th>\n",
       "      <td>...</td>\n",
       "      <td>...</td>\n",
       "      <td>...</td>\n",
       "      <td>...</td>\n",
       "    </tr>\n",
       "    <tr>\n",
       "      <th>1000019</th>\n",
       "      <td>6040</td>\n",
       "      <td>2917</td>\n",
       "      <td>4</td>\n",
       "      <td>2001-08-10 14:40:29</td>\n",
       "    </tr>\n",
       "    <tr>\n",
       "      <th>999988</th>\n",
       "      <td>6040</td>\n",
       "      <td>1921</td>\n",
       "      <td>4</td>\n",
       "      <td>2001-08-10 14:41:04</td>\n",
       "    </tr>\n",
       "    <tr>\n",
       "      <th>1000172</th>\n",
       "      <td>6040</td>\n",
       "      <td>1784</td>\n",
       "      <td>3</td>\n",
       "      <td>2001-08-10 14:41:04</td>\n",
       "    </tr>\n",
       "    <tr>\n",
       "      <th>1000167</th>\n",
       "      <td>6040</td>\n",
       "      <td>161</td>\n",
       "      <td>3</td>\n",
       "      <td>2001-08-10 14:41:26</td>\n",
       "    </tr>\n",
       "    <tr>\n",
       "      <th>1000042</th>\n",
       "      <td>6040</td>\n",
       "      <td>1221</td>\n",
       "      <td>4</td>\n",
       "      <td>2001-08-20 13:44:15</td>\n",
       "    </tr>\n",
       "  </tbody>\n",
       "</table>\n",
       "<p>1000095 rows × 4 columns</p>\n",
       "</div>"
      ],
      "text/plain": [
       "         UserId  ItemId  Rating                Time\n",
       "31            1    3186       4 2000-12-31 22:00:19\n",
       "22            1    1270       5 2000-12-31 22:00:55\n",
       "27            1    1721       4 2000-12-31 22:00:55\n",
       "37            1    1022       5 2000-12-31 22:00:55\n",
       "24            1    2340       3 2000-12-31 22:01:43\n",
       "...         ...     ...     ...                 ...\n",
       "1000019    6040    2917       4 2001-08-10 14:40:29\n",
       "999988     6040    1921       4 2001-08-10 14:41:04\n",
       "1000172    6040    1784       3 2001-08-10 14:41:04\n",
       "1000167    6040     161       3 2001-08-10 14:41:26\n",
       "1000042    6040    1221       4 2001-08-20 13:44:15\n",
       "\n",
       "[1000095 rows x 4 columns]"
      ]
     },
     "execution_count": 19,
     "metadata": {},
     "output_type": "execute_result"
    }
   ],
   "source": [
    "data = cleanse_recursive(data, shortest=4, least_view=2)\n",
    "data"
   ]
  },
  {
   "cell_type": "markdown",
   "id": "2a922330",
   "metadata": {},
   "source": [
    "## Step 2. 미니 배치의 구성\n",
    "실습 코드 내역을 참고하여 데이터셋과 미니 배치를 구성해 봅시다.\n",
    "Session-Parallel Mini-Batch의 개념에 따라, 학습 속도의 저하가 최소화될 수 있도록 구성합니다.\n",
    "단, 위 Step 1에서 Session 단위를 어떻게 정의했느냐에 따라서 Session-Parallel Mini-Batch이 굳이 필요하지 않을 수도 있습니다."
   ]
  },
  {
   "cell_type": "markdown",
   "id": "c462eb4e",
   "metadata": {},
   "source": [
    "### 2.1 Train / Valid / Test split\n",
    "\n",
    "test-6개월, valid - 6개월, train - 나머지\n"
   ]
  },
  {
   "cell_type": "code",
   "execution_count": 20,
   "id": "19105578",
   "metadata": {},
   "outputs": [],
   "source": [
    "data = data.sort_values(by=['Time'])"
   ]
  },
  {
   "cell_type": "code",
   "execution_count": 21,
   "id": "240ef890",
   "metadata": {},
   "outputs": [],
   "source": [
    "def split_by_date(data: pd.DataFrame, n_days: int):\n",
    "    final_time = data['Time'].max()\n",
    "    user_last_time = data.groupby('UserId')['Time'].max().sort_values()\n",
    "    user_in_train = data[data['Time'] < final_time - dt.timedelta(n_days)]\n",
    "    user_in_test = data[data['Time'] >= final_time - dt.timedelta(n_days)]\n",
    "    \n",
    "    before_date = user_in_train\n",
    "    after_date = user_in_test\n",
    "    return before_date, after_date"
   ]
  },
  {
   "cell_type": "code",
   "execution_count": 22,
   "id": "2311fcf4",
   "metadata": {},
   "outputs": [],
   "source": [
    "tr, test = split_by_date(data, n_days=180)\n",
    "tr, val = split_by_date(tr, n_days=180)"
   ]
  },
  {
   "cell_type": "markdown",
   "id": "15b90b36",
   "metadata": {},
   "source": [
    "분리된 데이터 정보 보기"
   ]
  },
  {
   "cell_type": "code",
   "execution_count": 23,
   "id": "1637a2f4",
   "metadata": {},
   "outputs": [],
   "source": [
    "# data에 대한 정보를 살펴봅니다.\n",
    "def stats_info(data: pd.DataFrame, status: str):\n",
    "    print(f'* {status} Set Stats Info\\n'\n",
    "          f'\\t Events: {len(data)}\\n'\n",
    "          f'\\t Users: {data[\"UserId\"].nunique()}\\n'\n",
    "          f'\\t Items: {data[\"ItemId\"].nunique()}\\n'\n",
    "          f'\\t First Time : {data[\"Time\"].min()}\\n'\n",
    "          f'\\t Last Time : {data[\"Time\"].max()}\\n')"
   ]
  },
  {
   "cell_type": "code",
   "execution_count": 24,
   "id": "63ca3216",
   "metadata": {},
   "outputs": [
    {
     "name": "stdout",
     "output_type": "stream",
     "text": [
      "* train Set Stats Info\n",
      "\t Events: 978986\n",
      "\t Users: 6038\n",
      "\t Items: 3592\n",
      "\t First Time : 2000-04-25 23:05:32\n",
      "\t Last Time : 2002-03-05 04:19:56\n",
      "\n",
      "* valid Set Stats Info\n",
      "\t Events: 12289\n",
      "\t Users: 399\n",
      "\t Items: 2624\n",
      "\t First Time : 2002-03-05 04:21:07\n",
      "\t Last Time : 2002-09-01 04:20:59\n",
      "\n",
      "* test Set Stats Info\n",
      "\t Events: 8820\n",
      "\t Users: 339\n",
      "\t Items: 2330\n",
      "\t First Time : 2002-09-01 19:41:39\n",
      "\t Last Time : 2003-02-28 17:49:50\n",
      "\n"
     ]
    }
   ],
   "source": [
    "stats_info(tr, 'train')\n",
    "stats_info(val, 'valid')\n",
    "stats_info(test, 'test')"
   ]
  },
  {
   "cell_type": "markdown",
   "id": "ba4cebe0",
   "metadata": {},
   "source": [
    "인덱싱"
   ]
  },
  {
   "cell_type": "code",
   "execution_count": 25,
   "id": "e81f6707",
   "metadata": {},
   "outputs": [],
   "source": [
    "# train set에 없는 아이템이 val, test기간에 생길 수 있으므로 train data를 기준으로 인덱싱합니다.\n",
    "id2idx = {item_id : index for index, item_id in enumerate(tr['ItemId'].unique())}\n",
    "\n",
    "def indexing(df, id2idx):\n",
    "    df['item_idx'] = df['ItemId'].map(lambda x: id2idx.get(x, -1))  # id2idx에 없는 아이템은 모르는 값(-1) 처리 해줍니다.\n",
    "    return df\n",
    "\n",
    "tr = indexing(tr, id2idx)\n",
    "val = indexing(val, id2idx)\n",
    "test = indexing(test, id2idx)"
   ]
  },
  {
   "cell_type": "markdown",
   "id": "faed242f",
   "metadata": {},
   "source": [
    "데이터셋 pickle로 저장하기"
   ]
  },
  {
   "cell_type": "code",
   "execution_count": 26,
   "id": "1da7424c",
   "metadata": {},
   "outputs": [],
   "source": [
    "save_path = data_path / 'processed'\n",
    "save_path.mkdir(parents=True, exist_ok=True)\n",
    "\n",
    "tr.to_pickle(save_path / 'train.pkl')\n",
    "val.to_pickle(save_path / 'valid.pkl')\n",
    "test.to_pickle(save_path / 'test.pkl')"
   ]
  },
  {
   "cell_type": "markdown",
   "id": "e4fbee47",
   "metadata": {},
   "source": [
    "### 2.2 SessionDataset"
   ]
  },
  {
   "cell_type": "code",
   "execution_count": 27,
   "id": "342a2d0f",
   "metadata": {},
   "outputs": [],
   "source": [
    "class SessionDataset:\n",
    "    \"\"\"Credit to yhs-968/pyGRU4REC.\"\"\"\n",
    "\n",
    "    def __init__(self, data):\n",
    "        self.df = data\n",
    "        self.click_offsets = self.get_click_offsets()\n",
    "        self.session_idx = np.arange(self.df['UserId'].nunique())  # indexing to UserId\n",
    "\n",
    "    def get_click_offsets(self):\n",
    "        \"\"\"\n",
    "        Return the indexes of the first click of each session IDs,\n",
    "        \"\"\"\n",
    "        offsets = np.zeros(self.df['UserId'].nunique() + 1, dtype=np.int32)\n",
    "        offsets[1:] = self.df.groupby('UserId').size().cumsum()\n",
    "        return offsets"
   ]
  },
  {
   "cell_type": "code",
   "execution_count": 28,
   "id": "9889e7f4",
   "metadata": {},
   "outputs": [
    {
     "data": {
      "text/html": [
       "<div>\n",
       "<style scoped>\n",
       "    .dataframe tbody tr th:only-of-type {\n",
       "        vertical-align: middle;\n",
       "    }\n",
       "\n",
       "    .dataframe tbody tr th {\n",
       "        vertical-align: top;\n",
       "    }\n",
       "\n",
       "    .dataframe thead th {\n",
       "        text-align: right;\n",
       "    }\n",
       "</style>\n",
       "<table border=\"1\" class=\"dataframe\">\n",
       "  <thead>\n",
       "    <tr style=\"text-align: right;\">\n",
       "      <th></th>\n",
       "      <th>UserId</th>\n",
       "      <th>ItemId</th>\n",
       "      <th>Rating</th>\n",
       "      <th>Time</th>\n",
       "      <th>item_idx</th>\n",
       "    </tr>\n",
       "  </thead>\n",
       "  <tbody>\n",
       "    <tr>\n",
       "      <th>1000138</th>\n",
       "      <td>6040</td>\n",
       "      <td>858</td>\n",
       "      <td>4</td>\n",
       "      <td>2000-04-25 23:05:32</td>\n",
       "      <td>0</td>\n",
       "    </tr>\n",
       "    <tr>\n",
       "      <th>999873</th>\n",
       "      <td>6040</td>\n",
       "      <td>593</td>\n",
       "      <td>5</td>\n",
       "      <td>2000-04-25 23:05:54</td>\n",
       "      <td>1</td>\n",
       "    </tr>\n",
       "    <tr>\n",
       "      <th>1000153</th>\n",
       "      <td>6040</td>\n",
       "      <td>2384</td>\n",
       "      <td>4</td>\n",
       "      <td>2000-04-25 23:05:54</td>\n",
       "      <td>2</td>\n",
       "    </tr>\n",
       "    <tr>\n",
       "      <th>1000007</th>\n",
       "      <td>6040</td>\n",
       "      <td>1961</td>\n",
       "      <td>4</td>\n",
       "      <td>2000-04-25 23:06:17</td>\n",
       "      <td>3</td>\n",
       "    </tr>\n",
       "    <tr>\n",
       "      <th>1000192</th>\n",
       "      <td>6040</td>\n",
       "      <td>2019</td>\n",
       "      <td>5</td>\n",
       "      <td>2000-04-25 23:06:17</td>\n",
       "      <td>4</td>\n",
       "    </tr>\n",
       "    <tr>\n",
       "      <th>999877</th>\n",
       "      <td>6040</td>\n",
       "      <td>1419</td>\n",
       "      <td>3</td>\n",
       "      <td>2000-04-25 23:07:36</td>\n",
       "      <td>5</td>\n",
       "    </tr>\n",
       "    <tr>\n",
       "      <th>999868</th>\n",
       "      <td>6040</td>\n",
       "      <td>573</td>\n",
       "      <td>4</td>\n",
       "      <td>2000-04-25 23:07:36</td>\n",
       "      <td>6</td>\n",
       "    </tr>\n",
       "    <tr>\n",
       "      <th>999980</th>\n",
       "      <td>6040</td>\n",
       "      <td>3505</td>\n",
       "      <td>4</td>\n",
       "      <td>2000-04-25 23:07:36</td>\n",
       "      <td>7</td>\n",
       "    </tr>\n",
       "    <tr>\n",
       "      <th>999967</th>\n",
       "      <td>6040</td>\n",
       "      <td>3111</td>\n",
       "      <td>5</td>\n",
       "      <td>2000-04-25 23:07:36</td>\n",
       "      <td>8</td>\n",
       "    </tr>\n",
       "    <tr>\n",
       "      <th>999920</th>\n",
       "      <td>6040</td>\n",
       "      <td>213</td>\n",
       "      <td>5</td>\n",
       "      <td>2000-04-25 23:07:36</td>\n",
       "      <td>9</td>\n",
       "    </tr>\n",
       "  </tbody>\n",
       "</table>\n",
       "</div>"
      ],
      "text/plain": [
       "         UserId  ItemId  Rating                Time  item_idx\n",
       "1000138    6040     858       4 2000-04-25 23:05:32         0\n",
       "999873     6040     593       5 2000-04-25 23:05:54         1\n",
       "1000153    6040    2384       4 2000-04-25 23:05:54         2\n",
       "1000007    6040    1961       4 2000-04-25 23:06:17         3\n",
       "1000192    6040    2019       5 2000-04-25 23:06:17         4\n",
       "999877     6040    1419       3 2000-04-25 23:07:36         5\n",
       "999868     6040     573       4 2000-04-25 23:07:36         6\n",
       "999980     6040    3505       4 2000-04-25 23:07:36         7\n",
       "999967     6040    3111       5 2000-04-25 23:07:36         8\n",
       "999920     6040     213       5 2000-04-25 23:07:36         9"
      ]
     },
     "execution_count": 28,
     "metadata": {},
     "output_type": "execute_result"
    }
   ],
   "source": [
    "tr_dataset = SessionDataset(tr)\n",
    "tr_dataset.df.head(10)"
   ]
  },
  {
   "cell_type": "code",
   "execution_count": 29,
   "id": "06b8706e",
   "metadata": {},
   "outputs": [
    {
     "data": {
      "text/plain": [
       "array([     0,     53,    182, ..., 978522, 978645, 978986], dtype=int32)"
      ]
     },
     "execution_count": 29,
     "metadata": {},
     "output_type": "execute_result"
    }
   ],
   "source": [
    "tr_dataset.click_offsets"
   ]
  },
  {
   "cell_type": "code",
   "execution_count": 30,
   "id": "113af5c7",
   "metadata": {},
   "outputs": [
    {
     "data": {
      "text/plain": [
       "array([   0,    1,    2, ..., 6035, 6036, 6037])"
      ]
     },
     "execution_count": 30,
     "metadata": {},
     "output_type": "execute_result"
    }
   ],
   "source": [
    "tr_dataset.session_idx"
   ]
  },
  {
   "cell_type": "markdown",
   "id": "ac9152d2",
   "metadata": {},
   "source": [
    "### 2.3 SessionDataLoader"
   ]
  },
  {
   "cell_type": "code",
   "execution_count": 31,
   "id": "24909abb",
   "metadata": {},
   "outputs": [],
   "source": [
    "class SessionDataLoader:\n",
    "    \"\"\"Credit to yhs-968/pyGRU4REC.\"\"\"\n",
    "\n",
    "    def __init__(self, dataset: SessionDataset, batch_size=50):\n",
    "        self.dataset = dataset\n",
    "        self.batch_size = batch_size\n",
    "\n",
    "    def __iter__(self):\n",
    "        \"\"\" Returns the iterator for producing session-parallel training mini-batches.\n",
    "        Yields:\n",
    "            input (B,):  Item indices that will be encoded as one-hot vectors later.\n",
    "            target (B,): a Variable that stores the target item indices\n",
    "            masks: Numpy array indicating the positions of the sessions to be terminated\n",
    "        \"\"\"\n",
    "\n",
    "        start, end, mask, last_session, finished = self.initialize()  # initialize 메소드에서 확인해주세요.\n",
    "        \"\"\"\n",
    "        start : Index Where Session Start\n",
    "        end : Index Where Session End\n",
    "        mask : indicator for the sessions to be terminated\n",
    "        \"\"\"\n",
    "\n",
    "        while not finished:\n",
    "            min_len = (end - start).min() - 1  # Shortest Length Among Sessions\n",
    "            for i in range(min_len):\n",
    "                # Build inputs & targets\n",
    "                inp = self.dataset.df['item_idx'].values[start + i]\n",
    "                target = self.dataset.df['item_idx'].values[start + i + 1]\n",
    "                yield inp, target, mask\n",
    "\n",
    "            start, end, mask, last_session, finished = self.update_status(start, end, min_len, last_session, finished)\n",
    "\n",
    "    def initialize(self):\n",
    "        first_iters = np.arange(self.batch_size)    # 첫 배치에 사용할 세션 Index를 가져옵니다.\n",
    "        last_session = self.batch_size - 1    # 마지막으로 다루고 있는 세션 Index를 저장해둡니다.\n",
    "        start = self.dataset.click_offsets[self.dataset.session_idx[first_iters]]       # data 상에서 session이 시작된 위치를 가져옵니다.\n",
    "        end = self.dataset.click_offsets[self.dataset.session_idx[first_iters] + 1]  # session이 끝난 위치 바로 다음 위치를 가져옵니다.\n",
    "        mask = np.array([])   # session의 모든 아이템을 다 돌은 경우 mask에 추가해줄 것입니다.\n",
    "        finished = False         # data를 전부 돌았는지 기록하기 위한 변수입니다.\n",
    "        return start, end, mask, last_session, finished\n",
    "\n",
    "    def update_status(self, start: np.ndarray, end: np.ndarray, min_len: int, last_session: int, finished: bool):  \n",
    "        # 다음 배치 데이터를 생성하기 위해 상태를 update합니다.\n",
    "        \n",
    "        start += min_len   # __iter__에서 min_len 만큼 for문을 돌았으므로 start를 min_len 만큼 더해줍니다.\n",
    "        mask = np.arange(self.batch_size)[(end - start) == 1]  \n",
    "        # end는 다음 세션이 시작되는 위치인데 start와 한 칸 차이난다는 것은 session이 끝났다는 뜻입니다. mask에 기록해줍니다.\n",
    "\n",
    "        for i, idx in enumerate(mask, start=1):  # mask에 추가된 세션 개수만큼 새로운 세션을 돌것입니다.\n",
    "            new_session = last_session + i  \n",
    "            if new_session > self.dataset.session_idx[-1]:  # 만약 새로운 세션이 마지막 세션 index보다 크다면 모든 학습데이터를 돈 것입니다.\n",
    "                finished = True\n",
    "                break\n",
    "            # update the next starting/ending point\n",
    "            start[idx] = self.dataset.click_offsets[self.dataset.session_idx[new_session]]     # 종료된 세션 대신 새로운 세션의 시작점을 기록합니다.\n",
    "            end[idx] = self.dataset.click_offsets[self.dataset.session_idx[new_session] + 1]\n",
    "\n",
    "        last_session += len(mask)  # 마지막 세션의 위치를 기록해둡니다.\n",
    "        return start, end, mask, last_session, finished"
   ]
  },
  {
   "cell_type": "code",
   "execution_count": 32,
   "id": "c7a67bfc",
   "metadata": {},
   "outputs": [
    {
     "data": {
      "text/html": [
       "<div>\n",
       "<style scoped>\n",
       "    .dataframe tbody tr th:only-of-type {\n",
       "        vertical-align: middle;\n",
       "    }\n",
       "\n",
       "    .dataframe tbody tr th {\n",
       "        vertical-align: top;\n",
       "    }\n",
       "\n",
       "    .dataframe thead th {\n",
       "        text-align: right;\n",
       "    }\n",
       "</style>\n",
       "<table border=\"1\" class=\"dataframe\">\n",
       "  <thead>\n",
       "    <tr style=\"text-align: right;\">\n",
       "      <th></th>\n",
       "      <th>UserId</th>\n",
       "      <th>ItemId</th>\n",
       "      <th>Rating</th>\n",
       "      <th>Time</th>\n",
       "      <th>item_idx</th>\n",
       "    </tr>\n",
       "  </thead>\n",
       "  <tbody>\n",
       "    <tr>\n",
       "      <th>1000138</th>\n",
       "      <td>6040</td>\n",
       "      <td>858</td>\n",
       "      <td>4</td>\n",
       "      <td>2000-04-25 23:05:32</td>\n",
       "      <td>0</td>\n",
       "    </tr>\n",
       "    <tr>\n",
       "      <th>999873</th>\n",
       "      <td>6040</td>\n",
       "      <td>593</td>\n",
       "      <td>5</td>\n",
       "      <td>2000-04-25 23:05:54</td>\n",
       "      <td>1</td>\n",
       "    </tr>\n",
       "    <tr>\n",
       "      <th>1000153</th>\n",
       "      <td>6040</td>\n",
       "      <td>2384</td>\n",
       "      <td>4</td>\n",
       "      <td>2000-04-25 23:05:54</td>\n",
       "      <td>2</td>\n",
       "    </tr>\n",
       "    <tr>\n",
       "      <th>1000007</th>\n",
       "      <td>6040</td>\n",
       "      <td>1961</td>\n",
       "      <td>4</td>\n",
       "      <td>2000-04-25 23:06:17</td>\n",
       "      <td>3</td>\n",
       "    </tr>\n",
       "    <tr>\n",
       "      <th>1000192</th>\n",
       "      <td>6040</td>\n",
       "      <td>2019</td>\n",
       "      <td>5</td>\n",
       "      <td>2000-04-25 23:06:17</td>\n",
       "      <td>4</td>\n",
       "    </tr>\n",
       "  </tbody>\n",
       "</table>\n",
       "</div>"
      ],
      "text/plain": [
       "         UserId  ItemId  Rating                Time  item_idx\n",
       "1000138    6040     858       4 2000-04-25 23:05:32         0\n",
       "999873     6040     593       5 2000-04-25 23:05:54         1\n",
       "1000153    6040    2384       4 2000-04-25 23:05:54         2\n",
       "1000007    6040    1961       4 2000-04-25 23:06:17         3\n",
       "1000192    6040    2019       5 2000-04-25 23:06:17         4"
      ]
     },
     "execution_count": 32,
     "metadata": {},
     "output_type": "execute_result"
    }
   ],
   "source": [
    "tr_data_loader = SessionDataLoader(tr_dataset, batch_size=4)\n",
    "tr_dataset.df.head()"
   ]
  },
  {
   "cell_type": "code",
   "execution_count": 33,
   "id": "bf051f9c",
   "metadata": {},
   "outputs": [],
   "source": [
    "iter_ex = iter(tr_data_loader)"
   ]
  },
  {
   "cell_type": "code",
   "execution_count": 34,
   "id": "a5c1713f",
   "metadata": {},
   "outputs": [
    {
     "name": "stdout",
     "output_type": "stream",
     "text": [
      "Model Input Item Idx are : [  0  53 106 210]\n",
      "Label Item Idx are :       [  1  54 177 211]\n",
      "Previous Masked Input Idx are []\n"
     ]
    }
   ],
   "source": [
    "inputs, labels, mask =  next(iter_ex)\n",
    "print(f'Model Input Item Idx are : {inputs}')\n",
    "print(f'Label Item Idx are : {\"\":5} {labels}')\n",
    "print(f'Previous Masked Input Idx are {mask}')"
   ]
  },
  {
   "cell_type": "markdown",
   "id": "5d05b885",
   "metadata": {},
   "source": [
    "## Step 3. 모델 구성\n"
   ]
  },
  {
   "cell_type": "markdown",
   "id": "de5a7594",
   "metadata": {},
   "source": [
    "### 3.1 Evaluation Metric"
   ]
  },
  {
   "cell_type": "markdown",
   "id": "4d0e3a77",
   "metadata": {},
   "source": [
    "MRR, Recall 함수 구현"
   ]
  },
  {
   "cell_type": "code",
   "execution_count": 35,
   "id": "12a51db2",
   "metadata": {},
   "outputs": [],
   "source": [
    "def mrr_k(pred, truth: int, k: int):\n",
    "    indexing = np.where(pred[:k] == truth)[0]\n",
    "    if len(indexing) > 0:\n",
    "        return 1 / (indexing[0] + 1)\n",
    "    else:\n",
    "        return 0\n",
    "\n",
    "\n",
    "def recall_k(pred, truth: int, k: int) -> int:\n",
    "    answer = truth in pred[:k]\n",
    "    return int(answer)"
   ]
  },
  {
   "cell_type": "markdown",
   "id": "350c4e1b",
   "metadata": {},
   "source": [
    "### 3.2 Model Architecture"
   ]
  },
  {
   "cell_type": "code",
   "execution_count": 36,
   "id": "02b2bd7c",
   "metadata": {},
   "outputs": [],
   "source": [
    "import numpy as np\n",
    "import tensorflow as tf\n",
    "from tensorflow.keras.layers import Input, Dense, Dropout, GRU\n",
    "from tensorflow.keras.losses import categorical_crossentropy\n",
    "from tensorflow.keras.models import Model\n",
    "from tensorflow.keras.optimizers import Adam\n",
    "from tensorflow.keras.utils import to_categorical\n",
    "from tqdm import tqdm"
   ]
  },
  {
   "cell_type": "markdown",
   "id": "cd8cd0c7",
   "metadata": {},
   "source": [
    "모델 만드는 함수"
   ]
  },
  {
   "cell_type": "code",
   "execution_count": 37,
   "id": "6c6adb49",
   "metadata": {},
   "outputs": [],
   "source": [
    "def create_model(args):\n",
    "    inputs = Input(batch_shape=(args.batch_size, 1, args.num_items))\n",
    "    gru, _ = GRU(args.hsz, stateful=True, return_state=True, name='GRU')(inputs)\n",
    "    dropout = Dropout(args.drop_rate)(gru)\n",
    "    predictions = Dense(args.num_items, activation='softmax')(dropout)\n",
    "    model = Model(inputs=inputs, outputs=[predictions])\n",
    "    model.compile(loss=categorical_crossentropy, optimizer=Adam(args.lr), metrics=['accuracy'])\n",
    "    model.summary()\n",
    "    return model"
   ]
  },
  {
   "cell_type": "markdown",
   "id": "215fd2ef",
   "metadata": {},
   "source": [
    "hyper-parameter 관리 Class"
   ]
  },
  {
   "cell_type": "code",
   "execution_count": 38,
   "id": "59c51c5a",
   "metadata": {},
   "outputs": [],
   "source": [
    "class Args:\n",
    "    def __init__(self, tr, val, test, batch_size, hsz, drop_rate, lr, epochs, k):\n",
    "        self.tr = tr\n",
    "        self.val = val\n",
    "        self.test = test\n",
    "        self.num_items = tr['ItemId'].nunique()\n",
    "        self.num_users = tr['UserId'].nunique()\n",
    "        self.batch_size = batch_size\n",
    "        self.hsz = hsz\n",
    "        self.drop_rate = drop_rate\n",
    "        self.lr = lr\n",
    "        self.epochs = epochs\n",
    "        self.k = k\n",
    "\n",
    "# args = Args(tr, val, test, batch_size=256, hsz=50, drop_rate=0.1, lr=0.001, epochs=5, k=20)"
   ]
  },
  {
   "cell_type": "markdown",
   "id": "3c7855b4",
   "metadata": {},
   "source": [
    "훈련 모델 설계"
   ]
  },
  {
   "cell_type": "code",
   "execution_count": 39,
   "id": "fcb21d47",
   "metadata": {},
   "outputs": [],
   "source": [
    "# train 셋으로 학습하면서 valid 셋으로 검증합니다.\n",
    "def train_model(model, args):\n",
    "    train_dataset = SessionDataset(args.tr)\n",
    "    train_loader = SessionDataLoader(train_dataset, batch_size=args.batch_size)\n",
    "\n",
    "    for epoch in range(1, args.epochs + 1):\n",
    "        total_step = len(args.tr) - args.tr['UserId'].nunique()\n",
    "        tr_loader = tqdm(train_loader, total=total_step // args.batch_size, desc='Train', mininterval=1)\n",
    "        for feat, target, mask in tr_loader:\n",
    "            reset_hidden_states(model, mask)  # 종료된 session은 hidden_state를 초기화합니다. 아래 메서드에서 확인해주세요.\n",
    "\n",
    "            input_ohe = to_categorical(feat, num_classes=args.num_items)\n",
    "            input_ohe = np.expand_dims(input_ohe, axis=1)\n",
    "            target_ohe = to_categorical(target, num_classes=args.num_items)\n",
    "\n",
    "            result = model.train_on_batch(input_ohe, target_ohe)\n",
    "            tr_loader.set_postfix(train_loss=result[0], accuracy = result[1])\n",
    "\n",
    "        val_recall, val_mrr = get_metrics(args.val, model, args, args.k)  # valid set에 대해 검증합니다.\n",
    "\n",
    "        print(f\"\\t - Recall@{args.k} epoch {epoch}: {val_recall:3f}\")\n",
    "        print(f\"\\t - MRR@{args.k}    epoch {epoch}: {val_mrr:3f}\\n\")\n",
    "\n",
    "\n",
    "def reset_hidden_states(model, mask):\n",
    "    gru_layer = model.get_layer(name='GRU')  # model에서 gru layer를 가져옵니다.\n",
    "    hidden_states = gru_layer.states[0].numpy()  # gru_layer의 parameter를 가져옵니다.\n",
    "    for elt in mask:  # mask된 인덱스 즉, 종료된 세션의 인덱스를 돌면서\n",
    "        hidden_states[elt, :] = 0  # parameter를 초기화 합니다.\n",
    "    gru_layer.reset_states(states=hidden_states)\n",
    "\n",
    "\n",
    "def get_metrics(data, model, args, k: int):  # valid셋과 test셋을 평가하는 코드입니다. \n",
    "                                             # train과 거의 같지만 mrr, recall을 구하는 라인이 있습니다.\n",
    "    dataset = SessionDataset(data)\n",
    "    loader = SessionDataLoader(dataset, batch_size=args.batch_size)\n",
    "    recall_list, mrr_list = [], []\n",
    "\n",
    "    total_step = len(data) - data['UserId'].nunique()\n",
    "    for inputs, label, mask in tqdm(loader, total=total_step // args.batch_size, desc='Evaluation', mininterval=1):\n",
    "        reset_hidden_states(model, mask)\n",
    "        input_ohe = to_categorical(inputs, num_classes=args.num_items)\n",
    "        input_ohe = np.expand_dims(input_ohe, axis=1)\n",
    "        pred = model.predict(input_ohe, batch_size=args.batch_size)\n",
    "#         pred_arg = tf.nn.top_k(pred, k=124, sorted=True)[1]  # softmax 값이 큰 순서대로 sorting 합니다.\n",
    "        pred_arg = tf.argsort(pred, direction='DESCENDING')\n",
    "    \n",
    "        length = len(inputs)\n",
    "        recall_list.extend([recall_k(pred_arg[i], label[i], k) for i in range(length)])\n",
    "        mrr_list.extend([mrr_k(pred_arg[i], label[i], k) for i in range(length)])\n",
    "\n",
    "    recall, mrr = np.mean(recall_list), np.mean(mrr_list)\n",
    "    return recall, mrr"
   ]
  },
  {
   "cell_type": "code",
   "execution_count": 40,
   "id": "5ad8f55f",
   "metadata": {},
   "outputs": [],
   "source": [
    "def test_model(model, args, test):\n",
    "    test_recall, test_mrr = get_metrics(test, model, args, 20)\n",
    "    print(f\"\\t - Recall@{args.k}: {test_recall:3f}\")\n",
    "    print(f\"\\t - MRR@{args.k}: {test_mrr:3f}\\n\")"
   ]
  },
  {
   "cell_type": "markdown",
   "id": "2c1f6e40",
   "metadata": {},
   "source": [
    "## Step 4. 모델 학습\n",
    "다양한 하이퍼파라미터를 변경해 보며 검증해 보도록 합니다.  \n",
    "실습 코드에 언급되었던 Recall, MRR 등의 개념들도 함께 관리될 수 있도록 합니다."
   ]
  },
  {
   "cell_type": "markdown",
   "id": "073acd1e",
   "metadata": {},
   "source": [
    "첫번째 모델 학습\n",
    "- batch_size=256\n",
    "- hsz=50\n",
    "- drop_rate=0.1\n",
    "- lr=0.001\n",
    "- epochs=10"
   ]
  },
  {
   "cell_type": "code",
   "execution_count": 41,
   "id": "a7de9bde",
   "metadata": {},
   "outputs": [
    {
     "name": "stdout",
     "output_type": "stream",
     "text": [
      "Model: \"model\"\n",
      "_________________________________________________________________\n",
      "Layer (type)                 Output Shape              Param #   \n",
      "=================================================================\n",
      "input_1 (InputLayer)         [(256, 1, 3592)]          0         \n",
      "_________________________________________________________________\n",
      "GRU (GRU)                    [(256, 50), (256, 50)]    546600    \n",
      "_________________________________________________________________\n",
      "dropout (Dropout)            (256, 50)                 0         \n",
      "_________________________________________________________________\n",
      "dense (Dense)                (256, 3592)               183192    \n",
      "=================================================================\n",
      "Total params: 729,792\n",
      "Trainable params: 729,792\n",
      "Non-trainable params: 0\n",
      "_________________________________________________________________\n"
     ]
    },
    {
     "name": "stderr",
     "output_type": "stream",
     "text": [
      "Train:  95%|█████████▌| 3620/3800 [03:28<00:10, 17.33it/s, accuracy=0.00391, train_loss=7.12]\n",
      "Evaluation:  15%|█▌        | 7/46 [00:10<00:57,  1.47s/it]\n"
     ]
    },
    {
     "name": "stdout",
     "output_type": "stream",
     "text": [
      "\t - Recall@20 epoch 1: 0.042969\n",
      "\t - MRR@20    epoch 1: 0.008116\n",
      "\n"
     ]
    },
    {
     "name": "stderr",
     "output_type": "stream",
     "text": [
      "Train:  95%|█████████▌| 3620/3800 [03:21<00:10, 17.99it/s, accuracy=0.0195, train_loss=6.79] \n",
      "Evaluation:  15%|█▌        | 7/46 [00:09<00:52,  1.34s/it]\n"
     ]
    },
    {
     "name": "stdout",
     "output_type": "stream",
     "text": [
      "\t - Recall@20 epoch 2: 0.066964\n",
      "\t - MRR@20    epoch 2: 0.014359\n",
      "\n"
     ]
    },
    {
     "name": "stderr",
     "output_type": "stream",
     "text": [
      "Train:  95%|█████████▌| 3620/3800 [03:20<00:09, 18.05it/s, accuracy=0.00391, train_loss=6.66]\n",
      "Evaluation:  15%|█▌        | 7/46 [00:09<00:52,  1.34s/it]\n"
     ]
    },
    {
     "name": "stdout",
     "output_type": "stream",
     "text": [
      "\t - Recall@20 epoch 3: 0.078683\n",
      "\t - MRR@20    epoch 3: 0.015701\n",
      "\n"
     ]
    },
    {
     "name": "stderr",
     "output_type": "stream",
     "text": [
      "Train:  95%|█████████▌| 3620/3800 [03:20<00:09, 18.05it/s, accuracy=0.0156, train_loss=6.56] \n",
      "Evaluation:  15%|█▌        | 7/46 [00:09<00:51,  1.33s/it]\n"
     ]
    },
    {
     "name": "stdout",
     "output_type": "stream",
     "text": [
      "\t - Recall@20 epoch 4: 0.085379\n",
      "\t - MRR@20    epoch 4: 0.017336\n",
      "\n"
     ]
    },
    {
     "name": "stderr",
     "output_type": "stream",
     "text": [
      "Train:  95%|█████████▌| 3620/3800 [03:20<00:09, 18.04it/s, accuracy=0.0117, train_loss=6.54] \n",
      "Evaluation:  15%|█▌        | 7/46 [00:09<00:52,  1.35s/it]\n"
     ]
    },
    {
     "name": "stdout",
     "output_type": "stream",
     "text": [
      "\t - Recall@20 epoch 5: 0.082589\n",
      "\t - MRR@20    epoch 5: 0.018667\n",
      "\n"
     ]
    },
    {
     "name": "stderr",
     "output_type": "stream",
     "text": [
      "Train:  95%|█████████▌| 3620/3800 [03:20<00:09, 18.10it/s, accuracy=0.0195, train_loss=6.48] \n",
      "Evaluation:  15%|█▌        | 7/46 [00:09<00:53,  1.37s/it]\n"
     ]
    },
    {
     "name": "stdout",
     "output_type": "stream",
     "text": [
      "\t - Recall@20 epoch 6: 0.088728\n",
      "\t - MRR@20    epoch 6: 0.019748\n",
      "\n"
     ]
    },
    {
     "name": "stderr",
     "output_type": "stream",
     "text": [
      "Train:  95%|█████████▌| 3620/3800 [03:24<00:10, 17.72it/s, accuracy=0.0156, train_loss=6.5]  \n",
      "Evaluation:  15%|█▌        | 7/46 [00:09<00:52,  1.36s/it]\n"
     ]
    },
    {
     "name": "stdout",
     "output_type": "stream",
     "text": [
      "\t - Recall@20 epoch 7: 0.088170\n",
      "\t - MRR@20    epoch 7: 0.021392\n",
      "\n"
     ]
    },
    {
     "name": "stderr",
     "output_type": "stream",
     "text": [
      "Train:  95%|█████████▌| 3620/3800 [03:21<00:10, 17.98it/s, accuracy=0.0195, train_loss=6.45] \n",
      "Evaluation:  15%|█▌        | 7/46 [00:09<00:51,  1.32s/it]\n"
     ]
    },
    {
     "name": "stdout",
     "output_type": "stream",
     "text": [
      "\t - Recall@20 epoch 8: 0.087612\n",
      "\t - MRR@20    epoch 8: 0.020506\n",
      "\n"
     ]
    },
    {
     "name": "stderr",
     "output_type": "stream",
     "text": [
      "Train:  95%|█████████▌| 3620/3800 [03:21<00:10, 17.99it/s, accuracy=0.0195, train_loss=6.5]  \n",
      "Evaluation:  15%|█▌        | 7/46 [00:09<00:53,  1.37s/it]\n"
     ]
    },
    {
     "name": "stdout",
     "output_type": "stream",
     "text": [
      "\t - Recall@20 epoch 9: 0.089286\n",
      "\t - MRR@20    epoch 9: 0.021429\n",
      "\n"
     ]
    },
    {
     "name": "stderr",
     "output_type": "stream",
     "text": [
      "Train:  95%|█████████▌| 3620/3800 [03:23<00:10, 17.77it/s, accuracy=0.0195, train_loss=6.43] \n",
      "Evaluation:  15%|█▌        | 7/46 [00:09<00:51,  1.33s/it]"
     ]
    },
    {
     "name": "stdout",
     "output_type": "stream",
     "text": [
      "\t - Recall@20 epoch 10: 0.090960\n",
      "\t - MRR@20    epoch 10: 0.021163\n",
      "\n"
     ]
    },
    {
     "name": "stderr",
     "output_type": "stream",
     "text": [
      "\n"
     ]
    }
   ],
   "source": [
    "args = Args(tr, val, test, batch_size=256, hsz=50, drop_rate=0.1, lr=0.001, epochs=10, k=20)\n",
    "model = create_model(args)\n",
    "train_model(model, args)"
   ]
  },
  {
   "cell_type": "markdown",
   "id": "cce416ce",
   "metadata": {},
   "source": [
    "두번째 모델 학습\n",
    "- batch_size=256\n",
    "- hsz=100\n",
    "- drop_rate=0.2\n",
    "- lr=0.001\n",
    "- epochs=10"
   ]
  },
  {
   "cell_type": "code",
   "execution_count": 42,
   "id": "60329ebc",
   "metadata": {},
   "outputs": [
    {
     "name": "stdout",
     "output_type": "stream",
     "text": [
      "Model: \"model_1\"\n",
      "_________________________________________________________________\n",
      "Layer (type)                 Output Shape              Param #   \n",
      "=================================================================\n",
      "input_2 (InputLayer)         [(256, 1, 3592)]          0         \n",
      "_________________________________________________________________\n",
      "GRU (GRU)                    [(256, 100), (256, 100)]  1108200   \n",
      "_________________________________________________________________\n",
      "dropout_1 (Dropout)          (256, 100)                0         \n",
      "_________________________________________________________________\n",
      "dense_1 (Dense)              (256, 3592)               362792    \n",
      "=================================================================\n",
      "Total params: 1,470,992\n",
      "Trainable params: 1,470,992\n",
      "Non-trainable params: 0\n",
      "_________________________________________________________________\n"
     ]
    },
    {
     "name": "stderr",
     "output_type": "stream",
     "text": [
      "Train:  95%|█████████▌| 3620/3800 [04:33<00:13, 13.23it/s, accuracy=0.00781, train_loss=6.91]\n",
      "Evaluation:  15%|█▌        | 7/46 [00:10<00:58,  1.51s/it]\n"
     ]
    },
    {
     "name": "stdout",
     "output_type": "stream",
     "text": [
      "\t - Recall@20 epoch 1: 0.056362\n",
      "\t - MRR@20    epoch 1: 0.012778\n",
      "\n"
     ]
    },
    {
     "name": "stderr",
     "output_type": "stream",
     "text": [
      "Train:  95%|█████████▌| 3620/3800 [04:33<00:13, 13.23it/s, accuracy=0.0234, train_loss=6.65] \n",
      "Evaluation:  15%|█▌        | 7/46 [00:09<00:53,  1.38s/it]\n"
     ]
    },
    {
     "name": "stdout",
     "output_type": "stream",
     "text": [
      "\t - Recall@20 epoch 2: 0.074219\n",
      "\t - MRR@20    epoch 2: 0.016362\n",
      "\n"
     ]
    },
    {
     "name": "stderr",
     "output_type": "stream",
     "text": [
      "Train:  95%|█████████▌| 3620/3800 [04:33<00:13, 13.22it/s, accuracy=0.0312, train_loss=6.54] \n",
      "Evaluation:  15%|█▌        | 7/46 [00:09<00:53,  1.38s/it]\n"
     ]
    },
    {
     "name": "stdout",
     "output_type": "stream",
     "text": [
      "\t - Recall@20 epoch 3: 0.078683\n",
      "\t - MRR@20    epoch 3: 0.019070\n",
      "\n"
     ]
    },
    {
     "name": "stderr",
     "output_type": "stream",
     "text": [
      "Train:  95%|█████████▌| 3620/3800 [04:31<00:13, 13.32it/s, accuracy=0.0195, train_loss=6.51] \n",
      "Evaluation:  15%|█▌        | 7/46 [00:09<00:52,  1.35s/it]\n"
     ]
    },
    {
     "name": "stdout",
     "output_type": "stream",
     "text": [
      "\t - Recall@20 epoch 4: 0.090960\n",
      "\t - MRR@20    epoch 4: 0.020209\n",
      "\n"
     ]
    },
    {
     "name": "stderr",
     "output_type": "stream",
     "text": [
      "Train:  95%|█████████▌| 3620/3800 [04:32<00:13, 13.27it/s, accuracy=0.0195, train_loss=6.48] \n",
      "Evaluation:  15%|█▌        | 7/46 [00:09<00:53,  1.38s/it]\n"
     ]
    },
    {
     "name": "stdout",
     "output_type": "stream",
     "text": [
      "\t - Recall@20 epoch 5: 0.093192\n",
      "\t - MRR@20    epoch 5: 0.022051\n",
      "\n"
     ]
    },
    {
     "name": "stderr",
     "output_type": "stream",
     "text": [
      "Train:  95%|█████████▌| 3620/3800 [04:33<00:13, 13.23it/s, accuracy=0.0312, train_loss=6.4]  \n",
      "Evaluation:  15%|█▌        | 7/46 [00:09<00:53,  1.38s/it]\n"
     ]
    },
    {
     "name": "stdout",
     "output_type": "stream",
     "text": [
      "\t - Recall@20 epoch 6: 0.092076\n",
      "\t - MRR@20    epoch 6: 0.021577\n",
      "\n"
     ]
    },
    {
     "name": "stderr",
     "output_type": "stream",
     "text": [
      "Train:  95%|█████████▌| 3620/3800 [04:29<00:13, 13.43it/s, accuracy=0.0312, train_loss=6.37] \n",
      "Evaluation:  15%|█▌        | 7/46 [00:09<00:52,  1.34s/it]\n"
     ]
    },
    {
     "name": "stdout",
     "output_type": "stream",
     "text": [
      "\t - Recall@20 epoch 7: 0.092634\n",
      "\t - MRR@20    epoch 7: 0.022711\n",
      "\n"
     ]
    },
    {
     "name": "stderr",
     "output_type": "stream",
     "text": [
      "Train:  95%|█████████▌| 3620/3800 [04:29<00:13, 13.43it/s, accuracy=0.0469, train_loss=6.3]  \n",
      "Evaluation:  15%|█▌        | 7/46 [00:09<00:51,  1.32s/it]\n"
     ]
    },
    {
     "name": "stdout",
     "output_type": "stream",
     "text": [
      "\t - Recall@20 epoch 8: 0.093750\n",
      "\t - MRR@20    epoch 8: 0.022977\n",
      "\n"
     ]
    },
    {
     "name": "stderr",
     "output_type": "stream",
     "text": [
      "Train:  95%|█████████▌| 3620/3800 [04:30<00:13, 13.40it/s, accuracy=0.0234, train_loss=6.33] \n",
      "Evaluation:  15%|█▌        | 7/46 [00:09<00:54,  1.39s/it]\n"
     ]
    },
    {
     "name": "stdout",
     "output_type": "stream",
     "text": [
      "\t - Recall@20 epoch 9: 0.084263\n",
      "\t - MRR@20    epoch 9: 0.021289\n",
      "\n"
     ]
    },
    {
     "name": "stderr",
     "output_type": "stream",
     "text": [
      "Train:  95%|█████████▌| 3620/3800 [04:30<00:13, 13.40it/s, accuracy=0.00781, train_loss=6.29]\n",
      "Evaluation:  15%|█▌        | 7/46 [00:10<00:56,  1.45s/it]"
     ]
    },
    {
     "name": "stdout",
     "output_type": "stream",
     "text": [
      "\t - Recall@20 epoch 10: 0.092076\n",
      "\t - MRR@20    epoch 10: 0.020950\n",
      "\n"
     ]
    },
    {
     "name": "stderr",
     "output_type": "stream",
     "text": [
      "\n"
     ]
    }
   ],
   "source": [
    "args1 = Args(tr, val, test, batch_size=256, hsz=100, drop_rate=0.2, lr=0.001, epochs=10, k=20)\n",
    "model1 = create_model(args1)\n",
    "train_model(model1, args1)"
   ]
  },
  {
   "cell_type": "markdown",
   "id": "c4d9dbf9",
   "metadata": {},
   "source": [
    "세번째 모델 학습\n",
    "- batch_size=128\n",
    "- hsz=100\n",
    "- drop_rate=0.1\n",
    "- lr=0.001\n",
    "- epochs=10"
   ]
  },
  {
   "cell_type": "code",
   "execution_count": 43,
   "id": "cce6bd26",
   "metadata": {},
   "outputs": [
    {
     "name": "stdout",
     "output_type": "stream",
     "text": [
      "Model: \"model_2\"\n",
      "_________________________________________________________________\n",
      "Layer (type)                 Output Shape              Param #   \n",
      "=================================================================\n",
      "input_3 (InputLayer)         [(128, 1, 3592)]          0         \n",
      "_________________________________________________________________\n",
      "GRU (GRU)                    [(128, 100), (128, 100)]  1108200   \n",
      "_________________________________________________________________\n",
      "dropout_2 (Dropout)          (128, 100)                0         \n",
      "_________________________________________________________________\n",
      "dense_2 (Dense)              (128, 3592)               362792    \n",
      "=================================================================\n",
      "Total params: 1,470,992\n",
      "Trainable params: 1,470,992\n",
      "Non-trainable params: 0\n",
      "_________________________________________________________________\n"
     ]
    },
    {
     "name": "stderr",
     "output_type": "stream",
     "text": [
      "Train:  98%|█████████▊| 7433/7601 [05:48<00:07, 21.33it/s, accuracy=0.00781, train_loss=7.04]\n",
      "Evaluation:  45%|████▍     | 41/92 [00:29<00:36,  1.40it/s]\n"
     ]
    },
    {
     "name": "stdout",
     "output_type": "stream",
     "text": [
      "\t - Recall@20 epoch 1: 0.088986\n",
      "\t - MRR@20    epoch 1: 0.020177\n",
      "\n"
     ]
    },
    {
     "name": "stderr",
     "output_type": "stream",
     "text": [
      "Train:  98%|█████████▊| 7433/7601 [05:45<00:07, 21.49it/s, accuracy=0.0234, train_loss=6.78] \n",
      "Evaluation:  45%|████▍     | 41/92 [00:28<00:35,  1.44it/s]\n"
     ]
    },
    {
     "name": "stdout",
     "output_type": "stream",
     "text": [
      "\t - Recall@20 epoch 2: 0.101372\n",
      "\t - MRR@20    epoch 2: 0.023444\n",
      "\n"
     ]
    },
    {
     "name": "stderr",
     "output_type": "stream",
     "text": [
      "Train:  98%|█████████▊| 7433/7601 [05:47<00:07, 21.37it/s, accuracy=0.0156, train_loss=6.59] \n",
      "Evaluation:  45%|████▍     | 41/92 [00:28<00:35,  1.45it/s]\n"
     ]
    },
    {
     "name": "stdout",
     "output_type": "stream",
     "text": [
      "\t - Recall@20 epoch 3: 0.108422\n",
      "\t - MRR@20    epoch 3: 0.025394\n",
      "\n"
     ]
    },
    {
     "name": "stderr",
     "output_type": "stream",
     "text": [
      "Train:  98%|█████████▊| 7433/7601 [05:43<00:07, 21.64it/s, accuracy=0.0312, train_loss=6.53] \n",
      "Evaluation:  45%|████▍     | 41/92 [00:28<00:34,  1.46it/s]\n"
     ]
    },
    {
     "name": "stdout",
     "output_type": "stream",
     "text": [
      "\t - Recall@20 epoch 4: 0.108994\n",
      "\t - MRR@20    epoch 4: 0.026336\n",
      "\n"
     ]
    },
    {
     "name": "stderr",
     "output_type": "stream",
     "text": [
      "Train:  98%|█████████▊| 7433/7601 [05:44<00:07, 21.61it/s, accuracy=0.0469, train_loss=6.48] \n",
      "Evaluation:  45%|████▍     | 41/92 [00:28<00:35,  1.45it/s]\n"
     ]
    },
    {
     "name": "stdout",
     "output_type": "stream",
     "text": [
      "\t - Recall@20 epoch 5: 0.112233\n",
      "\t - MRR@20    epoch 5: 0.027644\n",
      "\n"
     ]
    },
    {
     "name": "stderr",
     "output_type": "stream",
     "text": [
      "Train:  98%|█████████▊| 7433/7601 [05:44<00:07, 21.55it/s, accuracy=0.0547, train_loss=6.5]  \n",
      "Evaluation:  45%|████▍     | 41/92 [00:28<00:35,  1.43it/s]\n"
     ]
    },
    {
     "name": "stdout",
     "output_type": "stream",
     "text": [
      "\t - Recall@20 epoch 6: 0.113186\n",
      "\t - MRR@20    epoch 6: 0.028566\n",
      "\n"
     ]
    },
    {
     "name": "stderr",
     "output_type": "stream",
     "text": [
      "Train:  98%|█████████▊| 7433/7601 [05:46<00:07, 21.42it/s, accuracy=0.0703, train_loss=6.35] \n",
      "Evaluation:  45%|████▍     | 41/92 [00:28<00:36,  1.41it/s]\n"
     ]
    },
    {
     "name": "stdout",
     "output_type": "stream",
     "text": [
      "\t - Recall@20 epoch 7: 0.112424\n",
      "\t - MRR@20    epoch 7: 0.028211\n",
      "\n"
     ]
    },
    {
     "name": "stderr",
     "output_type": "stream",
     "text": [
      "Train:  98%|█████████▊| 7433/7601 [05:46<00:07, 21.47it/s, accuracy=0.0547, train_loss=6.41] \n",
      "Evaluation:  45%|████▍     | 41/92 [00:28<00:35,  1.45it/s]\n"
     ]
    },
    {
     "name": "stdout",
     "output_type": "stream",
     "text": [
      "\t - Recall@20 epoch 8: 0.108422\n",
      "\t - MRR@20    epoch 8: 0.027639\n",
      "\n"
     ]
    },
    {
     "name": "stderr",
     "output_type": "stream",
     "text": [
      "Train:  98%|█████████▊| 7433/7601 [05:47<00:07, 21.39it/s, accuracy=0.0859, train_loss=6.28] \n",
      "Evaluation:  45%|████▍     | 41/92 [00:28<00:35,  1.43it/s]\n"
     ]
    },
    {
     "name": "stdout",
     "output_type": "stream",
     "text": [
      "\t - Recall@20 epoch 9: 0.108613\n",
      "\t - MRR@20    epoch 9: 0.027811\n",
      "\n"
     ]
    },
    {
     "name": "stderr",
     "output_type": "stream",
     "text": [
      "Train:  98%|█████████▊| 7433/7601 [05:45<00:07, 21.49it/s, accuracy=0.0469, train_loss=6.33] \n",
      "Evaluation:  45%|████▍     | 41/92 [00:28<00:35,  1.43it/s]"
     ]
    },
    {
     "name": "stdout",
     "output_type": "stream",
     "text": [
      "\t - Recall@20 epoch 10: 0.108803\n",
      "\t - MRR@20    epoch 10: 0.027065\n",
      "\n"
     ]
    },
    {
     "name": "stderr",
     "output_type": "stream",
     "text": [
      "\n"
     ]
    }
   ],
   "source": [
    "args2 = Args(tr, val, test, batch_size=128, hsz=100, drop_rate=0.1, lr=0.001, epochs=10, k=20)\n",
    "model2 = create_model(args2)\n",
    "train_model(model2, args2)"
   ]
  },
  {
   "cell_type": "markdown",
   "id": "005a54b8",
   "metadata": {},
   "source": [
    "네번째 모델 학습\n",
    "- batch_size=64\n",
    "- hsz=100\n",
    "- drop_rate=0.2\n",
    "- lr=0.001\n",
    "- epochs=10"
   ]
  },
  {
   "cell_type": "code",
   "execution_count": 44,
   "id": "ffc07608",
   "metadata": {
    "scrolled": false
   },
   "outputs": [
    {
     "name": "stdout",
     "output_type": "stream",
     "text": [
      "Model: \"model_3\"\n",
      "_________________________________________________________________\n",
      "Layer (type)                 Output Shape              Param #   \n",
      "=================================================================\n",
      "input_4 (InputLayer)         [(64, 1, 3592)]           0         \n",
      "_________________________________________________________________\n",
      "GRU (GRU)                    [(64, 100), (64, 100)]    1108200   \n",
      "_________________________________________________________________\n",
      "dropout_3 (Dropout)          (64, 100)                 0         \n",
      "_________________________________________________________________\n",
      "dense_3 (Dense)              (64, 3592)                362792    \n",
      "=================================================================\n",
      "Total params: 1,470,992\n",
      "Trainable params: 1,470,992\n",
      "Non-trainable params: 0\n",
      "_________________________________________________________________\n"
     ]
    },
    {
     "name": "stderr",
     "output_type": "stream",
     "text": [
      "Train:  99%|█████████▉| 15019/15202 [08:13<00:06, 30.40it/s, accuracy=0, train_loss=6.77]     \n",
      "Evaluation:  67%|██████▋   | 124/185 [00:45<00:22,  2.73it/s]\n"
     ]
    },
    {
     "name": "stdout",
     "output_type": "stream",
     "text": [
      "\t - Recall@20 epoch 1: 0.112525\n",
      "\t - MRR@20    epoch 1: 0.025188\n",
      "\n"
     ]
    },
    {
     "name": "stderr",
     "output_type": "stream",
     "text": [
      "Train:  99%|█████████▉| 15019/15202 [08:06<00:05, 30.90it/s, accuracy=0.0312, train_loss=6.61]\n",
      "Evaluation:  67%|██████▋   | 124/185 [00:45<00:22,  2.72it/s]\n"
     ]
    },
    {
     "name": "stdout",
     "output_type": "stream",
     "text": [
      "\t - Recall@20 epoch 2: 0.120968\n",
      "\t - MRR@20    epoch 2: 0.029899\n",
      "\n"
     ]
    },
    {
     "name": "stderr",
     "output_type": "stream",
     "text": [
      "Train:  99%|█████████▉| 15019/15202 [08:07<00:05, 30.81it/s, accuracy=0.0156, train_loss=6.47]\n",
      "Evaluation:  67%|██████▋   | 124/185 [00:45<00:22,  2.71it/s]\n"
     ]
    },
    {
     "name": "stdout",
     "output_type": "stream",
     "text": [
      "\t - Recall@20 epoch 3: 0.124244\n",
      "\t - MRR@20    epoch 3: 0.031403\n",
      "\n"
     ]
    },
    {
     "name": "stderr",
     "output_type": "stream",
     "text": [
      "Train:  99%|█████████▉| 15019/15202 [07:58<00:05, 31.38it/s, accuracy=0.0312, train_loss=6.36]\n",
      "Evaluation:  67%|██████▋   | 124/185 [00:44<00:22,  2.77it/s]\n"
     ]
    },
    {
     "name": "stdout",
     "output_type": "stream",
     "text": [
      "\t - Recall@20 epoch 4: 0.125756\n",
      "\t - MRR@20    epoch 4: 0.032751\n",
      "\n"
     ]
    },
    {
     "name": "stderr",
     "output_type": "stream",
     "text": [
      "Train:  99%|█████████▉| 15019/15202 [07:56<00:05, 31.49it/s, accuracy=0.0312, train_loss=6.32]\n",
      "Evaluation:  67%|██████▋   | 124/185 [00:45<00:22,  2.72it/s]\n"
     ]
    },
    {
     "name": "stdout",
     "output_type": "stream",
     "text": [
      "\t - Recall@20 epoch 5: 0.125504\n",
      "\t - MRR@20    epoch 5: 0.032867\n",
      "\n"
     ]
    },
    {
     "name": "stderr",
     "output_type": "stream",
     "text": [
      "Train:  99%|█████████▉| 15019/15202 [07:56<00:05, 31.53it/s, accuracy=0.0312, train_loss=6.35]\n",
      "Evaluation:  67%|██████▋   | 124/185 [00:45<00:22,  2.73it/s]\n"
     ]
    },
    {
     "name": "stdout",
     "output_type": "stream",
     "text": [
      "\t - Recall@20 epoch 6: 0.127646\n",
      "\t - MRR@20    epoch 6: 0.033249\n",
      "\n"
     ]
    },
    {
     "name": "stderr",
     "output_type": "stream",
     "text": [
      "Train:  99%|█████████▉| 15019/15202 [07:55<00:05, 31.56it/s, accuracy=0.0312, train_loss=6.28]\n",
      "Evaluation:  67%|██████▋   | 124/185 [00:45<00:22,  2.75it/s]\n"
     ]
    },
    {
     "name": "stdout",
     "output_type": "stream",
     "text": [
      "\t - Recall@20 epoch 7: 0.125126\n",
      "\t - MRR@20    epoch 7: 0.032849\n",
      "\n"
     ]
    },
    {
     "name": "stderr",
     "output_type": "stream",
     "text": [
      "Train:  99%|█████████▉| 15019/15202 [07:56<00:05, 31.52it/s, accuracy=0.0156, train_loss=6.16]\n",
      "Evaluation:  67%|██████▋   | 124/185 [00:45<00:22,  2.73it/s]\n"
     ]
    },
    {
     "name": "stdout",
     "output_type": "stream",
     "text": [
      "\t - Recall@20 epoch 8: 0.126008\n",
      "\t - MRR@20    epoch 8: 0.033050\n",
      "\n"
     ]
    },
    {
     "name": "stderr",
     "output_type": "stream",
     "text": [
      "Train:  99%|█████████▉| 15019/15202 [08:04<00:05, 31.00it/s, accuracy=0.0312, train_loss=6.12]\n",
      "Evaluation:  67%|██████▋   | 124/185 [00:47<00:23,  2.63it/s]\n"
     ]
    },
    {
     "name": "stdout",
     "output_type": "stream",
     "text": [
      "\t - Recall@20 epoch 9: 0.126260\n",
      "\t - MRR@20    epoch 9: 0.032988\n",
      "\n"
     ]
    },
    {
     "name": "stderr",
     "output_type": "stream",
     "text": [
      "Train:  99%|█████████▉| 15019/15202 [08:06<00:05, 30.90it/s, accuracy=0.0312, train_loss=6.18]\n",
      "Evaluation:  67%|██████▋   | 124/185 [00:44<00:22,  2.77it/s]"
     ]
    },
    {
     "name": "stdout",
     "output_type": "stream",
     "text": [
      "\t - Recall@20 epoch 10: 0.125630\n",
      "\t - MRR@20    epoch 10: 0.032901\n",
      "\n"
     ]
    },
    {
     "name": "stderr",
     "output_type": "stream",
     "text": [
      "\n"
     ]
    }
   ],
   "source": [
    "args3 = Args(tr, val, test, batch_size=64, hsz=100, drop_rate=0.2, lr=0.001, epochs=10, k=20)\n",
    "model3 = create_model(args3)\n",
    "train_model(model3, args3)"
   ]
  },
  {
   "cell_type": "markdown",
   "id": "22727fe0",
   "metadata": {},
   "source": [
    "### **Step 5. 모델 테스트**\n",
    "\n",
    "---\n",
    "\n",
    "**미리 구성한 테스트셋을 바탕으로 Recall, MRR 을 확인해 봅니다.**"
   ]
  },
  {
   "cell_type": "markdown",
   "id": "8aabd316",
   "metadata": {},
   "source": [
    "첫번째 모델 평가\n",
    "- batch_size=256\n",
    "- hsz=50\n",
    "- drop_rate=0.1\n",
    "- lr=0.001\n",
    "- epochs=10"
   ]
  },
  {
   "cell_type": "code",
   "execution_count": 45,
   "id": "e77cfc64",
   "metadata": {},
   "outputs": [
    {
     "name": "stderr",
     "output_type": "stream",
     "text": [
      "Evaluation:   6%|▌         | 2/33 [00:02<00:42,  1.39s/it]"
     ]
    },
    {
     "name": "stdout",
     "output_type": "stream",
     "text": [
      "\t - Recall@20: 0.085938\n",
      "\t - MRR@20: 0.018114\n",
      "\n"
     ]
    },
    {
     "name": "stderr",
     "output_type": "stream",
     "text": [
      "\n"
     ]
    }
   ],
   "source": [
    "test_model(model, args, test)"
   ]
  },
  {
   "cell_type": "markdown",
   "id": "35db24b5",
   "metadata": {},
   "source": [
    "두번째 모델 평가\n",
    "- batch_size=256, hsz=100, drop_rate=0.2, lr=0.001, epochs=10\n",
    "- hsz 2배로 늘였으나 Recall은 그댈로 MRR이 조금 높아지는 정도"
   ]
  },
  {
   "cell_type": "code",
   "execution_count": 46,
   "id": "5693c48c",
   "metadata": {},
   "outputs": [
    {
     "name": "stderr",
     "output_type": "stream",
     "text": [
      "Evaluation:   6%|▌         | 2/33 [00:02<00:41,  1.32s/it]"
     ]
    },
    {
     "name": "stdout",
     "output_type": "stream",
     "text": [
      "\t - Recall@20: 0.085938\n",
      "\t - MRR@20: 0.020381\n",
      "\n"
     ]
    },
    {
     "name": "stderr",
     "output_type": "stream",
     "text": [
      "\n"
     ]
    }
   ],
   "source": [
    "test_model(model1, args1, test)"
   ]
  },
  {
   "cell_type": "markdown",
   "id": "745a5b2f",
   "metadata": {},
   "source": [
    "세번째 모델 평가\n",
    "- batch_size=128, hsz=100, drop_rate=0.1, lr=0.001, epochs=10\n",
    "- batch_size를 반으로 죽였더니 확연히 차이가 나는 것은 아니지만 조금 좋아진건가?"
   ]
  },
  {
   "cell_type": "code",
   "execution_count": 47,
   "id": "2f44c992",
   "metadata": {},
   "outputs": [
    {
     "name": "stderr",
     "output_type": "stream",
     "text": [
      "Evaluation:  36%|███▋      | 24/66 [00:16<00:28,  1.47it/s]"
     ]
    },
    {
     "name": "stdout",
     "output_type": "stream",
     "text": [
      "\t - Recall@20: 0.127279\n",
      "\t - MRR@20: 0.032662\n",
      "\n"
     ]
    },
    {
     "name": "stderr",
     "output_type": "stream",
     "text": [
      "\n"
     ]
    }
   ],
   "source": [
    "test_model(model2, args2, test)"
   ]
  },
  {
   "cell_type": "markdown",
   "id": "30607ea2",
   "metadata": {},
   "source": [
    "네번째 모델 평가\n",
    "- batch_size=64, hsz=100, drop_rate=0.2, lr=0.001, epochs=10\n",
    "- 이게 좋아진건지..."
   ]
  },
  {
   "cell_type": "code",
   "execution_count": 48,
   "id": "8feded6f",
   "metadata": {},
   "outputs": [
    {
     "name": "stderr",
     "output_type": "stream",
     "text": [
      "Evaluation:  59%|█████▉    | 78/132 [00:28<00:19,  2.78it/s]"
     ]
    },
    {
     "name": "stdout",
     "output_type": "stream",
     "text": [
      "\t - Recall@20: 0.137821\n",
      "\t - MRR@20: 0.037799\n",
      "\n"
     ]
    },
    {
     "name": "stderr",
     "output_type": "stream",
     "text": [
      "\n"
     ]
    }
   ],
   "source": [
    "test_model(model3, args3, test)"
   ]
  },
  {
   "cell_type": "markdown",
   "id": "5ca22368",
   "metadata": {},
   "source": [
    "## 회고\n",
    "- 이번 프로젝트에서 **어려웠던 점**\n",
    "    - 모든 것을 노드 따라서 했는 데, 훈련 중 멈춰서 당황\n",
    "    -  batch_size를 조정하니 훈련이 되었음..\n",
    "    - 아마 Session-Parallel Mini-Batches 때문이라고 짐작만 함\n",
    "- 프로젝트를 진행하면서 **알아낸 점**\n",
    "    - GRU4REC 모델에 대해 조금..\n",
    "- 프로젝트를 진행하면서 **모호한 점**\n",
    "    - recall, rmm을 가지고 평가를 하라고 하는 데, 정확히 어떤 것이 좋은 건지 모르겠다.\n",
    "    - recall의 값이 높아지는 것이 좋은 것인가?? -> 찾아보니 precision과 같이 봐야 한다고 하는 데\n",
    "    - 논문을 읽어도 잘 모르겠다...\n",
    "    \n",
    "\n",
    "실력이 늘어나는 것이 아니라 복붙하는 손만 바빠진 것 같아서.. 슬프네요...😭😭😭"
   ]
  }
 ],
 "metadata": {
  "kernelspec": {
   "display_name": "Python 3 (ipykernel)",
   "language": "python",
   "name": "python3"
  },
  "language_info": {
   "codemirror_mode": {
    "name": "ipython",
    "version": 3
   },
   "file_extension": ".py",
   "mimetype": "text/x-python",
   "name": "python",
   "nbconvert_exporter": "python",
   "pygments_lexer": "ipython3",
   "version": "3.9.7"
  }
 },
 "nbformat": 4,
 "nbformat_minor": 5
}
